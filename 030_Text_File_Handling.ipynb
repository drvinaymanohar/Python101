{
 "cells": [
  {
   "cell_type": "markdown",
   "metadata": {
    "id": "5Ju3U-XaIYqV"
   },
   "source": [
    "#### Text File (.txt) Handling in Python\n",
    "\n",
    "* Data file handling is an important programming aspect for almost all programming languages.\n",
    "* We need data to be written, modified, deleted and read from a physical storage like a disk by using a programming language. This is quite helpful in storing data for future use.\n",
    "* Python too provides several features to perform various operations on disk files using built-in funtions.\n",
    "\n",
    "\n",
    "#### Opening data files\n",
    "* The **open()** methods is the key method that is used to open a file on a disk for various operations.\n",
    "\n",
    "\n",
    "#### Python uses various modes for opeing a datafile\n",
    "\n",
    "* The **open()** returns a file object, and is most commonly used with two arguments: **open(filename, mode)**.\n",
    "\n",
    "* There are four different modes for opening a data file\n",
    "    * \"x\" - Create - Creates the specified file, returns an error if the file exists\n",
    "    * \"r\" - Read - Default value. Opens a file for reading, error if the file does not exist\n",
    "    * \"w\" - Write - Opens a file for writing,</br>\n",
    "            - creates the file if it does not exist.</br>\n",
    "            - if exists, Erases previous data</br>\n",
    "    * \"a\" - Append - Opens a file for appending,</br>\n",
    "            - creates the file if it does not exist.</br>\n",
    "            - if exists, Does not eraase previous data,</br>\n",
    "            - Instead, it will add new line to the end of the existing content</br>\n",
    "    "
   ]
  },
  {
   "cell_type": "markdown",
   "metadata": {
    "id": "XOM1T1cMMoOs"
   },
   "source": [
    "#### Opening a datafile for writing\n",
    "\n",
    "\n",
    "* In the following example we are going to use the **'w'** mode with **open()** function to create a data file **data.txt** in the location\n",
    "* When we use the **w** mode a new file is created that replaces the previous file and now we can use the **write()** function write in to the file.\n",
    "* The write() function writes strings (or a set of ASCII charecters) in the file, which we can see by double clicking the file at its location.\n",
    "* After writing it is mandatory to close the file handle by using the **close()** function.\n",
    "* The two functions write() and close() are member functions to the **file** object created by us."
   ]
  },
  {
   "cell_type": "code",
   "execution_count": 1,
   "metadata": {},
   "outputs": [],
   "source": [
    "import os"
   ]
  },
  {
   "cell_type": "code",
   "execution_count": 2,
   "metadata": {},
   "outputs": [],
   "source": [
    "os.mkdir('text_file_data')"
   ]
  },
  {
   "cell_type": "code",
   "execution_count": 5,
   "metadata": {
    "id": "YIHEExUmLEUp"
   },
   "outputs": [],
   "source": [
    "# try to write \"Hello\" into data.txt\n",
    "\n",
    "file = open('text_file_data/data.txt','w')\n",
    "\n",
    "file.write('Hello Sruthi')\n",
    "\n",
    "file.close()"
   ]
  },
  {
   "cell_type": "code",
   "execution_count": 6,
   "metadata": {},
   "outputs": [],
   "source": [
    "# try again\n",
    "file = open('text_file_data/data.txt','w')\n",
    "\n",
    "file.write('Hello Sanjay')\n",
    "\n",
    "file.close()"
   ]
  },
  {
   "cell_type": "code",
   "execution_count": 9,
   "metadata": {},
   "outputs": [],
   "source": [
    "# Writing Multiple Lines\n",
    "\n",
    "file = open('text_file_data/data.txt','w')\n",
    "\n",
    "file.write('Hi Vinay\\n')\n",
    "file.write('How are you?\\n')\n",
    "file.write('Everything is going well\\n')\n",
    "\n",
    "file.close()"
   ]
  },
  {
   "cell_type": "markdown",
   "metadata": {
    "id": "driUMazzNRqz"
   },
   "source": [
    "#### Opening the file for reading"
   ]
  },
  {
   "cell_type": "code",
   "execution_count": 12,
   "metadata": {
    "colab": {
     "base_uri": "https://localhost:8080/",
     "height": 50
    },
    "id": "Kwb9onHYL4TR",
    "outputId": "5e30654e-ff86-4f2d-914e-85c3a9b31d30"
   },
   "outputs": [
    {
     "name": "stdout",
     "output_type": "stream",
     "text": [
      "Hi Vinay\n",
      "How are you?\n",
      "Everything is going well\n",
      "\n"
     ]
    }
   ],
   "source": [
    "# file - file object\n",
    "file = open('text_file_data/data.txt','r')\n",
    "\n",
    "# read the object and pass to variable\n",
    "content = file.read()\n",
    "\n",
    "#print variable\n",
    "print(content)\n",
    "\n",
    "# close the file object\n",
    "file.close()"
   ]
  },
  {
   "cell_type": "markdown",
   "metadata": {
    "id": "bfTN_juPPVc7"
   },
   "source": [
    "#### Using the append or **a** mode for adding information to the end of the file"
   ]
  },
  {
   "cell_type": "code",
   "execution_count": 13,
   "metadata": {},
   "outputs": [
    {
     "name": "stdout",
     "output_type": "stream",
     "text": [
      "Hi Vinay\n",
      "How are you?\n",
      "Everything is going well\n",
      "Welcome to Python Programming\n",
      "hello\n",
      "\n"
     ]
    }
   ],
   "source": [
    "# Appending\n",
    "file = open('text_file_data/data.txt','a')\n",
    "file.write('Welcome to Python Programming\\n')\n",
    "file.write('hello\\n')\n",
    "file.close()\n",
    "\n",
    "\n",
    "\n",
    "# Reading\n",
    "file = open('text_file_data/data.txt','r')\n",
    "content = file.read()\n",
    "print(content)\n",
    "file.close()"
   ]
  },
  {
   "cell_type": "markdown",
   "metadata": {
    "id": "ohn2Su1ITWfI"
   },
   "source": [
    "#### Reading line by line using readline() and readlines() function\n",
    "* We can read one line at a time by using the **readline()** or **readlines()** functions.\n",
    "\n",
    "#### Using readline() function\n",
    "* The call of readline() function will read one line at a time and store that line as a **string** as illustrated below"
   ]
  },
  {
   "cell_type": "code",
   "execution_count": 14,
   "metadata": {
    "colab": {
     "base_uri": "https://localhost:8080/",
     "height": 84
    },
    "id": "-tc4RT2GTG4F",
    "outputId": "b5295475-8ccf-434f-a4a7-5ec064c8d3bc"
   },
   "outputs": [
    {
     "name": "stdout",
     "output_type": "stream",
     "text": [
      "Hi Vinay\n",
      "\n"
     ]
    }
   ],
   "source": [
    "file = open('text_file_data/data.txt','r')\n",
    "\n",
    "content = file.readline() # Reading a single line as a string\n",
    "print(content)\n",
    "\n",
    "file.close()"
   ]
  },
  {
   "cell_type": "code",
   "execution_count": 16,
   "metadata": {},
   "outputs": [
    {
     "name": "stdout",
     "output_type": "stream",
     "text": [
      "Hi Vinay\n",
      "\n"
     ]
    }
   ],
   "source": [
    "file = open('text_file_data/data.txt','r')\n",
    "\n",
    "res = file.readline(100) # Reading characters for line\n",
    "print(res)\n",
    "\n",
    "file.close()"
   ]
  },
  {
   "cell_type": "markdown",
   "metadata": {
    "id": "P-x_hBWQV3dF"
   },
   "source": [
    "#### Using readlines() to read all the lines\n",
    "\n",
    "* readlines() can be usied to read all the lines from a file but the extracted data is in the form of as **list of strings** as illustrated below"
   ]
  },
  {
   "cell_type": "code",
   "execution_count": 17,
   "metadata": {},
   "outputs": [
    {
     "name": "stdout",
     "output_type": "stream",
     "text": [
      "['Hi Vinay\\n', 'How are you?\\n', 'Everything is going well\\n', 'Welcome to Python Programming\\n', 'hello\\n']\n"
     ]
    }
   ],
   "source": [
    "file = open('text_file_data/data.txt','r')\n",
    "\n",
    "\n",
    "content = file.readlines()\n",
    "\n",
    "\n",
    "print(content)"
   ]
  },
  {
   "cell_type": "code",
   "execution_count": 22,
   "metadata": {},
   "outputs": [
    {
     "name": "stdout",
     "output_type": "stream",
     "text": [
      "hello\n",
      "\n"
     ]
    }
   ],
   "source": [
    "print(content[-1])"
   ]
  },
  {
   "cell_type": "code",
   "execution_count": 23,
   "metadata": {},
   "outputs": [],
   "source": [
    "file.close()"
   ]
  },
  {
   "cell_type": "markdown",
   "metadata": {},
   "source": [
    "#### Insert Lines in between"
   ]
  },
  {
   "cell_type": "code",
   "execution_count": 25,
   "metadata": {},
   "outputs": [
    {
     "data": {
      "text/plain": [
       "['Hi Vinay\\n',\n",
       " 'How are you?\\n',\n",
       " 'Everything is going well\\n',\n",
       " 'Welcome to Python Programming\\n',\n",
       " 'hello\\n']"
      ]
     },
     "execution_count": 25,
     "metadata": {},
     "output_type": "execute_result"
    }
   ],
   "source": [
    "# Open the file and read all lines into a list\n",
    "with open('text_file_data/data.txt', 'r') as file:\n",
    "    content = file.readlines()\n",
    "\n",
    "content"
   ]
  },
  {
   "cell_type": "code",
   "execution_count": 26,
   "metadata": {},
   "outputs": [
    {
     "data": {
      "text/plain": [
       "['Hi Vinay\\n',\n",
       " 'How are you?\\n',\n",
       " 'Everything is going well\\n',\n",
       " 'I am newbie to Python\\n',\n",
       " 'Welcome to Python Programming\\n',\n",
       " 'hello\\n']"
      ]
     },
     "execution_count": 26,
     "metadata": {},
     "output_type": "execute_result"
    }
   ],
   "source": [
    "\n",
    "# Insert the new line at the desired position (e.g., line 2)\n",
    "content.insert(3, \"I am newbie to Python\\n\")\n",
    "content"
   ]
  },
  {
   "cell_type": "code",
   "execution_count": 28,
   "metadata": {},
   "outputs": [
    {
     "name": "stdout",
     "output_type": "stream",
     "text": [
      "['Hi Vinay\\n', 'How are you?\\n', 'Everything is going well\\n', 'I am newbie to Python\\n', 'Welcome to Python Programming\\n', 'hello\\n']\n"
     ]
    }
   ],
   "source": [
    "# Write the modified content back to the file\n",
    "with open('text_file_data/data.txt', 'w') as file:\n",
    "    file.writelines(content)\n",
    "    print(content)"
   ]
  },
  {
   "cell_type": "code",
   "execution_count": 29,
   "metadata": {},
   "outputs": [
    {
     "name": "stdout",
     "output_type": "stream",
     "text": [
      "Hi Vinay\n",
      "How are you?\n",
      "Everything is going well\n",
      "I am newbie to Python\n",
      "Welcome to Python Programming\n",
      "hello\n",
      "\n"
     ]
    }
   ],
   "source": [
    "# Reopen the file to read and print the final content\n",
    "with open('text_file_data/data.txt', 'r') as file:\n",
    "    final_content = file.read()\n",
    "    print(final_content)"
   ]
  },
  {
   "cell_type": "markdown",
   "metadata": {
    "id": "2df5sp2CWmZT"
   },
   "source": [
    "#### Alternative way of reading lines using for loop"
   ]
  },
  {
   "cell_type": "code",
   "execution_count": 30,
   "metadata": {
    "colab": {
     "base_uri": "https://localhost:8080/",
     "height": 134
    },
    "id": "7k5mQROEWWku",
    "outputId": "e274a2ec-d745-4f2f-ae05-1467c348a368"
   },
   "outputs": [
    {
     "name": "stdout",
     "output_type": "stream",
     "text": [
      "Hi Vinay\n",
      "\n",
      "How are you?\n",
      "\n",
      "Everything is going well\n",
      "\n",
      "I am newbie to Python\n",
      "\n",
      "Welcome to Python Programming\n",
      "\n",
      "hello\n",
      "\n"
     ]
    }
   ],
   "source": [
    "file = open('text_file_data/data.txt','r')\n",
    "\n",
    "for line in file:\n",
    "    print(line)\n",
    "    \n",
    "file.close()"
   ]
  },
  {
   "cell_type": "markdown",
   "metadata": {
    "id": "X9M3a8-nXK65"
   },
   "source": [
    "#### Using `with` keyword to open a datafile\n",
    "* It is good practice to use the **with** keyword when dealing with file objects."
   ]
  },
  {
   "cell_type": "code",
   "execution_count": 31,
   "metadata": {
    "colab": {
     "base_uri": "https://localhost:8080/",
     "height": 34
    },
    "id": "7DdLlrV9W1JU",
    "outputId": "9f0b3090-2994-4a22-934f-ecb7d7baabfc"
   },
   "outputs": [
    {
     "name": "stdout",
     "output_type": "stream",
     "text": [
      "Hi Vinay\n",
      "How are you?\n",
      "Everything is going well\n",
      "I am newbie to Python\n",
      "Welcome to Python Programming\n",
      "hello\n",
      "\n"
     ]
    }
   ],
   "source": [
    "with open('text_file_data/data.txt','r') as file:\n",
    "    content = file.read()\n",
    "    print(content)"
   ]
  },
  {
   "cell_type": "code",
   "execution_count": 32,
   "metadata": {},
   "outputs": [],
   "source": [
    "with open('text_file_data/data.txt','a') as file:\n",
    "    file.write('Almost you have finished Level-1\\n')"
   ]
  },
  {
   "cell_type": "code",
   "execution_count": 33,
   "metadata": {},
   "outputs": [
    {
     "name": "stdout",
     "output_type": "stream",
     "text": [
      "Hi Vinay\n",
      "How are you?\n",
      "Everything is going well\n",
      "I am newbie to Python\n",
      "Welcome to Python Programming\n",
      "hello\n",
      "Almost you have finished Level-1\n",
      "\n"
     ]
    }
   ],
   "source": [
    "with open('text_file_data/data.txt','r') as file:\n",
    "    content = file.read()\n",
    "    print(content)"
   ]
  },
  {
   "cell_type": "markdown",
   "metadata": {
    "id": "_OrV2yYDZCsz"
   },
   "source": [
    "#### Reading and Writing together"
   ]
  },
  {
   "cell_type": "markdown",
   "metadata": {},
   "source": [
    "`r+` - This mode is useful when you want to read the existing content, make changes to specific parts of the file, and write new data without losing the existing content entirely.\n",
    "\n",
    "\n",
    "`w+` - This mode is useful when you want to replace the entire content of a file with new data and then read or verify the written content.\n",
    "\n",
    "`a+` - This mode is useful when you want to add new data to the end of a file (such as logging information) and still be able to read the entire content.\n"
   ]
  },
  {
   "cell_type": "code",
   "execution_count": 34,
   "metadata": {},
   "outputs": [
    {
     "name": "stdout",
     "output_type": "stream",
     "text": [
      "Hi Vinay\n",
      "How are you?\n",
      "Everything is going well\n",
      "I am newbie to Python\n",
      "Welcome to Python Programming\n",
      "hello\n",
      "Almost you have finished Level-1\n",
      "\n",
      "Hi Vinay\n",
      "How are you?\n",
      "Everything is going well\n",
      "I am newbie to Python\n",
      "Welcome to Python Programming\n",
      "hello\n",
      "Almost you have finished Level-1\n",
      "You are Certified with Level-1 Python Programming\n"
     ]
    }
   ],
   "source": [
    "with open('text_file_data/data.txt', 'a+') as file:\n",
    "\n",
    "\n",
    "\n",
    "    # Read the current contents\n",
    "    # file.seek(0) is used to move the pointer to the beginning of the file before reading, ensuring you get the full file content.\n",
    "    \n",
    "    file.seek(0)\n",
    "\n",
    "    content = file.read()\n",
    "\n",
    "    print(content)\n",
    "    \n",
    "    # write\n",
    "    file.write(\"You are Certified with Level-1 Python Programming\")\n",
    "\n",
    "    file.seek(0)\n",
    "\n",
    "    updated_content = file.read()\n",
    "    \n",
    "    print(updated_content)\n"
   ]
  },
  {
   "cell_type": "code",
   "execution_count": 36,
   "metadata": {},
   "outputs": [
    {
     "name": "stdout",
     "output_type": "stream",
     "text": [
      "4 x 1 = 4\n",
      "4 x 2 = 8\n",
      "4 x 3 = 12\n",
      "4 x 4 = 16\n",
      "4 x 5 = 20\n",
      "4 x 6 = 24\n",
      "4 x 7 = 28\n",
      "4 x 8 = 32\n",
      "4 x 9 = 36\n",
      "4 x 10 = 40\n"
     ]
    }
   ],
   "source": [
    "val = int(input(\"Enter Value to Generate Multiplication Table\"))\n",
    "\n",
    "for i in range(1,11):\n",
    "    print(f'{val} x {i} = {val * i}')"
   ]
  },
  {
   "cell_type": "markdown",
   "metadata": {},
   "source": [
    "#### Task Create Multiplication table and write tables in text file"
   ]
  },
  {
   "cell_type": "code",
   "execution_count": 37,
   "metadata": {},
   "outputs": [],
   "source": [
    "with open('text_file_data/multiplication.txt', 'a+') as file:\n",
    "    num = int(input('Enter Number:: '))\n",
    "    \n",
    "    for i in range(1,11):\n",
    "        text = f'{num} x {i} = {num*i}\\n'\n",
    "        file.write(text)"
   ]
  },
  {
   "cell_type": "code",
   "execution_count": null,
   "metadata": {},
   "outputs": [],
   "source": [
    "# logging of the output"
   ]
  },
  {
   "cell_type": "code",
   "execution_count": 40,
   "metadata": {},
   "outputs": [],
   "source": [
    "import random\n",
    "with open('text_file_data/random_values1.txt', 'a+') as file:\n",
    "    for i in range(50):\n",
    "        temp_random = random.randint(1, 100)\n",
    "        text = f'{temp_random}\\n'\n",
    "        file.write(text)"
   ]
  },
  {
   "cell_type": "code",
   "execution_count": null,
   "metadata": {},
   "outputs": [],
   "source": [
    "# logging of the output"
   ]
  }
 ],
 "metadata": {
  "colab": {
   "provenance": []
  },
  "kernelspec": {
   "display_name": "base",
   "language": "python",
   "name": "python3"
  },
  "language_info": {
   "codemirror_mode": {
    "name": "ipython",
    "version": 3
   },
   "file_extension": ".py",
   "mimetype": "text/x-python",
   "name": "python",
   "nbconvert_exporter": "python",
   "pygments_lexer": "ipython3",
   "version": "3.12.4"
  }
 },
 "nbformat": 4,
 "nbformat_minor": 0
}
