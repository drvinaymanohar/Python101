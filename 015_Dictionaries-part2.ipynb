{
 "cells": [
  {
   "cell_type": "markdown",
   "id": "be83d4e4-1c3d-4ee7-af54-7d9b3ff0ff0f",
   "metadata": {},
   "source": [
    "#### Part 2 Continuation"
   ]
  },
  {
   "cell_type": "raw",
   "id": "f4aa1cf7-9025-4805-9ffd-7411af22e955",
   "metadata": {},
   "source": [
    "Dell {Smartchoice} G15-5530 Core i5-13450HX| NVIDIA RTX 3050, 6GB (16GB RAM|1TB SSD, FHD|Window 11|MS Office' 21|15.6\" (39.62cm)|Dark Shadow Grey|2.65Kg|Gaming Laptop"
   ]
  },
  {
   "cell_type": "code",
   "execution_count": 10,
   "id": "b5efb49a-884a-406e-9206-0d4bf6464b9f",
   "metadata": {},
   "outputs": [],
   "source": [
    "item = {'Dell','G15-5530','i5-13450HX','NVIDIA RTX 3050','6GB'}"
   ]
  },
  {
   "cell_type": "code",
   "execution_count": 11,
   "id": "578a4544-4893-4ad1-ae54-f53cc03cf216",
   "metadata": {},
   "outputs": [
    {
     "data": {
      "text/plain": [
       "set"
      ]
     },
     "execution_count": 11,
     "metadata": {},
     "output_type": "execute_result"
    }
   ],
   "source": [
    "type(item)"
   ]
  },
  {
   "cell_type": "code",
   "execution_count": 12,
   "id": "c4d1b2d4-9aa2-414c-94e7-4b315c9e69bc",
   "metadata": {},
   "outputs": [],
   "source": [
    "item = {\n",
    "    'Company':'Dell',\n",
    "    'Model':'G15-5530',\n",
    "    'CPU':'i5-13450HX',\n",
    "    'GPU':'NVIDIA RTX 3050',\n",
    "    'RAM':'6GB'\n",
    "}"
   ]
  },
  {
   "cell_type": "code",
   "execution_count": 13,
   "id": "47227969-6ea2-4310-a9d8-92b42d6ad767",
   "metadata": {},
   "outputs": [
    {
     "data": {
      "text/plain": [
       "dict"
      ]
     },
     "execution_count": 13,
     "metadata": {},
     "output_type": "execute_result"
    }
   ],
   "source": [
    "type(item)"
   ]
  },
  {
   "cell_type": "code",
   "execution_count": 14,
   "id": "c11bda1c-cec5-40d3-bceb-1f957501895f",
   "metadata": {},
   "outputs": [],
   "source": [
    "emp_primary_info = {\n",
    "    \"name\": \"Vinay\",\n",
    "    \"age\": 32,\n",
    "    \"department\": \"IT\",\n",
    "    \"location\": \"Bangalore\",\n",
    "    \"mail\": \"vinaymanohar.gis@gmail.com\"\n",
    "}"
   ]
  },
  {
   "cell_type": "code",
   "execution_count": 15,
   "id": "79c9f033-23a0-4580-b9a2-8612ecef6ba1",
   "metadata": {},
   "outputs": [
    {
     "name": "stdout",
     "output_type": "stream",
     "text": [
      "{'name': 'Vinay', 'age': 32, 'department': 'IT', 'location': 'Bangalore', 'mail': 'vinaymanohar.gis@gmail.com'}\n"
     ]
    }
   ],
   "source": [
    "print(emp_primary_info)"
   ]
  },
  {
   "cell_type": "code",
   "execution_count": 17,
   "id": "bdc62c19-1aaa-4b74-81e4-eb571ac0e11b",
   "metadata": {},
   "outputs": [],
   "source": [
    "#dir(emp_primary_info)"
   ]
  },
  {
   "cell_type": "code",
   "execution_count": 25,
   "id": "6d76acea-4c0c-4bd5-bf8e-334bae46340a",
   "metadata": {},
   "outputs": [
    {
     "data": {
      "text/plain": [
       "dict_items([('name', 'Vinay'), ('age', 32), ('department', 'IT'), ('location', 'Bangalore'), ('mail', 'vinaymanohar.gis@gmail.com')])"
      ]
     },
     "execution_count": 25,
     "metadata": {},
     "output_type": "execute_result"
    }
   ],
   "source": [
    "emp_primary_info.items()"
   ]
  },
  {
   "cell_type": "code",
   "execution_count": 26,
   "id": "139e53bb-dff2-4b4f-be7e-d3774107e330",
   "metadata": {},
   "outputs": [
    {
     "data": {
      "text/plain": [
       "dict_values(['Vinay', 32, 'IT', 'Bangalore', 'vinaymanohar.gis@gmail.com'])"
      ]
     },
     "execution_count": 26,
     "metadata": {},
     "output_type": "execute_result"
    }
   ],
   "source": [
    "emp_primary_info.values()"
   ]
  },
  {
   "cell_type": "code",
   "execution_count": 27,
   "id": "15d1a5cb-e34f-401c-aee6-579e17afee0a",
   "metadata": {},
   "outputs": [
    {
     "data": {
      "text/plain": [
       "dict_keys(['name', 'age', 'department', 'location', 'mail'])"
      ]
     },
     "execution_count": 27,
     "metadata": {},
     "output_type": "execute_result"
    }
   ],
   "source": [
    "emp_primary_info.keys()"
   ]
  },
  {
   "cell_type": "code",
   "execution_count": 41,
   "id": "e758cb31-f5d0-4e8a-946e-0207a2b889e1",
   "metadata": {},
   "outputs": [
    {
     "name": "stdout",
     "output_type": "stream",
     "text": [
      "Vinay\n",
      "Manohar\n",
      "Swathi\n",
      "Shriya\n"
     ]
    }
   ],
   "source": [
    "# examples with list\n",
    "\n",
    "names = ['Vinay', 'Manohar', 'Swathi', 'Shriya']\n",
    "\n",
    "# iterations\n",
    "\n",
    "for i in names:\n",
    "    print(i)"
   ]
  },
  {
   "cell_type": "code",
   "execution_count": 30,
   "id": "31c33c5c-3103-49a2-a0bb-71ce35121581",
   "metadata": {},
   "outputs": [
    {
     "data": {
      "text/plain": [
       "dict_items([('name', 'Vinay'), ('age', 32), ('department', 'IT'), ('location', 'Bangalore'), ('mail', 'vinaymanohar.gis@gmail.com')])"
      ]
     },
     "execution_count": 30,
     "metadata": {},
     "output_type": "execute_result"
    }
   ],
   "source": [
    "emp_primary_info.items()"
   ]
  },
  {
   "cell_type": "code",
   "execution_count": 34,
   "id": "8f9ff348-27ea-4b06-9cb2-be5933cb5089",
   "metadata": {},
   "outputs": [
    {
     "name": "stdout",
     "output_type": "stream",
     "text": [
      "name\n",
      "age\n",
      "department\n",
      "location\n",
      "mail\n"
     ]
    }
   ],
   "source": [
    "# Basic Iteration with for Loops\n",
    "\n",
    "for i in emp_primary_info:\n",
    "    print(i)"
   ]
  },
  {
   "cell_type": "code",
   "execution_count": 35,
   "id": "836d4b58-15f5-4890-b08a-720c78eb697a",
   "metadata": {},
   "outputs": [
    {
     "name": "stdout",
     "output_type": "stream",
     "text": [
      "name\n",
      "age\n",
      "department\n",
      "location\n",
      "mail\n"
     ]
    }
   ],
   "source": [
    "# basically it will give keys\n",
    "for k in emp_primary_info:\n",
    "    print(k)"
   ]
  },
  {
   "cell_type": "code",
   "execution_count": 50,
   "id": "73badb4c-290d-424e-93c1-c6b3cd3c0f65",
   "metadata": {},
   "outputs": [],
   "source": [
    "emp_primary_info = {\n",
    "    \"name\": \"Vinay\",\n",
    "    \"age\": \"32\",\n",
    "    \"department\": \"IT\",\n",
    "    \"location\": \"Bangalore\",\n",
    "    \"mail\": \"vinaymanohar.gis@gmail.com\"\n",
    "}"
   ]
  },
  {
   "cell_type": "code",
   "execution_count": 53,
   "id": "36b536d4-7b7f-4bb5-9755-d1c6283201dd",
   "metadata": {},
   "outputs": [
    {
     "name": "stdout",
     "output_type": "stream",
     "text": [
      "name Vinay\n",
      "age 32\n",
      "department IT\n",
      "location Bangalore\n",
      "mail vinaymanohar.gis@gmail.com\n"
     ]
    }
   ],
   "source": [
    "#looping with key and value\n",
    "for k, v in emp_primary_info.items():\n",
    "    print(k, v)"
   ]
  },
  {
   "cell_type": "code",
   "execution_count": 54,
   "id": "b0693c7c-0f7b-49c5-bd4a-5e3357f78079",
   "metadata": {},
   "outputs": [
    {
     "name": "stdout",
     "output_type": "stream",
     "text": [
      "Vinay\n",
      "32\n",
      "IT\n",
      "Bangalore\n",
      "vinaymanohar.gis@gmail.com\n"
     ]
    }
   ],
   "source": [
    "#looping with values \n",
    "for value in emp_primary_info.values():\n",
    "    print(value)"
   ]
  },
  {
   "cell_type": "code",
   "execution_count": 55,
   "id": "4394c656-12e3-4205-9d0f-0f69e1305b13",
   "metadata": {},
   "outputs": [
    {
     "name": "stdout",
     "output_type": "stream",
     "text": [
      "name\n",
      "age\n",
      "department\n",
      "location\n",
      "mail\n"
     ]
    }
   ],
   "source": [
    "#looping with Keys\n",
    "for key in emp_primary_info.keys():\n",
    "    print(key)"
   ]
  },
  {
   "cell_type": "code",
   "execution_count": 58,
   "id": "3cd95dd6-2eff-455c-bc27-4ef33a7fc29f",
   "metadata": {},
   "outputs": [],
   "source": [
    "# Nested Dictionaries\n",
    "\n",
    "company = {\n",
    "    \"10000001\": {\n",
    "        \"name\": \"Vinay\",\n",
    "        \"age\": 32,\n",
    "        \"department\": \"IT\"\n",
    "    },\n",
    "    \n",
    "    \"10000002\": {\n",
    "        \"name\": \"Rosy\",\n",
    "        \"age\": 25,\n",
    "        \"department\": \"HR\"\n",
    "    },\n",
    "}"
   ]
  },
  {
   "cell_type": "code",
   "execution_count": 60,
   "id": "8a8448f8-01f4-41ec-86c1-f0f9e57906d6",
   "metadata": {},
   "outputs": [
    {
     "data": {
      "text/plain": [
       "25"
      ]
     },
     "execution_count": 60,
     "metadata": {},
     "output_type": "execute_result"
    }
   ],
   "source": [
    "company['10000002']['age']"
   ]
  },
  {
   "cell_type": "code",
   "execution_count": 62,
   "id": "e883d34f-7088-41dc-a896-d8e2fec9094a",
   "metadata": {},
   "outputs": [
    {
     "name": "stdout",
     "output_type": "stream",
     "text": [
      "Details of 10000001:\n",
      "name: Vinay\n",
      "age: 32\n",
      "department: IT\n",
      "Details of 10000002:\n",
      "name: Rosy\n",
      "age: 25\n",
      "department: HR\n"
     ]
    }
   ],
   "source": [
    "# Iterating Over Nested Dictionaries\n",
    "\n",
    "for empid , empdetails in company.items():\n",
    "    print(f\"Details of {empid}:\")\n",
    "    \n",
    "    for key, value in empdetails.items():\n",
    "        print(f\"{key}: {value}\")"
   ]
  },
  {
   "cell_type": "code",
   "execution_count": 66,
   "id": "ba3406c9-7aba-4f0a-a862-c3285bcbf5dd",
   "metadata": {},
   "outputs": [],
   "source": [
    "# frozen dict\n",
    "# Creating Read-Only Dictionaries\n",
    "# MappingProxyType in Python provides a read-only view of a dictionary. \n",
    "\n",
    "\n",
    "# It essentially creates an immutable proxy for a dictionary, meaning that while you can access the dictionary's contents, you cannot modify them via this proxy.\n",
    "# However, any changes to the original dictionary will be reflected in the proxy, because it still refers to the same underlying dictionary.\n",
    "\n",
    "from types import MappingProxyType\n",
    "\n",
    "# Dictionary containing API credentials\n",
    "kaggle_api_data_access = {\n",
    "    \"data_api_key\": \"fhashdfjkahfjjj43r236472643264783\",\n",
    "    \"data_api_secret\": \"67890xyz\"\n",
    "}"
   ]
  },
  {
   "cell_type": "code",
   "execution_count": null,
   "id": "bf1b0c5b-c933-495e-9179-45bf3c77b9ea",
   "metadata": {},
   "outputs": [],
   "source": [
    "# freeze it, immutable but accessable"
   ]
  },
  {
   "cell_type": "code",
   "execution_count": 68,
   "id": "627a1f45-7079-492e-8d26-b721a821964d",
   "metadata": {},
   "outputs": [],
   "source": [
    "\n",
    "# Creating a read-only version of the API credentials\n",
    "api_protected = MappingProxyType(kaggle_api_data_access)"
   ]
  },
  {
   "cell_type": "code",
   "execution_count": 69,
   "id": "4c0833fc-0429-4c67-823a-afd78c586446",
   "metadata": {},
   "outputs": [
    {
     "data": {
      "text/plain": [
       "mappingproxy({'data_api_key': 'fhashdfjkahfjjj43r236472643264783',\n",
       "              'data_api_secret': '67890xyz'})"
      ]
     },
     "execution_count": 69,
     "metadata": {},
     "output_type": "execute_result"
    }
   ],
   "source": [
    "api_protected"
   ]
  },
  {
   "cell_type": "code",
   "execution_count": 71,
   "id": "b6ac6471-8738-4d57-95aa-fbb47b776240",
   "metadata": {},
   "outputs": [
    {
     "data": {
      "text/plain": [
       "'fhashdfjkahfjjj43r236472643264783'"
      ]
     },
     "execution_count": 71,
     "metadata": {},
     "output_type": "execute_result"
    }
   ],
   "source": [
    "api_protected['data_api_key']"
   ]
  },
  {
   "cell_type": "code",
   "execution_count": 72,
   "id": "cadcba2c-9588-4514-966a-7f94a7c88777",
   "metadata": {},
   "outputs": [
    {
     "name": "stdout",
     "output_type": "stream",
     "text": [
      "fhashdfjkahfjjj43r236472643264783\n"
     ]
    }
   ],
   "source": [
    "a = api_protected['data_api_key']\n",
    "print(a)"
   ]
  },
  {
   "cell_type": "code",
   "execution_count": 73,
   "id": "a99e3eb6-362d-496c-ae41-e18a5a72fc37",
   "metadata": {},
   "outputs": [
    {
     "data": {
      "text/plain": [
       "[0, 1, 2, 3, 4, 5, 6, 7, 8, 9]"
      ]
     },
     "execution_count": 73,
     "metadata": {},
     "output_type": "execute_result"
    }
   ],
   "source": [
    "# List comprehension\n",
    "\n",
    "a = [i for i in range(10)]\n",
    "a"
   ]
  },
  {
   "cell_type": "code",
   "execution_count": 74,
   "id": "d8b348ab-2aa0-43d2-b4b1-a32c802594f1",
   "metadata": {},
   "outputs": [
    {
     "data": {
      "text/plain": [
       "(0, 1, 2, 3, 4, 5, 6, 7, 8, 9)"
      ]
     },
     "execution_count": 74,
     "metadata": {},
     "output_type": "execute_result"
    }
   ],
   "source": [
    "# Tuple comprehension\n",
    "\n",
    "b = tuple(i for i in range(10))\n",
    "b"
   ]
  },
  {
   "cell_type": "code",
   "execution_count": 75,
   "id": "f2a29fe8-1b3e-4f6b-ba1f-716d399c402d",
   "metadata": {},
   "outputs": [
    {
     "data": {
      "text/plain": [
       "{0, 1, 2, 3, 4, 5, 6, 7, 8, 9}"
      ]
     },
     "execution_count": 75,
     "metadata": {},
     "output_type": "execute_result"
    }
   ],
   "source": [
    "# Set comprehension\n",
    "\n",
    "c = set(i for i in range(10))\n",
    "c"
   ]
  },
  {
   "cell_type": "code",
   "execution_count": 76,
   "id": "4b26dcb0-dbe1-4db8-84cb-faa9e0793de0",
   "metadata": {},
   "outputs": [
    {
     "data": {
      "text/plain": [
       "{0: 0, 1: 1, 2: 8, 3: 27, 4: 64, 5: 125, 6: 216, 7: 343, 8: 512, 9: 729}"
      ]
     },
     "execution_count": 76,
     "metadata": {},
     "output_type": "execute_result"
    }
   ],
   "source": [
    "# Dictionary Comprehension\n",
    "\n",
    "test = {i:i**3 for i in range(10)}\n",
    "test"
   ]
  },
  {
   "cell_type": "code",
   "execution_count": 77,
   "id": "4861bb19-f776-4065-a8f9-3af2d638d1ba",
   "metadata": {},
   "outputs": [
    {
     "data": {
      "text/plain": [
       "{'Name': 'Vinay', 'Age': '32', 'Address': 'Bangalore'}"
      ]
     },
     "execution_count": 77,
     "metadata": {},
     "output_type": "execute_result"
    }
   ],
   "source": [
    "# creatiing a dictionary using lists\n",
    "\n",
    "columns = ['Name' , 'Age' , 'Address']\n",
    "values = ['Vinay', '32', 'Bangalore']\n",
    "\n",
    "newdict = {col:val for col, val in zip(columns,values)}\n",
    "newdict"
   ]
  },
  {
   "cell_type": "code",
   "execution_count": 78,
   "id": "c0f87479-0c94-4d0e-9d17-474d3e5735af",
   "metadata": {},
   "outputs": [
    {
     "data": {
      "text/plain": [
       "{'Vinay': 'Name', '32': 'Age', 'Bangalore': 'Address'}"
      ]
     },
     "execution_count": 78,
     "metadata": {},
     "output_type": "execute_result"
    }
   ],
   "source": [
    "newdict = {val:col for col, val in zip(columns,values)}\n",
    "newdict"
   ]
  },
  {
   "cell_type": "code",
   "execution_count": 80,
   "id": "91d0b218-1741-4bf0-a290-b60c856856fb",
   "metadata": {},
   "outputs": [
    {
     "data": {
      "text/plain": [
       "{'Name': 'Vinay', 'Age': '32', 'Address': 'Bangalore'}"
      ]
     },
     "execution_count": 80,
     "metadata": {},
     "output_type": "execute_result"
    }
   ],
   "source": [
    "key = ['Name' , 'Age' , 'Address']\n",
    "value = ['Vinay', '32', 'Bangalore']\n",
    "\n",
    "test1 = {k:v for k,v in zip(key,value)}\n",
    "test1"
   ]
  },
  {
   "cell_type": "code",
   "execution_count": 81,
   "id": "3a879797-890f-4a6b-8e16-8a71e25f03e6",
   "metadata": {},
   "outputs": [
    {
     "data": {
      "text/plain": [
       "{'Name': 'Vinay', 'Age': '32', 'Address': 'Bangalore'}"
      ]
     },
     "execution_count": 81,
     "metadata": {},
     "output_type": "execute_result"
    }
   ],
   "source": [
    "#Converting keys to lower\n",
    "\n",
    "test1"
   ]
  },
  {
   "cell_type": "code",
   "execution_count": 82,
   "id": "2182f1be-5cb6-4c2e-a668-bc60961233a6",
   "metadata": {},
   "outputs": [],
   "source": [
    "loweredkeys = {k.lower():v for k, v in test1.items()}"
   ]
  },
  {
   "cell_type": "code",
   "execution_count": 83,
   "id": "69702e31-43e1-434a-8671-d0933715d330",
   "metadata": {},
   "outputs": [
    {
     "data": {
      "text/plain": [
       "{'name': 'Vinay', 'age': '32', 'address': 'Bangalore'}"
      ]
     },
     "execution_count": 83,
     "metadata": {},
     "output_type": "execute_result"
    }
   ],
   "source": [
    "loweredkeys"
   ]
  },
  {
   "cell_type": "code",
   "execution_count": 84,
   "id": "e0926ec8-39e9-40f7-95fa-785d4e315c65",
   "metadata": {},
   "outputs": [
    {
     "data": {
      "text/plain": [
       "{'name': 'VINAY', 'age': '32', 'address': 'BANGALORE'}"
      ]
     },
     "execution_count": 84,
     "metadata": {},
     "output_type": "execute_result"
    }
   ],
   "source": [
    "# convert values to upper\n",
    "\n",
    "keyLower_valUpper = {k.lower():v.upper() for k, v in test1.items()}\n",
    "keyLower_valUpper"
   ]
  },
  {
   "cell_type": "code",
   "execution_count": null,
   "id": "ec0e3036-7d07-4f84-9c13-7bd3078963e4",
   "metadata": {},
   "outputs": [],
   "source": [
    "# Write a program to interactively ask user how many key-value pair is required and create dict"
   ]
  },
  {
   "cell_type": "code",
   "execution_count": 96,
   "id": "cb8895c4-4fe6-49a8-9be2-a5a21fba0ef2",
   "metadata": {},
   "outputs": [],
   "source": [
    "# create empty dict to store data\n",
    "database = dict()"
   ]
  },
  {
   "cell_type": "code",
   "execution_count": 97,
   "id": "813e5bae-8786-4c65-898e-2d30f60adb3a",
   "metadata": {},
   "outputs": [
    {
     "data": {
      "text/plain": [
       "{}"
      ]
     },
     "execution_count": 97,
     "metadata": {},
     "output_type": "execute_result"
    }
   ],
   "source": [
    "#database is empty at present\n",
    "database"
   ]
  },
  {
   "cell_type": "code",
   "execution_count": 98,
   "id": "7a64f69a-9c23-4190-9ccb-6109210817cb",
   "metadata": {},
   "outputs": [
    {
     "name": "stdin",
     "output_type": "stream",
     "text": [
      "How many Key-Value:  3\n"
     ]
    }
   ],
   "source": [
    "#interactively asking user to input how many key-value pair is required\n",
    "tot_kv = int(input('How many Key-Value: '))"
   ]
  },
  {
   "cell_type": "code",
   "execution_count": 99,
   "id": "2e08e697-16a7-451c-9adc-3fd7f471ea4d",
   "metadata": {},
   "outputs": [
    {
     "name": "stdin",
     "output_type": "stream",
     "text": [
      "Enter Key Name BookName\n",
      "Enter Key Value: Intro to Python\n",
      "Enter Key Name Publisher\n",
      "Enter Key Value: Elsevier\n",
      "Enter Key Name Year\n",
      "Enter Key Value: 2024\n"
     ]
    }
   ],
   "source": [
    "for i in range(tot_kv):\n",
    "    #this will ask user to input Key\n",
    "    keyname = input('Enter Key Name')\n",
    "    #this will ask user to input value\n",
    "    keyvalue = input('Enter Key Value:')\n",
    "    # this will push new key-value to dict\n",
    "    database[keyname] = keyvalue"
   ]
  },
  {
   "cell_type": "code",
   "execution_count": 100,
   "id": "a2855d38-ca60-4bde-8898-92c72cb2d1e9",
   "metadata": {},
   "outputs": [
    {
     "name": "stdout",
     "output_type": "stream",
     "text": [
      "{'BookName': 'Intro to Python', 'Publisher': 'Elsevier', 'Year': '2024'}\n"
     ]
    }
   ],
   "source": [
    "print(database)"
   ]
  },
  {
   "cell_type": "code",
   "execution_count": 101,
   "id": "3c03da02-b230-4c7a-b813-0ce99b19a953",
   "metadata": {},
   "outputs": [
    {
     "name": "stdin",
     "output_type": "stream",
     "text": [
      "Enter Key Name Book\n",
      "Enter Key Value: Intro to Cloud Systems\n",
      "Enter Key Name Publisher\n",
      "Enter Key Value: Springer\n",
      "Enter Key Name YeAr\n",
      "Enter Key Value: 2024\n"
     ]
    }
   ],
   "source": [
    "for i in range(tot_kv):\n",
    "    #this will ask user to input Key\n",
    "    keyname = input('Enter Key Name').upper()\n",
    "    #this will ask user to input value\n",
    "    keyvalue = input('Enter Key Value:').upper()\n",
    "    # this will push new key-value to dict\n",
    "    database[keyname] = keyvalue"
   ]
  },
  {
   "cell_type": "code",
   "execution_count": 102,
   "id": "a77bd5b9-fbaa-4271-a0ed-675fb831aad9",
   "metadata": {},
   "outputs": [
    {
     "name": "stdout",
     "output_type": "stream",
     "text": [
      "{'BookName': 'Intro to Python', 'Publisher': 'Elsevier', 'Year': '2024', 'BOOK': 'INTRO TO CLOUD SYSTEMS', 'PUBLISHER': 'SPRINGER', 'YEAR': '2024'}\n"
     ]
    }
   ],
   "source": [
    "print(database)"
   ]
  },
  {
   "cell_type": "code",
   "execution_count": 103,
   "id": "2502a376-7556-44fd-b442-e7c901856a32",
   "metadata": {},
   "outputs": [],
   "source": [
    "database.clear()"
   ]
  },
  {
   "cell_type": "code",
   "execution_count": 104,
   "id": "845bc442-cbf4-481c-947f-13141e5e7969",
   "metadata": {},
   "outputs": [
    {
     "data": {
      "text/plain": [
       "{}"
      ]
     },
     "execution_count": 104,
     "metadata": {},
     "output_type": "execute_result"
    }
   ],
   "source": [
    "database"
   ]
  },
  {
   "cell_type": "code",
   "execution_count": 105,
   "id": "d4e65707-45a2-4179-970d-4a680955acc9",
   "metadata": {},
   "outputs": [],
   "source": [
    "# completed all builtin data structures"
   ]
  },
  {
   "cell_type": "code",
   "execution_count": null,
   "id": "aeebd1dc-2157-4a99-a643-239b486bcea0",
   "metadata": {},
   "outputs": [],
   "source": [
    "# Data Structures and Algorithms (DSA) in Python"
   ]
  }
 ],
 "metadata": {
  "kernelspec": {
   "display_name": "Python 3 (ipykernel)",
   "language": "python",
   "name": "python3"
  },
  "language_info": {
   "codemirror_mode": {
    "name": "ipython",
    "version": 3
   },
   "file_extension": ".py",
   "mimetype": "text/x-python",
   "name": "python",
   "nbconvert_exporter": "python",
   "pygments_lexer": "ipython3",
   "version": "3.12.4"
  }
 },
 "nbformat": 4,
 "nbformat_minor": 5
}
