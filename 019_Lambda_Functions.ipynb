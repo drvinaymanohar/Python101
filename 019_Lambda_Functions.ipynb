{
 "cells": [
  {
   "cell_type": "code",
   "execution_count": 1,
   "id": "548603aa-83fa-48aa-b724-e688eececfdb",
   "metadata": {},
   "outputs": [],
   "source": [
    "# Revisions\n",
    "# ------------------Functions---------------------------------"
   ]
  },
  {
   "cell_type": "code",
   "execution_count": 3,
   "id": "0a459b85-b954-4c0f-84ed-c0cfe699626e",
   "metadata": {},
   "outputs": [],
   "source": [
    "# Function\n",
    "def square(number):\n",
    "    '''\n",
    "    Parameter:\n",
    "    number --> int, float\n",
    "\n",
    "    Output: Square(number)\n",
    "    '''\n",
    "    sqr = number ** 2\n",
    "    return sqr"
   ]
  },
  {
   "cell_type": "code",
   "execution_count": 6,
   "id": "a66cb802-4526-4adf-92ca-9ef0a921de1d",
   "metadata": {},
   "outputs": [
    {
     "data": {
      "text/plain": [
       "100"
      ]
     },
     "execution_count": 6,
     "metadata": {},
     "output_type": "execute_result"
    }
   ],
   "source": [
    "# calling\n",
    "\n",
    "square(10)"
   ]
  },
  {
   "cell_type": "code",
   "execution_count": 7,
   "id": "2d23ab6d-96c2-41fe-9090-3f4609bdafb3",
   "metadata": {},
   "outputs": [
    {
     "name": "stdout",
     "output_type": "stream",
     "text": [
      "100\n"
     ]
    }
   ],
   "source": [
    "x = square(10)\n",
    "print(x)"
   ]
  },
  {
   "cell_type": "markdown",
   "id": "f092a85d-8702-4304-830a-7bcc1d6f2f4c",
   "metadata": {},
   "source": [
    "### Lambda Functions and Parameters\n",
    "\n",
    "Lambda functions, also known as anonymous functions, provide a way to create small, unnamed functions on the fly. They’re particularly handy when you need a short function for a single use, such as in sorting or filtering data."
   ]
  },
  {
   "cell_type": "markdown",
   "id": "e27a9247-733e-4170-a119-cec093feaa23",
   "metadata": {},
   "source": [
    "#### Alternative terms that can describe lambda functions:\n",
    "\n",
    "`Anonymous Functions:` Because they don't require a name.\n",
    "\n",
    "`Inline Functions:` They are often defined in a single line of code.\n",
    "\n",
    "`Unnamed Functions:` Because, quite literally, they don't have a name.\n",
    "\n",
    "`Short Functions:` Emphasizing their concise nature\n",
    "\n",
    "`headless function`"
   ]
  },
  {
   "cell_type": "raw",
   "id": "2c3515f7-a1ff-4083-ac27-70485c8a87d3",
   "metadata": {},
   "source": [
    "# syntax\n",
    "# lambda arguments: expression\n",
    "# lambda x : x**2"
   ]
  },
  {
   "cell_type": "code",
   "execution_count": null,
   "id": "8bf153fe-5cd5-4c5e-913e-e7f1e8824e53",
   "metadata": {},
   "outputs": [],
   "source": []
  },
  {
   "cell_type": "code",
   "execution_count": 16,
   "id": "0fcde701-9191-4f78-8bbc-9b1f3a02bab0",
   "metadata": {},
   "outputs": [],
   "source": [
    "# Lambda function to square\n",
    "square = lambda x : x**2"
   ]
  },
  {
   "cell_type": "code",
   "execution_count": 17,
   "id": "eae0db3c-ebd1-447f-8a69-2170145b9e54",
   "metadata": {},
   "outputs": [
    {
     "data": {
      "text/plain": [
       "4"
      ]
     },
     "execution_count": 17,
     "metadata": {},
     "output_type": "execute_result"
    }
   ],
   "source": [
    "square(2)"
   ]
  },
  {
   "cell_type": "code",
   "execution_count": 18,
   "id": "a976d9a6-3897-49d3-b52b-00c6fa72b2c7",
   "metadata": {},
   "outputs": [
    {
     "data": {
      "text/plain": [
       "81"
      ]
     },
     "execution_count": 18,
     "metadata": {},
     "output_type": "execute_result"
    }
   ],
   "source": [
    "square(9)"
   ]
  },
  {
   "cell_type": "code",
   "execution_count": 19,
   "id": "c201d4f0-9f05-4796-b8ad-2b20c6cb8981",
   "metadata": {},
   "outputs": [],
   "source": [
    "# working with multple arguments\n",
    "add = lambda x, y: x + y"
   ]
  },
  {
   "cell_type": "code",
   "execution_count": 20,
   "id": "25f1824f-a826-40cc-860e-78975998f4d5",
   "metadata": {},
   "outputs": [
    {
     "data": {
      "text/plain": [
       "8"
      ]
     },
     "execution_count": 20,
     "metadata": {},
     "output_type": "execute_result"
    }
   ],
   "source": [
    "result = add(5, 3)\n",
    "result"
   ]
  },
  {
   "cell_type": "code",
   "execution_count": 21,
   "id": "d385c2d8-7875-456b-864d-948d690fd4ed",
   "metadata": {},
   "outputs": [],
   "source": [
    "raised = lambda x, y : x**y"
   ]
  },
  {
   "cell_type": "code",
   "execution_count": 22,
   "id": "631e7c91-c1d9-44f7-b801-aaffb6f82776",
   "metadata": {},
   "outputs": [
    {
     "data": {
      "text/plain": [
       "4"
      ]
     },
     "execution_count": 22,
     "metadata": {},
     "output_type": "execute_result"
    }
   ],
   "source": [
    "raised(2,2)"
   ]
  },
  {
   "cell_type": "code",
   "execution_count": 23,
   "id": "b2c5f08e-2de9-457b-8446-a61dda8a8e5a",
   "metadata": {},
   "outputs": [
    {
     "data": {
      "text/plain": [
       "8"
      ]
     },
     "execution_count": 23,
     "metadata": {},
     "output_type": "execute_result"
    }
   ],
   "source": [
    "raised(2,3)"
   ]
  },
  {
   "cell_type": "code",
   "execution_count": 24,
   "id": "99b6e334-376d-43fd-8241-a31a19b0a926",
   "metadata": {},
   "outputs": [
    {
     "data": {
      "text/plain": [
       "16"
      ]
     },
     "execution_count": 24,
     "metadata": {},
     "output_type": "execute_result"
    }
   ],
   "source": [
    "raised(2,4)"
   ]
  },
  {
   "cell_type": "code",
   "execution_count": 25,
   "id": "f7ebce2c-689b-4807-b1a5-3038c2c5a805",
   "metadata": {},
   "outputs": [
    {
     "data": {
      "text/plain": [
       "5"
      ]
     },
     "execution_count": 25,
     "metadata": {},
     "output_type": "execute_result"
    }
   ],
   "source": [
    "# Immediately executing a lambda function without variable\n",
    "add = lambda x, y: x + y\n",
    "add(2,3)"
   ]
  },
  {
   "cell_type": "code",
   "execution_count": 26,
   "id": "61faba7c-16dd-4e7b-bf9f-ac38550c37b2",
   "metadata": {},
   "outputs": [
    {
     "data": {
      "text/plain": [
       "5"
      ]
     },
     "execution_count": 26,
     "metadata": {},
     "output_type": "execute_result"
    }
   ],
   "source": [
    "(lambda x, y: x + y)(2,3)"
   ]
  },
  {
   "cell_type": "code",
   "execution_count": 27,
   "id": "4e9ce07b-bbea-4a11-ae6a-b34712c622b7",
   "metadata": {},
   "outputs": [
    {
     "data": {
      "text/plain": [
       "9"
      ]
     },
     "execution_count": 27,
     "metadata": {},
     "output_type": "execute_result"
    }
   ],
   "source": [
    "(lambda x, y, z : x + y + z)(2,3,4)"
   ]
  },
  {
   "cell_type": "code",
   "execution_count": 28,
   "id": "bc41e4e5-dbc9-4afa-87ec-e99474450afc",
   "metadata": {},
   "outputs": [],
   "source": [
    "# Lambda function to convert a string to uppercase\n",
    "uppercase = lambda s : s.upper()"
   ]
  },
  {
   "cell_type": "code",
   "execution_count": 29,
   "id": "7b4d46fd-9977-4775-9562-70fcc7fd2a71",
   "metadata": {},
   "outputs": [
    {
     "data": {
      "text/plain": [
       "'HELLO'"
      ]
     },
     "execution_count": 29,
     "metadata": {},
     "output_type": "execute_result"
    }
   ],
   "source": [
    "uppercase(\"hello\")"
   ]
  },
  {
   "cell_type": "code",
   "execution_count": 30,
   "id": "f71f01af-9dea-424c-8f4d-9dbe73df24df",
   "metadata": {},
   "outputs": [
    {
     "data": {
      "text/plain": [
       "'VINAY'"
      ]
     },
     "execution_count": 30,
     "metadata": {},
     "output_type": "execute_result"
    }
   ],
   "source": [
    "uppercase('ViNay')"
   ]
  },
  {
   "cell_type": "code",
   "execution_count": 36,
   "id": "333c935f-8716-450b-971e-c4e49e2d1ff8",
   "metadata": {},
   "outputs": [],
   "source": [
    "# capitalisation of strings\n",
    "\n",
    "cap = lambda value : value.capitalize()"
   ]
  },
  {
   "cell_type": "code",
   "execution_count": 37,
   "id": "bf722c17-cc01-471a-b119-e089428a64f7",
   "metadata": {},
   "outputs": [
    {
     "data": {
      "text/plain": [
       "'Guido van rossum'"
      ]
     },
     "execution_count": 37,
     "metadata": {},
     "output_type": "execute_result"
    }
   ],
   "source": [
    "cap('guido van rossum')"
   ]
  },
  {
   "cell_type": "code",
   "execution_count": 38,
   "id": "9ce9025f-a9bb-4f4f-8b86-a3d93e95310c",
   "metadata": {},
   "outputs": [
    {
     "data": {
      "text/plain": [
       "'Guido Van Rossum'"
      ]
     },
     "execution_count": 38,
     "metadata": {},
     "output_type": "execute_result"
    }
   ],
   "source": [
    "# inline argument, with title case\n",
    "\n",
    "(lambda sentence : sentence.title())('guido van rossum')"
   ]
  },
  {
   "cell_type": "code",
   "execution_count": null,
   "id": "9272a14c-605a-455a-9f72-da30696e17f2",
   "metadata": {},
   "outputs": [],
   "source": []
  },
  {
   "cell_type": "code",
   "execution_count": 39,
   "id": "c5a8ed7d-69e7-428a-9634-3710622403fe",
   "metadata": {},
   "outputs": [],
   "source": [
    "# Lambda function to extract the first character of a string\n",
    "first_char = lambda s: s[0]"
   ]
  },
  {
   "cell_type": "code",
   "execution_count": 40,
   "id": "7588d209-8ba5-4d3e-858d-d461a9495392",
   "metadata": {},
   "outputs": [
    {
     "data": {
      "text/plain": [
       "'h'"
      ]
     },
     "execution_count": 40,
     "metadata": {},
     "output_type": "execute_result"
    }
   ],
   "source": [
    "first_char(\"hello\")"
   ]
  },
  {
   "cell_type": "code",
   "execution_count": 41,
   "id": "984751a5-987b-42e5-a752-d64f62de6cd8",
   "metadata": {},
   "outputs": [],
   "source": [
    "# Lambda function to extract the last character of a string\n",
    "last_char = lambda s: s[-1]"
   ]
  },
  {
   "cell_type": "code",
   "execution_count": 42,
   "id": "2e31f5ce-6c37-41a0-9b5e-6cc4f9a595bc",
   "metadata": {},
   "outputs": [
    {
     "data": {
      "text/plain": [
       "'n'"
      ]
     },
     "execution_count": 42,
     "metadata": {},
     "output_type": "execute_result"
    }
   ],
   "source": [
    "last_char('Python')"
   ]
  },
  {
   "cell_type": "code",
   "execution_count": 43,
   "id": "c42ffb5a-51d8-4091-8a38-5270b4999ddf",
   "metadata": {},
   "outputs": [],
   "source": [
    "# Lambda function to calculate the length of a string\n",
    "length = lambda s: len(s)"
   ]
  },
  {
   "cell_type": "code",
   "execution_count": 44,
   "id": "e14464f5-6b2b-4c50-a15c-5a4cfdb6f723",
   "metadata": {},
   "outputs": [
    {
     "data": {
      "text/plain": [
       "5"
      ]
     },
     "execution_count": 44,
     "metadata": {},
     "output_type": "execute_result"
    }
   ],
   "source": [
    "length(\"hello\")"
   ]
  },
  {
   "cell_type": "code",
   "execution_count": 45,
   "id": "78062d9f-0f5b-4ee4-96a6-c64115036f77",
   "metadata": {},
   "outputs": [],
   "source": [
    "# Lambda function to find the maximum of two numbers\n",
    "maximum = lambda x, y: x if x > y else y"
   ]
  },
  {
   "cell_type": "code",
   "execution_count": 47,
   "id": "a33747d1-ef68-4b18-8542-797fe1d37b14",
   "metadata": {},
   "outputs": [
    {
     "data": {
      "text/plain": [
       "5"
      ]
     },
     "execution_count": 47,
     "metadata": {},
     "output_type": "execute_result"
    }
   ],
   "source": [
    "maximum(5,2)"
   ]
  },
  {
   "cell_type": "code",
   "execution_count": 48,
   "id": "10361e4c-2fd5-4011-9b28-b8cad12d98b3",
   "metadata": {},
   "outputs": [
    {
     "data": {
      "text/plain": [
       "7"
      ]
     },
     "execution_count": 48,
     "metadata": {},
     "output_type": "execute_result"
    }
   ],
   "source": [
    "maximum(4, 7)"
   ]
  },
  {
   "cell_type": "code",
   "execution_count": 49,
   "id": "6174ecb1-ffa6-4804-b329-03d09a195f79",
   "metadata": {},
   "outputs": [],
   "source": [
    "# Lambda function to return a string based on a condition\n",
    "check_even_odd = lambda x: \"Even\" if x % 2 == 0 else \"Odd\""
   ]
  },
  {
   "cell_type": "code",
   "execution_count": 50,
   "id": "275ce2ae-d8fd-4686-ac81-d0c93617d9ca",
   "metadata": {},
   "outputs": [
    {
     "data": {
      "text/plain": [
       "'Odd'"
      ]
     },
     "execution_count": 50,
     "metadata": {},
     "output_type": "execute_result"
    }
   ],
   "source": [
    "check_even_odd(3)"
   ]
  },
  {
   "cell_type": "code",
   "execution_count": 51,
   "id": "81fa9131-6bc1-4aa5-9ef4-77bdb5464da7",
   "metadata": {},
   "outputs": [
    {
     "data": {
      "text/plain": [
       "'Even'"
      ]
     },
     "execution_count": 51,
     "metadata": {},
     "output_type": "execute_result"
    }
   ],
   "source": [
    "check_even_odd(2)"
   ]
  },
  {
   "cell_type": "code",
   "execution_count": null,
   "id": "fb896fee-a283-4621-958f-7542d31dd388",
   "metadata": {},
   "outputs": [],
   "source": []
  },
  {
   "cell_type": "code",
   "execution_count": null,
   "id": "a40945d8-f137-452e-a65b-02342eafa0c2",
   "metadata": {},
   "outputs": [],
   "source": [
    "# higher-order functions\n",
    "# map(), reduce(), and filter()"
   ]
  },
  {
   "cell_type": "code",
   "execution_count": null,
   "id": "b98740ef-7827-407d-9d02-6ecc70266e7a",
   "metadata": {},
   "outputs": [],
   "source": [
    "# map(): Applies a function to all items in an input list."
   ]
  },
  {
   "cell_type": "code",
   "execution_count": 57,
   "id": "9a47fc80-77c9-49d7-8334-406ee07bf244",
   "metadata": {},
   "outputs": [
    {
     "name": "stdout",
     "output_type": "stream",
     "text": [
      "<map object at 0x000001C2EE1AEE90>\n"
     ]
    }
   ],
   "source": [
    "numbers = [1, 2, 3, 4]\n",
    "\n",
    "# when you have sequence of values, instead of single value, use map\n",
    "\n",
    "# map(lambda expression, sequence)\n",
    "\n",
    "\n",
    "squares = map(lambda x: x ** 2, numbers)\n",
    "\n",
    "print(squares)"
   ]
  },
  {
   "cell_type": "code",
   "execution_count": 58,
   "id": "d251bab1-c6b7-41e2-9c25-22942ae1be61",
   "metadata": {},
   "outputs": [
    {
     "data": {
      "text/plain": [
       "[1, 4, 9, 16]"
      ]
     },
     "execution_count": 58,
     "metadata": {},
     "output_type": "execute_result"
    }
   ],
   "source": [
    "# convert mapped object to list\n",
    "\n",
    "list(squares)"
   ]
  },
  {
   "cell_type": "code",
   "execution_count": 59,
   "id": "117787e0-6047-4255-a6e8-c89b1ead7b27",
   "metadata": {},
   "outputs": [],
   "source": [
    "a = [4, 6, 8, 2, 1]"
   ]
  },
  {
   "cell_type": "code",
   "execution_count": 60,
   "id": "78a52252-0dc6-4a12-859a-6cf33046214d",
   "metadata": {},
   "outputs": [],
   "source": [
    "cubed = list(map(lambda x : x**3,a))"
   ]
  },
  {
   "cell_type": "code",
   "execution_count": 61,
   "id": "bf08b2c0-85d7-475f-b1af-732588ca7e18",
   "metadata": {},
   "outputs": [
    {
     "data": {
      "text/plain": [
       "[64, 216, 512, 8, 1]"
      ]
     },
     "execution_count": 61,
     "metadata": {},
     "output_type": "execute_result"
    }
   ],
   "source": [
    "cubed"
   ]
  },
  {
   "cell_type": "code",
   "execution_count": 63,
   "id": "d83cf25e-56a1-4dd7-b970-020c2ea6762b",
   "metadata": {},
   "outputs": [
    {
     "data": {
      "text/plain": [
       "['HELLO', 'WORLD']"
      ]
     },
     "execution_count": 63,
     "metadata": {},
     "output_type": "execute_result"
    }
   ],
   "source": [
    "words = [\"hello\", \"world\"]\n",
    "uppercase_words = list(map(lambda x: x.upper(), words))\n",
    "uppercase_words"
   ]
  },
  {
   "cell_type": "code",
   "execution_count": 64,
   "id": "4993e086-cce2-493c-9325-7fd549e4684e",
   "metadata": {},
   "outputs": [],
   "source": [
    "words = [\"    hello\", \"world     \"]"
   ]
  },
  {
   "cell_type": "code",
   "execution_count": null,
   "id": "3e0c4803-9e52-4bbc-b4a7-152a2e397115",
   "metadata": {},
   "outputs": [],
   "source": [
    "# lambda x : x.strip()"
   ]
  },
  {
   "cell_type": "code",
   "execution_count": null,
   "id": "95f91cc6-2172-4473-83ac-b3468082aa21",
   "metadata": {},
   "outputs": [],
   "source": [
    "# map(lambda x : x.strip(), words)"
   ]
  },
  {
   "cell_type": "code",
   "execution_count": null,
   "id": "09aeeae9-7122-483b-b6df-3fd9733e5da8",
   "metadata": {},
   "outputs": [],
   "source": [
    "# list(map(lambda x : x.strip(), words))"
   ]
  },
  {
   "cell_type": "code",
   "execution_count": 65,
   "id": "f6bfb487-f8c6-40ae-a7aa-d131e8e07d2b",
   "metadata": {},
   "outputs": [],
   "source": [
    "stripped = list(map(lambda x : x.strip(), words))"
   ]
  },
  {
   "cell_type": "code",
   "execution_count": 66,
   "id": "836c8fb3-cef5-4c4c-9f81-fb70501e975e",
   "metadata": {},
   "outputs": [
    {
     "data": {
      "text/plain": [
       "['hello', 'world']"
      ]
     },
     "execution_count": 66,
     "metadata": {},
     "output_type": "execute_result"
    }
   ],
   "source": [
    "stripped"
   ]
  },
  {
   "cell_type": "code",
   "execution_count": null,
   "id": "d765bb19-fe62-4a93-adf2-e7b3a9a7d16f",
   "metadata": {},
   "outputs": [],
   "source": []
  },
  {
   "cell_type": "code",
   "execution_count": null,
   "id": "d5a6917f-b628-48b9-9d60-2795a0832ee5",
   "metadata": {},
   "outputs": [],
   "source": [
    "# filter(): Filters items out of an input list using a function that returns True or False."
   ]
  },
  {
   "cell_type": "code",
   "execution_count": 67,
   "id": "b1acbee7-fb45-49a7-96e0-1683d3647f62",
   "metadata": {},
   "outputs": [],
   "source": [
    "# list comprehension\n",
    "\n",
    "val = [3,5,2,5,6,8,9,1]"
   ]
  },
  {
   "cell_type": "code",
   "execution_count": 68,
   "id": "3d6a69ef-d6a2-4be1-90a2-fcfbc3f84954",
   "metadata": {},
   "outputs": [],
   "source": [
    "even = [i for i in val if i%2==0]"
   ]
  },
  {
   "cell_type": "code",
   "execution_count": 69,
   "id": "287dcc6f-6c8b-4463-b76e-d83dde7e6be7",
   "metadata": {},
   "outputs": [
    {
     "data": {
      "text/plain": [
       "[2, 6, 8]"
      ]
     },
     "execution_count": 69,
     "metadata": {},
     "output_type": "execute_result"
    }
   ],
   "source": [
    "even"
   ]
  },
  {
   "cell_type": "code",
   "execution_count": 70,
   "id": "12bcb3f7-52dd-44a0-a9ae-a8e03b893815",
   "metadata": {},
   "outputs": [],
   "source": [
    "# filter()"
   ]
  },
  {
   "cell_type": "code",
   "execution_count": 72,
   "id": "5bf2a95d-06f8-4808-bb25-0c51e0f5f507",
   "metadata": {},
   "outputs": [
    {
     "data": {
      "text/plain": [
       "[2, 6, 8]"
      ]
     },
     "execution_count": 72,
     "metadata": {},
     "output_type": "execute_result"
    }
   ],
   "source": [
    "numbers = [3, 5, 2, 5, 6, 8, 9, 1]\n",
    "# lambda x : x%2 ==0\n",
    "# filter(lambda x : x%2 ==0, numbers)\n",
    "# list(filter(lambda x : x%2 ==0, numbers))\n",
    "\n",
    "evens = list(filter(lambda x: x % 2 == 0, numbers))\n",
    "evens"
   ]
  },
  {
   "cell_type": "code",
   "execution_count": 74,
   "id": "78122acd-d241-4ef7-ab95-b4a7521be90a",
   "metadata": {},
   "outputs": [
    {
     "data": {
      "text/plain": [
       "[3, 5, 5, 9, 1]"
      ]
     },
     "execution_count": 74,
     "metadata": {},
     "output_type": "execute_result"
    }
   ],
   "source": [
    "# lambda x : x % 2 != 0\n",
    "odd = list(filter(lambda x : x % 2 != 0, numbers))\n",
    "odd"
   ]
  },
  {
   "cell_type": "code",
   "execution_count": null,
   "id": "2cc9d13b-26ee-48d0-abbc-9201850c5ece",
   "metadata": {},
   "outputs": [],
   "source": []
  },
  {
   "cell_type": "code",
   "execution_count": null,
   "id": "cf657c25-0f46-454c-a3c8-8a191ecf44ce",
   "metadata": {},
   "outputs": [],
   "source": [
    "# reduce(): Reduces an input list to a single value by applying a function cumulatively."
   ]
  },
  {
   "cell_type": "code",
   "execution_count": 76,
   "id": "6205375e-7633-45eb-b047-591af2f7d667",
   "metadata": {},
   "outputs": [
    {
     "name": "stdout",
     "output_type": "stream",
     "text": [
      "10\n"
     ]
    }
   ],
   "source": [
    "from functools import reduce\n",
    "\n",
    "numbers = [1, 2, 3, 4]\n",
    "\n",
    "# 1,2 = 3 -------> [3,3,4]\n",
    "# 3,3 = 6 --------> [6, 4]\n",
    "# 6,4 = 10 --------- 10\n",
    "\n",
    "result = reduce(lambda x, y: x + y, numbers)\n",
    "\n",
    "print(result)"
   ]
  },
  {
   "cell_type": "code",
   "execution_count": null,
   "id": "ee5d7499-484c-4987-a443-54c4845d154d",
   "metadata": {},
   "outputs": [],
   "source": [
    "# Sorting with lambda functions\n",
    "\n",
    "data = [(1, 'apple'), (3, 'orange'), (2, 'Hello')]\n",
    "\n",
    "sorted_data = sorted(data, key=lambda x: x[1])"
   ]
  },
  {
   "cell_type": "code",
   "execution_count": 77,
   "id": "905d6c79-891e-4337-a936-8f9577385597",
   "metadata": {},
   "outputs": [],
   "source": [
    "data = ['hi', 'namaste', 'vanakkam', 'hey', 'bonjour']"
   ]
  },
  {
   "cell_type": "code",
   "execution_count": 78,
   "id": "b238b0bd-da50-4548-a5c9-37c1170cf9a2",
   "metadata": {},
   "outputs": [],
   "source": [
    "new = sorted(data, key=lambda x : x[-1])"
   ]
  },
  {
   "cell_type": "code",
   "execution_count": 79,
   "id": "91df801b-a469-412d-91df-c43a68071d4d",
   "metadata": {},
   "outputs": [
    {
     "data": {
      "text/plain": [
       "['namaste', 'hi', 'vanakkam', 'bonjour', 'hey']"
      ]
     },
     "execution_count": 79,
     "metadata": {},
     "output_type": "execute_result"
    }
   ],
   "source": [
    "new"
   ]
  },
  {
   "cell_type": "code",
   "execution_count": 80,
   "id": "b6a2f6d7-942c-43a2-a5b8-3f92d67e2fb4",
   "metadata": {},
   "outputs": [],
   "source": [
    "new = sorted(data)"
   ]
  },
  {
   "cell_type": "code",
   "execution_count": 81,
   "id": "0e392783-3928-4a27-9259-f6d8bc3ce098",
   "metadata": {},
   "outputs": [
    {
     "data": {
      "text/plain": [
       "['bonjour', 'hey', 'hi', 'namaste', 'vanakkam']"
      ]
     },
     "execution_count": 81,
     "metadata": {},
     "output_type": "execute_result"
    }
   ],
   "source": [
    "new"
   ]
  },
  {
   "cell_type": "code",
   "execution_count": null,
   "id": "6317e8c2-db3b-40c6-9923-fcf89640eccc",
   "metadata": {},
   "outputs": [],
   "source": []
  }
 ],
 "metadata": {
  "kernelspec": {
   "display_name": "Python 3 (ipykernel)",
   "language": "python",
   "name": "python3"
  },
  "language_info": {
   "codemirror_mode": {
    "name": "ipython",
    "version": 3
   },
   "file_extension": ".py",
   "mimetype": "text/x-python",
   "name": "python",
   "nbconvert_exporter": "python",
   "pygments_lexer": "ipython3",
   "version": "3.12.4"
  }
 },
 "nbformat": 4,
 "nbformat_minor": 5
}
