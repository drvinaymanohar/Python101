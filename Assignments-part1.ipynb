{
 "cells": [
  {
   "cell_type": "raw",
   "id": "8032d896-ed4b-4813-9e94-e4898c0f2c8f",
   "metadata": {},
   "source": [
    "Write a code to find utm zone of lat/long value\n",
    "Write a Python Program to Display the multiplication Table\n",
    "Write a Python Program to Find the Factorial of a Number\n",
    "Calculate the cube of all numbers from 1 to a given number\n",
    "Create rock paper scissor game # done\n",
    "Print only odd from List # done\n",
    "Print only even from List # done\n",
    "Write a program to split odd and even numbers and store in a separate list respetively\n",
    "Count the index numbers of specific letter in a given words\n",
    "Write a program to display numbers divisible by both 3 and 5 between the range of 0,100 ? done\n",
    "Write a program to print string “Python” as “Pyyttthhhhooooonnnnnn” ?\n",
    "Write a program to ask user to input 5 name and store it in a list ?\n",
    "Python program to print the largest element in an array ?\n"
   ]
  },
  {
   "cell_type": "code",
   "execution_count": 5,
   "id": "6ec05161-62b8-40e2-9ec9-b7c4e3b386d9",
   "metadata": {},
   "outputs": [],
   "source": [
    "# 1. Write a code to find utm zone of lat/long value\n",
    "\n",
    "# Bangalore\n",
    "# Northern and Eastern Hemisphere\n",
    "Lat, Long = 12.93914254674753, 77.58975395213399"
   ]
  },
  {
   "cell_type": "code",
   "execution_count": null,
   "id": "b90c201b-8294-4ee8-a6ea-41b5d536eb8a",
   "metadata": {},
   "outputs": [],
   "source": [
    "#melborne\n",
    "#Southern and Eastern Hemisphere\n",
    "Lat, Long = -37.74936271742734, 144.99113559838668"
   ]
  },
  {
   "cell_type": "code",
   "execution_count": null,
   "id": "f369b3d7-9b20-4c64-99d2-1511ff91012f",
   "metadata": {},
   "outputs": [],
   "source": [
    "#Ontario\n",
    "#Northern and Western Hemisphere\n",
    "Lat, Long = 52.905925056660855, -93.2336692446143"
   ]
  },
  {
   "cell_type": "code",
   "execution_count": null,
   "id": "54dcef2a-4fb2-43aa-8b91-0b064164bafa",
   "metadata": {},
   "outputs": [],
   "source": [
    "# Bolivia\n",
    "#Southern and Western Hemisphere\n",
    "Lat, Long = -16.75430844757296, -64.45612525334002"
   ]
  },
  {
   "cell_type": "code",
   "execution_count": null,
   "id": "690add76-aa86-4093-94a4-27b648b95a42",
   "metadata": {},
   "outputs": [],
   "source": [
    "# How to identify UTM Zone\n",
    "UTM Zone = 31 + Longitude/6"
   ]
  },
  {
   "cell_type": "code",
   "execution_count": null,
   "id": "c25316bd-b634-4a81-ac42-b75e15271550",
   "metadata": {},
   "outputs": [],
   "source": [
    "Lat, Long = -37.74936271742734, 144.99113559838668"
   ]
  },
  {
   "cell_type": "code",
   "execution_count": null,
   "id": "e4872173-b617-4689-816c-79b015f0ada8",
   "metadata": {},
   "outputs": [],
   "source": [
    "if Lat < 0:\n",
    "    Zone = 'S'\n",
    "elif Lat > 0:\n",
    "    Zone = 'N'"
   ]
  },
  {
   "cell_type": "code",
   "execution_count": 6,
   "id": "8ad00480-1a97-4919-be4d-b028eb482a35",
   "metadata": {},
   "outputs": [],
   "source": [
    "Lat, Long = -37.74936271742734, 144.99113559838668"
   ]
  },
  {
   "cell_type": "code",
   "execution_count": 7,
   "id": "8cd8ce85-c14c-49e0-8bfa-a8b3c9fdc491",
   "metadata": {},
   "outputs": [
    {
     "data": {
      "text/plain": [
       "55.165189266397775"
      ]
     },
     "execution_count": 7,
     "metadata": {},
     "output_type": "execute_result"
    }
   ],
   "source": [
    "UTMZone = 31 + (Long/6)\n",
    "UTMZone"
   ]
  },
  {
   "cell_type": "code",
   "execution_count": 8,
   "id": "78f0fb02-6438-4c97-b466-56d17e866b0e",
   "metadata": {},
   "outputs": [
    {
     "data": {
      "text/plain": [
       "55"
      ]
     },
     "execution_count": 8,
     "metadata": {},
     "output_type": "execute_result"
    }
   ],
   "source": [
    "int(UTMZone)"
   ]
  },
  {
   "cell_type": "code",
   "execution_count": 9,
   "id": "81c27a8c-450c-41f1-b777-749cc87bfb4f",
   "metadata": {},
   "outputs": [],
   "source": [
    "if Lat < 0:\n",
    "    Zone = 'S'\n",
    "elif Lat > 0:\n",
    "    Zone = 'N'"
   ]
  },
  {
   "cell_type": "code",
   "execution_count": 10,
   "id": "ed52f809-96eb-45d1-8c95-794fb4780b67",
   "metadata": {},
   "outputs": [
    {
     "data": {
      "text/plain": [
       "'S'"
      ]
     },
     "execution_count": 10,
     "metadata": {},
     "output_type": "execute_result"
    }
   ],
   "source": [
    "Zone"
   ]
  },
  {
   "cell_type": "code",
   "execution_count": 14,
   "id": "df8e6a2a-3a47-4b63-8662-729a8894347e",
   "metadata": {},
   "outputs": [
    {
     "name": "stdin",
     "output_type": "stream",
     "text": [
      "Enter Study Area Name:  Bolivia\n",
      "Enter Latitude Value:  -16.75430844757296\n",
      "Enter Longitude Value:  -64.45612525334002\n"
     ]
    },
    {
     "name": "stdout",
     "output_type": "stream",
     "text": [
      "Bolivia falls in UTM Zone 20 S\n"
     ]
    }
   ],
   "source": [
    "# 1. Write a code to find utm zone of lat/long value\n",
    "studyarea = input(\"Enter Study Area Name: \")\n",
    "Lat = float(input(\"Enter Latitude Value: \"))\n",
    "Long = float(input(\"Enter Longitude Value: \"))\n",
    "UTMZone = 31 + (Long/6)\n",
    "if Lat < 0:\n",
    "    Zone = 'S'\n",
    "elif Lat > 0:\n",
    "    Zone = 'N'\n",
    "\n",
    "print(f\"{studyarea} falls in UTM Zone {int(UTMZone)} {Zone}\")"
   ]
  },
  {
   "cell_type": "code",
   "execution_count": 15,
   "id": "ae526b40-ffd2-4aa8-aae3-2e28550df945",
   "metadata": {},
   "outputs": [],
   "source": [
    "# 2. Write a Python Program to Display the multiplication Table"
   ]
  },
  {
   "cell_type": "code",
   "execution_count": 20,
   "id": "c3e70228-8c62-41d4-9024-420206fa6088",
   "metadata": {},
   "outputs": [
    {
     "name": "stdout",
     "output_type": "stream",
     "text": [
      "3 x 1 = 3\n",
      "3 x 2 = 6\n",
      "3 x 3 = 9\n",
      "3 x 4 = 12\n",
      "3 x 5 = 15\n",
      "3 x 6 = 18\n",
      "3 x 7 = 21\n",
      "3 x 8 = 24\n",
      "3 x 9 = 27\n",
      "3 x 10 = 30\n"
     ]
    }
   ],
   "source": [
    "for i in range(1,11):\n",
    "    print(f\"3 x {i} = {3*i}\")"
   ]
  },
  {
   "cell_type": "code",
   "execution_count": 22,
   "id": "f62b2461-5862-4a40-943e-537e8202d124",
   "metadata": {},
   "outputs": [
    {
     "name": "stdin",
     "output_type": "stream",
     "text": [
      "Enter the number:  6\n"
     ]
    },
    {
     "name": "stdout",
     "output_type": "stream",
     "text": [
      "**********\n",
      "6 x 1 = 6\n",
      "6 x 2 = 12\n",
      "6 x 3 = 18\n",
      "6 x 4 = 24\n",
      "6 x 5 = 30\n",
      "6 x 6 = 36\n",
      "6 x 7 = 42\n",
      "6 x 8 = 48\n",
      "6 x 9 = 54\n",
      "6 x 10 = 60\n",
      "**********\n",
      "End of Multiplication Table\n"
     ]
    }
   ],
   "source": [
    "tablenum = int(input(\"Enter the number: \"))\n",
    "print(\"*\" * 10)\n",
    "for i in range(1,11):\n",
    "    print(f\"{tablenum} x {i} = {tablenum*i}\")\n",
    "print(\"*\" * 10)\n",
    "print(\"End of Multiplication Table\")"
   ]
  },
  {
   "cell_type": "code",
   "execution_count": 23,
   "id": "5274575b-ca60-4493-be02-ca3c31dbdbe2",
   "metadata": {},
   "outputs": [],
   "source": [
    "# 3. Write a Python Program to Find the Factorial of a Number"
   ]
  },
  {
   "cell_type": "code",
   "execution_count": 25,
   "id": "94dd9f78-9b02-472b-bdc1-8f8eac374711",
   "metadata": {},
   "outputs": [
    {
     "name": "stdin",
     "output_type": "stream",
     "text": [
      "Enter the number:  6\n"
     ]
    },
    {
     "name": "stdout",
     "output_type": "stream",
     "text": [
      "[1, 2, 3, 4, 5, 6]\n"
     ]
    }
   ],
   "source": [
    "factNum = int(input(\"Enter the number: \"))\n",
    "factRange = [i for i in range(1, factNum+1)]\n",
    "print(factRange)"
   ]
  },
  {
   "cell_type": "code",
   "execution_count": 26,
   "id": "cd6655f5-62f0-45a8-b9bc-2ff835a58926",
   "metadata": {},
   "outputs": [
    {
     "data": {
      "text/plain": [
       "[1, 2, 3, 4, 5, 6]"
      ]
     },
     "execution_count": 26,
     "metadata": {},
     "output_type": "execute_result"
    }
   ],
   "source": [
    "factRange"
   ]
  },
  {
   "cell_type": "code",
   "execution_count": 27,
   "id": "cd669e81-68cb-428d-ae40-35a263bf1ab6",
   "metadata": {},
   "outputs": [],
   "source": [
    "iniFact = 1"
   ]
  },
  {
   "cell_type": "code",
   "execution_count": 28,
   "id": "3243f052-bee7-49ed-a566-bd8a878b6b8c",
   "metadata": {},
   "outputs": [],
   "source": [
    "for i in factRange:\n",
    "    iniFact = iniFact * i"
   ]
  },
  {
   "cell_type": "code",
   "execution_count": 29,
   "id": "6b5b2d0b-bc76-4166-9d62-f8f3e07e86b7",
   "metadata": {},
   "outputs": [
    {
     "data": {
      "text/plain": [
       "720"
      ]
     },
     "execution_count": 29,
     "metadata": {},
     "output_type": "execute_result"
    }
   ],
   "source": [
    "iniFact"
   ]
  },
  {
   "cell_type": "code",
   "execution_count": 32,
   "id": "31c8cbd8-d3b8-4684-b238-8fac5e80f322",
   "metadata": {},
   "outputs": [
    {
     "name": "stdin",
     "output_type": "stream",
     "text": [
      "Enter the number:  5\n"
     ]
    },
    {
     "name": "stdout",
     "output_type": "stream",
     "text": [
      "Factorial of 5 is 120\n"
     ]
    }
   ],
   "source": [
    "factNum = int(input(\"Enter the number: \"))\n",
    "factRange = [i for i in range(1, factNum+1)]\n",
    "iniFact = 1\n",
    "for i in factRange:\n",
    "    iniFact = iniFact * i\n",
    "print(f\"Factorial of {factNum} is {iniFact}\")"
   ]
  },
  {
   "cell_type": "code",
   "execution_count": 33,
   "id": "0185f0f6-f935-4ee2-a887-87f54014a283",
   "metadata": {},
   "outputs": [],
   "source": [
    "# 4. Calculate the cube of all numbers from a particular value to a given number"
   ]
  },
  {
   "cell_type": "code",
   "execution_count": 39,
   "id": "170f9f72-ef5a-485d-b3fc-98b0e861695e",
   "metadata": {},
   "outputs": [
    {
     "name": "stdin",
     "output_type": "stream",
     "text": [
      "Enter a Initial Range:  10\n",
      "Enter a Final Range:  20\n"
     ]
    },
    {
     "name": "stdout",
     "output_type": "stream",
     "text": [
      "--------------------\n",
      "Cube of 10 is 1000\n",
      "Cube of 11 is 1331\n",
      "Cube of 12 is 1728\n",
      "Cube of 13 is 2197\n",
      "Cube of 14 is 2744\n",
      "Cube of 15 is 3375\n",
      "Cube of 16 is 4096\n",
      "Cube of 17 is 4913\n",
      "Cube of 18 is 5832\n",
      "Cube of 19 is 6859\n",
      "Cube of 20 is 8000\n"
     ]
    }
   ],
   "source": [
    "initRange = int(input(\"Enter a Initial Range: \"))\n",
    "finalRange = int(input(\"Enter a Final Range: \"))\n",
    "print(\"-\" * 20)\n",
    "for i in range(initRange, finalRange+1):\n",
    "    print(f\"Cube of {i} is {i**3}\")"
   ]
  },
  {
   "cell_type": "code",
   "execution_count": 40,
   "id": "3ded8e04-665b-4d8c-9e3c-01ad391b4701",
   "metadata": {},
   "outputs": [],
   "source": [
    "# 8 Write a program to split odd and even numbers and store in a separate list respetively"
   ]
  },
  {
   "cell_type": "code",
   "execution_count": 43,
   "id": "06db2047-dd40-4391-bcc1-fb8dc8ef711b",
   "metadata": {},
   "outputs": [
    {
     "name": "stdin",
     "output_type": "stream",
     "text": [
      "Enter a Initial Range:  5\n",
      "Enter a Final Range:  50\n"
     ]
    },
    {
     "name": "stdout",
     "output_type": "stream",
     "text": [
      "Complete Sequence: [5, 6, 7, 8, 9, 10, 11, 12, 13, 14, 15, 16, 17, 18, 19, 20, 21, 22, 23, 24, 25, 26, 27, 28, 29, 30, 31, 32, 33, 34, 35, 36, 37, 38, 39, 40, 41, 42, 43, 44, 45, 46, 47, 48, 49, 50]\n",
      "Odd Numbers: [5, 7, 9, 11, 13, 15, 17, 19, 21, 23, 25, 27, 29, 31, 33, 35, 37, 39, 41, 43, 45, 47, 49]\n",
      "Even Numbers: [6, 8, 10, 12, 14, 16, 18, 20, 22, 24, 26, 28, 30, 32, 34, 36, 38, 40, 42, 44, 46, 48, 50]\n"
     ]
    }
   ],
   "source": [
    "initRange = int(input(\"Enter a Initial Range: \"))\n",
    "finalRange = int(input(\"Enter a Final Range: \"))\n",
    "seq = [i for i in range(initRange, finalRange+1)]\n",
    "oddnum = [i for i in range(initRange, finalRange+1) if i%2 != 0]\n",
    "evennum = [i for i in range(initRange, finalRange+1) if i%2 == 0]\n",
    "\n",
    "print(\"Complete Sequence:\",seq)\n",
    "print(\"Odd Numbers:\",oddnum)\n",
    "print(\"Even Numbers:\",evennum)"
   ]
  },
  {
   "cell_type": "code",
   "execution_count": 57,
   "id": "f10b9587-cb4f-4703-8a4a-169b7271e87e",
   "metadata": {},
   "outputs": [
    {
     "name": "stdin",
     "output_type": "stream",
     "text": [
      "Enter a word:  abracadabra\n",
      "Enter a letter to extract index:  a\n"
     ]
    },
    {
     "name": "stdout",
     "output_type": "stream",
     "text": [
      "Letter a in abracadabra is repeatadly occured in the index of [0, 3, 5, 7, 10]\n"
     ]
    }
   ],
   "source": [
    "# 9. Count the index numbers of specific letter in a given words\n",
    "\n",
    "word = input(\"Enter a word: \")\n",
    "letter = input(\"Enter a letter to extract index: \")\n",
    "letterindex = []\n",
    "\n",
    "for i in range(len(word)):\n",
    "    if word[i] == letter:\n",
    "        letterindex.append(i)\n",
    "        \n",
    "print(f\"Letter {letter} in {word} is repeatadly occured in the index of {letterindex}\")"
   ]
  },
  {
   "cell_type": "code",
   "execution_count": 68,
   "id": "2b6555d4-09cc-4084-835e-7d419a75e599",
   "metadata": {},
   "outputs": [
    {
     "name": "stdin",
     "output_type": "stream",
     "text": [
      "Enter word:  Python\n"
     ]
    },
    {
     "name": "stdout",
     "output_type": "stream",
     "text": [
      "Pyyttthhhhooooonnnnnn"
     ]
    }
   ],
   "source": [
    "# 11. Write a program to print string “Python” as “Pyyttthhhhooooonnnnnn” ?\n",
    "\n",
    "userinput = input(\"Enter word: \")\n",
    "for i in range(1, len(userinput)+1):\n",
    "    print(i*userinput[i-1], end='')"
   ]
  },
  {
   "cell_type": "code",
   "execution_count": 69,
   "id": "835434ee-3bd3-4c2e-846b-9738cb763669",
   "metadata": {},
   "outputs": [],
   "source": [
    "# 13. Python program to print the largest element in an array ?"
   ]
  },
  {
   "cell_type": "code",
   "execution_count": 79,
   "id": "ce7179c7-61f3-48a8-82ba-da936dfb5e49",
   "metadata": {},
   "outputs": [
    {
     "name": "stdout",
     "output_type": "stream",
     "text": [
      "[33, 14, 6, 48, 57, 37, 7, 80, 78, 22, 35, 29, 2, 45, 26, 47, 93, 71, 12, 34]\n"
     ]
    }
   ],
   "source": [
    "import random\n",
    "randomnum = []\n",
    "\n",
    "for i in range(20):\n",
    "    a = random.randint(1, 100)\n",
    "    randomnum.append(a)\n",
    "print(randomnum)"
   ]
  },
  {
   "cell_type": "code",
   "execution_count": 80,
   "id": "9a8e3104-0b5c-40f8-8610-991240ee8c8c",
   "metadata": {},
   "outputs": [
    {
     "data": {
      "text/plain": [
       "[33, 14, 6, 48, 57, 37, 7, 80, 78, 22, 35, 29, 2, 45, 26, 47, 93, 71, 12, 34]"
      ]
     },
     "execution_count": 80,
     "metadata": {},
     "output_type": "execute_result"
    }
   ],
   "source": [
    "randomnum"
   ]
  },
  {
   "cell_type": "code",
   "execution_count": 82,
   "id": "9115fd42-a8ff-4e0f-8200-ed092642191b",
   "metadata": {},
   "outputs": [
    {
     "data": {
      "text/plain": [
       "33"
      ]
     },
     "execution_count": 82,
     "metadata": {},
     "output_type": "execute_result"
    }
   ],
   "source": [
    "largest = randomnum[0]\n",
    "largest"
   ]
  },
  {
   "cell_type": "code",
   "execution_count": 89,
   "id": "2419f6cd-7387-4076-a778-e0c1e142aadc",
   "metadata": {},
   "outputs": [
    {
     "name": "stdout",
     "output_type": "stream",
     "text": [
      "93\n"
     ]
    }
   ],
   "source": [
    "for i in randomnum:\n",
    "    if i >= largest:\n",
    "        largest = i\n",
    "\n",
    "print(largest)"
   ]
  },
  {
   "cell_type": "code",
   "execution_count": 90,
   "id": "5da3af89-9ee0-4991-a08e-55c09698f0be",
   "metadata": {},
   "outputs": [
    {
     "name": "stdout",
     "output_type": "stream",
     "text": [
      "2\n"
     ]
    }
   ],
   "source": [
    "smallest =  randomnum[0]\n",
    "\n",
    "\n",
    "for i in randomnum:\n",
    "    if i <= smallest:\n",
    "        smallest = i\n",
    "\n",
    "print(smallest)"
   ]
  },
  {
   "cell_type": "code",
   "execution_count": null,
   "id": "927b825e-c76b-4ad8-9819-f1bd2d167408",
   "metadata": {},
   "outputs": [],
   "source": []
  }
 ],
 "metadata": {
  "kernelspec": {
   "display_name": "Python 3 (ipykernel)",
   "language": "python",
   "name": "python3"
  },
  "language_info": {
   "codemirror_mode": {
    "name": "ipython",
    "version": 3
   },
   "file_extension": ".py",
   "mimetype": "text/x-python",
   "name": "python",
   "nbconvert_exporter": "python",
   "pygments_lexer": "ipython3",
   "version": "3.12.4"
  }
 },
 "nbformat": 4,
 "nbformat_minor": 5
}
