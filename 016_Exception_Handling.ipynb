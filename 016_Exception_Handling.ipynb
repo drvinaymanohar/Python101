{
 "cells": [
  {
   "cell_type": "markdown",
   "id": "3e292e53-86f4-4255-af7c-89398c59bc9e",
   "metadata": {},
   "source": [
    "#### Error Handling"
   ]
  },
  {
   "cell_type": "markdown",
   "id": "5b7e8d8a-0968-45bf-92d2-588abb65916c",
   "metadata": {},
   "source": [
    "`What is Error Handling in Python?`\n",
    "\n",
    "- Errors are a part of coding. Whether it’s a typing mistake, misuse of syntaxes, accessing something that doesn’t exist, or an unexpected input, mistakes happen.\n",
    "\n",
    "- But if not managed properly, these errors can cause your program to crash.\n",
    "  \n",
    "- Error handling in Python is about managing these situations so your code can keep running smoothly."
   ]
  },
  {
   "cell_type": "markdown",
   "id": "a02f4814-308a-49a5-9fef-6b4485979c36",
   "metadata": {},
   "source": [
    "#### ERRORS and KERNEL Break\n",
    "\n",
    "The Python kernel is the backbone of your interactive computing experience, especially within environments like Jupyter notebooks. Here are some of its key roles:\n",
    "\n",
    "`Python Kernel Roles:`\n",
    "\n",
    "\n",
    "`Code Execution:` The kernel executes your Python code cell-by-cell, allowing you to interactively test and refine your code.\n",
    "\n",
    "`Variable Storage:` It keeps track of the variables and their states during your session, so you can reference and manipulate them across different cells.\n",
    "\n",
    "`Error Handling:` It detects and reports errors in your code, making debugging easier by showing where and why the errors occurred.\n",
    "\n",
    "`Interactive Outputs:` The kernel handles generating and displaying outputs from your code, including plots, text results, and interactive widgets.\n",
    "\n",
    "`Memory Management:` It manages the memory usage of your session, allocating resources to ensure efficient execution of your code."
   ]
  },
  {
   "cell_type": "markdown",
   "id": "4ab96085-1112-48e5-8773-d9179852edce",
   "metadata": {},
   "source": [
    "#### Types of Errors"
   ]
  },
  {
   "cell_type": "code",
   "execution_count": 23,
   "id": "41be0c93-fdb8-4c6d-a3d7-bbf9911604e8",
   "metadata": {},
   "outputs": [
    {
     "ename": "SyntaxError",
     "evalue": "Missing parentheses in call to 'print'. Did you mean print(...)? (1324763157.py, line 3)",
     "output_type": "error",
     "traceback": [
      "\u001b[1;36m  Cell \u001b[1;32mIn[23], line 3\u001b[1;36m\u001b[0m\n\u001b[1;33m    print \"Hello\"  # Missing parentheses\u001b[0m\n\u001b[1;37m    ^\u001b[0m\n\u001b[1;31mSyntaxError\u001b[0m\u001b[1;31m:\u001b[0m Missing parentheses in call to 'print'. Did you mean print(...)?\n"
     ]
    }
   ],
   "source": [
    "# Syntax Errors\n",
    "# Occur when the Python parser detects an incorrect or invalid syntax.\n",
    "print \"Hello\"  # Missing parentheses"
   ]
  },
  {
   "cell_type": "code",
   "execution_count": null,
   "id": "a2b7f741-71c6-4ff6-9a81-a99669b9852f",
   "metadata": {},
   "outputs": [],
   "source": [
    "# Exceptions (Runtime Errors)"
   ]
  },
  {
   "cell_type": "code",
   "execution_count": 30,
   "id": "200d1f25-e1aa-4efd-88e6-4fb7fb81b2a0",
   "metadata": {},
   "outputs": [
    {
     "ename": "TypeError",
     "evalue": "unsupported operand type(s) for +: 'int' and 'str'",
     "output_type": "error",
     "traceback": [
      "\u001b[1;31m---------------------------------------------------------------------------\u001b[0m",
      "\u001b[1;31mTypeError\u001b[0m                                 Traceback (most recent call last)",
      "Cell \u001b[1;32mIn[30], line 4\u001b[0m\n\u001b[0;32m      1\u001b[0m \u001b[38;5;66;03m# TypeError\u001b[39;00m\n\u001b[0;32m      2\u001b[0m \u001b[38;5;66;03m# Raised when an operation or function is applied to an object of inappropriate type.\u001b[39;00m\n\u001b[1;32m----> 4\u001b[0m \u001b[38;5;241m2\u001b[39m \u001b[38;5;241m+\u001b[39m \u001b[38;5;124m'\u001b[39m\u001b[38;5;124m6\u001b[39m\u001b[38;5;124m'\u001b[39m\n",
      "\u001b[1;31mTypeError\u001b[0m: unsupported operand type(s) for +: 'int' and 'str'"
     ]
    }
   ],
   "source": [
    "# TypeError\n",
    "# Raised when an operation or function is applied to an object of inappropriate type.\n",
    "\n",
    "2 + '6'"
   ]
  },
  {
   "cell_type": "code",
   "execution_count": 36,
   "id": "4793961d-143b-4e70-806e-a96271e65dba",
   "metadata": {},
   "outputs": [
    {
     "ename": "ValueError",
     "evalue": "invalid literal for int() with base 10: 'Hello'",
     "output_type": "error",
     "traceback": [
      "\u001b[1;31m---------------------------------------------------------------------------\u001b[0m",
      "\u001b[1;31mValueError\u001b[0m                                Traceback (most recent call last)",
      "Cell \u001b[1;32mIn[36], line 4\u001b[0m\n\u001b[0;32m      1\u001b[0m \u001b[38;5;66;03m# ValueError\u001b[39;00m\n\u001b[0;32m      2\u001b[0m \u001b[38;5;66;03m# Raised when a function receives an argument of the correct type but inappropriate value.\u001b[39;00m\n\u001b[1;32m----> 4\u001b[0m \u001b[38;5;28mint\u001b[39m(\u001b[38;5;124m'\u001b[39m\u001b[38;5;124mHello\u001b[39m\u001b[38;5;124m'\u001b[39m)\n",
      "\u001b[1;31mValueError\u001b[0m: invalid literal for int() with base 10: 'Hello'"
     ]
    }
   ],
   "source": [
    "# ValueError\n",
    "# Raised when a function receives an argument of the correct type but inappropriate value.\n",
    "\n",
    "int('Hello') # text stored as string \n"
   ]
  },
  {
   "cell_type": "code",
   "execution_count": 37,
   "id": "7a289c34-22cc-416c-bf3b-a0054c7b528e",
   "metadata": {},
   "outputs": [
    {
     "data": {
      "text/plain": [
       "4"
      ]
     },
     "execution_count": 37,
     "metadata": {},
     "output_type": "execute_result"
    }
   ],
   "source": [
    "int('4') # number stores as string"
   ]
  },
  {
   "cell_type": "code",
   "execution_count": 42,
   "id": "8ecc830d-2a7c-4b96-9133-0c81c5551531",
   "metadata": {},
   "outputs": [
    {
     "data": {
      "text/plain": [
       "1.4"
      ]
     },
     "execution_count": 42,
     "metadata": {},
     "output_type": "execute_result"
    }
   ],
   "source": [
    "float('1.4') # number stores as string"
   ]
  },
  {
   "cell_type": "code",
   "execution_count": 43,
   "id": "1395cef5-54a3-4779-a118-d5e6aeeac0bd",
   "metadata": {},
   "outputs": [
    {
     "data": {
      "text/plain": [
       "1"
      ]
     },
     "execution_count": 43,
     "metadata": {},
     "output_type": "execute_result"
    }
   ],
   "source": [
    "# IndexError\n",
    "# Raised when trying to access an element from a list or other sequence using an out-of-range index.\n",
    "\n",
    "lst = [1, 2, 3]\n",
    "lst[0]"
   ]
  },
  {
   "cell_type": "code",
   "execution_count": 44,
   "id": "e228d333-1a81-4735-abf7-b35a1728ffcd",
   "metadata": {},
   "outputs": [
    {
     "data": {
      "text/plain": [
       "2"
      ]
     },
     "execution_count": 44,
     "metadata": {},
     "output_type": "execute_result"
    }
   ],
   "source": [
    "lst[1]"
   ]
  },
  {
   "cell_type": "code",
   "execution_count": 45,
   "id": "37671a75-ffff-43d2-824e-d8fa10d24d36",
   "metadata": {},
   "outputs": [
    {
     "data": {
      "text/plain": [
       "3"
      ]
     },
     "execution_count": 45,
     "metadata": {},
     "output_type": "execute_result"
    }
   ],
   "source": [
    "lst[2]"
   ]
  },
  {
   "cell_type": "code",
   "execution_count": 46,
   "id": "9d1297db-0fd4-44fd-9640-f1d260dcccbd",
   "metadata": {},
   "outputs": [
    {
     "ename": "IndexError",
     "evalue": "list index out of range",
     "output_type": "error",
     "traceback": [
      "\u001b[1;31m---------------------------------------------------------------------------\u001b[0m",
      "\u001b[1;31mIndexError\u001b[0m                                Traceback (most recent call last)",
      "Cell \u001b[1;32mIn[46], line 1\u001b[0m\n\u001b[1;32m----> 1\u001b[0m lst[\u001b[38;5;241m3\u001b[39m]\n",
      "\u001b[1;31mIndexError\u001b[0m: list index out of range"
     ]
    }
   ],
   "source": [
    "lst[3]"
   ]
  },
  {
   "cell_type": "code",
   "execution_count": 50,
   "id": "cd209b26-9415-4b02-b444-095d32c4d6b4",
   "metadata": {},
   "outputs": [
    {
     "data": {
      "text/plain": [
       "1"
      ]
     },
     "execution_count": 50,
     "metadata": {},
     "output_type": "execute_result"
    }
   ],
   "source": [
    "tup = (1, 2, 3)\n",
    "tup[0]"
   ]
  },
  {
   "cell_type": "code",
   "execution_count": 51,
   "id": "3415d273-ad35-48e9-87d8-7536e33231ed",
   "metadata": {},
   "outputs": [
    {
     "ename": "IndexError",
     "evalue": "tuple index out of range",
     "output_type": "error",
     "traceback": [
      "\u001b[1;31m---------------------------------------------------------------------------\u001b[0m",
      "\u001b[1;31mIndexError\u001b[0m                                Traceback (most recent call last)",
      "Cell \u001b[1;32mIn[51], line 1\u001b[0m\n\u001b[1;32m----> 1\u001b[0m tup[\u001b[38;5;241m7\u001b[39m]\n",
      "\u001b[1;31mIndexError\u001b[0m: tuple index out of range"
     ]
    }
   ],
   "source": [
    "tup[7]"
   ]
  },
  {
   "cell_type": "code",
   "execution_count": 54,
   "id": "0873de1d-2090-4b88-89fa-16c69fd4f0b8",
   "metadata": {},
   "outputs": [],
   "source": [
    "myset = {'King', 'Queen', 'Joker'}"
   ]
  },
  {
   "cell_type": "code",
   "execution_count": 55,
   "id": "9a031d1e-a91b-4c64-b4b6-3653a8cd4bb2",
   "metadata": {},
   "outputs": [
    {
     "ename": "TypeError",
     "evalue": "'set' object is not subscriptable",
     "output_type": "error",
     "traceback": [
      "\u001b[1;31m---------------------------------------------------------------------------\u001b[0m",
      "\u001b[1;31mTypeError\u001b[0m                                 Traceback (most recent call last)",
      "Cell \u001b[1;32mIn[55], line 1\u001b[0m\n\u001b[1;32m----> 1\u001b[0m myset[\u001b[38;5;241m0\u001b[39m]\n",
      "\u001b[1;31mTypeError\u001b[0m: 'set' object is not subscriptable"
     ]
    }
   ],
   "source": [
    "myset[0]"
   ]
  },
  {
   "cell_type": "code",
   "execution_count": 56,
   "id": "a6d71057-1cda-454a-a106-c4b556cd9ef4",
   "metadata": {},
   "outputs": [],
   "source": [
    "# KeyError\n",
    "# Raised when trying to access a dictionary key that does not exist\n",
    "\n",
    "data = {\"a\": 1}"
   ]
  },
  {
   "cell_type": "code",
   "execution_count": 57,
   "id": "c0b962aa-38cb-48c5-acec-523b9baead31",
   "metadata": {},
   "outputs": [
    {
     "data": {
      "text/plain": [
       "1"
      ]
     },
     "execution_count": 57,
     "metadata": {},
     "output_type": "execute_result"
    }
   ],
   "source": [
    "data[\"a\"]"
   ]
  },
  {
   "cell_type": "code",
   "execution_count": 58,
   "id": "216b94f8-a924-4afa-8454-67f764316003",
   "metadata": {},
   "outputs": [
    {
     "ename": "KeyError",
     "evalue": "'c'",
     "output_type": "error",
     "traceback": [
      "\u001b[1;31m---------------------------------------------------------------------------\u001b[0m",
      "\u001b[1;31mKeyError\u001b[0m                                  Traceback (most recent call last)",
      "Cell \u001b[1;32mIn[58], line 1\u001b[0m\n\u001b[1;32m----> 1\u001b[0m data[\u001b[38;5;124m\"\u001b[39m\u001b[38;5;124mc\u001b[39m\u001b[38;5;124m\"\u001b[39m]\n",
      "\u001b[1;31mKeyError\u001b[0m: 'c'"
     ]
    }
   ],
   "source": [
    "data[\"c\"]"
   ]
  },
  {
   "cell_type": "code",
   "execution_count": 59,
   "id": "75066661-d23d-47c7-8a18-d6ae0d85ef8b",
   "metadata": {},
   "outputs": [],
   "source": [
    "#AttributeError\n",
    "#Raised when an invalid attribute is referenced for an object.\n",
    "\n",
    "lst = [1, 2, 3]"
   ]
  },
  {
   "cell_type": "code",
   "execution_count": 61,
   "id": "73d04ef3-c4d3-499f-af3a-e66d4afa9dae",
   "metadata": {},
   "outputs": [
    {
     "data": {
      "text/plain": [
       "[1, 2, 3, 5]"
      ]
     },
     "execution_count": 61,
     "metadata": {},
     "output_type": "execute_result"
    }
   ],
   "source": [
    "lst.append(5)\n",
    "lst"
   ]
  },
  {
   "cell_type": "code",
   "execution_count": 62,
   "id": "48311bb0-0f6c-4f15-8783-c337dccd471f",
   "metadata": {},
   "outputs": [
    {
     "data": {
      "text/plain": [
       "5"
      ]
     },
     "execution_count": 62,
     "metadata": {},
     "output_type": "execute_result"
    }
   ],
   "source": [
    "lst.pop()"
   ]
  },
  {
   "cell_type": "code",
   "execution_count": 63,
   "id": "d7dcf35c-b10e-462e-b6d1-2b9a61a6e8fa",
   "metadata": {},
   "outputs": [
    {
     "data": {
      "text/plain": [
       "[1, 2, 3]"
      ]
     },
     "execution_count": 63,
     "metadata": {},
     "output_type": "execute_result"
    }
   ],
   "source": [
    "lst"
   ]
  },
  {
   "cell_type": "code",
   "execution_count": 65,
   "id": "7c9591a6-43fd-4589-a3b1-a1fc9de65afd",
   "metadata": {},
   "outputs": [
    {
     "data": {
      "text/plain": [
       "list"
      ]
     },
     "execution_count": 65,
     "metadata": {},
     "output_type": "execute_result"
    }
   ],
   "source": [
    "type(lst)"
   ]
  },
  {
   "cell_type": "code",
   "execution_count": 64,
   "id": "b381c222-8519-4ae7-8fef-a31aee526001",
   "metadata": {},
   "outputs": [
    {
     "ename": "AttributeError",
     "evalue": "'list' object has no attribute 'pops'",
     "output_type": "error",
     "traceback": [
      "\u001b[1;31m---------------------------------------------------------------------------\u001b[0m",
      "\u001b[1;31mAttributeError\u001b[0m                            Traceback (most recent call last)",
      "Cell \u001b[1;32mIn[64], line 1\u001b[0m\n\u001b[1;32m----> 1\u001b[0m lst\u001b[38;5;241m.\u001b[39mpops()\n",
      "\u001b[1;31mAttributeError\u001b[0m: 'list' object has no attribute 'pops'"
     ]
    }
   ],
   "source": [
    "lst.pops()"
   ]
  },
  {
   "cell_type": "code",
   "execution_count": 66,
   "id": "b02837d6-d2b1-4c35-a5cc-36234fe51609",
   "metadata": {},
   "outputs": [
    {
     "ename": "AttributeError",
     "evalue": "'list' object has no attribute 'items'",
     "output_type": "error",
     "traceback": [
      "\u001b[1;31m---------------------------------------------------------------------------\u001b[0m",
      "\u001b[1;31mAttributeError\u001b[0m                            Traceback (most recent call last)",
      "Cell \u001b[1;32mIn[66], line 1\u001b[0m\n\u001b[1;32m----> 1\u001b[0m lst\u001b[38;5;241m.\u001b[39mitems()\n",
      "\u001b[1;31mAttributeError\u001b[0m: 'list' object has no attribute 'items'"
     ]
    }
   ],
   "source": [
    "lst.items()"
   ]
  },
  {
   "cell_type": "code",
   "execution_count": 67,
   "id": "49cc0e95-119e-4c64-87e2-680f018d6e68",
   "metadata": {},
   "outputs": [
    {
     "data": {
      "text/plain": [
       "dict_items([('a', 1)])"
      ]
     },
     "execution_count": 67,
     "metadata": {},
     "output_type": "execute_result"
    }
   ],
   "source": [
    "data.items()"
   ]
  },
  {
   "cell_type": "code",
   "execution_count": 69,
   "id": "4b6d80cf-e211-43ee-9bf8-e757ac4f8a4e",
   "metadata": {},
   "outputs": [
    {
     "data": {
      "text/plain": [
       "dict_values([1])"
      ]
     },
     "execution_count": 69,
     "metadata": {},
     "output_type": "execute_result"
    }
   ],
   "source": [
    "data.values()"
   ]
  },
  {
   "cell_type": "code",
   "execution_count": 70,
   "id": "8fe91777-d926-4cee-b391-60e57428491f",
   "metadata": {},
   "outputs": [
    {
     "ename": "AttributeError",
     "evalue": "'list' object has no attribute 'values'",
     "output_type": "error",
     "traceback": [
      "\u001b[1;31m---------------------------------------------------------------------------\u001b[0m",
      "\u001b[1;31mAttributeError\u001b[0m                            Traceback (most recent call last)",
      "Cell \u001b[1;32mIn[70], line 1\u001b[0m\n\u001b[1;32m----> 1\u001b[0m lst\u001b[38;5;241m.\u001b[39mvalues()\n",
      "\u001b[1;31mAttributeError\u001b[0m: 'list' object has no attribute 'values'"
     ]
    }
   ],
   "source": [
    "lst.values()"
   ]
  },
  {
   "cell_type": "code",
   "execution_count": 71,
   "id": "e286c81b-453b-4d6a-bead-b6e1887992b2",
   "metadata": {},
   "outputs": [
    {
     "ename": "ZeroDivisionError",
     "evalue": "division by zero",
     "output_type": "error",
     "traceback": [
      "\u001b[1;31m---------------------------------------------------------------------------\u001b[0m",
      "\u001b[1;31mZeroDivisionError\u001b[0m                         Traceback (most recent call last)",
      "Cell \u001b[1;32mIn[71], line 4\u001b[0m\n\u001b[0;32m      1\u001b[0m \u001b[38;5;66;03m# ZeroDivisionError\u001b[39;00m\n\u001b[0;32m      2\u001b[0m \u001b[38;5;66;03m# Raised when division or modulo by zero occurs\u001b[39;00m\n\u001b[1;32m----> 4\u001b[0m \u001b[38;5;241m1\u001b[39m \u001b[38;5;241m/\u001b[39m \u001b[38;5;241m0\u001b[39m\n",
      "\u001b[1;31mZeroDivisionError\u001b[0m: division by zero"
     ]
    }
   ],
   "source": [
    "# ZeroDivisionError\n",
    "# Raised when division or modulo by zero occurs\n",
    "\n",
    "1 / 0"
   ]
  },
  {
   "cell_type": "code",
   "execution_count": 72,
   "id": "130b3c5f-6814-4d36-9701-f9188a9120fe",
   "metadata": {},
   "outputs": [],
   "source": [
    "# ImportError or ModuleNotFoundError\n",
    "# Raised when an import statement fails to find the module definition.\n",
    "\n",
    "import math"
   ]
  },
  {
   "cell_type": "code",
   "execution_count": 75,
   "id": "4d549e11-b291-407a-a804-cec690a6f94d",
   "metadata": {},
   "outputs": [],
   "source": [
    "import pandas"
   ]
  },
  {
   "cell_type": "code",
   "execution_count": 76,
   "id": "0e6601dd-acfc-4b43-8c02-94d9cb26de96",
   "metadata": {},
   "outputs": [],
   "source": [
    "import numpy"
   ]
  },
  {
   "cell_type": "code",
   "execution_count": 77,
   "id": "8b0838a6-5a33-4478-9f4b-aeebb05c2c97",
   "metadata": {},
   "outputs": [
    {
     "ename": "ModuleNotFoundError",
     "evalue": "No module named 'keyboard'",
     "output_type": "error",
     "traceback": [
      "\u001b[1;31m---------------------------------------------------------------------------\u001b[0m",
      "\u001b[1;31mModuleNotFoundError\u001b[0m                       Traceback (most recent call last)",
      "Cell \u001b[1;32mIn[77], line 1\u001b[0m\n\u001b[1;32m----> 1\u001b[0m \u001b[38;5;28;01mimport\u001b[39;00m \u001b[38;5;21;01mkeyboard\u001b[39;00m\n",
      "\u001b[1;31mModuleNotFoundError\u001b[0m: No module named 'keyboard'"
     ]
    }
   ],
   "source": [
    "import keyboard"
   ]
  },
  {
   "cell_type": "code",
   "execution_count": 79,
   "id": "6438ce5f-c45c-4fcd-af8f-30853a59570c",
   "metadata": {},
   "outputs": [
    {
     "ename": "FileNotFoundError",
     "evalue": "[Errno 2] No such file or directory: 'student.txt'",
     "output_type": "error",
     "traceback": [
      "\u001b[1;31m---------------------------------------------------------------------------\u001b[0m",
      "\u001b[1;31mFileNotFoundError\u001b[0m                         Traceback (most recent call last)",
      "Cell \u001b[1;32mIn[79], line 4\u001b[0m\n\u001b[0;32m      1\u001b[0m \u001b[38;5;66;03m# FileNotFouArithmeticErrorndError\u001b[39;00m\n\u001b[0;32m      2\u001b[0m \u001b[38;5;66;03m# Raised when trying to open a file that does not exist.\u001b[39;00m\n\u001b[1;32m----> 4\u001b[0m \u001b[38;5;28mopen\u001b[39m(\u001b[38;5;124m\"\u001b[39m\u001b[38;5;124mstudent.txt\u001b[39m\u001b[38;5;124m\"\u001b[39m)\n",
      "File \u001b[1;32m~\\anaconda3\\Lib\\site-packages\\IPython\\core\\interactiveshell.py:324\u001b[0m, in \u001b[0;36m_modified_open\u001b[1;34m(file, *args, **kwargs)\u001b[0m\n\u001b[0;32m    317\u001b[0m \u001b[38;5;28;01mif\u001b[39;00m file \u001b[38;5;129;01min\u001b[39;00m {\u001b[38;5;241m0\u001b[39m, \u001b[38;5;241m1\u001b[39m, \u001b[38;5;241m2\u001b[39m}:\n\u001b[0;32m    318\u001b[0m     \u001b[38;5;28;01mraise\u001b[39;00m \u001b[38;5;167;01mValueError\u001b[39;00m(\n\u001b[0;32m    319\u001b[0m         \u001b[38;5;124mf\u001b[39m\u001b[38;5;124m\"\u001b[39m\u001b[38;5;124mIPython won\u001b[39m\u001b[38;5;124m'\u001b[39m\u001b[38;5;124mt let you open fd=\u001b[39m\u001b[38;5;132;01m{\u001b[39;00mfile\u001b[38;5;132;01m}\u001b[39;00m\u001b[38;5;124m by default \u001b[39m\u001b[38;5;124m\"\u001b[39m\n\u001b[0;32m    320\u001b[0m         \u001b[38;5;124m\"\u001b[39m\u001b[38;5;124mas it is likely to crash IPython. If you know what you are doing, \u001b[39m\u001b[38;5;124m\"\u001b[39m\n\u001b[0;32m    321\u001b[0m         \u001b[38;5;124m\"\u001b[39m\u001b[38;5;124myou can use builtins\u001b[39m\u001b[38;5;124m'\u001b[39m\u001b[38;5;124m open.\u001b[39m\u001b[38;5;124m\"\u001b[39m\n\u001b[0;32m    322\u001b[0m     )\n\u001b[1;32m--> 324\u001b[0m \u001b[38;5;28;01mreturn\u001b[39;00m io_open(file, \u001b[38;5;241m*\u001b[39margs, \u001b[38;5;241m*\u001b[39m\u001b[38;5;241m*\u001b[39mkwargs)\n",
      "\u001b[1;31mFileNotFoundError\u001b[0m: [Errno 2] No such file or directory: 'student.txt'"
     ]
    }
   ],
   "source": [
    "# FileNotFouArithmeticErrorndError\n",
    "# Raised when trying to open a file that does not exist.\n",
    "\n",
    "open(\"student.txt\")"
   ]
  },
  {
   "cell_type": "code",
   "execution_count": 80,
   "id": "cf63c35a-d7d5-47e7-a644-a3984fb4044a",
   "metadata": {},
   "outputs": [
    {
     "name": "stdout",
     "output_type": "stream",
     "text": [
      "Variable          Type             Data/Info\n",
      "--------------------------------------------\n",
      "NamespaceMagics   MetaHasTraits    <class 'IPython.core.magi<...>mespace.NamespaceMagics'>\n",
      "a                 int              6\n",
      "b                 int              6\n",
      "c                 int              9\n",
      "data              dict             n=1\n",
      "get_ipython       function         <function get_ipython at 0x0000025CC388C180>\n",
      "json              module           <module 'json' from 'C:\\\\<...>\\Lib\\\\json\\\\__init__.py'>\n",
      "lst               list             n=3\n",
      "math              module           <module 'math' (built-in)>\n",
      "myset             set              {'Joker', 'Queen', 'King'}\n",
      "numpy             module           <module 'numpy' from 'C:\\<...>ges\\\\numpy\\\\__init__.py'>\n",
      "pandas            module           <module 'pandas' from 'C:<...>es\\\\pandas\\\\__init__.py'>\n",
      "sys               module           <module 'sys' (built-in)>\n",
      "tup               tuple            n=3\n"
     ]
    }
   ],
   "source": [
    "# NameError\n",
    "# Raised when a variable is not defined or accessible\n",
    "\n",
    "%whos"
   ]
  },
  {
   "cell_type": "code",
   "execution_count": 82,
   "id": "3a35001d-36fc-4fd0-83e2-56d8b12ae0d7",
   "metadata": {},
   "outputs": [
    {
     "name": "stdout",
     "output_type": "stream",
     "text": [
      "7\n"
     ]
    }
   ],
   "source": [
    "d = 7\n",
    "print(d)"
   ]
  },
  {
   "cell_type": "code",
   "execution_count": 83,
   "id": "e8b838cd-2483-43e7-b0ec-9045504e7f72",
   "metadata": {},
   "outputs": [
    {
     "ename": "NameError",
     "evalue": "name 'z' is not defined",
     "output_type": "error",
     "traceback": [
      "\u001b[1;31m---------------------------------------------------------------------------\u001b[0m",
      "\u001b[1;31mNameError\u001b[0m                                 Traceback (most recent call last)",
      "Cell \u001b[1;32mIn[83], line 1\u001b[0m\n\u001b[1;32m----> 1\u001b[0m \u001b[38;5;28mprint\u001b[39m(z)\n",
      "\u001b[1;31mNameError\u001b[0m: name 'z' is not defined"
     ]
    }
   ],
   "source": [
    "print(z)"
   ]
  },
  {
   "cell_type": "code",
   "execution_count": 84,
   "id": "b3507fe2-1e84-4ebc-bd17-1b3c9140bc7b",
   "metadata": {},
   "outputs": [
    {
     "name": "stdout",
     "output_type": "stream",
     "text": [
      "0\n",
      "1\n",
      "2\n",
      "3\n",
      "4\n",
      "5\n",
      "6\n",
      "7\n",
      "8\n",
      "9\n"
     ]
    }
   ],
   "source": [
    "# IndentationError\n",
    "# Raised when there is incorrect indentation in the code\n",
    "\n",
    "for i in range(10):\n",
    "    print(i)"
   ]
  },
  {
   "cell_type": "code",
   "execution_count": 97,
   "id": "496b9cbe-3289-4f15-833a-6877dd457e43",
   "metadata": {},
   "outputs": [
    {
     "name": "stdout",
     "output_type": "stream",
     "text": [
      "0\n",
      "1\n",
      "2\n",
      "3\n",
      "4\n",
      "5\n",
      "6\n",
      "7\n",
      "8\n",
      "9\n"
     ]
    }
   ],
   "source": [
    "for i in range(10):\n",
    "   print(i)"
   ]
  },
  {
   "cell_type": "markdown",
   "id": "612de137-f035-4949-86b5-a8e52491606e",
   "metadata": {},
   "source": [
    "#### Handling Errors (Exceptional Handling)"
   ]
  },
  {
   "cell_type": "code",
   "execution_count": null,
   "id": "e2a5b016-dc85-4893-b227-5810a6ce1ac9",
   "metadata": {},
   "outputs": [],
   "source": [
    "# Try-except blocks: Wrap potentially problematic code in try-except to handle errors.\n",
    "# Multiple except blocks: Catch different exceptions with specific except clauses.\n",
    "# Raising exceptions: Create custom exceptions when necessary."
   ]
  },
  {
   "cell_type": "code",
   "execution_count": null,
   "id": "63cd8988-87fc-4b77-97ed-252e6dc45204",
   "metadata": {},
   "outputs": [],
   "source": [
    "# How to Handle Runtime Errors\n",
    "\n",
    "# Use try-except blocks: Wrap the code that might raise an error in a try block.\n",
    "# If an error occurs, Python jumps to the except block to handle it.\n",
    "\n",
    "'''\n",
    "try:\n",
    "    # Code that may raise an exception\n",
    "except ExceptionType:\n",
    "    # Code to handle the exception\n",
    "\n",
    "'''"
   ]
  },
  {
   "cell_type": "markdown",
   "id": "c43bbeff-f815-4971-9c77-20975a2e1e2e",
   "metadata": {},
   "source": [
    "#### List of Errors in Python\n",
    "- AssertionError: Raised when an assert statement fails.\n",
    "- AttributeError: Raised when attribute assignment or reference fails.\n",
    "- EOFError: Raised when the input() function hits an end-of-file condition (EOF).\n",
    "- FloatingPointError: Raised when a floating-point operation fails.\n",
    "- GeneratorExit: Raised when a generator’s close() method is called.\n",
    "- ImportError: Raised when an import statement fails to find the module definition.\n",
    "- ModuleNotFoundError: A subclass of ImportError, raised by import when a module is not found.\n",
    "- IndexError: Raised when a sequence subscript is out of range.\n",
    "- KeyError: Raised when a dictionary key is not found.\n",
    "- KeyboardInterrupt: Raised when the user hits the interrupt key (Ctrl+C or Delete).\n",
    "- MemoryError: Raised when an operation runs out of memory.\n",
    "- NameError: Raised when a local or global name is not found.\n",
    "- NotImplementedError: Raised by abstract methods.\n",
    "- OSError: Raised when a system function returns a system-related error.\n",
    "- OverflowError: Raised when the result of an arithmetic operation is too large to be expressed.\n",
    "- ReferenceError: Raised when a weak reference proxy is used to access a garbage-collected referent.\n",
    "- RuntimeError: Raised when an error does not fall under any other category.\n",
    "- StopIteration: Raised by the next() function to signal that there are no further items produced by the iterator.\n",
    "- SyntaxError: Raised when the parser encounters a syntax error.\n",
    "- IndentationError: A subclass of SyntaxError, raised when there’s an incorrect indentation.\n",
    "- TabError: Raised when indentation consists of inconsistent tabs and spaces.\n",
    "- SystemError: Raised when the interpreter finds an internal error.\n",
    "- SystemExit: Raised by the sys.exit() function.\n",
    "- TypeError: Raised when an operation or function is applied to an object of inappropriate type.\n",
    "- UnboundLocalError: A subclass of NameError, raised when a local variable is referenced before assignment.\n",
    "- UnicodeError: Raised when a Unicode-related encoding or decoding error occurs.\n",
    "- UnicodeEncodeError: A subclass of UnicodeError, raised when a Unicode-related error occurs during encoding.\n",
    "- UnicodeDecodeError: A subclass of UnicodeError, raised when a Unicode-related error occurs during decoding.\n",
    "- UnicodeTranslateError: A subclass of UnicodeError, raised when a Unicode-related error occurs during translating.\n",
    "- ValueError: Raised when a function receives an argument of the correct type but inappropriate value.\n",
    "- ZeroDivisionError: Raised when the second argument of a division or modulo operation is zero."
   ]
  },
  {
   "cell_type": "code",
   "execution_count": 106,
   "id": "4f49f84a-c9e5-49c7-943b-0b3602bd5433",
   "metadata": {},
   "outputs": [
    {
     "ename": "SyntaxError",
     "evalue": "invalid syntax (1973992883.py, line 1)",
     "output_type": "error",
     "traceback": [
      "\u001b[1;36m  Cell \u001b[1;32mIn[106], line 1\u001b[1;36m\u001b[0m\n\u001b[1;33m    result = 10 / $\u001b[0m\n\u001b[1;37m                  ^\u001b[0m\n\u001b[1;31mSyntaxError\u001b[0m\u001b[1;31m:\u001b[0m invalid syntax\n"
     ]
    }
   ],
   "source": [
    "result = 10 / $"
   ]
  },
  {
   "cell_type": "code",
   "execution_count": 111,
   "id": "0277d5df-3fc7-4a87-8053-f3dca1e55b9e",
   "metadata": {},
   "outputs": [
    {
     "name": "stdout",
     "output_type": "stream",
     "text": [
      "Use Proper Variable\n",
      "End of program\n"
     ]
    }
   ],
   "source": [
    "# Handling Zero Division Error\n",
    "try:\n",
    "    result = 10 / u\n",
    "    print(result)\n",
    "except ZeroDivisionError:\n",
    "    print(\"You can't divide by zero!\")\n",
    "except TypeError:\n",
    "    print(\"Use Numerical Inputs in both numerator and denominator\")\n",
    "except NameError:\n",
    "    print(\"Use Proper Variable\")\n",
    "finally:\n",
    "    print('End of program')"
   ]
  },
  {
   "cell_type": "markdown",
   "id": "b8a41cee-c082-4062-87a0-52cf4dd639ff",
   "metadata": {},
   "source": [
    "#### Syntax Errors has got no fix through Try-Catch\n",
    "To handle a SyntaxError in Python, you cannot catch it with a try-except block because SyntaxError occurs at the time of code parsing, before the execution begins. It is a fundamental error in the structure of the code itself. Therefore, fixing the syntax error manually is the only way to resolve it."
   ]
  },
  {
   "cell_type": "code",
   "execution_count": 115,
   "id": "0ffd6a8b-deb5-4357-8cdf-b563cc1e431e",
   "metadata": {},
   "outputs": [
    {
     "name": "stdout",
     "output_type": "stream",
     "text": [
      "An unexpected error occurred: unsupported operand type(s) for /: 'int' and 'str'\n"
     ]
    }
   ],
   "source": [
    "# Handling error when you dont know what type of error may come\n",
    "try:\n",
    "    result = 10 / 't'\n",
    "except Exception as e:\n",
    "    print(f\"An unexpected error occurred: {e}\")"
   ]
  },
  {
   "cell_type": "code",
   "execution_count": 118,
   "id": "8ee94739-a6a2-4c27-a80d-21e618e09d52",
   "metadata": {},
   "outputs": [
    {
     "name": "stdout",
     "output_type": "stream",
     "text": [
      "Error Type: NameError\n",
      "Error Docstring: Name not found globally.\n"
     ]
    }
   ],
   "source": [
    "# Accessing the nature of error with doc strings\n",
    "try:\n",
    "    result = 10 / hj\n",
    "except Exception as e:\n",
    "    error_name = type(e).__name__\n",
    "    error_doc = e.__doc__\n",
    "    print(f\"Error Type: {error_name}\")\n",
    "    print(f\"Error Docstring: {error_doc}\")"
   ]
  },
  {
   "cell_type": "code",
   "execution_count": 1,
   "id": "82070d90-87b8-492a-b909-53dde45d48cf",
   "metadata": {},
   "outputs": [
    {
     "name": "stdin",
     "output_type": "stream",
     "text": [
      "Enter the first number:  1\\\n"
     ]
    },
    {
     "name": "stdout",
     "output_type": "stream",
     "text": [
      "Error: Please enter valid numbers.\n"
     ]
    }
   ],
   "source": [
    "# try - except - else\n",
    "# if try is successful then else will be executed\n",
    "\n",
    "# if try is unsuccessful then except will be executed\n",
    "\n",
    "try:\n",
    "    num1 = int(input(\"Enter the first number: \"))\n",
    "    num2 = int(input(\"Enter the second number: \"))\n",
    "    result = num1 / num2\n",
    "except ZeroDivisionError:\n",
    "    print(\"Error: Division by zero is not allowed.\")\n",
    "except ValueError:\n",
    "    print(\"Error: Please enter valid numbers.\")\n",
    "else:\n",
    "    print(f\"The result is: {result}\")"
   ]
  },
  {
   "cell_type": "code",
   "execution_count": null,
   "id": "1a09ce36-425f-406e-8ec3-ab3c0f289d92",
   "metadata": {},
   "outputs": [],
   "source": [
    "# try - except - else - finally\n",
    "\n",
    "#The try block attempts the division.\n",
    "#The except block catches the ZeroDivisionError and value error.\n",
    "#The else block handles successful execution.\n",
    "#The finally block ensures cleanup.\n",
    "\n",
    "try:\n",
    "    num1 = int(input(\"Enter the first number: \"))\n",
    "    num2 = int(input(\"Enter the second number: \"))\n",
    "    result = num1 / num2\n",
    "except ZeroDivisionError:\n",
    "    print(\"Error: Cannot divide by zero.\")\n",
    "except ValueError:\n",
    "    print(\"Error: Please enter valid numbers.\")\n",
    "else:\n",
    "    print(f\"The result is: {result}\")\n",
    "finally:\n",
    "    print(\"End of Program.\")"
   ]
  },
  {
   "cell_type": "code",
   "execution_count": 119,
   "id": "8b40130a-6965-4aae-862d-725dc80556a0",
   "metadata": {},
   "outputs": [],
   "source": [
    "# RAISE Exceptions in Python\n",
    "# create custom exceptions"
   ]
  },
  {
   "cell_type": "code",
   "execution_count": 129,
   "id": "60319f7b-4e41-41c3-9f5e-2f7316bc8cdf",
   "metadata": {},
   "outputs": [
    {
     "name": "stdin",
     "output_type": "stream",
     "text": [
      "Enter a number:  6\n"
     ]
    },
    {
     "name": "stdout",
     "output_type": "stream",
     "text": [
      "216\n"
     ]
    }
   ],
   "source": [
    "# use of raise\n",
    "a = int(input(\"Enter a number: \"))\n",
    "\n",
    "if a == 0:\n",
    "    raise ValueError(\"Voilaaa!!! Zero not allowed\")\n",
    "elif a < 0:\n",
    "    raise ValueError(\"Enter Positive numbers only\")\n",
    "else:\n",
    "    print(a**3)"
   ]
  },
  {
   "cell_type": "code",
   "execution_count": null,
   "id": "8dfe2a47-b6c8-4265-aaa2-6cdabc583f91",
   "metadata": {},
   "outputs": [],
   "source": [
    "my_dict = {'a': 1, 'b': 2}\n",
    "key = input(\"Enter a key: \")\n",
    "\n",
    "if key not in my_dict:\n",
    "    raise KeyError(f\"Key '{key}' not found in dictionary!\")\n",
    "    \n",
    "print(my_dict[key])"
   ]
  },
  {
   "cell_type": "markdown",
   "id": "8fc85fa4-e5ed-403c-86d9-54c09ba4767a",
   "metadata": {},
   "source": [
    "#### Warning Categories\n",
    "These are not errors but warning categories that Python uses to notify developers of potential issues. These can be caught or suppressed but do not halt the program.\n",
    "- Warning: The base class for all warning categories.\n",
    "- UserWarning: Warnings generated by user code.\n",
    "- DeprecationWarning: Warnings about deprecated features that are planned to be removed in the future.\n",
    "- SyntaxWarning: Warnings related to questionable syntax.\n",
    "- RuntimeWarning: Warnings related to suspicious runtime behavior.\n",
    "- FutureWarning: Warnings about constructs that will change in future Python versions.\n",
    "- ImportWarning: Warnings related to module imports.\n",
    "- UnicodeWarning: Warnings related to Unicode handling.\n",
    "- BytesWarning: Warnings related to byte handling."
   ]
  },
  {
   "cell_type": "code",
   "execution_count": null,
   "id": "2aa08c01-d28a-498d-be54-7e8f80ad262c",
   "metadata": {},
   "outputs": [],
   "source": [
    "# Handling Warnings\n",
    "import warnings\n",
    "warnings.filterwarnings(\"ignore\")"
   ]
  },
  {
   "cell_type": "code",
   "execution_count": 134,
   "id": "c1381468-c08c-4883-85e1-ca867495ba04",
   "metadata": {},
   "outputs": [],
   "source": [
    "# To suppress only a specific type of warning\n",
    "import warnings\n",
    "warnings.filterwarnings(\"ignore\", category=DeprecationWarning)"
   ]
  },
  {
   "cell_type": "code",
   "execution_count": 133,
   "id": "53f28440-3549-4450-b483-1fa88464c425",
   "metadata": {},
   "outputs": [
    {
     "name": "stdout",
     "output_type": "stream",
     "text": [
      "hello\n"
     ]
    }
   ],
   "source": [
    "# 3.x\n",
    "print(\"hello\")"
   ]
  },
  {
   "cell_type": "code",
   "execution_count": 132,
   "id": "ddb16961-cc83-43eb-b8fd-b6c5e70f6b31",
   "metadata": {},
   "outputs": [
    {
     "ename": "SyntaxError",
     "evalue": "Missing parentheses in call to 'print'. Did you mean print(...)? (1444049475.py, line 2)",
     "output_type": "error",
     "traceback": [
      "\u001b[1;36m  Cell \u001b[1;32mIn[132], line 2\u001b[1;36m\u001b[0m\n\u001b[1;33m    print \"hello\"\u001b[0m\n\u001b[1;37m    ^\u001b[0m\n\u001b[1;31mSyntaxError\u001b[0m\u001b[1;31m:\u001b[0m Missing parentheses in call to 'print'. Did you mean print(...)?\n"
     ]
    }
   ],
   "source": [
    "# 2.x\n",
    "print \"hello\""
   ]
  },
  {
   "cell_type": "code",
   "execution_count": null,
   "id": "ff630565-67b1-4c6f-ba32-550bbcca80e3",
   "metadata": {},
   "outputs": [],
   "source": []
  }
 ],
 "metadata": {
  "kernelspec": {
   "display_name": "Python 3 (ipykernel)",
   "language": "python",
   "name": "python3"
  },
  "language_info": {
   "codemirror_mode": {
    "name": "ipython",
    "version": 3
   },
   "file_extension": ".py",
   "mimetype": "text/x-python",
   "name": "python",
   "nbconvert_exporter": "python",
   "pygments_lexer": "ipython3",
   "version": "3.12.4"
  }
 },
 "nbformat": 4,
 "nbformat_minor": 5
}
