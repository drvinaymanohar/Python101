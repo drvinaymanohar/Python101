{
 "cells": [
  {
   "cell_type": "markdown",
   "id": "13137617-2175-4779-9ca9-d443457f4f25",
   "metadata": {},
   "source": [
    "#### Assignment Solving"
   ]
  },
  {
   "cell_type": "code",
   "execution_count": 3,
   "id": "0f638a44-babc-4559-802b-41427e43a792",
   "metadata": {},
   "outputs": [
    {
     "name": "stdin",
     "output_type": "stream",
     "text": [
      "Enter Base Value of Triangle:  2\n",
      "Enter Height Value of Triangle:  5\n"
     ]
    },
    {
     "name": "stdout",
     "output_type": "stream",
     "text": [
      "Area of Triangle based on Base 2.0, Height 5.0 is 5.0\n"
     ]
    }
   ],
   "source": [
    "# 1. Find Area of triangle based on base and height\n",
    "\n",
    "# Inputs\n",
    "base = float(input('Enter Base Value of Triangle: '))\n",
    "height = float(input('Enter Height Value of Triangle: '))\n",
    "\n",
    "# Processing\n",
    "area_triangle = 0.5 * base * height\n",
    "\n",
    "# Output\n",
    "print(f'Area of Triangle based on Base {base}, Height {height} is {area_triangle}')"
   ]
  },
  {
   "cell_type": "code",
   "execution_count": 7,
   "id": "8f1de511-f152-4b42-8770-799f1f9f1ef6",
   "metadata": {},
   "outputs": [
    {
     "name": "stdin",
     "output_type": "stream",
     "text": [
      "Enter Principal Amount:  10000\n",
      "Enter total years:  10\n",
      "Enter Interest:  10\n"
     ]
    },
    {
     "name": "stdout",
     "output_type": "stream",
     "text": [
      "************************************************\n",
      "Simple Interest for Amount Rs.10000.0 \n",
      " Years 10.0 \n",
      " Rate of Interest 10.0% is \n",
      "\n",
      "10000.0\n"
     ]
    }
   ],
   "source": [
    "# Create a Python program to calculate the Simple interest\n",
    "\n",
    "# Input\n",
    "principal_amount = float(input('Enter Principal Amount: '))\n",
    "tenure_years = float(input('Enter total years: '))\n",
    "rate_of_interest = float(input('Enter Interest: '))\n",
    "\n",
    "# Processing\n",
    "simple_interest = (principal_amount * tenure_years * rate_of_interest) / 100 \n",
    "\n",
    "# Output\n",
    "print('************************************************')\n",
    "print(f'Simple Interest for Amount Rs.{principal_amount} \\n Years {tenure_years} \\n Rate of Interest {rate_of_interest}% is \\n')\n",
    "print(f'{simple_interest}')"
   ]
  },
  {
   "cell_type": "code",
   "execution_count": 11,
   "id": "eaf3d70c-8f52-4ca4-b7fa-57218a45c667",
   "metadata": {},
   "outputs": [
    {
     "name": "stdin",
     "output_type": "stream",
     "text": [
      "Enter Principal Amount:  20000\n",
      "Enter Rate of Interest:  7.5\n",
      "Enter Time Span for Compounding:  10\n"
     ]
    },
    {
     "name": "stdout",
     "output_type": "stream",
     "text": [
      "Compound Interest : 31220.63124329422\n",
      "Outstanding Money  41220.63124329422\n"
     ]
    }
   ],
   "source": [
    "# Create a Python program to calculate the compound interest\n",
    "from math import pow\n",
    "\n",
    "# Input\n",
    "principalAmount = float(input('Enter Principal Amount: '))\n",
    "rateOfInterest = float(input('Enter Rate of Interest: '))\n",
    "totalTimeSpan = float(input('Enter Time Span for Compounding: '))\n",
    "\n",
    "\n",
    "# Processing\n",
    "amount = principalAmount * (pow((1 + rateOfInterest / 100),totalTimeSpan))\n",
    "\n",
    "compound_interest = amount - principal_amount\n",
    "\n",
    "\n",
    "# Output\n",
    "print(f'Compound Interest : {compound_interest}')\n",
    "print(f'Outstanding Money  {amount}')"
   ]
  },
  {
   "cell_type": "code",
   "execution_count": 16,
   "id": "00cb1703-6488-4cdd-a7d6-820a93460da0",
   "metadata": {},
   "outputs": [
    {
     "name": "stdout",
     "output_type": "stream",
     "text": [
      "251.327\n"
     ]
    }
   ],
   "source": [
    "# Create a Python program to calculate the surface area of a cylinder, given its radius and height.\n",
    "from math import pi\n",
    "\n",
    "# Input\n",
    "radius_of_cylinder = 5\n",
    "height_of_cylinder = 3\n",
    "\n",
    "\n",
    "# Processing\n",
    "area_of_cylinder = (2 * pi * radius_of_cylinder * height_of_cylinder) + (2 * pi * (radius_of_cylinder * radius_of_cylinder))\n",
    "\n",
    "\n",
    "# Output\n",
    "print(round(area_of_cylinder, 3))"
   ]
  },
  {
   "cell_type": "code",
   "execution_count": 17,
   "id": "620e990e-835c-441b-accf-d7bcab9d0de7",
   "metadata": {},
   "outputs": [
    {
     "name": "stdout",
     "output_type": "stream",
     "text": [
      "523.5987755982989\n"
     ]
    }
   ],
   "source": [
    "# Create a Python program to calculate the volume of a sphere, given its radius.\n",
    "\n",
    "from math import pi, pow\n",
    "\n",
    "\n",
    "radius_of_sphere = 5\n",
    "\n",
    "volume_sphere = (4/3) * pi * pow(radius_of_sphere,3)\n",
    "\n",
    "print(volume_sphere)\n"
   ]
  },
  {
   "cell_type": "code",
   "execution_count": 25,
   "id": "e755b4f6-f860-4682-a1a9-623a6025bf3f",
   "metadata": {},
   "outputs": [
    {
     "name": "stdout",
     "output_type": "stream",
     "text": [
      "Degree in Celcius is 13.33°\n"
     ]
    }
   ],
   "source": [
    "# Create a Python program to convert a temperature given in Fahrenheit to Celsius.\n",
    "\n",
    "fah = 56\n",
    "\n",
    "celcius = (fah - 32) * (5/9)\n",
    "\n",
    "print(f'Degree in Celcius is {round(celcius,2)}{chr(176)}')"
   ]
  },
  {
   "cell_type": "code",
   "execution_count": 28,
   "id": "680245cb-3886-4ab6-bf00-c66bc4027939",
   "metadata": {},
   "outputs": [
    {
     "name": "stdout",
     "output_type": "stream",
     "text": [
      "5.28\n"
     ]
    }
   ],
   "source": [
    "# Create a Python program to convert a volume in liters to gallons\n",
    "water_in_liter = 20\n",
    "CONSTANT_US = 0.264172\n",
    "\n",
    "gallon_in_liter = water_in_liter * CONSTANT_US\n",
    "\n",
    "\n",
    "print(round(gallon_in_liter,2))"
   ]
  },
  {
   "cell_type": "code",
   "execution_count": 30,
   "id": "d9702ce4-6032-4117-9d69-cf40864c252d",
   "metadata": {},
   "outputs": [
    {
     "name": "stdout",
     "output_type": "stream",
     "text": [
      "89.6\n"
     ]
    }
   ],
   "source": [
    "# Create a Python program to convert temperature from Celsius to Fahrenheit.\n",
    "#°C × (9/5) + 32. \n",
    "\n",
    "celciusTemp = 32\n",
    "\n",
    "fahrenheitTemp = celciusTemp * (9/5) + 32\n",
    "\n",
    "print(fahrenheitTemp)"
   ]
  },
  {
   "cell_type": "code",
   "execution_count": 31,
   "id": "0ad34cb7-0eca-4842-8c74-349b86205ac9",
   "metadata": {},
   "outputs": [
    {
     "name": "stdout",
     "output_type": "stream",
     "text": [
      "30.0\n"
     ]
    }
   ],
   "source": [
    "# takes three sides of a triangle as input and calculates the triangle's area using Heron's formula\n",
    "from math import sqrt\n",
    "\n",
    "side_a = 13\n",
    "side_b = 5\n",
    "side_c = 12\n",
    "\n",
    "semi_perimeter = (side_a + side_b + side_c) / 2\n",
    "\n",
    "s_minus_a = semi_perimeter - side_a\n",
    "s_minus_b = semi_perimeter - side_b\n",
    "s_minus_c = semi_perimeter - side_c\n",
    "\n",
    "product = (semi_perimeter * s_minus_a * s_minus_b * s_minus_c)\n",
    "\n",
    "area_tri_herons = sqrt(product)\n",
    "\n",
    "print(area_tri_herons)"
   ]
  },
  {
   "cell_type": "code",
   "execution_count": 35,
   "id": "ae62d442-a8db-42ee-ac39-c984f0ab819a",
   "metadata": {},
   "outputs": [
    {
     "name": "stdout",
     "output_type": "stream",
     "text": [
      "28.274333882308138\n"
     ]
    }
   ],
   "source": [
    "# Write a Python program to calculate the area of a circle, given its radius.\n",
    "from math import pi\n",
    "\n",
    "radius_of_circle = 3\n",
    "\n",
    "area_of_circle = pi * radius_of_circle * radius_of_circle\n",
    "\n",
    "print(area_of_circle)"
   ]
  },
  {
   "cell_type": "code",
   "execution_count": 37,
   "id": "ded5753a-4a8a-40ae-8625-91cd70876bd2",
   "metadata": {},
   "outputs": [
    {
     "name": "stdout",
     "output_type": "stream",
     "text": [
      "50.0\n"
     ]
    }
   ],
   "source": [
    "# Write a Python program to calculate the area of a rectangle, given its length and width.\n",
    "\n",
    "length_rec = 5.0\n",
    "width_rec = 10.0\n",
    "\n",
    "area_rec = length_rec * width_rec\n",
    "\n",
    "print(area_rec)"
   ]
  },
  {
   "cell_type": "code",
   "execution_count": 38,
   "id": "d565f483-6303-4cc9-8dff-99328932f628",
   "metadata": {},
   "outputs": [
    {
     "name": "stdout",
     "output_type": "stream",
     "text": [
      "30.0\n"
     ]
    }
   ],
   "source": [
    "# Write a Python program to calculate the perimeter, given its length and width.\n",
    "\n",
    "length_rec = 5.0\n",
    "width_rec = 10.0\n",
    "\n",
    "perimeter_rec = (2*length_rec) + (2*width_rec)\n",
    "\n",
    "print(perimeter_rec)"
   ]
  },
  {
   "cell_type": "code",
   "execution_count": 39,
   "id": "2a962483-3048-4fc8-9fd2-ff10d245537f",
   "metadata": {},
   "outputs": [
    {
     "name": "stdout",
     "output_type": "stream",
     "text": [
      "512.0\n"
     ]
    }
   ],
   "source": [
    "# Write a Python program to calculate the volume of a cube, given the length of its side.\n",
    "from math import pow\n",
    "side_of_cube = 8\n",
    "\n",
    "volume_of_cube = pow(side_of_cube, 3)\n",
    "\n",
    "print(volume_of_cube)"
   ]
  },
  {
   "cell_type": "code",
   "execution_count": 40,
   "id": "ff952392-1539-47f2-bbf1-40a62ab38192",
   "metadata": {},
   "outputs": [],
   "source": [
    "# Write a Python program to find the Haversine Distance\n",
    "import math\n",
    "\n",
    "SOURCE_LONG_X = 77.70665656041147\n",
    "SOURCE_LAT_Y = 13.198720969608122\n",
    "\n",
    "DEST_LONG_X = 91.58589656874999\n",
    "DEST_LAT_Y = 26.106299209878394\n"
   ]
  },
  {
   "cell_type": "code",
   "execution_count": 42,
   "id": "cbe9f098-dc55-4192-9be9-72b9b6e63979",
   "metadata": {},
   "outputs": [],
   "source": [
    "# Law of Cosine\n",
    "\n",
    "RADIUS_EARTH_KM = 6371.0088\n",
    "\n",
    "\n",
    "# Convert deg to radians\n",
    "Source_X = math.radians(SOURCE_LONG_X)\n",
    "Source_Y = math.radians(SOURCE_LAT_Y)\n",
    "Destination_X = math.radians(DEST_LONG_X)\n",
    "Destination_Y = math.radians(DEST_LAT_Y)"
   ]
  },
  {
   "cell_type": "code",
   "execution_count": 51,
   "id": "8f3b2d16-1584-490f-8ecf-2c63018f6eea",
   "metadata": {},
   "outputs": [],
   "source": [
    "law_of_cosine = (math.acos(math.sin(Source_Y) * math.sin(Destination_Y) + math.cos(Source_Y) * math.cos(Destination_Y) * math.cos(Destination_X - Source_X)) * RADIUS_EARTH_KM)"
   ]
  },
  {
   "cell_type": "code",
   "execution_count": 52,
   "id": "7fa183f6-4f50-491a-a340-3cb25192c828",
   "metadata": {},
   "outputs": [
    {
     "name": "stdout",
     "output_type": "stream",
     "text": [
      "2039.3115968688762\n"
     ]
    }
   ],
   "source": [
    "print(law_of_cosine)"
   ]
  },
  {
   "cell_type": "raw",
   "id": "1bbaa16c-c47c-4eb3-8989-526c61968338",
   "metadata": {},
   "source": [
    "The haversine formula takes multiple lines:\n",
    "dLat = (lat2-lat1) (Dest_Y – Source_Y)\n",
    "dLon = (lon2-lon1) (Dest_X – Source_X)\n",
    "a = sin(dLat/2) * sin(dLat/2) + cos(lat1) * cos(lat2) * sin(dLon/2) * sin(dLon/2)\n",
    "distance = r * 2 * atan2(sqrt(a), sqrt(1-a))"
   ]
  },
  {
   "cell_type": "code",
   "execution_count": null,
   "id": "8805f92e-5a5d-44e8-a734-c2da278b6d99",
   "metadata": {},
   "outputs": [],
   "source": []
  }
 ],
 "metadata": {
  "kernelspec": {
   "display_name": "Python 3 (ipykernel)",
   "language": "python",
   "name": "python3"
  },
  "language_info": {
   "codemirror_mode": {
    "name": "ipython",
    "version": 3
   },
   "file_extension": ".py",
   "mimetype": "text/x-python",
   "name": "python",
   "nbconvert_exporter": "python",
   "pygments_lexer": "ipython3",
   "version": "3.12.3"
  }
 },
 "nbformat": 4,
 "nbformat_minor": 5
}
