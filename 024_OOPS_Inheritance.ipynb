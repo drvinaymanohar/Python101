{
 "cells": [
  {
   "cell_type": "markdown",
   "id": "4192dfb1-3c1b-45e8-83d1-c689cd1681c3",
   "metadata": {},
   "source": [
    "#### Advanced OOPS"
   ]
  },
  {
   "cell_type": "code",
   "execution_count": 204,
   "id": "8d693ab6",
   "metadata": {},
   "outputs": [],
   "source": [
    "# Class and Objects"
   ]
  },
  {
   "cell_type": "code",
   "execution_count": 205,
   "id": "7412bcb9",
   "metadata": {},
   "outputs": [],
   "source": [
    "# Attribute and Methods"
   ]
  },
  {
   "cell_type": "code",
   "execution_count": 206,
   "id": "29929674",
   "metadata": {},
   "outputs": [],
   "source": [
    "# Function, do not hold the data.\n",
    "# state of the data is not maintained"
   ]
  },
  {
   "cell_type": "code",
   "execution_count": 207,
   "id": "e8f2d2ac",
   "metadata": {},
   "outputs": [
    {
     "ename": "SyntaxError",
     "evalue": "invalid syntax (1258255325.py, line 13)",
     "output_type": "error",
     "traceback": [
      "\u001b[1;36m  Cell \u001b[1;32mIn[207], line 13\u001b[1;36m\u001b[0m\n\u001b[1;33m    Class Classname:\u001b[0m\n\u001b[1;37m          ^\u001b[0m\n\u001b[1;31mSyntaxError\u001b[0m\u001b[1;31m:\u001b[0m invalid syntax\n"
     ]
    }
   ],
   "source": [
    "# OOPS\n",
    "# Object retains our data, until we destroy \n",
    "\n",
    "# Classes --> group of functions\n",
    "# Classes are defined using keyword Class\n",
    "\n",
    "# Class takes the value as Input through Attributes  \n",
    "# Attribute - Instance, Class \n",
    "\n",
    "# Once we have data, the implimentation of certain formulas, algorithms are done through the Methods\n",
    "\n",
    "\n",
    "Class Classname:\n",
    "    def __init__(self, data1, data2, data3):\n",
    "        self.data1 = data1\n",
    "        self.data2 = data2\n",
    "        self.data3 = data3\n",
    "\n",
    "    def get_data(self):\n",
    "        return self.data1, self.data2, self.data3\n",
    "\n",
    "instantiation\n",
    "\n",
    "object = classname(data1, data2, data3)\n",
    "\n",
    "__________________________________________________________\n",
    "\n",
    "OOPS - First Pillar\n",
    "\n",
    "Encapsulation - Concentrates on Data protection\n",
    "\n",
    "Public     self.data1 = data1\n",
    "Protected  self._data1 = data1 # advised \n",
    "Private    self.__data1 = data1 # most advised \n",
    "\n",
    "\n",
    "__________________________________________________\n",
    "\n",
    "How to view or modify?\n",
    "\n",
    "Impliment Getter methods or Setter methods to get or modify respectively\n",
    "________________________________________________________________________\n",
    "\n",
    "\n",
    "OOPS - Second Pillar \n",
    "\n",
    "Inheritance - Getting the data and attributes from Super Class to Sub Class\n",
    "\n"
   ]
  },
  {
   "cell_type": "markdown",
   "id": "9e8423d2-6c90-403e-ba0e-bbcedfe7ca75",
   "metadata": {},
   "source": [
    "#### Inheritance"
   ]
  },
  {
   "cell_type": "markdown",
   "id": "67a29724-9c6d-49c4-b5c8-16f50cf98447",
   "metadata": {},
   "source": [
    "- It allows you to build relationships between classes, enabling one class to “inherit” properties and behaviors from another. This concept can help in avoiding repetitive code and makes your programs more organized.\n",
    "\n",
    "- In OOP, inheritance means that one class (called the child class) can borrow or inherit features (attributes and methods) from another class (called the parent class or base class). This makes your code more reusable and reduces redundancy."
   ]
  },
  {
   "cell_type": "markdown",
   "id": "e3aaeb80",
   "metadata": {},
   "source": [
    "#### Without inheritance: Build One Object on top of another object"
   ]
  },
  {
   "cell_type": "code",
   "execution_count": 208,
   "id": "08f1cd7a",
   "metadata": {},
   "outputs": [],
   "source": [
    "# distinct class\n",
    "class Parent:\n",
    "    def __init__(self, father, mother):\n",
    "        self.father = father\n",
    "        self.mother = mother\n",
    "\n",
    "# distinct class\n",
    "class Child:\n",
    "    def __init__(self, childname, parents):\n",
    "        self.childname = childname\n",
    "        self.parent = parents\n",
    "\n",
    "    def relationship(self):\n",
    "        return f\"{self.childname}'s parents are {self.parent.father} and {self.parent.mother}\""
   ]
  },
  {
   "cell_type": "code",
   "execution_count": 209,
   "id": "ac570f18",
   "metadata": {},
   "outputs": [],
   "source": [
    "# object1---parent1 for class Parent\n",
    "parent1 = Parent(\"RAMA\", \"SEETHA\")"
   ]
  },
  {
   "cell_type": "code",
   "execution_count": 210,
   "id": "da644e58",
   "metadata": {},
   "outputs": [],
   "source": [
    "# object2 ---> child1 for childclass\n",
    "child1 = Child(\"HEMANTH\", parent1)"
   ]
  },
  {
   "cell_type": "code",
   "execution_count": 211,
   "id": "e80be888",
   "metadata": {},
   "outputs": [
    {
     "data": {
      "text/plain": [
       "'RAMA'"
      ]
     },
     "execution_count": 211,
     "metadata": {},
     "output_type": "execute_result"
    }
   ],
   "source": [
    "parent1.father"
   ]
  },
  {
   "cell_type": "code",
   "execution_count": 212,
   "id": "b6acc4ac",
   "metadata": {},
   "outputs": [
    {
     "data": {
      "text/plain": [
       "'SEETHA'"
      ]
     },
     "execution_count": 212,
     "metadata": {},
     "output_type": "execute_result"
    }
   ],
   "source": [
    "parent1.mother"
   ]
  },
  {
   "cell_type": "code",
   "execution_count": 213,
   "id": "c5811817",
   "metadata": {},
   "outputs": [
    {
     "data": {
      "text/plain": [
       "'HEMANTH'"
      ]
     },
     "execution_count": 213,
     "metadata": {},
     "output_type": "execute_result"
    }
   ],
   "source": [
    "child1.childname"
   ]
  },
  {
   "cell_type": "code",
   "execution_count": 214,
   "id": "54ca9307",
   "metadata": {},
   "outputs": [
    {
     "data": {
      "text/plain": [
       "'RAMA'"
      ]
     },
     "execution_count": 214,
     "metadata": {},
     "output_type": "execute_result"
    }
   ],
   "source": [
    "child1.parent.father"
   ]
  },
  {
   "cell_type": "code",
   "execution_count": 215,
   "id": "8baacb91",
   "metadata": {},
   "outputs": [
    {
     "data": {
      "text/plain": [
       "'SEETHA'"
      ]
     },
     "execution_count": 215,
     "metadata": {},
     "output_type": "execute_result"
    }
   ],
   "source": [
    "child1.parent.mother"
   ]
  },
  {
   "cell_type": "code",
   "execution_count": 216,
   "id": "1bcdb737",
   "metadata": {},
   "outputs": [
    {
     "data": {
      "text/plain": [
       "\"HEMANTH's parents are RAMA and SEETHA\""
      ]
     },
     "execution_count": 216,
     "metadata": {},
     "output_type": "execute_result"
    }
   ],
   "source": [
    "# Access relationship details\n",
    "child1.relationship()"
   ]
  },
  {
   "cell_type": "markdown",
   "id": "de0e97bf-e3a4-4b31-87c5-c07324ad7db1",
   "metadata": {},
   "source": [
    "#### Types of Inheritance in Python"
   ]
  },
  {
   "cell_type": "markdown",
   "id": "1d0537c4-4ab5-4ba5-a0f2-f7309a2951b8",
   "metadata": {},
   "source": [
    "Python supports different types of inheritance, each with its unique use case.\n",
    "\n",
    "- Single Inheritance\n",
    "- Multiple Inheritance\n",
    "- Multilevel Inheritance\n",
    "- Hierarchical Inheritance\n",
    "- Hybrid Inheritance"
   ]
  },
  {
   "cell_type": "markdown",
   "id": "ac0c49ca-9da2-4e2f-8bd9-55fb28cbc4b5",
   "metadata": {},
   "source": [
    "`Single Inheritance in Python`\n",
    "\n",
    "Single inheritance means that a child class inherits from just one parent class. This is the simplest form of inheritance and helps you reuse code from a single base class."
   ]
  },
  {
   "cell_type": "code",
   "execution_count": 217,
   "id": "94f90d06-2189-4781-b63a-7df92b8a6810",
   "metadata": {},
   "outputs": [],
   "source": [
    "# Parent class\n",
    "# base class\n",
    "# super class\n",
    "\n",
    "class Person:\n",
    "    def __init__(self, name, age):\n",
    "        self.name = name\n",
    "        self.age = age\n",
    "\n",
    "    def greet(self):\n",
    "        return f\"Hello, {self.name}\"\n",
    "    \n",
    "\n",
    "# Child class (Student) inheriting from Parent Class (Person)\n",
    "# derived class\n",
    "# sub class\n",
    "\n",
    "class Student(Person):\n",
    "    def study(self):\n",
    "        return f\"{self.name} is Studying\"\n",
    "    \n",
    "    def play(self):\n",
    "        return f\"{self.name} is Playing\"\n",
    "    \n",
    "    def dance(self):\n",
    "        return f\"{self.name} is Dancing\""
   ]
  },
  {
   "cell_type": "code",
   "execution_count": 218,
   "id": "af093550",
   "metadata": {},
   "outputs": [
    {
     "data": {
      "text/plain": [
       "(__main__.Student, __main__.Person, object)"
      ]
     },
     "execution_count": 218,
     "metadata": {},
     "output_type": "execute_result"
    }
   ],
   "source": [
    "Student.__mro__"
   ]
  },
  {
   "cell_type": "code",
   "execution_count": 219,
   "id": "e48c80c6",
   "metadata": {},
   "outputs": [],
   "source": [
    "# if you instantiate, super class (Person) --- you can able to execute only methods available within it\n",
    "\n",
    "\n",
    "# if you instantiate, sub class (Student) -- you can able to execute all methods available with both super and sub class\n",
    "\n"
   ]
  },
  {
   "cell_type": "code",
   "execution_count": 220,
   "id": "b14334c9",
   "metadata": {},
   "outputs": [],
   "source": [
    "per = Person('Vinay', 32)"
   ]
  },
  {
   "cell_type": "code",
   "execution_count": 221,
   "id": "2eae8783",
   "metadata": {},
   "outputs": [
    {
     "data": {
      "text/plain": [
       "'Hello, Vinay'"
      ]
     },
     "execution_count": 221,
     "metadata": {},
     "output_type": "execute_result"
    }
   ],
   "source": [
    "# only greet option is available! why? super class is not depending on any other class\n",
    "per.greet()"
   ]
  },
  {
   "cell_type": "code",
   "execution_count": 222,
   "id": "586fd09c",
   "metadata": {},
   "outputs": [],
   "source": [
    "# Lets Create an instance of Student\n",
    "# Student class inheriting attribute property from super class name and age\n",
    "stu = Student(\"Sruthi\", 25)"
   ]
  },
  {
   "cell_type": "code",
   "execution_count": 223,
   "id": "f630019b",
   "metadata": {},
   "outputs": [
    {
     "data": {
      "text/plain": [
       "'Hello, Sruthi'"
      ]
     },
     "execution_count": 223,
     "metadata": {},
     "output_type": "execute_result"
    }
   ],
   "source": [
    "stu.greet()"
   ]
  },
  {
   "cell_type": "code",
   "execution_count": 224,
   "id": "3a15d6d6",
   "metadata": {},
   "outputs": [
    {
     "data": {
      "text/plain": [
       "'Sruthi is Dancing'"
      ]
     },
     "execution_count": 224,
     "metadata": {},
     "output_type": "execute_result"
    }
   ],
   "source": [
    "stu.dance()"
   ]
  },
  {
   "cell_type": "code",
   "execution_count": 225,
   "id": "ba2661b2",
   "metadata": {},
   "outputs": [
    {
     "data": {
      "text/plain": [
       "'Sruthi is Playing'"
      ]
     },
     "execution_count": 225,
     "metadata": {},
     "output_type": "execute_result"
    }
   ],
   "source": [
    "stu.play()"
   ]
  },
  {
   "cell_type": "code",
   "execution_count": 226,
   "id": "f6b1f35b",
   "metadata": {},
   "outputs": [
    {
     "data": {
      "text/plain": [
       "'Sruthi is Studying'"
      ]
     },
     "execution_count": 226,
     "metadata": {},
     "output_type": "execute_result"
    }
   ],
   "source": [
    "stu.study()"
   ]
  },
  {
   "cell_type": "code",
   "execution_count": 227,
   "id": "10df9a1f",
   "metadata": {},
   "outputs": [
    {
     "data": {
      "text/plain": [
       "'Sruthi'"
      ]
     },
     "execution_count": 227,
     "metadata": {},
     "output_type": "execute_result"
    }
   ],
   "source": [
    "stu.name"
   ]
  },
  {
   "cell_type": "markdown",
   "id": "695241c1-5cd0-472d-a750-bac4b4639b92",
   "metadata": {},
   "source": [
    "`Multiple Inheritance in Python`\n",
    "\n",
    "In multiple inheritance, a class can inherit from more than one parent class. This feature can be powerful but requires careful handling to avoid conflicts (like when methods with the same name exist in multiple parent classes)."
   ]
  },
  {
   "cell_type": "code",
   "execution_count": 228,
   "id": "ee3ee849-34ca-4710-a8bf-6d9d35be3077",
   "metadata": {},
   "outputs": [],
   "source": [
    "# Parent class 1\n",
    "class Animal:\n",
    "    def walk(self):\n",
    "        return \"Can Walk\"\n",
    "\n",
    "# Parent class 2\n",
    "class Amphibian:\n",
    "    def swim(self):\n",
    "        return \"Can Swim\"\n",
    "    \n",
    "\n",
    "# Child class inheriting from both Animal and Walker\n",
    "class Reptile(Animal, Amphibian):\n",
    "    pass"
   ]
  },
  {
   "cell_type": "code",
   "execution_count": 229,
   "id": "d430dd5b",
   "metadata": {},
   "outputs": [
    {
     "data": {
      "text/plain": [
       "(__main__.Reptile, __main__.Animal, __main__.Amphibian, object)"
      ]
     },
     "execution_count": 229,
     "metadata": {},
     "output_type": "execute_result"
    }
   ],
   "source": [
    "Reptile.__mro__"
   ]
  },
  {
   "cell_type": "code",
   "execution_count": 230,
   "id": "c9e41dfc-ece7-4e9e-869f-e2d0d0abac84",
   "metadata": {},
   "outputs": [],
   "source": [
    "# Create an instance of Reptile\n",
    "frog = Reptile()"
   ]
  },
  {
   "cell_type": "code",
   "execution_count": 231,
   "id": "69876d27",
   "metadata": {},
   "outputs": [
    {
     "data": {
      "text/plain": [
       "'Can Swim'"
      ]
     },
     "execution_count": 231,
     "metadata": {},
     "output_type": "execute_result"
    }
   ],
   "source": [
    "frog.swim()"
   ]
  },
  {
   "cell_type": "code",
   "execution_count": 232,
   "id": "2da2c7f1-eed1-4c10-b46b-f13d888c0a04",
   "metadata": {},
   "outputs": [
    {
     "data": {
      "text/plain": [
       "'Can Walk'"
      ]
     },
     "execution_count": 232,
     "metadata": {},
     "output_type": "execute_result"
    }
   ],
   "source": [
    "frog.walk()"
   ]
  },
  {
   "cell_type": "markdown",
   "id": "f0b21d71-b66b-42b5-b78d-3ca0bbea440f",
   "metadata": {},
   "source": [
    "`Multilevel Inheritance in Python`\n",
    "\n",
    "In multilevel inheritance, a class inherits from another child class, creating a chain of inheritance. This can be helpful when you’re building more complex hierarchies."
   ]
  },
  {
   "cell_type": "code",
   "execution_count": 233,
   "id": "256a74b8-d98b-4795-beaf-52e3cdc2449f",
   "metadata": {},
   "outputs": [],
   "source": [
    "# Base class\n",
    "class Animal:\n",
    "    def __init__(self, name):\n",
    "        self.name = name\n",
    "\n",
    "    def eat(self):\n",
    "        return f\"{self.name} is eating\"\n",
    "\n",
    "# Derived class 1\n",
    "class Mammal(Animal):\n",
    "    def walk(self):\n",
    "        return f\"{self.name} is walking\"\n",
    "\n",
    "# Derived class 2\n",
    "class Dog(Mammal):\n",
    "    def bark(self):\n",
    "        return f\"{self.name} is barking\""
   ]
  },
  {
   "cell_type": "code",
   "execution_count": 234,
   "id": "2432a70a",
   "metadata": {},
   "outputs": [
    {
     "data": {
      "text/plain": [
       "(__main__.Dog, __main__.Mammal, __main__.Animal, object)"
      ]
     },
     "execution_count": 234,
     "metadata": {},
     "output_type": "execute_result"
    }
   ],
   "source": [
    "Dog.__mro__"
   ]
  },
  {
   "cell_type": "code",
   "execution_count": 235,
   "id": "01f1fc85",
   "metadata": {},
   "outputs": [
    {
     "data": {
      "text/plain": [
       "(__main__.Mammal, __main__.Animal, object)"
      ]
     },
     "execution_count": 235,
     "metadata": {},
     "output_type": "execute_result"
    }
   ],
   "source": [
    "Mammal.__mro__"
   ]
  },
  {
   "cell_type": "code",
   "execution_count": 236,
   "id": "6ac5d0ba",
   "metadata": {},
   "outputs": [
    {
     "data": {
      "text/plain": [
       "(__main__.Animal, object)"
      ]
     },
     "execution_count": 236,
     "metadata": {},
     "output_type": "execute_result"
    }
   ],
   "source": [
    "Animal.__mro__"
   ]
  },
  {
   "cell_type": "code",
   "execution_count": 237,
   "id": "056ec284",
   "metadata": {},
   "outputs": [
    {
     "data": {
      "text/plain": [
       "'Cat is eating'"
      ]
     },
     "execution_count": 237,
     "metadata": {},
     "output_type": "execute_result"
    }
   ],
   "source": [
    "ani = Animal(\"Cat\")\n",
    "ani.eat()"
   ]
  },
  {
   "cell_type": "code",
   "execution_count": 238,
   "id": "a6f2cdd3",
   "metadata": {},
   "outputs": [
    {
     "ename": "AttributeError",
     "evalue": "'Animal' object has no attribute 'walk'",
     "output_type": "error",
     "traceback": [
      "\u001b[1;31m---------------------------------------------------------------------------\u001b[0m",
      "\u001b[1;31mAttributeError\u001b[0m                            Traceback (most recent call last)",
      "Cell \u001b[1;32mIn[238], line 1\u001b[0m\n\u001b[1;32m----> 1\u001b[0m ani\u001b[38;5;241m.\u001b[39mwalk()\n",
      "\u001b[1;31mAttributeError\u001b[0m: 'Animal' object has no attribute 'walk'"
     ]
    }
   ],
   "source": [
    "ani.walk()"
   ]
  },
  {
   "cell_type": "code",
   "execution_count": 239,
   "id": "98c8d526",
   "metadata": {},
   "outputs": [
    {
     "data": {
      "text/plain": [
       "'Rat is walking'"
      ]
     },
     "execution_count": 239,
     "metadata": {},
     "output_type": "execute_result"
    }
   ],
   "source": [
    "mam = Mammal(\"Rat\")\n",
    "mam.walk()"
   ]
  },
  {
   "cell_type": "code",
   "execution_count": 240,
   "id": "fde456be",
   "metadata": {},
   "outputs": [
    {
     "data": {
      "text/plain": [
       "'Rat is eating'"
      ]
     },
     "execution_count": 240,
     "metadata": {},
     "output_type": "execute_result"
    }
   ],
   "source": [
    "mam.eat()"
   ]
  },
  {
   "cell_type": "code",
   "execution_count": 241,
   "id": "c681e3c8",
   "metadata": {},
   "outputs": [
    {
     "ename": "AttributeError",
     "evalue": "'Mammal' object has no attribute 'bark'",
     "output_type": "error",
     "traceback": [
      "\u001b[1;31m---------------------------------------------------------------------------\u001b[0m",
      "\u001b[1;31mAttributeError\u001b[0m                            Traceback (most recent call last)",
      "Cell \u001b[1;32mIn[241], line 1\u001b[0m\n\u001b[1;32m----> 1\u001b[0m mam\u001b[38;5;241m.\u001b[39mbark()\n",
      "\u001b[1;31mAttributeError\u001b[0m: 'Mammal' object has no attribute 'bark'"
     ]
    }
   ],
   "source": [
    "mam.bark()"
   ]
  },
  {
   "cell_type": "code",
   "execution_count": 242,
   "id": "010d8414-7fcc-4a4a-8396-1276d927d7f7",
   "metadata": {},
   "outputs": [],
   "source": [
    "# Create an instance of Dog\n",
    "dog = Dog(\"Pug\")"
   ]
  },
  {
   "cell_type": "code",
   "execution_count": 243,
   "id": "ea233c93",
   "metadata": {},
   "outputs": [
    {
     "data": {
      "text/plain": [
       "'Pug is barking'"
      ]
     },
     "execution_count": 243,
     "metadata": {},
     "output_type": "execute_result"
    }
   ],
   "source": [
    "dog.bark()"
   ]
  },
  {
   "cell_type": "code",
   "execution_count": 244,
   "id": "41d5f58e",
   "metadata": {},
   "outputs": [
    {
     "data": {
      "text/plain": [
       "'Pug is walking'"
      ]
     },
     "execution_count": 244,
     "metadata": {},
     "output_type": "execute_result"
    }
   ],
   "source": [
    "dog.walk()"
   ]
  },
  {
   "cell_type": "code",
   "execution_count": 245,
   "id": "b0097746",
   "metadata": {},
   "outputs": [
    {
     "data": {
      "text/plain": [
       "'Pug is eating'"
      ]
     },
     "execution_count": 245,
     "metadata": {},
     "output_type": "execute_result"
    }
   ],
   "source": [
    "dog.eat()"
   ]
  },
  {
   "cell_type": "markdown",
   "id": "e05c3612-ca61-4441-b55c-4851b6deed4a",
   "metadata": {},
   "source": [
    "`Hierarchical Inheritance in Python`\n",
    "\n",
    "In hierarchical inheritance, multiple child classes inherit from a single parent class. This is useful when you have a base class that provides shared functionality to multiple sub-classes."
   ]
  },
  {
   "cell_type": "code",
   "execution_count": 246,
   "id": "499bb960-e4ae-4ba1-b632-14906b08a6d9",
   "metadata": {},
   "outputs": [],
   "source": [
    "# Base class\n",
    "class Animal:\n",
    "    def __init__(self, name):\n",
    "        self.name = name\n",
    "\n",
    "    def eat(self):\n",
    "        return f\"{self.name} is eating\"\n",
    "\n",
    "\n",
    "# Derived class 1\n",
    "class Dog(Animal):\n",
    "    def bark(self):\n",
    "        return f\"{self.name} is barking\"\n",
    "    \n",
    "\n",
    "# Derived class 2\n",
    "class Cat(Animal):\n",
    "    def meow(self):\n",
    "        return f\"{self.name} is meowing\""
   ]
  },
  {
   "cell_type": "code",
   "execution_count": 247,
   "id": "fcf8dafa",
   "metadata": {},
   "outputs": [],
   "source": [
    "ani = Animal(\"Lion\")"
   ]
  },
  {
   "cell_type": "code",
   "execution_count": 248,
   "id": "ac45cfcd",
   "metadata": {},
   "outputs": [
    {
     "data": {
      "text/plain": [
       "(__main__.Cat, __main__.Animal, object)"
      ]
     },
     "execution_count": 248,
     "metadata": {},
     "output_type": "execute_result"
    }
   ],
   "source": [
    "Cat.__mro__"
   ]
  },
  {
   "cell_type": "code",
   "execution_count": 249,
   "id": "610d17cd",
   "metadata": {},
   "outputs": [
    {
     "data": {
      "text/plain": [
       "(__main__.Dog, __main__.Animal, object)"
      ]
     },
     "execution_count": 249,
     "metadata": {},
     "output_type": "execute_result"
    }
   ],
   "source": [
    "Dog.__mro__"
   ]
  },
  {
   "cell_type": "code",
   "execution_count": 250,
   "id": "cc563437",
   "metadata": {},
   "outputs": [
    {
     "data": {
      "text/plain": [
       "(__main__.Animal, object)"
      ]
     },
     "execution_count": 250,
     "metadata": {},
     "output_type": "execute_result"
    }
   ],
   "source": [
    "Animal.__mro__"
   ]
  },
  {
   "cell_type": "code",
   "execution_count": 251,
   "id": "ce37bffb",
   "metadata": {},
   "outputs": [
    {
     "data": {
      "text/plain": [
       "'Lion is eating'"
      ]
     },
     "execution_count": 251,
     "metadata": {},
     "output_type": "execute_result"
    }
   ],
   "source": [
    "ani.eat()"
   ]
  },
  {
   "cell_type": "code",
   "execution_count": 252,
   "id": "91be869d",
   "metadata": {},
   "outputs": [
    {
     "ename": "AttributeError",
     "evalue": "'Animal' object has no attribute 'bark'",
     "output_type": "error",
     "traceback": [
      "\u001b[1;31m---------------------------------------------------------------------------\u001b[0m",
      "\u001b[1;31mAttributeError\u001b[0m                            Traceback (most recent call last)",
      "Cell \u001b[1;32mIn[252], line 1\u001b[0m\n\u001b[1;32m----> 1\u001b[0m ani\u001b[38;5;241m.\u001b[39mbark()\n",
      "\u001b[1;31mAttributeError\u001b[0m: 'Animal' object has no attribute 'bark'"
     ]
    }
   ],
   "source": [
    "ani.bark()"
   ]
  },
  {
   "cell_type": "code",
   "execution_count": 253,
   "id": "479d07e4",
   "metadata": {},
   "outputs": [],
   "source": [
    "doggie = Dog(\"Julie\")"
   ]
  },
  {
   "cell_type": "code",
   "execution_count": 254,
   "id": "1049c5b1",
   "metadata": {},
   "outputs": [
    {
     "data": {
      "text/plain": [
       "'Julie is barking'"
      ]
     },
     "execution_count": 254,
     "metadata": {},
     "output_type": "execute_result"
    }
   ],
   "source": [
    "doggie.bark()"
   ]
  },
  {
   "cell_type": "code",
   "execution_count": 255,
   "id": "4e2f3996",
   "metadata": {},
   "outputs": [
    {
     "data": {
      "text/plain": [
       "'Julie is eating'"
      ]
     },
     "execution_count": 255,
     "metadata": {},
     "output_type": "execute_result"
    }
   ],
   "source": [
    "doggie.eat()"
   ]
  },
  {
   "cell_type": "code",
   "execution_count": 256,
   "id": "b8df19ce",
   "metadata": {},
   "outputs": [],
   "source": [
    "kitty = Cat(\"Tom\")"
   ]
  },
  {
   "cell_type": "code",
   "execution_count": 257,
   "id": "cfef660f",
   "metadata": {},
   "outputs": [
    {
     "data": {
      "text/plain": [
       "'Tom is meowing'"
      ]
     },
     "execution_count": 257,
     "metadata": {},
     "output_type": "execute_result"
    }
   ],
   "source": [
    "kitty.meow()"
   ]
  },
  {
   "cell_type": "code",
   "execution_count": 258,
   "id": "31351048",
   "metadata": {},
   "outputs": [
    {
     "data": {
      "text/plain": [
       "'Tom is eating'"
      ]
     },
     "execution_count": 258,
     "metadata": {},
     "output_type": "execute_result"
    }
   ],
   "source": [
    "kitty.eat()"
   ]
  },
  {
   "cell_type": "code",
   "execution_count": 259,
   "id": "da8c06a8",
   "metadata": {},
   "outputs": [
    {
     "ename": "AttributeError",
     "evalue": "'Cat' object has no attribute 'bark'",
     "output_type": "error",
     "traceback": [
      "\u001b[1;31m---------------------------------------------------------------------------\u001b[0m",
      "\u001b[1;31mAttributeError\u001b[0m                            Traceback (most recent call last)",
      "Cell \u001b[1;32mIn[259], line 1\u001b[0m\n\u001b[1;32m----> 1\u001b[0m kitty\u001b[38;5;241m.\u001b[39mbark()\n",
      "\u001b[1;31mAttributeError\u001b[0m: 'Cat' object has no attribute 'bark'"
     ]
    }
   ],
   "source": [
    "kitty.bark()"
   ]
  },
  {
   "cell_type": "markdown",
   "id": "550ecd1e-14dc-405c-aaa4-07118327559c",
   "metadata": {},
   "source": [
    "#### Method Resolution Order (MRO) in Python Multiple Inheritance"
   ]
  },
  {
   "cell_type": "markdown",
   "id": "30afb169-6ec7-4b90-92c2-6c76dbec7870",
   "metadata": {},
   "source": [
    "When multiple inheritance is involved, the order in which classes are searched for a method or attribute can become complex. This is where Method Resolution Order (MRO) comes into play. MRO defines the order in which base classes are searched when executing a method."
   ]
  },
  {
   "cell_type": "code",
   "execution_count": 260,
   "id": "b578a4c5-edec-4d35-83c1-c6a3f88fcbad",
   "metadata": {},
   "outputs": [],
   "source": [
    "class A:\n",
    "    pass\n",
    "\n",
    "class B(A):\n",
    "    pass\n",
    "\n",
    "class C(A):\n",
    "    pass\n",
    "\n",
    "class D(B, C):\n",
    "    pass"
   ]
  },
  {
   "cell_type": "code",
   "execution_count": 261,
   "id": "b90621ce",
   "metadata": {},
   "outputs": [
    {
     "data": {
      "text/plain": [
       "(__main__.D, __main__.B, __main__.C, __main__.A, object)"
      ]
     },
     "execution_count": 261,
     "metadata": {},
     "output_type": "execute_result"
    }
   ],
   "source": [
    "D.__mro__"
   ]
  },
  {
   "cell_type": "code",
   "execution_count": 262,
   "id": "5532b244-ae74-49fa-a8e4-34ba49b6b540",
   "metadata": {},
   "outputs": [
    {
     "data": {
      "text/plain": [
       "(__main__.C, __main__.A, object)"
      ]
     },
     "execution_count": 262,
     "metadata": {},
     "output_type": "execute_result"
    }
   ],
   "source": [
    "C.__mro__"
   ]
  },
  {
   "cell_type": "code",
   "execution_count": 263,
   "id": "76eb73d2",
   "metadata": {},
   "outputs": [
    {
     "data": {
      "text/plain": [
       "(__main__.B, __main__.A, object)"
      ]
     },
     "execution_count": 263,
     "metadata": {},
     "output_type": "execute_result"
    }
   ],
   "source": [
    "B.__mro__"
   ]
  },
  {
   "cell_type": "code",
   "execution_count": 264,
   "id": "12360e98",
   "metadata": {},
   "outputs": [
    {
     "data": {
      "text/plain": [
       "(__main__.A, object)"
      ]
     },
     "execution_count": 264,
     "metadata": {},
     "output_type": "execute_result"
    }
   ],
   "source": [
    "A.__mro__"
   ]
  },
  {
   "cell_type": "markdown",
   "id": "b9a78503-b6e7-4d3f-b71d-2795102c6128",
   "metadata": {},
   "source": [
    "`Hybrid Inheritance in Python`\n",
    "\n",
    "Hybrid inheritance is a mix of two or more types of inheritance. This can sometimes be complex to manage, but Python’s MRO (Method Resolution Order) helps keep things under control."
   ]
  },
  {
   "cell_type": "code",
   "execution_count": 265,
   "id": "e89a412b-2125-4057-ad5f-dc09501bdd77",
   "metadata": {},
   "outputs": [],
   "source": [
    "class Animal:\n",
    "    def speak(self):\n",
    "        print(\"Animal sound\")\n",
    "\n",
    "class Mammal(Animal):\n",
    "    pass\n",
    "\n",
    "class Bird(Animal):\n",
    "    pass\n",
    "\n",
    "class Bat(Mammal, Bird):\n",
    "    pass"
   ]
  },
  {
   "cell_type": "code",
   "execution_count": 266,
   "id": "a2998ce4-b9dd-4655-bc75-9dd4e33ac0f1",
   "metadata": {},
   "outputs": [
    {
     "name": "stdout",
     "output_type": "stream",
     "text": [
      "Animal sound\n"
     ]
    }
   ],
   "source": [
    "bat = Bat()\n",
    "bat.speak()"
   ]
  },
  {
   "cell_type": "markdown",
   "id": "cc5be4cd",
   "metadata": {},
   "source": [
    "#### Task: Create Coordinate converter app based on Polymorphism"
   ]
  },
  {
   "cell_type": "code",
   "execution_count": 267,
   "id": "1f009bd3",
   "metadata": {},
   "outputs": [],
   "source": [
    "class CoordinateConvertor:\n",
    "    def __init__(self):\n",
    "        self.degree = None\n",
    "        self.minutes = None\n",
    "        self.seconds = None\n",
    "        self.dd = None\n",
    "        self.msec = None\n",
    "    def dms2dd(self, degree, minutes, seconds):\n",
    "        self.degree = degree\n",
    "        self.minutes = minutes\n",
    "        self.seconds = seconds\n",
    "        self.dd = self.degree + self.minutes/60 + self.seconds/3600\n",
    "        return self.dd\n",
    "\n",
    "class Convertor(CoordinateConvertor):\n",
    "    def dms2dm(self, degree, minutes, seconds):\n",
    "        self.msec = minutes + seconds/60\n",
    "        return self.degree, self.msec\n",
    "    def dd2dms(self, dd):\n",
    "        self.dd = dd\n",
    "        deg = int(dd)\n",
    "        minu = int((dd - deg) * 60)\n",
    "        sec = ((dd - int(deg)) * 60) - int((dd - int(deg)) * 60)\n",
    "        return deg, minu, sec"
   ]
  },
  {
   "cell_type": "code",
   "execution_count": 268,
   "id": "6cc7e4b6",
   "metadata": {},
   "outputs": [],
   "source": [
    "obj = Convertor()"
   ]
  },
  {
   "cell_type": "code",
   "execution_count": 269,
   "id": "defc036e",
   "metadata": {},
   "outputs": [
    {
     "data": {
      "text/plain": [
       "12.756388888888889"
      ]
     },
     "execution_count": 269,
     "metadata": {},
     "output_type": "execute_result"
    }
   ],
   "source": [
    "obj.dms2dd(12,45,23)"
   ]
  },
  {
   "cell_type": "code",
   "execution_count": 270,
   "id": "5bcde3fc",
   "metadata": {},
   "outputs": [
    {
     "data": {
      "text/plain": [
       "(12, 45.38333333333333)"
      ]
     },
     "execution_count": 270,
     "metadata": {},
     "output_type": "execute_result"
    }
   ],
   "source": [
    "obj.dms2dm(12, 45, 23)"
   ]
  },
  {
   "cell_type": "code",
   "execution_count": 271,
   "id": "1413d306",
   "metadata": {},
   "outputs": [
    {
     "data": {
      "text/plain": [
       "(12, 32, 0.8046999999999755)"
      ]
     },
     "execution_count": 271,
     "metadata": {},
     "output_type": "execute_result"
    }
   ],
   "source": [
    "obj.dd2dms(12.546745)"
   ]
  },
  {
   "cell_type": "markdown",
   "id": "0c3676c9",
   "metadata": {},
   "source": [
    "#### Distance Calculator app"
   ]
  },
  {
   "cell_type": "code",
   "execution_count": 272,
   "id": "a1c82985",
   "metadata": {},
   "outputs": [],
   "source": [
    "class Distance:\n",
    "    def __init__(self):\n",
    "        self.X1 = None\n",
    "        self.Y1 = None\n",
    "        self.X2 = None\n",
    "        self.Y2 = None\n",
    "        self.eu_distance = None\n",
    "        \n",
    "    def ComputeDistance(self, X1, Y1, X2, Y2):\n",
    "        # Coordinate pair\n",
    "        self.X1 = X1\n",
    "        self.Y1 = Y1\n",
    "\n",
    "        #Coordinate pair\n",
    "        self.X2 = X2\n",
    "        self.Y2 = Y2\n",
    "\n",
    "        # Calculating ED\n",
    "        self.eu_distance = ((X2 - X1)**2 + (Y2 - Y1)**2)**0.5\n",
    "\n",
    "        # sending the result back\n",
    "        return self.eu_distance\n",
    "\n",
    "class Cartesian(Distance):\n",
    "    pass\n",
    "\n",
    "class Projected(Distance):\n",
    "    pass"
   ]
  },
  {
   "cell_type": "code",
   "execution_count": 273,
   "id": "85725749",
   "metadata": {},
   "outputs": [
    {
     "data": {
      "text/plain": [
       "(__main__.Projected, __main__.Distance, object)"
      ]
     },
     "execution_count": 273,
     "metadata": {},
     "output_type": "execute_result"
    }
   ],
   "source": [
    "Projected.__mro__"
   ]
  },
  {
   "cell_type": "code",
   "execution_count": 274,
   "id": "d6c90c38",
   "metadata": {},
   "outputs": [
    {
     "data": {
      "text/plain": [
       "(__main__.Cartesian, __main__.Distance, object)"
      ]
     },
     "execution_count": 274,
     "metadata": {},
     "output_type": "execute_result"
    }
   ],
   "source": [
    "Cartesian.__mro__"
   ]
  },
  {
   "cell_type": "code",
   "execution_count": 275,
   "id": "40b9904e",
   "metadata": {},
   "outputs": [],
   "source": [
    "obj = Projected()"
   ]
  },
  {
   "cell_type": "code",
   "execution_count": 276,
   "id": "48625385",
   "metadata": {},
   "outputs": [
    {
     "data": {
      "text/plain": [
       "3.605551275463989"
      ]
     },
     "execution_count": 276,
     "metadata": {},
     "output_type": "execute_result"
    }
   ],
   "source": [
    "obj.ComputeDistance(3,4,6,6)"
   ]
  },
  {
   "cell_type": "code",
   "execution_count": 277,
   "id": "731e924a",
   "metadata": {},
   "outputs": [],
   "source": [
    "obj1 = Cartesian()"
   ]
  },
  {
   "cell_type": "code",
   "execution_count": 278,
   "id": "d1bf9750",
   "metadata": {},
   "outputs": [
    {
     "data": {
      "text/plain": [
       "7.810249675906654"
      ]
     },
     "execution_count": 278,
     "metadata": {},
     "output_type": "execute_result"
    }
   ],
   "source": [
    "obj1.ComputeDistance(2,3,8,8)"
   ]
  },
  {
   "cell_type": "code",
   "execution_count": 279,
   "id": "f657c9aa",
   "metadata": {},
   "outputs": [],
   "source": [
    "obj3 = Distance()"
   ]
  },
  {
   "cell_type": "code",
   "execution_count": 280,
   "id": "9baeb452",
   "metadata": {},
   "outputs": [
    {
     "data": {
      "text/plain": [
       "2.8284271247461903"
      ]
     },
     "execution_count": 280,
     "metadata": {},
     "output_type": "execute_result"
    }
   ],
   "source": [
    "obj3.ComputeDistance(4,5,2,7)"
   ]
  },
  {
   "cell_type": "code",
   "execution_count": 281,
   "id": "f15dbeee",
   "metadata": {},
   "outputs": [],
   "source": [
    "val = obj3.ComputeDistance(4,5,2,7)"
   ]
  },
  {
   "cell_type": "code",
   "execution_count": 282,
   "id": "29e8dd2b",
   "metadata": {},
   "outputs": [
    {
     "data": {
      "text/plain": [
       "2.8284271247461903"
      ]
     },
     "execution_count": 282,
     "metadata": {},
     "output_type": "execute_result"
    }
   ],
   "source": [
    "val"
   ]
  },
  {
   "cell_type": "markdown",
   "id": "c72332c3",
   "metadata": {},
   "source": [
    "***"
   ]
  },
  {
   "cell_type": "markdown",
   "id": "5cef72f4",
   "metadata": {},
   "source": [
    "#### `super()` function in Python Inheritance"
   ]
  },
  {
   "cell_type": "markdown",
   "id": "714f5db1",
   "metadata": {},
   "source": [
    "When working with inheritance in Python, the `super()` function is your go-to tool for referring to the parent class. It is most commonly used inside the child class’s `__init__` method to inherit the parent’s constructor.\n",
    "\n",
    "But `super()` isn’t just limited to constructors. You can use it to invoke any method from the parent class, allowing for smooth interaction between child and parent classes."
   ]
  },
  {
   "cell_type": "markdown",
   "id": "33aa1770",
   "metadata": {},
   "source": [
    "#### Example 1 : Inherit methods of parent class inside child class"
   ]
  },
  {
   "cell_type": "code",
   "execution_count": 283,
   "id": "c432fb03",
   "metadata": {},
   "outputs": [],
   "source": [
    "class Animal:\n",
    "    def sound(self):\n",
    "        print(\"All animals makes sound\")\n",
    "\n",
    "\n",
    "class Dog(Animal):\n",
    "    def sound(self):\n",
    "        print(\"Bark!\")\n",
    "        super().sound() # Inherit method"
   ]
  },
  {
   "cell_type": "code",
   "execution_count": 284,
   "id": "130a6dbd",
   "metadata": {},
   "outputs": [
    {
     "name": "stdout",
     "output_type": "stream",
     "text": [
      "Bark!\n",
      "All animals makes sound\n"
     ]
    }
   ],
   "source": [
    "# Creating an object of Dog class\n",
    "dog = Dog()\n",
    "\n",
    "dog.sound()"
   ]
  },
  {
   "cell_type": "markdown",
   "id": "4cb9f29b",
   "metadata": {},
   "source": [
    "#### Example 2: Inherit the instance attributes of parent class inside the child class"
   ]
  },
  {
   "cell_type": "code",
   "execution_count": 285,
   "id": "0b0bb041",
   "metadata": {},
   "outputs": [],
   "source": [
    "class ParentClass:\n",
    "    def __init__(self, fathername, mothername):\n",
    "        self.fathername = fathername\n",
    "        self.mothername = mothername\n",
    "\n",
    "    def get_parents(self):\n",
    "        print(f\"Father Name: {self.fathername} \\nMother Name: {self.mothername}\")\n",
    "\n",
    "class ChildClass(ParentClass):\n",
    "    def __init__(self, childname, childage, fathername, mothername):\n",
    "        self.childname = childname\n",
    "        self.childage = childage\n",
    "        super().__init__(fathername, mothername) # Inherit attribute\n",
    "        \n",
    "    def show_age(self):\n",
    "        print(f\"Age: {self.childage}\")"
   ]
  },
  {
   "cell_type": "code",
   "execution_count": 286,
   "id": "3578fa95",
   "metadata": {},
   "outputs": [],
   "source": [
    "# Creating an object of the ChildClass\n",
    "child = ChildClass(\"John\", 6, \"Jacobs\", \"Lily\")\n"
   ]
  },
  {
   "cell_type": "code",
   "execution_count": 287,
   "id": "fc602149",
   "metadata": {},
   "outputs": [
    {
     "data": {
      "text/plain": [
       "'John'"
      ]
     },
     "execution_count": 287,
     "metadata": {},
     "output_type": "execute_result"
    }
   ],
   "source": [
    "child.childname # Inherited instance attribute"
   ]
  },
  {
   "cell_type": "code",
   "execution_count": 288,
   "id": "e3d8d5e0",
   "metadata": {},
   "outputs": [
    {
     "data": {
      "text/plain": [
       "6"
      ]
     },
     "execution_count": 288,
     "metadata": {},
     "output_type": "execute_result"
    }
   ],
   "source": [
    "child.childage"
   ]
  },
  {
   "cell_type": "code",
   "execution_count": 289,
   "id": "c4626ec5",
   "metadata": {},
   "outputs": [
    {
     "data": {
      "text/plain": [
       "'Jacobs'"
      ]
     },
     "execution_count": 289,
     "metadata": {},
     "output_type": "execute_result"
    }
   ],
   "source": [
    "child.fathername"
   ]
  },
  {
   "cell_type": "code",
   "execution_count": 290,
   "id": "da6b8d69",
   "metadata": {},
   "outputs": [
    {
     "data": {
      "text/plain": [
       "'Lily'"
      ]
     },
     "execution_count": 290,
     "metadata": {},
     "output_type": "execute_result"
    }
   ],
   "source": [
    "child.mothername"
   ]
  },
  {
   "cell_type": "code",
   "execution_count": 291,
   "id": "6083b3bc",
   "metadata": {},
   "outputs": [
    {
     "name": "stdout",
     "output_type": "stream",
     "text": [
      "Father Name: Jacobs \n",
      "Mother Name: Lily\n"
     ]
    }
   ],
   "source": [
    "child.get_parents()"
   ]
  },
  {
   "cell_type": "code",
   "execution_count": 292,
   "id": "bb260f68",
   "metadata": {},
   "outputs": [
    {
     "name": "stdout",
     "output_type": "stream",
     "text": [
      "Age: 6\n"
     ]
    }
   ],
   "source": [
    "child.show_age()"
   ]
  },
  {
   "cell_type": "markdown",
   "id": "d0975144",
   "metadata": {},
   "source": [
    "#### Example 3: Inherit both methods and attributes from parent class to child class"
   ]
  },
  {
   "cell_type": "code",
   "execution_count": 293,
   "id": "53aad7c8",
   "metadata": {},
   "outputs": [],
   "source": [
    "#super class\n",
    "class ParentClass:\n",
    "    def __init__(self, name):\n",
    "        self.name = name\n",
    "\n",
    "    def get_parent_name(self):\n",
    "        print(f\"Parent Name: {self.name}\")\n",
    "\n",
    "\n",
    "#sub class \n",
    "\n",
    "class ChildClass(ParentClass):\n",
    "\n",
    "    # Child class inherits from ParentClass\n",
    "\n",
    "\n",
    "\n",
    "    def __init__(self, name, child_name, age):\n",
    "        super().__init__(name)  # Call the parent's __init__ method\n",
    "        self.child_name = child_name\n",
    "        self.age = age\n",
    "\n",
    "    def show_age(self):\n",
    "        print(f\"Age: {self.age}\")\n",
    "\n",
    "\n",
    "\n",
    "    def display_all(self):\n",
    "\n",
    "        \n",
    "        self.get_parent_name()  # Call the parent's display_name method\n",
    "\n",
    "        super().get_parent_name()\n",
    "\n",
    "\n",
    "        print(f\"Child Name: {self.child_name}\")\n",
    "\n",
    "        self.show_age()  # Call the child's show_age method\n",
    "\n",
    "        "
   ]
  },
  {
   "cell_type": "code",
   "execution_count": 294,
   "id": "2500f4d4",
   "metadata": {},
   "outputs": [],
   "source": [
    "# Instantiate the ChildClass object\n",
    "child1 = ChildClass(\"Manohar\", \"Vinay\", 32)"
   ]
  },
  {
   "cell_type": "code",
   "execution_count": 295,
   "id": "68118b6e",
   "metadata": {},
   "outputs": [
    {
     "name": "stdout",
     "output_type": "stream",
     "text": [
      "Parent Name: Manohar\n",
      "Parent Name: Manohar\n",
      "Child Name: Vinay\n",
      "Age: 32\n"
     ]
    }
   ],
   "source": [
    "# Display both the parent's name and the child's name and age\n",
    "child1.display_all()"
   ]
  },
  {
   "cell_type": "markdown",
   "id": "9d3bb6f5",
   "metadata": {},
   "source": [
    "#### Task "
   ]
  },
  {
   "cell_type": "code",
   "execution_count": 296,
   "id": "4e52ebfe",
   "metadata": {},
   "outputs": [],
   "source": [
    "class BankAccount:\n",
    "    def __init__(self, account_number, account_holder, balance=0):\n",
    "        self.account_number = account_number\n",
    "        self.account_holder = account_holder\n",
    "        self.balance = balance\n",
    "\n",
    "    def deposit(self, amount):\n",
    "        self.balance = self.balance + amount\n",
    "        print(f\"Deposited Rs. {amount}. New balance: Rs. {self.balance}\")\n",
    "\n",
    "    def withdraw(self, amount):\n",
    "            self.balance = self.balance - amount\n",
    "            print(f\"Withdrew Rs. {amount}. New balance: Rs. {self.balance}\")\n",
    "\n",
    "    def get_balance(self):\n",
    "        print(f\"Account Holder: {self.account_holder}, Balance: Rs. {self.balance}\")\n",
    "\n",
    "    def closing_balance(self):\n",
    "         print(f\"Closing Balance: Rs. {self.balance}\")\n"
   ]
  },
  {
   "cell_type": "code",
   "execution_count": 297,
   "id": "b2b479db",
   "metadata": {},
   "outputs": [],
   "source": [
    "class SavingsAccount(BankAccount):\n",
    "    def __init__(self, account_number, account_holder, balance=0, interest_rate=0.12, nominee=None):\n",
    "\n",
    "        super().__init__(account_number, account_holder, balance)\n",
    "\n",
    "        self.interest_rate = interest_rate\n",
    "        self.nominee = nominee\n",
    "\n",
    "    def add_interest(self):\n",
    "        interest = self.balance * self.interest_rate\n",
    "        self.deposit(interest)\n",
    "        print(f\"Added interest: Rs. {interest}. New balance: Rs. {self.balance}\")\n",
    "        super().closing_balance()"
   ]
  },
  {
   "cell_type": "code",
   "execution_count": 298,
   "id": "c6575b94",
   "metadata": {},
   "outputs": [],
   "source": [
    "acc = SavingsAccount(1326963172, 'Vinay', 5001, 0.12, \"Spouse\")"
   ]
  },
  {
   "cell_type": "code",
   "execution_count": 299,
   "id": "ac2892bb",
   "metadata": {},
   "outputs": [
    {
     "data": {
      "text/plain": [
       "1326963172"
      ]
     },
     "execution_count": 299,
     "metadata": {},
     "output_type": "execute_result"
    }
   ],
   "source": [
    "acc.account_number"
   ]
  },
  {
   "cell_type": "code",
   "execution_count": 300,
   "id": "079fb8f0",
   "metadata": {},
   "outputs": [
    {
     "data": {
      "text/plain": [
       "'Vinay'"
      ]
     },
     "execution_count": 300,
     "metadata": {},
     "output_type": "execute_result"
    }
   ],
   "source": [
    "acc.account_holder"
   ]
  },
  {
   "cell_type": "code",
   "execution_count": 301,
   "id": "cba5880e",
   "metadata": {},
   "outputs": [
    {
     "data": {
      "text/plain": [
       "5001"
      ]
     },
     "execution_count": 301,
     "metadata": {},
     "output_type": "execute_result"
    }
   ],
   "source": [
    "acc.balance"
   ]
  },
  {
   "cell_type": "code",
   "execution_count": 302,
   "id": "89685c37",
   "metadata": {},
   "outputs": [
    {
     "data": {
      "text/plain": [
       "0.12"
      ]
     },
     "execution_count": 302,
     "metadata": {},
     "output_type": "execute_result"
    }
   ],
   "source": [
    "acc.interest_rate"
   ]
  },
  {
   "cell_type": "code",
   "execution_count": 303,
   "id": "41e8a52b",
   "metadata": {},
   "outputs": [
    {
     "data": {
      "text/plain": [
       "'Spouse'"
      ]
     },
     "execution_count": 303,
     "metadata": {},
     "output_type": "execute_result"
    }
   ],
   "source": [
    "acc.nominee"
   ]
  },
  {
   "cell_type": "code",
   "execution_count": 304,
   "id": "881f3023",
   "metadata": {},
   "outputs": [
    {
     "name": "stdout",
     "output_type": "stream",
     "text": [
      "Deposited Rs. 500. New balance: Rs. 5501\n"
     ]
    }
   ],
   "source": [
    "acc.deposit(500)"
   ]
  },
  {
   "cell_type": "code",
   "execution_count": 305,
   "id": "af264f0d",
   "metadata": {},
   "outputs": [
    {
     "name": "stdout",
     "output_type": "stream",
     "text": [
      "Withdrew Rs. 200. New balance: Rs. 5301\n"
     ]
    }
   ],
   "source": [
    "acc.withdraw(200)"
   ]
  },
  {
   "cell_type": "code",
   "execution_count": 306,
   "id": "e5a883f3",
   "metadata": {},
   "outputs": [
    {
     "name": "stdout",
     "output_type": "stream",
     "text": [
      "Account Holder: Vinay, Balance: Rs. 5301\n"
     ]
    }
   ],
   "source": [
    "acc.get_balance()"
   ]
  },
  {
   "cell_type": "code",
   "execution_count": 307,
   "id": "5c8e0335",
   "metadata": {},
   "outputs": [
    {
     "name": "stdout",
     "output_type": "stream",
     "text": [
      "Deposited Rs. 636.12. New balance: Rs. 5937.12\n",
      "Added interest: Rs. 636.12. New balance: Rs. 5937.12\n",
      "Closing Balance: Rs. 5937.12\n"
     ]
    }
   ],
   "source": [
    "acc.add_interest()"
   ]
  },
  {
   "cell_type": "code",
   "execution_count": 308,
   "id": "9c4289ba",
   "metadata": {},
   "outputs": [
    {
     "name": "stdout",
     "output_type": "stream",
     "text": [
      "Account Holder: Vinay, Balance: Rs. 5937.12\n"
     ]
    }
   ],
   "source": [
    "acc.get_balance()"
   ]
  }
 ],
 "metadata": {
  "kernelspec": {
   "display_name": "base",
   "language": "python",
   "name": "python3"
  },
  "language_info": {
   "codemirror_mode": {
    "name": "ipython",
    "version": 3
   },
   "file_extension": ".py",
   "mimetype": "text/x-python",
   "name": "python",
   "nbconvert_exporter": "python",
   "pygments_lexer": "ipython3",
   "version": "3.12.4"
  }
 },
 "nbformat": 4,
 "nbformat_minor": 5
}
