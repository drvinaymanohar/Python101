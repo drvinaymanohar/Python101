{
 "cells": [
  {
   "cell_type": "code",
   "execution_count": null,
   "id": "44230278-da45-4a2a-af89-2cd23201a34d",
   "metadata": {},
   "outputs": [],
   "source": [
    "# Tell me a code to perform addition of two number"
   ]
  },
  {
   "cell_type": "code",
   "execution_count": 1,
   "id": "2777f22a-8e4b-4371-aa62-f504a1f17338",
   "metadata": {},
   "outputs": [
    {
     "name": "stdout",
     "output_type": "stream",
     "text": [
      "10\n"
     ]
    }
   ],
   "source": [
    "a = 7\n",
    "b = 3\n",
    "c = a + b\n",
    "print(c)"
   ]
  },
  {
   "cell_type": "code",
   "execution_count": null,
   "id": "42558880-0d99-42c8-b33f-ab7d7baf6338",
   "metadata": {},
   "outputs": [],
   "source": [
    "# Tell me a code to perform addition of three number"
   ]
  },
  {
   "cell_type": "code",
   "execution_count": 2,
   "id": "1e3ae908-7ccc-4bd0-b049-29c090c950b7",
   "metadata": {},
   "outputs": [
    {
     "name": "stdout",
     "output_type": "stream",
     "text": [
      "8\n"
     ]
    }
   ],
   "source": [
    "a = 4\n",
    "b = 3\n",
    "c = 1\n",
    "d = a + b + c\n",
    "print(d)"
   ]
  },
  {
   "cell_type": "code",
   "execution_count": null,
   "id": "707ebde6-f181-4857-9175-e9efc8e5ae4b",
   "metadata": {},
   "outputs": [],
   "source": [
    "# Tell me a code to perform addition of four number"
   ]
  },
  {
   "cell_type": "code",
   "execution_count": 3,
   "id": "38d94355-65e9-4266-a785-f21cdd91fa84",
   "metadata": {},
   "outputs": [
    {
     "name": "stdout",
     "output_type": "stream",
     "text": [
      "23\n"
     ]
    }
   ],
   "source": [
    "a = 4\n",
    "b = 6\n",
    "c = 9\n",
    "d = 4\n",
    "e = a + b + c + d\n",
    "print(e)"
   ]
  },
  {
   "cell_type": "code",
   "execution_count": 4,
   "id": "cd5edeed-d89b-4682-b2b8-d0ebe47e7d90",
   "metadata": {},
   "outputs": [
    {
     "name": "stdout",
     "output_type": "stream",
     "text": [
      "Variable          Type             Data/Info\n",
      "--------------------------------------------\n",
      "NamespaceMagics   MetaHasTraits    <class 'IPython.core.magi<...>mespace.NamespaceMagics'>\n",
      "a                 int              4\n",
      "b                 int              6\n",
      "c                 int              9\n",
      "d                 int              4\n",
      "e                 int              23\n",
      "get_ipython       function         <function get_ipython at 0x000001E347ACC180>\n",
      "json              module           <module 'json' from 'C:\\\\<...>\\Lib\\\\json\\\\__init__.py'>\n",
      "sys               module           <module 'sys' (built-in)>\n"
     ]
    }
   ],
   "source": [
    "%whos"
   ]
  },
  {
   "cell_type": "code",
   "execution_count": null,
   "id": "20b274e8-b693-4019-bb6a-332004c84c41",
   "metadata": {},
   "outputs": [],
   "source": [
    "# general deifination of function\n",
    "\n",
    "# doing a task\n",
    "\n",
    "# what is the function clock----> to show time.\n",
    "# stove --> to give heat energy\n",
    "# toothbrush -----> to clean teeth\n",
    "\n",
    "\n",
    "\n"
   ]
  },
  {
   "cell_type": "markdown",
   "id": "2b53ed36-33eb-45f7-b1b5-509358a1b693",
   "metadata": {},
   "source": [
    "#### What is a Function in Python?\n",
    "\n",
    "- A function in Python is a way to organize your code into reusable pieces.\n",
    "\n",
    "- A function allows you to write a set of instructions that can be used multiple times without needing to rewrite them.\n",
    "\n",
    "- This is great idea because it saves you from repetitive code and makes your program easier to maintain."
   ]
  },
  {
   "cell_type": "markdown",
   "id": "5f23a90b-4215-44df-a46a-e2cdd186bd78",
   "metadata": {},
   "source": [
    "#### Why Are Python Functions Important?\n",
    "\n",
    "- Functions are vital for keeping your code organized and easy to read.\n",
    "\n",
    "- By breaking down your program into smaller, reusable parts, you can manage complex tasks more easily.\n",
    "\n",
    "- This approach not only makes your code cleaner but also helps with code readability—other people (or even future you) can understand it without getting lost in a mess of instructions.\n",
    "\n",
    "There are two steps in functions\n",
    "\n",
    "- Defining a functions\n",
    "- Calling a functions.\n",
    "\n",
    "Defining a function means writing it out and deciding what it should do,\n",
    "\n",
    "While calling a function means using it in your program."
   ]
  },
  {
   "cell_type": "markdown",
   "id": "abfdc6ff-666a-4ceb-afb1-c6bd7adc0f4e",
   "metadata": {},
   "source": [
    "#### Basic Function Definition in Python\n",
    "\n",
    "To define a function in Python, you use the `def` keyword followed by the function name and any parameters the function will need inside parentheses. Then, you finish the line with a colon `(:)`. Everything that follows should be `indented`, as this marks the `block of code` that belongs to the function."
   ]
  },
  {
   "cell_type": "raw",
   "id": "4d7d5f8d-9c43-407b-a5cf-4ed88ecf6eeb",
   "metadata": {},
   "source": [
    "def function_name(parameters):\n",
    "    # Code block goes here"
   ]
  },
  {
   "cell_type": "code",
   "execution_count": 5,
   "id": "4cf9708e-d8ba-4908-90ed-937f86e1cddd",
   "metadata": {},
   "outputs": [],
   "source": [
    "def wakingup():\n",
    "    print(\"Waking up\")"
   ]
  },
  {
   "cell_type": "code",
   "execution_count": 10,
   "id": "f32dc001-73e8-4c3a-b6a4-7b340f5ad70a",
   "metadata": {},
   "outputs": [
    {
     "name": "stdout",
     "output_type": "stream",
     "text": [
      "Waking up\n"
     ]
    }
   ],
   "source": [
    "wakingup()"
   ]
  },
  {
   "cell_type": "code",
   "execution_count": 19,
   "id": "5b55887e-e65e-47b8-8d21-66fcf9d8ba9f",
   "metadata": {},
   "outputs": [],
   "source": [
    "def brushup():\n",
    "    print(\"Brushing...\")"
   ]
  },
  {
   "cell_type": "code",
   "execution_count": 20,
   "id": "c3727f29-d026-465a-bd75-9c739ed01115",
   "metadata": {},
   "outputs": [
    {
     "name": "stdout",
     "output_type": "stream",
     "text": [
      "Brushing...\n"
     ]
    }
   ],
   "source": [
    "brushup()"
   ]
  },
  {
   "cell_type": "code",
   "execution_count": 21,
   "id": "64746ce2-e120-473c-87e1-f2c98110cd2d",
   "metadata": {},
   "outputs": [],
   "source": [
    "# Defining a function\n",
    "def say_hello():\n",
    "    print(\"Hello, world!\")"
   ]
  },
  {
   "cell_type": "code",
   "execution_count": 22,
   "id": "b949c6c7-742f-44a5-9d93-06e9692054b6",
   "metadata": {},
   "outputs": [
    {
     "name": "stdout",
     "output_type": "stream",
     "text": [
      "Hello, world!\n"
     ]
    }
   ],
   "source": [
    "# Calling a function\n",
    "say_hello()"
   ]
  },
  {
   "cell_type": "code",
   "execution_count": 23,
   "id": "a5e4228e-0386-4697-bc56-c90cb45ec9b2",
   "metadata": {},
   "outputs": [
    {
     "name": "stdout",
     "output_type": "stream",
     "text": [
      "Hello, world!\n"
     ]
    }
   ],
   "source": [
    "say_hello()"
   ]
  },
  {
   "cell_type": "code",
   "execution_count": 24,
   "id": "43368996-7a7c-4c34-9c34-d7706084b289",
   "metadata": {},
   "outputs": [
    {
     "name": "stdout",
     "output_type": "stream",
     "text": [
      "Hello, world!\n"
     ]
    }
   ],
   "source": [
    "say_hello()"
   ]
  },
  {
   "cell_type": "code",
   "execution_count": 25,
   "id": "5167f4c0-6e80-4117-807e-64b8be467eb4",
   "metadata": {},
   "outputs": [
    {
     "name": "stdout",
     "output_type": "stream",
     "text": [
      "Hello, world!\n"
     ]
    }
   ],
   "source": [
    "say_hello()"
   ]
  },
  {
   "cell_type": "code",
   "execution_count": 26,
   "id": "e843743f-14c4-48b9-bf29-9bb03f73ab62",
   "metadata": {},
   "outputs": [
    {
     "name": "stdout",
     "output_type": "stream",
     "text": [
      "Hello, world!\n"
     ]
    }
   ],
   "source": [
    "say_hello()"
   ]
  },
  {
   "cell_type": "code",
   "execution_count": 27,
   "id": "1760d03c-2526-4aa4-8965-dede5e11fb6b",
   "metadata": {},
   "outputs": [
    {
     "name": "stdout",
     "output_type": "stream",
     "text": [
      "Hello, world!\n"
     ]
    }
   ],
   "source": [
    "say_hello()"
   ]
  },
  {
   "cell_type": "code",
   "execution_count": 28,
   "id": "adece770-9e88-49d6-92b8-34fd0121e942",
   "metadata": {},
   "outputs": [
    {
     "name": "stdout",
     "output_type": "stream",
     "text": [
      "Hello, world!\n"
     ]
    }
   ],
   "source": [
    "say_hello()"
   ]
  },
  {
   "cell_type": "code",
   "execution_count": 29,
   "id": "05a44c44-106f-41ca-8115-4ab2fc128e8e",
   "metadata": {},
   "outputs": [
    {
     "name": "stdout",
     "output_type": "stream",
     "text": [
      "Hello, world!\n"
     ]
    }
   ],
   "source": [
    "say_hello()"
   ]
  },
  {
   "cell_type": "code",
   "execution_count": 30,
   "id": "e1ebc9cd-d81d-4e01-943e-603b128e3362",
   "metadata": {},
   "outputs": [
    {
     "name": "stdout",
     "output_type": "stream",
     "text": [
      "Hello, world!\n"
     ]
    }
   ],
   "source": [
    "say_hello()"
   ]
  },
  {
   "cell_type": "code",
   "execution_count": 31,
   "id": "90dc500c-da5f-4063-9dfc-950f2c873def",
   "metadata": {},
   "outputs": [
    {
     "name": "stdout",
     "output_type": "stream",
     "text": [
      "Hello, world!\n"
     ]
    }
   ],
   "source": [
    "say_hello()"
   ]
  },
  {
   "cell_type": "code",
   "execution_count": 32,
   "id": "5aa92135-a2fb-44bb-a32a-cb790a68981f",
   "metadata": {},
   "outputs": [
    {
     "name": "stdout",
     "output_type": "stream",
     "text": [
      "Hello, world!\n"
     ]
    }
   ],
   "source": [
    "say_hello()"
   ]
  },
  {
   "cell_type": "code",
   "execution_count": null,
   "id": "24b96933-a36d-4c9f-a074-c58156032849",
   "metadata": {},
   "outputs": [],
   "source": [
    "#def function_name(parameters):\n",
    "    # Code block goes here"
   ]
  },
  {
   "cell_type": "code",
   "execution_count": null,
   "id": "a26a6103-f480-443d-9601-c377b9e8d4d6",
   "metadata": {},
   "outputs": [],
   "source": []
  },
  {
   "cell_type": "markdown",
   "id": "f2d7bfd0-4412-40d5-bdc1-ae67cc5b6def",
   "metadata": {},
   "source": [
    "#### Parameters in Functions\n",
    "In most cases, functions take in parameters, which allow them to perform actions based on the input they receive. \n",
    "\n",
    "Parameters act as input values for the function"
   ]
  },
  {
   "cell_type": "code",
   "execution_count": 35,
   "id": "e9a9b626-6ff9-4856-b31e-3f5d00f53572",
   "metadata": {},
   "outputs": [],
   "source": [
    "# defining a greet function with name as Parameters\n",
    "def greet(name):\n",
    "    print(f\"Hello! {name}\")"
   ]
  },
  {
   "cell_type": "code",
   "execution_count": 36,
   "id": "3fec5b54-b7e8-42f5-b3db-85488707c926",
   "metadata": {},
   "outputs": [
    {
     "name": "stdout",
     "output_type": "stream",
     "text": [
      "Hello! Vinay\n"
     ]
    }
   ],
   "source": [
    "# Calling a fuction with parameters\n",
    "greet('Vinay')"
   ]
  },
  {
   "cell_type": "code",
   "execution_count": 37,
   "id": "d797d354-8997-4dbe-abb3-244692ee6a26",
   "metadata": {},
   "outputs": [
    {
     "name": "stdout",
     "output_type": "stream",
     "text": [
      "Hello! Python\n"
     ]
    }
   ],
   "source": [
    "greet('Python')"
   ]
  },
  {
   "cell_type": "code",
   "execution_count": 38,
   "id": "c5a5c3eb-2a7c-437a-9429-7d9f703a9104",
   "metadata": {},
   "outputs": [
    {
     "name": "stdout",
     "output_type": "stream",
     "text": [
      "Hello! Sony\n"
     ]
    }
   ],
   "source": [
    "greet('Sony')"
   ]
  },
  {
   "cell_type": "code",
   "execution_count": 39,
   "id": "8c552c6b-66d2-43d3-8356-21bd08d59fdc",
   "metadata": {},
   "outputs": [
    {
     "name": "stdout",
     "output_type": "stream",
     "text": [
      "Hello! Arun\n"
     ]
    }
   ],
   "source": [
    "greet('Arun')"
   ]
  },
  {
   "cell_type": "code",
   "execution_count": 40,
   "id": "4a154fcc-41e4-4f9b-b7e9-e3300439a441",
   "metadata": {},
   "outputs": [
    {
     "name": "stdout",
     "output_type": "stream",
     "text": [
      "Hello! Sanjay\n"
     ]
    }
   ],
   "source": [
    "greet('Sanjay')"
   ]
  },
  {
   "cell_type": "code",
   "execution_count": 41,
   "id": "d4684125-c49b-44b3-9040-4a29c2f18f33",
   "metadata": {},
   "outputs": [
    {
     "name": "stdout",
     "output_type": "stream",
     "text": [
      "Hello! Manjari\n"
     ]
    }
   ],
   "source": [
    "greet('Manjari')"
   ]
  },
  {
   "cell_type": "code",
   "execution_count": 43,
   "id": "7d5610bc-b9b0-4406-ad9a-fea3febb7a71",
   "metadata": {},
   "outputs": [],
   "source": [
    "# defining a function\n",
    "# parameters ---> 3\n",
    "def database(name, age, place):\n",
    "    print(f\"Hi {name}, your age is {age}, and you are from {place}\")"
   ]
  },
  {
   "cell_type": "code",
   "execution_count": 44,
   "id": "ea02f082-cb92-4216-9b22-340b4a484572",
   "metadata": {},
   "outputs": [
    {
     "name": "stdout",
     "output_type": "stream",
     "text": [
      "Hi Vinay, your age is 32, and you are from Bangalore\n"
     ]
    }
   ],
   "source": [
    "# calling a function\n",
    "# arguments to parameters\n",
    "database('Vinay', 32, \"Bangalore\")"
   ]
  },
  {
   "cell_type": "code",
   "execution_count": 45,
   "id": "63d30465-d4be-453f-bf86-666aa95d7049",
   "metadata": {},
   "outputs": [
    {
     "name": "stdout",
     "output_type": "stream",
     "text": [
      "Hi Arun, your age is 26, and you are from Chennai\n"
     ]
    }
   ],
   "source": [
    "database('Arun', 26, \"Chennai\")"
   ]
  },
  {
   "cell_type": "code",
   "execution_count": 50,
   "id": "5e21fb4f-3d5c-4903-a22b-0615af73234b",
   "metadata": {},
   "outputs": [
    {
     "ename": "TypeError",
     "evalue": "database() takes 3 positional arguments but 4 were given",
     "output_type": "error",
     "traceback": [
      "\u001b[1;31m---------------------------------------------------------------------------\u001b[0m",
      "\u001b[1;31mTypeError\u001b[0m                                 Traceback (most recent call last)",
      "Cell \u001b[1;32mIn[50], line 1\u001b[0m\n\u001b[1;32m----> 1\u001b[0m database(\u001b[38;5;124m'\u001b[39m\u001b[38;5;124mArun\u001b[39m\u001b[38;5;124m'\u001b[39m, \u001b[38;5;241m45\u001b[39m, \u001b[38;5;124m'\u001b[39m\u001b[38;5;124mChennai\u001b[39m\u001b[38;5;124m'\u001b[39m, \u001b[38;5;124m'\u001b[39m\u001b[38;5;124mBlah\u001b[39m\u001b[38;5;124m'\u001b[39m)\n",
      "\u001b[1;31mTypeError\u001b[0m: database() takes 3 positional arguments but 4 were given"
     ]
    }
   ],
   "source": [
    "database('Arun', 45, 'Chennai', 'Blah')"
   ]
  },
  {
   "cell_type": "code",
   "execution_count": null,
   "id": "6e298553-5a32-46ba-ae50-e10e7d89f047",
   "metadata": {},
   "outputs": [],
   "source": [
    "# Reuse how many times you want and functions will do the rest"
   ]
  },
  {
   "cell_type": "markdown",
   "id": "50fb747c-fb43-44f5-925e-f1d74f231233",
   "metadata": {},
   "source": [
    "#### Using Parameters and Arguments in Functions"
   ]
  },
  {
   "cell_type": "markdown",
   "id": "0f627813-db79-4cf0-aedf-e472d101811d",
   "metadata": {},
   "source": [
    "- `Parameters` are the placeholders in the function definition. They act like “variables” that your function uses to perform its task.\n",
    "\n",
    "\n",
    "- `Arguments`, on the other hand, are the actual values you pass into the function when you call it. These values fill the placeholders, allowing the function to work with specific data.\n",
    "\n",
    "Usage: \n",
    "\n",
    "- `Parameters` are specified in the function’s definition.\n",
    "\n",
    "def greet(name): -----------> name is a parameter\n",
    "\n",
    "- `Arguments` are passed when you call the function.\n",
    "\n",
    "greet(\"Vinay\") -----------> \"Vinay is a Argument\""
   ]
  },
  {
   "cell_type": "code",
   "execution_count": 56,
   "id": "3ae89a5a-e826-455b-be91-98f053afd5da",
   "metadata": {},
   "outputs": [],
   "source": [
    "# Example: Defining a Function with Parameters\n",
    "\n",
    "def calculate_area(length, width):\n",
    "    area = length * width\n",
    "    print(area)"
   ]
  },
  {
   "cell_type": "code",
   "execution_count": 57,
   "id": "55d45ae1-58a7-461a-89d4-b332f41608e3",
   "metadata": {},
   "outputs": [
    {
     "name": "stdout",
     "output_type": "stream",
     "text": [
      "18\n"
     ]
    }
   ],
   "source": [
    "# How to call\n",
    "calculate_area(3,6)"
   ]
  },
  {
   "cell_type": "code",
   "execution_count": 58,
   "id": "0b42391e-c108-4472-b1e0-a939cf2a87aa",
   "metadata": {},
   "outputs": [
    {
     "name": "stdout",
     "output_type": "stream",
     "text": [
      "36\n"
     ]
    }
   ],
   "source": [
    "calculate_area(6,6)"
   ]
  },
  {
   "cell_type": "code",
   "execution_count": 59,
   "id": "47779b7d-f9f4-4a6b-a7b2-d5fa7f3c68b1",
   "metadata": {},
   "outputs": [],
   "source": [
    "# Area of Cirle\n",
    "def areaCircle(radius):\n",
    "    from math import pi\n",
    "    area = pi * radius * radius\n",
    "    print(area)"
   ]
  },
  {
   "cell_type": "code",
   "execution_count": 60,
   "id": "e998c1d1-18d2-443d-b1db-c42b0fcb7f3d",
   "metadata": {},
   "outputs": [
    {
     "name": "stdout",
     "output_type": "stream",
     "text": [
      "3.141592653589793\n"
     ]
    }
   ],
   "source": [
    "areaCircle(1)"
   ]
  },
  {
   "cell_type": "code",
   "execution_count": 61,
   "id": "8a8c0989-04e2-47a6-b612-dfc880b5a2ac",
   "metadata": {},
   "outputs": [
    {
     "name": "stdout",
     "output_type": "stream",
     "text": [
      "12.566370614359172\n"
     ]
    }
   ],
   "source": [
    "areaCircle(2)"
   ]
  },
  {
   "cell_type": "code",
   "execution_count": 62,
   "id": "54582cfd-a9b3-49e7-9d17-d9f829313625",
   "metadata": {},
   "outputs": [
    {
     "name": "stdout",
     "output_type": "stream",
     "text": [
      "28.274333882308138\n"
     ]
    }
   ],
   "source": [
    "areaCircle(3)"
   ]
  },
  {
   "cell_type": "code",
   "execution_count": 63,
   "id": "4db87d46-ff25-412d-8c1f-8e802dc7b3f5",
   "metadata": {},
   "outputs": [
    {
     "name": "stdout",
     "output_type": "stream",
     "text": [
      "50.26548245743669\n"
     ]
    }
   ],
   "source": [
    "areaCircle(4)"
   ]
  },
  {
   "cell_type": "code",
   "execution_count": 64,
   "id": "5e805a7c-4852-4953-8da4-3fbff5b612e0",
   "metadata": {},
   "outputs": [
    {
     "name": "stdout",
     "output_type": "stream",
     "text": [
      "78.53981633974483\n"
     ]
    }
   ],
   "source": [
    "areaCircle(5)"
   ]
  },
  {
   "cell_type": "code",
   "execution_count": 65,
   "id": "348e79e6-7f90-441d-bac9-8844187b4f37",
   "metadata": {},
   "outputs": [
    {
     "name": "stdout",
     "output_type": "stream",
     "text": [
      "113.09733552923255\n"
     ]
    }
   ],
   "source": [
    "areaCircle(6)"
   ]
  },
  {
   "cell_type": "code",
   "execution_count": null,
   "id": "26fe26d7-31df-4858-9318-2edbe0022852",
   "metadata": {},
   "outputs": [],
   "source": []
  },
  {
   "cell_type": "code",
   "execution_count": null,
   "id": "ef83f8b9-479a-44d7-9967-916a147453f3",
   "metadata": {},
   "outputs": [],
   "source": []
  },
  {
   "cell_type": "code",
   "execution_count": null,
   "id": "6c986241-1854-46c1-b4ba-a53adfede493",
   "metadata": {},
   "outputs": [],
   "source": [
    "# Calling a function\n",
    "calculate_area(5, 3)"
   ]
  },
  {
   "cell_type": "markdown",
   "id": "c0b5b9aa-0635-4959-a658-fb51c1ff8342",
   "metadata": {},
   "source": [
    "#### Use of return V/S print in functions"
   ]
  },
  {
   "cell_type": "code",
   "execution_count": null,
   "id": "0ae85700-9043-4bb9-bb29-653c0fa9529c",
   "metadata": {},
   "outputs": [],
   "source": [
    "# print displays\n",
    "# return remembers"
   ]
  },
  {
   "cell_type": "markdown",
   "id": "0e516b89-e787-4665-a2cd-9abad3249731",
   "metadata": {},
   "source": [
    "One of the powerful features of functions in Python is their ability to return a value after performing some operation. This is done using the return statement, which allows you to send back a result from the function to the point where it was called."
   ]
  },
  {
   "cell_type": "code",
   "execution_count": 66,
   "id": "d4652500-58bd-43e8-9719-1978c0da45ab",
   "metadata": {},
   "outputs": [],
   "source": [
    "def multiply_and_print(a, b):\n",
    "    prod = a * b\n",
    "    print(prod)"
   ]
  },
  {
   "cell_type": "code",
   "execution_count": 67,
   "id": "75a79656-8daf-4d2b-80d3-2f5143229c3e",
   "metadata": {},
   "outputs": [],
   "source": [
    "def multiply_and_return(a, b):\n",
    "    prod = a * b\n",
    "    return prod"
   ]
  },
  {
   "cell_type": "code",
   "execution_count": 69,
   "id": "299739bd-545f-421b-8aec-8df681e5dd01",
   "metadata": {},
   "outputs": [
    {
     "name": "stdout",
     "output_type": "stream",
     "text": [
      "6\n"
     ]
    }
   ],
   "source": [
    "multiply_and_print(2,3)"
   ]
  },
  {
   "cell_type": "code",
   "execution_count": 70,
   "id": "e18b1568-10f0-4256-937d-f6add1452e92",
   "metadata": {},
   "outputs": [
    {
     "data": {
      "text/plain": [
       "6"
      ]
     },
     "execution_count": 70,
     "metadata": {},
     "output_type": "execute_result"
    }
   ],
   "source": [
    "multiply_and_return(2,3)"
   ]
  },
  {
   "cell_type": "code",
   "execution_count": null,
   "id": "9345899b-4cd3-42bc-842f-4d0dd74ec92c",
   "metadata": {},
   "outputs": [],
   "source": [
    "# Try to assign function to variable"
   ]
  },
  {
   "cell_type": "code",
   "execution_count": 72,
   "id": "a20a5a02-d89f-42e3-a721-595593544cdb",
   "metadata": {},
   "outputs": [
    {
     "name": "stdout",
     "output_type": "stream",
     "text": [
      "6\n"
     ]
    }
   ],
   "source": [
    "output1 = multiply_and_print(2,3)"
   ]
  },
  {
   "cell_type": "code",
   "execution_count": 74,
   "id": "12c0ccd7-97e2-4bb4-a403-42b7eaf43b9e",
   "metadata": {},
   "outputs": [
    {
     "name": "stdout",
     "output_type": "stream",
     "text": [
      "None\n"
     ]
    }
   ],
   "source": [
    "print(output1)"
   ]
  },
  {
   "cell_type": "code",
   "execution_count": 75,
   "id": "d1100579-6d07-4c36-819e-7f2f238eeb64",
   "metadata": {},
   "outputs": [],
   "source": [
    "output2 = multiply_and_return(2,3)"
   ]
  },
  {
   "cell_type": "code",
   "execution_count": 76,
   "id": "4531185b-c0c0-4ad3-9fbf-eca8da855714",
   "metadata": {},
   "outputs": [
    {
     "name": "stdout",
     "output_type": "stream",
     "text": [
      "6\n"
     ]
    }
   ],
   "source": [
    "print(output2)"
   ]
  },
  {
   "cell_type": "code",
   "execution_count": 77,
   "id": "2b1d6801-f83c-406b-a470-6569116b3148",
   "metadata": {},
   "outputs": [],
   "source": [
    "# Area of Square\n",
    "def areaSquare(side):\n",
    "    area = side * side\n",
    "    return area"
   ]
  },
  {
   "cell_type": "code",
   "execution_count": 78,
   "id": "bc2e6dfe-921f-4cf1-a5af-032d5703d100",
   "metadata": {},
   "outputs": [
    {
     "data": {
      "text/plain": [
       "9"
      ]
     },
     "execution_count": 78,
     "metadata": {},
     "output_type": "execute_result"
    }
   ],
   "source": [
    "areaSquare(3)"
   ]
  },
  {
   "cell_type": "code",
   "execution_count": 79,
   "id": "daddef33-8579-4afc-a687-2f64e03aec6f",
   "metadata": {},
   "outputs": [],
   "source": [
    "output_square = areaSquare(3)"
   ]
  },
  {
   "cell_type": "code",
   "execution_count": 80,
   "id": "485db85a-1f7f-45a1-822a-a87ef1be4be6",
   "metadata": {},
   "outputs": [
    {
     "name": "stdout",
     "output_type": "stream",
     "text": [
      "9\n"
     ]
    }
   ],
   "source": [
    "print(output_square)"
   ]
  },
  {
   "cell_type": "code",
   "execution_count": 81,
   "id": "25dd93b3-bb20-4df5-86d2-a68ba22889f4",
   "metadata": {},
   "outputs": [],
   "source": [
    "# deg, min, sec\n",
    "\n",
    "def dms2dd(d,m,s):\n",
    "    dd = (d + m/60 + s/3600)\n",
    "    return dd"
   ]
  },
  {
   "cell_type": "code",
   "execution_count": 82,
   "id": "22252915-fb79-4c62-8de9-6135433d5dd4",
   "metadata": {},
   "outputs": [
    {
     "data": {
      "text/plain": [
       "76.54583333333333"
      ]
     },
     "execution_count": 82,
     "metadata": {},
     "output_type": "execute_result"
    }
   ],
   "source": [
    "dms2dd(76, 32, 45)"
   ]
  },
  {
   "cell_type": "code",
   "execution_count": 83,
   "id": "49759f0a-e118-492f-8c3f-6d7019604a19",
   "metadata": {},
   "outputs": [
    {
     "name": "stdout",
     "output_type": "stream",
     "text": [
      "76.54583333333333\n"
     ]
    }
   ],
   "source": [
    "dd_output = dms2dd(76, 32, 45)\n",
    "print(dd_output)"
   ]
  },
  {
   "cell_type": "code",
   "execution_count": 84,
   "id": "75fe03f7-95d6-4dae-9645-d0901d5d306c",
   "metadata": {},
   "outputs": [
    {
     "data": {
      "text/plain": [
       "76.54583333333333"
      ]
     },
     "execution_count": 84,
     "metadata": {},
     "output_type": "execute_result"
    }
   ],
   "source": [
    "dd_output"
   ]
  },
  {
   "cell_type": "code",
   "execution_count": 85,
   "id": "d0b97580-8e39-4d44-a5a5-625a75e17d4f",
   "metadata": {},
   "outputs": [
    {
     "data": {
      "text/plain": [
       "76.54583333333333"
      ]
     },
     "execution_count": 85,
     "metadata": {},
     "output_type": "execute_result"
    }
   ],
   "source": [
    "dd_output"
   ]
  },
  {
   "cell_type": "markdown",
   "id": "23b1649c-8ada-4824-95bc-eab377265fb5",
   "metadata": {},
   "source": [
    "#### Returning Multiple Values"
   ]
  },
  {
   "cell_type": "code",
   "execution_count": 86,
   "id": "9ba92ec2-2924-4d95-9d3c-13630277ef45",
   "metadata": {},
   "outputs": [],
   "source": [
    "def square_cube(value):\n",
    "    squared = value**2\n",
    "    cubed = value**3\n",
    "    return squared, cubed"
   ]
  },
  {
   "cell_type": "code",
   "execution_count": 87,
   "id": "3b1a23da-f5fb-4dc2-875d-8d3c571d85c0",
   "metadata": {},
   "outputs": [
    {
     "data": {
      "text/plain": [
       "(9, 27)"
      ]
     },
     "execution_count": 87,
     "metadata": {},
     "output_type": "execute_result"
    }
   ],
   "source": [
    "square_cube(3)"
   ]
  },
  {
   "cell_type": "code",
   "execution_count": null,
   "id": "fb68f709-a481-43a3-a481-0a0642f9c6a3",
   "metadata": {},
   "outputs": [],
   "source": [
    "# 73.555555"
   ]
  },
  {
   "cell_type": "code",
   "execution_count": 88,
   "id": "b50e7951-e38a-4dff-8394-2f9ce2fa0cfb",
   "metadata": {},
   "outputs": [],
   "source": [
    "def Whole_and_FractionSeperator(a):\n",
    "    whole = int(a)\n",
    "    fraction = a - int(a)\n",
    "    return whole, fraction"
   ]
  },
  {
   "cell_type": "code",
   "execution_count": 90,
   "id": "54b2826d-b967-423d-b75f-a74f1985b6a4",
   "metadata": {},
   "outputs": [
    {
     "data": {
      "text/plain": [
       "(45, 0.7700000000000031)"
      ]
     },
     "execution_count": 90,
     "metadata": {},
     "output_type": "execute_result"
    }
   ],
   "source": [
    "Whole_and_FractionSeperator(45.77)"
   ]
  },
  {
   "cell_type": "markdown",
   "id": "2c58da2f-7957-458e-a618-cf654292f8e0",
   "metadata": {},
   "source": [
    "#### Unpacking Multiple Returned Values"
   ]
  },
  {
   "cell_type": "code",
   "execution_count": 91,
   "id": "72161585-c509-4073-b229-5b27537eee09",
   "metadata": {},
   "outputs": [],
   "source": [
    "x, y = Whole_and_FractionSeperator(45.77)"
   ]
  },
  {
   "cell_type": "code",
   "execution_count": 92,
   "id": "a8c2624e-3456-4906-af15-69f12f0ae217",
   "metadata": {},
   "outputs": [
    {
     "data": {
      "text/plain": [
       "45"
      ]
     },
     "execution_count": 92,
     "metadata": {},
     "output_type": "execute_result"
    }
   ],
   "source": [
    "x"
   ]
  },
  {
   "cell_type": "code",
   "execution_count": 93,
   "id": "ca6141ab-e717-4978-960f-8ae202c429ef",
   "metadata": {},
   "outputs": [
    {
     "data": {
      "text/plain": [
       "0.7700000000000031"
      ]
     },
     "execution_count": 93,
     "metadata": {},
     "output_type": "execute_result"
    }
   ],
   "source": [
    "y"
   ]
  },
  {
   "cell_type": "markdown",
   "id": "741409a5-7426-4292-ba4e-ed8d7d83e7de",
   "metadata": {},
   "source": [
    "#### Types of Arguments in Python Functions"
   ]
  },
  {
   "cell_type": "markdown",
   "id": "6a1f8032-d8b0-4eb7-98ed-69a0d24a33c4",
   "metadata": {},
   "source": [
    "##### Positional Arguments"
   ]
  },
  {
   "cell_type": "markdown",
   "id": "8d874a11-19ad-4cf4-82d6-c6a438d20f68",
   "metadata": {},
   "source": [
    "Positional Arguments rely on the order in which they are passed. The values are assigned to the parameters in the order they appear. If you pass arguments in a different order, the result may change, so it’s essential to ensure that the positions of the arguments match the positions of the parameters."
   ]
  },
  {
   "cell_type": "code",
   "execution_count": 94,
   "id": "4598090d-6da8-401f-aba3-e1a75810af81",
   "metadata": {},
   "outputs": [],
   "source": [
    "def hello(first_name, last_name):\n",
    "    print(f\"Hello {first_name} {last_name}\")"
   ]
  },
  {
   "cell_type": "code",
   "execution_count": 95,
   "id": "edc03a2f-0ae0-45b5-8233-f4b133382201",
   "metadata": {},
   "outputs": [
    {
     "name": "stdout",
     "output_type": "stream",
     "text": [
      "Hello Guido Von\n"
     ]
    }
   ],
   "source": [
    "hello('Guido','Von')"
   ]
  },
  {
   "cell_type": "code",
   "execution_count": 96,
   "id": "31d260ca-0e3f-4611-a1d4-15e21c7f0f2c",
   "metadata": {},
   "outputs": [
    {
     "name": "stdout",
     "output_type": "stream",
     "text": [
      "Hello Von Guido\n"
     ]
    }
   ],
   "source": [
    "hello('Von','Guido')"
   ]
  },
  {
   "cell_type": "code",
   "execution_count": 97,
   "id": "dab2784a-7cda-4637-af6e-6430ae03a477",
   "metadata": {},
   "outputs": [
    {
     "name": "stdout",
     "output_type": "stream",
     "text": [
      "Hello Vinay Manohar\n"
     ]
    }
   ],
   "source": [
    "hello('Vinay','Manohar')"
   ]
  },
  {
   "cell_type": "code",
   "execution_count": 98,
   "id": "6fe1fa24-dd47-445e-8e5d-81ea1bafa8e7",
   "metadata": {},
   "outputs": [
    {
     "name": "stdout",
     "output_type": "stream",
     "text": [
      "Hello Manohar Vinay\n"
     ]
    }
   ],
   "source": [
    "hello('Manohar','Vinay')"
   ]
  },
  {
   "cell_type": "code",
   "execution_count": 101,
   "id": "0d5153fd-1c6a-4b70-b663-4e37f897bcaa",
   "metadata": {},
   "outputs": [],
   "source": [
    "def dms2dd(degree, minute, seconds):\n",
    "    dd = (degree + minute/60 + seconds/3600)\n",
    "    return dd"
   ]
  },
  {
   "cell_type": "code",
   "execution_count": 102,
   "id": "04dd86d2-6d02-40f1-95bb-addf4582e3c0",
   "metadata": {},
   "outputs": [
    {
     "data": {
      "text/plain": [
       "54.20888888888889"
      ]
     },
     "execution_count": 102,
     "metadata": {},
     "output_type": "execute_result"
    }
   ],
   "source": [
    "dms2dd(54,12,32)"
   ]
  },
  {
   "cell_type": "markdown",
   "id": "c60211b4-5ad9-48ed-8a41-aa2172c9e1d1",
   "metadata": {},
   "source": [
    "#### Keyword Arguments"
   ]
  },
  {
   "cell_type": "markdown",
   "id": "99b05a62-d2cb-4a7e-b93c-3cefe67c2dfb",
   "metadata": {},
   "source": [
    "On the other hand, `keyword arguments` allow you to pass values based on the name of the parameter, rather than its position. This makes your function calls more flexible and easier to read, especially when there are many parameters."
   ]
  },
  {
   "cell_type": "code",
   "execution_count": 103,
   "id": "c155b522-0c98-4a0b-a193-8b14beacecf1",
   "metadata": {},
   "outputs": [],
   "source": [
    "def hello(first_name, last_name):\n",
    "    print(f\"Hello {first_name} {last_name}\")"
   ]
  },
  {
   "cell_type": "code",
   "execution_count": 104,
   "id": "8086aea8-3ed7-4e38-83db-0cb26babd565",
   "metadata": {},
   "outputs": [
    {
     "name": "stdout",
     "output_type": "stream",
     "text": [
      "Hello Vinay Manohar\n"
     ]
    }
   ],
   "source": [
    "# If you follow positional arguments\n",
    "\n",
    "# calling\n",
    "hello(\"Vinay\", \"Manohar\")"
   ]
  },
  {
   "cell_type": "code",
   "execution_count": 106,
   "id": "4ea55f40-bf05-495c-91d3-5e6efacda25f",
   "metadata": {},
   "outputs": [
    {
     "name": "stdout",
     "output_type": "stream",
     "text": [
      "Hello Vinay Manohar\n"
     ]
    }
   ],
   "source": [
    "# If you follow keyword arguments\n",
    "# calling\n",
    "hello(last_name = \"Manohar\", first_name = \"Vinay\")"
   ]
  },
  {
   "cell_type": "code",
   "execution_count": 107,
   "id": "1ea022bc-a312-433c-8052-7db73191917b",
   "metadata": {},
   "outputs": [],
   "source": [
    "def dms2dd(degree, minute, seconds):\n",
    "    dd = (degree + minute/60 + seconds/3600)\n",
    "    return dd"
   ]
  },
  {
   "cell_type": "code",
   "execution_count": 108,
   "id": "218aa6ae-50af-4a35-931e-d874be6396a3",
   "metadata": {},
   "outputs": [
    {
     "data": {
      "text/plain": [
       "12.548333333333334"
      ]
     },
     "execution_count": 108,
     "metadata": {},
     "output_type": "execute_result"
    }
   ],
   "source": [
    "# If you follow positional arguments\n",
    "# Assume your coordinate is 12 deg, 32 min, 54 sec\n",
    "# calling\n",
    "dms2dd(12,32,54)"
   ]
  },
  {
   "cell_type": "code",
   "execution_count": 109,
   "id": "b81a4474-9688-4f84-a559-67bf96947c37",
   "metadata": {},
   "outputs": [
    {
     "data": {
      "text/plain": [
       "12.548333333333334"
      ]
     },
     "execution_count": 109,
     "metadata": {},
     "output_type": "execute_result"
    }
   ],
   "source": [
    "# If you follow Keyword arguments\n",
    "# Assume your coordinate is 12 deg, 32 min, 54 sec\n",
    "\n",
    "# calling\n",
    "dms2dd(seconds = 54, minute=32, degree = 12)"
   ]
  },
  {
   "cell_type": "markdown",
   "id": "e7a40d8b-e3bd-4a57-8cba-74c3bbf58df9",
   "metadata": {},
   "source": [
    "#### Default Arguments\n",
    "\n",
    "Default arguments allow you to define a function with default values for some parameters. This means that if no value is provided for a specific argument when the function is called, the default value will be used."
   ]
  },
  {
   "cell_type": "code",
   "execution_count": 113,
   "id": "81b23f0b-772c-4ef7-9d01-f0e0963bfdaf",
   "metadata": {},
   "outputs": [],
   "source": [
    "def greet(name = \"Guido\", message=\"Welcome!\"):\n",
    "    print(f\"Hello {name}, {message}\")"
   ]
  },
  {
   "cell_type": "code",
   "execution_count": 114,
   "id": "2d99bf6e-5e3a-4e47-9aa5-4c8f2dc47adf",
   "metadata": {},
   "outputs": [
    {
     "name": "stdout",
     "output_type": "stream",
     "text": [
      "Hello Guido, Welcome!\n"
     ]
    }
   ],
   "source": [
    "greet()"
   ]
  },
  {
   "cell_type": "code",
   "execution_count": 115,
   "id": "8cf804f4-0d95-4324-ac00-d5e61303037d",
   "metadata": {},
   "outputs": [
    {
     "name": "stdout",
     "output_type": "stream",
     "text": [
      "Hello Vinay, Welcome!\n"
     ]
    }
   ],
   "source": [
    "greet(\"Vinay\")"
   ]
  },
  {
   "cell_type": "code",
   "execution_count": 116,
   "id": "5cdbfe39-3070-4277-88a1-a0a28ec68ad6",
   "metadata": {},
   "outputs": [
    {
     "name": "stdout",
     "output_type": "stream",
     "text": [
      "Hello Vinay, How are you\n"
     ]
    }
   ],
   "source": [
    "greet(\"Vinay\", \"How are you\")"
   ]
  },
  {
   "cell_type": "code",
   "execution_count": 117,
   "id": "64ff4e5d-888a-48c6-8c30-2d0e63e95982",
   "metadata": {},
   "outputs": [
    {
     "name": "stdout",
     "output_type": "stream",
     "text": [
      "Hello Jack, Alas!\n"
     ]
    }
   ],
   "source": [
    "greet(message=\"Alas!\", name = \"Jack\")"
   ]
  }
 ],
 "metadata": {
  "kernelspec": {
   "display_name": "Python 3 (ipykernel)",
   "language": "python",
   "name": "python3"
  },
  "language_info": {
   "codemirror_mode": {
    "name": "ipython",
    "version": 3
   },
   "file_extension": ".py",
   "mimetype": "text/x-python",
   "name": "python",
   "nbconvert_exporter": "python",
   "pygments_lexer": "ipython3",
   "version": "3.12.4"
  }
 },
 "nbformat": 4,
 "nbformat_minor": 5
}
