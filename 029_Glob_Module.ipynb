{
 "cells": [
  {
   "cell_type": "markdown",
   "id": "0ee6a146",
   "metadata": {},
   "source": [
    "#### Globbing\n",
    "\n",
    "Globbing is a programming concept that uses wildcard characters to match file and directory names\n",
    "\n",
    "In Python, the term glob refers to \"global\" pattern matching.\n",
    "\n",
    "It originates from UNIX-like systems, where \"globbing\" is the process of using wildcard patterns to match filenames or paths."
   ]
  },
  {
   "cell_type": "markdown",
   "id": "b19b18fe",
   "metadata": {},
   "source": [
    "#### Importing GLOB"
   ]
  },
  {
   "cell_type": "code",
   "execution_count": 23,
   "id": "557e03ce",
   "metadata": {},
   "outputs": [],
   "source": [
    "import os\n",
    "\n",
    "from glob import glob"
   ]
  },
  {
   "cell_type": "markdown",
   "id": "67b81bb6",
   "metadata": {},
   "source": [
    "#### Basic Pattern Matching"
   ]
  },
  {
   "cell_type": "code",
   "execution_count": 25,
   "id": "7377c386",
   "metadata": {},
   "outputs": [],
   "source": [
    "# by default glob work within the CWD\n",
    "# switch according to data file you have (E:\\Vinay\\Research_Work\\Climate_Data\\)\n",
    "# os.chdir(r'E:\\Vinay\\Research_Work\\Climate_Data\\')\n",
    "# os.getcwd() --> E:\\\\Vinay\\\\Research_Work\\\\Climate_Data\\\\"
   ]
  },
  {
   "cell_type": "markdown",
   "id": "24c724e6",
   "metadata": {},
   "source": [
    "#### List all files and folders in Current Directory"
   ]
  },
  {
   "cell_type": "code",
   "execution_count": 26,
   "id": "c98dd228",
   "metadata": {},
   "outputs": [
    {
     "data": {
      "text/plain": [
       "['000_Getting_Started_with_Jupyter_Notebook.ipynb',\n",
       " '001_Getting_Started_with_JupyterLab.ipynb',\n",
       " '002_Learning Keyboard Shortcuts.ipynb',\n",
       " '003_Getting_Started_with_Python.ipynb',\n",
       " '004_Importing_IO_Others.ipynb',\n",
       " '005_PrintFunction_and_Operators.ipynb',\n",
       " '006_String_and_its_functions.ipynb',\n",
       " '007_String_methods.ipynb',\n",
       " '008_Assignment_Solving.ipynb',\n",
       " '009_DataStructures.ipynb',\n",
       " '010_Conditional_Statements.ipynb',\n",
       " '010_Loops.ipynb',\n",
       " '011_List Comprehension.ipynb',\n",
       " '012_Tuples.ipynb',\n",
       " '013_Sets.ipynb',\n",
       " '014_Dictionaries-part1.ipynb',\n",
       " '015_Dictionaries-part2.ipynb',\n",
       " '016_Exception_Handling.ipynb',\n",
       " '017_Functions_Part1.ipynb',\n",
       " '017_Functions_Part2.ipynb',\n",
       " '018_Functions_Part3.ipynb',\n",
       " '019_Lambda_Functions.ipynb',\n",
       " '020_Modular_Programming.ipynb',\n",
       " '021_Basics_of_OOPS.ipynb',\n",
       " '022_OOPS_Dunder-STR.ipynb',\n",
       " '023_OOPS_Encapsulation.ipynb',\n",
       " '024_OOPS_Inheritance - Super Function.ipynb',\n",
       " '024_OOPS_Inheritance.ipynb',\n",
       " '025_OOPS_Abstraction.ipynb',\n",
       " '026_OOPS_Polymorphism.ipynb',\n",
       " '027_OOPS_Projects.ipynb',\n",
       " '028_OS_Module.ipynb',\n",
       " '029_Glob_Module.ipynb',\n",
       " '030_Text_File_Handling.ipynb',\n",
       " 'Assignments-part1.ipynb',\n",
       " 'Assignments-part2.ipynb',\n",
       " 'Assignments_Questions.txt',\n",
       " 'calculator',\n",
       " 'conversion',\n",
       " 'Level3',\n",
       " 'modular.png',\n",
       " 'Multi_Threading.ipynb',\n",
       " 'mycalculator1.py',\n",
       " 'numpy',\n",
       " 'os_module_samples',\n",
       " 'os_module_samples.rar',\n",
       " 'scrapudemy.ipynb',\n",
       " 'unitconverter.py',\n",
       " '__pycache__']"
      ]
     },
     "execution_count": 26,
     "metadata": {},
     "output_type": "execute_result"
    }
   ],
   "source": [
    "# asterix is the wildcard character to extract patterns\n",
    "glob(\"*\")"
   ]
  },
  {
   "cell_type": "markdown",
   "id": "98096ca5",
   "metadata": {},
   "source": [
    "#### List All .txt Files in the Current Directory"
   ]
  },
  {
   "cell_type": "code",
   "execution_count": 27,
   "id": "fff0ce81",
   "metadata": {},
   "outputs": [
    {
     "data": {
      "text/plain": [
       "['Assignments_Questions.txt']"
      ]
     },
     "execution_count": 27,
     "metadata": {},
     "output_type": "execute_result"
    }
   ],
   "source": [
    "glob(\"*.txt\")"
   ]
  },
  {
   "cell_type": "markdown",
   "id": "cf6ee9c5",
   "metadata": {},
   "source": [
    "#### List All .ipynb Files in the Current Directory"
   ]
  },
  {
   "cell_type": "code",
   "execution_count": 28,
   "id": "9fd0159a",
   "metadata": {},
   "outputs": [
    {
     "data": {
      "text/plain": [
       "['000_Getting_Started_with_Jupyter_Notebook.ipynb',\n",
       " '001_Getting_Started_with_JupyterLab.ipynb',\n",
       " '002_Learning Keyboard Shortcuts.ipynb',\n",
       " '003_Getting_Started_with_Python.ipynb',\n",
       " '004_Importing_IO_Others.ipynb',\n",
       " '005_PrintFunction_and_Operators.ipynb',\n",
       " '006_String_and_its_functions.ipynb',\n",
       " '007_String_methods.ipynb',\n",
       " '008_Assignment_Solving.ipynb',\n",
       " '009_DataStructures.ipynb',\n",
       " '010_Conditional_Statements.ipynb',\n",
       " '010_Loops.ipynb',\n",
       " '011_List Comprehension.ipynb',\n",
       " '012_Tuples.ipynb',\n",
       " '013_Sets.ipynb',\n",
       " '014_Dictionaries-part1.ipynb',\n",
       " '015_Dictionaries-part2.ipynb',\n",
       " '016_Exception_Handling.ipynb',\n",
       " '017_Functions_Part1.ipynb',\n",
       " '017_Functions_Part2.ipynb',\n",
       " '018_Functions_Part3.ipynb',\n",
       " '019_Lambda_Functions.ipynb',\n",
       " '020_Modular_Programming.ipynb',\n",
       " '021_Basics_of_OOPS.ipynb',\n",
       " '022_OOPS_Dunder-STR.ipynb',\n",
       " '023_OOPS_Encapsulation.ipynb',\n",
       " '024_OOPS_Inheritance - Super Function.ipynb',\n",
       " '024_OOPS_Inheritance.ipynb',\n",
       " '025_OOPS_Abstraction.ipynb',\n",
       " '026_OOPS_Polymorphism.ipynb',\n",
       " '027_OOPS_Projects.ipynb',\n",
       " '028_OS_Module.ipynb',\n",
       " '029_Glob_Module.ipynb',\n",
       " '030_Text_File_Handling.ipynb',\n",
       " 'Assignments-part1.ipynb',\n",
       " 'Assignments-part2.ipynb',\n",
       " 'Multi_Threading.ipynb',\n",
       " 'scrapudemy.ipynb']"
      ]
     },
     "execution_count": 28,
     "metadata": {},
     "output_type": "execute_result"
    }
   ],
   "source": [
    "glob('*.ipynb')"
   ]
  },
  {
   "cell_type": "code",
   "execution_count": 29,
   "id": "d36fac75",
   "metadata": {},
   "outputs": [
    {
     "data": {
      "text/plain": [
       "['modular.png']"
      ]
     },
     "execution_count": 29,
     "metadata": {},
     "output_type": "execute_result"
    }
   ],
   "source": [
    "glob(\"*.png\")"
   ]
  },
  {
   "cell_type": "code",
   "execution_count": 31,
   "id": "7830db96",
   "metadata": {},
   "outputs": [
    {
     "data": {
      "text/plain": [
       "['mycalculator1.py', 'unitconverter.py']"
      ]
     },
     "execution_count": 31,
     "metadata": {},
     "output_type": "execute_result"
    }
   ],
   "source": [
    "glob('*.py')"
   ]
  },
  {
   "cell_type": "code",
   "execution_count": 33,
   "id": "264507d0",
   "metadata": {},
   "outputs": [
    {
     "data": {
      "text/plain": [
       "'c:\\\\Users\\\\vinay\\\\Documents\\\\GeoPython-LabExercises'"
      ]
     },
     "execution_count": 33,
     "metadata": {},
     "output_type": "execute_result"
    }
   ],
   "source": [
    "os.getcwd()"
   ]
  },
  {
   "cell_type": "code",
   "execution_count": 34,
   "id": "73f1574d",
   "metadata": {},
   "outputs": [
    {
     "data": {
      "text/plain": [
       "['os_module_samples\\\\011.txt',\n",
       " 'os_module_samples\\\\1hte4.txt',\n",
       " 'os_module_samples\\\\2.txt',\n",
       " 'os_module_samples\\\\34.txt',\n",
       " 'os_module_samples\\\\340.txt',\n",
       " 'os_module_samples\\\\349.txt',\n",
       " 'os_module_samples\\\\38.txt',\n",
       " 'os_module_samples\\\\3a.txt',\n",
       " 'os_module_samples\\\\a6y.txt',\n",
       " 'os_module_samples\\\\aaa.txt',\n",
       " 'os_module_samples\\\\abc.txt',\n",
       " 'os_module_samples\\\\data1.txt',\n",
       " 'os_module_samples\\\\data15.txt',\n",
       " 'os_module_samples\\\\data16.txt',\n",
       " 'os_module_samples\\\\data1a.txt',\n",
       " 'os_module_samples\\\\data1b.txt',\n",
       " 'os_module_samples\\\\data1c.txt',\n",
       " 'os_module_samples\\\\data2.txt',\n",
       " 'os_module_samples\\\\data2b.txt',\n",
       " 'os_module_samples\\\\data3.txt',\n",
       " 'os_module_samples\\\\data3c.txt',\n",
       " 'os_module_samples\\\\data4.txt',\n",
       " 'os_module_samples\\\\data5.txt',\n",
       " 'os_module_samples\\\\data52.txt',\n",
       " 'os_module_samples\\\\data_AA.txt',\n",
       " 'os_module_samples\\\\data_AB.txt']"
      ]
     },
     "execution_count": 34,
     "metadata": {},
     "output_type": "execute_result"
    }
   ],
   "source": [
    "# Accessing Sub-Directory data within Current Working Directory\n",
    "# os_module_samples is the folder within CWD - 'c:\\\\Users\\\\vinay\\\\Documents\\\\GeoPython-LabExercises'\n",
    "\n",
    "glob('os_module_samples/*')"
   ]
  },
  {
   "cell_type": "markdown",
   "id": "38921d22",
   "metadata": {},
   "source": [
    "#### Wildcard Matching with Asterix `*`"
   ]
  },
  {
   "cell_type": "markdown",
   "id": "a9d9268f",
   "metadata": {},
   "source": [
    "#### Lists all files that start with \"Ass\""
   ]
  },
  {
   "cell_type": "code",
   "execution_count": 35,
   "id": "b43a7521",
   "metadata": {},
   "outputs": [
    {
     "data": {
      "text/plain": [
       "['000_Getting_Started_with_Jupyter_Notebook.ipynb',\n",
       " '001_Getting_Started_with_JupyterLab.ipynb',\n",
       " '002_Learning Keyboard Shortcuts.ipynb',\n",
       " '003_Getting_Started_with_Python.ipynb',\n",
       " '004_Importing_IO_Others.ipynb',\n",
       " '005_PrintFunction_and_Operators.ipynb',\n",
       " '006_String_and_its_functions.ipynb',\n",
       " '007_String_methods.ipynb',\n",
       " '008_Assignment_Solving.ipynb',\n",
       " '009_DataStructures.ipynb',\n",
       " '010_Conditional_Statements.ipynb',\n",
       " '010_Loops.ipynb',\n",
       " '011_List Comprehension.ipynb',\n",
       " '012_Tuples.ipynb',\n",
       " '013_Sets.ipynb',\n",
       " '014_Dictionaries-part1.ipynb',\n",
       " '015_Dictionaries-part2.ipynb',\n",
       " '016_Exception_Handling.ipynb',\n",
       " '017_Functions_Part1.ipynb',\n",
       " '017_Functions_Part2.ipynb',\n",
       " '018_Functions_Part3.ipynb',\n",
       " '019_Lambda_Functions.ipynb',\n",
       " '020_Modular_Programming.ipynb',\n",
       " '021_Basics_of_OOPS.ipynb',\n",
       " '022_OOPS_Dunder-STR.ipynb',\n",
       " '023_OOPS_Encapsulation.ipynb',\n",
       " '024_OOPS_Inheritance - Super Function.ipynb',\n",
       " '024_OOPS_Inheritance.ipynb',\n",
       " '025_OOPS_Abstraction.ipynb',\n",
       " '026_OOPS_Polymorphism.ipynb',\n",
       " '027_OOPS_Projects.ipynb',\n",
       " '028_OS_Module.ipynb',\n",
       " '029_Glob_Module.ipynb',\n",
       " '030_Text_File_Handling.ipynb',\n",
       " 'Assignments-part1.ipynb',\n",
       " 'Assignments-part2.ipynb',\n",
       " 'Assignments_Questions.txt',\n",
       " 'calculator',\n",
       " 'conversion',\n",
       " 'Level3',\n",
       " 'modular.png',\n",
       " 'Multi_Threading.ipynb',\n",
       " 'mycalculator1.py',\n",
       " 'numpy',\n",
       " 'os_module_samples',\n",
       " 'os_module_samples.rar',\n",
       " 'scrapudemy.ipynb',\n",
       " 'unitconverter.py',\n",
       " '__pycache__']"
      ]
     },
     "execution_count": 35,
     "metadata": {},
     "output_type": "execute_result"
    }
   ],
   "source": [
    "glob('*')"
   ]
  },
  {
   "cell_type": "code",
   "execution_count": 36,
   "id": "d855ba21",
   "metadata": {},
   "outputs": [
    {
     "data": {
      "text/plain": [
       "['Assignments-part1.ipynb',\n",
       " 'Assignments-part2.ipynb',\n",
       " 'Assignments_Questions.txt']"
      ]
     },
     "execution_count": 36,
     "metadata": {},
     "output_type": "execute_result"
    }
   ],
   "source": [
    "glob(\"Assignments*\")"
   ]
  },
  {
   "cell_type": "code",
   "execution_count": 37,
   "id": "f145128e",
   "metadata": {},
   "outputs": [
    {
     "data": {
      "text/plain": [
       "['Assignments-part1.ipynb', 'Assignments-part2.ipynb']"
      ]
     },
     "execution_count": 37,
     "metadata": {},
     "output_type": "execute_result"
    }
   ],
   "source": [
    "glob(\"Assignments-*\")"
   ]
  },
  {
   "cell_type": "code",
   "execution_count": 39,
   "id": "7f94c025",
   "metadata": {},
   "outputs": [
    {
     "data": {
      "text/plain": [
       "['000_Getting_Started_with_Jupyter_Notebook.ipynb',\n",
       " '001_Getting_Started_with_JupyterLab.ipynb',\n",
       " '002_Learning Keyboard Shortcuts.ipynb',\n",
       " '003_Getting_Started_with_Python.ipynb',\n",
       " '004_Importing_IO_Others.ipynb',\n",
       " '005_PrintFunction_and_Operators.ipynb',\n",
       " '006_String_and_its_functions.ipynb',\n",
       " '007_String_methods.ipynb',\n",
       " '008_Assignment_Solving.ipynb',\n",
       " '009_DataStructures.ipynb']"
      ]
     },
     "execution_count": 39,
     "metadata": {},
     "output_type": "execute_result"
    }
   ],
   "source": [
    "glob(\"00*\")"
   ]
  },
  {
   "cell_type": "code",
   "execution_count": 40,
   "id": "155f6e92",
   "metadata": {},
   "outputs": [
    {
     "data": {
      "text/plain": [
       "['calculator', 'conversion']"
      ]
     },
     "execution_count": 40,
     "metadata": {},
     "output_type": "execute_result"
    }
   ],
   "source": [
    "glob(\"c*\")"
   ]
  },
  {
   "cell_type": "markdown",
   "id": "199d3e40",
   "metadata": {},
   "source": [
    "#### Lists all files that start with \"Ass\" and end with \".ipynb\""
   ]
  },
  {
   "cell_type": "code",
   "execution_count": 38,
   "id": "bdbafacb",
   "metadata": {},
   "outputs": [
    {
     "data": {
      "text/plain": [
       "['Assignments-part1.ipynb', 'Assignments-part2.ipynb']"
      ]
     },
     "execution_count": 38,
     "metadata": {},
     "output_type": "execute_result"
    }
   ],
   "source": [
    "glob(\"Ass*.ipynb\")"
   ]
  },
  {
   "cell_type": "markdown",
   "id": "a7a202b5",
   "metadata": {},
   "source": [
    "#### List all files which contains partial letters"
   ]
  },
  {
   "cell_type": "code",
   "execution_count": 41,
   "id": "ab949aa6",
   "metadata": {},
   "outputs": [
    {
     "data": {
      "text/plain": [
       "['010_Loops.ipynb',\n",
       " '021_Basics_of_OOPS.ipynb',\n",
       " '022_OOPS_Dunder-STR.ipynb',\n",
       " '023_OOPS_Encapsulation.ipynb',\n",
       " '024_OOPS_Inheritance - Super Function.ipynb',\n",
       " '024_OOPS_Inheritance.ipynb',\n",
       " '025_OOPS_Abstraction.ipynb',\n",
       " '026_OOPS_Polymorphism.ipynb',\n",
       " '027_OOPS_Projects.ipynb']"
      ]
     },
     "execution_count": 41,
     "metadata": {},
     "output_type": "execute_result"
    }
   ],
   "source": [
    "glob(\"*OOPS*\")"
   ]
  },
  {
   "cell_type": "code",
   "execution_count": 42,
   "id": "a91557db",
   "metadata": {},
   "outputs": [
    {
     "data": {
      "text/plain": [
       "['014_Dictionaries-part1.ipynb',\n",
       " '015_Dictionaries-part2.ipynb',\n",
       " '017_Functions_Part1.ipynb',\n",
       " '017_Functions_Part2.ipynb',\n",
       " '018_Functions_Part3.ipynb',\n",
       " 'Assignments-part1.ipynb',\n",
       " 'Assignments-part2.ipynb']"
      ]
     },
     "execution_count": 42,
     "metadata": {},
     "output_type": "execute_result"
    }
   ],
   "source": [
    "glob(\"*part*\")"
   ]
  },
  {
   "cell_type": "code",
   "execution_count": 43,
   "id": "3c3b0e6c",
   "metadata": {},
   "outputs": [
    {
     "data": {
      "text/plain": [
       "['000_Getting_Started_with_Jupyter_Notebook.ipynb',\n",
       " '001_Getting_Started_with_JupyterLab.ipynb',\n",
       " '003_Getting_Started_with_Python.ipynb']"
      ]
     },
     "execution_count": 43,
     "metadata": {},
     "output_type": "execute_result"
    }
   ],
   "source": [
    "glob(\"*with*\")"
   ]
  },
  {
   "cell_type": "markdown",
   "id": "2c755698",
   "metadata": {},
   "source": [
    "#### Wildcard Matching with Question Mark `?`"
   ]
  },
  {
   "cell_type": "markdown",
   "id": "22b7eee1",
   "metadata": {},
   "source": [
    "#### Lists files with names like \"data1.txt\", \"data2.txt\" up to \"data9.txt\""
   ]
  },
  {
   "cell_type": "code",
   "execution_count": 44,
   "id": "e04abc84",
   "metadata": {},
   "outputs": [
    {
     "data": {
      "text/plain": [
       "['os_module_samples\\\\011.txt',\n",
       " 'os_module_samples\\\\1hte4.txt',\n",
       " 'os_module_samples\\\\2.txt',\n",
       " 'os_module_samples\\\\34.txt',\n",
       " 'os_module_samples\\\\340.txt',\n",
       " 'os_module_samples\\\\349.txt',\n",
       " 'os_module_samples\\\\38.txt',\n",
       " 'os_module_samples\\\\3a.txt',\n",
       " 'os_module_samples\\\\a6y.txt',\n",
       " 'os_module_samples\\\\aaa.txt',\n",
       " 'os_module_samples\\\\abc.txt',\n",
       " 'os_module_samples\\\\data1.txt',\n",
       " 'os_module_samples\\\\data15.txt',\n",
       " 'os_module_samples\\\\data16.txt',\n",
       " 'os_module_samples\\\\data1a.txt',\n",
       " 'os_module_samples\\\\data1b.txt',\n",
       " 'os_module_samples\\\\data1c.txt',\n",
       " 'os_module_samples\\\\data2.txt',\n",
       " 'os_module_samples\\\\data2b.txt',\n",
       " 'os_module_samples\\\\data3.txt',\n",
       " 'os_module_samples\\\\data3c.txt',\n",
       " 'os_module_samples\\\\data4.txt',\n",
       " 'os_module_samples\\\\data5.txt',\n",
       " 'os_module_samples\\\\data52.txt',\n",
       " 'os_module_samples\\\\data_AA.txt',\n",
       " 'os_module_samples\\\\data_AB.txt']"
      ]
     },
     "execution_count": 44,
     "metadata": {},
     "output_type": "execute_result"
    }
   ],
   "source": [
    "glob('os_module_samples/*')"
   ]
  },
  {
   "cell_type": "code",
   "execution_count": 45,
   "id": "43b608d0",
   "metadata": {},
   "outputs": [
    {
     "data": {
      "text/plain": [
       "['os_module_samples\\\\data1.txt',\n",
       " 'os_module_samples\\\\data2.txt',\n",
       " 'os_module_samples\\\\data3.txt',\n",
       " 'os_module_samples\\\\data4.txt',\n",
       " 'os_module_samples\\\\data5.txt']"
      ]
     },
     "execution_count": 45,
     "metadata": {},
     "output_type": "execute_result"
    }
   ],
   "source": [
    "glob(\"os_module_samples/data?.txt\")"
   ]
  },
  {
   "cell_type": "code",
   "execution_count": 46,
   "id": "fa8727f7",
   "metadata": {},
   "outputs": [
    {
     "data": {
      "text/plain": [
       "['os_module_samples\\\\data15.txt',\n",
       " 'os_module_samples\\\\data16.txt',\n",
       " 'os_module_samples\\\\data1a.txt',\n",
       " 'os_module_samples\\\\data1b.txt',\n",
       " 'os_module_samples\\\\data1c.txt',\n",
       " 'os_module_samples\\\\data2b.txt',\n",
       " 'os_module_samples\\\\data3c.txt',\n",
       " 'os_module_samples\\\\data52.txt']"
      ]
     },
     "execution_count": 46,
     "metadata": {},
     "output_type": "execute_result"
    }
   ],
   "source": [
    "glob(\"os_module_samples/data??.txt\")"
   ]
  },
  {
   "cell_type": "code",
   "execution_count": 47,
   "id": "38e7e041",
   "metadata": {},
   "outputs": [
    {
     "data": {
      "text/plain": [
       "['os_module_samples\\\\data_AA.txt', 'os_module_samples\\\\data_AB.txt']"
      ]
     },
     "execution_count": 47,
     "metadata": {},
     "output_type": "execute_result"
    }
   ],
   "source": [
    "glob(\"os_module_samples/data???.txt\")"
   ]
  },
  {
   "cell_type": "markdown",
   "id": "410ad1d7",
   "metadata": {},
   "source": [
    "#### Wildcard Matching with Question Mark `[]`"
   ]
  },
  {
   "cell_type": "code",
   "execution_count": 48,
   "id": "eb371d4e",
   "metadata": {},
   "outputs": [
    {
     "data": {
      "text/plain": [
       "['os_module_samples\\\\011.txt',\n",
       " 'os_module_samples\\\\1hte4.txt',\n",
       " 'os_module_samples\\\\2.txt',\n",
       " 'os_module_samples\\\\34.txt',\n",
       " 'os_module_samples\\\\340.txt',\n",
       " 'os_module_samples\\\\349.txt',\n",
       " 'os_module_samples\\\\38.txt',\n",
       " 'os_module_samples\\\\3a.txt',\n",
       " 'os_module_samples\\\\a6y.txt',\n",
       " 'os_module_samples\\\\aaa.txt',\n",
       " 'os_module_samples\\\\abc.txt',\n",
       " 'os_module_samples\\\\data1.txt',\n",
       " 'os_module_samples\\\\data15.txt',\n",
       " 'os_module_samples\\\\data16.txt',\n",
       " 'os_module_samples\\\\data1a.txt',\n",
       " 'os_module_samples\\\\data1b.txt',\n",
       " 'os_module_samples\\\\data1c.txt',\n",
       " 'os_module_samples\\\\data2.txt',\n",
       " 'os_module_samples\\\\data2b.txt',\n",
       " 'os_module_samples\\\\data3.txt',\n",
       " 'os_module_samples\\\\data3c.txt',\n",
       " 'os_module_samples\\\\data4.txt',\n",
       " 'os_module_samples\\\\data5.txt',\n",
       " 'os_module_samples\\\\data52.txt',\n",
       " 'os_module_samples\\\\data_AA.txt',\n",
       " 'os_module_samples\\\\data_AB.txt']"
      ]
     },
     "execution_count": 48,
     "metadata": {},
     "output_type": "execute_result"
    }
   ],
   "source": [
    "glob('os_module_samples/*')"
   ]
  },
  {
   "cell_type": "code",
   "execution_count": 58,
   "id": "7313dbab",
   "metadata": {},
   "outputs": [
    {
     "data": {
      "text/plain": [
       "['os_module_samples\\\\data1.txt',\n",
       " 'os_module_samples\\\\data2.txt',\n",
       " 'os_module_samples\\\\data5.txt']"
      ]
     },
     "execution_count": 58,
     "metadata": {},
     "output_type": "execute_result"
    }
   ],
   "source": [
    "glob(\"os_module_samples/data[125].txt\")"
   ]
  },
  {
   "cell_type": "code",
   "execution_count": 62,
   "id": "2c6feb8d",
   "metadata": {},
   "outputs": [
    {
     "data": {
      "text/plain": [
       "['os_module_samples\\\\data1.txt',\n",
       " 'os_module_samples\\\\data2.txt',\n",
       " 'os_module_samples\\\\data3.txt',\n",
       " 'os_module_samples\\\\data4.txt',\n",
       " 'os_module_samples\\\\data5.txt']"
      ]
     },
     "execution_count": 62,
     "metadata": {},
     "output_type": "execute_result"
    }
   ],
   "source": [
    "glob(\"os_module_samples/data[1-9].txt\")"
   ]
  },
  {
   "cell_type": "code",
   "execution_count": 65,
   "id": "60a89930",
   "metadata": {},
   "outputs": [
    {
     "data": {
      "text/plain": [
       "['os_module_samples\\\\data15.txt',\n",
       " 'os_module_samples\\\\data16.txt',\n",
       " 'os_module_samples\\\\data52.txt']"
      ]
     },
     "execution_count": 65,
     "metadata": {},
     "output_type": "execute_result"
    }
   ],
   "source": [
    "glob(\"os_module_samples/data[1-9][1-9].txt\")"
   ]
  },
  {
   "cell_type": "code",
   "execution_count": 66,
   "id": "500f39a3",
   "metadata": {},
   "outputs": [
    {
     "data": {
      "text/plain": [
       "['os_module_samples\\\\data1a.txt',\n",
       " 'os_module_samples\\\\data1b.txt',\n",
       " 'os_module_samples\\\\data1c.txt',\n",
       " 'os_module_samples\\\\data2b.txt',\n",
       " 'os_module_samples\\\\data3c.txt']"
      ]
     },
     "execution_count": 66,
     "metadata": {},
     "output_type": "execute_result"
    }
   ],
   "source": [
    "glob(\"os_module_samples/data[1-9][a-z].txt\")"
   ]
  },
  {
   "cell_type": "code",
   "execution_count": 67,
   "id": "3f458807",
   "metadata": {},
   "outputs": [
    {
     "data": {
      "text/plain": [
       "['os_module_samples\\\\data_AA.txt', 'os_module_samples\\\\data_AB.txt']"
      ]
     },
     "execution_count": 67,
     "metadata": {},
     "output_type": "execute_result"
    }
   ],
   "source": [
    "glob(\"os_module_samples/data_[A-Z][A-Z].txt\")"
   ]
  },
  {
   "cell_type": "code",
   "execution_count": 68,
   "id": "cbd70f94",
   "metadata": {},
   "outputs": [
    {
     "data": {
      "text/plain": [
       "['os_module_samples\\\\data_456.txt']"
      ]
     },
     "execution_count": 68,
     "metadata": {},
     "output_type": "execute_result"
    }
   ],
   "source": [
    "glob(\"os_module_samples/data_[1-9][1-9][1-9].txt\")"
   ]
  },
  {
   "cell_type": "code",
   "execution_count": 69,
   "id": "f09301df",
   "metadata": {},
   "outputs": [
    {
     "data": {
      "text/plain": [
       "['os_module_samples\\\\data_45a3.txt', 'os_module_samples\\\\data_65u4.txt']"
      ]
     },
     "execution_count": 69,
     "metadata": {},
     "output_type": "execute_result"
    }
   ],
   "source": [
    "glob(\"os_module_samples/data_[1-9][1-9][a-z][1-9].txt\")"
   ]
  },
  {
   "cell_type": "code",
   "execution_count": null,
   "id": "7febed4e",
   "metadata": {},
   "outputs": [],
   "source": [
    "#Example\n",
    "\n",
    "# Landsat satellite pack\n",
    "# Landsat8\n",
    "\n",
    "# Band1.tiff\n",
    "# Band2.tiff\n",
    "# Band3.tiff\n",
    "# Band4.tiff\n",
    "# Band5.tiff\n",
    "# Band6.tiff\n",
    "# Band7.tiff\n",
    "# Band8.tiff\n",
    "# Band9.tiff \n",
    "glob('foldername/Band[1-9].tiff')\n",
    "\n",
    "# Band10.tiff\n",
    "# Band11.tiff\n",
    "glob('foldername/Band[1-9][1-9].tiff')\n",
    "\n",
    "\n",
    "# Band1.txt\n",
    "# Band2.txt\n",
    "# L8.met"
   ]
  },
  {
   "cell_type": "code",
   "execution_count": null,
   "id": "45eed9e2",
   "metadata": {},
   "outputs": [],
   "source": [
    "# 5,4,3\n",
    "# glob('foldername/Band[345].tiff)\n",
    "\n",
    "\n",
    "# all\n",
    "# glob('foldername/Band[1-9][0-1].tiff)"
   ]
  },
  {
   "cell_type": "code",
   "execution_count": 74,
   "id": "2d548804",
   "metadata": {},
   "outputs": [
    {
     "data": {
      "text/plain": [
       "['os_module_samples\\\\data1a.txt',\n",
       " 'os_module_samples\\\\data1b.txt',\n",
       " 'os_module_samples\\\\data1c.txt',\n",
       " 'os_module_samples\\\\data2b.txt',\n",
       " 'os_module_samples\\\\data3c.txt']"
      ]
     },
     "execution_count": 74,
     "metadata": {},
     "output_type": "execute_result"
    }
   ],
   "source": [
    "query1 = glob(\"os_module_samples/data[1-9][a-z].txt\")\n",
    "query1"
   ]
  },
  {
   "cell_type": "code",
   "execution_count": 75,
   "id": "c2462e36",
   "metadata": {},
   "outputs": [
    {
     "data": {
      "text/plain": [
       "['os_module_samples\\\\data_45a3.txt', 'os_module_samples\\\\data_65u4.txt']"
      ]
     },
     "execution_count": 75,
     "metadata": {},
     "output_type": "execute_result"
    }
   ],
   "source": [
    "query2 = glob(\"os_module_samples/data_[1-9][1-9][a-z][1-9].txt\")\n",
    "query2"
   ]
  },
  {
   "cell_type": "code",
   "execution_count": 76,
   "id": "b0946757",
   "metadata": {},
   "outputs": [],
   "source": [
    "query1.extend(query2)"
   ]
  },
  {
   "cell_type": "code",
   "execution_count": 77,
   "id": "d0407f01",
   "metadata": {},
   "outputs": [
    {
     "data": {
      "text/plain": [
       "['os_module_samples\\\\data1a.txt',\n",
       " 'os_module_samples\\\\data1b.txt',\n",
       " 'os_module_samples\\\\data1c.txt',\n",
       " 'os_module_samples\\\\data2b.txt',\n",
       " 'os_module_samples\\\\data3c.txt',\n",
       " 'os_module_samples\\\\data_45a3.txt',\n",
       " 'os_module_samples\\\\data_65u4.txt']"
      ]
     },
     "execution_count": 77,
     "metadata": {},
     "output_type": "execute_result"
    }
   ],
   "source": [
    "query1"
   ]
  },
  {
   "cell_type": "code",
   "execution_count": 78,
   "id": "18f1f4bf",
   "metadata": {},
   "outputs": [
    {
     "data": {
      "text/plain": [
       "['os_module_samples\\\\data1a.txt',\n",
       " 'os_module_samples\\\\data1b.txt',\n",
       " 'os_module_samples\\\\data1c.txt',\n",
       " 'os_module_samples\\\\data2b.txt',\n",
       " 'os_module_samples\\\\data3c.txt',\n",
       " 'os_module_samples\\\\data_45a3.txt',\n",
       " 'os_module_samples\\\\data_65u4.txt']"
      ]
     },
     "execution_count": 78,
     "metadata": {},
     "output_type": "execute_result"
    }
   ],
   "source": [
    "glob(\"os_module_samples/data[1-9][a-z].txt\") + glob(\"os_module_samples/data_[1-9][1-9][a-z][1-9].txt\")"
   ]
  },
  {
   "cell_type": "markdown",
   "id": "ea7bf3e2",
   "metadata": {},
   "source": [
    "#### Find all files in the 'data' directory and its subdirectories\n"
   ]
  },
  {
   "cell_type": "code",
   "execution_count": 79,
   "id": "ff5443aa",
   "metadata": {},
   "outputs": [
    {
     "data": {
      "text/plain": [
       "['mycalculator1.py',\n",
       " 'unitconverter.py',\n",
       " 'calculator\\\\addition.py',\n",
       " 'calculator\\\\division.py',\n",
       " 'calculator\\\\multiplication.py',\n",
       " 'calculator\\\\subtraction.py',\n",
       " 'calculator\\\\__init__.py',\n",
       " 'Level3\\\\arcpy\\\\test.py']"
      ]
     },
     "execution_count": 79,
     "metadata": {},
     "output_type": "execute_result"
    }
   ],
   "source": [
    "glob('**/*.py', recursive=True)"
   ]
  },
  {
   "cell_type": "markdown",
   "id": "009167a0",
   "metadata": {},
   "source": [
    "#### GLOB and OS Together"
   ]
  },
  {
   "cell_type": "code",
   "execution_count": 80,
   "id": "90ddd552",
   "metadata": {},
   "outputs": [
    {
     "data": {
      "text/plain": [
       "['os_module_samples\\\\data_456.txt',\n",
       " 'os_module_samples\\\\data_45a3.txt',\n",
       " 'os_module_samples\\\\data_65u4.txt',\n",
       " 'os_module_samples\\\\data_AA.txt',\n",
       " 'os_module_samples\\\\data_AB.txt']"
      ]
     },
     "execution_count": 80,
     "metadata": {},
     "output_type": "execute_result"
    }
   ],
   "source": [
    "glob(\"os_module_samples/data_*.txt\")"
   ]
  },
  {
   "cell_type": "code",
   "execution_count": null,
   "id": "7e575871",
   "metadata": {},
   "outputs": [],
   "source": [
    "# change the name 'data_456.txt' as 'processed_data_456.txt'"
   ]
  },
  {
   "cell_type": "code",
   "execution_count": 81,
   "id": "c1ace11e",
   "metadata": {},
   "outputs": [
    {
     "name": "stdout",
     "output_type": "stream",
     "text": [
      "Renamed: os_module_samples\\data_456.txt to os_module_samples\\processed_data_456.txt\n",
      "Renamed: os_module_samples\\data_45a3.txt to os_module_samples\\processed_data_45a3.txt\n",
      "Renamed: os_module_samples\\data_65u4.txt to os_module_samples\\processed_data_65u4.txt\n",
      "Renamed: os_module_samples\\data_AA.txt to os_module_samples\\processed_data_AA.txt\n",
      "Renamed: os_module_samples\\data_AB.txt to os_module_samples\\processed_data_AB.txt\n"
     ]
    }
   ],
   "source": [
    "for file in glob(\"os_module_samples/data_*.txt\"):\n",
    "    # \n",
    "    # 'os_module_samples\\\\data_456.txt'\n",
    "\n",
    "    # Extract the base name (file name with extension) from the file path\n",
    "    # data_456.txt\n",
    "    base_name = os.path.basename(file)\n",
    "    # \n",
    "    \n",
    "    # Define the new name (example: adding a prefix 'renamed_')\n",
    "    # processed_data_456.txt\n",
    "    new_base_name = \"processed_\" + base_name\n",
    "    \n",
    "    # Construct the new file path\n",
    "    new_file_path = os.path.join(os.path.dirname(file), new_base_name)\n",
    "    \n",
    "    # Rename the file\n",
    "    os.rename(file, new_file_path)\n",
    "\n",
    "\n",
    "    print(f\"Renamed: {file} to {new_file_path}\")"
   ]
  },
  {
   "cell_type": "code",
   "execution_count": null,
   "id": "3413fdb1",
   "metadata": {},
   "outputs": [],
   "source": []
  }
 ],
 "metadata": {
  "kernelspec": {
   "display_name": "base",
   "language": "python",
   "name": "python3"
  },
  "language_info": {
   "codemirror_mode": {
    "name": "ipython",
    "version": 3
   },
   "file_extension": ".py",
   "mimetype": "text/x-python",
   "name": "python",
   "nbconvert_exporter": "python",
   "pygments_lexer": "ipython3",
   "version": "3.12.4"
  }
 },
 "nbformat": 4,
 "nbformat_minor": 5
}
