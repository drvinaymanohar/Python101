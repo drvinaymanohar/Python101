{
 "cells": [
  {
   "cell_type": "markdown",
   "id": "76d1566c",
   "metadata": {
    "vscode": {
     "languageId": "plaintext"
    }
   },
   "source": [
    "`OS Module`\n",
    "\n",
    "The `os` module in Python provides a way to use operating system-dependent functionality like reading or writing to the file system, managing directories, and more."
   ]
  },
  {
   "cell_type": "markdown",
   "id": "e7f57a38",
   "metadata": {},
   "source": [
    "***"
   ]
  },
  {
   "cell_type": "markdown",
   "id": "0afb7ea2",
   "metadata": {},
   "source": [
    "`Absolute vs. Relative File Paths`\n",
    "\n",
    "Understanding the difference between absolute and relative paths is crucial when working with files in Python. This knowledge helps avoid issues like missing files or incorrect paths."
   ]
  },
  {
   "cell_type": "markdown",
   "id": "cfbfbdfa",
   "metadata": {},
   "source": [
    "`Absolute Paths`\n",
    "\n",
    "An absolute path is a complete file path that specifies the location of a file or folder starting from the root directory of the file system. Absolute paths work the same regardless of your current working directory."
   ]
  },
  {
   "cell_type": "markdown",
   "id": "ff1f6cd9",
   "metadata": {},
   "source": [
    "***`C:\\Users\\username\\Documents\\myfile.txt`***"
   ]
  },
  {
   "cell_type": "markdown",
   "id": "c6ef677d",
   "metadata": {},
   "source": [
    "`Relative Paths`\n",
    "\n",
    "\n",
    "A relative path specifies the location of a file relative to the current working directory. It doesn’t start from the root directory, so it’s more flexible in development."
   ]
  },
  {
   "cell_type": "markdown",
   "id": "47b2055e",
   "metadata": {},
   "source": [
    "***`Documents/myfile.txt`***"
   ]
  },
  {
   "cell_type": "code",
   "execution_count": 21,
   "id": "a3e4d332",
   "metadata": {},
   "outputs": [],
   "source": [
    "# How to check Absolute and Relative Path\n",
    "# Right Click on any folder or file from EXPLORER (within VS Code)"
   ]
  },
  {
   "cell_type": "markdown",
   "id": "097ba551",
   "metadata": {},
   "source": [
    "***"
   ]
  },
  {
   "cell_type": "markdown",
   "id": "33e04320",
   "metadata": {},
   "source": [
    "#### Importing `OS` module"
   ]
  },
  {
   "cell_type": "code",
   "execution_count": 22,
   "id": "50db3799",
   "metadata": {},
   "outputs": [],
   "source": [
    "import os"
   ]
  },
  {
   "cell_type": "code",
   "execution_count": 24,
   "id": "f65f1ad5",
   "metadata": {},
   "outputs": [],
   "source": [
    "#help(os)"
   ]
  },
  {
   "cell_type": "markdown",
   "id": "0718ba54",
   "metadata": {},
   "source": [
    "#### Returns the name and properties the operating system."
   ]
  },
  {
   "cell_type": "code",
   "execution_count": 27,
   "id": "69730417",
   "metadata": {},
   "outputs": [
    {
     "data": {
      "text/plain": [
       "'nt'"
      ]
     },
     "execution_count": 27,
     "metadata": {},
     "output_type": "execute_result"
    }
   ],
   "source": [
    "os.name\n",
    "\n",
    "#new technology\n",
    "#linux\n",
    "#posix"
   ]
  },
  {
   "cell_type": "code",
   "execution_count": 29,
   "id": "f7971259",
   "metadata": {},
   "outputs": [],
   "source": [
    "import platform"
   ]
  },
  {
   "cell_type": "code",
   "execution_count": 30,
   "id": "bf4169c6",
   "metadata": {},
   "outputs": [
    {
     "data": {
      "text/plain": [
       "'Windows'"
      ]
     },
     "execution_count": 30,
     "metadata": {},
     "output_type": "execute_result"
    }
   ],
   "source": [
    "platform.system()"
   ]
  },
  {
   "cell_type": "code",
   "execution_count": 31,
   "id": "007d5335",
   "metadata": {},
   "outputs": [
    {
     "data": {
      "text/plain": [
       "'11'"
      ]
     },
     "execution_count": 31,
     "metadata": {},
     "output_type": "execute_result"
    }
   ],
   "source": [
    "platform.release()"
   ]
  },
  {
   "cell_type": "code",
   "execution_count": 32,
   "id": "4f84ab06",
   "metadata": {},
   "outputs": [
    {
     "name": "stdout",
     "output_type": "stream",
     "text": [
      "Windows 11\n"
     ]
    }
   ],
   "source": [
    "print(platform.system(), platform.release())"
   ]
  },
  {
   "cell_type": "code",
   "execution_count": 33,
   "id": "06449481",
   "metadata": {},
   "outputs": [
    {
     "data": {
      "text/plain": [
       "('64bit', 'WindowsPE')"
      ]
     },
     "execution_count": 33,
     "metadata": {},
     "output_type": "execute_result"
    }
   ],
   "source": [
    "platform.architecture()"
   ]
  },
  {
   "cell_type": "code",
   "execution_count": 34,
   "id": "d51573f3",
   "metadata": {},
   "outputs": [
    {
     "data": {
      "text/plain": [
       "'64bit'"
      ]
     },
     "execution_count": 34,
     "metadata": {},
     "output_type": "execute_result"
    }
   ],
   "source": [
    "platform.architecture()[0]"
   ]
  },
  {
   "cell_type": "code",
   "execution_count": 35,
   "id": "dff0b351",
   "metadata": {},
   "outputs": [
    {
     "data": {
      "text/plain": [
       "'Intel64 Family 6 Model 183 Stepping 1, GenuineIntel'"
      ]
     },
     "execution_count": 35,
     "metadata": {},
     "output_type": "execute_result"
    }
   ],
   "source": [
    "platform.processor()"
   ]
  },
  {
   "cell_type": "code",
   "execution_count": 36,
   "id": "6e340ced",
   "metadata": {},
   "outputs": [
    {
     "data": {
      "text/plain": [
       "'3.12.4'"
      ]
     },
     "execution_count": 36,
     "metadata": {},
     "output_type": "execute_result"
    }
   ],
   "source": [
    "platform.python_version()"
   ]
  },
  {
   "cell_type": "code",
   "execution_count": 37,
   "id": "5c5b97a5",
   "metadata": {},
   "outputs": [
    {
     "data": {
      "text/plain": [
       "'10.0.22631'"
      ]
     },
     "execution_count": 37,
     "metadata": {},
     "output_type": "execute_result"
    }
   ],
   "source": [
    "platform.version()"
   ]
  },
  {
   "cell_type": "code",
   "execution_count": 38,
   "id": "5f7364d1",
   "metadata": {},
   "outputs": [
    {
     "data": {
      "text/plain": [
       "uname_result(system='Windows', node='Admin', release='11', version='10.0.22631', machine='AMD64')"
      ]
     },
     "execution_count": 38,
     "metadata": {},
     "output_type": "execute_result"
    }
   ],
   "source": [
    "platform.uname()"
   ]
  },
  {
   "cell_type": "code",
   "execution_count": 39,
   "id": "f5d374da",
   "metadata": {},
   "outputs": [],
   "source": [
    "uname = platform.uname()"
   ]
  },
  {
   "cell_type": "code",
   "execution_count": 40,
   "id": "3980fc3d",
   "metadata": {},
   "outputs": [
    {
     "data": {
      "text/plain": [
       "'Windows'"
      ]
     },
     "execution_count": 40,
     "metadata": {},
     "output_type": "execute_result"
    }
   ],
   "source": [
    "uname.system"
   ]
  },
  {
   "cell_type": "code",
   "execution_count": 41,
   "id": "71f8867f",
   "metadata": {},
   "outputs": [
    {
     "data": {
      "text/plain": [
       "'Admin'"
      ]
     },
     "execution_count": 41,
     "metadata": {},
     "output_type": "execute_result"
    }
   ],
   "source": [
    "uname.node"
   ]
  },
  {
   "cell_type": "code",
   "execution_count": 42,
   "id": "a0e9074a",
   "metadata": {},
   "outputs": [
    {
     "data": {
      "text/plain": [
       "'11'"
      ]
     },
     "execution_count": 42,
     "metadata": {},
     "output_type": "execute_result"
    }
   ],
   "source": [
    "uname.release"
   ]
  },
  {
   "cell_type": "code",
   "execution_count": 43,
   "id": "3dee98e7",
   "metadata": {},
   "outputs": [
    {
     "data": {
      "text/plain": [
       "'Intel64 Family 6 Model 183 Stepping 1, GenuineIntel'"
      ]
     },
     "execution_count": 43,
     "metadata": {},
     "output_type": "execute_result"
    }
   ],
   "source": [
    "uname.processor"
   ]
  },
  {
   "cell_type": "markdown",
   "id": "3eea97fb",
   "metadata": {},
   "source": [
    "#### Returns the properties of Hardwares"
   ]
  },
  {
   "cell_type": "code",
   "execution_count": 46,
   "id": "0140623f",
   "metadata": {},
   "outputs": [],
   "source": [
    "#   psutil is a cross-platform library for retrieving information on running processes and system utilization (CPU, memory, disks, network, sensors) in Python\n",
    "import psutil"
   ]
  },
  {
   "cell_type": "code",
   "execution_count": 47,
   "id": "92818ea5",
   "metadata": {},
   "outputs": [],
   "source": [
    "#help(psutil)"
   ]
  },
  {
   "cell_type": "code",
   "execution_count": 57,
   "id": "67b5e69e",
   "metadata": {},
   "outputs": [
    {
     "data": {
      "text/plain": [
       "0.7"
      ]
     },
     "execution_count": 57,
     "metadata": {},
     "output_type": "execute_result"
    }
   ],
   "source": [
    "psutil.cpu_percent()"
   ]
  },
  {
   "cell_type": "code",
   "execution_count": 59,
   "id": "2b2cdd62",
   "metadata": {},
   "outputs": [
    {
     "data": {
      "text/plain": [
       "svmem(total=16771846144, available=5635702784, percent=66.4, used=11136143360, free=5635702784)"
      ]
     },
     "execution_count": 59,
     "metadata": {},
     "output_type": "execute_result"
    }
   ],
   "source": [
    "psutil.virtual_memory()"
   ]
  },
  {
   "cell_type": "code",
   "execution_count": null,
   "id": "86146423",
   "metadata": {},
   "outputs": [],
   "source": [
    "print(\"Physical cores:\", psutil.cpu_count(logical=False))\n",
    "print(\"Total cores:\", psutil.cpu_count(logical=True))"
   ]
  },
  {
   "cell_type": "markdown",
   "id": "f957f9b4",
   "metadata": {},
   "source": [
    "***"
   ]
  },
  {
   "cell_type": "markdown",
   "id": "b0b1b011",
   "metadata": {},
   "source": [
    "#### Getting the Current Working Directory:"
   ]
  },
  {
   "cell_type": "code",
   "execution_count": 63,
   "id": "e48f4e6a",
   "metadata": {},
   "outputs": [
    {
     "data": {
      "text/plain": [
       "'c:\\\\Users\\\\vinay\\\\Documents\\\\GeoPython-LabExercises'"
      ]
     },
     "execution_count": 63,
     "metadata": {},
     "output_type": "execute_result"
    }
   ],
   "source": [
    "os.getcwd()"
   ]
  },
  {
   "cell_type": "code",
   "execution_count": 65,
   "id": "387ab7c4",
   "metadata": {},
   "outputs": [
    {
     "data": {
      "text/plain": [
       "['01.txt',\n",
       " '2.txt',\n",
       " '34.txt',\n",
       " '3a.txt',\n",
       " 'aaa.txt',\n",
       " 'abc.txt',\n",
       " 'data1.txt',\n",
       " 'data15.txt',\n",
       " 'data16.txt',\n",
       " 'data1a.txt',\n",
       " 'data1b.txt',\n",
       " 'data1c.txt',\n",
       " 'data2.txt',\n",
       " 'data2b.txt',\n",
       " 'data3.txt',\n",
       " 'data3c.txt',\n",
       " 'data4.txt',\n",
       " 'data5.txt',\n",
       " 'data52.txt',\n",
       " 'data_AA.txt',\n",
       " 'data_AB.txt',\n",
       " 'data_AC.txt']"
      ]
     },
     "execution_count": 65,
     "metadata": {},
     "output_type": "execute_result"
    }
   ],
   "source": [
    "os.listdir('os_module_samples')"
   ]
  },
  {
   "cell_type": "code",
   "execution_count": null,
   "id": "d244a38d",
   "metadata": {},
   "outputs": [],
   "source": [
    "print('Hello 'Vinay'') # illegal character extra ' '"
   ]
  },
  {
   "cell_type": "code",
   "execution_count": 68,
   "id": "4e2d6c83",
   "metadata": {},
   "outputs": [
    {
     "name": "stdout",
     "output_type": "stream",
     "text": [
      "Hello 'Vinay'\n"
     ]
    }
   ],
   "source": [
    "print('Hello \\'Vinay\\'') # introduce the escape sequence \\"
   ]
  },
  {
   "cell_type": "code",
   "execution_count": 66,
   "id": "261a5e91",
   "metadata": {},
   "outputs": [
    {
     "ename": "SyntaxError",
     "evalue": "(unicode error) 'unicodeescape' codec can't decode bytes in position 2-3: truncated \\UXXXXXXXX escape (967983637.py, line 1)",
     "output_type": "error",
     "traceback": [
      "\u001b[1;36m  Cell \u001b[1;32mIn[66], line 1\u001b[1;36m\u001b[0m\n\u001b[1;33m    os.listdir('c:\\Users\\vinay\\Documents\\GeoPython-LabExercises\\os_module_samples')\u001b[0m\n\u001b[1;37m               ^\u001b[0m\n\u001b[1;31mSyntaxError\u001b[0m\u001b[1;31m:\u001b[0m (unicode error) 'unicodeescape' codec can't decode bytes in position 2-3: truncated \\UXXXXXXXX escape\n"
     ]
    }
   ],
   "source": [
    "os.listdir('c:\\Users\\vinay\\Documents\\GeoPython-LabExercises\\os_module_samples')"
   ]
  },
  {
   "cell_type": "markdown",
   "id": "57cfb776",
   "metadata": {},
   "source": [
    "***"
   ]
  },
  {
   "cell_type": "markdown",
   "id": "25af7d63",
   "metadata": {},
   "source": [
    "### Meaning of `\\\\`"
   ]
  },
  {
   "cell_type": "markdown",
   "id": "7a853da7",
   "metadata": {},
   "source": [
    "#### `Single Backslash (\\)`\n",
    "\n",
    "\n",
    "`A single backslash (\\)` is used as an escape character in strings. This means that it can be used to give special meaning to the character that follows it."
   ]
  },
  {
   "cell_type": "code",
   "execution_count": 69,
   "id": "d00a88d7",
   "metadata": {},
   "outputs": [
    {
     "ename": "SyntaxError",
     "evalue": "(unicode error) 'unicodeescape' codec can't decode bytes in position 2-3: truncated \\UXXXXXXXX escape (2604035923.py, line 1)",
     "output_type": "error",
     "traceback": [
      "\u001b[1;36m  Cell \u001b[1;32mIn[69], line 1\u001b[1;36m\u001b[0m\n\u001b[1;33m    os.listdir('c:\\Users\\vinay\\Documents\\GeoPython-LabExercises')\u001b[0m\n\u001b[1;37m               ^\u001b[0m\n\u001b[1;31mSyntaxError\u001b[0m\u001b[1;31m:\u001b[0m (unicode error) 'unicodeescape' codec can't decode bytes in position 2-3: truncated \\UXXXXXXXX escape\n"
     ]
    }
   ],
   "source": [
    "os.listdir('c:\\Users\\vinay\\Documents\\GeoPython-LabExercises')"
   ]
  },
  {
   "cell_type": "markdown",
   "id": "f198201f",
   "metadata": {},
   "source": [
    "#### `Double Backslash (\\\\)`\n",
    "\n",
    "To include an actual backslash in a string, you need to use a `double backslash (\\\\)`. This is because the first backslash escapes the second backslash, resulting in a literal backslash being included in the string."
   ]
  },
  {
   "cell_type": "code",
   "execution_count": null,
   "id": "fdb9ea7a",
   "metadata": {},
   "outputs": [
    {
     "data": {
      "text/plain": [
       "['01.txt',\n",
       " '2.txt',\n",
       " '34.txt',\n",
       " '3a.txt',\n",
       " 'aaa.txt',\n",
       " 'abc.txt',\n",
       " 'data1.txt',\n",
       " 'data15.txt',\n",
       " 'data16.txt',\n",
       " 'data1a.txt',\n",
       " 'data1b.txt',\n",
       " 'data1c.txt',\n",
       " 'data2.txt',\n",
       " 'data2b.txt',\n",
       " 'data3.txt',\n",
       " 'data3c.txt',\n",
       " 'data4.txt',\n",
       " 'data5.txt',\n",
       " 'data52.txt',\n",
       " 'data_AA.txt',\n",
       " 'data_AB.txt',\n",
       " 'data_AC.txt']"
      ]
     },
     "execution_count": 71,
     "metadata": {},
     "output_type": "execute_result"
    }
   ],
   "source": [
    "os.listdir('c:\\\\Users\\\\vinay\\\\Documents\\\\GeoPython-LabExercises\\\\os_module_samples')"
   ]
  },
  {
   "cell_type": "markdown",
   "id": "38e0225e",
   "metadata": {},
   "source": [
    "#### `Using Raw Strings`\n",
    "\n",
    "An alternative way to include backslashes in a string without escaping them is to use a raw string. You can create a raw string by prefixing the string with `r`"
   ]
  },
  {
   "cell_type": "code",
   "execution_count": 73,
   "id": "2731aba1",
   "metadata": {},
   "outputs": [
    {
     "data": {
      "text/plain": [
       "['01.txt',\n",
       " '2.txt',\n",
       " '34.txt',\n",
       " '3a.txt',\n",
       " 'aaa.txt',\n",
       " 'abc.txt',\n",
       " 'data1.txt',\n",
       " 'data15.txt',\n",
       " 'data16.txt',\n",
       " 'data1a.txt',\n",
       " 'data1b.txt',\n",
       " 'data1c.txt',\n",
       " 'data2.txt',\n",
       " 'data2b.txt',\n",
       " 'data3.txt',\n",
       " 'data3c.txt',\n",
       " 'data4.txt',\n",
       " 'data5.txt',\n",
       " 'data52.txt',\n",
       " 'data_AA.txt',\n",
       " 'data_AB.txt',\n",
       " 'data_AC.txt']"
      ]
     },
     "execution_count": 73,
     "metadata": {},
     "output_type": "execute_result"
    }
   ],
   "source": [
    "os.listdir(r'c:\\Users\\vinay\\Documents\\GeoPython-LabExercises\\os_module_samples')"
   ]
  },
  {
   "cell_type": "markdown",
   "id": "51bafe8b",
   "metadata": {},
   "source": [
    "#### Combining Raw Strings with Formatted Strings\n",
    "\n",
    "You can combine raw strings and formatted strings by using both r and f prefixes together. This is particularly useful when dealing with regular expressions that include variables."
   ]
  },
  {
   "cell_type": "code",
   "execution_count": 79,
   "id": "2637a2da",
   "metadata": {},
   "outputs": [
    {
     "name": "stdout",
     "output_type": "stream",
     "text": [
      "C:\\Users\\Username\\Documents\\Vinay\\Remote_Sensing\\file.txt\n"
     ]
    }
   ],
   "source": [
    "path_part = r\"Documents\\Vinay\\Remote_Sensing\"\n",
    "file_name = \"file.txt\"\n",
    "\n",
    "# Combining raw string and formatted string\n",
    "path = rf\"C:\\Users\\Username\\{path_part}\\{file_name}\"\n",
    "print(path)"
   ]
  },
  {
   "cell_type": "code",
   "execution_count": 80,
   "id": "6f7b3a56",
   "metadata": {},
   "outputs": [
    {
     "data": {
      "text/plain": [
       "['01.txt',\n",
       " '2.txt',\n",
       " '34.txt',\n",
       " '3a.txt',\n",
       " 'aaa.txt',\n",
       " 'abc.txt',\n",
       " 'data1.txt',\n",
       " 'data15.txt',\n",
       " 'data16.txt',\n",
       " 'data1a.txt',\n",
       " 'data1b.txt',\n",
       " 'data1c.txt',\n",
       " 'data2.txt',\n",
       " 'data2b.txt',\n",
       " 'data3.txt',\n",
       " 'data3c.txt',\n",
       " 'data4.txt',\n",
       " 'data5.txt',\n",
       " 'data52.txt',\n",
       " 'data_AA.txt',\n",
       " 'data_AB.txt',\n",
       " 'data_AC.txt']"
      ]
     },
     "execution_count": 80,
     "metadata": {},
     "output_type": "execute_result"
    }
   ],
   "source": [
    "os.listdir(r'c:\\Users\\vinay\\Documents\\GeoPython-LabExercises\\os_module_samples')"
   ]
  },
  {
   "cell_type": "markdown",
   "id": "67fd4cc2",
   "metadata": {},
   "source": [
    "***"
   ]
  },
  {
   "cell_type": "markdown",
   "id": "e82cc398",
   "metadata": {},
   "source": [
    "#### Get Current Path of Current Working Directory"
   ]
  },
  {
   "cell_type": "code",
   "execution_count": 81,
   "id": "68b30a3e",
   "metadata": {},
   "outputs": [
    {
     "data": {
      "text/plain": [
       "'c:\\\\Users\\\\vinay\\\\Documents\\\\GeoPython-LabExercises'"
      ]
     },
     "execution_count": 81,
     "metadata": {},
     "output_type": "execute_result"
    }
   ],
   "source": [
    "os.getcwd()"
   ]
  },
  {
   "cell_type": "markdown",
   "id": "1798f179",
   "metadata": {},
   "source": [
    "#### Listing Files and Directories in a Current Working Directory"
   ]
  },
  {
   "cell_type": "code",
   "execution_count": 82,
   "id": "75fee645",
   "metadata": {},
   "outputs": [
    {
     "data": {
      "text/plain": [
       "['.ipynb_checkpoints',\n",
       " '.jupyter',\n",
       " '000_Getting_Started_with_Jupyter_Notebook.ipynb',\n",
       " '001_Getting_Started_with_JupyterLab.ipynb',\n",
       " '002_Learning Keyboard Shortcuts.ipynb',\n",
       " '003_Getting_Started_with_Python.ipynb',\n",
       " '004_Importing_IO_Others.ipynb',\n",
       " '005_PrintFunction_and_Operators.ipynb',\n",
       " '006_String_and_its_functions.ipynb',\n",
       " '007_String_methods.ipynb',\n",
       " '008_Assignment_Solving.ipynb',\n",
       " '009_DataStructures.ipynb',\n",
       " '010_Conditional_Statements.ipynb',\n",
       " '010_Loops.ipynb',\n",
       " '011_List Comprehension.ipynb',\n",
       " '012_Tuples.ipynb',\n",
       " '013_Sets.ipynb',\n",
       " '014_Dictionaries-part1.ipynb',\n",
       " '015_Dictionaries-part2.ipynb',\n",
       " '016_Exception_Handling.ipynb',\n",
       " '017_Functions_Part1.ipynb',\n",
       " '017_Functions_Part2.ipynb',\n",
       " '018_Functions_Part3.ipynb',\n",
       " '019_Lambda_Functions.ipynb',\n",
       " '020_Modular_Programming.ipynb',\n",
       " '021_Basics_of_OOPS.ipynb',\n",
       " '022_OOPS_Dunder-STR.ipynb',\n",
       " '023_OOPS_Encapsulation.ipynb',\n",
       " '024_OOPS_Inheritance - Super Function.ipynb',\n",
       " '024_OOPS_Inheritance.ipynb',\n",
       " '025_OOPS_Abstraction.ipynb',\n",
       " '026_OOPS_Polymorphism.ipynb',\n",
       " '027_OOPS_Projects.ipynb',\n",
       " '028_OS_Module.ipynb',\n",
       " '029_Glob_Module.ipynb',\n",
       " '030_Text_File_Handling.ipynb',\n",
       " 'Assignments-part1.ipynb',\n",
       " 'Assignments-part2.ipynb',\n",
       " 'Assignments_Questions.txt',\n",
       " 'calculator',\n",
       " 'conversion',\n",
       " 'modular.png',\n",
       " 'Multi_Threading.ipynb',\n",
       " 'mycalculator1.py',\n",
       " 'numpy',\n",
       " 'os_module_samples',\n",
       " 'os_module_samples.rar',\n",
       " 'Output',\n",
       " 'SatelliteData',\n",
       " 'test',\n",
       " 'text_file_data',\n",
       " 'unitconverter.py',\n",
       " '__pycache__']"
      ]
     },
     "execution_count": 82,
     "metadata": {},
     "output_type": "execute_result"
    }
   ],
   "source": [
    "os.listdir()"
   ]
  },
  {
   "cell_type": "markdown",
   "id": "3bf91ed3",
   "metadata": {},
   "source": [
    "#### Creating a Folder (Directory) inside the Current Working Directory"
   ]
  },
  {
   "cell_type": "code",
   "execution_count": 83,
   "id": "a7b82d85",
   "metadata": {},
   "outputs": [],
   "source": [
    "os.mkdir('Python4GIS')"
   ]
  },
  {
   "cell_type": "markdown",
   "id": "71563b2f",
   "metadata": {},
   "source": [
    "#### Create Batch of Folder"
   ]
  },
  {
   "cell_type": "code",
   "execution_count": 84,
   "id": "2f4e26bc",
   "metadata": {},
   "outputs": [],
   "source": [
    "folderName = ['Animal', 'Person', 'Cars', 'Books']\n",
    "\n",
    "for i in folderName:\n",
    "    os.mkdir(i)"
   ]
  },
  {
   "cell_type": "markdown",
   "id": "d1f64586",
   "metadata": {},
   "source": [
    "#### Creating an Intermediate Directory"
   ]
  },
  {
   "cell_type": "code",
   "execution_count": 85,
   "id": "a2c521da",
   "metadata": {},
   "outputs": [],
   "source": [
    "foldername = 'Geospatial/Vector/Shapefile'\n",
    "# Inside cwd()\n",
    "\n",
    "os.makedirs(foldername)"
   ]
  },
  {
   "cell_type": "markdown",
   "id": "6be05954",
   "metadata": {},
   "source": [
    "#### Listing data from Sub-Directory within Current Working Directory"
   ]
  },
  {
   "cell_type": "code",
   "execution_count": 86,
   "id": "c7150858",
   "metadata": {},
   "outputs": [
    {
     "data": {
      "text/plain": [
       "['01.txt',\n",
       " '2.txt',\n",
       " '34.txt',\n",
       " '3a.txt',\n",
       " 'aaa.txt',\n",
       " 'abc.txt',\n",
       " 'data1.txt',\n",
       " 'data15.txt',\n",
       " 'data16.txt',\n",
       " 'data1a.txt',\n",
       " 'data1b.txt',\n",
       " 'data1c.txt',\n",
       " 'data2.txt',\n",
       " 'data2b.txt',\n",
       " 'data3.txt',\n",
       " 'data3c.txt',\n",
       " 'data4.txt',\n",
       " 'data5.txt',\n",
       " 'data52.txt',\n",
       " 'data_AA.txt',\n",
       " 'data_AB.txt',\n",
       " 'data_AC.txt']"
      ]
     },
     "execution_count": 86,
     "metadata": {},
     "output_type": "execute_result"
    }
   ],
   "source": [
    "os.listdir('os_module_samples')"
   ]
  },
  {
   "cell_type": "markdown",
   "id": "01a977f3",
   "metadata": {},
   "source": [
    "#### Changing the Current Working Directory to another folder"
   ]
  },
  {
   "cell_type": "code",
   "execution_count": 87,
   "id": "16c3d7c6",
   "metadata": {},
   "outputs": [
    {
     "data": {
      "text/plain": [
       "'c:\\\\Users\\\\vinay\\\\Documents\\\\GeoPython-LabExercises'"
      ]
     },
     "execution_count": 87,
     "metadata": {},
     "output_type": "execute_result"
    }
   ],
   "source": [
    "os.getcwd()"
   ]
  },
  {
   "cell_type": "code",
   "execution_count": 88,
   "id": "74429642",
   "metadata": {},
   "outputs": [],
   "source": [
    "os.chdir('os_module_samples')"
   ]
  },
  {
   "cell_type": "code",
   "execution_count": 89,
   "id": "76d97552",
   "metadata": {},
   "outputs": [
    {
     "data": {
      "text/plain": [
       "'c:\\\\Users\\\\vinay\\\\Documents\\\\GeoPython-LabExercises\\\\os_module_samples'"
      ]
     },
     "execution_count": 89,
     "metadata": {},
     "output_type": "execute_result"
    }
   ],
   "source": [
    "os.getcwd()"
   ]
  },
  {
   "cell_type": "code",
   "execution_count": 90,
   "id": "436b2b4d",
   "metadata": {},
   "outputs": [],
   "source": [
    "os.mkdir('VINAY_DATA')"
   ]
  },
  {
   "cell_type": "markdown",
   "id": "9ddf08fc",
   "metadata": {},
   "source": [
    "#### Move up one directory level"
   ]
  },
  {
   "cell_type": "code",
   "execution_count": 91,
   "id": "b1946d21",
   "metadata": {},
   "outputs": [
    {
     "data": {
      "text/plain": [
       "'c:\\\\Users\\\\vinay\\\\Documents\\\\GeoPython-LabExercises'"
      ]
     },
     "execution_count": 91,
     "metadata": {},
     "output_type": "execute_result"
    }
   ],
   "source": [
    "os.chdir(\"..\")\n",
    "os.getcwd()"
   ]
  },
  {
   "cell_type": "markdown",
   "id": "aa256f76",
   "metadata": {},
   "source": [
    "#### Checking File Existence with os.path.exists()"
   ]
  },
  {
   "cell_type": "code",
   "execution_count": 92,
   "id": "59411005",
   "metadata": {},
   "outputs": [
    {
     "data": {
      "text/plain": [
       "['01.txt',\n",
       " '2.txt',\n",
       " '34.txt',\n",
       " '3a.txt',\n",
       " 'aaa.txt',\n",
       " 'abc.txt',\n",
       " 'data1.txt',\n",
       " 'data15.txt',\n",
       " 'data16.txt',\n",
       " 'data1a.txt',\n",
       " 'data1b.txt',\n",
       " 'data1c.txt',\n",
       " 'data2.txt',\n",
       " 'data2b.txt',\n",
       " 'data3.txt',\n",
       " 'data3c.txt',\n",
       " 'data4.txt',\n",
       " 'data5.txt',\n",
       " 'data52.txt',\n",
       " 'data_AA.txt',\n",
       " 'data_AB.txt',\n",
       " 'data_AC.txt',\n",
       " 'VINAY_DATA']"
      ]
     },
     "execution_count": 92,
     "metadata": {},
     "output_type": "execute_result"
    }
   ],
   "source": [
    "os.listdir('os_module_samples')"
   ]
  },
  {
   "cell_type": "code",
   "execution_count": 93,
   "id": "c3dcdeaf",
   "metadata": {},
   "outputs": [
    {
     "data": {
      "text/plain": [
       "23"
      ]
     },
     "execution_count": 93,
     "metadata": {},
     "output_type": "execute_result"
    }
   ],
   "source": [
    "len(os.listdir('os_module_samples'))"
   ]
  },
  {
   "cell_type": "code",
   "execution_count": 94,
   "id": "08a06c9f",
   "metadata": {},
   "outputs": [
    {
     "data": {
      "text/plain": [
       "False"
      ]
     },
     "execution_count": 94,
     "metadata": {},
     "output_type": "execute_result"
    }
   ],
   "source": [
    "os.path.exists('os_module_samples/10.txt')"
   ]
  },
  {
   "cell_type": "code",
   "execution_count": 95,
   "id": "e49dcbaa",
   "metadata": {},
   "outputs": [
    {
     "data": {
      "text/plain": [
       "True"
      ]
     },
     "execution_count": 95,
     "metadata": {},
     "output_type": "execute_result"
    }
   ],
   "source": [
    "os.path.exists('os_module_samples/01.txt')"
   ]
  },
  {
   "cell_type": "code",
   "execution_count": 96,
   "id": "430edf4c",
   "metadata": {},
   "outputs": [
    {
     "name": "stdout",
     "output_type": "stream",
     "text": [
      "File does not exist\n"
     ]
    }
   ],
   "source": [
    "file_path = 'os_module_samples/1.txt'\n",
    "\n",
    "if os.path.exists(file_path):\n",
    "    print(\"File exists\")\n",
    "else:\n",
    "    print(\"File does not exist\")"
   ]
  },
  {
   "cell_type": "code",
   "execution_count": 97,
   "id": "1e1e477a",
   "metadata": {},
   "outputs": [
    {
     "name": "stdout",
     "output_type": "stream",
     "text": [
      "File exists\n"
     ]
    }
   ],
   "source": [
    "file_path = 'os_module_samples/01.txt'\n",
    "\n",
    "if os.path.exists(file_path):\n",
    "    print(\"File exists\")\n",
    "else:\n",
    "    print(\"File does not exist\")"
   ]
  },
  {
   "cell_type": "markdown",
   "id": "386279ec",
   "metadata": {},
   "source": [
    "#### Joining Paths"
   ]
  },
  {
   "cell_type": "code",
   "execution_count": 100,
   "id": "5e536730",
   "metadata": {},
   "outputs": [
    {
     "name": "stdout",
     "output_type": "stream",
     "text": [
      "c:\\Users\\vinay\\Documents\\GeoPython-LabExercises\\DataScience\n"
     ]
    }
   ],
   "source": [
    "mypath = os.path.join(os.getcwd(), 'DataScience')\n",
    "print(mypath)"
   ]
  },
  {
   "cell_type": "code",
   "execution_count": 99,
   "id": "756cc78c",
   "metadata": {},
   "outputs": [
    {
     "data": {
      "text/plain": [
       "'c:\\\\Users\\\\vinay\\\\Documents\\\\GeoPython-LabExercises\\\\DataScience'"
      ]
     },
     "execution_count": 99,
     "metadata": {},
     "output_type": "execute_result"
    }
   ],
   "source": [
    "os.path.join(os.getcwd(), 'DataScience')"
   ]
  },
  {
   "cell_type": "markdown",
   "id": "71fbcee0",
   "metadata": {},
   "source": [
    "#### Creating Folder based on Joined Paths"
   ]
  },
  {
   "cell_type": "code",
   "execution_count": 101,
   "id": "50d06c76",
   "metadata": {},
   "outputs": [],
   "source": [
    "if os.path.exists(mypath):\n",
    "    print('Already Folder Exists')\n",
    "else:\n",
    "    os.mkdir(mypath)"
   ]
  },
  {
   "cell_type": "code",
   "execution_count": 102,
   "id": "57bbd07e",
   "metadata": {},
   "outputs": [
    {
     "data": {
      "text/plain": [
       "'c:\\\\Users\\\\vinay\\\\Documents\\\\GeoPython-LabExercises\\\\AI\\\\ML'"
      ]
     },
     "execution_count": 102,
     "metadata": {},
     "output_type": "execute_result"
    }
   ],
   "source": [
    "os.path.join(os.getcwd(),'AI','ML')"
   ]
  },
  {
   "cell_type": "code",
   "execution_count": 103,
   "id": "2aed3d25",
   "metadata": {},
   "outputs": [],
   "source": [
    "intermediate_path = os.path.join(os.getcwd(),'AI','ML')\n",
    "\n",
    "if os.path.exists(intermediate_path):\n",
    "    print(\"Already Exists\")\n",
    "else:\n",
    "    os.makedirs(intermediate_path)"
   ]
  },
  {
   "cell_type": "markdown",
   "id": "4593d4d3",
   "metadata": {},
   "source": [
    "#### Removing an Empty Directory"
   ]
  },
  {
   "cell_type": "code",
   "execution_count": 104,
   "id": "874f33b6",
   "metadata": {},
   "outputs": [],
   "source": [
    "os.rmdir('Person')"
   ]
  },
  {
   "cell_type": "code",
   "execution_count": 105,
   "id": "9bae8c23",
   "metadata": {},
   "outputs": [],
   "source": [
    "os.rmdir('Animal')"
   ]
  },
  {
   "cell_type": "code",
   "execution_count": 106,
   "id": "4766c701",
   "metadata": {},
   "outputs": [
    {
     "ename": "OSError",
     "evalue": "[WinError 145] The directory is not empty: 'calculator'",
     "output_type": "error",
     "traceback": [
      "\u001b[1;31m---------------------------------------------------------------------------\u001b[0m",
      "\u001b[1;31mOSError\u001b[0m                                   Traceback (most recent call last)",
      "Cell \u001b[1;32mIn[106], line 1\u001b[0m\n\u001b[1;32m----> 1\u001b[0m os\u001b[38;5;241m.\u001b[39mrmdir(\u001b[38;5;124m'\u001b[39m\u001b[38;5;124mcalculator\u001b[39m\u001b[38;5;124m'\u001b[39m)\n",
      "\u001b[1;31mOSError\u001b[0m: [WinError 145] The directory is not empty: 'calculator'"
     ]
    }
   ],
   "source": [
    "os.rmdir('calculator')"
   ]
  },
  {
   "cell_type": "markdown",
   "id": "5a2b5f82",
   "metadata": {},
   "source": [
    "#### Removing non-empty directory in Python"
   ]
  },
  {
   "cell_type": "code",
   "execution_count": 109,
   "id": "63440f35",
   "metadata": {},
   "outputs": [
    {
     "data": {
      "text/plain": [
       "'c:\\\\Users\\\\vinay\\\\Documents\\\\GeoPython-LabExercises\\\\Geospatial'"
      ]
     },
     "execution_count": 109,
     "metadata": {},
     "output_type": "execute_result"
    }
   ],
   "source": [
    "import shutil\n",
    "\n",
    "directory_path = os.path.join(os.getcwd(),'Geospatial')\n",
    "directory_path"
   ]
  },
  {
   "cell_type": "code",
   "execution_count": 110,
   "id": "dc057102",
   "metadata": {},
   "outputs": [],
   "source": [
    "shutil.rmtree(directory_path)"
   ]
  },
  {
   "cell_type": "markdown",
   "id": "bdacc194",
   "metadata": {},
   "source": [
    "#### Removing a File"
   ]
  },
  {
   "cell_type": "code",
   "execution_count": 111,
   "id": "a8e9ba22",
   "metadata": {},
   "outputs": [],
   "source": [
    "os.remove('os_module_samples/data_AC.txt')"
   ]
  },
  {
   "cell_type": "markdown",
   "id": "c4bd3e0e",
   "metadata": {},
   "source": [
    "#### Renaming File\n"
   ]
  },
  {
   "cell_type": "code",
   "execution_count": 112,
   "id": "e6cc60ba",
   "metadata": {},
   "outputs": [],
   "source": [
    "oldname = 'os_module_samples/01.txt'\n",
    "newname = 'os_module_samples/011.txt'\n",
    "\n",
    "os.rename(oldname,newname)"
   ]
  },
  {
   "cell_type": "markdown",
   "id": "e787789f",
   "metadata": {},
   "source": [
    "#### Walking Through a Directory Tree"
   ]
  },
  {
   "cell_type": "code",
   "execution_count": 115,
   "id": "f94fe8de",
   "metadata": {},
   "outputs": [
    {
     "name": "stdout",
     "output_type": "stream",
     "text": [
      "['000_Getting_Started_with_Jupyter_Notebook.ipynb', '001_Getting_Started_with_JupyterLab.ipynb', '002_Learning Keyboard Shortcuts.ipynb', '003_Getting_Started_with_Python.ipynb', '004_Importing_IO_Others.ipynb', '005_PrintFunction_and_Operators.ipynb', '006_String_and_its_functions.ipynb', '007_String_methods.ipynb', '008_Assignment_Solving.ipynb', '009_DataStructures.ipynb', '010_Conditional_Statements.ipynb', '010_Loops.ipynb', '011_List Comprehension.ipynb', '012_Tuples.ipynb', '013_Sets.ipynb', '014_Dictionaries-part1.ipynb', '015_Dictionaries-part2.ipynb', '016_Exception_Handling.ipynb', '017_Functions_Part1.ipynb', '017_Functions_Part2.ipynb', '018_Functions_Part3.ipynb', '019_Lambda_Functions.ipynb', '020_Modular_Programming.ipynb', '021_Basics_of_OOPS.ipynb', '022_OOPS_Dunder-STR.ipynb', '023_OOPS_Encapsulation.ipynb', '024_OOPS_Inheritance - Super Function.ipynb', '024_OOPS_Inheritance.ipynb', '025_OOPS_Abstraction.ipynb', '026_OOPS_Polymorphism.ipynb', '027_OOPS_Projects.ipynb', '028_OS_Module.ipynb', '029_Glob_Module.ipynb', '030_Text_File_Handling.ipynb', 'Assignments-part1.ipynb', 'Assignments-part2.ipynb', 'Assignments_Questions.txt', 'modular.png', 'Multi_Threading.ipynb', 'mycalculator1.py', 'os_module_samples.rar', 'unitconverter.py']\n",
      "['000_Getting_Started_with_Jupyter_Notebook-checkpoint.ipynb', '001_Getting_Started_with_JupyterLab-checkpoint.ipynb', '002_Learning Keyboard Shortcuts-checkpoint.ipynb', '003_Getting_Started_with_Python-checkpoint.ipynb', '004_Importing_IO_Others-checkpoint.ipynb', '005_PrintFunction_and_Operators-checkpoint.ipynb', '006_String_and_its_functions-checkpoint.ipynb', '007_String_methods-checkpoint.ipynb', '008_Assignment_Solving-checkpoint.ipynb', '009_DataStructures-checkpoint.ipynb', '010_Conditional_Statements-checkpoint.ipynb', '010_Loops-checkpoint.ipynb', '011_List Comprehension-checkpoint.ipynb', '012_Tuples-checkpoint.ipynb', '013_Sets-checkpoint.ipynb', '014_Dictionaries-part1-checkpoint.ipynb', '015_Dictionaries-part2-checkpoint.ipynb', '016_Exception_Handling-checkpoint.ipynb', '017_Functions_Part1-checkpoint.ipynb', '017_Functions_Part2-checkpoint.ipynb', '018_Functions_Part3-checkpoint.ipynb', '019_Lambda_Functions-checkpoint.ipynb', '020_Modular_Programming-checkpoint.ipynb', '021_Basics_of_OOPS-checkpoint.ipynb', '022_OOPS_Inheritance-checkpoint.ipynb', '023_OOPS_Polymorphism-checkpoint.ipynb', '024_OS_Module-checkpoint.ipynb', 'Assignments-part1-checkpoint.ipynb', 'Assignments-part2-checkpoint.ipynb']\n",
      "[]\n",
      "['default-37a8.jupyterlab-workspace']\n",
      "[]\n",
      "[]\n",
      "[]\n",
      "['addition.py', 'division.py', 'multiplication.py', 'subtraction.py', '__init__.py']\n",
      "['addition.cpython-312.pyc', 'subtraction.cpython-312.pyc', '__init__.cpython-312.pyc']\n",
      "[]\n",
      "['area.py.txt', 'linear.py.txt', 'volume.py.txt']\n",
      "[]\n",
      "['# 1 Introduction-to-NumPy.ipynb', '# 2 Understanding-Numpy Array.ipynb', '# 3 The-Basics-Of-NumPy-Arrays.ipynb', '# 4 . Computation on arrays.ipynb', '# 5. Numpy Aggregates.ipynb', '#6. Broadcasting.ipynb', '#7.  Numpy Masking.ipynb', '#8.  Array Fancy Indexing.ipynb', '#9.  Sorting.ipynb']\n",
      "['011.txt', '2.txt', '34.txt', '3a.txt', 'aaa.txt', 'abc.txt', 'data1.txt', 'data15.txt', 'data16.txt', 'data1a.txt', 'data1b.txt', 'data1c.txt', 'data2.txt', 'data2b.txt', 'data3.txt', 'data3c.txt', 'data4.txt', 'data5.txt', 'data52.txt', 'data_AA.txt', 'data_AB.txt']\n",
      "[]\n",
      "[]\n",
      "[]\n",
      "[]\n",
      "['data.txt']\n",
      "['mycalculator.cpython-312.pyc', 'unitconverter.cpython-312.pyc']\n"
     ]
    }
   ],
   "source": [
    "for root, dirs, files in os.walk(os.getcwd()):\n",
    "    print(files)"
   ]
  },
  {
   "cell_type": "code",
   "execution_count": 116,
   "id": "d599c811",
   "metadata": {},
   "outputs": [
    {
     "name": "stdout",
     "output_type": "stream",
     "text": [
      "000_Getting_Started_with_Jupyter_Notebook.ipynb\n",
      "001_Getting_Started_with_JupyterLab.ipynb\n",
      "002_Learning Keyboard Shortcuts.ipynb\n",
      "003_Getting_Started_with_Python.ipynb\n",
      "004_Importing_IO_Others.ipynb\n",
      "005_PrintFunction_and_Operators.ipynb\n",
      "006_String_and_its_functions.ipynb\n",
      "007_String_methods.ipynb\n",
      "008_Assignment_Solving.ipynb\n",
      "009_DataStructures.ipynb\n",
      "010_Conditional_Statements.ipynb\n",
      "010_Loops.ipynb\n",
      "011_List Comprehension.ipynb\n",
      "012_Tuples.ipynb\n",
      "013_Sets.ipynb\n",
      "014_Dictionaries-part1.ipynb\n",
      "015_Dictionaries-part2.ipynb\n",
      "016_Exception_Handling.ipynb\n",
      "017_Functions_Part1.ipynb\n",
      "017_Functions_Part2.ipynb\n",
      "018_Functions_Part3.ipynb\n",
      "019_Lambda_Functions.ipynb\n",
      "020_Modular_Programming.ipynb\n",
      "021_Basics_of_OOPS.ipynb\n",
      "022_OOPS_Dunder-STR.ipynb\n",
      "023_OOPS_Encapsulation.ipynb\n",
      "024_OOPS_Inheritance - Super Function.ipynb\n",
      "024_OOPS_Inheritance.ipynb\n",
      "025_OOPS_Abstraction.ipynb\n",
      "026_OOPS_Polymorphism.ipynb\n",
      "027_OOPS_Projects.ipynb\n",
      "028_OS_Module.ipynb\n",
      "029_Glob_Module.ipynb\n",
      "030_Text_File_Handling.ipynb\n",
      "Assignments-part1.ipynb\n",
      "Assignments-part2.ipynb\n",
      "Assignments_Questions.txt\n",
      "modular.png\n",
      "Multi_Threading.ipynb\n",
      "mycalculator1.py\n",
      "os_module_samples.rar\n",
      "unitconverter.py\n",
      "000_Getting_Started_with_Jupyter_Notebook-checkpoint.ipynb\n",
      "001_Getting_Started_with_JupyterLab-checkpoint.ipynb\n",
      "002_Learning Keyboard Shortcuts-checkpoint.ipynb\n",
      "003_Getting_Started_with_Python-checkpoint.ipynb\n",
      "004_Importing_IO_Others-checkpoint.ipynb\n",
      "005_PrintFunction_and_Operators-checkpoint.ipynb\n",
      "006_String_and_its_functions-checkpoint.ipynb\n",
      "007_String_methods-checkpoint.ipynb\n",
      "008_Assignment_Solving-checkpoint.ipynb\n",
      "009_DataStructures-checkpoint.ipynb\n",
      "010_Conditional_Statements-checkpoint.ipynb\n",
      "010_Loops-checkpoint.ipynb\n",
      "011_List Comprehension-checkpoint.ipynb\n",
      "012_Tuples-checkpoint.ipynb\n",
      "013_Sets-checkpoint.ipynb\n",
      "014_Dictionaries-part1-checkpoint.ipynb\n",
      "015_Dictionaries-part2-checkpoint.ipynb\n",
      "016_Exception_Handling-checkpoint.ipynb\n",
      "017_Functions_Part1-checkpoint.ipynb\n",
      "017_Functions_Part2-checkpoint.ipynb\n",
      "018_Functions_Part3-checkpoint.ipynb\n",
      "019_Lambda_Functions-checkpoint.ipynb\n",
      "020_Modular_Programming-checkpoint.ipynb\n",
      "021_Basics_of_OOPS-checkpoint.ipynb\n",
      "022_OOPS_Inheritance-checkpoint.ipynb\n",
      "023_OOPS_Polymorphism-checkpoint.ipynb\n",
      "024_OS_Module-checkpoint.ipynb\n",
      "Assignments-part1-checkpoint.ipynb\n",
      "Assignments-part2-checkpoint.ipynb\n",
      "default-37a8.jupyterlab-workspace\n",
      "addition.py\n",
      "division.py\n",
      "multiplication.py\n",
      "subtraction.py\n",
      "__init__.py\n",
      "addition.cpython-312.pyc\n",
      "subtraction.cpython-312.pyc\n",
      "__init__.cpython-312.pyc\n",
      "area.py.txt\n",
      "linear.py.txt\n",
      "volume.py.txt\n",
      "# 1 Introduction-to-NumPy.ipynb\n",
      "# 2 Understanding-Numpy Array.ipynb\n",
      "# 3 The-Basics-Of-NumPy-Arrays.ipynb\n",
      "# 4 . Computation on arrays.ipynb\n",
      "# 5. Numpy Aggregates.ipynb\n",
      "#6. Broadcasting.ipynb\n",
      "#7.  Numpy Masking.ipynb\n",
      "#8.  Array Fancy Indexing.ipynb\n",
      "#9.  Sorting.ipynb\n",
      "011.txt\n",
      "2.txt\n",
      "34.txt\n",
      "3a.txt\n",
      "aaa.txt\n",
      "abc.txt\n",
      "data1.txt\n",
      "data15.txt\n",
      "data16.txt\n",
      "data1a.txt\n",
      "data1b.txt\n",
      "data1c.txt\n",
      "data2.txt\n",
      "data2b.txt\n",
      "data3.txt\n",
      "data3c.txt\n",
      "data4.txt\n",
      "data5.txt\n",
      "data52.txt\n",
      "data_AA.txt\n",
      "data_AB.txt\n",
      "data.txt\n",
      "mycalculator.cpython-312.pyc\n",
      "unitconverter.cpython-312.pyc\n"
     ]
    }
   ],
   "source": [
    "for root, dirs, files in os.walk(os.getcwd()):\n",
    "    for file in files:\n",
    "        print(file)"
   ]
  },
  {
   "cell_type": "markdown",
   "id": "e2289b93",
   "metadata": {},
   "source": [
    "#### Moving Files from relative path to specific"
   ]
  },
  {
   "cell_type": "code",
   "execution_count": null,
   "id": "f0e12941",
   "metadata": {},
   "outputs": [],
   "source": [
    "import shutil\n",
    "#relative path, absolute path  \n",
    "shutil.move('practice.txt','C:\\\\Users\\\\')"
   ]
  },
  {
   "cell_type": "markdown",
   "id": "6ec0f34e",
   "metadata": {},
   "source": [
    "#### Copying"
   ]
  },
  {
   "cell_type": "code",
   "execution_count": null,
   "id": "fc6b4091",
   "metadata": {},
   "outputs": [],
   "source": [
    "# relative path, #relative path\n",
    "shutil.copyfile('python.txt', 'abc.txt')"
   ]
  },
  {
   "cell_type": "markdown",
   "id": "92455e94",
   "metadata": {},
   "source": [
    "#### Deleting Files"
   ]
  },
  {
   "cell_type": "code",
   "execution_count": null,
   "id": "e274786f",
   "metadata": {},
   "outputs": [],
   "source": [
    "#!pip install send2trash"
   ]
  },
  {
   "cell_type": "code",
   "execution_count": null,
   "id": "1d0ec3a6",
   "metadata": {},
   "outputs": [],
   "source": [
    "import send2trash\n",
    "send2trash.send2trash('practice.txt')"
   ]
  },
  {
   "cell_type": "markdown",
   "id": "62dd7c2c",
   "metadata": {},
   "source": [
    "#### Getting the Size of the File in bytes"
   ]
  },
  {
   "cell_type": "code",
   "execution_count": 117,
   "id": "f1a2ecfc",
   "metadata": {},
   "outputs": [
    {
     "data": {
      "text/plain": [
       "26950"
      ]
     },
     "execution_count": 117,
     "metadata": {},
     "output_type": "execute_result"
    }
   ],
   "source": [
    "os.path.getsize('003_Getting_Started_with_Python.ipynb')"
   ]
  },
  {
   "cell_type": "markdown",
   "id": "f13b354c",
   "metadata": {},
   "source": [
    "#### More Methods in OS.path"
   ]
  },
  {
   "cell_type": "code",
   "execution_count": 118,
   "id": "7c5e2a67",
   "metadata": {},
   "outputs": [
    {
     "data": {
      "text/plain": [
       "'GeoPython-LabExercises'"
      ]
     },
     "execution_count": 118,
     "metadata": {},
     "output_type": "execute_result"
    }
   ],
   "source": [
    "os.path.basename(os.getcwd())"
   ]
  },
  {
   "cell_type": "code",
   "execution_count": 119,
   "id": "637bc07f",
   "metadata": {},
   "outputs": [
    {
     "data": {
      "text/plain": [
       "'c:\\\\Users\\\\vinay\\\\Documents'"
      ]
     },
     "execution_count": 119,
     "metadata": {},
     "output_type": "execute_result"
    }
   ],
   "source": [
    "os.path.dirname(os.getcwd())"
   ]
  },
  {
   "cell_type": "code",
   "execution_count": 120,
   "id": "ef56f855",
   "metadata": {},
   "outputs": [
    {
     "data": {
      "text/plain": [
       "('c:\\\\Users\\\\vinay\\\\Documents', 'GeoPython-LabExercises')"
      ]
     },
     "execution_count": 120,
     "metadata": {},
     "output_type": "execute_result"
    }
   ],
   "source": [
    "os.path.split(os.getcwd())"
   ]
  },
  {
   "cell_type": "code",
   "execution_count": 121,
   "id": "aa54ce9d",
   "metadata": {},
   "outputs": [
    {
     "data": {
      "text/plain": [
       "'c:\\\\Users\\\\vinay\\\\Documents\\\\GeoPython-LabExercises\\\\010_Loops.ipynb'"
      ]
     },
     "execution_count": 121,
     "metadata": {},
     "output_type": "execute_result"
    }
   ],
   "source": [
    "os.path.abspath('010_Loops.ipynb')"
   ]
  },
  {
   "cell_type": "code",
   "execution_count": 122,
   "id": "336f873c",
   "metadata": {},
   "outputs": [
    {
     "data": {
      "text/plain": [
       "True"
      ]
     },
     "execution_count": 122,
     "metadata": {},
     "output_type": "execute_result"
    }
   ],
   "source": [
    "os.path.isfile('010_Loops.ipynb')"
   ]
  },
  {
   "cell_type": "code",
   "execution_count": 123,
   "id": "19d4bbc7",
   "metadata": {},
   "outputs": [
    {
     "data": {
      "text/plain": [
       "False"
      ]
     },
     "execution_count": 123,
     "metadata": {},
     "output_type": "execute_result"
    }
   ],
   "source": [
    "os.path.isdir('010_Loops.ipynb')"
   ]
  },
  {
   "cell_type": "code",
   "execution_count": 125,
   "id": "793ee828",
   "metadata": {},
   "outputs": [
    {
     "data": {
      "text/plain": [
       "True"
      ]
     },
     "execution_count": 125,
     "metadata": {},
     "output_type": "execute_result"
    }
   ],
   "source": [
    "os.path.isdir('DataScience')"
   ]
  }
 ],
 "metadata": {
  "kernelspec": {
   "display_name": "base",
   "language": "python",
   "name": "python3"
  },
  "language_info": {
   "codemirror_mode": {
    "name": "ipython",
    "version": 3
   },
   "file_extension": ".py",
   "mimetype": "text/x-python",
   "name": "python",
   "nbconvert_exporter": "python",
   "pygments_lexer": "ipython3",
   "version": "3.12.4"
  }
 },
 "nbformat": 4,
 "nbformat_minor": 5
}
