{
 "cells": [
  {
   "cell_type": "markdown",
   "id": "c3fe1203-e8ba-4229-8c5d-a0daf0efba70",
   "metadata": {},
   "source": [
    "Create a list based on sum of two consecutive pairs \n",
    "Check Palindrome or not in Python\n",
    "Find sum of all the numbers in a list\n",
    "Find product of all numbers in a list\n",
    "Find average of all numbers in a list\n",
    "Write a program to check given year is leap or not\n",
    "Take two numbers as input and print the result after swapping them (Create with and without temporary variable)\n",
    "Write a program to accept a string from the user and display characters that are present at an even index number.\n",
    "Write a program to accept five names from the user and store it in a Tuple 'T1'\n",
    "Calculate and display the sum of all the numbers divisible by 7 between 18 and 534.\n",
    "Write a program to take two-word string and returns True if both words begin with same letter and returns False if both words begin with different letter\n",
    "Write a program to iterate the first 10 numbers and in each iteration, print the sum of the current and previous number.\n",
    "Write a program to take a list as input containing results of 10 coin tosses as 'H' or 'T'. Jon gets a point for each 'T' and Tom gets a point for each 'H'. print the points recieved by both.\n",
    "Take a list as input in a single line containing 10 numbers as marks out of 100. The even positions in the list are marks of Tom and the odd positions are the marks of Jon. Calculate the average marks of both\n",
    "Take a string as input and count the occurance of each letter and store in dictionary\n",
    "Take a string as input(may contain repetitive words), print a list consisting of unique words from the given string.\n",
    "Take four numbers as input in a single line. Find out the largest number.\n",
    "Take four numbers as input and find the second largest numer.\n",
    "Write a program to take four strings as input and print the string having third highest number of words.\n",
    "Take a list and a number as input, print all consecutive pairs of two numbers from the list having sum equal to the given number."
   ]
  },
  {
   "cell_type": "code",
   "execution_count": 9,
   "id": "2602422d-0773-462d-a005-e1068c5feaf9",
   "metadata": {},
   "outputs": [
    {
     "name": "stdout",
     "output_type": "stream",
     "text": [
      "[12.0, 10.1, 11.2, 12.3, 11.2, 12.7]\n"
     ]
    }
   ],
   "source": [
    "# Create a list based on sum of two consecutive pairs from a list\n",
    "\n",
    "random = [5.3, 6.7, 3.4, 7.8, 4.5, 6.7, 6.0]\n",
    "pairsum = []\n",
    "for i in range(len(random)-1):\n",
    "    result = random[i] + random[i+1]\n",
    "    pairsum.append(result)\n",
    "print(pairsum)"
   ]
  },
  {
   "cell_type": "code",
   "execution_count": 10,
   "id": "cc4811d5-b450-4fdf-9d02-0856dd273fa4",
   "metadata": {},
   "outputs": [
    {
     "name": "stdout",
     "output_type": "stream",
     "text": [
      "[15.4, 17.9, 15.7, 19.0, 17.2]\n"
     ]
    }
   ],
   "source": [
    "# Create a list based on sum of three consecutive pairs from a list\n",
    "\n",
    "random = [5.3, 6.7, 3.4, 7.8, 4.5, 6.7, 6.0]\n",
    "pairsum = []\n",
    "for i in range(len(random)-2): # iter2 = 1\n",
    "    result = random[i] + random[i+1] + random[i+2]\n",
    "    pairsum.append(result)\n",
    "print(pairsum)"
   ]
  },
  {
   "cell_type": "code",
   "execution_count": 11,
   "id": "ffc26a06-ee4c-4331-b376-b72ecfe4c804",
   "metadata": {},
   "outputs": [
    {
     "name": "stdout",
     "output_type": "stream",
     "text": [
      "[23.2, 22.4, 22.4, 25.0]\n"
     ]
    }
   ],
   "source": [
    "# Create a list based on sum of four consecutive pairs from a list\n",
    "\n",
    "random = [5.3, 6.7, 3.4, 7.8, 4.5, 6.7, 6.0]\n",
    "pairsum = []\n",
    "for i in range(len(random)-3): # iter2 = 1\n",
    "    result = random[i] + random[i+1] + random[i+2] + random[i+3]\n",
    "    pairsum.append(result)\n",
    "print(pairsum)"
   ]
  },
  {
   "cell_type": "code",
   "execution_count": null,
   "id": "b61307c8-69ac-4fed-9151-4e89b0f51f5b",
   "metadata": {},
   "outputs": [],
   "source": [
    "# Check Palindrome or not in Python"
   ]
  },
  {
   "cell_type": "code",
   "execution_count": null,
   "id": "60c96dd7-64ee-468f-a262-7d8b960ced83",
   "metadata": {},
   "outputs": [],
   "source": [
    "# madam = madam\n",
    "# malayalam = malayalam\n",
    "# noon = noon\n"
   ]
  },
  {
   "cell_type": "code",
   "execution_count": 27,
   "id": "eb01704c-199b-4e0f-839d-b58f2c16d5dd",
   "metadata": {},
   "outputs": [
    {
     "name": "stdin",
     "output_type": "stream",
     "text": [
      "Enter a Text:  malayalam\n"
     ]
    },
    {
     "name": "stdout",
     "output_type": "stream",
     "text": [
      "malayalam is a Palindrome\n"
     ]
    }
   ],
   "source": [
    "userString = input(\"Enter a Text: \").lower()\n",
    "if userString == userString[::-1]:\n",
    "    print(f\"{userString} is a Palindrome\")\n",
    "else:\n",
    "    print(f\"{userString} is not palindrome\")"
   ]
  },
  {
   "cell_type": "code",
   "execution_count": 31,
   "id": "634dd580-ec22-43c9-a117-675b3bf4cec8",
   "metadata": {},
   "outputs": [],
   "source": [
    "# Find sum of all the numbers in a list"
   ]
  },
  {
   "cell_type": "code",
   "execution_count": 32,
   "id": "56af4272-0b57-47b5-80fc-23c4577e9d3f",
   "metadata": {},
   "outputs": [],
   "source": [
    "values = [5, 6, 7, 2, 3, 3, 3, 3, 6, 78, 8, 8]"
   ]
  },
  {
   "cell_type": "code",
   "execution_count": 33,
   "id": "9db3ea5a-bae0-47ca-8ce2-673525063faa",
   "metadata": {},
   "outputs": [
    {
     "data": {
      "text/plain": [
       "132"
      ]
     },
     "execution_count": 33,
     "metadata": {},
     "output_type": "execute_result"
    }
   ],
   "source": [
    "# using built in function\n",
    "sum(values)"
   ]
  },
  {
   "cell_type": "code",
   "execution_count": 35,
   "id": "39bcfacf-ee0b-4ede-b741-bf158a8d96c7",
   "metadata": {},
   "outputs": [
    {
     "name": "stdout",
     "output_type": "stream",
     "text": [
      "132\n"
     ]
    }
   ],
   "source": [
    "# using custom codes\n",
    "\n",
    "total = 0\n",
    "\n",
    "for i in values:\n",
    "    total = total + i\n",
    "\n",
    "print(total)"
   ]
  },
  {
   "cell_type": "code",
   "execution_count": 36,
   "id": "b296e1b2-288d-41f5-b216-0ca18f5fb4fa",
   "metadata": {},
   "outputs": [
    {
     "name": "stdout",
     "output_type": "stream",
     "text": [
      "1018967040\n"
     ]
    }
   ],
   "source": [
    "# Find product of all numbers in a list\n",
    "\n",
    "values = [5, 6, 7, 2, 3, 3, 3, 3, 6, 78, 8, 8]\n",
    "\n",
    "product = 1\n",
    "\n",
    "for i in values:\n",
    "    product = product * i\n",
    "\n",
    "print(product)"
   ]
  },
  {
   "cell_type": "code",
   "execution_count": 38,
   "id": "a4980bed-39f1-4853-a844-b9df4491e802",
   "metadata": {},
   "outputs": [
    {
     "name": "stdout",
     "output_type": "stream",
     "text": [
      "11.0\n"
     ]
    }
   ],
   "source": [
    "# Find average of all numbers in a list\n",
    "\n",
    "values = [5, 6, 7, 2, 3, 3, 3, 3, 6, 78, 8, 8]\n",
    "\n",
    "# getting sum\n",
    "total = 0\n",
    "for i in values:\n",
    "    total = total + i\n",
    "\n",
    "# getting len\n",
    "nos = len(values)\n",
    "\n",
    "# finding the average\n",
    "avg = total / nos\n",
    "\n",
    "# print avg\n",
    "print(avg)"
   ]
  },
  {
   "cell_type": "code",
   "execution_count": 48,
   "id": "9e9acd44-2d96-4791-9eb4-d6632069f399",
   "metadata": {},
   "outputs": [
    {
     "name": "stdin",
     "output_type": "stream",
     "text": [
      "Enter a year to check leap or not:  2000\n"
     ]
    },
    {
     "name": "stdout",
     "output_type": "stream",
     "text": [
      "Year 2000 a leap\n"
     ]
    }
   ],
   "source": [
    "# Write a program to check given year is leap or not\n",
    "# if year having 366 days then its leap else not a leap\n",
    "\n",
    "\n",
    "inputYear = int(input(\"Enter a year to check leap or not: \"))\n",
    "\n",
    "if (inputYear%4 == 0 and inputYear%100 != 0) or (inputYear%400 == 0):\n",
    "    print(f\"Year {inputYear} a leap\")\n",
    "else:\n",
    "    print(f\"Year {inputYear} is not leap\")"
   ]
  },
  {
   "cell_type": "markdown",
   "id": "1cc740d4-d2ff-4be8-92d3-e3df3b99df51",
   "metadata": {},
   "source": [
    "Take two numbers as input and print the result after swapping them (Create with and without temporary variable)"
   ]
  },
  {
   "cell_type": "code",
   "execution_count": 52,
   "id": "48c56798-d6fe-4d0f-ab0e-d3c8ca2aa8ec",
   "metadata": {},
   "outputs": [],
   "source": [
    "a = 4\n",
    "b = 6"
   ]
  },
  {
   "cell_type": "code",
   "execution_count": 54,
   "id": "06863fe9-40d8-4a96-b926-5d6bea23e22e",
   "metadata": {},
   "outputs": [
    {
     "name": "stdout",
     "output_type": "stream",
     "text": [
      "Before swapping a is 4\n",
      "Before swapping b is 6\n",
      "After swapping a is 6\n",
      "After swapping b is 4\n"
     ]
    }
   ],
   "source": [
    "# with temporary variable\n",
    "\n",
    "a = 4\n",
    "b = 6\n",
    "print(\"Before swapping a is\", a)\n",
    "print(\"Before swapping b is\", b)\n",
    "\n",
    "temp = a #temp got 4\n",
    "a = b #a got 6\n",
    "b = temp #b got 4\n",
    "\n",
    "print(\"After swapping a is\", a)\n",
    "print(\"After swapping b is\", b)"
   ]
  },
  {
   "cell_type": "code",
   "execution_count": 56,
   "id": "0bc6738b-1252-441e-a88f-9955043930b2",
   "metadata": {},
   "outputs": [
    {
     "name": "stdout",
     "output_type": "stream",
     "text": [
      "Before swapping a is 4\n",
      "Before swapping b is 6\n",
      "After swapping a is 6\n",
      "After swapping b is 4\n"
     ]
    }
   ],
   "source": [
    "# without temporary variable\n",
    "\n",
    "a = 4\n",
    "b = 6\n",
    "print(\"Before swapping a is\", a)\n",
    "print(\"Before swapping b is\", b)\n",
    "\n",
    "# direct swapping\n",
    "a, b = b, a\n",
    "\n",
    "print(\"After swapping a is\", a)\n",
    "print(\"After swapping b is\", b)"
   ]
  },
  {
   "cell_type": "code",
   "execution_count": 57,
   "id": "46d15f99-4de4-4a2a-b48c-102a59b228a6",
   "metadata": {},
   "outputs": [],
   "source": [
    "# Write a program to accept a string from the user and\n",
    "# display characters that are present at an even index number.\n",
    "\n",
    "\n",
    "# P Y T H O N\n",
    "# 0 1 2 3 4 5\n",
    "\n",
    "#output\n",
    "\n",
    "#P, T, O\n",
    "\n",
    "\n",
    "strings = \"PYTHON\""
   ]
  },
  {
   "cell_type": "code",
   "execution_count": 58,
   "id": "12c33a14-f8bb-47af-bb90-076b744e9c4f",
   "metadata": {},
   "outputs": [
    {
     "data": {
      "text/plain": [
       "6"
      ]
     },
     "execution_count": 58,
     "metadata": {},
     "output_type": "execute_result"
    }
   ],
   "source": [
    "len(strings)"
   ]
  },
  {
   "cell_type": "code",
   "execution_count": 60,
   "id": "8887daf5-fe72-4c22-be4e-a39392dfcc00",
   "metadata": {},
   "outputs": [
    {
     "name": "stdout",
     "output_type": "stream",
     "text": [
      "P\n",
      "T\n",
      "O\n"
     ]
    }
   ],
   "source": [
    "for i in range(len(strings)):\n",
    "    if i%2==0:\n",
    "        print(strings[i])"
   ]
  },
  {
   "cell_type": "code",
   "execution_count": 61,
   "id": "dd63237f-e1ef-41d8-9247-676f605ae823",
   "metadata": {},
   "outputs": [
    {
     "name": "stdin",
     "output_type": "stream",
     "text": [
      "Enter a String:  Vinay\n"
     ]
    },
    {
     "name": "stdout",
     "output_type": "stream",
     "text": [
      "V\n",
      "n\n",
      "y\n"
     ]
    }
   ],
   "source": [
    "askString = input(\"Enter a String: \")\n",
    "for i in range(len(askString)):\n",
    "    if i%2==0:\n",
    "        print(askString[i])"
   ]
  },
  {
   "cell_type": "code",
   "execution_count": 64,
   "id": "ceb775da-39c4-4073-a706-1aad72c7b324",
   "metadata": {},
   "outputs": [],
   "source": [
    "# Write a program to accept five names from the user and store it in a Tuple 'T1'"
   ]
  },
  {
   "cell_type": "code",
   "execution_count": 66,
   "id": "d3de887e-7942-4ebb-a800-8f658f2afd02",
   "metadata": {},
   "outputs": [
    {
     "name": "stdin",
     "output_type": "stream",
     "text": [
      "Enter total names you want to store inside Tuple:  3\n",
      "Enter 1 name: Rama\n",
      "Enter 2 name: Sita\n",
      "Enter 3 name: Hanuman\n"
     ]
    },
    {
     "name": "stdout",
     "output_type": "stream",
     "text": [
      "('Rama', 'Sita', 'Hanuman')\n"
     ]
    }
   ],
   "source": [
    "number_of_name = int(input(\"Enter total names you want to store inside Tuple: \"))\n",
    "\n",
    "names = []\n",
    "\n",
    "for i in range(number_of_name):\n",
    "    currentName = input(f\"Enter {i+1} name:\")\n",
    "    names.append(currentName)\n",
    "\n",
    "t1 = tuple(names)\n",
    "\n",
    "print(t1)"
   ]
  },
  {
   "cell_type": "code",
   "execution_count": 71,
   "id": "2b6ddc54-9857-4504-a45b-69d672e3bb3e",
   "metadata": {},
   "outputs": [],
   "source": [
    "# Calculate and display the sum of all the numbers divisible by 7 between 18 and 534.\n",
    "\n",
    "num_18_534_div7 = [i for i in range(18,535) if i%7==0]"
   ]
  },
  {
   "cell_type": "code",
   "execution_count": 73,
   "id": "c0f909f6-f131-4c2b-ade8-72be8c50b2da",
   "metadata": {},
   "outputs": [
    {
     "data": {
      "text/plain": [
       "74"
      ]
     },
     "execution_count": 73,
     "metadata": {},
     "output_type": "execute_result"
    }
   ],
   "source": [
    "len(num_18_534_div7)"
   ]
  },
  {
   "cell_type": "markdown",
   "id": "5ea8aca0-43dc-42df-beca-4ef42b70e9e9",
   "metadata": {},
   "source": [
    "Write a program to take two-word string and returns True if both words begin with same letter and returns False if both words begin with different letter"
   ]
  },
  {
   "cell_type": "code",
   "execution_count": 74,
   "id": "726d3b18-dbd1-4022-91f2-950b983561d0",
   "metadata": {},
   "outputs": [
    {
     "name": "stdin",
     "output_type": "stream",
     "text": [
      "Enter First Word:  Rihanna\n",
      "Enter Second Word:  Rohan\n"
     ]
    },
    {
     "name": "stdout",
     "output_type": "stream",
     "text": [
      "True\n"
     ]
    }
   ],
   "source": [
    "firstWord = input(\"Enter First Word: \").lower()\n",
    "secondWord = input(\"Enter Second Word: \").lower()\n",
    "\n",
    "if firstWord[0] == secondWord[0]:\n",
    "    print(True)\n",
    "else:\n",
    "    print(False)"
   ]
  },
  {
   "cell_type": "code",
   "execution_count": 75,
   "id": "83be016d-dc9f-4afd-8662-c8b311f5e2fe",
   "metadata": {},
   "outputs": [
    {
     "name": "stdin",
     "output_type": "stream",
     "text": [
      "Enter First Word:  Vinay\n",
      "Enter Second Word:  Manohar\n"
     ]
    },
    {
     "name": "stdout",
     "output_type": "stream",
     "text": [
      "False\n"
     ]
    }
   ],
   "source": [
    "firstWord = input(\"Enter First Word: \").lower()\n",
    "secondWord = input(\"Enter Second Word: \").lower()\n",
    "\n",
    "if firstWord[0] == secondWord[0]:\n",
    "    print(True)\n",
    "else:\n",
    "    print(False)"
   ]
  },
  {
   "cell_type": "markdown",
   "id": "17bac1a9-9f4a-4a6c-82fe-dfacae4f6e8d",
   "metadata": {},
   "source": [
    "Write a program to iterate the first 10 numbers and in each iteration, print the sum of the current and previous number."
   ]
  },
  {
   "cell_type": "raw",
   "id": "c882a71a-71e3-42a0-b417-c88e22b0d880",
   "metadata": {},
   "source": [
    "0 + 0 = \n",
    "1 + 0\n",
    "2 + 1\n",
    "3 + 2\n",
    "4 + 3\n",
    "5\n",
    "6\n",
    "7\n",
    "8\n",
    "9 + 8"
   ]
  },
  {
   "cell_type": "code",
   "execution_count": 87,
   "id": "8b684fbf-6185-4551-9e62-995fa9db3e94",
   "metadata": {},
   "outputs": [
    {
     "name": "stdout",
     "output_type": "stream",
     "text": [
      "Current Number 0, Previous number 0, Total 0\n",
      "Current Number 1, Previous number 0, Total 1\n",
      "Current Number 2, Previous number 1, Total 3\n",
      "Current Number 3, Previous number 2, Total 5\n",
      "Current Number 4, Previous number 3, Total 7\n",
      "Current Number 5, Previous number 4, Total 9\n",
      "Current Number 6, Previous number 5, Total 11\n",
      "Current Number 7, Previous number 6, Total 13\n",
      "Current Number 8, Previous number 7, Total 15\n",
      "Current Number 9, Previous number 8, Total 17\n"
     ]
    }
   ],
   "source": [
    "previous = 0\n",
    "for i in range(10):\n",
    "    total = i + previous\n",
    "    print(f\"Current Number {i}, Previous number {previous}, Total {total}\")\n",
    "    previous = i"
   ]
  },
  {
   "cell_type": "markdown",
   "id": "86c05fc8-bd3e-432f-89a9-328b17cdb91b",
   "metadata": {},
   "source": [
    "Write a program to take a list as input containing results of 10 coin tosses as 'H' or 'T'. Jon gets a point for each 'T' and Tom gets a point for each 'H'. print the points recieved by both."
   ]
  },
  {
   "cell_type": "raw",
   "id": "5d2f0fa7-5f3e-4a12-9131-d29de4b9f052",
   "metadata": {},
   "source": [
    "ten time toss \n",
    "\n",
    "{H, H, T, H, T, T, T ,T, H, T}\n",
    "\n",
    "T = 6\n",
    "H = 4\n",
    "\n",
    "john got 6 points\n",
    "tom got 4 points\n",
    "\n",
    "john won"
   ]
  },
  {
   "cell_type": "code",
   "execution_count": 88,
   "id": "cfb6f72e-09d7-4334-a540-eb30547b319b",
   "metadata": {},
   "outputs": [],
   "source": [
    "import random"
   ]
  },
  {
   "cell_type": "code",
   "execution_count": 100,
   "id": "71eeead7-662c-40fd-9584-4ee201b7fd0f",
   "metadata": {},
   "outputs": [
    {
     "data": {
      "text/plain": [
       "'T'"
      ]
     },
     "execution_count": 100,
     "metadata": {},
     "output_type": "execute_result"
    }
   ],
   "source": [
    "faces = ['H', 'T']\n",
    "\n",
    "flipped = random.choice(faces)\n",
    "flipped"
   ]
  },
  {
   "cell_type": "code",
   "execution_count": 117,
   "id": "b475378b-ce9c-42db-a044-7e34d275c879",
   "metadata": {},
   "outputs": [
    {
     "name": "stdout",
     "output_type": "stream",
     "text": [
      "['T', 'H', 'H', 'T', 'T', 'T', 'T', 'H', 'H', 'T']\n"
     ]
    }
   ],
   "source": [
    "outcomes = []\n",
    "for i in range(10):\n",
    "    flipped = random.choice(faces)\n",
    "    outcomes.append(flipped)\n",
    "print(outcomes)"
   ]
  },
  {
   "cell_type": "code",
   "execution_count": 120,
   "id": "87784a59-d786-4ef9-ac21-48a572ec6c60",
   "metadata": {},
   "outputs": [],
   "source": [
    "johnscore = outcomes.count('T')\n",
    "tomscore = outcomes.count('H')"
   ]
  },
  {
   "cell_type": "code",
   "execution_count": 121,
   "id": "719fb628-640c-4a60-95a0-ac93f6a24aa6",
   "metadata": {},
   "outputs": [
    {
     "name": "stdout",
     "output_type": "stream",
     "text": [
      "John won with score of 6\n"
     ]
    }
   ],
   "source": [
    "if johnscore > tomscore:\n",
    "    print(f\"John won with score of {johnscore}\")\n",
    "else:\n",
    "    print(f\"Tom won with score of {tomscore}\")"
   ]
  },
  {
   "cell_type": "code",
   "execution_count": 136,
   "id": "6c4fac4f-9bc0-4baa-98a1-4e473b69c8d5",
   "metadata": {},
   "outputs": [
    {
     "name": "stdout",
     "output_type": "stream",
     "text": [
      "Tie between John and Tom with score of 5 \n"
     ]
    }
   ],
   "source": [
    "import random\n",
    "faces = ['H', 'T']\n",
    "outcomes = []\n",
    "for i in range(10):\n",
    "    flipped = random.choice(faces)\n",
    "    outcomes.append(flipped)\n",
    "\n",
    "johnscore = outcomes.count('T')\n",
    "tomscore = outcomes.count('H')\n",
    "\n",
    "if johnscore > tomscore:\n",
    "    print(f\"John won with score of {johnscore}\")\n",
    "elif johnscore == tomscore:\n",
    "    print(f\"Tie between John and Tom with score of {johnscore} \")\n",
    "else:\n",
    "    print(f\"Tom won with score of {tomscore}\")"
   ]
  },
  {
   "cell_type": "markdown",
   "id": "e5e3b9a6-826f-4023-9c69-66455fd03e40",
   "metadata": {},
   "source": [
    "Take a list as input in a single line containing 10 numbers as marks out of 100. The even positions in the list are marks of Tom and the odd positions are the marks of Jon. Calculate the average marks of both"
   ]
  },
  {
   "cell_type": "code",
   "execution_count": 140,
   "id": "2f93fd85-9e3c-46f6-a35d-147270f70673",
   "metadata": {},
   "outputs": [],
   "source": [
    "marks = [89, 78, 78, 90, 99, 67, 87, 56, 90, 99]\n",
    "Tom = []\n",
    "Jon = []"
   ]
  },
  {
   "cell_type": "code",
   "execution_count": 141,
   "id": "b691c601-4bd4-47a6-84e7-100de363c251",
   "metadata": {},
   "outputs": [],
   "source": [
    "for i in range(len(marks)):\n",
    "    if i%2==0:\n",
    "        Tom.append(marks[i])\n",
    "    else:\n",
    "        Jon.append(marks[i])"
   ]
  },
  {
   "cell_type": "code",
   "execution_count": 142,
   "id": "36acd0c2-f183-49c8-a56d-8c4585c55f14",
   "metadata": {},
   "outputs": [
    {
     "data": {
      "text/plain": [
       "[89, 78, 99, 87, 90]"
      ]
     },
     "execution_count": 142,
     "metadata": {},
     "output_type": "execute_result"
    }
   ],
   "source": [
    "Tom"
   ]
  },
  {
   "cell_type": "code",
   "execution_count": 143,
   "id": "9b17c9c5-9bb2-4632-9d15-b5134706520f",
   "metadata": {},
   "outputs": [
    {
     "data": {
      "text/plain": [
       "[78, 90, 67, 56, 99]"
      ]
     },
     "execution_count": 143,
     "metadata": {},
     "output_type": "execute_result"
    }
   ],
   "source": [
    "Jon"
   ]
  },
  {
   "cell_type": "code",
   "execution_count": 144,
   "id": "66ed782e-9a63-416e-886a-91b6e3437b50",
   "metadata": {},
   "outputs": [
    {
     "name": "stdout",
     "output_type": "stream",
     "text": [
      "88.6\n"
     ]
    }
   ],
   "source": [
    "values = Tom\n",
    "\n",
    "# getting sum\n",
    "total = 0\n",
    "for i in values:\n",
    "    total = total + i\n",
    "\n",
    "# getting len\n",
    "nos = len(values)\n",
    "\n",
    "# finding the average\n",
    "avg = total / nos\n",
    "\n",
    "# print avg\n",
    "print(avg)"
   ]
  },
  {
   "cell_type": "code",
   "execution_count": 145,
   "id": "ed5bb2d5-0710-4937-8328-f3cffc36e28d",
   "metadata": {},
   "outputs": [
    {
     "name": "stdout",
     "output_type": "stream",
     "text": [
      "78.0\n"
     ]
    }
   ],
   "source": [
    "values = Jon\n",
    "\n",
    "# getting sum\n",
    "total = 0\n",
    "for i in values:\n",
    "    total = total + i\n",
    "\n",
    "# getting len\n",
    "nos = len(values)\n",
    "\n",
    "# finding the average\n",
    "avg = total / nos\n",
    "\n",
    "# print avg\n",
    "print(avg)"
   ]
  },
  {
   "cell_type": "code",
   "execution_count": 146,
   "id": "d89c9ee1-21d0-49d5-aa56-5329555ecd22",
   "metadata": {},
   "outputs": [],
   "source": [
    "# Take a string as input and count the occurance of each letter and store in dictionary"
   ]
  },
  {
   "cell_type": "code",
   "execution_count": 148,
   "id": "cf5da3b0-5b4c-4a01-b780-afa520146755",
   "metadata": {},
   "outputs": [
    {
     "name": "stdout",
     "output_type": "stream",
     "text": [
      "{'a': 1, 'p': 2, 'l': 1, 'e': 1}\n"
     ]
    }
   ],
   "source": [
    "from collections import Counter\n",
    "\n",
    "word = 'apple'\n",
    "\n",
    "counted = dict(Counter(word))\n",
    "\n",
    "print(counted)"
   ]
  },
  {
   "cell_type": "markdown",
   "id": "3407588b-4605-4e6f-b2e0-8479d59fcb28",
   "metadata": {},
   "source": [
    "Take a string as input(may contain repetitive words), print a list consisting of unique words from the given string."
   ]
  },
  {
   "cell_type": "code",
   "execution_count": 149,
   "id": "8004f041-8a46-4b8d-9fa6-c7468c617ca5",
   "metadata": {},
   "outputs": [],
   "source": [
    "inList = ['Apple', 'Apple', 'Banana', 'Jackfruit']"
   ]
  },
  {
   "cell_type": "code",
   "execution_count": 154,
   "id": "61b501db-7951-4fab-bc42-9eccc285f675",
   "metadata": {},
   "outputs": [
    {
     "data": {
      "text/plain": [
       "['Banana', 'Apple', 'Jackfruit']"
      ]
     },
     "execution_count": 154,
     "metadata": {},
     "output_type": "execute_result"
    }
   ],
   "source": [
    "unique = list(set(inList))\n",
    "unique"
   ]
  },
  {
   "cell_type": "code",
   "execution_count": 159,
   "id": "3ecc7d43-678e-4a4b-8f54-8da859f40634",
   "metadata": {},
   "outputs": [
    {
     "name": "stdout",
     "output_type": "stream",
     "text": [
      "100\n"
     ]
    }
   ],
   "source": [
    "#Take four numbers as input in a single line. Find out the largest number.\n",
    "\n",
    "num = [67, 0, 42, 100]\n",
    "\n",
    "largest = num[0]\n",
    "\n",
    "for i in num:\n",
    "    if i > largest:\n",
    "        largest = i\n",
    "print(largest)"
   ]
  },
  {
   "cell_type": "code",
   "execution_count": 164,
   "id": "1aa1fe91-ac6f-4aa1-ac8d-65c11c2bc845",
   "metadata": {},
   "outputs": [
    {
     "name": "stdout",
     "output_type": "stream",
     "text": [
      "67\n"
     ]
    }
   ],
   "source": [
    "#Take four numbers as input and find the second largest numer.\n",
    "\n",
    "num = [67, 0, 42, 100]\n",
    "\n",
    "sortedlist = sorted(num, reverse=True)\n",
    "\n",
    "secondlargest = sortedlist[1]\n",
    "\n",
    "print(secondlargest)"
   ]
  },
  {
   "cell_type": "raw",
   "id": "40a5aa6a-ff4d-485d-bc08-a9a85cf11ca9",
   "metadata": {},
   "source": [
    "#Write a program to take four strings as input and print the string having third highest number of words.\n",
    "\n",
    "'Vinay', 'hi', 'Hell', 'pythonic'\n",
    "\n",
    "'pythonic'  'Vinay'  'Hell'   'hi'"
   ]
  },
  {
   "cell_type": "code",
   "execution_count": 180,
   "id": "b3062377-8ab0-48ae-9aee-aeeda6382136",
   "metadata": {},
   "outputs": [
    {
     "data": {
      "text/plain": [
       "'Hell'"
      ]
     },
     "execution_count": 180,
     "metadata": {},
     "output_type": "execute_result"
    }
   ],
   "source": [
    "words = ['Vinay', 'hi', 'Hell', 'pythonic']\n",
    "sorted(words, reverse=True, key=len)[2]"
   ]
  }
 ],
 "metadata": {
  "kernelspec": {
   "display_name": "Python 3 (ipykernel)",
   "language": "python",
   "name": "python3"
  },
  "language_info": {
   "codemirror_mode": {
    "name": "ipython",
    "version": 3
   },
   "file_extension": ".py",
   "mimetype": "text/x-python",
   "name": "python",
   "nbconvert_exporter": "python",
   "pygments_lexer": "ipython3",
   "version": "3.12.4"
  }
 },
 "nbformat": 4,
 "nbformat_minor": 5
}
