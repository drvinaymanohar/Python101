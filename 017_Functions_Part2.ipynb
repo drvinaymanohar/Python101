{
 "cells": [
  {
   "cell_type": "code",
   "execution_count": null,
   "id": "eae0ff77-f42b-4ee3-9355-e60f673a43b4",
   "metadata": {},
   "outputs": [],
   "source": [
    "# Structure of the Functions"
   ]
  },
  {
   "cell_type": "code",
   "execution_count": null,
   "id": "67be17fb-d791-4940-94e8-1444f46f879a",
   "metadata": {},
   "outputs": [],
   "source": [
    "# Defining"
   ]
  },
  {
   "cell_type": "code",
   "execution_count": null,
   "id": "16401690-9e19-4e5d-8883-0b35542fca34",
   "metadata": {},
   "outputs": [],
   "source": [
    "# Call"
   ]
  },
  {
   "cell_type": "code",
   "execution_count": null,
   "id": "fdd70300-f872-4e89-bec3-d376830c4fc9",
   "metadata": {},
   "outputs": [],
   "source": [
    "# Function with Parameter"
   ]
  },
  {
   "cell_type": "code",
   "execution_count": null,
   "id": "e3eba036-3128-4c5e-aebd-0c265ac627c1",
   "metadata": {},
   "outputs": [],
   "source": [
    "# Function with print"
   ]
  },
  {
   "cell_type": "code",
   "execution_count": null,
   "id": "13697ad5-13e1-4e4e-a658-fe2c37337cc2",
   "metadata": {},
   "outputs": [],
   "source": [
    "# Function with Multiple Parameter"
   ]
  },
  {
   "cell_type": "code",
   "execution_count": null,
   "id": "d4b79c02-def5-4cd5-9704-6c6988ec655f",
   "metadata": {},
   "outputs": [],
   "source": [
    "# Arguments----> The value that we pass to a function"
   ]
  },
  {
   "cell_type": "code",
   "execution_count": null,
   "id": "eadb03c7-c299-4691-abf6-26d0a741e20f",
   "metadata": {},
   "outputs": [],
   "source": [
    "# Types of arguments"
   ]
  },
  {
   "cell_type": "code",
   "execution_count": null,
   "id": "5364e30b-fedb-4d6f-b0dd-b2b8e9532e11",
   "metadata": {},
   "outputs": [],
   "source": [
    "# positional, no need to mention parameter name, directly give arguments"
   ]
  },
  {
   "cell_type": "code",
   "execution_count": null,
   "id": "381b83ec-6c13-460c-a829-37eaa44bedd3",
   "metadata": {},
   "outputs": [],
   "source": [
    "# Keyworded \"parametername\" = \"arguments\""
   ]
  },
  {
   "cell_type": "code",
   "execution_count": null,
   "id": "ba04d91c-4eb5-49dc-a959-9058cd72e951",
   "metadata": {},
   "outputs": [],
   "source": [
    "# Default "
   ]
  },
  {
   "cell_type": "code",
   "execution_count": null,
   "id": "0e67210a-0216-44f8-bd2b-addb54bab181",
   "metadata": {},
   "outputs": [],
   "source": [
    "# Print vs Return"
   ]
  },
  {
   "cell_type": "code",
   "execution_count": null,
   "id": "fee619df-1bed-4d68-9861-7a7da9aafc16",
   "metadata": {},
   "outputs": [],
   "source": [
    "# Multiple Return (output in the form of TUPLE)"
   ]
  },
  {
   "cell_type": "code",
   "execution_count": null,
   "id": "17131b1c-4a42-4c52-bf33-4a216221dc6c",
   "metadata": {},
   "outputs": [],
   "source": [
    "# Unpacking of Returned Value from TUPLE"
   ]
  },
  {
   "cell_type": "code",
   "execution_count": null,
   "id": "abb8ca30-c1db-45c1-a802-66980011f7d1",
   "metadata": {},
   "outputs": [],
   "source": []
  },
  {
   "cell_type": "code",
   "execution_count": null,
   "id": "69e75271-5a1f-4c1d-991a-061ddb5cb293",
   "metadata": {},
   "outputs": [],
   "source": [
    "# add two number, function"
   ]
  },
  {
   "cell_type": "code",
   "execution_count": 1,
   "id": "ffed078b-45ad-462d-9ff5-d50c2d16b90c",
   "metadata": {},
   "outputs": [],
   "source": [
    "def addTwoNum(num1, num2):\n",
    "    total = num1 + num2\n",
    "    print(total)\n",
    "    return total"
   ]
  },
  {
   "cell_type": "code",
   "execution_count": 5,
   "id": "d53c8c6d-0b54-4519-91e2-40b07d730235",
   "metadata": {},
   "outputs": [
    {
     "name": "stdout",
     "output_type": "stream",
     "text": [
      "7\n"
     ]
    }
   ],
   "source": [
    "xyz = addTwoNum(3,4)"
   ]
  },
  {
   "cell_type": "code",
   "execution_count": 6,
   "id": "fee39ebf-212f-4bc6-a081-8594a29f9da8",
   "metadata": {},
   "outputs": [
    {
     "data": {
      "text/plain": [
       "7"
      ]
     },
     "execution_count": 6,
     "metadata": {},
     "output_type": "execute_result"
    }
   ],
   "source": [
    "xyz"
   ]
  },
  {
   "cell_type": "code",
   "execution_count": 7,
   "id": "6f617649-5055-4e39-acdf-b28aaefe9f9d",
   "metadata": {},
   "outputs": [],
   "source": [
    "def addThreeNum(a, b, c):\n",
    "    summed = a + b + c\n",
    "    print(summed)\n",
    "    return summed"
   ]
  },
  {
   "cell_type": "code",
   "execution_count": 8,
   "id": "3acbd51e-eab0-4861-b732-c4b4298dac36",
   "metadata": {},
   "outputs": [
    {
     "name": "stdout",
     "output_type": "stream",
     "text": [
      "14\n"
     ]
    },
    {
     "data": {
      "text/plain": [
       "14"
      ]
     },
     "execution_count": 8,
     "metadata": {},
     "output_type": "execute_result"
    }
   ],
   "source": [
    "addThreeNum(3,5,6)"
   ]
  },
  {
   "cell_type": "code",
   "execution_count": 9,
   "id": "5d458695-920e-4d07-b15f-186426126ee2",
   "metadata": {},
   "outputs": [],
   "source": [
    "def sumFiveNum(a,b,c,d,e):\n",
    "    total = a + b + c + d + e\n",
    "    return total"
   ]
  },
  {
   "cell_type": "code",
   "execution_count": null,
   "id": "c21e3483-da29-4c53-be22-29ab198cb385",
   "metadata": {},
   "outputs": [],
   "source": [
    "def sumThousand()"
   ]
  },
  {
   "cell_type": "code",
   "execution_count": null,
   "id": "b32df16e-042d-442c-927f-5ff64d3ab2e7",
   "metadata": {},
   "outputs": [],
   "source": []
  },
  {
   "cell_type": "code",
   "execution_count": 15,
   "id": "89ea3237-b36d-4c80-a029-895945f2bfa1",
   "metadata": {},
   "outputs": [
    {
     "data": {
      "text/plain": [
       "33"
      ]
     },
     "execution_count": 15,
     "metadata": {},
     "output_type": "execute_result"
    }
   ],
   "source": [
    "sum([2,3,4,6,8,10])"
   ]
  },
  {
   "cell_type": "code",
   "execution_count": null,
   "id": "24569b15-3db8-4384-86ef-43ce617378e4",
   "metadata": {},
   "outputs": [],
   "source": []
  },
  {
   "cell_type": "code",
   "execution_count": null,
   "id": "9a7f415c-a4b0-485c-8a35-2aaca7a5d450",
   "metadata": {},
   "outputs": [],
   "source": []
  },
  {
   "cell_type": "code",
   "execution_count": null,
   "id": "866fad1b-feb1-4863-8778-396c878358b5",
   "metadata": {},
   "outputs": [],
   "source": []
  },
  {
   "cell_type": "code",
   "execution_count": null,
   "id": "e3adb39d-b186-4576-a335-d443e70611cd",
   "metadata": {},
   "outputs": [],
   "source": []
  },
  {
   "cell_type": "code",
   "execution_count": null,
   "id": "ea0e3c06-ef35-4c62-8d12-9aadb12db76d",
   "metadata": {},
   "outputs": [],
   "source": []
  },
  {
   "cell_type": "code",
   "execution_count": null,
   "id": "d71cf282-57b4-4ffd-8d53-df0f8e024f48",
   "metadata": {},
   "outputs": [],
   "source": []
  },
  {
   "cell_type": "code",
   "execution_count": null,
   "id": "68dd7bef-4301-465b-a491-a82abf130e0f",
   "metadata": {},
   "outputs": [],
   "source": []
  },
  {
   "cell_type": "code",
   "execution_count": null,
   "id": "efe6a5b3-9c11-49a5-ab47-fbb8af02b7c4",
   "metadata": {},
   "outputs": [],
   "source": []
  },
  {
   "cell_type": "markdown",
   "id": "b53e4f40-e571-4a97-9421-1732e4cc7c36",
   "metadata": {},
   "source": [
    "#### Arbitrary Arguments: *args and **kwargs"
   ]
  },
  {
   "cell_type": "markdown",
   "id": "996bc457-eaf1-433d-90a1-1918cd0ce8fd",
   "metadata": {},
   "source": [
    "Python also allows you to pass a variable number of arguments to a function using `*args` and `**kwargs`. These are known as `arbitrary arguments` and are handy when you don’t know in advance how many arguments you will receive."
   ]
  },
  {
   "cell_type": "code",
   "execution_count": null,
   "id": "28ce7f5e-069b-4c3f-819b-cd1a4dc2e207",
   "metadata": {},
   "outputs": [],
   "source": [
    "# you need to add two numbers, write your codes here"
   ]
  },
  {
   "cell_type": "code",
   "execution_count": null,
   "id": "5a705993-ebd2-4204-8127-61d08ca3cc19",
   "metadata": {},
   "outputs": [],
   "source": [
    "# you need to add three numbers, write your codes here"
   ]
  },
  {
   "cell_type": "code",
   "execution_count": null,
   "id": "f4b44203-1846-4019-91a4-ccab41e34ff2",
   "metadata": {},
   "outputs": [],
   "source": [
    "# you need to add 10 numbers, write your codes here"
   ]
  },
  {
   "cell_type": "code",
   "execution_count": 16,
   "id": "c43d0410-23ee-4e68-a4b0-630e337b15ce",
   "metadata": {},
   "outputs": [],
   "source": [
    "a, *b = 2, 3, 4, 5, 7, 8, 3"
   ]
  },
  {
   "cell_type": "code",
   "execution_count": 17,
   "id": "71491e36-e2a1-4795-9f22-8bfe45915d76",
   "metadata": {},
   "outputs": [
    {
     "data": {
      "text/plain": [
       "2"
      ]
     },
     "execution_count": 17,
     "metadata": {},
     "output_type": "execute_result"
    }
   ],
   "source": [
    "a"
   ]
  },
  {
   "cell_type": "code",
   "execution_count": 18,
   "id": "c57b2840-09ca-4eab-8266-03474df98bef",
   "metadata": {},
   "outputs": [
    {
     "data": {
      "text/plain": [
       "[3, 4, 5, 7, 8, 3]"
      ]
     },
     "execution_count": 18,
     "metadata": {},
     "output_type": "execute_result"
    }
   ],
   "source": [
    "b"
   ]
  },
  {
   "cell_type": "markdown",
   "id": "93035873-14c0-4da5-9fa5-297c40e5355c",
   "metadata": {},
   "source": [
    "#### `*args` parameter or variable-length positional argument"
   ]
  },
  {
   "cell_type": "markdown",
   "id": "bc6596fd-9d4f-4094-ae40-e96d34d99190",
   "metadata": {},
   "source": [
    "- The `*args` parameter allows you to pass a non-keyworded. \n",
    "- Also called as `variable-length argument` list to a function.\n",
    "- This means that you can provide as many positional arguments as you want, and\n",
    "- Arguments passed to *args are packed into a tuple automatically.\n",
    "- You can loop over *args just like a normal tuple."
   ]
  },
  {
   "cell_type": "code",
   "execution_count": null,
   "id": "c02b600f-5f05-49a0-be75-8fee207be501",
   "metadata": {},
   "outputs": [],
   "source": [
    "# *args"
   ]
  },
  {
   "cell_type": "code",
   "execution_count": 19,
   "id": "e0913fb9-06fb-401f-a4b1-ecd3afd7e6a8",
   "metadata": {},
   "outputs": [],
   "source": [
    "def takenum(*collect):\n",
    "    print(collect)"
   ]
  },
  {
   "cell_type": "code",
   "execution_count": 20,
   "id": "50e17fbd-458b-4fb9-b73e-b7eee6dd7df0",
   "metadata": {},
   "outputs": [
    {
     "name": "stdout",
     "output_type": "stream",
     "text": [
      "(2,)\n"
     ]
    }
   ],
   "source": [
    "takenum(2)"
   ]
  },
  {
   "cell_type": "code",
   "execution_count": 21,
   "id": "f7d2eb4a-e1bd-4991-9704-ff09a6205248",
   "metadata": {},
   "outputs": [
    {
     "name": "stdout",
     "output_type": "stream",
     "text": [
      "(2, 3)\n"
     ]
    }
   ],
   "source": [
    "takenum(2,3)"
   ]
  },
  {
   "cell_type": "code",
   "execution_count": 22,
   "id": "60267d96-eb59-4f2d-86df-e82d85a2b00a",
   "metadata": {},
   "outputs": [
    {
     "name": "stdout",
     "output_type": "stream",
     "text": [
      "(2, 3, 5, 6, 7, 8, 9, 2, 3, 5)\n"
     ]
    }
   ],
   "source": [
    "takenum(2,3,5,6,7,8,9,2,3,5)"
   ]
  },
  {
   "cell_type": "code",
   "execution_count": 23,
   "id": "1ae415e4-3180-4ca7-9691-60e73afb3f9e",
   "metadata": {},
   "outputs": [
    {
     "name": "stdout",
     "output_type": "stream",
     "text": [
      "(2, 3, 5, 6, 7, 8, 9, 2, 3, 5, 4, 3, 3, 3, 3, 3, 3, 3, 3, 3, 3, 3, 3, 3, 3, 3, 3, 3, 3, 3, 3)\n"
     ]
    }
   ],
   "source": [
    "takenum(2,3,5,6,7,8,9,2,3,5,4,3,3,3,3,3,3,3,3,3,3,3,3,3,3,3,3,3,3,3,3)"
   ]
  },
  {
   "cell_type": "code",
   "execution_count": 24,
   "id": "cd744dfd-2b9e-45df-9e25-cf85c6d1f1b7",
   "metadata": {},
   "outputs": [],
   "source": [
    "# travering a tuple\n",
    "val = (2,3,5,6,7,8,9,2,3,5,4,3,3,3,3,3,3,3,3,3,3,3,3,3,3,3,3,3,3,3,3)"
   ]
  },
  {
   "cell_type": "code",
   "execution_count": 26,
   "id": "9e38523f-1a12-44fe-a82a-da72ef862a79",
   "metadata": {},
   "outputs": [
    {
     "name": "stdout",
     "output_type": "stream",
     "text": [
      "114\n"
     ]
    }
   ],
   "source": [
    "total = 0\n",
    "for i in val:\n",
    "    total = i + total\n",
    "print(total)"
   ]
  },
  {
   "cell_type": "code",
   "execution_count": 27,
   "id": "f212397e-0e1a-4c9b-bc4e-837f2b309d41",
   "metadata": {},
   "outputs": [],
   "source": [
    "def summation(*args):\n",
    "    total = 0\n",
    "    for i in args:\n",
    "        total = i + total\n",
    "    return total"
   ]
  },
  {
   "cell_type": "code",
   "execution_count": 28,
   "id": "2e689bdb-589e-4776-9eff-16cc4ca37319",
   "metadata": {},
   "outputs": [
    {
     "data": {
      "text/plain": [
       "7"
      ]
     },
     "execution_count": 28,
     "metadata": {},
     "output_type": "execute_result"
    }
   ],
   "source": [
    "summation(3,4)"
   ]
  },
  {
   "cell_type": "code",
   "execution_count": 29,
   "id": "cc9f82ee-b782-400d-a579-a4a97df20f86",
   "metadata": {},
   "outputs": [
    {
     "data": {
      "text/plain": [
       "12"
      ]
     },
     "execution_count": 29,
     "metadata": {},
     "output_type": "execute_result"
    }
   ],
   "source": [
    "summation(3,4,5)"
   ]
  },
  {
   "cell_type": "code",
   "execution_count": 30,
   "id": "2f9ca650-3bf7-4344-8fba-fcd7f5820ab7",
   "metadata": {},
   "outputs": [
    {
     "data": {
      "text/plain": [
       "117"
      ]
     },
     "execution_count": 30,
     "metadata": {},
     "output_type": "execute_result"
    }
   ],
   "source": [
    "summation(3,4,5,5,5,5,5,5,5,5,5,5,5,5,5,5,5,5,5,5,5,5,5,5)"
   ]
  },
  {
   "cell_type": "code",
   "execution_count": null,
   "id": "5e6e80ca-1cc2-4cd9-8885-dbac25c338ef",
   "metadata": {},
   "outputs": [],
   "source": []
  },
  {
   "cell_type": "code",
   "execution_count": 31,
   "id": "fcff6933-bbe8-4955-a42e-b4bb404a4f6d",
   "metadata": {},
   "outputs": [],
   "source": [
    "# use of built-in function sum() within our custom function to sum all numbers\n",
    "def sum_numbers(*args):\n",
    "    total = sum(args)\n",
    "    return total"
   ]
  },
  {
   "cell_type": "code",
   "execution_count": 32,
   "id": "3342b4c5-ca23-4a2c-9deb-a15b5a7eee64",
   "metadata": {},
   "outputs": [
    {
     "data": {
      "text/plain": [
       "13"
      ]
     },
     "execution_count": 32,
     "metadata": {},
     "output_type": "execute_result"
    }
   ],
   "source": [
    "sum_numbers(2,5,6)"
   ]
  },
  {
   "cell_type": "code",
   "execution_count": 33,
   "id": "5d8021f5-87bc-4f47-8630-c8944d042709",
   "metadata": {},
   "outputs": [
    {
     "data": {
      "text/plain": [
       "39"
      ]
     },
     "execution_count": 33,
     "metadata": {},
     "output_type": "execute_result"
    }
   ],
   "source": [
    "sum_numbers(2,5,6,8,9,9)"
   ]
  },
  {
   "cell_type": "code",
   "execution_count": 34,
   "id": "6c592e96-0210-445d-a9ac-9b5835e68e04",
   "metadata": {},
   "outputs": [
    {
     "data": {
      "text/plain": [
       "131"
      ]
     },
     "execution_count": 34,
     "metadata": {},
     "output_type": "execute_result"
    }
   ],
   "source": [
    "sum_numbers(2,5,6,8,9,9,4,4,4,4,4,4,4,4,4,4,4,4,4,4,4,4,4,4,4,4,4,4,4)"
   ]
  },
  {
   "cell_type": "markdown",
   "id": "1a35e1dc-27f4-4ac6-a574-474270fecea6",
   "metadata": {},
   "source": [
    "#### `**kwargs` parameter or variable-length keyword argument"
   ]
  },
  {
   "cell_type": "markdown",
   "id": "4173f0e3-6045-4c23-9776-20d096223433",
   "metadata": {},
   "source": [
    "- `**kwargs` allows you to pass keyworded, variable-length arguments to a function.\n",
    "- `**kwargs` provides flexibility in functions that need to accept an arbitrary number of keyword arguments.\n",
    "- It's useful when you don’t know the specific keyword arguments in advance.\n",
    "- These arguments are grouped into a dictionary, which you can process inside the function."
   ]
  },
  {
   "cell_type": "code",
   "execution_count": 43,
   "id": "76c9ed3e-fcca-4458-8d7b-49a77af91384",
   "metadata": {},
   "outputs": [],
   "source": [
    "def collector(**kwargs):\n",
    "    print(kwargs)"
   ]
  },
  {
   "cell_type": "code",
   "execution_count": 44,
   "id": "8e1900fa-8629-4d1d-852f-bc28ad0940b3",
   "metadata": {},
   "outputs": [
    {
     "name": "stdout",
     "output_type": "stream",
     "text": [
      "{'Name': 'Vinay', 'Age': 32, 'Place': 'Bangalore'}\n"
     ]
    }
   ],
   "source": [
    "collector(Name = 'Vinay', Age = 32, Place = 'Bangalore')"
   ]
  },
  {
   "cell_type": "code",
   "execution_count": 45,
   "id": "057f7bfe-161c-4591-9eef-d29fdcc8da24",
   "metadata": {},
   "outputs": [],
   "source": [
    "def customer(**kwargs):\n",
    "    for key, value in kwargs.items():\n",
    "        print(f\"{key}: {value}\")"
   ]
  },
  {
   "cell_type": "code",
   "execution_count": 46,
   "id": "41ad173c-277e-477e-baed-a547084c342a",
   "metadata": {},
   "outputs": [
    {
     "name": "stdout",
     "output_type": "stream",
     "text": [
      "Name: Vinay\n",
      "Age: 32\n",
      "Place: Bangalore\n"
     ]
    }
   ],
   "source": [
    "customer(Name = 'Vinay', Age = 32, Place = 'Bangalore')"
   ]
  },
  {
   "cell_type": "code",
   "execution_count": null,
   "id": "b0419d0e-b037-495f-8fd1-fdc1f7c22a0e",
   "metadata": {},
   "outputs": [],
   "source": [
    "# create a dict"
   ]
  },
  {
   "cell_type": "code",
   "execution_count": 48,
   "id": "8d8b87a4-5622-4d98-915c-d83f6979df45",
   "metadata": {},
   "outputs": [],
   "source": [
    "def participants(**kwargs):\n",
    "    return kwargs"
   ]
  },
  {
   "cell_type": "code",
   "execution_count": 51,
   "id": "d4753e7e-8d63-486c-bccb-4e4521d87778",
   "metadata": {},
   "outputs": [],
   "source": [
    "collectedData = participants(Name = 'Vinay', Age = 32, Place = 'Bangalore', Mobile = 9060486010)"
   ]
  },
  {
   "cell_type": "code",
   "execution_count": 52,
   "id": "9367e569-dd96-4d8c-bd51-618e06ee3f6e",
   "metadata": {},
   "outputs": [
    {
     "name": "stdout",
     "output_type": "stream",
     "text": [
      "{'Name': 'Vinay', 'Age': 32, 'Place': 'Bangalore', 'Mobile': 9060486010}\n"
     ]
    }
   ],
   "source": [
    "print(collectedData)"
   ]
  },
  {
   "cell_type": "code",
   "execution_count": 59,
   "id": "d1df1ea0-6ad0-4349-8de7-3188e05ebe7d",
   "metadata": {},
   "outputs": [],
   "source": [
    "masterDatabase = []"
   ]
  },
  {
   "cell_type": "code",
   "execution_count": null,
   "id": "2a07726c-9277-4450-ad00-ad440f37d07c",
   "metadata": {},
   "outputs": [],
   "source": []
  },
  {
   "cell_type": "code",
   "execution_count": 71,
   "id": "3240aaa6-7e86-4b1b-8c3a-071f4cd383b6",
   "metadata": {},
   "outputs": [
    {
     "name": "stdin",
     "output_type": "stream",
     "text": [
      "Enter Name:  Donald Trump\n",
      "Enter Age:  70\n",
      "Enter Place:  USA\n",
      "Enter Mobile Number:  98382837332\n"
     ]
    },
    {
     "name": "stdout",
     "output_type": "stream",
     "text": [
      "Give data is Donald Trump, 70, USA\n"
     ]
    }
   ],
   "source": [
    "inputName = input(\"Enter Name: \")\n",
    "inputAge = int(input(\"Enter Age: \"))\n",
    "inputPlace = input(\"Enter Place: \")\n",
    "inputMobile = int(input(\"Enter Mobile Number: \"))\n",
    "print(f\"Give data is {inputName}, {inputAge}, {inputPlace}\")\n",
    "\n",
    "collectedData = participants(Name = inputName, Age = inputAge, Place = inputPlace, Mobile = inputMobile)\n",
    "\n",
    "masterDatabase.append(collectedData)"
   ]
  },
  {
   "cell_type": "code",
   "execution_count": 72,
   "id": "a25ebe66-5eb6-4aad-980b-be1600edc047",
   "metadata": {},
   "outputs": [
    {
     "data": {
      "text/plain": [
       "[{'Name': 'Vinay', 'Age': 32, 'Place': 'Bangalore'},\n",
       " {'Name': 'Sony', 'Age': 32, 'Place': 'Bangalore'},\n",
       " {'Name': 'Anithaba', 'Age': 25, 'Place': 'West Bengal'},\n",
       " {'Name': 'Sanjay', 'Age': 26, 'Place': 'Karnataka'},\n",
       " {'Name': 'Narendra Modi', 'Age': 75, 'Place': 'Gujarath', 'Mobile': None},\n",
       " {'Name': 'Donald Trump', 'Age': 70, 'Place': 'USA', 'Mobile': 98382837332}]"
      ]
     },
     "execution_count": 72,
     "metadata": {},
     "output_type": "execute_result"
    }
   ],
   "source": [
    "masterDatabase"
   ]
  },
  {
   "cell_type": "code",
   "execution_count": 76,
   "id": "ceed6285-70e1-4f79-a83b-34744bbc0780",
   "metadata": {},
   "outputs": [],
   "source": [
    "masterDatabase[-1]['Name'] = 'Donaldo Trump'"
   ]
  },
  {
   "cell_type": "code",
   "execution_count": 77,
   "id": "dcd0e9d6-1837-4862-a922-1501b8a4798d",
   "metadata": {},
   "outputs": [
    {
     "data": {
      "text/plain": [
       "[{'Name': 'Vinay', 'Age': 32, 'Place': 'Bangalore'},\n",
       " {'Name': 'Sony', 'Age': 32, 'Place': 'Bangalore'},\n",
       " {'Name': 'Anithaba', 'Age': 25, 'Place': 'West Bengal'},\n",
       " {'Name': 'Sanjay', 'Age': 26, 'Place': 'Karnataka'},\n",
       " {'Name': 'Narendra Modi', 'Age': 75, 'Place': 'Gujarath', 'Mobile': None},\n",
       " {'Name': 'Donaldo Trump', 'Age': 70, 'Place': 'USA', 'Mobile': 98382837332}]"
      ]
     },
     "execution_count": 77,
     "metadata": {},
     "output_type": "execute_result"
    }
   ],
   "source": [
    "masterDatabase"
   ]
  },
  {
   "cell_type": "markdown",
   "id": "03ba2bb4-4e43-4b3d-944d-d7eac604cfea",
   "metadata": {},
   "source": [
    "#### Combining `*args` with Other Parameters"
   ]
  },
  {
   "cell_type": "markdown",
   "id": "b435db9f-8b77-46ba-a5c6-f92f2943fc0d",
   "metadata": {},
   "source": [
    "- You can combine `*args` with other normal parameters in a function\n",
    "- but `*args` must appear after the normal parameters."
   ]
  },
  {
   "cell_type": "code",
   "execution_count": 90,
   "id": "f94c916e-6760-4d3a-946e-3b42cca1607b",
   "metadata": {},
   "outputs": [],
   "source": [
    "# position arguments should come first, then pass your arbitrary arguments\n",
    "# position arguments collects values according its position\n",
    "# if you use arbitrary first, arbitrary will collect all value and it wont allow position arguments to collect values\n",
    "def database(age, height, *args):\n",
    "    print(age)\n",
    "    print(height)\n",
    "    print(args)"
   ]
  },
  {
   "cell_type": "code",
   "execution_count": 81,
   "id": "0040fe69-0c7d-4e79-b01c-ce585114d5d7",
   "metadata": {},
   "outputs": [
    {
     "name": "stdout",
     "output_type": "stream",
     "text": [
      "23\n",
      "32\n",
      "(45, 54, 56, 22)\n"
     ]
    }
   ],
   "source": [
    "database(23, 32, 45, 54, 56, 22)"
   ]
  },
  {
   "cell_type": "code",
   "execution_count": 88,
   "id": "d8cac62c-553c-45a8-a868-66f24dd48f18",
   "metadata": {},
   "outputs": [],
   "source": [
    "def database(*args, age):\n",
    "    print(age)\n",
    "    print(args)"
   ]
  },
  {
   "cell_type": "code",
   "execution_count": 89,
   "id": "8e83858d-a15d-46da-91b7-841c2ab41ffc",
   "metadata": {},
   "outputs": [
    {
     "ename": "TypeError",
     "evalue": "database() missing 1 required keyword-only argument: 'age'",
     "output_type": "error",
     "traceback": [
      "\u001b[1;31m---------------------------------------------------------------------------\u001b[0m",
      "\u001b[1;31mTypeError\u001b[0m                                 Traceback (most recent call last)",
      "Cell \u001b[1;32mIn[89], line 1\u001b[0m\n\u001b[1;32m----> 1\u001b[0m database(\u001b[38;5;241m34\u001b[39m,\u001b[38;5;241m56\u001b[39m,\u001b[38;5;241m66\u001b[39m,\u001b[38;5;241m32\u001b[39m)\n",
      "\u001b[1;31mTypeError\u001b[0m: database() missing 1 required keyword-only argument: 'age'"
     ]
    }
   ],
   "source": [
    "database(34,56,66,32)"
   ]
  },
  {
   "cell_type": "code",
   "execution_count": null,
   "id": "f56278d5-64de-4f39-b4e4-0933c59badd0",
   "metadata": {},
   "outputs": [],
   "source": [
    "def database(age, *args):\n",
    "    print(age)\n",
    "    print(args)"
   ]
  },
  {
   "cell_type": "code",
   "execution_count": null,
   "id": "eb98d88d-c0af-4126-972a-8665ec908741",
   "metadata": {},
   "outputs": [],
   "source": [
    "database(25, \"Vinay\", \"Bangalore\", \"Python Developer\")"
   ]
  },
  {
   "cell_type": "code",
   "execution_count": null,
   "id": "8b7a9405-2168-4d64-8981-a9ab3d99e017",
   "metadata": {},
   "outputs": [],
   "source": [
    "# try to mismatch positions\n",
    "database(\"Vinay\", \"Bangalore\", \"Python Developer\", 25)"
   ]
  },
  {
   "cell_type": "markdown",
   "id": "6f0c0bbf-e74d-4121-ae62-2fe27655a61f",
   "metadata": {},
   "source": [
    "#### `*args` and `**kwargs` can be used together to allow both positional and keyword arguments."
   ]
  },
  {
   "cell_type": "code",
   "execution_count": null,
   "id": "454f65ec-dcb6-4f16-88d6-2592b2078238",
   "metadata": {},
   "outputs": [],
   "source": [
    "# positional arguments\n",
    "# *args\n",
    "# **kwargs"
   ]
  },
  {
   "cell_type": "code",
   "execution_count": null,
   "id": "a1c285f7-8f8c-4eb6-8a8c-6a6fc56e425c",
   "metadata": {},
   "outputs": [],
   "source": []
  },
  {
   "cell_type": "code",
   "execution_count": 92,
   "id": "3a525ba1-060f-44d0-b558-9ac46ceb65d0",
   "metadata": {},
   "outputs": [
    {
     "name": "stdout",
     "output_type": "stream",
     "text": [
      "(1, 2, 3)\n",
      "{'name': 'Vinay', 'age': 32}\n"
     ]
    }
   ],
   "source": [
    "def test(*args, **kwargs):\n",
    "    print(args)\n",
    "    print(kwargs)\n",
    "\n",
    "test(1, 2, 3, name=\"Vinay\", age=32)"
   ]
  },
  {
   "cell_type": "code",
   "execution_count": 93,
   "id": "67830072-bcf1-450b-8fff-7592cee7caaa",
   "metadata": {},
   "outputs": [
    {
     "ename": "SyntaxError",
     "evalue": "arguments cannot follow var-keyword argument (3441402231.py, line 1)",
     "output_type": "error",
     "traceback": [
      "\u001b[1;36m  Cell \u001b[1;32mIn[93], line 1\u001b[1;36m\u001b[0m\n\u001b[1;33m    def test(**kwargs, *args):\u001b[0m\n\u001b[1;37m                       ^\u001b[0m\n\u001b[1;31mSyntaxError\u001b[0m\u001b[1;31m:\u001b[0m arguments cannot follow var-keyword argument\n"
     ]
    }
   ],
   "source": [
    "def test(**kwargs, *args):\n",
    "    print(args)\n",
    "    print(kwargs)\n",
    "\n",
    "test(name=\"Vinay\", age=32, 1, 2, 3)"
   ]
  },
  {
   "cell_type": "code",
   "execution_count": 94,
   "id": "d3ea07a9-9b39-43d2-941a-321ed5c3d221",
   "metadata": {},
   "outputs": [
    {
     "name": "stdout",
     "output_type": "stream",
     "text": [
      "1\n",
      "(2, 3)\n",
      "{'name': 'Vinay', 'age': 32}\n"
     ]
    }
   ],
   "source": [
    "# positional arguments\n",
    "# *args\n",
    "# **kwargs\n",
    "\n",
    "def trial(a, *args, **kwargs):\n",
    "    print(a)\n",
    "    print(args)\n",
    "    print(kwargs)\n",
    "\n",
    "trial(1, 2, 3, name=\"Vinay\", age=32)"
   ]
  },
  {
   "cell_type": "code",
   "execution_count": null,
   "id": "9d2330be-90ee-477f-a292-f04e3d79ee4f",
   "metadata": {},
   "outputs": [],
   "source": [
    "# Syntax error because in Python, *args must always come before **kwargs in the function signature.\n",
    "# This is because positional arguments (*args) need to be specified before keyword arguments (**kwargs)."
   ]
  },
  {
   "cell_type": "code",
   "execution_count": null,
   "id": "5ce611b4-b979-42f8-959c-e693b6413aca",
   "metadata": {},
   "outputs": [],
   "source": []
  },
  {
   "cell_type": "code",
   "execution_count": null,
   "id": "b3fad383-c516-41ed-9b5e-368cfbd9e835",
   "metadata": {},
   "outputs": [],
   "source": []
  },
  {
   "cell_type": "markdown",
   "id": "c75b5d2d-f310-4b6a-86bb-cc91e2d20b95",
   "metadata": {},
   "source": [
    "#### Passing Returned Values to Other Functions"
   ]
  },
  {
   "cell_type": "code",
   "execution_count": 95,
   "id": "f246c371-4845-4fdc-8831-253362f4f435",
   "metadata": {},
   "outputs": [],
   "source": [
    "# function 1\n",
    "def squared(num):\n",
    "    squaredout = num ** 2\n",
    "    return squaredout\n",
    "\n",
    "\n",
    "# Function 2\n",
    "def powered(squaredout):\n",
    "    import math\n",
    "    return math.pow(squaredout,2)"
   ]
  },
  {
   "cell_type": "code",
   "execution_count": 96,
   "id": "238ea1e3-61d1-458d-98f1-a88aa430096a",
   "metadata": {},
   "outputs": [
    {
     "data": {
      "text/plain": [
       "16"
      ]
     },
     "execution_count": 96,
     "metadata": {},
     "output_type": "execute_result"
    }
   ],
   "source": [
    "squared(4)"
   ]
  },
  {
   "cell_type": "code",
   "execution_count": 97,
   "id": "eb6d624e-7639-4a8e-979d-63465dedd53d",
   "metadata": {},
   "outputs": [],
   "source": [
    "x = squared(4)"
   ]
  },
  {
   "cell_type": "code",
   "execution_count": 98,
   "id": "e208e60b-ccfc-4022-a45d-11243d7b383d",
   "metadata": {},
   "outputs": [
    {
     "data": {
      "text/plain": [
       "256.0"
      ]
     },
     "execution_count": 98,
     "metadata": {},
     "output_type": "execute_result"
    }
   ],
   "source": [
    "powered(x)"
   ]
  },
  {
   "cell_type": "code",
   "execution_count": 99,
   "id": "7af0bf3e-6826-49f4-b252-55c45ce79761",
   "metadata": {},
   "outputs": [],
   "source": [
    "y = powered(x)"
   ]
  },
  {
   "cell_type": "code",
   "execution_count": 100,
   "id": "0d30e4d9-6c44-4bc2-9847-e89a6a48c4d8",
   "metadata": {},
   "outputs": [
    {
     "data": {
      "text/plain": [
       "256.0"
      ]
     },
     "execution_count": 100,
     "metadata": {},
     "output_type": "execute_result"
    }
   ],
   "source": [
    "y"
   ]
  },
  {
   "cell_type": "markdown",
   "id": "853ba45f-ca56-44a1-9637-fdcde71d0b00",
   "metadata": {},
   "source": [
    "#### Error handling inside functions"
   ]
  },
  {
   "cell_type": "code",
   "execution_count": 106,
   "id": "4627e8d1-9fb0-4692-b7ad-eaca1957fb79",
   "metadata": {},
   "outputs": [],
   "source": [
    "def divide_numbers(a, b):\n",
    "    if b == 0:\n",
    "        raise ZeroDivisionError(\"Error: Division by zero\")\n",
    "    if b < 0:\n",
    "        raise ValueError(\"Error: Mention only positive numbers\")\n",
    "    return a / b"
   ]
  },
  {
   "cell_type": "code",
   "execution_count": 107,
   "id": "c9a83a9e-eceb-4210-ae85-2e89bdea3577",
   "metadata": {},
   "outputs": [
    {
     "data": {
      "text/plain": [
       "2.25"
      ]
     },
     "execution_count": 107,
     "metadata": {},
     "output_type": "execute_result"
    }
   ],
   "source": [
    "divide_numbers(9,4)"
   ]
  },
  {
   "cell_type": "code",
   "execution_count": 110,
   "id": "85b96b06-6ba9-4e0e-96de-6dac210e71ac",
   "metadata": {},
   "outputs": [
    {
     "data": {
      "text/plain": [
       "3.0"
      ]
     },
     "execution_count": 110,
     "metadata": {},
     "output_type": "execute_result"
    }
   ],
   "source": [
    "divide_numbers(9,3)"
   ]
  },
  {
   "cell_type": "code",
   "execution_count": 111,
   "id": "4b63ee97-f363-4500-a0fd-2d6e0e043745",
   "metadata": {},
   "outputs": [],
   "source": [
    "def divide_numbers(numerator, denominator):\n",
    "    try:\n",
    "        result = numerator / denominator\n",
    "    except ZeroDivisionError:\n",
    "        return \"Error: Cannot divide by zero.\"\n",
    "    except TypeError:\n",
    "        return \"Error: Invalid input types. Please provide numbers.\"\n",
    "    return result"
   ]
  },
  {
   "cell_type": "code",
   "execution_count": 112,
   "id": "bfcee62c-a4a5-4fa3-82d0-3d2fa24c6a6a",
   "metadata": {},
   "outputs": [
    {
     "data": {
      "text/plain": [
       "'Error: Cannot divide by zero.'"
      ]
     },
     "execution_count": 112,
     "metadata": {},
     "output_type": "execute_result"
    }
   ],
   "source": [
    "divide_numbers(10, 0)"
   ]
  },
  {
   "cell_type": "code",
   "execution_count": 114,
   "id": "ad665697-3169-4517-a3c5-3187c0826897",
   "metadata": {},
   "outputs": [
    {
     "data": {
      "text/plain": [
       "'Error: Invalid input types. Please provide numbers.'"
      ]
     },
     "execution_count": 114,
     "metadata": {},
     "output_type": "execute_result"
    }
   ],
   "source": [
    "divide_numbers(10, 'f')"
   ]
  },
  {
   "cell_type": "code",
   "execution_count": 115,
   "id": "d869f1ee-99f0-45f6-91fc-0805dd3f35e3",
   "metadata": {},
   "outputs": [
    {
     "data": {
      "text/plain": [
       "0.6"
      ]
     },
     "execution_count": 115,
     "metadata": {},
     "output_type": "execute_result"
    }
   ],
   "source": [
    "divide_numbers(3,5)"
   ]
  },
  {
   "cell_type": "markdown",
   "id": "4c88706b-0b68-4837-80ba-caf4299757ea",
   "metadata": {},
   "source": [
    "#### Type Hinting of Function in Python"
   ]
  },
  {
   "cell_type": "markdown",
   "id": "168adca4-e417-49d7-bd67-0287eb5bb77f",
   "metadata": {},
   "source": [
    "Type hinting provides a way to specify what kind of data a function expects and returns. This means you can signal whether a function parameter should be a str, int, list, or any other type. It doesn’t enforce types but offers clarity, improving both development speed and code maintenance."
   ]
  },
  {
   "cell_type": "code",
   "execution_count": 116,
   "id": "f2187ece-341d-41ab-b160-b49442ad4611",
   "metadata": {},
   "outputs": [],
   "source": [
    "def greet(name: str) -> str:\n",
    "    return f\"Hello, {name}!\""
   ]
  },
  {
   "cell_type": "code",
   "execution_count": 119,
   "id": "cf6bd80e-4de8-4709-8c6b-fc083fe8042c",
   "metadata": {},
   "outputs": [],
   "source": [
    "def divi(a: float, b:float) -> float:\n",
    "    return a / b"
   ]
  },
  {
   "cell_type": "code",
   "execution_count": 120,
   "id": "4df8503f-5e0e-4114-9082-0643aeaac08a",
   "metadata": {},
   "outputs": [
    {
     "data": {
      "text/plain": [
       "0.6666666666666666"
      ]
     },
     "execution_count": 120,
     "metadata": {},
     "output_type": "execute_result"
    }
   ],
   "source": [
    "divi(2.0, 3.0)"
   ]
  },
  {
   "cell_type": "code",
   "execution_count": null,
   "id": "2a9b1e41-75c7-4817-bd38-e84aa258802a",
   "metadata": {},
   "outputs": [],
   "source": []
  },
  {
   "cell_type": "code",
   "execution_count": null,
   "id": "0d480aab-aa7c-4ae0-b5d3-c8b68f37fb02",
   "metadata": {},
   "outputs": [],
   "source": [
    "greet(5)"
   ]
  },
  {
   "cell_type": "code",
   "execution_count": null,
   "id": "3e14334e-e7e7-4349-a03b-b9ce31b58f3d",
   "metadata": {},
   "outputs": [],
   "source": [
    "def add_numbers(a: int, b: int) -> int:\n",
    "    return a + b"
   ]
  },
  {
   "cell_type": "code",
   "execution_count": null,
   "id": "1f886ea5-07ee-4f80-8ddc-c2dd469735c6",
   "metadata": {},
   "outputs": [],
   "source": [
    "add_numbers(4,5)"
   ]
  },
  {
   "cell_type": "markdown",
   "id": "e7e798b5-fb0e-46ee-919e-7d0f59731704",
   "metadata": {},
   "source": [
    "#### Ensuring Correct Types for Function Parameters"
   ]
  },
  {
   "cell_type": "code",
   "execution_count": 126,
   "id": "9e789846-1a62-46df-8762-0244370b21d1",
   "metadata": {},
   "outputs": [],
   "source": [
    "def greet(name):\n",
    "    print(f'Hello {name}')"
   ]
  },
  {
   "cell_type": "code",
   "execution_count": 127,
   "id": "c0ec38c6-0a81-4942-a7b3-eca1a02a0222",
   "metadata": {},
   "outputs": [
    {
     "name": "stdout",
     "output_type": "stream",
     "text": [
      "Hello Vinay\n"
     ]
    }
   ],
   "source": [
    "greet('Vinay')"
   ]
  },
  {
   "cell_type": "code",
   "execution_count": 128,
   "id": "c293a3d6-d943-4522-a7c7-868b8e1984e8",
   "metadata": {},
   "outputs": [
    {
     "name": "stdout",
     "output_type": "stream",
     "text": [
      "Hello 4\n"
     ]
    }
   ],
   "source": [
    "greet(4)"
   ]
  },
  {
   "cell_type": "code",
   "execution_count": 140,
   "id": "6d987101-2935-4183-94f3-a5535eb2d3fc",
   "metadata": {},
   "outputs": [],
   "source": [
    "def greet(name):\n",
    "    if not isinstance(name, str) :\n",
    "        raise TypeError(\"Expected a string for the name parameter.\")\n",
    "    return f\"Hello, {name}!\""
   ]
  },
  {
   "cell_type": "code",
   "execution_count": 141,
   "id": "529bf52f-47fe-4d93-a210-5b3f7ea210d0",
   "metadata": {},
   "outputs": [
    {
     "data": {
      "text/plain": [
       "'Hello, Vinay!'"
      ]
     },
     "execution_count": 141,
     "metadata": {},
     "output_type": "execute_result"
    }
   ],
   "source": [
    "greet('Vinay')"
   ]
  },
  {
   "cell_type": "code",
   "execution_count": 142,
   "id": "af01fd67-728b-45f1-a5f3-689dae89b5ac",
   "metadata": {},
   "outputs": [
    {
     "ename": "TypeError",
     "evalue": "Expected a string for the name parameter.",
     "output_type": "error",
     "traceback": [
      "\u001b[1;31m---------------------------------------------------------------------------\u001b[0m",
      "\u001b[1;31mTypeError\u001b[0m                                 Traceback (most recent call last)",
      "Cell \u001b[1;32mIn[142], line 1\u001b[0m\n\u001b[1;32m----> 1\u001b[0m greet(\u001b[38;5;241m1\u001b[39m)\n",
      "Cell \u001b[1;32mIn[140], line 3\u001b[0m, in \u001b[0;36mgreet\u001b[1;34m(name)\u001b[0m\n\u001b[0;32m      1\u001b[0m \u001b[38;5;28;01mdef\u001b[39;00m \u001b[38;5;21mgreet\u001b[39m(name):\n\u001b[0;32m      2\u001b[0m     \u001b[38;5;28;01mif\u001b[39;00m \u001b[38;5;129;01mnot\u001b[39;00m \u001b[38;5;28misinstance\u001b[39m(name, \u001b[38;5;28mstr\u001b[39m) :\n\u001b[1;32m----> 3\u001b[0m         \u001b[38;5;28;01mraise\u001b[39;00m \u001b[38;5;167;01mTypeError\u001b[39;00m(\u001b[38;5;124m\"\u001b[39m\u001b[38;5;124mExpected a string for the name parameter.\u001b[39m\u001b[38;5;124m\"\u001b[39m)\n\u001b[0;32m      4\u001b[0m     \u001b[38;5;28;01mreturn\u001b[39;00m \u001b[38;5;124mf\u001b[39m\u001b[38;5;124m\"\u001b[39m\u001b[38;5;124mHello, \u001b[39m\u001b[38;5;132;01m{\u001b[39;00mname\u001b[38;5;132;01m}\u001b[39;00m\u001b[38;5;124m!\u001b[39m\u001b[38;5;124m\"\u001b[39m\n",
      "\u001b[1;31mTypeError\u001b[0m: Expected a string for the name parameter."
     ]
    }
   ],
   "source": [
    "greet(1)"
   ]
  },
  {
   "cell_type": "markdown",
   "id": "ff3ec057-12a5-4996-8333-3270a1994636",
   "metadata": {},
   "source": [
    "#### Documenting Functions with Comments and Docstrings"
   ]
  },
  {
   "cell_type": "code",
   "execution_count": 124,
   "id": "289f43e4-4e9a-4f0e-9f12-aadb25b05165",
   "metadata": {},
   "outputs": [],
   "source": [
    "def dms2dd(degree, minute, seconds):\n",
    "    '''\n",
    "    Function to Convert Degree, Minutes and Seconds to Decimal Degree\n",
    "\n",
    "    Parameter:\n",
    "    Degree: int\n",
    "    Minute: int\n",
    "    Seconds: Either int or float\n",
    "\n",
    "    Returns Decimal Degree\n",
    "    '''\n",
    "    dd = degree + (minute/60) + (seconds/3600)\n",
    "    return dd"
   ]
  },
  {
   "cell_type": "code",
   "execution_count": 125,
   "id": "6286d976-68d2-4319-9fc3-f7ee8dab5044",
   "metadata": {},
   "outputs": [
    {
     "data": {
      "text/plain": [
       "12.573055555555555"
      ]
     },
     "execution_count": 125,
     "metadata": {},
     "output_type": "execute_result"
    }
   ],
   "source": [
    "dms2dd(12, 34, 23)"
   ]
  },
  {
   "cell_type": "code",
   "execution_count": null,
   "id": "d06a38d7-c5e5-4701-a5b2-cfaab640e40a",
   "metadata": {},
   "outputs": [],
   "source": []
  }
 ],
 "metadata": {
  "kernelspec": {
   "display_name": "Python 3 (ipykernel)",
   "language": "python",
   "name": "python3"
  },
  "language_info": {
   "codemirror_mode": {
    "name": "ipython",
    "version": 3
   },
   "file_extension": ".py",
   "mimetype": "text/x-python",
   "name": "python",
   "nbconvert_exporter": "python",
   "pygments_lexer": "ipython3",
   "version": "3.12.4"
  }
 },
 "nbformat": 4,
 "nbformat_minor": 5
}
