{
 "cells": [
  {
   "cell_type": "markdown",
   "id": "b1b6745e-191d-4655-97c4-a16fea83c44b",
   "metadata": {},
   "source": [
    "#### Python Built in Data Structures - List"
   ]
  },
  {
   "cell_type": "code",
   "execution_count": 1,
   "id": "e454022d-ac87-424d-8a80-0b6789c6999a",
   "metadata": {},
   "outputs": [],
   "source": [
    "# List"
   ]
  },
  {
   "cell_type": "code",
   "execution_count": 2,
   "id": "c522163e-ddd3-4566-918c-7eae25d2a45b",
   "metadata": {},
   "outputs": [],
   "source": [
    "# Creation of Empty List\n",
    "\n",
    "grocery = []"
   ]
  },
  {
   "cell_type": "code",
   "execution_count": 3,
   "id": "08a06ec0-2d8e-4fa7-9efa-388497e5d6ae",
   "metadata": {},
   "outputs": [
    {
     "data": {
      "text/plain": [
       "list"
      ]
     },
     "execution_count": 3,
     "metadata": {},
     "output_type": "execute_result"
    }
   ],
   "source": [
    "# check the type of variable\n",
    "\n",
    "type(grocery)"
   ]
  },
  {
   "cell_type": "code",
   "execution_count": 4,
   "id": "34491da4-b6a1-4631-9b41-c70e2b86260d",
   "metadata": {},
   "outputs": [],
   "source": [
    "# Tuple\n",
    "\n",
    "# Creation of Empty Tuple\n",
    "\n",
    "latlong = ()"
   ]
  },
  {
   "cell_type": "code",
   "execution_count": 5,
   "id": "740e1cd5-0e1b-4669-9043-fd61fe247f75",
   "metadata": {},
   "outputs": [
    {
     "data": {
      "text/plain": [
       "tuple"
      ]
     },
     "execution_count": 5,
     "metadata": {},
     "output_type": "execute_result"
    }
   ],
   "source": [
    "# check the type of variable\n",
    "\n",
    "type(latlong)"
   ]
  },
  {
   "cell_type": "code",
   "execution_count": 6,
   "id": "4aa9c3dc-2d24-41e4-8c8a-9ba6eca07891",
   "metadata": {},
   "outputs": [],
   "source": [
    "# Dictionary\n",
    "# Creation of Empty Dictionary\n",
    "\n",
    "books = {}"
   ]
  },
  {
   "cell_type": "code",
   "execution_count": 7,
   "id": "4543529e-7b2b-473b-94cd-b286b55f085c",
   "metadata": {},
   "outputs": [
    {
     "data": {
      "text/plain": [
       "dict"
      ]
     },
     "execution_count": 7,
     "metadata": {},
     "output_type": "execute_result"
    }
   ],
   "source": [
    "# check the type of variable\n",
    "\n",
    "type(books)"
   ]
  },
  {
   "cell_type": "code",
   "execution_count": 9,
   "id": "d4fa3ec6-28b7-4116-b7d5-f5fe5d6a0785",
   "metadata": {},
   "outputs": [],
   "source": [
    "# set\n",
    "# Creation of Empty Dictionary\n",
    "\n",
    "deck_of_cards = set()"
   ]
  },
  {
   "cell_type": "code",
   "execution_count": 10,
   "id": "af32c9f5-5712-4d29-a702-fbdb63b8539d",
   "metadata": {},
   "outputs": [
    {
     "data": {
      "text/plain": [
       "set"
      ]
     },
     "execution_count": 10,
     "metadata": {},
     "output_type": "execute_result"
    }
   ],
   "source": [
    "type(deck_of_cards)"
   ]
  },
  {
   "cell_type": "code",
   "execution_count": null,
   "id": "f2008f3b-3fcf-407f-a714-964b70f0b93d",
   "metadata": {},
   "outputs": [],
   "source": [
    "# Lists and its functions"
   ]
  },
  {
   "cell_type": "code",
   "execution_count": 11,
   "id": "19aa39e2-25e3-4447-a62b-68de452599b7",
   "metadata": {},
   "outputs": [],
   "source": [
    "# Creation of List with Interger Numbers\n",
    "\n",
    "age = [22, 23, 25, 20]"
   ]
  },
  {
   "cell_type": "code",
   "execution_count": 12,
   "id": "7e308a18-9a55-4653-a43a-1172f94a55ec",
   "metadata": {},
   "outputs": [],
   "source": [
    "# Creation of List with Decimal Numbers\n",
    "\n",
    "height = [5.3, 5.2, 5.0, 5.5]"
   ]
  },
  {
   "cell_type": "code",
   "execution_count": 13,
   "id": "e8a35adb-9f72-4613-ae36-e3a359c44b11",
   "metadata": {},
   "outputs": [],
   "source": [
    "# Creation of List with Strings\n",
    "\n",
    "name = ['Vinay', 'Arun', 'Sruthi', 'Kruthika', 'Sanjay']"
   ]
  },
  {
   "cell_type": "code",
   "execution_count": 14,
   "id": "d980ebc7-67e2-4eea-8f83-7c2a18e8205e",
   "metadata": {},
   "outputs": [],
   "source": [
    "# Creation of list with Booleans\n",
    "\n",
    "isMale = [True, True, False, False, True]"
   ]
  },
  {
   "cell_type": "code",
   "execution_count": 15,
   "id": "a340b1b1-b465-45b8-9b0f-b00f138e128f",
   "metadata": {},
   "outputs": [],
   "source": [
    "# Creation of List with Mixed Data Type\n",
    "\n",
    "student1 = ['Vinay', 32, 80.2, 5.6, True]"
   ]
  },
  {
   "cell_type": "markdown",
   "id": "5d552363-f1ba-4760-b109-b3be8d505581",
   "metadata": {},
   "source": [
    "#### List Indexing"
   ]
  },
  {
   "cell_type": "code",
   "execution_count": 16,
   "id": "f4023166-1adc-40e4-b311-a477cf7a568f",
   "metadata": {},
   "outputs": [
    {
     "data": {
      "text/plain": [
       "['Vinay', 'Arun', 'Sruthi', 'Kruthika', 'Sanjay']"
      ]
     },
     "execution_count": 16,
     "metadata": {},
     "output_type": "execute_result"
    }
   ],
   "source": [
    "name"
   ]
  },
  {
   "cell_type": "code",
   "execution_count": 17,
   "id": "f968f75c-1918-416d-981e-16b7f61ace8b",
   "metadata": {},
   "outputs": [
    {
     "data": {
      "text/plain": [
       "'Vinay'"
      ]
     },
     "execution_count": 17,
     "metadata": {},
     "output_type": "execute_result"
    }
   ],
   "source": [
    "name[0]"
   ]
  },
  {
   "cell_type": "code",
   "execution_count": 18,
   "id": "5fb94466-d095-4c80-9423-f25b0eb0d7b6",
   "metadata": {},
   "outputs": [
    {
     "data": {
      "text/plain": [
       "'Arun'"
      ]
     },
     "execution_count": 18,
     "metadata": {},
     "output_type": "execute_result"
    }
   ],
   "source": [
    "name[1]"
   ]
  },
  {
   "cell_type": "code",
   "execution_count": 19,
   "id": "392d6e2b-5f3b-4def-bc00-51b12473a498",
   "metadata": {},
   "outputs": [
    {
     "data": {
      "text/plain": [
       "'Sruthi'"
      ]
     },
     "execution_count": 19,
     "metadata": {},
     "output_type": "execute_result"
    }
   ],
   "source": [
    "name[2]"
   ]
  },
  {
   "cell_type": "code",
   "execution_count": 20,
   "id": "f23ef4e6-0b54-4561-8897-19ee83013fc9",
   "metadata": {},
   "outputs": [
    {
     "data": {
      "text/plain": [
       "'Sanjay'"
      ]
     },
     "execution_count": 20,
     "metadata": {},
     "output_type": "execute_result"
    }
   ],
   "source": [
    "name[-1]"
   ]
  },
  {
   "cell_type": "markdown",
   "id": "fa6e0644-14c2-4163-8411-dc00a8930d66",
   "metadata": {},
   "source": [
    "#### List Slicer"
   ]
  },
  {
   "cell_type": "code",
   "execution_count": 21,
   "id": "10612741-7ee2-42a5-bea3-34c3ed19756f",
   "metadata": {},
   "outputs": [
    {
     "data": {
      "text/plain": [
       "['Vinay', 'Arun', 'Sruthi', 'Kruthika', 'Sanjay']"
      ]
     },
     "execution_count": 21,
     "metadata": {},
     "output_type": "execute_result"
    }
   ],
   "source": [
    "name"
   ]
  },
  {
   "cell_type": "code",
   "execution_count": 22,
   "id": "5e07acac-d4dd-48dc-a42f-3b1cbf4e7d9b",
   "metadata": {},
   "outputs": [
    {
     "data": {
      "text/plain": [
       "['Vinay', 'Arun', 'Sruthi', 'Kruthika', 'Sanjay']"
      ]
     },
     "execution_count": 22,
     "metadata": {},
     "output_type": "execute_result"
    }
   ],
   "source": [
    "# everything will be pulled \n",
    "name[:]"
   ]
  },
  {
   "cell_type": "code",
   "execution_count": 23,
   "id": "0412faa6-03dd-4966-aba8-38e08c407892",
   "metadata": {},
   "outputs": [
    {
     "data": {
      "text/plain": [
       "['Vinay', 'Arun']"
      ]
     },
     "execution_count": 23,
     "metadata": {},
     "output_type": "execute_result"
    }
   ],
   "source": [
    "# Slicing from Index 0 and Stoping at 1 (But you have to mention +1)\n",
    "name[0:2]"
   ]
  },
  {
   "cell_type": "code",
   "execution_count": 24,
   "id": "793c7405-eb43-4d59-b190-fe0e1f835c81",
   "metadata": {},
   "outputs": [
    {
     "data": {
      "text/plain": [
       "['Arun', 'Sruthi', 'Kruthika', 'Sanjay']"
      ]
     },
     "execution_count": 24,
     "metadata": {},
     "output_type": "execute_result"
    }
   ],
   "source": [
    "# Slice from Index 1 and till end\n",
    "name[1:]"
   ]
  },
  {
   "cell_type": "code",
   "execution_count": 25,
   "id": "ba3728e4-ec8e-4ee7-a107-64ab7bde2446",
   "metadata": {},
   "outputs": [
    {
     "data": {
      "text/plain": [
       "['Kruthika', 'Sanjay']"
      ]
     },
     "execution_count": 25,
     "metadata": {},
     "output_type": "execute_result"
    }
   ],
   "source": [
    "# Slice from -2 to till end\n",
    "name[-2:]"
   ]
  },
  {
   "cell_type": "code",
   "execution_count": 26,
   "id": "30f49aad-00a5-4ac4-9e6f-a7155720c636",
   "metadata": {},
   "outputs": [
    {
     "data": {
      "text/plain": [
       "['Sanjay', 'Kruthika', 'Sruthi', 'Arun', 'Vinay']"
      ]
     },
     "execution_count": 26,
     "metadata": {},
     "output_type": "execute_result"
    }
   ],
   "source": [
    "# reversing a list\n",
    "name[::-1]"
   ]
  },
  {
   "cell_type": "markdown",
   "id": "a3094464-06eb-460d-9b16-44954d45b7ec",
   "metadata": {},
   "source": [
    "#### Modify values"
   ]
  },
  {
   "cell_type": "code",
   "execution_count": 27,
   "id": "040d94ee-61e0-46a2-8ff2-9c503aae8812",
   "metadata": {},
   "outputs": [],
   "source": [
    "# list with strings\n",
    "grocery = ['Egg', 'Wheat', 'Oil', 'Rice', 'Chocolate']"
   ]
  },
  {
   "cell_type": "code",
   "execution_count": 28,
   "id": "4be41524-73ff-44f9-bef6-ee308904af59",
   "metadata": {},
   "outputs": [
    {
     "data": {
      "text/plain": [
       "'Egg'"
      ]
     },
     "execution_count": 28,
     "metadata": {},
     "output_type": "execute_result"
    }
   ],
   "source": [
    "# accessing index 0 value\n",
    "grocery[0]"
   ]
  },
  {
   "cell_type": "code",
   "execution_count": 29,
   "id": "3e4cf784-8846-49f0-a46d-453d3f856872",
   "metadata": {},
   "outputs": [],
   "source": [
    "# assigning new value as Milk for the place of Index 0\n",
    "grocery[0] = 'Milk'"
   ]
  },
  {
   "cell_type": "code",
   "execution_count": 30,
   "id": "25d0fdfe-4921-4cdf-bc6b-49cb215c2b09",
   "metadata": {},
   "outputs": [
    {
     "data": {
      "text/plain": [
       "['Milk', 'Wheat', 'Oil', 'Rice', 'Chocolate']"
      ]
     },
     "execution_count": 30,
     "metadata": {},
     "output_type": "execute_result"
    }
   ],
   "source": [
    "grocery"
   ]
  },
  {
   "cell_type": "code",
   "execution_count": 31,
   "id": "faf3e241-4e2b-4c60-a234-7aab1c304b32",
   "metadata": {},
   "outputs": [],
   "source": [
    "# assigning new value as Maida in the place of Wheat\n",
    "grocery[1] = 'Maida'"
   ]
  },
  {
   "cell_type": "code",
   "execution_count": 32,
   "id": "cc8210a0-4535-4ac4-b6de-59e41fda6a87",
   "metadata": {},
   "outputs": [
    {
     "data": {
      "text/plain": [
       "['Milk', 'Maida', 'Oil', 'Rice', 'Chocolate']"
      ]
     },
     "execution_count": 32,
     "metadata": {},
     "output_type": "execute_result"
    }
   ],
   "source": [
    "grocery"
   ]
  },
  {
   "cell_type": "code",
   "execution_count": 33,
   "id": "019196bb-e626-4c41-b147-bc3d66ffc390",
   "metadata": {},
   "outputs": [],
   "source": [
    "# assigning new value as Jaggary in the place of Chocolate\n",
    "grocery[-1] = 'Jaggary'"
   ]
  },
  {
   "cell_type": "code",
   "execution_count": 34,
   "id": "b4ce73e8-7992-4fbf-abcd-e81348108aae",
   "metadata": {},
   "outputs": [
    {
     "data": {
      "text/plain": [
       "['Milk', 'Maida', 'Oil', 'Rice', 'Jaggary']"
      ]
     },
     "execution_count": 34,
     "metadata": {},
     "output_type": "execute_result"
    }
   ],
   "source": [
    "grocery"
   ]
  },
  {
   "cell_type": "markdown",
   "id": "5522c7f8-40ac-4cb4-b159-1ffbc8ce7ec1",
   "metadata": {},
   "source": [
    "***"
   ]
  },
  {
   "cell_type": "markdown",
   "id": "394a189a-9010-428e-8014-a7b4676c2f30",
   "metadata": {},
   "source": [
    "#### Nested List"
   ]
  },
  {
   "cell_type": "code",
   "execution_count": 35,
   "id": "a695be3b-f5e8-4e32-82ce-99e0aeb0b4ae",
   "metadata": {},
   "outputs": [],
   "source": [
    "# List inside a List is nested list.\n",
    "# tuple inside a list\n",
    "# dictionary inside a list"
   ]
  },
  {
   "cell_type": "code",
   "execution_count": 36,
   "id": "3abbb9f1-b907-46a4-9af6-47da5f3816e1",
   "metadata": {},
   "outputs": [],
   "source": [
    "veg_list = ['Carrot',\n",
    "            'Beetroot',\n",
    "            'Panner',\n",
    "            'Braccoli',\n",
    "            'Lettuce',\n",
    "            'Jeera Rice']\n",
    "\n",
    "non_veg_list = ['Chicken',\n",
    "                'Masalas',\n",
    "                'Basmati Rice',\n",
    "                'Powders']"
   ]
  },
  {
   "cell_type": "code",
   "execution_count": 37,
   "id": "567ebcee-5232-446c-9f70-47b1cfc87302",
   "metadata": {},
   "outputs": [],
   "source": [
    "# Creating Nested List\n",
    "grocery_list = [['Carrot', 'Beetroot', 'Panner', 'Braccoli', 'Lettuce', 'Jeera Rice'],\n",
    "                ['Chicken', 'Masalas', 'Basmati Rice', 'Powders']]"
   ]
  },
  {
   "cell_type": "code",
   "execution_count": 38,
   "id": "c969ba4d-17a1-4872-9f82-1b54d8d4d3e3",
   "metadata": {},
   "outputs": [],
   "source": [
    "dummy = [[2,3],[7,8]]"
   ]
  },
  {
   "cell_type": "code",
   "execution_count": 40,
   "id": "a57d0448-e331-4bfa-ac7c-4fa8e6bc66eb",
   "metadata": {},
   "outputs": [
    {
     "data": {
      "text/plain": [
       "6"
      ]
     },
     "execution_count": 40,
     "metadata": {},
     "output_type": "execute_result"
    }
   ],
   "source": [
    "# use of length function to check number of items in the list\n",
    "len(veg_list)"
   ]
  },
  {
   "cell_type": "code",
   "execution_count": 41,
   "id": "5058752f-923c-422b-a4ac-bc2921f1d209",
   "metadata": {},
   "outputs": [
    {
     "data": {
      "text/plain": [
       "4"
      ]
     },
     "execution_count": 41,
     "metadata": {},
     "output_type": "execute_result"
    }
   ],
   "source": [
    "len(non_veg_list)"
   ]
  },
  {
   "cell_type": "code",
   "execution_count": 43,
   "id": "30e21d30-cbc8-428b-970e-de003ce6aaec",
   "metadata": {},
   "outputs": [
    {
     "data": {
      "text/plain": [
       "2"
      ]
     },
     "execution_count": 43,
     "metadata": {},
     "output_type": "execute_result"
    }
   ],
   "source": [
    "# Since it is a nested list, it will show entire sublist as single item\n",
    "len(grocery_list)"
   ]
  },
  {
   "cell_type": "code",
   "execution_count": 44,
   "id": "34fb866e-d5fe-42fc-bf96-689009ca0cca",
   "metadata": {},
   "outputs": [
    {
     "data": {
      "text/plain": [
       "['Carrot', 'Beetroot', 'Panner', 'Braccoli', 'Lettuce', 'Jeera Rice']"
      ]
     },
     "execution_count": 44,
     "metadata": {},
     "output_type": "execute_result"
    }
   ],
   "source": [
    "grocery_list[0]"
   ]
  },
  {
   "cell_type": "code",
   "execution_count": 45,
   "id": "6f71e011-22fe-4320-81a8-9fb6fa32a131",
   "metadata": {},
   "outputs": [
    {
     "data": {
      "text/plain": [
       "10"
      ]
     },
     "execution_count": 45,
     "metadata": {},
     "output_type": "execute_result"
    }
   ],
   "source": [
    "# total items\n",
    "total_items = len(veg_list) + len(non_veg_list)\n",
    "total_items"
   ]
  },
  {
   "cell_type": "code",
   "execution_count": 46,
   "id": "2e3bb443-45a5-4247-8310-da6a508d7500",
   "metadata": {},
   "outputs": [
    {
     "data": {
      "text/plain": [
       "[['Carrot', 'Beetroot', 'Panner', 'Braccoli', 'Lettuce', 'Jeera Rice'],\n",
       " ['Chicken', 'Masalas', 'Basmati Rice', 'Powders']]"
      ]
     },
     "execution_count": 46,
     "metadata": {},
     "output_type": "execute_result"
    }
   ],
   "source": [
    "# access the items from nested list\n",
    "grocery_list"
   ]
  },
  {
   "cell_type": "code",
   "execution_count": 48,
   "id": "616eb5b9-192b-48c3-a7b8-46ac4b820b5d",
   "metadata": {},
   "outputs": [
    {
     "data": {
      "text/plain": [
       "['Chicken', 'Masalas', 'Basmati Rice', 'Powders']"
      ]
     },
     "execution_count": 48,
     "metadata": {},
     "output_type": "execute_result"
    }
   ],
   "source": [
    "# Extract Masalas\n",
    "grocery_list[1]"
   ]
  },
  {
   "cell_type": "code",
   "execution_count": 49,
   "id": "58baaca7-f269-451e-8895-9de7db7c0f7c",
   "metadata": {},
   "outputs": [
    {
     "data": {
      "text/plain": [
       "'Masalas'"
      ]
     },
     "execution_count": 49,
     "metadata": {},
     "output_type": "execute_result"
    }
   ],
   "source": [
    "grocery_list[1][1]"
   ]
  },
  {
   "cell_type": "code",
   "execution_count": 50,
   "id": "e4524417-fdda-462c-84a6-42c57644fd3d",
   "metadata": {},
   "outputs": [
    {
     "data": {
      "text/plain": [
       "'Jeera Rice'"
      ]
     },
     "execution_count": 50,
     "metadata": {},
     "output_type": "execute_result"
    }
   ],
   "source": [
    "# Extract Jeera Rice\n",
    "\n",
    "grocery_list[0][-1]"
   ]
  },
  {
   "cell_type": "markdown",
   "id": "a97f97c4-5aa3-4088-ac27-674e2f278a47",
   "metadata": {},
   "source": [
    "#### Changing values from Nested List"
   ]
  },
  {
   "cell_type": "code",
   "execution_count": 51,
   "id": "9fa87c5f-ac3b-4ebd-bab3-7cfc634cf1bb",
   "metadata": {},
   "outputs": [],
   "source": [
    "# change Beetroot to Potato"
   ]
  },
  {
   "cell_type": "code",
   "execution_count": 52,
   "id": "6593c71f-d7bf-4a41-83af-ead1686b5fcf",
   "metadata": {},
   "outputs": [
    {
     "data": {
      "text/plain": [
       "'Beetroot'"
      ]
     },
     "execution_count": 52,
     "metadata": {},
     "output_type": "execute_result"
    }
   ],
   "source": [
    "grocery_list[0][1]"
   ]
  },
  {
   "cell_type": "code",
   "execution_count": 53,
   "id": "f5e4e292-b99e-46b7-971b-cec6e90000c7",
   "metadata": {},
   "outputs": [],
   "source": [
    "grocery_list[0][1] = 'Potato'"
   ]
  },
  {
   "cell_type": "code",
   "execution_count": 54,
   "id": "53e1c5b8-7833-4bb7-9d8e-7cbd1361e1b1",
   "metadata": {},
   "outputs": [
    {
     "data": {
      "text/plain": [
       "[['Carrot', 'Potato', 'Panner', 'Braccoli', 'Lettuce', 'Jeera Rice'],\n",
       " ['Chicken', 'Masalas', 'Basmati Rice', 'Powders']]"
      ]
     },
     "execution_count": 54,
     "metadata": {},
     "output_type": "execute_result"
    }
   ],
   "source": [
    "#display the list\n",
    "grocery_list"
   ]
  },
  {
   "cell_type": "code",
   "execution_count": 55,
   "id": "7828553a-074d-4664-8624-e80b8f54a8a3",
   "metadata": {},
   "outputs": [],
   "source": [
    "# Extract Hello\n",
    "nested_list = [1, 2, [3, 4], [5, [100, 200, ['Hello']], 23, 11], 1, 7]"
   ]
  },
  {
   "cell_type": "code",
   "execution_count": 60,
   "id": "d3b9b8a1-08d2-474b-9171-b5c7d26718bc",
   "metadata": {},
   "outputs": [
    {
     "data": {
      "text/plain": [
       "[5, [100, 200, ['Hello']], 23, 11]"
      ]
     },
     "execution_count": 60,
     "metadata": {},
     "output_type": "execute_result"
    }
   ],
   "source": [
    "nested_list[3]"
   ]
  },
  {
   "cell_type": "code",
   "execution_count": 58,
   "id": "7f79c32f-d362-40cc-b288-5de17e8a8393",
   "metadata": {},
   "outputs": [
    {
     "data": {
      "text/plain": [
       "6"
      ]
     },
     "execution_count": 58,
     "metadata": {},
     "output_type": "execute_result"
    }
   ],
   "source": [
    "len(nested_list)"
   ]
  },
  {
   "cell_type": "code",
   "execution_count": 61,
   "id": "59c9523c-81df-41d9-83f7-4c05a2935606",
   "metadata": {},
   "outputs": [
    {
     "data": {
      "text/plain": [
       "[5, [100, 200, ['Hello']], 23, 11]"
      ]
     },
     "execution_count": 61,
     "metadata": {},
     "output_type": "execute_result"
    }
   ],
   "source": [
    "nested_list[3]"
   ]
  },
  {
   "cell_type": "code",
   "execution_count": 62,
   "id": "01b211f5-5651-41ff-9f7d-119d5d9e6a91",
   "metadata": {},
   "outputs": [
    {
     "data": {
      "text/plain": [
       "[100, 200, ['Hello']]"
      ]
     },
     "execution_count": 62,
     "metadata": {},
     "output_type": "execute_result"
    }
   ],
   "source": [
    "nested_list[3][1]"
   ]
  },
  {
   "cell_type": "code",
   "execution_count": 63,
   "id": "6eecfc8c-2730-48d5-85b4-bd6167cd5e19",
   "metadata": {},
   "outputs": [
    {
     "data": {
      "text/plain": [
       "['Hello']"
      ]
     },
     "execution_count": 63,
     "metadata": {},
     "output_type": "execute_result"
    }
   ],
   "source": [
    "nested_list[3][1][2]"
   ]
  },
  {
   "cell_type": "code",
   "execution_count": 64,
   "id": "c2cf846d-0a31-48e1-909a-1d4f68109555",
   "metadata": {},
   "outputs": [
    {
     "data": {
      "text/plain": [
       "'Hello'"
      ]
     },
     "execution_count": 64,
     "metadata": {},
     "output_type": "execute_result"
    }
   ],
   "source": [
    "nested_list[3][1][2][0]"
   ]
  },
  {
   "cell_type": "markdown",
   "id": "ce4eaed6-65cc-4f59-98f5-385ebce0fe98",
   "metadata": {},
   "source": [
    "#### Joining two or more list"
   ]
  },
  {
   "cell_type": "code",
   "execution_count": 65,
   "id": "bcda6a99-eb4a-4696-b214-76d57d71d137",
   "metadata": {},
   "outputs": [
    {
     "data": {
      "text/plain": [
       "['Carrot', 'Beetroot', 'Panner', 'Braccoli', 'Lettuce', 'Jeera Rice']"
      ]
     },
     "execution_count": 65,
     "metadata": {},
     "output_type": "execute_result"
    }
   ],
   "source": [
    "veg_list"
   ]
  },
  {
   "cell_type": "code",
   "execution_count": 66,
   "id": "4c2ad3c1-5922-4623-bdcf-01154badc6e6",
   "metadata": {},
   "outputs": [
    {
     "data": {
      "text/plain": [
       "['Chicken', 'Masalas', 'Basmati Rice', 'Powders']"
      ]
     },
     "execution_count": 66,
     "metadata": {},
     "output_type": "execute_result"
    }
   ],
   "source": [
    "non_veg_list"
   ]
  },
  {
   "cell_type": "code",
   "execution_count": null,
   "id": "40486866-1de8-4c54-8bb4-7be17d55a9ae",
   "metadata": {},
   "outputs": [],
   "source": [
    "# Merged version of two list"
   ]
  },
  {
   "cell_type": "code",
   "execution_count": 67,
   "id": "9739f3ca-a003-405d-a880-d1100079ecab",
   "metadata": {},
   "outputs": [],
   "source": [
    "merged_groceries = veg_list + non_veg_list"
   ]
  },
  {
   "cell_type": "code",
   "execution_count": 68,
   "id": "e6b6c7b3-2f83-4de7-9944-c54c9bab6d19",
   "metadata": {},
   "outputs": [
    {
     "data": {
      "text/plain": [
       "['Carrot',\n",
       " 'Beetroot',\n",
       " 'Panner',\n",
       " 'Braccoli',\n",
       " 'Lettuce',\n",
       " 'Jeera Rice',\n",
       " 'Chicken',\n",
       " 'Masalas',\n",
       " 'Basmati Rice',\n",
       " 'Powders']"
      ]
     },
     "execution_count": 68,
     "metadata": {},
     "output_type": "execute_result"
    }
   ],
   "source": [
    "merged_groceries"
   ]
  },
  {
   "cell_type": "markdown",
   "id": "d8abff7d-a6b0-4b8a-9d1d-1d0956314fed",
   "metadata": {},
   "source": [
    "#### Use of Extend Method to APPEND the items of another list B inside already available list A"
   ]
  },
  {
   "cell_type": "code",
   "execution_count": null,
   "id": "ad2b8338-af45-4162-95b3-0988241575e6",
   "metadata": {},
   "outputs": [],
   "source": [
    "# you are not creating a new list, instead you are joining the list 2 to list 1\n",
    "veg_list.extend(non_veg_list)"
   ]
  },
  {
   "cell_type": "code",
   "execution_count": 69,
   "id": "683e5bd8-b9fe-42d3-a701-f504a6ef87b3",
   "metadata": {},
   "outputs": [],
   "source": [
    "list1 = [10, 20]\n",
    "list2 = [2.3, 5.6]"
   ]
  },
  {
   "cell_type": "code",
   "execution_count": 70,
   "id": "47184c26-694a-44b8-ab20-3c9bebd8e281",
   "metadata": {},
   "outputs": [
    {
     "data": {
      "text/plain": [
       "[10, 20, 2.3, 5.6]"
      ]
     },
     "execution_count": 70,
     "metadata": {},
     "output_type": "execute_result"
    }
   ],
   "source": [
    "# merged version\n",
    "list3 = list1 + list2\n",
    "list3"
   ]
  },
  {
   "cell_type": "code",
   "execution_count": 71,
   "id": "e1878bff-ee8a-4c3d-8d54-3481f9fd6bc7",
   "metadata": {},
   "outputs": [
    {
     "data": {
      "text/plain": [
       "[10, 20, 2.3, 5.6]"
      ]
     },
     "execution_count": 71,
     "metadata": {},
     "output_type": "execute_result"
    }
   ],
   "source": [
    "# Extended version\n",
    "list1.extend(list2)\n",
    "list1"
   ]
  },
  {
   "cell_type": "code",
   "execution_count": 72,
   "id": "b1092ba9-9cb0-4fbe-99e7-0c633c828555",
   "metadata": {},
   "outputs": [
    {
     "data": {
      "text/plain": [
       "['Carrot', 'Beetroot', 'Panner', 'Braccoli', 'Lettuce', 'Jeera Rice']"
      ]
     },
     "execution_count": 72,
     "metadata": {},
     "output_type": "execute_result"
    }
   ],
   "source": [
    "veg_list"
   ]
  },
  {
   "cell_type": "markdown",
   "id": "4b899999-436e-44ff-99ae-0adec98e4a68",
   "metadata": {},
   "source": [
    "#### Membership Operators"
   ]
  },
  {
   "cell_type": "code",
   "execution_count": 73,
   "id": "61def995-9e1e-426e-a231-77b69a07a0d0",
   "metadata": {},
   "outputs": [],
   "source": [
    "vector_ext = ['SHP', 'KML', 'JSON', 'GEOJSON', 'TAB', 'VCT', 'GPKG', 'GDB', 'MDB']"
   ]
  },
  {
   "cell_type": "code",
   "execution_count": 79,
   "id": "6232ae0e-830e-47e6-a87d-9dd56ebadd11",
   "metadata": {},
   "outputs": [],
   "source": [
    "query = 'SHP'"
   ]
  },
  {
   "cell_type": "code",
   "execution_count": 80,
   "id": "6dec2b67-83e7-414c-8b88-19fc6500b509",
   "metadata": {},
   "outputs": [
    {
     "data": {
      "text/plain": [
       "True"
      ]
     },
     "execution_count": 80,
     "metadata": {},
     "output_type": "execute_result"
    }
   ],
   "source": [
    "query in vector_ext"
   ]
  },
  {
   "cell_type": "code",
   "execution_count": 81,
   "id": "8ac8363f-72db-41ab-83ad-00e08807f405",
   "metadata": {},
   "outputs": [
    {
     "data": {
      "text/plain": [
       "False"
      ]
     },
     "execution_count": 81,
     "metadata": {},
     "output_type": "execute_result"
    }
   ],
   "source": [
    "query not in vector_ext"
   ]
  },
  {
   "cell_type": "markdown",
   "id": "a03fac68-4c78-4371-ad2b-a4c520c2aea2",
   "metadata": {},
   "source": [
    "#### Sort and Reversing"
   ]
  },
  {
   "cell_type": "code",
   "execution_count": 85,
   "id": "c0441324-12bc-4529-bd7e-8ee91907cc26",
   "metadata": {},
   "outputs": [],
   "source": [
    "vector_ext = ['SHP', 'KML', 'JSON', 'GeoJSON', 'TAB', 'VCT', 'GPKG', 'GDB', 'MDB']"
   ]
  },
  {
   "cell_type": "code",
   "execution_count": 86,
   "id": "3c9cd701-b0cf-4a78-9d6f-46b257a2cc1c",
   "metadata": {},
   "outputs": [
    {
     "data": {
      "text/plain": [
       "['SHP', 'KML', 'JSON', 'GeoJSON', 'TAB', 'VCT', 'GPKG', 'GDB', 'MDB']"
      ]
     },
     "execution_count": 86,
     "metadata": {},
     "output_type": "execute_result"
    }
   ],
   "source": [
    "vector_ext"
   ]
  },
  {
   "cell_type": "code",
   "execution_count": 87,
   "id": "a30dac7a-2a89-4a9b-abff-6cf665ca4b66",
   "metadata": {},
   "outputs": [],
   "source": [
    "# Sort alpAttributeErrorhabetically ascending A to Z\n",
    "vector_ext.sort()"
   ]
  },
  {
   "cell_type": "code",
   "execution_count": 89,
   "id": "2c6a59c9-8f88-47c2-9c31-cfe5733cfe87",
   "metadata": {},
   "outputs": [
    {
     "data": {
      "text/plain": [
       "['GDB', 'GPKG', 'GeoJSON', 'JSON', 'KML', 'MDB', 'SHP', 'TAB', 'VCT']"
      ]
     },
     "execution_count": 89,
     "metadata": {},
     "output_type": "execute_result"
    }
   ],
   "source": [
    "vector_ext"
   ]
  },
  {
   "cell_type": "code",
   "execution_count": null,
   "id": "d6215d73-2b4b-4d52-b4fa-9498a6244c61",
   "metadata": {},
   "outputs": [],
   "source": [
    "# Sort alphabetically desending Z to A"
   ]
  },
  {
   "cell_type": "code",
   "execution_count": 90,
   "id": "62ef8fc0-d878-429d-a1b5-57f3cf4f5b06",
   "metadata": {},
   "outputs": [],
   "source": [
    "vector_ext.sort(reverse=True)"
   ]
  },
  {
   "cell_type": "code",
   "execution_count": 91,
   "id": "ee85a788-ffc5-41bb-8d65-871fa9713a85",
   "metadata": {},
   "outputs": [
    {
     "data": {
      "text/plain": [
       "['VCT', 'TAB', 'SHP', 'MDB', 'KML', 'JSON', 'GeoJSON', 'GPKG', 'GDB']"
      ]
     },
     "execution_count": 91,
     "metadata": {},
     "output_type": "execute_result"
    }
   ],
   "source": [
    "vector_ext"
   ]
  },
  {
   "cell_type": "code",
   "execution_count": 92,
   "id": "ff41c649-8a20-4c65-87c5-7944c98442cf",
   "metadata": {},
   "outputs": [],
   "source": [
    "# reversing the items\n",
    "names = ['Tom', 'Jerry', 'Donald', 'Pikachu']"
   ]
  },
  {
   "cell_type": "code",
   "execution_count": 93,
   "id": "d8ce0f6b-a037-488f-bb25-2e5b818f67dd",
   "metadata": {},
   "outputs": [
    {
     "data": {
      "text/plain": [
       "['Pikachu', 'Donald', 'Jerry', 'Tom']"
      ]
     },
     "execution_count": 93,
     "metadata": {},
     "output_type": "execute_result"
    }
   ],
   "source": [
    "names[::-1]"
   ]
  },
  {
   "cell_type": "markdown",
   "id": "376e6121-7a2b-409f-a3b2-2ae61647b71e",
   "metadata": {},
   "source": [
    "#### Builtin Sorted Function on List"
   ]
  },
  {
   "cell_type": "code",
   "execution_count": 95,
   "id": "b0b0c116-f401-4502-ba5c-99e958378bcb",
   "metadata": {},
   "outputs": [
    {
     "data": {
      "text/plain": [
       "['dog', 'cat', 'sheep', 'goat', 'elephant']"
      ]
     },
     "execution_count": 95,
     "metadata": {},
     "output_type": "execute_result"
    }
   ],
   "source": [
    "animals = ['dog', 'cat', 'sheep', 'goat', 'elephant']\n",
    "animals"
   ]
  },
  {
   "cell_type": "code",
   "execution_count": 97,
   "id": "c7cb7e15-09d6-4fc3-9930-38addbf0b774",
   "metadata": {},
   "outputs": [
    {
     "data": {
      "text/plain": [
       "['cat', 'dog', 'elephant', 'goat', 'sheep']"
      ]
     },
     "execution_count": 97,
     "metadata": {},
     "output_type": "execute_result"
    }
   ],
   "source": [
    "# Sort A-z\n",
    "sorted(animals)"
   ]
  },
  {
   "cell_type": "code",
   "execution_count": 98,
   "id": "ea17eca9-a090-40ef-934b-937ac6cf0f51",
   "metadata": {},
   "outputs": [
    {
     "data": {
      "text/plain": [
       "['sheep', 'goat', 'elephant', 'dog', 'cat']"
      ]
     },
     "execution_count": 98,
     "metadata": {},
     "output_type": "execute_result"
    }
   ],
   "source": [
    "# Sort Z-a\n",
    "sorted(animals, reverse=True)"
   ]
  },
  {
   "cell_type": "code",
   "execution_count": 100,
   "id": "2a700d6d-3476-45fb-86e9-275e739e0dd6",
   "metadata": {},
   "outputs": [
    {
     "data": {
      "text/plain": [
       "['dog', 'cat', 'goat', 'sheep', 'elephant']"
      ]
     },
     "execution_count": 100,
     "metadata": {},
     "output_type": "execute_result"
    }
   ],
   "source": [
    "# sort based on len of items\n",
    "sorted(animals, key=len)\n",
    "\n",
    "# we are grouping the items according to length of item\n",
    "# then sorting will happen accordingly"
   ]
  },
  {
   "cell_type": "code",
   "execution_count": 101,
   "id": "b1cd0327-606f-4f2d-8a32-5364b7d23355",
   "metadata": {},
   "outputs": [],
   "source": [
    "dummy = ['ff', 'a', 'g', 'fade', 'yes', 'no', 'male', 'female', 'data', 'info']"
   ]
  },
  {
   "cell_type": "code",
   "execution_count": 102,
   "id": "035a2bfa-bc43-4ae6-9129-754515ca7188",
   "metadata": {},
   "outputs": [],
   "source": [
    "# a, g, ff, no, yes, data, fade, info, male, female"
   ]
  },
  {
   "cell_type": "code",
   "execution_count": 103,
   "id": "7324862b-baaa-4597-b966-ff0f740074e1",
   "metadata": {},
   "outputs": [
    {
     "data": {
      "text/plain": [
       "['a', 'g', 'ff', 'no', 'yes', 'fade', 'male', 'data', 'info', 'female']"
      ]
     },
     "execution_count": 103,
     "metadata": {},
     "output_type": "execute_result"
    }
   ],
   "source": [
    "sorted(dummy, key=len)"
   ]
  },
  {
   "cell_type": "code",
   "execution_count": 104,
   "id": "ea8e778b-7397-4ea4-94f5-1064213710eb",
   "metadata": {},
   "outputs": [
    {
     "data": {
      "text/plain": [
       "['elephant', 'sheep', 'goat', 'dog', 'cat']"
      ]
     },
     "execution_count": 104,
     "metadata": {},
     "output_type": "execute_result"
    }
   ],
   "source": [
    "# reverse sort based on len of items\n",
    "sorted(animals, key=len, reverse=True)"
   ]
  },
  {
   "cell_type": "code",
   "execution_count": 105,
   "id": "eef1691d-1716-4a96-902f-f5f27707ea10",
   "metadata": {},
   "outputs": [
    {
     "data": {
      "text/plain": [
       "['female', 'fade', 'male', 'data', 'info', 'yes', 'ff', 'no', 'a', 'g']"
      ]
     },
     "execution_count": 105,
     "metadata": {},
     "output_type": "execute_result"
    }
   ],
   "source": [
    "sorted(dummy, key=len, reverse=True)"
   ]
  },
  {
   "cell_type": "code",
   "execution_count": 106,
   "id": "29ec6dc9-2d66-499a-b145-4762752718fd",
   "metadata": {},
   "outputs": [
    {
     "data": {
      "text/plain": [
       "['GDB', 'GPKG', 'GeoJSON', 'JSON', 'KML', 'MDB', 'SHP', 'TAB', 'VCT']"
      ]
     },
     "execution_count": 106,
     "metadata": {},
     "output_type": "execute_result"
    }
   ],
   "source": [
    "vector_ext = ['SHP', 'KML', 'JSON', 'GeoJSON', 'TAB', 'VCT', 'GPKG', 'GDB', 'MDB']\n",
    "# performs case sensitive sorting, where capital letters gets first importance and smaller later on\n",
    "sorted(vector_ext)"
   ]
  },
  {
   "cell_type": "code",
   "execution_count": 113,
   "id": "a7f112c0-1418-4261-9312-d7482f9f74f4",
   "metadata": {},
   "outputs": [
    {
     "data": {
      "text/plain": [
       "['GDB', 'GeoJSON', 'GPKG', 'JSON', 'KML', 'MDB', 'SHP', 'TAB', 'VCT']"
      ]
     },
     "execution_count": 113,
     "metadata": {},
     "output_type": "execute_result"
    }
   ],
   "source": [
    "# Case-Insensitive Sorting\n",
    "sorted(vector_ext, key=str.lower)"
   ]
  },
  {
   "cell_type": "markdown",
   "id": "68721cad-5939-40a3-95dd-a41bded42e37",
   "metadata": {},
   "source": [
    "#### Deep Copy and Shallow Copy"
   ]
  },
  {
   "cell_type": "code",
   "execution_count": 114,
   "id": "7da401e8-6d38-4178-915e-b85881c8e817",
   "metadata": {},
   "outputs": [
    {
     "data": {
      "text/plain": [
       "[[40, 50]]"
      ]
     },
     "execution_count": 114,
     "metadata": {},
     "output_type": "execute_result"
    }
   ],
   "source": [
    "# Shallow Copy\n",
    "master_list = [[40, 50]]\n",
    "master_list"
   ]
  },
  {
   "cell_type": "code",
   "execution_count": 115,
   "id": "b75f21e2-b146-4b03-a9c8-b5c313413694",
   "metadata": {},
   "outputs": [
    {
     "data": {
      "text/plain": [
       "[[40, 50]]"
      ]
     },
     "execution_count": 115,
     "metadata": {},
     "output_type": "execute_result"
    }
   ],
   "source": [
    "replica_list = master_list.copy()\n",
    "replica_list"
   ]
  },
  {
   "cell_type": "code",
   "execution_count": 116,
   "id": "2d8e9a89-1660-4d2c-8002-e25970dce937",
   "metadata": {},
   "outputs": [
    {
     "data": {
      "text/plain": [
       "1708339966592"
      ]
     },
     "execution_count": 116,
     "metadata": {},
     "output_type": "execute_result"
    }
   ],
   "source": [
    "# id used for accessing memory location of data in python interpretor\n",
    "# hex(id())\n",
    "# id of item 0 from master list and id of item 0 from replica list is same\n",
    "# any changes in items will reflect in others too\n",
    "\n",
    "id(master_list[0])"
   ]
  },
  {
   "cell_type": "code",
   "execution_count": 117,
   "id": "03877490-3742-45d2-bb34-277950a4e16a",
   "metadata": {},
   "outputs": [
    {
     "data": {
      "text/plain": [
       "1708339966592"
      ]
     },
     "execution_count": 117,
     "metadata": {},
     "output_type": "execute_result"
    }
   ],
   "source": [
    "id(replica_list[0])"
   ]
  },
  {
   "cell_type": "code",
   "execution_count": 118,
   "id": "616b7366-d50a-4050-b0c8-8b98bb7d3cdf",
   "metadata": {},
   "outputs": [],
   "source": [
    "# modify \n",
    "replica_list[0][0] = 500"
   ]
  },
  {
   "cell_type": "code",
   "execution_count": 119,
   "id": "68d0975d-4ab9-4d29-ae68-424bb14b0a67",
   "metadata": {},
   "outputs": [
    {
     "name": "stdout",
     "output_type": "stream",
     "text": [
      "Master List:\n",
      "[[500, 50]]\n"
     ]
    }
   ],
   "source": [
    "print(\"Master List:\")\n",
    "print(master_list)"
   ]
  },
  {
   "cell_type": "code",
   "execution_count": 120,
   "id": "ee06f82f-e2ab-4af1-bfa5-b82497cb5c6a",
   "metadata": {},
   "outputs": [
    {
     "name": "stdout",
     "output_type": "stream",
     "text": [
      "Shallow Copied List:\n",
      "[[500, 50]]\n"
     ]
    }
   ],
   "source": [
    "print(\"Shallow Copied List:\")\n",
    "print(replica_list)"
   ]
  },
  {
   "cell_type": "markdown",
   "id": "80e6d5ff-19ec-46c1-a682-516fd3189238",
   "metadata": {},
   "source": [
    "#### Deep Copy"
   ]
  },
  {
   "cell_type": "code",
   "execution_count": 126,
   "id": "013741a1-c086-4c63-9cb9-dd4f5a5099eb",
   "metadata": {},
   "outputs": [
    {
     "data": {
      "text/plain": [
       "[[1, 2, 3], [4, 5, 6]]"
      ]
     },
     "execution_count": 126,
     "metadata": {},
     "output_type": "execute_result"
    }
   ],
   "source": [
    "import copy as cpy\n",
    "\n",
    "# Original list with nested lists\n",
    "original_list = [[1, 2, 3], [4, 5, 6]]\n",
    "original_list"
   ]
  },
  {
   "cell_type": "code",
   "execution_count": 130,
   "id": "46c3aaa4-4268-46c9-b31a-b102b08960b4",
   "metadata": {},
   "outputs": [
    {
     "data": {
      "text/plain": [
       "[[1, 2, 3], [4, 5, 6]]"
      ]
     },
     "execution_count": 130,
     "metadata": {},
     "output_type": "execute_result"
    }
   ],
   "source": [
    "# Create a deep copy of the original list\n",
    "deep_copied_list = cpy.deepcopy(original_list)\n",
    "deep_copied_list"
   ]
  },
  {
   "cell_type": "code",
   "execution_count": 131,
   "id": "766004e1-51d9-4a53-9830-b6e5c6072473",
   "metadata": {},
   "outputs": [
    {
     "data": {
      "text/plain": [
       "1708343162944"
      ]
     },
     "execution_count": 131,
     "metadata": {},
     "output_type": "execute_result"
    }
   ],
   "source": [
    "# id of item 0 from original_list and id of item 0 from deep_copied_list is not same\n",
    "# any changes in items will not reflect in others\n",
    "\n",
    "id(original_list[0])"
   ]
  },
  {
   "cell_type": "code",
   "execution_count": 132,
   "id": "8b1ce0c1-f7c7-4e7d-a09d-5d01bf85cdbe",
   "metadata": {},
   "outputs": [
    {
     "data": {
      "text/plain": [
       "1708333609920"
      ]
     },
     "execution_count": 132,
     "metadata": {},
     "output_type": "execute_result"
    }
   ],
   "source": [
    "id(deep_copied_list[0])"
   ]
  },
  {
   "cell_type": "code",
   "execution_count": 133,
   "id": "3a88d96d-3820-4c64-8b5e-2d3192355e02",
   "metadata": {},
   "outputs": [],
   "source": [
    "# Modify the deep copied list\n",
    "deep_copied_list[0][0] = 100"
   ]
  },
  {
   "cell_type": "code",
   "execution_count": 134,
   "id": "f8523bb9-253f-4ac7-a13a-65966dc95265",
   "metadata": {},
   "outputs": [
    {
     "name": "stdout",
     "output_type": "stream",
     "text": [
      "Original List:\n",
      "[[1, 2, 3], [4, 5, 6]]\n"
     ]
    }
   ],
   "source": [
    "# Display both lists\n",
    "print(\"Original List:\")\n",
    "print(original_list)"
   ]
  },
  {
   "cell_type": "code",
   "execution_count": 135,
   "id": "d3136dd2-78fa-4459-be7a-d34197f72d32",
   "metadata": {},
   "outputs": [
    {
     "name": "stdout",
     "output_type": "stream",
     "text": [
      "Deep Copied List:\n",
      "[[100, 2, 3], [4, 5, 6]]\n"
     ]
    }
   ],
   "source": [
    "print(\"Deep Copied List:\")\n",
    "print(deep_copied_list)"
   ]
  },
  {
   "cell_type": "markdown",
   "id": "a1d97b87-d8d7-4607-a039-a3b09a5fb7f6",
   "metadata": {},
   "source": [
    "#### List Methods"
   ]
  },
  {
   "cell_type": "code",
   "execution_count": 136,
   "id": "beef258d-a71a-4960-b18c-6882e6ef6817",
   "metadata": {},
   "outputs": [],
   "source": [
    "# get a list of functions (methods) associated with a Python list\n",
    "\n",
    "# create empty list\n",
    "my_list = []\n"
   ]
  },
  {
   "cell_type": "code",
   "execution_count": 137,
   "id": "8801f6f4-c96f-4ea1-b9aa-857693eaec86",
   "metadata": {},
   "outputs": [
    {
     "data": {
      "text/plain": [
       "list"
      ]
     },
     "execution_count": 137,
     "metadata": {},
     "output_type": "execute_result"
    }
   ],
   "source": [
    "type(my_list)"
   ]
  },
  {
   "cell_type": "code",
   "execution_count": 140,
   "id": "b935d3c8-7fce-4adc-935d-0b35f4db11f8",
   "metadata": {},
   "outputs": [
    {
     "data": {
      "text/plain": [
       "['__add__',\n",
       " '__class__',\n",
       " '__class_getitem__',\n",
       " '__contains__',\n",
       " '__delattr__',\n",
       " '__delitem__',\n",
       " '__dir__',\n",
       " '__doc__',\n",
       " '__eq__',\n",
       " '__format__',\n",
       " '__ge__',\n",
       " '__getattribute__',\n",
       " '__getitem__',\n",
       " '__getstate__',\n",
       " '__gt__',\n",
       " '__hash__',\n",
       " '__iadd__',\n",
       " '__imul__',\n",
       " '__init__',\n",
       " '__init_subclass__',\n",
       " '__iter__',\n",
       " '__le__',\n",
       " '__len__',\n",
       " '__lt__',\n",
       " '__mul__',\n",
       " '__ne__',\n",
       " '__new__',\n",
       " '__reduce__',\n",
       " '__reduce_ex__',\n",
       " '__repr__',\n",
       " '__reversed__',\n",
       " '__rmul__',\n",
       " '__setattr__',\n",
       " '__setitem__',\n",
       " '__sizeof__',\n",
       " '__str__',\n",
       " '__subclasshook__',\n",
       " 'append',\n",
       " 'clear',\n",
       " 'copy',\n",
       " 'count',\n",
       " 'extend',\n",
       " 'index',\n",
       " 'insert',\n",
       " 'pop',\n",
       " 'remove',\n",
       " 'reverse',\n",
       " 'sort']"
      ]
     },
     "execution_count": 140,
     "metadata": {},
     "output_type": "execute_result"
    }
   ],
   "source": [
    "# it will all functions and methods associated with list data types\n",
    "dir(my_list)"
   ]
  },
  {
   "cell_type": "code",
   "execution_count": 144,
   "id": "47edd200-b4fc-4b1b-9354-428919260fc5",
   "metadata": {},
   "outputs": [
    {
     "name": "stdout",
     "output_type": "stream",
     "text": [
      "Help on method_descriptor:\n",
      "\n",
      "append(self, object, /) unbound builtins.list method\n",
      "    Append object to the end of the list.\n",
      "\n"
     ]
    }
   ],
   "source": [
    "# getting help of particular methods/functions\n",
    "\n",
    "# To get help on the append method\n",
    "help(list.append)"
   ]
  },
  {
   "cell_type": "code",
   "execution_count": 145,
   "id": "774241e0-0f94-4a66-845f-7c55a502bed0",
   "metadata": {},
   "outputs": [
    {
     "name": "stdout",
     "output_type": "stream",
     "text": [
      "Help on method_descriptor:\n",
      "\n",
      "sort(self, /, *, key=None, reverse=False) unbound builtins.list method\n",
      "    Sort the list in ascending order and return None.\n",
      "\n",
      "    The sort is in-place (i.e. the list itself is modified) and stable (i.e. the\n",
      "    order of two equal elements is maintained).\n",
      "\n",
      "    If a key function is given, apply it once to each list item and sort them,\n",
      "    ascending or descending, according to their function values.\n",
      "\n",
      "    The reverse flag can be set to sort in descending order.\n",
      "\n"
     ]
    }
   ],
   "source": [
    "help(list.sort)"
   ]
  },
  {
   "cell_type": "code",
   "execution_count": 146,
   "id": "68007468-d7f0-4077-b9dd-161a3b7e9694",
   "metadata": {},
   "outputs": [
    {
     "data": {
      "text/plain": [
       "\u001b[1;31mSignature:\u001b[0m \u001b[0mmy_list\u001b[0m\u001b[1;33m.\u001b[0m\u001b[0mcount\u001b[0m\u001b[1;33m(\u001b[0m\u001b[0mvalue\u001b[0m\u001b[1;33m,\u001b[0m \u001b[1;33m/\u001b[0m\u001b[1;33m)\u001b[0m\u001b[1;33m\u001b[0m\u001b[1;33m\u001b[0m\u001b[0m\n",
       "\u001b[1;31mDocstring:\u001b[0m Return number of occurrences of value.\n",
       "\u001b[1;31mType:\u001b[0m      builtin_function_or_method"
      ]
     },
     "metadata": {},
     "output_type": "display_data"
    }
   ],
   "source": [
    "my_list.count?"
   ]
  },
  {
   "cell_type": "code",
   "execution_count": 148,
   "id": "bba8ac8b-eeae-47da-b02c-7c2f44f9f7c2",
   "metadata": {},
   "outputs": [
    {
     "name": "stdout",
     "output_type": "stream",
     "text": [
      "Return number of occurrences of value.\n"
     ]
    }
   ],
   "source": [
    "# accessing doc strings\n",
    "print(list.count.__doc__)"
   ]
  },
  {
   "cell_type": "code",
   "execution_count": 149,
   "id": "54893656-db25-49e6-9cad-9b024b07d76a",
   "metadata": {},
   "outputs": [
    {
     "data": {
      "text/plain": [
       "[1, 2, 3, 4]"
      ]
     },
     "execution_count": 149,
     "metadata": {},
     "output_type": "execute_result"
    }
   ],
   "source": [
    "# Creating a list\n",
    "my_list = [1, 2, 3, 4]\n",
    "my_list"
   ]
  },
  {
   "cell_type": "code",
   "execution_count": 150,
   "id": "7db29a3b-daa3-4ce5-905d-da66a770d16e",
   "metadata": {},
   "outputs": [
    {
     "data": {
      "text/plain": [
       "4"
      ]
     },
     "execution_count": 150,
     "metadata": {},
     "output_type": "execute_result"
    }
   ],
   "source": [
    "# length of the list\n",
    "len(my_list)"
   ]
  },
  {
   "cell_type": "code",
   "execution_count": 151,
   "id": "ad98b012-5224-4cd4-915d-70ebe2a6ca54",
   "metadata": {},
   "outputs": [
    {
     "data": {
      "text/plain": [
       "[1, 2, 3, 4, 50]"
      ]
     },
     "execution_count": 151,
     "metadata": {},
     "output_type": "execute_result"
    }
   ],
   "source": [
    "# Appending\n",
    "# Append object to the end of the list.\n",
    "my_list.append(50)\n",
    "my_list"
   ]
  },
  {
   "cell_type": "code",
   "execution_count": 152,
   "id": "4c467eed-5655-448c-aca1-2f444bf447ec",
   "metadata": {},
   "outputs": [
    {
     "data": {
      "text/plain": [
       "[1, 2, 3, 4, 50, 500]"
      ]
     },
     "execution_count": 152,
     "metadata": {},
     "output_type": "execute_result"
    }
   ],
   "source": [
    "my_list.append(500)\n",
    "my_list"
   ]
  },
  {
   "cell_type": "code",
   "execution_count": 153,
   "id": "7c1994ef-7a21-4203-b34e-117b97a7700c",
   "metadata": {},
   "outputs": [
    {
     "data": {
      "text/plain": [
       "[1, 2, 3, 4, 50, 500, 500]"
      ]
     },
     "execution_count": 153,
     "metadata": {},
     "output_type": "execute_result"
    }
   ],
   "source": [
    "my_list.append(500)\n",
    "my_list"
   ]
  },
  {
   "cell_type": "code",
   "execution_count": 154,
   "id": "85aaf2b4-adea-46d2-a4b5-48c8da6a5b59",
   "metadata": {},
   "outputs": [
    {
     "data": {
      "text/plain": [
       "[1, 2, 3, 4, 50, 500, 500, 10, 20]"
      ]
     },
     "execution_count": 154,
     "metadata": {},
     "output_type": "execute_result"
    }
   ],
   "source": [
    "# Extending\n",
    "my_list.extend([10, 20])\n",
    "my_list"
   ]
  },
  {
   "cell_type": "code",
   "execution_count": 155,
   "id": "ff9fef40-cf85-40d7-8cf2-9c1817278462",
   "metadata": {},
   "outputs": [
    {
     "data": {
      "text/plain": [
       "[1, 2, 3, 4, 50, 500, 500, 10, 20, 0, 0, 20]"
      ]
     },
     "execution_count": 155,
     "metadata": {},
     "output_type": "execute_result"
    }
   ],
   "source": [
    "my_list.extend([0, 0, 20])\n",
    "my_list"
   ]
  },
  {
   "cell_type": "code",
   "execution_count": 156,
   "id": "996c6d91-10f0-44e1-ab51-d8cf58df4ef0",
   "metadata": {},
   "outputs": [
    {
     "data": {
      "text/plain": [
       "[15, 1, 2, 3, 4, 50, 500, 500, 10, 20, 0, 0, 20]"
      ]
     },
     "execution_count": 156,
     "metadata": {},
     "output_type": "execute_result"
    }
   ],
   "source": [
    "# Inserting\n",
    "my_list.insert(0, 15)\n",
    "my_list"
   ]
  },
  {
   "cell_type": "code",
   "execution_count": 160,
   "id": "8f91d8fc-6561-4923-9dda-9dbebf393730",
   "metadata": {},
   "outputs": [
    {
     "data": {
      "text/plain": [
       "[15, 1, 1000, 2, 3, 4, 50, 500, 500, 10, 20, 0, 0, 20, 1000, 15, 1000]"
      ]
     },
     "execution_count": 160,
     "metadata": {},
     "output_type": "execute_result"
    }
   ],
   "source": [
    "# Inserting\n",
    "my_list.insert(2, 1000)\n",
    "my_list"
   ]
  },
  {
   "cell_type": "code",
   "execution_count": 161,
   "id": "e1962813-a087-4b09-845b-573963cb7c99",
   "metadata": {},
   "outputs": [
    {
     "data": {
      "text/plain": [
       "[15, 1000, 2, 3, 4, 50, 500, 500, 10, 20, 0, 0, 20, 1000, 15, 1000]"
      ]
     },
     "execution_count": 161,
     "metadata": {},
     "output_type": "execute_result"
    }
   ],
   "source": [
    "# Removing\n",
    "my_list.remove(1)\n",
    "my_list"
   ]
  },
  {
   "cell_type": "code",
   "execution_count": 162,
   "id": "eb6ecca4-0e43-4742-8b29-e67e790b55eb",
   "metadata": {},
   "outputs": [
    {
     "data": {
      "text/plain": [
       "[15, 2, 3, 4, 50, 500, 500, 10, 20, 0, 0, 20, 1000, 15, 1000]"
      ]
     },
     "execution_count": 162,
     "metadata": {},
     "output_type": "execute_result"
    }
   ],
   "source": [
    "# Removing\n",
    "my_list.remove(1000)\n",
    "my_list"
   ]
  },
  {
   "cell_type": "code",
   "execution_count": 163,
   "id": "3a9f8353-97be-4473-a49c-ecdd6cece723",
   "metadata": {},
   "outputs": [
    {
     "data": {
      "text/plain": [
       "[15, 2, 3, 4, 50, 500, 500, 10, 20, 0, 0, 20, 15, 1000]"
      ]
     },
     "execution_count": 163,
     "metadata": {},
     "output_type": "execute_result"
    }
   ],
   "source": [
    "# Removing\n",
    "my_list.remove(1000)\n",
    "my_list"
   ]
  },
  {
   "cell_type": "code",
   "execution_count": 164,
   "id": "2b829afd-5268-43c3-80da-ed27403d4f89",
   "metadata": {},
   "outputs": [
    {
     "data": {
      "text/plain": [
       "[15, 2, 3, 4, 50, 500, 500, 10, 20, 0, 0, 20, 15]"
      ]
     },
     "execution_count": 164,
     "metadata": {},
     "output_type": "execute_result"
    }
   ],
   "source": [
    "# Popping\n",
    "my_list.pop()\n",
    "my_list"
   ]
  },
  {
   "cell_type": "code",
   "execution_count": 165,
   "id": "95eee797-19d1-485f-9078-ece8216944ec",
   "metadata": {},
   "outputs": [
    {
     "data": {
      "text/plain": [
       "[15, 2, 3, 4, 50, 500, 500, 10, 20, 0, 0, 20]"
      ]
     },
     "execution_count": 165,
     "metadata": {},
     "output_type": "execute_result"
    }
   ],
   "source": [
    "# Popping\n",
    "my_list.pop()\n",
    "my_list"
   ]
  },
  {
   "cell_type": "code",
   "execution_count": 166,
   "id": "1595c4c8-db73-4ddf-8fa8-10a655d1adc1",
   "metadata": {},
   "outputs": [
    {
     "data": {
      "text/plain": [
       "[15, 2, 3, 4, 50, 500, 500, 10, 20, 0, 0]"
      ]
     },
     "execution_count": 166,
     "metadata": {},
     "output_type": "execute_result"
    }
   ],
   "source": [
    "# Popping\n",
    "my_list.pop()\n",
    "my_list"
   ]
  },
  {
   "cell_type": "code",
   "execution_count": 167,
   "id": "a7a0fd61-03cf-430d-bfaa-11c58ff18328",
   "metadata": {},
   "outputs": [
    {
     "data": {
      "text/plain": [
       "[0, 0, 20, 10, 500, 500, 50, 4, 3, 2, 15]"
      ]
     },
     "execution_count": 167,
     "metadata": {},
     "output_type": "execute_result"
    }
   ],
   "source": [
    "# Reversing\n",
    "my_list.reverse()\n",
    "my_list"
   ]
  },
  {
   "cell_type": "code",
   "execution_count": 169,
   "id": "3993affa-41fd-4298-95e3-0c08971715b7",
   "metadata": {},
   "outputs": [
    {
     "data": {
      "text/plain": [
       "[0, 0, 20, 10, 500, 500, 50, 4, 3, 2, 15, 4, 4]"
      ]
     },
     "execution_count": 169,
     "metadata": {},
     "output_type": "execute_result"
    }
   ],
   "source": [
    "my_list.append(4)\n",
    "my_list"
   ]
  },
  {
   "cell_type": "code",
   "execution_count": 171,
   "id": "2357eac4-4b3d-4d9e-9e50-0ee111215a99",
   "metadata": {},
   "outputs": [
    {
     "data": {
      "text/plain": [
       "2"
      ]
     },
     "execution_count": 171,
     "metadata": {},
     "output_type": "execute_result"
    }
   ],
   "source": [
    "my_list.count(500)"
   ]
  },
  {
   "cell_type": "code",
   "execution_count": 172,
   "id": "5a2d61b9-5bfa-4ecd-8b06-29029a3a741d",
   "metadata": {},
   "outputs": [
    {
     "data": {
      "text/plain": [
       "[0, 0, 20, 10, 500, 500, 50, 4, 3, 2, 15, 4, 4]"
      ]
     },
     "execution_count": 172,
     "metadata": {},
     "output_type": "execute_result"
    }
   ],
   "source": [
    "my_list"
   ]
  },
  {
   "cell_type": "code",
   "execution_count": 174,
   "id": "8b639cdd-e411-407d-8084-4e365783b293",
   "metadata": {},
   "outputs": [
    {
     "data": {
      "text/plain": [
       "\u001b[1;31mSignature:\u001b[0m \u001b[0mmy_list\u001b[0m\u001b[1;33m.\u001b[0m\u001b[0mindex\u001b[0m\u001b[1;33m(\u001b[0m\u001b[0mvalue\u001b[0m\u001b[1;33m,\u001b[0m \u001b[0mstart\u001b[0m\u001b[1;33m=\u001b[0m\u001b[1;36m0\u001b[0m\u001b[1;33m,\u001b[0m \u001b[0mstop\u001b[0m\u001b[1;33m=\u001b[0m\u001b[1;36m9223372036854775807\u001b[0m\u001b[1;33m,\u001b[0m \u001b[1;33m/\u001b[0m\u001b[1;33m)\u001b[0m\u001b[1;33m\u001b[0m\u001b[1;33m\u001b[0m\u001b[0m\n",
       "\u001b[1;31mDocstring:\u001b[0m\n",
       "Return first index of value.\n",
       "\n",
       "Raises ValueError if the value is not present.\n",
       "\u001b[1;31mType:\u001b[0m      builtin_function_or_method"
      ]
     },
     "metadata": {},
     "output_type": "display_data"
    }
   ],
   "source": [
    "my_list.index?"
   ]
  },
  {
   "cell_type": "code",
   "execution_count": 175,
   "id": "a9404dda-43d4-4dc8-9747-4d25d93c275a",
   "metadata": {},
   "outputs": [
    {
     "data": {
      "text/plain": [
       "4"
      ]
     },
     "execution_count": 175,
     "metadata": {},
     "output_type": "execute_result"
    }
   ],
   "source": [
    "my_list.index(500)"
   ]
  },
  {
   "cell_type": "code",
   "execution_count": 176,
   "id": "2799b188-cfcf-4e51-9f3d-b8f263080e3f",
   "metadata": {},
   "outputs": [
    {
     "data": {
      "text/plain": [
       "[0, 0, 20, 10, 500, 500, 50, 4, 3, 2, 15, 4, 4]"
      ]
     },
     "execution_count": 176,
     "metadata": {},
     "output_type": "execute_result"
    }
   ],
   "source": [
    "my_list"
   ]
  },
  {
   "cell_type": "code",
   "execution_count": 177,
   "id": "679e0da9-26b1-429f-9ced-e3adfcbdac3d",
   "metadata": {},
   "outputs": [],
   "source": [
    "my_list.clear()"
   ]
  },
  {
   "cell_type": "code",
   "execution_count": 178,
   "id": "0d6925f1-777d-48dd-a98f-90192717e93b",
   "metadata": {},
   "outputs": [
    {
     "data": {
      "text/plain": [
       "[]"
      ]
     },
     "execution_count": 178,
     "metadata": {},
     "output_type": "execute_result"
    }
   ],
   "source": [
    "my_list"
   ]
  },
  {
   "cell_type": "markdown",
   "id": "7dbcaa2a-43d1-412e-a715-6fbfdbc74e37",
   "metadata": {},
   "source": [
    "##### Method chaining\n",
    "For Python lists, we often can't chain many built-in list methods because most of them return None (since they modify the list in place) rather than returning the list itself. However, we can chain methods that either return a new list or an iterable object."
   ]
  },
  {
   "cell_type": "code",
   "execution_count": 225,
   "id": "66f80299-37c8-4a16-9f4c-cdf4f0c500d9",
   "metadata": {},
   "outputs": [],
   "source": [
    "my_list = [1, 2, 3, 4]"
   ]
  },
  {
   "cell_type": "code",
   "execution_count": 228,
   "id": "b845a949-711f-4573-a46c-850bc20f92db",
   "metadata": {},
   "outputs": [],
   "source": [
    "test = my_list.append(50)"
   ]
  },
  {
   "cell_type": "code",
   "execution_count": null,
   "id": "8f6f274a-e030-43aa-81ba-85daa3fe2918",
   "metadata": {},
   "outputs": [],
   "source": []
  },
  {
   "cell_type": "markdown",
   "id": "99f0d8ff-3073-4578-9d06-59c12bf4bf50",
   "metadata": {},
   "source": [
    "***"
   ]
  },
  {
   "cell_type": "markdown",
   "id": "26e0b769-e1a4-4365-b509-4c0409f30f3d",
   "metadata": {},
   "source": [
    "#### Creating list with Range Function\n"
   ]
  },
  {
   "cell_type": "code",
   "execution_count": null,
   "id": "2d34940f-531a-479d-8ada-a52519927c0e",
   "metadata": {},
   "outputs": [],
   "source": [
    "# range(start, stop, step)"
   ]
  },
  {
   "cell_type": "code",
   "execution_count": null,
   "id": "97a7bac9-1886-41fd-b1d4-7c55ac496c1d",
   "metadata": {},
   "outputs": [],
   "source": [
    "a = list(range(0,5))"
   ]
  },
  {
   "cell_type": "code",
   "execution_count": 192,
   "id": "98b4122b-2de7-477a-8449-e97fa4c7f957",
   "metadata": {},
   "outputs": [
    {
     "data": {
      "text/plain": [
       "[1,\n",
       " 2,\n",
       " 3,\n",
       " 4,\n",
       " 5,\n",
       " 6,\n",
       " 7,\n",
       " 8,\n",
       " 9,\n",
       " 10,\n",
       " 11,\n",
       " 12,\n",
       " 13,\n",
       " 14,\n",
       " 15,\n",
       " 16,\n",
       " 17,\n",
       " 18,\n",
       " 19,\n",
       " 20,\n",
       " 21,\n",
       " 22,\n",
       " 23,\n",
       " 24,\n",
       " 25,\n",
       " 26,\n",
       " 27,\n",
       " 28,\n",
       " 29,\n",
       " 30,\n",
       " 31,\n",
       " 32,\n",
       " 33,\n",
       " 34,\n",
       " 35,\n",
       " 36,\n",
       " 37,\n",
       " 38,\n",
       " 39,\n",
       " 40,\n",
       " 41,\n",
       " 42,\n",
       " 43,\n",
       " 44,\n",
       " 45,\n",
       " 46,\n",
       " 47,\n",
       " 48,\n",
       " 49,\n",
       " 50,\n",
       " 51,\n",
       " 52,\n",
       " 53,\n",
       " 54,\n",
       " 55,\n",
       " 56,\n",
       " 57,\n",
       " 58,\n",
       " 59,\n",
       " 60,\n",
       " 61,\n",
       " 62,\n",
       " 63,\n",
       " 64,\n",
       " 65,\n",
       " 66,\n",
       " 67,\n",
       " 68,\n",
       " 69,\n",
       " 70,\n",
       " 71,\n",
       " 72,\n",
       " 73,\n",
       " 74,\n",
       " 75,\n",
       " 76,\n",
       " 77,\n",
       " 78,\n",
       " 79,\n",
       " 80,\n",
       " 81,\n",
       " 82,\n",
       " 83,\n",
       " 84,\n",
       " 85,\n",
       " 86,\n",
       " 87,\n",
       " 88,\n",
       " 89,\n",
       " 90,\n",
       " 91,\n",
       " 92,\n",
       " 93,\n",
       " 94,\n",
       " 95,\n",
       " 96,\n",
       " 97,\n",
       " 98,\n",
       " 99,\n",
       " 100]"
      ]
     },
     "execution_count": 192,
     "metadata": {},
     "output_type": "execute_result"
    }
   ],
   "source": [
    "a = list(range(1,101))\n",
    "a"
   ]
  },
  {
   "cell_type": "markdown",
   "id": "9d7b2d90-c4ce-4591-bd00-ca7350d83f20",
   "metadata": {},
   "source": [
    "#### Enumerating List"
   ]
  },
  {
   "cell_type": "code",
   "execution_count": null,
   "id": "796333b2-656e-4ab9-a3c1-bfb27d6cb563",
   "metadata": {},
   "outputs": [],
   "source": [
    "enumerated = list(enumerate(a))\n",
    "print(enumerated)"
   ]
  },
  {
   "cell_type": "code",
   "execution_count": 194,
   "id": "63f1fe3e-9ead-4d57-85b6-7674ffed4bc6",
   "metadata": {},
   "outputs": [],
   "source": [
    "# Extract Hello\n",
    "nested_list = [1, 2, [3, 4], [5, [100, 200, ['Hello']], 23, 11], 1, 7]"
   ]
  },
  {
   "cell_type": "code",
   "execution_count": 195,
   "id": "859c5fbe-c17f-425f-8305-91fa923add3f",
   "metadata": {},
   "outputs": [
    {
     "name": "stdout",
     "output_type": "stream",
     "text": [
      "[(0, 1), (1, 2), (2, [3, 4]), (3, [5, [100, 200, ['Hello']], 23, 11]), (4, 1), (5, 7)]\n"
     ]
    }
   ],
   "source": [
    "enumerated = list(enumerate(nested_list))\n",
    "print(enumerated)"
   ]
  },
  {
   "cell_type": "code",
   "execution_count": 196,
   "id": "d531e22c-5f01-41b7-b8eb-9a17cfd6ce4c",
   "metadata": {},
   "outputs": [
    {
     "name": "stdout",
     "output_type": "stream",
     "text": [
      "[(0, 5), (1, [100, 200, ['Hello']]), (2, 23), (3, 11)]\n"
     ]
    }
   ],
   "source": [
    "enumerated = list(enumerate(nested_list[3]))\n",
    "print(enumerated)"
   ]
  },
  {
   "cell_type": "code",
   "execution_count": 197,
   "id": "71834f49-6ee0-4ade-b4aa-4e17df73dd84",
   "metadata": {},
   "outputs": [
    {
     "name": "stdout",
     "output_type": "stream",
     "text": [
      "[(0, 100), (1, 200), (2, ['Hello'])]\n"
     ]
    }
   ],
   "source": [
    "enumerated = list(enumerate(nested_list[3][1]))\n",
    "print(enumerated)"
   ]
  },
  {
   "cell_type": "code",
   "execution_count": 198,
   "id": "bdd6c54f-3a29-42bc-8632-223474c33534",
   "metadata": {},
   "outputs": [
    {
     "name": "stdout",
     "output_type": "stream",
     "text": [
      "[(0, 'Hello')]\n"
     ]
    }
   ],
   "source": [
    "enumerated = list(enumerate(nested_list[3][1][2]))\n",
    "print(enumerated)"
   ]
  },
  {
   "cell_type": "code",
   "execution_count": 200,
   "id": "031f536e-8016-4f5f-b163-5f62ab3969e4",
   "metadata": {},
   "outputs": [
    {
     "name": "stdout",
     "output_type": "stream",
     "text": [
      "[(0, 'Hello')]\n"
     ]
    }
   ],
   "source": [
    "enumerated = list(enumerate(nested_list[3][1][2]))\n",
    "print(enumerated)"
   ]
  },
  {
   "cell_type": "code",
   "execution_count": 201,
   "id": "692ee102-2fec-4cad-b303-595dbf038735",
   "metadata": {},
   "outputs": [],
   "source": [
    "dummy = [15, 2, 3, 4, 50, 500, 500, 10, 20, 0, 0, 20, 15]"
   ]
  },
  {
   "cell_type": "code",
   "execution_count": 202,
   "id": "d3e8ef19-7972-4e06-aba9-14850a56f851",
   "metadata": {},
   "outputs": [
    {
     "data": {
      "text/plain": [
       "13"
      ]
     },
     "execution_count": 202,
     "metadata": {},
     "output_type": "execute_result"
    }
   ],
   "source": [
    "len(dummy)"
   ]
  },
  {
   "cell_type": "code",
   "execution_count": 203,
   "id": "532a7f8b-f239-4e2c-8350-374b2ef2cd03",
   "metadata": {},
   "outputs": [
    {
     "data": {
      "text/plain": [
       "\u001b[1;31mSignature:\u001b[0m \u001b[0mdummy\u001b[0m\u001b[1;33m.\u001b[0m\u001b[0minsert\u001b[0m\u001b[1;33m(\u001b[0m\u001b[0mindex\u001b[0m\u001b[1;33m,\u001b[0m \u001b[0mobject\u001b[0m\u001b[1;33m,\u001b[0m \u001b[1;33m/\u001b[0m\u001b[1;33m)\u001b[0m\u001b[1;33m\u001b[0m\u001b[1;33m\u001b[0m\u001b[0m\n",
       "\u001b[1;31mDocstring:\u001b[0m Insert object before index.\n",
       "\u001b[1;31mType:\u001b[0m      builtin_function_or_method"
      ]
     },
     "metadata": {},
     "output_type": "display_data"
    }
   ],
   "source": [
    "dummy.insert?"
   ]
  },
  {
   "cell_type": "code",
   "execution_count": 204,
   "id": "afbee867-7b15-4aca-b555-617b812fddea",
   "metadata": {},
   "outputs": [],
   "source": [
    "dummy.insert(20, 8000)"
   ]
  },
  {
   "cell_type": "code",
   "execution_count": 205,
   "id": "a57ce9cf-fb92-46b8-bbc7-069017889548",
   "metadata": {},
   "outputs": [
    {
     "data": {
      "text/plain": [
       "[15, 2, 3, 4, 50, 500, 500, 10, 20, 0, 0, 20, 15, 8000]"
      ]
     },
     "execution_count": 205,
     "metadata": {},
     "output_type": "execute_result"
    }
   ],
   "source": [
    "dummy"
   ]
  },
  {
   "cell_type": "code",
   "execution_count": 207,
   "id": "0d669b32-2eec-4845-88a7-7d0e0fb3fe02",
   "metadata": {},
   "outputs": [
    {
     "name": "stdout",
     "output_type": "stream",
     "text": [
      "[(0, 15), (1, 2), (2, 3), (3, 4), (4, 50), (5, 500), (6, 500), (7, 10), (8, 20), (9, 0), (10, 0), (11, 20), (12, 15), (13, 8000)]\n"
     ]
    }
   ],
   "source": [
    "index_item = list(enumerate(dummy))\n",
    "print(index_item)"
   ]
  },
  {
   "cell_type": "code",
   "execution_count": 208,
   "id": "e584d037-77e8-4203-a122-9d5c11ea9f42",
   "metadata": {},
   "outputs": [],
   "source": [
    "dummy.insert(200, 8000)"
   ]
  },
  {
   "cell_type": "code",
   "execution_count": 209,
   "id": "d0b40be1-5428-487f-a024-963538166a0b",
   "metadata": {},
   "outputs": [
    {
     "name": "stdout",
     "output_type": "stream",
     "text": [
      "[(0, 15), (1, 2), (2, 3), (3, 4), (4, 50), (5, 500), (6, 500), (7, 10), (8, 20), (9, 0), (10, 0), (11, 20), (12, 15), (13, 8000), (14, 8000)]\n"
     ]
    }
   ],
   "source": [
    "index_item = list(enumerate(dummy))\n",
    "print(index_item)"
   ]
  },
  {
   "cell_type": "markdown",
   "id": "ae38d44c-6d9d-4471-b1b4-e693264375d6",
   "metadata": {},
   "source": [
    "#### Mathematical operations on Lists"
   ]
  },
  {
   "cell_type": "code",
   "execution_count": 211,
   "id": "82597f6b-963f-42df-b340-a312a17c074a",
   "metadata": {},
   "outputs": [
    {
     "data": {
      "text/plain": [
       "144"
      ]
     },
     "execution_count": 211,
     "metadata": {},
     "output_type": "execute_result"
    }
   ],
   "source": [
    "# Calculate the sum of elements in a list\n",
    "six_hourly_rf = [45, 56, 34, 9]\n",
    "\n",
    "day_rf = sum(six_hourly_rf)\n",
    "day_rf"
   ]
  },
  {
   "cell_type": "code",
   "execution_count": 212,
   "id": "1d0e26fc-872c-43ef-a9f0-afcb7f80a068",
   "metadata": {},
   "outputs": [
    {
     "name": "stdout",
     "output_type": "stream",
     "text": [
      "36.0\n"
     ]
    }
   ],
   "source": [
    "# Calculate the average of elements in a list\n",
    "six_hourly_rf = [45, 56, 34, 9]\n",
    "\n",
    "average_rf_every_six_hours = sum(six_hourly_rf) / len(six_hourly_rf)\n",
    "print(average_rf_every_six_hours)"
   ]
  },
  {
   "cell_type": "code",
   "execution_count": 214,
   "id": "08ddfcd7-b8f9-4f5c-acc5-c6d402ca6089",
   "metadata": {},
   "outputs": [
    {
     "name": "stdout",
     "output_type": "stream",
     "text": [
      "87\n",
      "40\n",
      "47\n"
     ]
    }
   ],
   "source": [
    "# Find the maximum and minimum values in a list\n",
    "numbers = [45, 44, 67, 87, 40]\n",
    "\n",
    "max_value = max(numbers)\n",
    "print(max_value)\n",
    "\n",
    "min_value = min(numbers)\n",
    "print(min_value)\n",
    "\n",
    "# Range, spread of value\n",
    "range_in_class = max_value - min_value\n",
    "print(range_in_class)"
   ]
  },
  {
   "cell_type": "markdown",
   "id": "ee1b1d9e-eed1-4268-bebc-3164c704cd9e",
   "metadata": {},
   "source": [
    "#### Statistical Operations on List"
   ]
  },
  {
   "cell_type": "code",
   "execution_count": 216,
   "id": "8e67e5d4-4393-4a48-a7b5-74e2cbb8dc3c",
   "metadata": {},
   "outputs": [
    {
     "data": {
      "text/plain": [
       "28.0"
      ]
     },
     "execution_count": 216,
     "metadata": {},
     "output_type": "execute_result"
    }
   ],
   "source": [
    "import statistics as st\n",
    "\n",
    "# List of numbers\n",
    "numbers = [10, 20, 20.0, 40, 50]\n",
    "\n",
    "# Calculate the mean\n",
    "mean = st.mean(numbers)\n",
    "mean"
   ]
  },
  {
   "cell_type": "code",
   "execution_count": 219,
   "id": "7c20946c-e483-49e7-a0fe-dbd6949c33af",
   "metadata": {},
   "outputs": [
    {
     "data": {
      "text/plain": [
       "22.5"
      ]
     },
     "execution_count": 219,
     "metadata": {},
     "output_type": "execute_result"
    }
   ],
   "source": [
    "# Calculate the median\n",
    "\n",
    "test = [0, 20, 25, 4, 40, 600]\n",
    "median = st.median(test)\n",
    "median"
   ]
  },
  {
   "cell_type": "code",
   "execution_count": 220,
   "id": "5c157849-b06e-4e87-8ae9-c5bd9f3f10b1",
   "metadata": {},
   "outputs": [
    {
     "data": {
      "text/plain": [
       "600"
      ]
     },
     "execution_count": 220,
     "metadata": {},
     "output_type": "execute_result"
    }
   ],
   "source": [
    "# Calculate the mode\n",
    "test1 = [0, 20, 25, 4, 40, 600, 600, 600]\n",
    "mode = st.mode(test1)\n",
    "mode"
   ]
  },
  {
   "cell_type": "code",
   "execution_count": 222,
   "id": "57c12d57-a9de-48b0-806f-01883407db05",
   "metadata": {},
   "outputs": [
    {
     "data": {
      "text/plain": [
       "16.431676725154983"
      ]
     },
     "execution_count": 222,
     "metadata": {},
     "output_type": "execute_result"
    }
   ],
   "source": [
    "# Calculate standard deviation\n",
    "# refer z-scores\n",
    "std_dev = st.stdev(numbers)\n",
    "std_dev"
   ]
  },
  {
   "cell_type": "markdown",
   "id": "1fdb98e7-1e4b-4328-a3d9-5b0cc67e506c",
   "metadata": {},
   "source": []
  },
  {
   "cell_type": "code",
   "execution_count": null,
   "id": "a0f33135-f178-495e-950c-1e8679cdac31",
   "metadata": {},
   "outputs": [],
   "source": []
  }
 ],
 "metadata": {
  "kernelspec": {
   "display_name": "Python 3 (ipykernel)",
   "language": "python",
   "name": "python3"
  },
  "language_info": {
   "codemirror_mode": {
    "name": "ipython",
    "version": 3
   },
   "file_extension": ".py",
   "mimetype": "text/x-python",
   "name": "python",
   "nbconvert_exporter": "python",
   "pygments_lexer": "ipython3",
   "version": "3.12.4"
  }
 },
 "nbformat": 4,
 "nbformat_minor": 5
}
