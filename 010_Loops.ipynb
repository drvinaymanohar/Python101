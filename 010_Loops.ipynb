{
 "cells": [
  {
   "cell_type": "markdown",
   "id": "ce7aee94-4529-4dfa-8390-8876ec6d0e7a",
   "metadata": {},
   "source": [
    "#### Iterations - Loops"
   ]
  },
  {
   "cell_type": "markdown",
   "id": "de07dc72-b54f-420e-bc7a-b68e4f5fc697",
   "metadata": {},
   "source": [
    "- Iteration means executing the same block of code over and over\n",
    "- A programming structure that implements iterations are called a loop."
   ]
  },
  {
   "cell_type": "markdown",
   "id": "b31045e9-ec44-4222-8eb2-149f25a7457a",
   "metadata": {},
   "source": [
    "`Definite and indefinite loops`\n",
    "\n",
    "Conceptually, we distinguish two types of loops, which differ in the way in which the number of iterations (i.e., repetitions of the body of the loop) is determined:\n",
    "\n",
    "\n",
    "- In definite loops, the number of iterations is known before we start the execution of the body of the loop.\n",
    "    - Example: Playing number of Musics in DVD, USB\n",
    "    - Running three laps in playground\n",
    "\n",
    "<br>\n",
    "<br>\n",
    "\n",
    "- In indefinite loops, the number of iterations is not known before we start to execute the body of the loop, but depends on when a certain condition becomes true\n",
    "  \n",
    "    - Example: Cutting of Tree using Axe, You dont know how many times you have to hit the tree to cut down."
   ]
  },
  {
   "cell_type": "markdown",
   "id": "0c36fe64-0f1c-445d-8515-0ae7db6ce27e",
   "metadata": {},
   "source": [
    "###### `For Loop` and `While Loop`\n",
    "\n",
    "The decision to use a for loop or a while loop depends on the situation and the structure of the problem you're solving. Here's a breakdown of when to use each:\n",
    "\n",
    "***"
   ]
  },
  {
   "cell_type": "markdown",
   "id": "0a1b8f3f-9259-4bf6-9236-58c90bfaac9f",
   "metadata": {},
   "source": [
    "Use a `For Loop` - Definite Loop\n",
    "\n",
    "A `for loop` is typically used when you know in advance how many times you want to iterate.\n",
    "It is best for cases where you're looping over a sequence (like a list, tuple, string, or range).\n",
    "\n",
    "- *Known number of iterations:* Use a for loop when the number of iterations is fixed or predictable.\n",
    "\n",
    "\n",
    "- *Iterating over a sequence:* If you are looping through a collection (like an array, list, or dictionary) or a range of numbers, a for loop is a good choice.\n",
    "\n",
    "***"
   ]
  },
  {
   "cell_type": "raw",
   "id": "d31cd775-de52-4c00-9cff-15789784d82f",
   "metadata": {},
   "source": [
    "# Structure of For loop\n",
    "\n",
    "for item in iterable:\n",
    "    #Code\n",
    "\n",
    "\n",
    "# ITEM - An item is a temporary variable that takes one value at a time from iterable\n",
    "# ITERABLE - An Object that can be iterated over (ARRAY, LIST, TUPLE, STRING, RANGE, DICTIONARY)\n",
    "# Number of Loops are determined by the `length of iterable`\n"
   ]
  },
  {
   "cell_type": "code",
   "execution_count": null,
   "id": "44696217-c0b2-4086-9e20-1004529fafeb",
   "metadata": {},
   "outputs": [],
   "source": [
    "# for loops over strings\n",
    "word = \"Vinay Manohar\"\n",
    "for everyletter in word:\n",
    "    print(everyletter)"
   ]
  },
  {
   "cell_type": "code",
   "execution_count": null,
   "id": "f6645530-f341-4d7e-94fd-ef61edd6d75e",
   "metadata": {},
   "outputs": [],
   "source": [
    "# for Loops with lists (Iterable object)\n",
    "names = [\"Vinay\", \"Manohar\", \"Arun\", \"Aishwarya\"]\n",
    "\n",
    "for i in names:\n",
    "    print(i)"
   ]
  },
  {
   "cell_type": "code",
   "execution_count": null,
   "id": "5b0d7e35-073a-4fe4-bdcb-81713600bba7",
   "metadata": {},
   "outputs": [],
   "source": [
    "# use your own variable\n",
    "names = [\"Vinay\", \"Manohar\", \"Arun\", \"Aishwarya\"]\n",
    "for name in names:\n",
    "    print(name)"
   ]
  },
  {
   "cell_type": "code",
   "execution_count": null,
   "id": "cc7fc628-bfa9-4604-96c3-eb8e9a84692a",
   "metadata": {},
   "outputs": [],
   "source": [
    "# fruits\n",
    "fruits = ['Mango','Banana']\n",
    "\n",
    "for fruit in fruits:\n",
    "    print(fruit)"
   ]
  },
  {
   "cell_type": "code",
   "execution_count": null,
   "id": "e6dad286-96e5-4166-8e9b-36cd5200e57e",
   "metadata": {},
   "outputs": [],
   "source": [
    "a = list(range(5))\n",
    "a"
   ]
  },
  {
   "cell_type": "code",
   "execution_count": null,
   "id": "33434d1a-65a3-4c43-add4-01c0b30370f4",
   "metadata": {},
   "outputs": [],
   "source": [
    "# using for loop along with range function\n",
    "for i in range(5):\n",
    "    print(i)"
   ]
  },
  {
   "cell_type": "code",
   "execution_count": null,
   "id": "4e6b4437-03dd-4966-914f-fe43e3d612c6",
   "metadata": {},
   "outputs": [],
   "source": [
    "for i in range(50, 60):\n",
    "    print(i)"
   ]
  },
  {
   "cell_type": "code",
   "execution_count": null,
   "id": "2bf25774-2a79-460d-88ac-720c61b2c472",
   "metadata": {},
   "outputs": [],
   "source": [
    "for i in range(10, 0, -1):\n",
    "    print(i)"
   ]
  },
  {
   "cell_type": "code",
   "execution_count": null,
   "id": "b03c4ca7-9d5d-4e7b-9e71-d3d00ba14179",
   "metadata": {},
   "outputs": [],
   "source": [
    "# use of enumerate function\n",
    "colors = ['red', 'green', 'blue']\n",
    "\n",
    "#step1: wrapping\n",
    "#step2: you will get tuple as a wrapped item\n",
    "#step3: two item inside the wrapped content (index and item)\n",
    "\n",
    "#(0, 'red')\n",
    "\n",
    "#(1, 'green')\n",
    "#(2, 'blue')\n",
    "\n",
    "for index, color in enumerate(colors):\n",
    "    print(index, color)\n",
    "    #print(f'Color at index {index} is {color}')"
   ]
  },
  {
   "cell_type": "code",
   "execution_count": null,
   "id": "e4a5cf60-9622-4991-a770-171afd442ee8",
   "metadata": {},
   "outputs": [],
   "source": [
    "# Zipping concept\n",
    "names = ['Hemanth', 'Shwetha', 'Seetha']\n",
    "scores = [85, 92, 78]\n",
    "\n",
    "zip(names, scores)"
   ]
  },
  {
   "cell_type": "code",
   "execution_count": null,
   "id": "56e98995-235a-4449-a192-8f3f716c7491",
   "metadata": {},
   "outputs": [],
   "source": [
    "list(zip(names, scores))"
   ]
  },
  {
   "cell_type": "code",
   "execution_count": null,
   "id": "320e7861-e839-456d-9fdb-44721a8b0614",
   "metadata": {},
   "outputs": [],
   "source": [
    "# Using zip() to iterate over two lists\n",
    "names = ['Hemanth', 'Shwetha', 'Seetha']\n",
    "scores = [85, 92, 78]\n",
    "\n",
    "for name, score in zip(names, scores):\n",
    "    print(f'{name} scored {score}')"
   ]
  },
  {
   "cell_type": "code",
   "execution_count": null,
   "id": "b2016933-d042-420c-9ad6-7c2648a8da44",
   "metadata": {},
   "outputs": [],
   "source": [
    "firstName = ['Hemanth', 'Shwetha', 'Seetha']\n",
    "lastName = ['Kumar', 'Jain', 'Lakshmi']\n",
    "age = [32, 45, 27]\n",
    "\n",
    "for fname, lname, age_ in zip(firstName,lastName,age):\n",
    "    #print(fname,lname,age_)\n",
    "    print(f'{fname} {lname} age is {age_}')"
   ]
  },
  {
   "cell_type": "code",
   "execution_count": null,
   "id": "e51d9e89-7729-4e35-b2c1-929b32bd56e6",
   "metadata": {},
   "outputs": [],
   "source": [
    "for index, name in enumerate(firstName):\n",
    "    print(f'{index}, {name}')"
   ]
  },
  {
   "cell_type": "code",
   "execution_count": null,
   "id": "0de3db7c-1b7c-4f7a-b9c4-99f0b2e533a9",
   "metadata": {},
   "outputs": [],
   "source": [
    "# Looping through nested list\n",
    "bigbag = [['Milk','Sugar','Tea Powder'], ['Cake', 'Puffs', 'Croissants']]"
   ]
  },
  {
   "cell_type": "code",
   "execution_count": null,
   "id": "91bf414e-c9d2-4109-9ab5-9479214eb1fb",
   "metadata": {},
   "outputs": [],
   "source": [
    "for smallbag in bigbag:\n",
    "    print(smallbag)"
   ]
  },
  {
   "cell_type": "code",
   "execution_count": null,
   "id": "e7051e39-caba-4549-b945-7dd019397982",
   "metadata": {},
   "outputs": [],
   "source": [
    "# nested for loops for nested lists\n",
    "\n",
    "for smallbag in bigbag:\n",
    "    for item in smallbag:  \n",
    "        print(item)"
   ]
  },
  {
   "cell_type": "code",
   "execution_count": null,
   "id": "89159f64-c09c-4bcc-ab17-a182abd49e70",
   "metadata": {},
   "outputs": [],
   "source": [
    "# Traverse through the list and print number is odd or even\n",
    "\n",
    "numbers = list(range(1,51))\n",
    "numbers"
   ]
  },
  {
   "cell_type": "code",
   "execution_count": null,
   "id": "7fba0ebe-1d70-4619-a9b3-9c835a2bed83",
   "metadata": {},
   "outputs": [],
   "source": [
    "# for loop is used look into to list and start going through items one by one at a time\n",
    "for num in numbers:\n",
    "    # if condition is used to check the iterated item is satifiing the condition\n",
    "    if num % 2 == 0:\n",
    "        print(f'{num} is Even')\n",
    "    else:\n",
    "        print(f'{num} is Odd')"
   ]
  },
  {
   "cell_type": "code",
   "execution_count": null,
   "id": "1801ce6d-ad26-4fc6-859a-c2b1a508b5c5",
   "metadata": {},
   "outputs": [],
   "source": [
    "# Generate a random list \n",
    "import random\n",
    "\n",
    "# hint:: use random.sample(range(from,to), no_of_sample)\n",
    "a = random.sample(range(1,1000), 15)"
   ]
  },
  {
   "cell_type": "code",
   "execution_count": null,
   "id": "c9d6de92-fb64-4884-8c75-11e5df1cab06",
   "metadata": {},
   "outputs": [],
   "source": [
    "len(a)"
   ]
  },
  {
   "cell_type": "code",
   "execution_count": null,
   "id": "131aa650-6918-4b0b-b433-b349a7f10096",
   "metadata": {},
   "outputs": [],
   "source": [
    "a"
   ]
  },
  {
   "cell_type": "code",
   "execution_count": null,
   "id": "2277bc6d-3357-4c4f-84b4-3745520d656c",
   "metadata": {},
   "outputs": [],
   "source": [
    "for i in a:\n",
    "    if i % 2 == 0:\n",
    "        print(f'{i} is even')\n",
    "    else:\n",
    "        print(f'{i} is odd')"
   ]
  },
  {
   "cell_type": "code",
   "execution_count": null,
   "id": "96c16776-bc61-43f5-81f7-daa5635c8a5c",
   "metadata": {},
   "outputs": [],
   "source": [
    "# i want to check the number is divisible by 3 and 5\n",
    "\n",
    "for num in range(1,101):\n",
    "    if num % 3 == 0 and num % 5 == 0:\n",
    "        print(num)"
   ]
  },
  {
   "cell_type": "code",
   "execution_count": null,
   "id": "50aeeeff-5803-4b44-98aa-38a367dcffb8",
   "metadata": {},
   "outputs": [],
   "source": [
    "# Traverse through the randomly generate list and segregate odd list and even list\n",
    "b = random.sample(range(1,1000), 50)\n",
    "b"
   ]
  },
  {
   "cell_type": "code",
   "execution_count": null,
   "id": "9b3c3e38-43d3-41e2-a384-927f2cdcd924",
   "metadata": {},
   "outputs": [],
   "source": [
    "oddList = []\n",
    "evenList = []\n",
    "\n",
    "for num in b:\n",
    "    if num % 2 == 0:\n",
    "        evenList.append(num)\n",
    "    else:\n",
    "        oddList.append(num)"
   ]
  },
  {
   "cell_type": "code",
   "execution_count": null,
   "id": "8c1f399f-f626-45c4-a904-07684cd8ddc4",
   "metadata": {},
   "outputs": [],
   "source": [
    "oddList"
   ]
  },
  {
   "cell_type": "code",
   "execution_count": null,
   "id": "0a0a695c-cf22-45ff-ba67-a1d2cec2afa1",
   "metadata": {},
   "outputs": [],
   "source": [
    "evenList"
   ]
  },
  {
   "cell_type": "code",
   "execution_count": null,
   "id": "5de556c2-6db6-4472-9d4c-3779e8cd7ce6",
   "metadata": {},
   "outputs": [],
   "source": [
    "# Create Searchable List using for loop and if condition\n",
    "\n",
    "studentname = ['Vinay', 'Rama', 'Seetha', 'Hemanth', 'Sony', 'Sanjay', 'Arun', 'Abdul', 'Sruthi']"
   ]
  },
  {
   "cell_type": "code",
   "execution_count": null,
   "id": "3cb0fd32-3e2a-4b50-85ea-3fdbac524e77",
   "metadata": {},
   "outputs": [],
   "source": [
    "len(studentname)"
   ]
  },
  {
   "cell_type": "code",
   "execution_count": null,
   "id": "9cb9b825-e8ef-456e-b6a5-9d7ad0a522f7",
   "metadata": {},
   "outputs": [],
   "source": [
    "queryname = 'Abdul'"
   ]
  },
  {
   "cell_type": "code",
   "execution_count": null,
   "id": "dbed9708-477a-4208-8cd2-58192496025f",
   "metadata": {},
   "outputs": [],
   "source": [
    "for name in studentname:\n",
    "    if name == queryname:\n",
    "        print(studentname.index(queryname))\n",
    "        print('found')"
   ]
  },
  {
   "cell_type": "code",
   "execution_count": null,
   "id": "b064c8e9-96f0-4ac1-ab83-afcbc42c388f",
   "metadata": {},
   "outputs": [],
   "source": [
    "# Ask user to input number of items to purchase and create a list through loops\n",
    "\n",
    "purchaselist = []\n",
    "\n",
    "tot_items = int(input('How many items you have to buy'))\n",
    "\n",
    "for i in range(tot_items):\n",
    "    itemname = input('Enter Item name: ')\n",
    "    purchaselist.append(itemname)"
   ]
  },
  {
   "cell_type": "code",
   "execution_count": null,
   "id": "934be42d-5224-4ab4-957f-7efcec0dd242",
   "metadata": {},
   "outputs": [],
   "source": [
    "purchaselist"
   ]
  },
  {
   "cell_type": "code",
   "execution_count": null,
   "id": "6cdbb096-835b-485e-992c-358aa0ebd7be",
   "metadata": {},
   "outputs": [],
   "source": [
    "# task convert nested list into flat list\n",
    "\n",
    "bigbag = [['Milk','Sugar','Tea Powder'], ['Cake', 'Puffs', 'Croissants']]"
   ]
  },
  {
   "cell_type": "code",
   "execution_count": null,
   "id": "258fa2d6-12cb-410f-9147-537b756a26a9",
   "metadata": {},
   "outputs": [],
   "source": [
    "flat_list = []\n",
    "\n",
    "for smallbag in bigbag:\n",
    "    for item in smallbag:\n",
    "        flat_list.append(item)\n",
    "\n",
    "\n",
    "print(flat_list)"
   ]
  },
  {
   "cell_type": "code",
   "execution_count": null,
   "id": "91541bed-a395-4eef-8e54-5eeea5b87d82",
   "metadata": {},
   "outputs": [],
   "source": []
  },
  {
   "cell_type": "code",
   "execution_count": null,
   "id": "756853cf-3e77-4547-a297-f7d50b685313",
   "metadata": {},
   "outputs": [],
   "source": []
  },
  {
   "cell_type": "code",
   "execution_count": null,
   "id": "fb38a163-d659-421c-9ebc-837c1c4820a6",
   "metadata": {},
   "outputs": [],
   "source": []
  },
  {
   "cell_type": "code",
   "execution_count": null,
   "id": "0be0ad43-d97f-465c-b77e-d472eaeef62e",
   "metadata": {},
   "outputs": [],
   "source": []
  },
  {
   "cell_type": "code",
   "execution_count": null,
   "id": "c69155eb-cef7-4992-8d1b-83b0131e8a0c",
   "metadata": {},
   "outputs": [],
   "source": [
    "for i in range(1,11):\n",
    "    print(i)"
   ]
  },
  {
   "cell_type": "code",
   "execution_count": null,
   "id": "3910e9f3-4450-49a4-b1fb-11087090e4c2",
   "metadata": {},
   "outputs": [],
   "source": []
  },
  {
   "cell_type": "code",
   "execution_count": null,
   "id": "fd6930df-af9b-41a5-b81f-7a2a734aed54",
   "metadata": {},
   "outputs": [],
   "source": []
  },
  {
   "cell_type": "code",
   "execution_count": null,
   "id": "e9ac1987-cb29-4a2e-b6e4-b88c8ef456c4",
   "metadata": {},
   "outputs": [],
   "source": []
  },
  {
   "cell_type": "markdown",
   "id": "8d01e665-60b3-45fc-85cc-8118a47dc42c",
   "metadata": {},
   "source": [
    "#### Loop Controllers"
   ]
  },
  {
   "cell_type": "markdown",
   "id": "b8dcefc0-a778-4994-a366-a2e611803345",
   "metadata": {},
   "source": [
    "Loop controllers are mechanisms that control the flow of loops in programming. They help manage how loops behave, how they are interrupted, or how they proceed through each iteration. \n",
    "\n",
    "The three common loop controllers are:\n",
    " - `break`\n",
    " - `continue`\n",
    " - `pass`"
   ]
  },
  {
   "cell_type": "code",
   "execution_count": null,
   "id": "edc534a5-b8e8-4fa3-ace8-1451a2a04171",
   "metadata": {},
   "outputs": [],
   "source": [
    "# Breaking out of a loop if a condition is met\n",
    "for num in range(11):\n",
    "    if num == 5:\n",
    "        break\n",
    "    print(num)"
   ]
  },
  {
   "cell_type": "code",
   "execution_count": null,
   "id": "74ea284d-2845-48df-b5ae-d522028a0f8a",
   "metadata": {},
   "outputs": [],
   "source": [
    "# loop will break if 5 is detected inside the iterable\n",
    "\n",
    "test = [2, 4, 5, 6, 7]\n",
    "\n",
    "for i in test:\n",
    "    if i % 5 ==0:\n",
    "        break\n",
    "    print(i)"
   ]
  },
  {
   "cell_type": "code",
   "execution_count": null,
   "id": "429a61d0-28e1-44e9-b76e-5f916f3e0c36",
   "metadata": {},
   "outputs": [],
   "source": [
    "# loop will skip 5 and continues to print remaining\n",
    "\n",
    "test = [2, 4, 5, 6, 7]\n",
    "\n",
    "for i in test:\n",
    "    if i % 5 ==0:\n",
    "        continue\n",
    "    print(i)"
   ]
  },
  {
   "cell_type": "code",
   "execution_count": null,
   "id": "396da1ca-d60a-4847-897d-ad079caaac0b",
   "metadata": {},
   "outputs": [],
   "source": [
    "# loop will detect 5 but silently passes the value and does nothing\n",
    "test = [2, 4, 5, 6, 7]\n",
    "\n",
    "for i in test:\n",
    "    if i % 5 ==0:\n",
    "        pass\n",
    "    print(i)"
   ]
  },
  {
   "cell_type": "code",
   "execution_count": null,
   "id": "4da845da-999c-4c9e-aa89-2da9d5b69c23",
   "metadata": {},
   "outputs": [],
   "source": [
    "# Skipping an iteration when a condition is met\n",
    "for num in range(10):\n",
    "    if num == 5 or num == 8:\n",
    "        #print(f'{num} is skipped')\n",
    "        continue\n",
    "    print(num)"
   ]
  },
  {
   "cell_type": "code",
   "execution_count": null,
   "id": "4c990b51-4f0e-4be5-9a2f-bf9980e0500a",
   "metadata": {},
   "outputs": [],
   "source": [
    "# Continue example\n",
    "for number in range(1, 11):\n",
    "    if number % 2 == 0:\n",
    "        print(f\"Skipping even number: {number}\")\n",
    "        continue\n",
    "    else:\n",
    "        print(number)"
   ]
  },
  {
   "cell_type": "code",
   "execution_count": null,
   "id": "a9bde39b-3c07-4ed2-806c-30a23757d14a",
   "metadata": {},
   "outputs": [],
   "source": [
    "# Does nothing and used as a placeholder or \n",
    "# to handle cases where no action is required\n",
    "for num in range(1, 1000000):\n",
    "    pass"
   ]
  },
  {
   "cell_type": "code",
   "execution_count": null,
   "id": "306c54d4-c8db-4205-8129-3b499fd20dbe",
   "metadata": {},
   "outputs": [],
   "source": [
    "for num in range(1, 1000000):\n",
    "    if num % 3 == 0 or num % 5 == 0:\n",
    "        pass"
   ]
  },
  {
   "cell_type": "markdown",
   "id": "18b67d2c-3830-4529-806d-d7fbc1d32eeb",
   "metadata": {},
   "source": [
    "Use a `While Loop` - Indefinite Loop\n",
    "\n",
    "A while loop is used when you want to continue looping until a certain condition is met, but you don’t necessarily know how many iterations this will take. This is useful for indefinite loops.\n",
    "\n",
    "- *Condition-based iteration:* Use a while loop when the number of iterations isn't known and depends on a condition.\n",
    "\n",
    "- *Indefinite or variable-length loops:* If the loop depends on a condition that might not have a predetermined end, while loops are ideal.\n",
    "\n",
    "***"
   ]
  },
  {
   "cell_type": "markdown",
   "id": "4f88c5fb-1fdf-49b7-90c7-3f37e51a02d3",
   "metadata": {},
   "source": [
    "***"
   ]
  },
  {
   "cell_type": "raw",
   "id": "bf294c73-7381-4484-8cba-234c041e8ba1",
   "metadata": {},
   "source": [
    "for item in iterable:\n",
    "    code\n",
    "\n",
    "while condition:\n",
    "    code"
   ]
  },
  {
   "cell_type": "code",
   "execution_count": null,
   "id": "a0afee5e-9d1f-495c-8f35-2ed078f33b8a",
   "metadata": {},
   "outputs": [],
   "source": [
    "# While Loops\n",
    "\n",
    "# Iterating until a condition is met\n",
    "init = 0\n",
    "\n",
    "# incrementer\n",
    "\n",
    "while init <= 5:\n",
    "    print(init)\n",
    "    init = init + 1 # Normal Incrementer\n",
    "    #init += 1       # Augmented Assignment operator"
   ]
  },
  {
   "cell_type": "code",
   "execution_count": null,
   "id": "4f13d4e4-b4fc-4c93-801b-e3c40d3e8840",
   "metadata": {},
   "outputs": [],
   "source": [
    "# iter 1,  init value = 0, prints 0, init = 1\n",
    "# iter 2, init value = 1, prints 1, init = 2\n",
    "# iter 3, init value = 2, prints 2, init = 3\n",
    "# iter 4, init value = 3, prints 3, init = 4\n",
    "# iter 5, init value = 4, prints 4, init = 5\n",
    "\n",
    "# iter 6, init value = 5, prints 5, init = 6\n",
    "# iter 7, init value = 6, condition not met\n",
    "\n",
    "# while loop terminates\n"
   ]
  },
  {
   "cell_type": "code",
   "execution_count": null,
   "id": "5569a0df-0c54-404e-b375-33cddc452d65",
   "metadata": {},
   "outputs": [],
   "source": [
    "init = 1\n",
    "\n",
    "while init < 11:\n",
    "    print(init)\n",
    "    init += 1"
   ]
  },
  {
   "cell_type": "code",
   "execution_count": null,
   "id": "23690df9-9fcf-459e-bb01-a81fe86c8aae",
   "metadata": {},
   "outputs": [],
   "source": [
    "# Vehicle accelaration\n",
    "# kmph\n",
    "\n",
    "speed = 0\n",
    "\n",
    "while speed <= 100:\n",
    "    print(f'Vehicle moving at the {speed} kmph speed')\n",
    "    speed = speed + 5\n",
    "print('Vehicle reached maximum speed')"
   ]
  },
  {
   "cell_type": "code",
   "execution_count": null,
   "id": "3518917c-0f2f-4bce-a29c-6cd1c1c77d5f",
   "metadata": {},
   "outputs": [],
   "source": [
    "i = 5\n",
    "while i > 0:\n",
    "    print(i)\n",
    "    i = i - 1"
   ]
  },
  {
   "cell_type": "code",
   "execution_count": null,
   "id": "6036b89e-bcbf-41d6-9e3f-de0083eebb4a",
   "metadata": {
    "scrolled": true
   },
   "outputs": [],
   "source": [
    "# Vehicle deacceleration\n",
    "\n",
    "speed = 100\n",
    "\n",
    "while speed >= 0:\n",
    "    print(speed)\n",
    "    speed = speed - 10\n",
    "print('Vehicle halted')"
   ]
  },
  {
   "cell_type": "code",
   "execution_count": null,
   "id": "862a334c-8412-4dcc-81bc-8b7ebcf909fd",
   "metadata": {},
   "outputs": [],
   "source": [
    "# iter 1,  speed value = 100, prints 100, speed = 90\n",
    "# iter 2,  speed value = 90, prints 90, speed = 80\n",
    "# iter 3,  speed value = 80, prints 80, speed = 70\n",
    ".\n",
    ".\n",
    ".\n",
    ".\n",
    ".\n",
    ".\n",
    "# iter 10, speed value = 0, prints 0, speed = -10\n",
    "# halts"
   ]
  },
  {
   "cell_type": "code",
   "execution_count": null,
   "id": "dbec2fa1-369a-4db3-8bf1-008e57c9bb49",
   "metadata": {},
   "outputs": [],
   "source": [
    "# Continuously looping until user input is valid\n",
    "while True:\n",
    "    user_input = input(\"Enter 'q' to quit: \")\n",
    "    \n",
    "    if user_input == 'q':\n",
    "        print('Quitted')\n",
    "        break"
   ]
  },
  {
   "cell_type": "code",
   "execution_count": null,
   "id": "c4be9588-8020-4188-af5f-9bcc383dc956",
   "metadata": {},
   "outputs": [],
   "source": [
    "# While - else\n",
    "\n",
    "counter = 0\n",
    "\n",
    "while counter < 3:\n",
    "    print(\"Loop count:\", counter)\n",
    "    counter += 1\n",
    "else:\n",
    "    print(\"Loop finished normally\")"
   ]
  },
  {
   "cell_type": "code",
   "execution_count": null,
   "id": "bb259b9a-6db1-490b-a04a-7efaecb8ade1",
   "metadata": {},
   "outputs": [],
   "source": [
    "# Impliment Number Guessing Game until you win\n",
    "\n",
    "import random\n",
    "#random randint\n",
    "#random choice\n",
    "#random sample\n",
    "\n",
    "# automatically generates one number between the range(1, 9)\n",
    "\n",
    "sys_number = random.randint(1, 9)\n",
    "\n",
    "user_number = None\n",
    "\n",
    "while user_number != sys_number:\n",
    "    \n",
    "    user_number = int(input(\"Guess a number between 1 and 10: \"))\n",
    "\n",
    "    if user_number == sys_number:\n",
    "        print(\"Congratulations!\")\n",
    "    else:\n",
    "        print(\"Try again!\")"
   ]
  },
  {
   "cell_type": "markdown",
   "id": "76f4aa80-d239-497f-b0ba-691777eabdd8",
   "metadata": {},
   "source": [
    "#### Magic Commands with Loops"
   ]
  },
  {
   "cell_type": "code",
   "execution_count": null,
   "id": "2204bafd-c140-498f-9f79-0afa18e03d15",
   "metadata": {},
   "outputs": [],
   "source": [
    "# %timeit with Loops\n",
    "# Displays how long it takes to execute a loop with 1 million iterations\n",
    "\n",
    "%timeit for i in range(1000000): pass"
   ]
  },
  {
   "cell_type": "code",
   "execution_count": null,
   "id": "b1af8313-6ffd-4005-bfee-8aba0055ed0f",
   "metadata": {},
   "outputs": [],
   "source": [
    "%%time\n",
    "for i in range(1000000):\n",
    "    pass"
   ]
  },
  {
   "cell_type": "markdown",
   "id": "cf71b1ee-fe4a-4a95-89cd-3ab7b751167f",
   "metadata": {},
   "source": [
    "#### Controlling the Loop through Time"
   ]
  },
  {
   "cell_type": "markdown",
   "id": "0ed97b01-53f4-4ccc-83f9-dc1df0269c1a",
   "metadata": {},
   "source": [
    "Controlling a loop through time can be useful in various scenarios, such as implementing a timeout, rate limiting, or performing actions at regular intervals"
   ]
  },
  {
   "cell_type": "code",
   "execution_count": null,
   "id": "cad4f031-099c-4c0c-af11-4ab26f087f9a",
   "metadata": {},
   "outputs": [],
   "source": [
    "# you have 1L data in server\n",
    "\n",
    "# grab \n",
    "\n",
    "# 1 request  = 1 data\n",
    "# 1L request = 1L data\n",
    "\n",
    "# 1L within 3 min (Google will detect your activity and you as a bot / robot)\n",
    "# google will flag your IP as suspicious activity\n",
    "# you will be blocked for next 24 hours\n",
    "\n",
    "# 1L in next 3 hours"
   ]
  },
  {
   "cell_type": "code",
   "execution_count": null,
   "id": "4f709ecb-9dd0-4e92-ab29-031d69955a08",
   "metadata": {},
   "outputs": [],
   "source": [
    "import time\n",
    "\n",
    "for i in range(10):\n",
    "    time.sleep(300)\n",
    "    print(i)"
   ]
  }
 ],
 "metadata": {
  "kernelspec": {
   "display_name": "Python 3 (ipykernel)",
   "language": "python",
   "name": "python3"
  },
  "language_info": {
   "codemirror_mode": {
    "name": "ipython",
    "version": 3
   },
   "file_extension": ".py",
   "mimetype": "text/x-python",
   "name": "python",
   "nbconvert_exporter": "python",
   "pygments_lexer": "ipython3",
   "version": "3.12.4"
  }
 },
 "nbformat": 4,
 "nbformat_minor": 5
}
