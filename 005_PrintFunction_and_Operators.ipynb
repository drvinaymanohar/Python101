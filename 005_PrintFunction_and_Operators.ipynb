{
 "cells": [
  {
   "cell_type": "code",
   "execution_count": 1,
   "id": "199d9882-507a-42a7-a06e-afe70076d2fc",
   "metadata": {},
   "outputs": [],
   "source": [
    "### Program to convert DMS to DD"
   ]
  },
  {
   "cell_type": "code",
   "execution_count": 6,
   "id": "cdbede70-2966-41fd-9c6d-739fb804d382",
   "metadata": {},
   "outputs": [
    {
     "name": "stdin",
     "output_type": "stream",
     "text": [
      "Enter Degree Value:  56\n",
      "Enter minute Value:  32\n",
      "Enter Seconds Value:  16\n"
     ]
    },
    {
     "name": "stdout",
     "output_type": "stream",
     "text": [
      "Equivalent value of \n",
      " Degree:: 56.0, \n",
      " Minute:: 32.0, \n",
      " Seconds::16.0 \n",
      " is \n",
      " Decimal Degree 56.53777777777778\n"
     ]
    }
   ],
   "source": [
    "#Inputs\n",
    "deg = float(input(\"Enter Degree Value: \"))\n",
    "minute = float(input(\"Enter minute Value: \"))\n",
    "seconds = float(input(\"Enter Seconds Value: \"))\n",
    "\n",
    "# Computation\n",
    "dd = deg + (minute/60) + (seconds/3600)\n",
    "\n",
    "#output display\n",
    "print(f'Equivalent value of \\n Degree:: {deg}, \\n Minute:: {minute}, \\n Seconds::{seconds} \\n is \\n Decimal Degree {dd}')"
   ]
  },
  {
   "cell_type": "code",
   "execution_count": 7,
   "id": "3dec74fa-f68b-42bf-9c4d-8567c841ebb6",
   "metadata": {},
   "outputs": [],
   "source": [
    "### Convert Decimal Degree to DMS"
   ]
  },
  {
   "cell_type": "code",
   "execution_count": 33,
   "id": "3ac16903-a2ae-40a4-af95-87d55abce346",
   "metadata": {},
   "outputs": [
    {
     "name": "stdin",
     "output_type": "stream",
     "text": [
      "Enter Decimal Degree Value 12.5555\n"
     ]
    },
    {
     "name": "stdout",
     "output_type": "stream",
     "text": [
      "Equivalent value of Decimal Degree 12.5555 is Degree 12, Minute 33, Seconds 19.800000000001177\n",
      "CPU times: total: 15.6 ms\n",
      "Wall time: 2.97 s\n"
     ]
    }
   ],
   "source": [
    "%%time\n",
    "\n",
    "#input\n",
    "decimalvalue = float(input('Enter Decimal Degree Value'))\n",
    "# processing\n",
    "\n",
    "degree = int(decimalvalue)\n",
    "minute = int((decimalvalue - degree) * 60)\n",
    "seconds = (((decimalvalue - degree) * 60) - minute) * 60\n",
    "\n",
    "# print\n",
    "print(f'Equivalent value of Decimal Degree {decimalvalue} is Degree {degree}, Minute {minute}, Seconds {seconds}')"
   ]
  },
  {
   "cell_type": "code",
   "execution_count": null,
   "id": "c3a125a6-6d22-4e72-b19c-42bdde20f5e8",
   "metadata": {},
   "outputs": [],
   "source": []
  }
 ],
 "metadata": {
  "kernelspec": {
   "display_name": "Python 3 (ipykernel)",
   "language": "python",
   "name": "python3"
  },
  "language_info": {
   "codemirror_mode": {
    "name": "ipython",
    "version": 3
   },
   "file_extension": ".py",
   "mimetype": "text/x-python",
   "name": "python",
   "nbconvert_exporter": "python",
   "pygments_lexer": "ipython3",
   "version": "3.12.3"
  }
 },
 "nbformat": 4,
 "nbformat_minor": 5
}
