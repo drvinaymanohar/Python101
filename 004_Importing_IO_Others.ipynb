{
 "cells": [
  {
   "cell_type": "markdown",
   "id": "82e2e54c-b15c-413d-826a-f470904321e0",
   "metadata": {},
   "source": [
    "### 1. Python Modules"
   ]
  },
  {
   "cell_type": "code",
   "execution_count": 1,
   "id": "c5ab59d0-8035-4eef-ba14-3523f1004eae",
   "metadata": {},
   "outputs": [],
   "source": [
    "# Importing Modules using Import Keyword from Python\n",
    "import math"
   ]
  },
  {
   "cell_type": "code",
   "execution_count": 2,
   "id": "cea80701-8f13-4a13-9c0c-9f01bbb242a5",
   "metadata": {},
   "outputs": [
    {
     "name": "stdout",
     "output_type": "stream",
     "text": [
      "Help on built-in function pow in module math:\n",
      "\n",
      "pow(x, y, /)\n",
      "    Return x**y (x to the power of y).\n",
      "\n"
     ]
    }
   ],
   "source": [
    "#getting help\n",
    "help(math.pow)"
   ]
  },
  {
   "cell_type": "code",
   "execution_count": 4,
   "id": "532f128d-3f73-468f-b98b-11c132e3bd78",
   "metadata": {},
   "outputs": [
    {
     "data": {
      "text/plain": [
       "8.0"
      ]
     },
     "execution_count": 4,
     "metadata": {},
     "output_type": "execute_result"
    }
   ],
   "source": [
    "#output from math module, power function\n",
    "math.pow(2,3)"
   ]
  },
  {
   "cell_type": "code",
   "execution_count": 5,
   "id": "95854ada-c5cc-4d6c-83b8-2b669fd945df",
   "metadata": {},
   "outputs": [
    {
     "data": {
      "text/plain": [
       "8"
      ]
     },
     "execution_count": 5,
     "metadata": {},
     "output_type": "execute_result"
    }
   ],
   "source": [
    "# manual method without variable\n",
    "2**3"
   ]
  },
  {
   "cell_type": "code",
   "execution_count": 6,
   "id": "0b6b1296-752d-4988-8467-6959db5874e7",
   "metadata": {},
   "outputs": [],
   "source": [
    "#manual method with variable\n",
    "x = 2\n",
    "y = 3\n",
    "z = x**y"
   ]
  },
  {
   "cell_type": "code",
   "execution_count": 7,
   "id": "fc603564-89b6-4f71-9d3c-d1b5630f4c45",
   "metadata": {},
   "outputs": [
    {
     "data": {
      "text/plain": [
       "8"
      ]
     },
     "execution_count": 7,
     "metadata": {},
     "output_type": "execute_result"
    }
   ],
   "source": [
    "z"
   ]
  },
  {
   "cell_type": "code",
   "execution_count": 8,
   "id": "f369e67d-9fda-41e3-af22-9917683166a2",
   "metadata": {},
   "outputs": [
    {
     "data": {
      "text/plain": [
       "\u001b[1;31mSignature:\u001b[0m \u001b[0mmath\u001b[0m\u001b[1;33m.\u001b[0m\u001b[0mdegrees\u001b[0m\u001b[1;33m(\u001b[0m\u001b[0mx\u001b[0m\u001b[1;33m,\u001b[0m \u001b[1;33m/\u001b[0m\u001b[1;33m)\u001b[0m\u001b[1;33m\u001b[0m\u001b[1;33m\u001b[0m\u001b[0m\n",
       "\u001b[1;31mDocstring:\u001b[0m Convert angle x from radians to degrees.\n",
       "\u001b[1;31mType:\u001b[0m      builtin_function_or_method"
      ]
     },
     "metadata": {},
     "output_type": "display_data"
    }
   ],
   "source": [
    "# accessing the docstrings using ? Question Mark\n",
    "math.degrees?"
   ]
  },
  {
   "cell_type": "code",
   "execution_count": 9,
   "id": "5300a20d-4e29-477d-8fd9-9a8262676261",
   "metadata": {},
   "outputs": [
    {
     "data": {
      "text/plain": [
       "71.6197243913529"
      ]
     },
     "execution_count": 9,
     "metadata": {},
     "output_type": "execute_result"
    }
   ],
   "source": [
    "math.degrees(1.25)"
   ]
  },
  {
   "cell_type": "code",
   "execution_count": 10,
   "id": "aba9959d-e919-4fbc-ab5d-a690c7746d05",
   "metadata": {},
   "outputs": [
    {
     "data": {
      "text/plain": [
       "1.4422495703074083"
      ]
     },
     "execution_count": 10,
     "metadata": {},
     "output_type": "execute_result"
    }
   ],
   "source": [
    "# access the docstring using SHIFT + TAB\n",
    "math.cbrt(3)"
   ]
  },
  {
   "cell_type": "code",
   "execution_count": 11,
   "id": "75c49c3d-d03d-4bba-9503-03d5a7adec72",
   "metadata": {},
   "outputs": [
    {
     "data": {
      "text/plain": [
       "'Convert angle x from radians to degrees.'"
      ]
     },
     "execution_count": 11,
     "metadata": {},
     "output_type": "execute_result"
    }
   ],
   "source": [
    "#access the docstring using DOC accessor\n",
    "math.degrees.__doc__"
   ]
  },
  {
   "cell_type": "code",
   "execution_count": 13,
   "id": "6fe44b93-1d65-4b46-87e9-d323eb961cfc",
   "metadata": {},
   "outputs": [
    {
     "data": {
      "text/plain": [
       "['__doc__',\n",
       " '__loader__',\n",
       " '__name__',\n",
       " '__package__',\n",
       " '__spec__',\n",
       " 'acos',\n",
       " 'acosh',\n",
       " 'asin',\n",
       " 'asinh',\n",
       " 'atan',\n",
       " 'atan2',\n",
       " 'atanh',\n",
       " 'cbrt',\n",
       " 'ceil',\n",
       " 'comb',\n",
       " 'copysign',\n",
       " 'cos',\n",
       " 'cosh',\n",
       " 'degrees',\n",
       " 'dist',\n",
       " 'e',\n",
       " 'erf',\n",
       " 'erfc',\n",
       " 'exp',\n",
       " 'exp2',\n",
       " 'expm1',\n",
       " 'fabs',\n",
       " 'factorial',\n",
       " 'floor',\n",
       " 'fmod',\n",
       " 'frexp',\n",
       " 'fsum',\n",
       " 'gamma',\n",
       " 'gcd',\n",
       " 'hypot',\n",
       " 'inf',\n",
       " 'isclose',\n",
       " 'isfinite',\n",
       " 'isinf',\n",
       " 'isnan',\n",
       " 'isqrt',\n",
       " 'lcm',\n",
       " 'ldexp',\n",
       " 'lgamma',\n",
       " 'log',\n",
       " 'log10',\n",
       " 'log1p',\n",
       " 'log2',\n",
       " 'modf',\n",
       " 'nan',\n",
       " 'nextafter',\n",
       " 'perm',\n",
       " 'pi',\n",
       " 'pow',\n",
       " 'prod',\n",
       " 'radians',\n",
       " 'remainder',\n",
       " 'sin',\n",
       " 'sinh',\n",
       " 'sqrt',\n",
       " 'sumprod',\n",
       " 'tan',\n",
       " 'tanh',\n",
       " 'tau',\n",
       " 'trunc',\n",
       " 'ulp']"
      ]
     },
     "execution_count": 13,
     "metadata": {},
     "output_type": "execute_result"
    }
   ],
   "source": [
    "# Access the directory of module to get complete list of functions\n",
    "dir(math)"
   ]
  },
  {
   "cell_type": "code",
   "execution_count": 14,
   "id": "d25766ec-5130-4b74-93a3-f6c3ca5e8869",
   "metadata": {},
   "outputs": [
    {
     "name": "stdout",
     "output_type": "stream",
     "text": [
      "Help on built-in function fmod in module math:\n",
      "\n",
      "fmod(x, y, /)\n",
      "    Return fmod(x, y), according to platform C.\n",
      "\n",
      "    x % y may differ.\n",
      "\n"
     ]
    }
   ],
   "source": [
    "help(math.fmod)"
   ]
  },
  {
   "cell_type": "code",
   "execution_count": 15,
   "id": "e623e181-39b6-4eaf-93dc-4a9924fce92d",
   "metadata": {},
   "outputs": [
    {
     "data": {
      "text/plain": [
       "'Return fmod(x, y), according to platform C.\\n\\nx % y may differ.'"
      ]
     },
     "execution_count": 15,
     "metadata": {},
     "output_type": "execute_result"
    }
   ],
   "source": [
    "math.fmod.__doc__"
   ]
  },
  {
   "cell_type": "code",
   "execution_count": 16,
   "id": "5a8de7ff-7e99-447e-bf83-5f18f79db6ac",
   "metadata": {},
   "outputs": [
    {
     "data": {
      "text/plain": [
       "\u001b[1;31mSignature:\u001b[0m \u001b[0mmath\u001b[0m\u001b[1;33m.\u001b[0m\u001b[0mfmod\u001b[0m\u001b[1;33m(\u001b[0m\u001b[0mx\u001b[0m\u001b[1;33m,\u001b[0m \u001b[0my\u001b[0m\u001b[1;33m,\u001b[0m \u001b[1;33m/\u001b[0m\u001b[1;33m)\u001b[0m\u001b[1;33m\u001b[0m\u001b[1;33m\u001b[0m\u001b[0m\n",
       "\u001b[1;31mDocstring:\u001b[0m\n",
       "Return fmod(x, y), according to platform C.\n",
       "\n",
       "x % y may differ.\n",
       "\u001b[1;31mType:\u001b[0m      builtin_function_or_method"
      ]
     },
     "metadata": {},
     "output_type": "display_data"
    }
   ],
   "source": [
    "math.fmod?"
   ]
  },
  {
   "cell_type": "code",
   "execution_count": 17,
   "id": "b7f29618-026b-4448-bddb-e4bddeb02dd7",
   "metadata": {},
   "outputs": [],
   "source": [
    "# it will import all available function\n",
    "import math"
   ]
  },
  {
   "cell_type": "code",
   "execution_count": 18,
   "id": "f8c347d1-361d-42e7-b512-5d33319a90f2",
   "metadata": {},
   "outputs": [],
   "source": [
    "# i want to calculate the area of circle\n",
    "# pi * radius**2"
   ]
  },
  {
   "cell_type": "code",
   "execution_count": 19,
   "id": "d9d281fc-b69d-4bca-90a9-e0bc583344a9",
   "metadata": {},
   "outputs": [
    {
     "data": {
      "text/plain": [
       "3.141592653589793"
      ]
     },
     "execution_count": 19,
     "metadata": {},
     "output_type": "execute_result"
    }
   ],
   "source": [
    "math.pi"
   ]
  },
  {
   "cell_type": "code",
   "execution_count": 24,
   "id": "4b45eb56-e013-4b29-a873-4712267577d4",
   "metadata": {},
   "outputs": [],
   "source": [
    "# i want only two functions such as PI and POW\n",
    "# importing specific function\n",
    "\n",
    "from math import pi, pow"
   ]
  },
  {
   "cell_type": "code",
   "execution_count": 25,
   "id": "fc8bbcb3-9a6e-47aa-bd06-1ec1fa04c56b",
   "metadata": {},
   "outputs": [],
   "source": [
    "radius = 3\n",
    "circ = math.pi * math.pow(radius,2)"
   ]
  },
  {
   "cell_type": "code",
   "execution_count": 26,
   "id": "e73f7198-dc65-48c8-9c62-80ac1cbdd0e9",
   "metadata": {},
   "outputs": [
    {
     "data": {
      "text/plain": [
       "28.274333882308138"
      ]
     },
     "execution_count": 26,
     "metadata": {},
     "output_type": "execute_result"
    }
   ],
   "source": [
    "circ"
   ]
  },
  {
   "cell_type": "code",
   "execution_count": 27,
   "id": "ffa28a63-66c8-4eb1-9226-b753ec62ad05",
   "metadata": {},
   "outputs": [],
   "source": [
    "# giving a nickname for the modules by aliasing it\n",
    "import math as mt"
   ]
  },
  {
   "cell_type": "code",
   "execution_count": 28,
   "id": "379af640-db74-4a95-b0fc-76ac9130a09c",
   "metadata": {},
   "outputs": [
    {
     "data": {
      "text/plain": [
       "3.141592653589793"
      ]
     },
     "execution_count": 28,
     "metadata": {},
     "output_type": "execute_result"
    }
   ],
   "source": [
    "mt.pi"
   ]
  },
  {
   "cell_type": "code",
   "execution_count": 29,
   "id": "e1f32db0-1f77-4f0d-aa39-a40497d3d0b7",
   "metadata": {},
   "outputs": [],
   "source": [
    "import math as vinay"
   ]
  },
  {
   "cell_type": "code",
   "execution_count": 30,
   "id": "91add0be-d371-45ad-804a-0f9b5330c4fc",
   "metadata": {},
   "outputs": [
    {
     "data": {
      "text/plain": [
       "3.141592653589793"
      ]
     },
     "execution_count": 30,
     "metadata": {},
     "output_type": "execute_result"
    }
   ],
   "source": [
    "vinay.pi"
   ]
  },
  {
   "cell_type": "code",
   "execution_count": 34,
   "id": "4d0e8156-9583-4837-8a6a-48bad7013ca0",
   "metadata": {},
   "outputs": [],
   "source": [
    "import pandas as pd"
   ]
  },
  {
   "cell_type": "markdown",
   "id": "c8c57649-5313-4de0-9c39-48a22bc44413",
   "metadata": {},
   "source": [
    "### 2. Literals"
   ]
  },
  {
   "cell_type": "markdown",
   "id": "4437be62-b41b-4616-a6d9-fcb1bf3f9574",
   "metadata": {},
   "source": [
    "#### Strings"
   ]
  },
  {
   "cell_type": "code",
   "execution_count": 35,
   "id": "fadaf5e9-fef7-41ac-966d-0b33802f66f4",
   "metadata": {},
   "outputs": [],
   "source": [
    "name = 'Vinay'"
   ]
  },
  {
   "cell_type": "code",
   "execution_count": 36,
   "id": "ac2dd995-f2cb-448b-8ffa-b4e48e688c34",
   "metadata": {},
   "outputs": [],
   "source": [
    "place = \"Karnataka\""
   ]
  },
  {
   "cell_type": "code",
   "execution_count": 37,
   "id": "3cacc7e0-2d03-4610-9741-ce5a4b6c4c1f",
   "metadata": {},
   "outputs": [],
   "source": [
    "pwd = 'Vinay2024'"
   ]
  },
  {
   "cell_type": "code",
   "execution_count": 38,
   "id": "c0d19017-1117-4306-8ee0-440145f94a95",
   "metadata": {},
   "outputs": [
    {
     "data": {
      "text/plain": [
       "str"
      ]
     },
     "execution_count": 38,
     "metadata": {},
     "output_type": "execute_result"
    }
   ],
   "source": [
    "type(pwd)"
   ]
  },
  {
   "cell_type": "code",
   "execution_count": 39,
   "id": "dbf23356-9df6-444c-aa8f-33189500272e",
   "metadata": {},
   "outputs": [],
   "source": [
    "mob = 9060486010"
   ]
  },
  {
   "cell_type": "code",
   "execution_count": 40,
   "id": "badfe2b9-40ad-4703-b341-44eb15b1bddd",
   "metadata": {},
   "outputs": [
    {
     "data": {
      "text/plain": [
       "int"
      ]
     },
     "execution_count": 40,
     "metadata": {},
     "output_type": "execute_result"
    }
   ],
   "source": [
    "type(mob)"
   ]
  },
  {
   "cell_type": "code",
   "execution_count": 41,
   "id": "662731bf-2ead-448a-9ce7-f7981a86103e",
   "metadata": {},
   "outputs": [],
   "source": [
    "mob = '9060486010'"
   ]
  },
  {
   "cell_type": "code",
   "execution_count": 42,
   "id": "f4389cae-5ed9-4400-b9fe-181dae5a089c",
   "metadata": {},
   "outputs": [
    {
     "data": {
      "text/plain": [
       "str"
      ]
     },
     "execution_count": 42,
     "metadata": {},
     "output_type": "execute_result"
    }
   ],
   "source": [
    "type(mob)"
   ]
  },
  {
   "cell_type": "code",
   "execution_count": 53,
   "id": "1d676dd2-c32d-4191-961a-c5a829023aef",
   "metadata": {},
   "outputs": [],
   "source": [
    "# Multi Line Strings are created using Single or Double Quotes (3 times)\n",
    "poem = '''Twinkle Twinkle\n",
    "Little Star\n",
    "How I wonder what you are'''"
   ]
  },
  {
   "cell_type": "code",
   "execution_count": 54,
   "id": "1ece9f81-57c2-4036-9fd4-017608445e40",
   "metadata": {},
   "outputs": [
    {
     "name": "stdout",
     "output_type": "stream",
     "text": [
      "Twinkle Twinkle\n",
      "Little Star\n",
      "How I wonder what you are\n"
     ]
    }
   ],
   "source": [
    "print(poem)"
   ]
  },
  {
   "cell_type": "code",
   "execution_count": 55,
   "id": "a821e0be-f8fd-4af6-a390-6ba06666d623",
   "metadata": {},
   "outputs": [],
   "source": [
    "# Person Database\n",
    "\n",
    "FirstName = 'Vinay'\n",
    "secondName = 'Manohar'\n",
    "isMale = True"
   ]
  },
  {
   "cell_type": "code",
   "execution_count": 56,
   "id": "de0a35e2-62b1-420c-b0a7-cec0eeb70867",
   "metadata": {},
   "outputs": [],
   "source": [
    "isMale = False"
   ]
  },
  {
   "cell_type": "code",
   "execution_count": 61,
   "id": "b059110d-3f4d-42cf-bbda-b9aab916b7e1",
   "metadata": {},
   "outputs": [],
   "source": [
    "testedPositive = True"
   ]
  },
  {
   "cell_type": "code",
   "execution_count": 62,
   "id": "8192c7d7-3788-4180-a546-13e227a2c8e0",
   "metadata": {},
   "outputs": [],
   "source": [
    "testedPositive = False"
   ]
  },
  {
   "cell_type": "code",
   "execution_count": 59,
   "id": "87e19551-af48-44ba-8009-bdbe8b69aff2",
   "metadata": {},
   "outputs": [],
   "source": [
    "defaulted = None"
   ]
  },
  {
   "cell_type": "code",
   "execution_count": 63,
   "id": "c2d6d450-c2ac-4a27-af37-2fcf9f6d0746",
   "metadata": {},
   "outputs": [
    {
     "data": {
      "text/plain": [
       "False"
      ]
     },
     "execution_count": 63,
     "metadata": {},
     "output_type": "execute_result"
    }
   ],
   "source": [
    "testedPositive"
   ]
  },
  {
   "cell_type": "code",
   "execution_count": 68,
   "id": "0b6199e6-eacc-48ab-aa44-d54516b5e20c",
   "metadata": {},
   "outputs": [],
   "source": [
    "defaulted"
   ]
  },
  {
   "cell_type": "code",
   "execution_count": 69,
   "id": "e383faf8-6cf7-4de7-af6c-c869f631a41b",
   "metadata": {},
   "outputs": [
    {
     "name": "stdout",
     "output_type": "stream",
     "text": [
      "None\n"
     ]
    }
   ],
   "source": [
    "print(defaulted)"
   ]
  },
  {
   "cell_type": "code",
   "execution_count": 70,
   "id": "3135a128-488c-47c1-b268-2c0007c3863f",
   "metadata": {},
   "outputs": [],
   "source": [
    "# Interactive Input"
   ]
  },
  {
   "cell_type": "code",
   "execution_count": 71,
   "id": "2bfe7a0d-7b2f-41df-a5cd-4ecbe9c1880e",
   "metadata": {},
   "outputs": [],
   "source": [
    "# Manual Method\n",
    "a = 56"
   ]
  },
  {
   "cell_type": "code",
   "execution_count": 72,
   "id": "9920a6a8-ede9-44f9-88a3-beb9a2317809",
   "metadata": {},
   "outputs": [],
   "source": [
    "name = 'Sony'"
   ]
  },
  {
   "cell_type": "code",
   "execution_count": 83,
   "id": "82a2ae8a-87d2-44dd-a912-1311ef63f02f",
   "metadata": {},
   "outputs": [
    {
     "name": "stdin",
     "output_type": "stream",
     "text": [
      "Enter your name Vinay\n"
     ]
    }
   ],
   "source": [
    "name = input(\"Enter your name\")"
   ]
  },
  {
   "cell_type": "code",
   "execution_count": 84,
   "id": "43b8ca04-6be0-47de-a82b-608900b8b9eb",
   "metadata": {},
   "outputs": [
    {
     "data": {
      "text/plain": [
       "'Vinay'"
      ]
     },
     "execution_count": 84,
     "metadata": {},
     "output_type": "execute_result"
    }
   ],
   "source": [
    "name"
   ]
  },
  {
   "cell_type": "code",
   "execution_count": 85,
   "id": "d32f2250-d501-4ae6-9143-77de4090c806",
   "metadata": {},
   "outputs": [
    {
     "data": {
      "text/plain": [
       "str"
      ]
     },
     "execution_count": 85,
     "metadata": {},
     "output_type": "execute_result"
    }
   ],
   "source": [
    "type(name)"
   ]
  },
  {
   "cell_type": "code",
   "execution_count": 86,
   "id": "4b2b2d0c-99f3-40d3-84bf-568496876618",
   "metadata": {},
   "outputs": [
    {
     "name": "stdin",
     "output_type": "stream",
     "text": [
      "Enter your Age:: 32\n"
     ]
    }
   ],
   "source": [
    "# passing integer interactively\n",
    "\n",
    "age = int(input(\"Enter your Age::\"))"
   ]
  },
  {
   "cell_type": "code",
   "execution_count": 87,
   "id": "e290ccb2-9e4d-4601-894f-8e5bfef81dad",
   "metadata": {},
   "outputs": [
    {
     "data": {
      "text/plain": [
       "int"
      ]
     },
     "execution_count": 87,
     "metadata": {},
     "output_type": "execute_result"
    }
   ],
   "source": [
    "type(age)"
   ]
  },
  {
   "cell_type": "code",
   "execution_count": 88,
   "id": "45703467-da46-40d0-9614-1b4b022001b8",
   "metadata": {},
   "outputs": [
    {
     "name": "stdin",
     "output_type": "stream",
     "text": [
      "Enter your weight:: 56.366\n"
     ]
    }
   ],
   "source": [
    "weight = float(input('Enter your weight::'))"
   ]
  },
  {
   "cell_type": "code",
   "execution_count": 89,
   "id": "f2e3d3d8-6ca9-4b57-9e76-ed99393bdc56",
   "metadata": {},
   "outputs": [
    {
     "name": "stdin",
     "output_type": "stream",
     "text": [
      "Enter the Radius Value 2.5\n"
     ]
    },
    {
     "name": "stdout",
     "output_type": "stream",
     "text": [
      "19.634954084936208\n"
     ]
    }
   ],
   "source": [
    "# Find the area of Cicle\n",
    "# math module, pi and pow, radius\n",
    "\n",
    "# calling all the required functions from math module\n",
    "from math import pi, pow\n",
    "\n",
    "# declaring and parsing the value to variable through float(input())\n",
    "RADIUS = float(input(\"Enter the Radius Value\"))\n",
    "\n",
    "# Computation\n",
    "area_circle = pi * pow(RADIUS,2)\n",
    "\n",
    "#display\n",
    "print(area_circle)"
   ]
  },
  {
   "cell_type": "code",
   "execution_count": null,
   "id": "10d5a3ef-f002-4e1b-8990-383cb3827e5e",
   "metadata": {},
   "outputs": [],
   "source": [
    "# Assignment\n",
    "\n",
    "# 1. Find the area Rectangle\n",
    "# 2. length (Eucledean Formula)\n",
    "# 3. Conversions , KM to Miles, Miles to Kilometer\n",
    "# 4. Weight Conversion"
   ]
  },
  {
   "cell_type": "code",
   "execution_count": 90,
   "id": "db4dd80b-f15c-4a8b-863a-7a1dc8dd054e",
   "metadata": {},
   "outputs": [],
   "source": [
    "X1, Y1 = 2, 2\n",
    "X2, Y2 = 5, 5"
   ]
  },
  {
   "cell_type": "code",
   "execution_count": 91,
   "id": "3a426851-23d9-4d7d-b2e7-d447d3c9ae70",
   "metadata": {},
   "outputs": [
    {
     "name": "stdout",
     "output_type": "stream",
     "text": [
      "4.242640687119285\n"
     ]
    }
   ],
   "source": [
    "# Python Program to Calculate the Distance between two coordinates using Eucledean\n",
    "from math import pow, sqrt\n",
    "X1, Y1 = 2, 2\n",
    "X2, Y2 = 5, 5\n",
    "\n",
    "X = X2 - X1\n",
    "Y = Y2 - Y1\n",
    "\n",
    "d = sqrt(pow(X,2) + pow(Y,2))\n",
    "\n",
    "print(d)"
   ]
  },
  {
   "cell_type": "code",
   "execution_count": 92,
   "id": "d7f8f430-56e9-473e-9cf9-7893c1d3e3b0",
   "metadata": {},
   "outputs": [
    {
     "name": "stdin",
     "output_type": "stream",
     "text": [
      "Enter X coordinate of Point 1 1\n",
      "Enter Y coordinate of Point 1 2\n",
      "Enter X coordinate of Point 2 9\n",
      "Enter Y coordinate of Point 2 5\n"
     ]
    }
   ],
   "source": [
    "X1 = float(input(\"Enter X coordinate of Point 1\"))\n",
    "Y1 = float(input(\"Enter Y coordinate of Point 1\"))\n",
    "X2 = float(input(\"Enter X coordinate of Point 2\"))\n",
    "Y2 = float(input(\"Enter Y coordinate of Point 2\"))"
   ]
  },
  {
   "cell_type": "code",
   "execution_count": 93,
   "id": "c545e383-2d1e-4277-89ed-a316eb76cab0",
   "metadata": {},
   "outputs": [
    {
     "name": "stdin",
     "output_type": "stream",
     "text": [
      "Enter X coordinate of Point 1 1\n",
      "Enter Y coordinate of Point 1 2\n",
      "Enter X coordinate of Point 2 9\n",
      "Enter Y coordinate of Point 2 5\n"
     ]
    },
    {
     "name": "stdout",
     "output_type": "stream",
     "text": [
      "8.54400374531753\n"
     ]
    }
   ],
   "source": [
    "from math import pow, sqrt\n",
    "\n",
    "X1 = float(input(\"Enter X coordinate of Point 1\"))\n",
    "Y1 = float(input(\"Enter Y coordinate of Point 1\"))\n",
    "X2 = float(input(\"Enter X coordinate of Point 2\"))\n",
    "Y2 = float(input(\"Enter Y coordinate of Point 2\"))\n",
    "\n",
    "\n",
    "X = X2 - X1\n",
    "Y = Y2 - Y1\n",
    "\n",
    "d = sqrt(pow(X,2) + pow(Y,2))\n",
    "\n",
    "print(d)"
   ]
  },
  {
   "cell_type": "code",
   "execution_count": null,
   "id": "ed742309-6c9a-414e-8343-56a5bc096232",
   "metadata": {},
   "outputs": [],
   "source": []
  }
 ],
 "metadata": {
  "kernelspec": {
   "display_name": "Python 3 (ipykernel)",
   "language": "python",
   "name": "python3"
  },
  "language_info": {
   "codemirror_mode": {
    "name": "ipython",
    "version": 3
   },
   "file_extension": ".py",
   "mimetype": "text/x-python",
   "name": "python",
   "nbconvert_exporter": "python",
   "pygments_lexer": "ipython3",
   "version": "3.12.3"
  }
 },
 "nbformat": 4,
 "nbformat_minor": 5
}
