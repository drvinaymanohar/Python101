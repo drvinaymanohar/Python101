{
 "cells": [
  {
   "cell_type": "markdown",
   "id": "fa5c6d56",
   "metadata": {},
   "source": [
    "#### Use of `__str__` for attributes printing\n",
    "\n",
    "\n",
    "- Including the `__str__` method is a best practice for making your classes more user-friendly and your code easier to maintain.\n",
    "- Using the `__str__` method in a class is not strictly necessary, but it is highly beneficial for improving the readability and usability of your class instances.\n",
    "- It is beneficial when you are debugging or logging information, having a clear representation of your objects can be incredibly helpful."
   ]
  },
  {
   "cell_type": "markdown",
   "id": "fed2c724",
   "metadata": {},
   "source": [
    "##### without using `__str__`"
   ]
  },
  {
   "cell_type": "code",
   "execution_count": null,
   "id": "5b3c2973",
   "metadata": {},
   "outputs": [],
   "source": [
    "class Person:\n",
    "    def __init__(self, name, age):\n",
    "        self.name = name # Instance Attribute\n",
    "        self.age = age # Instance Attribute"
   ]
  },
  {
   "cell_type": "code",
   "execution_count": null,
   "id": "53fb4972",
   "metadata": {},
   "outputs": [],
   "source": [
    "# Instantiating object (person1) based on Person class\n",
    "person1 = Person(\"Vinay\", 30)"
   ]
  },
  {
   "cell_type": "code",
   "execution_count": null,
   "id": "1ebe3f06",
   "metadata": {},
   "outputs": [],
   "source": [
    "#calling object\n",
    "#object will show some memory location\n",
    "person1"
   ]
  },
  {
   "cell_type": "code",
   "execution_count": null,
   "id": "5558f455",
   "metadata": {},
   "outputs": [],
   "source": [
    "# readability failed"
   ]
  },
  {
   "cell_type": "code",
   "execution_count": null,
   "id": "a5054be1",
   "metadata": {},
   "outputs": [],
   "source": [
    "print(person1)"
   ]
  },
  {
   "cell_type": "code",
   "execution_count": null,
   "id": "e8dea24d",
   "metadata": {},
   "outputs": [],
   "source": [
    "# readability failed"
   ]
  },
  {
   "cell_type": "markdown",
   "id": "1502de4b",
   "metadata": {},
   "source": [
    "Conclusion: If you don’t define a `__str__` method, the default implementation provided by Python’s object class is used, which typically returns a string that includes the object’s type and memory address, something like `<__main__.Person object at 0x7f9e8c2b1b80>`. This output is not very informative."
   ]
  },
  {
   "cell_type": "markdown",
   "id": "b1be7fef",
   "metadata": {},
   "source": [
    "***"
   ]
  },
  {
   "cell_type": "markdown",
   "id": "45598842",
   "metadata": {},
   "source": [
    "#### with using `__str__`"
   ]
  },
  {
   "cell_type": "code",
   "execution_count": null,
   "id": "62587c37",
   "metadata": {},
   "outputs": [],
   "source": [
    "\n",
    "# Returns a human-readable string representation of an object.\n",
    "# It's called by str() and print()\n",
    "\n",
    "class Person:\n",
    "    def __init__(self, name, age):\n",
    "        self.name = name\n",
    "        self.age = age\n",
    "\n",
    "    def __str__(self):\n",
    "        return f\"name={self.name}, age={self.age}\""
   ]
  },
  {
   "cell_type": "code",
   "execution_count": null,
   "id": "b0641884",
   "metadata": {},
   "outputs": [],
   "source": [
    "# Instantiating the object person2 based on the class Person\n",
    "person2 = Person(\"Vinay\", 30)"
   ]
  },
  {
   "cell_type": "code",
   "execution_count": null,
   "id": "893a1650",
   "metadata": {},
   "outputs": [],
   "source": [
    "person2"
   ]
  },
  {
   "cell_type": "code",
   "execution_count": null,
   "id": "59191b86",
   "metadata": {},
   "outputs": [],
   "source": [
    "#  Using print() and str(): When you print the object or convert it to a string, the __str__ method is called automatically.\n",
    "print(person2)"
   ]
  },
  {
   "cell_type": "code",
   "execution_count": null,
   "id": "00a328d2",
   "metadata": {},
   "outputs": [],
   "source": [
    "str(person2)"
   ]
  },
  {
   "cell_type": "markdown",
   "id": "ca07b2bb",
   "metadata": {},
   "source": [
    "#### Example by Trainees"
   ]
  },
  {
   "cell_type": "code",
   "execution_count": null,
   "id": "ced13a98",
   "metadata": {},
   "outputs": [],
   "source": [
    "class Shopping:\n",
    "    def __init__(self, item1, item2):\n",
    "        self.item1 = item1\n",
    "        self.item2 = item2"
   ]
  },
  {
   "cell_type": "code",
   "execution_count": null,
   "id": "d5345bb6",
   "metadata": {},
   "outputs": [],
   "source": [
    "shop1 = Shopping(\"Egg\", \"Cucumber\")"
   ]
  },
  {
   "cell_type": "code",
   "execution_count": null,
   "id": "2fb5e142",
   "metadata": {},
   "outputs": [],
   "source": [
    "shop1"
   ]
  },
  {
   "cell_type": "code",
   "execution_count": null,
   "id": "78a05e63",
   "metadata": {},
   "outputs": [],
   "source": [
    "print(shop1)"
   ]
  },
  {
   "cell_type": "code",
   "execution_count": null,
   "id": "47ba0edd",
   "metadata": {},
   "outputs": [],
   "source": [
    "# I am trying to read the object, but object showing MEMORY Address\n",
    "# Readability is failed in default implimentation"
   ]
  },
  {
   "cell_type": "code",
   "execution_count": null,
   "id": "0b5914ec",
   "metadata": {},
   "outputs": [],
   "source": [
    "# in order to make more Readability regarding the object\n",
    "# we have to use __str__"
   ]
  },
  {
   "cell_type": "code",
   "execution_count": null,
   "id": "1953ca38",
   "metadata": {},
   "outputs": [],
   "source": [
    "class Shopping:\n",
    "    def __init__(self, item1, item2):\n",
    "        self.item1 = item1\n",
    "        self.item2 = item2\n",
    "    def __str__(self):\n",
    "        return f\"item1 = {self.item1}, item2 = {self.item2}\""
   ]
  },
  {
   "cell_type": "code",
   "execution_count": null,
   "id": "f1885410",
   "metadata": {},
   "outputs": [],
   "source": [
    "# instantiate the object\n",
    "shop2 = Shopping(\"Wheat\", \"Salt\")"
   ]
  },
  {
   "cell_type": "code",
   "execution_count": null,
   "id": "d0450977",
   "metadata": {},
   "outputs": [],
   "source": [
    "# read the object using print function\n",
    "print(shop2)"
   ]
  },
  {
   "cell_type": "code",
   "execution_count": null,
   "id": "7688b0e4",
   "metadata": {},
   "outputs": [],
   "source": [
    "# read the object using str function\n",
    "str(shop2)"
   ]
  },
  {
   "cell_type": "code",
   "execution_count": null,
   "id": "1ea73fe1",
   "metadata": {},
   "outputs": [],
   "source": [
    "# Example 2\n",
    "class Book:\n",
    "    def __init__(self, title, author, pages):\n",
    "        self.title = title\n",
    "        self.author = author\n",
    "        self.pages = pages\n",
    "\n",
    "    def __str__(self):\n",
    "        return f\"Book(title={self.title}, author={self.author}, pages={self.pages})\"\n"
   ]
  },
  {
   "cell_type": "code",
   "execution_count": null,
   "id": "f58cd07e",
   "metadata": {},
   "outputs": [],
   "source": [
    "# Creating an instance of Book\n",
    "book = Book(\"2000\", \"Geospatial Python\", 300)"
   ]
  },
  {
   "cell_type": "code",
   "execution_count": null,
   "id": "1b96cc31",
   "metadata": {},
   "outputs": [],
   "source": [
    "# direct access\n",
    "book.title"
   ]
  },
  {
   "cell_type": "code",
   "execution_count": null,
   "id": "e6877081",
   "metadata": {},
   "outputs": [],
   "source": [
    "# direct access\n",
    "book.author"
   ]
  },
  {
   "cell_type": "code",
   "execution_count": null,
   "id": "328cad0e",
   "metadata": {},
   "outputs": [],
   "source": [
    "# direct access\n",
    "book.pages"
   ]
  },
  {
   "cell_type": "code",
   "execution_count": null,
   "id": "5e4622c3",
   "metadata": {},
   "outputs": [],
   "source": [
    "# Printing the book object\n",
    "print(book)"
   ]
  },
  {
   "cell_type": "markdown",
   "id": "c7b8aab9",
   "metadata": {},
   "source": [
    "***"
   ]
  },
  {
   "cell_type": "markdown",
   "id": "a0e6f890",
   "metadata": {},
   "source": [
    "#### Pillars of OOPS"
   ]
  },
  {
   "cell_type": "markdown",
   "id": "92998d1f",
   "metadata": {},
   "source": [
    "#### `Four pillars` of `Object-Oriented Programming (OOP)` are:\n",
    "\n",
    "- `Encapsulation:` This principle involves bundling the data (attributes) and the methods (functions) that operate on the data into a single unit, known as a class. Encapsulation restricts direct access to some of the object’s components, which helps to protect the data and maintain control over how it's modified.\n",
    "\n",
    "- `Inheritance:` This allows one class to inherit the attributes and methods of another class. It promotes code reusability by enabling the creation of new classes based on existing ones, allowing for hierarchical relationships.\n",
    "\n",
    "\n",
    "- `Polymorphism:` Polymorphism allows objects of different classes to be treated as objects of a common super class. It enables the same function to be used in different ways, either by method overriding or method overloading.\n",
    "  \n",
    "- `Abstraction:` Abstraction simplifies complex reality by modeling classes based on the essential features while hiding unnecessary details. It allows users to interact with an object without knowing its internal workings."
   ]
  },
  {
   "cell_type": "markdown",
   "id": "860cda93",
   "metadata": {},
   "source": [
    "#### Quick Recap\n",
    "\n",
    "- `Class`\tA blueprint for creating objects. Defines the properties (attributes) and behaviors (methods).\n",
    "- `Object`\tAn instance of a class, containing data and methods that operate on that data.\n",
    "- `Method`\tFunctions defined within a class that represent the behavior of the objects created by that class.\n",
    "- `Attribute`\tVariables that hold data for the object, like name, age, or in our case, make, model, year.\n",
    "- `Inheritance`\tOne class can inherit attributes and methods from another class, promoting code reuse.\n",
    "- `Encapsulation`\tBundling of data (attributes) and methods that operate on the data into one unit (class).\n",
    "- `Polymorphism`\tThe ability of different classes to be treated as instances of the same class through inheritance.\n",
    "- `Abstraction` Abstraction involves hiding complex implementation details and exposing only the essential features of an object. It focuses on what an object does rather than how it does it."
   ]
  },
  {
   "cell_type": "markdown",
   "id": "89216cc1",
   "metadata": {},
   "source": [
    "#### Encapsulation"
   ]
  },
  {
   "cell_type": "markdown",
   "id": "fbc3fe42-6150-498a-9b1a-56029afc2678",
   "metadata": {},
   "source": [
    "`Encapsulation in Python` is all about protecting data and organizing code in a way that’s secure and easy to maintain. It’s a key principle of Object-Oriented Programming (OOP) and ensures that an object’s internal state (data) is hidden from the outside world. This is important because it prevents accidental modification and keeps the code structured and predictable."
   ]
  },
  {
   "cell_type": "markdown",
   "id": "2d295f54-3f50-47a1-96bb-0740b2601ed3",
   "metadata": {},
   "source": [
    "`Step involved in Encapsulation`\n",
    "\n",
    "`Define a class:` Encapsulation begins with creating a class to group related data and methods.\n",
    "\n",
    "`Use private variables:` Make certain attributes private by adding double underscores `(__)` before the attribute name. This will restrict access from outside the class.\n",
    "\n",
    "`Access control:` Provide getter and setter methods to control how attributes are accessed or modified."
   ]
  },
  {
   "cell_type": "markdown",
   "id": "f1816dd5",
   "metadata": {},
   "source": [
    "### Access Control and Data Hiding in Python"
   ]
  },
  {
   "cell_type": "markdown",
   "id": "daf148e8",
   "metadata": {},
   "source": [
    "`Access control` is an essential part of `encapsulation`. It’s what allows you to hide specific data or methods from other parts of the program. This way, you prevent unauthorized changes and keep the integrity of your objects intact.\n",
    "\n",
    "In `Python`, there are `three` levels of `access control`:\n",
    "\n",
    "- `Public`: Attributes and methods accessible from anywhere.\n",
    "- `Protected`: Indicated by a single underscore `(_)`, they are meant to be used within the class and subclasses.\n",
    "- `Private`: Denoted by double underscores `(__)`, accessible only within the class."
   ]
  },
  {
   "cell_type": "markdown",
   "id": "d3bcdffd",
   "metadata": {},
   "source": [
    "`Public` -----> `self.attribute` ----> Accessible From Anywhere\n",
    "\n",
    "`Protected` --> `self._attribute` ---> Within class and subclasses\n",
    "<br>\n",
    "Protected Attributes: Allow access within the class and its subclasses, using a single underscore to indicate that they are intended for internal use only.\n",
    "\n",
    "`Private` ----> `self.__attribute` -->\tOnly within the class itself\n",
    "<br>\n",
    "Private Attributes: Encapsulate data and restrict access to within the class only, using double underscores.\n"
   ]
  },
  {
   "cell_type": "markdown",
   "id": "d4ca410b",
   "metadata": {},
   "source": [
    "#### Example 1\n",
    "#### Public Attribute (Unprotected Data)"
   ]
  },
  {
   "cell_type": "code",
   "execution_count": null,
   "id": "20e61a5e",
   "metadata": {},
   "outputs": [],
   "source": [
    "class Employee:\n",
    "    def __init__(self, name, salary):\n",
    "        self.name = name # public instance attribute\n",
    "        self.salary = salary  # public instance attribute"
   ]
  },
  {
   "cell_type": "code",
   "execution_count": null,
   "id": "3ff62a3a",
   "metadata": {},
   "outputs": [],
   "source": [
    "emp = Employee(\"Vinay\", 50000)"
   ]
  },
  {
   "cell_type": "code",
   "execution_count": null,
   "id": "6bd9d8a4",
   "metadata": {},
   "outputs": [],
   "source": [
    "# name is exposed\n",
    "emp.name"
   ]
  },
  {
   "cell_type": "code",
   "execution_count": null,
   "id": "7247bf82",
   "metadata": {},
   "outputs": [],
   "source": [
    "# name can be directly modifiable \n",
    "emp.name = 'Manohar'"
   ]
  },
  {
   "cell_type": "code",
   "execution_count": null,
   "id": "8658da48",
   "metadata": {},
   "outputs": [],
   "source": [
    "# modified name\n",
    "emp.name"
   ]
  },
  {
   "cell_type": "code",
   "execution_count": null,
   "id": "e17fad7e",
   "metadata": {},
   "outputs": [],
   "source": [
    "# salary is exposed directly when you call\n",
    "emp.salary"
   ]
  },
  {
   "cell_type": "code",
   "execution_count": null,
   "id": "22fcde4f",
   "metadata": {},
   "outputs": [],
   "source": [
    "# Conclusion: It is easy to breach data from object and alter it.\n",
    "# This is not goal of OOPS\n",
    "# OOPS is for giving you additional wings for data protection\n",
    "# Now Encapsulation of OOPS comes into picture\n",
    "# It’s like having a secure and controlled way to interact with the data and functionality encapsulated within an object."
   ]
  },
  {
   "cell_type": "markdown",
   "id": "94a6ee68",
   "metadata": {},
   "source": [
    "Analogy of Encapsulation: Think of a capsule (medicinal pills). The capsule is the outer shell that contains medicine inside. You don’t need to know how the medicine works; you just need to follow the instructions on when and how to take it. The capsule encapsulates the medicine, protecting it and controlling how it is used."
   ]
  },
  {
   "cell_type": "markdown",
   "id": "aed2b0de",
   "metadata": {},
   "source": [
    "#### Private Data (Encapsulated Data)"
   ]
  },
  {
   "cell_type": "code",
   "execution_count": null,
   "id": "186d7245",
   "metadata": {},
   "outputs": [],
   "source": [
    "class Employee:\n",
    "    def __init__(self, name, salary):\n",
    "        self.name = name\n",
    "        self.__salary = salary  # Private instance attribute"
   ]
  },
  {
   "cell_type": "code",
   "execution_count": null,
   "id": "1ebe4d47",
   "metadata": {},
   "outputs": [],
   "source": [
    "emp1 = Employee(\"Manohar\", 50000)"
   ]
  },
  {
   "cell_type": "code",
   "execution_count": null,
   "id": "c8196c33",
   "metadata": {},
   "outputs": [],
   "source": [
    "emp1.name"
   ]
  },
  {
   "cell_type": "code",
   "execution_count": null,
   "id": "c1763ffe",
   "metadata": {},
   "outputs": [],
   "source": [
    "emp1.__salary"
   ]
  },
  {
   "cell_type": "markdown",
   "id": "4dcbbd66",
   "metadata": {},
   "source": [
    "#### Accessing Encapsulated Data using Getters"
   ]
  },
  {
   "cell_type": "code",
   "execution_count": null,
   "id": "dd9766e3",
   "metadata": {},
   "outputs": [],
   "source": [
    "class Employee:\n",
    "    def __init__(self, name, salary):\n",
    "        self.name = name\n",
    "        self.__salary = salary  # Private attribute\n",
    "\n",
    "    # Getter\n",
    "    def get_salary(self):\n",
    "        return self.__salary"
   ]
  },
  {
   "cell_type": "code",
   "execution_count": null,
   "id": "939b49b9",
   "metadata": {},
   "outputs": [],
   "source": [
    "emp3= Employee(\"Arun\", 750000)"
   ]
  },
  {
   "cell_type": "code",
   "execution_count": null,
   "id": "902b964b",
   "metadata": {},
   "outputs": [],
   "source": [
    "emp3.name"
   ]
  },
  {
   "cell_type": "code",
   "execution_count": null,
   "id": "2698c1a3",
   "metadata": {},
   "outputs": [],
   "source": [
    "emp3.salary"
   ]
  },
  {
   "cell_type": "code",
   "execution_count": null,
   "id": "6a62d7da",
   "metadata": {},
   "outputs": [],
   "source": [
    "emp3.get_salary()"
   ]
  },
  {
   "cell_type": "markdown",
   "id": "27293783",
   "metadata": {},
   "source": [
    "#### Modifying Encapsulated Data using Setters"
   ]
  },
  {
   "cell_type": "code",
   "execution_count": null,
   "id": "0f582e3e",
   "metadata": {},
   "outputs": [],
   "source": [
    "class Employee:\n",
    "    def __init__(self, name, salary):\n",
    "        self.name = name\n",
    "        self.__salary = salary  # Private attribute\n",
    "\n",
    "    # Getter\n",
    "    def get_salary(self):\n",
    "        return self.__salary\n",
    "    \n",
    "    # Setter\n",
    "    def new_salary(self, newsalary):\n",
    "        self.__salary = newsalary\n",
    "        return self.__salary\n",
    "    \n",
    "    # Setter\n",
    "    def increment_salary(self, incrementedSalary):\n",
    "        self.__salary = self.__salary + incrementedSalary\n",
    "        return self.__salary"
   ]
  },
  {
   "cell_type": "code",
   "execution_count": null,
   "id": "ce7e869f",
   "metadata": {},
   "outputs": [],
   "source": [
    "obj = Employee(\"Vinay\", 50000)"
   ]
  },
  {
   "cell_type": "code",
   "execution_count": null,
   "id": "a6c86cc9",
   "metadata": {},
   "outputs": [],
   "source": [
    "# this throws error, because of private attribute\n",
    "obj.__salary"
   ]
  },
  {
   "cell_type": "code",
   "execution_count": null,
   "id": "6985c2e2",
   "metadata": {},
   "outputs": [],
   "source": [
    "obj.get_salary()"
   ]
  },
  {
   "cell_type": "code",
   "execution_count": null,
   "id": "cc153b7d",
   "metadata": {},
   "outputs": [],
   "source": [
    "obj.new_salary(55000)"
   ]
  },
  {
   "cell_type": "code",
   "execution_count": null,
   "id": "bbcde619",
   "metadata": {},
   "outputs": [],
   "source": [
    "obj.get_salary()"
   ]
  },
  {
   "cell_type": "code",
   "execution_count": null,
   "id": "f479fa55",
   "metadata": {},
   "outputs": [],
   "source": [
    "obj.increment_salary(300)"
   ]
  },
  {
   "cell_type": "code",
   "execution_count": null,
   "id": "e0fa11c7",
   "metadata": {},
   "outputs": [],
   "source": [
    "obj.get_salary()"
   ]
  },
  {
   "cell_type": "markdown",
   "id": "dd8023c0",
   "metadata": {},
   "source": [
    "***"
   ]
  },
  {
   "cell_type": "markdown",
   "id": "46144e4a",
   "metadata": {},
   "source": [
    "#### Example of Protected Attribute"
   ]
  },
  {
   "cell_type": "code",
   "execution_count": null,
   "id": "095dd04a",
   "metadata": {},
   "outputs": [],
   "source": [
    "# Protected Attibutes are not recommended to use"
   ]
  },
  {
   "cell_type": "code",
   "execution_count": null,
   "id": "a5302877-30da-45bd-a7ef-13ac28ab78f1",
   "metadata": {},
   "outputs": [],
   "source": [
    "class Employee:\n",
    "    def __init__(self, name, salary):\n",
    "        self.name = name  # Public attribute\n",
    "        self.__salary = salary  # Private attribute\n",
    "        self._department = \"IT\"  # Protected attribute\n",
    "\n",
    "    def get_salary(self):  # Getter method\n",
    "        return self.__salary\n",
    "\n",
    "    def set_salary(self, amount):  # Setter method\n",
    "        self.__salary = amount\n",
    "        return self.__salary\n",
    "\n",
    "    def get_department(self):  # Getter for protected attribute\n",
    "        return self._department"
   ]
  },
  {
   "cell_type": "code",
   "execution_count": null,
   "id": "830aaf81-0379-485a-be12-3cc458c34b7a",
   "metadata": {},
   "outputs": [],
   "source": [
    "# Create an instance of Employee\n",
    "emp = Employee(\"Vinay\", 50000)"
   ]
  },
  {
   "cell_type": "code",
   "execution_count": null,
   "id": "eddd666a-5069-4628-b95c-ef8c037e5a4d",
   "metadata": {},
   "outputs": [],
   "source": [
    "# Accessing public attribute\n",
    "print(emp.name)"
   ]
  },
  {
   "cell_type": "code",
   "execution_count": null,
   "id": "7bc4b6e4-c509-44ca-8bce-96fd53a025f3",
   "metadata": {},
   "outputs": [],
   "source": [
    "# Trying to access private attribute (will cause an error)\n",
    "# Advantage of private attiribute (Strong Encapsulation)\n",
    "print(emp.__salary)"
   ]
  },
  {
   "cell_type": "code",
   "execution_count": null,
   "id": "0b288476-cff6-4ab8-bc87-bd3355ae7ade",
   "metadata": {},
   "outputs": [],
   "source": [
    "# Using getter to access private attribute\n",
    "print(emp.get_salary())"
   ]
  },
  {
   "cell_type": "code",
   "execution_count": null,
   "id": "eb4195f5-6826-4f0d-b07b-e8bc4fda726a",
   "metadata": {},
   "outputs": [],
   "source": [
    "# Accessing protected attribute directly\n",
    "# Drawback of protected attribute (Weaker Encapsulation)\n",
    "\n",
    "emp._department"
   ]
  },
  {
   "cell_type": "code",
   "execution_count": null,
   "id": "e8c71e12-2b99-4c70-bc66-824a18c8a471",
   "metadata": {},
   "outputs": [],
   "source": [
    "# Using method to access protected attribute\n",
    "print(emp.get_department())"
   ]
  },
  {
   "cell_type": "code",
   "execution_count": null,
   "id": "ed6c438b-a55f-4d7a-8df1-ddfae1903382",
   "metadata": {},
   "outputs": [],
   "source": [
    "# Attempt to modify salary using setter\n",
    "emp.set_salary(60000)\n",
    "print(emp.get_salary())"
   ]
  },
  {
   "cell_type": "markdown",
   "id": "13eecf94-e574-484d-bc90-6baffb3e31a5",
   "metadata": {},
   "source": [
    "***"
   ]
  },
  {
   "cell_type": "markdown",
   "id": "975fbd3e",
   "metadata": {},
   "source": [
    "#### Task, Impliment Banking System with Password Protection"
   ]
  },
  {
   "cell_type": "code",
   "execution_count": null,
   "id": "8ad1ba1d",
   "metadata": {},
   "outputs": [],
   "source": [
    "class Banking:\n",
    "    def __init__(self):\n",
    "        self.name = None\n",
    "        self.username = None\n",
    "        self.__password = None\n",
    "        self.__balance = 0.0\n",
    "\n",
    "    def OpenAccount(self, Name, username, password, money):\n",
    "        self.name = Name\n",
    "        self.username = username\n",
    "        self.__password = password\n",
    "        self.__balance = money\n",
    "\n",
    "    def checkBalance(self):\n",
    "        return self.__balance\n",
    "    \n",
    "    def addMoney(self, increase):\n",
    "        self.__balance = self.__balance + increase\n",
    "        return self.__balance\n",
    "    \n",
    "    def withdrawMoney(self, decrease):\n",
    "        self.__balance = self.__balance - decrease\n",
    "        return self.__balance\n",
    "    \n",
    "    def getPassword(self):\n",
    "        return self.__password\n",
    "\n",
    "    def resetPassword(self, newpass):\n",
    "        self.__password = newpass\n",
    "        \n",
    "    def login(self, loginusername, loginpassword):\n",
    "        if loginusername == self.username and loginpassword == self.__password:\n",
    "            print('Login Successfull.......!')\n",
    "            option = None\n",
    "            while option != 5:\n",
    "                print(\"Options \\n 1. Check Balance \\n 2. Add Money \\n 3. Withdraw Money \\n 4. User Profile \\n 5. Exit\")\n",
    "                option = int(input(\"Enter Option: \"))\n",
    "                if option == 1:\n",
    "                    print(self.checkBalance())\n",
    "\n",
    "                elif option == 2:\n",
    "                    amount = float(input(\"Enter amount to add: \"))\n",
    "                    self.addMoney(amount)\n",
    "                    print(f'Deposited :: {amount}')\n",
    "                    print(f'Balance :: {self.checkBalance()}')\n",
    "\n",
    "                elif option == 3:\n",
    "                    amount = float(input(\"Enter amount to withdraw: \"))\n",
    "                    self.withdrawMoney(amount)\n",
    "                    print(f'Withdrawn :: {amount}')\n",
    "                    print(f'Balance :: {self.checkBalance()}')\n",
    "\n",
    "                elif option == 4:\n",
    "                    print(f\"User Profile: {self.name}, Username: {self.username}, Balance: {self.checkBalance()}\")\n",
    "\n",
    "                elif option == 5:\n",
    "                    print(\"Exiting...\")\n",
    "                    \n",
    "                else:\n",
    "                    print(\"Invalid option. Please choose again.\")\n",
    "        else:\n",
    "            print(\"Invalid Credentials\")\n"
   ]
  },
  {
   "cell_type": "code",
   "execution_count": null,
   "id": "4fb5efac",
   "metadata": {},
   "outputs": [],
   "source": [
    "# instantiating\n",
    "banking = Banking()"
   ]
  },
  {
   "cell_type": "code",
   "execution_count": null,
   "id": "dff9aa48",
   "metadata": {},
   "outputs": [],
   "source": [
    "banking.OpenAccount(\"Vinay\", \"vinay123\", \"hello@122\", 1001)"
   ]
  },
  {
   "cell_type": "code",
   "execution_count": null,
   "id": "41d10b5a",
   "metadata": {},
   "outputs": [],
   "source": [
    "banking.password"
   ]
  },
  {
   "cell_type": "code",
   "execution_count": null,
   "id": "8acae00d",
   "metadata": {},
   "outputs": [],
   "source": [
    "banking.getPassword()"
   ]
  },
  {
   "cell_type": "code",
   "execution_count": null,
   "id": "1bb1e317",
   "metadata": {},
   "outputs": [],
   "source": [
    "banking.resetPassword('vmlabs')"
   ]
  },
  {
   "cell_type": "code",
   "execution_count": null,
   "id": "b1d7bfd9",
   "metadata": {},
   "outputs": [],
   "source": [
    "banking.login('vinay123',\"hello@122\")"
   ]
  },
  {
   "cell_type": "code",
   "execution_count": null,
   "id": "ebd884fd",
   "metadata": {},
   "outputs": [],
   "source": [
    "banking.login(\"vinay123\", \"vmlabs\")"
   ]
  }
 ],
 "metadata": {
  "kernelspec": {
   "display_name": "base",
   "language": "python",
   "name": "python3"
  },
  "language_info": {
   "codemirror_mode": {
    "name": "ipython",
    "version": 3
   },
   "file_extension": ".py",
   "mimetype": "text/x-python",
   "name": "python",
   "nbconvert_exporter": "python",
   "pygments_lexer": "ipython3",
   "version": "3.12.4"
  }
 },
 "nbformat": 4,
 "nbformat_minor": 5
}
