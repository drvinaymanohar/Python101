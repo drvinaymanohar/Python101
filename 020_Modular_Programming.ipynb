{
 "cells": [
  {
   "cell_type": "code",
   "execution_count": 5,
   "id": "37aeb464-b582-4784-91fb-d8c3c41bd9fe",
   "metadata": {},
   "outputs": [],
   "source": [
    "# math is built-in\n",
    "# https://docs.python.org/3/py-modindex.html\n",
    "\n",
    "import math\n",
    "import os"
   ]
  },
  {
   "cell_type": "code",
   "execution_count": 8,
   "id": "93f01e5c-a9ad-4cab-9c15-be858d336d1a",
   "metadata": {},
   "outputs": [],
   "source": [
    "import math"
   ]
  },
  {
   "cell_type": "code",
   "execution_count": 9,
   "id": "0fe2b9db-6c6c-41d3-8e03-673b99d8b8f8",
   "metadata": {},
   "outputs": [],
   "source": [
    "from math import pi"
   ]
  },
  {
   "cell_type": "code",
   "execution_count": 10,
   "id": "bf176d4e-636f-47a3-a9a7-057ee26476e3",
   "metadata": {},
   "outputs": [],
   "source": [
    "from math import sin"
   ]
  },
  {
   "cell_type": "code",
   "execution_count": null,
   "id": "2509699e-09d2-4dbd-b53d-c5107d5fb1c4",
   "metadata": {},
   "outputs": [],
   "source": []
  },
  {
   "cell_type": "code",
   "execution_count": null,
   "id": "490176f7-d925-420a-8026-eba2fb08490d",
   "metadata": {},
   "outputs": [],
   "source": []
  },
  {
   "cell_type": "code",
   "execution_count": 6,
   "id": "c49a53f4-06eb-481b-99cc-9ed96e7fb831",
   "metadata": {},
   "outputs": [],
   "source": [
    "# Extended module for specific application\n",
    "import pandas"
   ]
  },
  {
   "cell_type": "code",
   "execution_count": 7,
   "id": "78fccb8f-29a0-4afd-9aeb-560dbcf9bec5",
   "metadata": {},
   "outputs": [],
   "source": [
    "# Custom Modules"
   ]
  },
  {
   "cell_type": "markdown",
   "id": "34fad204-3748-4ed0-a207-f8c9b9f04e2c",
   "metadata": {},
   "source": [
    "#### `Modular programming`\n",
    "\n",
    "- Modular programming is a software design technique that breaks a program into independent, interchangeable modules.\n",
    "- A Python module is simply a file containing Python definitions and statements. \n",
    "- Each module is like a mini-program that handles a specific part of the larger program.\n",
    "- It’s essentially a .py file that can contain variables, functions, and classes.\n",
    "\n",
    "\n",
    "\n",
    "- Imagine a scenario where you write a function and need to reuse it across different scripts.\n",
    "- Instead of copying and pasting it, you can write it once in a module and import it wherever it’s needed."
   ]
  },
  {
   "cell_type": "markdown",
   "id": "d9812c29-1fe2-4802-918e-c1f7a116bc79",
   "metadata": {},
   "source": [
    "#### Creating a Simple Python Module"
   ]
  },
  {
   "cell_type": "markdown",
   "id": "3231f30e-09de-45fc-88cb-6ffa9da656b6",
   "metadata": {},
   "source": [
    "##### 1. Defining Functions and Classes in Your Module"
   ]
  },
  {
   "cell_type": "code",
   "execution_count": 13,
   "id": "f0fd0a4a-0111-43c2-8164-10984feeba41",
   "metadata": {},
   "outputs": [],
   "source": [
    "def add(a, b):\n",
    "    \"\"\"\n",
    "    Add two numbers\n",
    "    \"\"\"\n",
    "    return a + b\n",
    "    \n",
    "def subtract(a, b):\n",
    "    \"\"\"\n",
    "    Subtract two numbers\n",
    "    \"\"\"\n",
    "    return a - b\n",
    "\n",
    "def multiply(a, b):\n",
    "    \"\"\"\n",
    "    Multiply two numbers\n",
    "    \"\"\"\n",
    "    return a * b\n",
    "\n",
    "def divide(a, b):\n",
    "    \"\"\"\n",
    "    Divide two numbers\n",
    "    \"\"\"\n",
    "    if b == 0:\n",
    "        raise ValueError(\"Cannot divide by zero!\")\n",
    "    return a / b"
   ]
  },
  {
   "cell_type": "code",
   "execution_count": 14,
   "id": "e97e5fae-5ab5-42b0-bec0-8c7bc7f99c1d",
   "metadata": {},
   "outputs": [],
   "source": [
    "#test your function"
   ]
  },
  {
   "cell_type": "code",
   "execution_count": 15,
   "id": "5d221a5b-5408-4165-b08e-12455db79ca1",
   "metadata": {},
   "outputs": [
    {
     "data": {
      "text/plain": [
       "9"
      ]
     },
     "execution_count": 15,
     "metadata": {},
     "output_type": "execute_result"
    }
   ],
   "source": [
    "add(4,5)"
   ]
  },
  {
   "cell_type": "code",
   "execution_count": 16,
   "id": "d04cd59e-f74a-43a3-9fff-c337f1d92551",
   "metadata": {},
   "outputs": [
    {
     "data": {
      "text/plain": [
       "-1"
      ]
     },
     "execution_count": 16,
     "metadata": {},
     "output_type": "execute_result"
    }
   ],
   "source": [
    "subtract(3,4)"
   ]
  },
  {
   "cell_type": "code",
   "execution_count": 17,
   "id": "3fb63679-a6d9-4621-9c58-8c5d0b178e2e",
   "metadata": {},
   "outputs": [
    {
     "data": {
      "text/plain": [
       "32"
      ]
     },
     "execution_count": 17,
     "metadata": {},
     "output_type": "execute_result"
    }
   ],
   "source": [
    "multiply(8,4)"
   ]
  },
  {
   "cell_type": "code",
   "execution_count": 18,
   "id": "e073bd56-dcc0-4a0e-a977-8702ea90c858",
   "metadata": {},
   "outputs": [
    {
     "data": {
      "text/plain": [
       "0.8571428571428571"
      ]
     },
     "execution_count": 18,
     "metadata": {},
     "output_type": "execute_result"
    }
   ],
   "source": [
    "divide(6,7)"
   ]
  },
  {
   "cell_type": "code",
   "execution_count": null,
   "id": "4e09b920-abc9-459d-9ce6-2db0818ceab9",
   "metadata": {},
   "outputs": [],
   "source": []
  },
  {
   "cell_type": "markdown",
   "id": "c1cec064-1f60-409a-a8b4-f9a386030c13",
   "metadata": {},
   "source": [
    "##### 2. Save in Python .py format"
   ]
  },
  {
   "cell_type": "code",
   "execution_count": 24,
   "id": "fc7333cf-605d-436a-a450-45ec16468754",
   "metadata": {},
   "outputs": [
    {
     "name": "stdout",
     "output_type": "stream",
     "text": [
      "Overwriting mycalculator.py\n"
     ]
    }
   ],
   "source": [
    "%%writefile mycalculator.py\n",
    "\n",
    "def add(a, b):\n",
    "    \"\"\"\n",
    "    Add two numbers\n",
    "    \"\"\"\n",
    "    return a + b\n",
    "    \n",
    "def subtract(a, b):\n",
    "    \"\"\"\n",
    "    Subtract two numbers\n",
    "    \"\"\"\n",
    "    return a - b\n",
    "\n",
    "def multiply(a, b):\n",
    "    \"\"\"\n",
    "    Multiply two numbers\n",
    "    \"\"\"\n",
    "    return a * b\n",
    "\n",
    "def divide(a, b):\n",
    "    \"\"\"\n",
    "    Divide two numbers\n",
    "    \"\"\"\n",
    "    if b == 0:\n",
    "        raise ValueError(\"Cannot divide by zero!\")\n",
    "    return a / b"
   ]
  },
  {
   "cell_type": "markdown",
   "id": "e8204126-ceb0-4560-bda7-1d373e897c9d",
   "metadata": {},
   "source": [
    "##### 3. Importing the Module into Another Script"
   ]
  },
  {
   "cell_type": "code",
   "execution_count": 27,
   "id": "4abba290-acee-42fe-a77e-d384a1ca136d",
   "metadata": {},
   "outputs": [],
   "source": [
    "# Import the module\n",
    "import mycalculator as myc"
   ]
  },
  {
   "cell_type": "code",
   "execution_count": 28,
   "id": "fda9e6f2-39c0-45ca-b865-5e4a992411ab",
   "metadata": {},
   "outputs": [
    {
     "data": {
      "text/plain": [
       "5"
      ]
     },
     "execution_count": 28,
     "metadata": {},
     "output_type": "execute_result"
    }
   ],
   "source": [
    "myc.add(2,3)"
   ]
  },
  {
   "cell_type": "code",
   "execution_count": 29,
   "id": "db1cf85e-02b7-4c2a-a677-128326642df2",
   "metadata": {},
   "outputs": [
    {
     "data": {
      "text/plain": [
       "3"
      ]
     },
     "execution_count": 29,
     "metadata": {},
     "output_type": "execute_result"
    }
   ],
   "source": [
    "myc.subtract(5,2)"
   ]
  },
  {
   "cell_type": "code",
   "execution_count": 30,
   "id": "58b966e2-f477-4313-ad09-e67d0be25b93",
   "metadata": {},
   "outputs": [
    {
     "data": {
      "text/plain": [
       "18"
      ]
     },
     "execution_count": 30,
     "metadata": {},
     "output_type": "execute_result"
    }
   ],
   "source": [
    "myc.multiply(3,6)"
   ]
  },
  {
   "cell_type": "code",
   "execution_count": 31,
   "id": "e7a7b070-be37-4844-96de-8e04ecb1bfbe",
   "metadata": {},
   "outputs": [
    {
     "data": {
      "text/plain": [
       "2.0"
      ]
     },
     "execution_count": 31,
     "metadata": {},
     "output_type": "execute_result"
    }
   ],
   "source": [
    "myc.divide(4,2)"
   ]
  },
  {
   "cell_type": "code",
   "execution_count": null,
   "id": "bcfee093-2354-40d3-a4d9-b40c09f76d06",
   "metadata": {},
   "outputs": [],
   "source": [
    "# Unit Convertor"
   ]
  },
  {
   "cell_type": "code",
   "execution_count": 33,
   "id": "18729e39-0c1e-4112-97c7-e259f82db075",
   "metadata": {},
   "outputs": [],
   "source": [
    "# designed functions\n",
    "\n",
    "def km2miles(a):\n",
    "    return a * 0.621371\n",
    "\n",
    "def miles2km(a):\n",
    "    return a * 1.60934"
   ]
  },
  {
   "cell_type": "code",
   "execution_count": 34,
   "id": "cc15e7da-8b1f-4d31-9734-9618e4626a46",
   "metadata": {},
   "outputs": [
    {
     "data": {
      "text/plain": [
       "1.8641130000000001"
      ]
     },
     "execution_count": 34,
     "metadata": {},
     "output_type": "execute_result"
    }
   ],
   "source": [
    "# testing of functions\n",
    "\n",
    "km2miles(3)"
   ]
  },
  {
   "cell_type": "code",
   "execution_count": 35,
   "id": "38b3b79c-b2f0-406d-9020-6f9db7656d6d",
   "metadata": {},
   "outputs": [
    {
     "data": {
      "text/plain": [
       "4.82802"
      ]
     },
     "execution_count": 35,
     "metadata": {},
     "output_type": "execute_result"
    }
   ],
   "source": [
    "miles2km(3)"
   ]
  },
  {
   "cell_type": "code",
   "execution_count": 36,
   "id": "437c74bf-6e7e-4072-82f5-96f420d9f95e",
   "metadata": {},
   "outputs": [],
   "source": [
    "# create a py file"
   ]
  },
  {
   "cell_type": "code",
   "execution_count": 37,
   "id": "7fbb4be6-e166-41a1-afe8-5b282010a200",
   "metadata": {},
   "outputs": [
    {
     "name": "stdout",
     "output_type": "stream",
     "text": [
      "Writing unitconverter.py\n"
     ]
    }
   ],
   "source": [
    "%%writefile unitconverter.py\n",
    "\n",
    "def km2miles(a):\n",
    "    return a * 0.621371\n",
    "\n",
    "def miles2km(a):\n",
    "    return a * 1.60934"
   ]
  },
  {
   "cell_type": "code",
   "execution_count": 38,
   "id": "a7434001-85a7-4b86-8414-5cba0a921bc1",
   "metadata": {},
   "outputs": [],
   "source": [
    "# importing the module which we created\n",
    "\n",
    "import unitconverter as uc"
   ]
  },
  {
   "cell_type": "code",
   "execution_count": 39,
   "id": "aab8df70-05a1-47d2-8469-cdc4119137f3",
   "metadata": {},
   "outputs": [
    {
     "data": {
      "text/plain": [
       "1.8641130000000001"
      ]
     },
     "execution_count": 39,
     "metadata": {},
     "output_type": "execute_result"
    }
   ],
   "source": [
    "uc.km2miles(3)"
   ]
  },
  {
   "cell_type": "code",
   "execution_count": 40,
   "id": "46759958-5675-4a68-af83-80edcf35701c",
   "metadata": {},
   "outputs": [
    {
     "data": {
      "text/plain": [
       "6.43736"
      ]
     },
     "execution_count": 40,
     "metadata": {},
     "output_type": "execute_result"
    }
   ],
   "source": [
    "uc.miles2km(4)"
   ]
  },
  {
   "cell_type": "code",
   "execution_count": null,
   "id": "db936dfb-218b-4014-a448-72be17f08492",
   "metadata": {},
   "outputs": [],
   "source": []
  },
  {
   "cell_type": "code",
   "execution_count": null,
   "id": "ea0dd5e6-ec07-4b18-bf99-718d874fefac",
   "metadata": {},
   "outputs": [],
   "source": []
  },
  {
   "cell_type": "code",
   "execution_count": 41,
   "id": "2670855f-c2d8-4d32-94ac-38bc84cce006",
   "metadata": {},
   "outputs": [],
   "source": [
    "# volume conversion -----> volume.py\n",
    "\n",
    "def cube\n",
    "\n",
    "def cylinder\n",
    "\n"
   ]
  },
  {
   "cell_type": "code",
   "execution_count": 42,
   "id": "ac70502f-e32a-4740-a832-984138fc015a",
   "metadata": {},
   "outputs": [],
   "source": [
    "# linear conversion -------> linear.py\n",
    "\n",
    "def km2mile\n",
    "\n",
    "\n",
    "def mile2km\n",
    "\n",
    "\n",
    "def nauticle2km\n",
    "\n"
   ]
  },
  {
   "cell_type": "code",
   "execution_count": 43,
   "id": "2d176200-580a-4768-ae5b-de5147d2f1ed",
   "metadata": {},
   "outputs": [],
   "source": [
    "# Area Conversion --------> area.py\n",
    "\n",
    "\n",
    "def sqkm2sqmiles\n",
    "\n",
    "\n",
    "def sqkm2ha\n",
    "\n",
    "\n",
    "def sqkm2acres\n",
    "\n",
    "\n"
   ]
  },
  {
   "cell_type": "markdown",
   "id": "f8b58ba3-f20a-438c-b5fe-6c2381e70927",
   "metadata": {},
   "source": [
    "##### Python Packages"
   ]
  },
  {
   "cell_type": "markdown",
   "id": "1ad1b30c-da7e-4fe2-b125-c03a0b9c2102",
   "metadata": {},
   "source": [
    "When you’re working on Python projects, packages help you organize your code in a clean, logical way. A Python package is essentially a collection of Python modules bundled together. A module, on the other hand, is just a single Python file containing code that you can reuse. But when your project grows, you might have several modules working together. That’s where a package comes into play—it’s like a folder that holds your modules and makes your code more manageable."
   ]
  },
  {
   "cell_type": "markdown",
   "id": "246acd2e-7f04-4e56-8d7f-f56aab5fcf06",
   "metadata": {},
   "source": [
    "Think of it this way: Instead of having one giant file with all your code, you can split it into smaller, manageable files (modules), and then use a package to keep them organized. It’s like organizing a drawer full of tools into separate boxes so you can easily find what you need."
   ]
  },
  {
   "cell_type": "markdown",
   "id": "3e2edc35-6477-442f-ae15-aea9acb163ab",
   "metadata": {},
   "source": [
    "A `Python package` is simply a directory (or folder) that contains modules along with an additional file called `__init__.py`. This special file lets Python know that the folder should be treated as a package. Without it, Python won’t recognize the folder as a package."
   ]
  },
  {
   "attachments": {
    "358a2a2c-b599-4864-b3e0-c81e808673c9.png": {
     "image/png": "[encoded data removed]"
    }
   },
   "cell_type": "markdown",
   "id": "640f4616-c583-4292-9ca9-fdc9d4d9a005",
   "metadata": {},
   "source": [
    "![modular.png](attachment:358a2a2c-b599-4864-b3e0-c81e808673c9.png)"
   ]
  },
  {
   "cell_type": "markdown",
   "id": "90d1c4ac-6113-4855-8ec7-ee7a41b6972d",
   "metadata": {},
   "source": [
    "`my_project/` is the root folder of the project.\n",
    "    \n",
    "`my_package/` is the package that contains two modules: `module_one.py` and `module_two.py`.\n",
    "\n",
    "The `__init__.py` file allows the code in both `module_one.py` and `module_two.py` to be used as part of my_package"
   ]
  },
  {
   "cell_type": "markdown",
   "id": "80b70bc2-d225-4be8-bb89-a275db83c8ea",
   "metadata": {},
   "source": [
    "#### Inside your main.py, you can import and use these modules like this:"
   ]
  },
  {
   "cell_type": "raw",
   "id": "7042b9a1-06de-4cfb-85bf-4af937942aa3",
   "metadata": {},
   "source": [
    "from my_package import module_one, module_two\n",
    "\n",
    "module_one.some_function()\n",
    "module_two.another_function()"
   ]
  },
  {
   "cell_type": "markdown",
   "id": "51f4a0ee-64e1-45cd-b9ec-9a015b03bcf1",
   "metadata": {},
   "source": [
    "This structure makes it easy to write modular code in Python, which keeps everything organized and easier to maintain, especially in larger projects."
   ]
  },
  {
   "cell_type": "markdown",
   "id": "1ddc9660-0261-477d-a62c-71a4225aa471",
   "metadata": {},
   "source": [
    "Conclusion:\n",
    "\n",
    "- A module is a single Python file. For example, module_one.py is a module.\n",
    "- A package, on the other hand, is a directory that contains multiple modules and the `__init__.py` file. A package allows you to group related modules together, so you can work on bigger projects without everything getting messy."
   ]
  },
  {
   "cell_type": "markdown",
   "id": "3b1fe058-836f-4a74-94b8-62ef20fa0d42",
   "metadata": {},
   "source": [
    "##### Lets Create a package"
   ]
  },
  {
   "cell_type": "code",
   "execution_count": 12,
   "id": "74daccc8-748b-47fe-a60c-e5e0462ac036",
   "metadata": {},
   "outputs": [],
   "source": [
    "# Step 1: Create a folder"
   ]
  },
  {
   "cell_type": "code",
   "execution_count": 44,
   "id": "05596767-f87c-44a2-ae86-4407da3a1e45",
   "metadata": {},
   "outputs": [],
   "source": [
    "!mkdir calculator"
   ]
  },
  {
   "cell_type": "code",
   "execution_count": null,
   "id": "362d8651-f995-41ba-b7cc-6102f0a8cea6",
   "metadata": {},
   "outputs": [],
   "source": [
    "# Step 2: Create init file"
   ]
  },
  {
   "cell_type": "code",
   "execution_count": 45,
   "id": "e7b6302a-8c1e-4533-88eb-b32608659b5e",
   "metadata": {},
   "outputs": [
    {
     "name": "stdout",
     "output_type": "stream",
     "text": [
      "Writing calculator/__init__.py\n"
     ]
    }
   ],
   "source": [
    "%%writefile calculator/__init__.py\n",
    "\"\""
   ]
  },
  {
   "cell_type": "code",
   "execution_count": 17,
   "id": "32201ff1-7044-46c2-a1d5-f99705384fa4",
   "metadata": {},
   "outputs": [],
   "source": [
    "# Step 3: Create modules inside the calculator folder"
   ]
  },
  {
   "cell_type": "code",
   "execution_count": 46,
   "id": "ac73bbcf-980a-4ed6-8897-51fe2933a238",
   "metadata": {},
   "outputs": [
    {
     "name": "stdout",
     "output_type": "stream",
     "text": [
      "Writing calculator/addition.py\n"
     ]
    }
   ],
   "source": [
    "%%writefile calculator/addition.py\n",
    "def add(a, b):\n",
    "    \"\"\"Add two numbers.\"\"\"\n",
    "    return a + b"
   ]
  },
  {
   "cell_type": "code",
   "execution_count": 47,
   "id": "d412787b-55e0-460c-91aa-8095654534a4",
   "metadata": {},
   "outputs": [
    {
     "name": "stdout",
     "output_type": "stream",
     "text": [
      "Writing calculator/subtraction.py\n"
     ]
    }
   ],
   "source": [
    "%%writefile calculator/subtraction.py\n",
    "def subtract(a, b):\n",
    "    \"\"\"Subtract two numbers.\"\"\"\n",
    "    return a - b"
   ]
  },
  {
   "cell_type": "code",
   "execution_count": 48,
   "id": "dad55579-e93c-48c6-acef-0f2ed31b53af",
   "metadata": {},
   "outputs": [
    {
     "name": "stdout",
     "output_type": "stream",
     "text": [
      "Writing calculator/multiplication.py\n"
     ]
    }
   ],
   "source": [
    " %%writefile calculator/multiplication.py\n",
    "def multiply(a, b):\n",
    "    \"\"\"Multiply two numbers.\"\"\"\n",
    "    return a * b"
   ]
  },
  {
   "cell_type": "code",
   "execution_count": 49,
   "id": "e012ee74-06ac-4bf3-8128-2c2ec5e4627e",
   "metadata": {},
   "outputs": [
    {
     "name": "stdout",
     "output_type": "stream",
     "text": [
      "Writing calculator/division.py\n"
     ]
    }
   ],
   "source": [
    "%%writefile calculator/division.py\n",
    "def divide(a, b):\n",
    "    \"\"\"Divide two numbers.\"\"\"\n",
    "    if b == 0:\n",
    "        raise ValueError(\"Cannot divide by zero!\")\n",
    "    return a / b"
   ]
  },
  {
   "cell_type": "code",
   "execution_count": 50,
   "id": "addfe33d-793e-4b13-9fbe-a736ad7873c0",
   "metadata": {},
   "outputs": [],
   "source": [
    "from calculator.addition import add"
   ]
  },
  {
   "cell_type": "code",
   "execution_count": 51,
   "id": "e2e4eacb-98e9-4dab-a4c9-3ed6ec77669e",
   "metadata": {},
   "outputs": [
    {
     "data": {
      "text/plain": [
       "10"
      ]
     },
     "execution_count": 51,
     "metadata": {},
     "output_type": "execute_result"
    }
   ],
   "source": [
    "add(4,6)"
   ]
  },
  {
   "cell_type": "code",
   "execution_count": 52,
   "id": "fec4a296-db58-4599-9ff3-8f44f5db533a",
   "metadata": {},
   "outputs": [],
   "source": [
    "from calculator.subtraction import subtract"
   ]
  },
  {
   "cell_type": "code",
   "execution_count": 53,
   "id": "b9984b6a-aef0-4882-a263-6220a8df9fdb",
   "metadata": {},
   "outputs": [
    {
     "data": {
      "text/plain": [
       "-2"
      ]
     },
     "execution_count": 53,
     "metadata": {},
     "output_type": "execute_result"
    }
   ],
   "source": [
    "subtract(3,5)"
   ]
  },
  {
   "cell_type": "code",
   "execution_count": 54,
   "id": "67a941b1-2b4a-4ff2-ade0-8674846c52a9",
   "metadata": {},
   "outputs": [],
   "source": [
    "import calculator"
   ]
  },
  {
   "cell_type": "code",
   "execution_count": 55,
   "id": "9e34817f-e3f8-4a0e-8d33-adba55ecbf37",
   "metadata": {},
   "outputs": [
    {
     "data": {
      "text/plain": [
       "5"
      ]
     },
     "execution_count": 55,
     "metadata": {},
     "output_type": "execute_result"
    }
   ],
   "source": [
    "calculator.addition.add(2,3)"
   ]
  }
 ],
 "metadata": {
  "kernelspec": {
   "display_name": "Python 3 (ipykernel)",
   "language": "python",
   "name": "python3"
  },
  "language_info": {
   "codemirror_mode": {
    "name": "ipython",
    "version": 3
   },
   "file_extension": ".py",
   "mimetype": "text/x-python",
   "name": "python",
   "nbconvert_exporter": "python",
   "pygments_lexer": "ipython3",
   "version": "3.12.4"
  }
 },
 "nbformat": 4,
 "nbformat_minor": 5
}
