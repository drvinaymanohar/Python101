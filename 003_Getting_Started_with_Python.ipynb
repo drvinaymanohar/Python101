{
 "cells": [
  {
   "cell_type": "markdown",
   "id": "6f0d388a-5e21-44dd-ac5b-4a37a368e4de",
   "metadata": {},
   "source": [
    "# Introduction to Python Programming"
   ]
  },
  {
   "cell_type": "markdown",
   "id": "733a27b4-1287-4f3c-a748-c39d3da3ea24",
   "metadata": {},
   "source": [
    "### 1. Python Keywords"
   ]
  },
  {
   "cell_type": "code",
   "execution_count": 1,
   "id": "cec7aaa1-050e-424e-be9a-87fe6904b0d8",
   "metadata": {},
   "outputs": [
    {
     "name": "stdout",
     "output_type": "stream",
     "text": [
      "['False', 'None', 'True', 'and', 'as', 'assert', 'async', 'await', 'break', 'class', 'continue', 'def', 'del', 'elif', 'else', 'except', 'finally', 'for', 'from', 'global', 'if', 'import', 'in', 'is', 'lambda', 'nonlocal', 'not', 'or', 'pass', 'raise', 'return', 'try', 'while', 'with', 'yield']\n"
     ]
    }
   ],
   "source": [
    "# Calling a Module\n",
    "import keyword\n",
    "print(keyword.kwlist)"
   ]
  },
  {
   "cell_type": "code",
   "execution_count": 2,
   "id": "d9f7de92-e92c-4a17-aaa8-4d8272968da5",
   "metadata": {},
   "outputs": [
    {
     "data": {
      "text/plain": [
       "35"
      ]
     },
     "execution_count": 2,
     "metadata": {},
     "output_type": "execute_result"
    }
   ],
   "source": [
    "len(keyword.kwlist)"
   ]
  },
  {
   "cell_type": "markdown",
   "id": "4ef83cfd-61f3-4cbf-a2d8-71a04c262cb1",
   "metadata": {},
   "source": [
    "##### Conclusion:: Python Having 35 unique Keywords, which we cannot able to use that as Identifiers (Variable, Functions, Classes)"
   ]
  },
  {
   "cell_type": "markdown",
   "id": "a222296a-e0cb-4d8a-92b5-8e6622d7d70c",
   "metadata": {},
   "source": [
    "***"
   ]
  },
  {
   "cell_type": "markdown",
   "id": "d569494a-2bbf-41e8-a389-01f6c68a074f",
   "metadata": {},
   "source": [
    "### 2. Rules and Regulation for Naming Variables"
   ]
  },
  {
   "cell_type": "markdown",
   "id": "8a6a6d7f-407b-42d9-8a6a-aca8029a1df4",
   "metadata": {},
   "source": [
    "* Must Begin with a Letter or Underscore (_)\n",
    "* Should not Start with Numbers\n",
    "* Can Contain Letters, Digits, and Underscores (a-z, A-Z, 0-9, _)\n",
    "* No Space between words\n",
    "* Case-Sensitive\n",
    "* Cannot Use Python Reserved Keywords\n",
    "* Use Descriptive Names (Use age = 50, rather than a = 50)\n",
    "* Constants Should Be in All Caps\n",
    "* Use proper naming conventions"
   ]
  },
  {
   "cell_type": "code",
   "execution_count": 6,
   "id": "c36fec0a-a05b-426b-9e65-971ecfa6433e",
   "metadata": {},
   "outputs": [],
   "source": [
    "a = 3 #Valid"
   ]
  },
  {
   "cell_type": "code",
   "execution_count": 8,
   "id": "64eab29b-81f2-491f-a09d-aa1050ad8887",
   "metadata": {},
   "outputs": [],
   "source": [
    "_a = 5 #valid"
   ]
  },
  {
   "cell_type": "code",
   "execution_count": 10,
   "id": "fcd56bd8-b07d-46fa-aa94-cac25f7156ab",
   "metadata": {},
   "outputs": [
    {
     "ename": "SyntaxError",
     "evalue": "invalid decimal literal (3455230127.py, line 1)",
     "output_type": "error",
     "traceback": [
      "\u001b[1;36m  Cell \u001b[1;32mIn[10], line 1\u001b[1;36m\u001b[0m\n\u001b[1;33m    12b = 45 #invalid\u001b[0m\n\u001b[1;37m     ^\u001b[0m\n\u001b[1;31mSyntaxError\u001b[0m\u001b[1;31m:\u001b[0m invalid decimal literal\n"
     ]
    }
   ],
   "source": [
    "12b = 45 #invalid"
   ]
  },
  {
   "cell_type": "code",
   "execution_count": 12,
   "id": "a0b9c4ac-a3bc-450d-a76a-10388f006d63",
   "metadata": {},
   "outputs": [
    {
     "ename": "SyntaxError",
     "evalue": "invalid syntax (471655939.py, line 1)",
     "output_type": "error",
     "traceback": [
      "\u001b[1;36m  Cell \u001b[1;32mIn[12], line 1\u001b[1;36m\u001b[0m\n\u001b[1;33m    USD$ = 45 #invalid\u001b[0m\n\u001b[1;37m       ^\u001b[0m\n\u001b[1;31mSyntaxError\u001b[0m\u001b[1;31m:\u001b[0m invalid syntax\n"
     ]
    }
   ],
   "source": [
    "USD$ = 45 #invalid"
   ]
  },
  {
   "cell_type": "code",
   "execution_count": 13,
   "id": "39dac082-74df-43d0-ac39-66de349a7e7c",
   "metadata": {},
   "outputs": [],
   "source": [
    "firstname = 'Vinay'"
   ]
  },
  {
   "cell_type": "code",
   "execution_count": 14,
   "id": "ac53af2a-89fb-416f-845f-76a413fca4e7",
   "metadata": {},
   "outputs": [],
   "source": [
    "lastname = 'Manohar'"
   ]
  },
  {
   "cell_type": "code",
   "execution_count": 18,
   "id": "76478462-f51b-48d5-8449-b1a29eed28ee",
   "metadata": {},
   "outputs": [
    {
     "ename": "SyntaxError",
     "evalue": "invalid syntax (2837519540.py, line 1)",
     "output_type": "error",
     "traceback": [
      "\u001b[1;36m  Cell \u001b[1;32mIn[18], line 1\u001b[1;36m\u001b[0m\n\u001b[1;33m    first name = 'Rahul' # Invalid case\u001b[0m\n\u001b[1;37m          ^\u001b[0m\n\u001b[1;31mSyntaxError\u001b[0m\u001b[1;31m:\u001b[0m invalid syntax\n"
     ]
    }
   ],
   "source": [
    "first name = 'Rahul' # Invalid case"
   ]
  },
  {
   "cell_type": "code",
   "execution_count": 19,
   "id": "704dcc3a-3871-414a-97d5-5303ce8869ea",
   "metadata": {},
   "outputs": [],
   "source": [
    "AB = 10"
   ]
  },
  {
   "cell_type": "code",
   "execution_count": 20,
   "id": "a5b51519-8624-4230-9ed4-8db54dfc79b4",
   "metadata": {},
   "outputs": [],
   "source": [
    "Ab = 15"
   ]
  },
  {
   "cell_type": "code",
   "execution_count": 21,
   "id": "ddb76d4a-8a4d-4384-8972-87bcf65b6bcb",
   "metadata": {},
   "outputs": [],
   "source": [
    "ab = 50"
   ]
  },
  {
   "cell_type": "code",
   "execution_count": 22,
   "id": "3957d30c-9059-43b1-9ff7-613e47fc37ad",
   "metadata": {},
   "outputs": [],
   "source": [
    "aB = 100"
   ]
  },
  {
   "cell_type": "code",
   "execution_count": 23,
   "id": "dab2a0d9-c80b-4b7b-bb50-734c3b13647f",
   "metadata": {},
   "outputs": [
    {
     "data": {
      "text/plain": [
       "10"
      ]
     },
     "execution_count": 23,
     "metadata": {},
     "output_type": "execute_result"
    }
   ],
   "source": [
    "AB"
   ]
  },
  {
   "cell_type": "code",
   "execution_count": 24,
   "id": "013095ec-f3ef-4367-bf76-9f3afd14f6d2",
   "metadata": {},
   "outputs": [
    {
     "data": {
      "text/plain": [
       "False"
      ]
     },
     "execution_count": 24,
     "metadata": {},
     "output_type": "execute_result"
    }
   ],
   "source": [
    "AB == Ab"
   ]
  },
  {
   "cell_type": "code",
   "execution_count": 25,
   "id": "3aa62607-835a-4860-9207-e6c0aeb55799",
   "metadata": {},
   "outputs": [
    {
     "ename": "SyntaxError",
     "evalue": "invalid syntax (547449301.py, line 1)",
     "output_type": "error",
     "traceback": [
      "\u001b[1;36m  Cell \u001b[1;32mIn[25], line 1\u001b[1;36m\u001b[0m\n\u001b[1;33m    return = 100\u001b[0m\n\u001b[1;37m           ^\u001b[0m\n\u001b[1;31mSyntaxError\u001b[0m\u001b[1;31m:\u001b[0m invalid syntax\n"
     ]
    }
   ],
   "source": [
    "return = 100"
   ]
  },
  {
   "cell_type": "code",
   "execution_count": 26,
   "id": "81501e4f-c5c2-4577-ae77-1afc71c66bea",
   "metadata": {},
   "outputs": [
    {
     "ename": "SyntaxError",
     "evalue": "invalid syntax (4279606132.py, line 1)",
     "output_type": "error",
     "traceback": [
      "\u001b[1;36m  Cell \u001b[1;32mIn[26], line 1\u001b[1;36m\u001b[0m\n\u001b[1;33m    assert = 850\u001b[0m\n\u001b[1;37m           ^\u001b[0m\n\u001b[1;31mSyntaxError\u001b[0m\u001b[1;31m:\u001b[0m invalid syntax\n"
     ]
    }
   ],
   "source": [
    "assert = 850"
   ]
  },
  {
   "cell_type": "code",
   "execution_count": 27,
   "id": "1856b860-53a9-4c7a-91db-781da1b36702",
   "metadata": {},
   "outputs": [],
   "source": [
    "assert_ = 850"
   ]
  },
  {
   "cell_type": "code",
   "execution_count": 28,
   "id": "7d2ed6d9-3e13-449e-8d39-952e323d65aa",
   "metadata": {},
   "outputs": [
    {
     "data": {
      "text/plain": [
       "850"
      ]
     },
     "execution_count": 28,
     "metadata": {},
     "output_type": "execute_result"
    }
   ],
   "source": [
    "assert_"
   ]
  },
  {
   "cell_type": "code",
   "execution_count": 29,
   "id": "94612291-663b-495d-9900-def2d7033cb6",
   "metadata": {},
   "outputs": [],
   "source": [
    "PI = 3.14"
   ]
  },
  {
   "cell_type": "code",
   "execution_count": 30,
   "id": "43470b81-43bf-48da-a106-91976e04b6e6",
   "metadata": {},
   "outputs": [],
   "source": [
    "# KM to Mile\n",
    "MILE_CONVERSION_CONSTANT = 0.621371"
   ]
  },
  {
   "cell_type": "code",
   "execution_count": 31,
   "id": "1c082440-faf8-436f-8edc-76a05eceb847",
   "metadata": {},
   "outputs": [
    {
     "data": {
      "text/plain": [
       "6.21371"
      ]
     },
     "execution_count": 31,
     "metadata": {},
     "output_type": "execute_result"
    }
   ],
   "source": [
    "10 * MILE_CONVERSION_CONSTANT"
   ]
  },
  {
   "cell_type": "markdown",
   "id": "ed8d291f-2140-473f-be23-25ab12b0097b",
   "metadata": {},
   "source": [
    "### 3. Naming Conventions"
   ]
  },
  {
   "cell_type": "code",
   "execution_count": 32,
   "id": "77a8b0e6-7cbf-45b7-8365-a59abc155e95",
   "metadata": {},
   "outputs": [],
   "source": [
    "# Camel Case\n",
    "firstName = 'Guido'"
   ]
  },
  {
   "cell_type": "code",
   "execution_count": 33,
   "id": "b61fd0e6-42b1-4a48-bdf0-d04221a6fdc4",
   "metadata": {},
   "outputs": [],
   "source": [
    "# Snake Case\n",
    "middle_name = 'Von'"
   ]
  },
  {
   "cell_type": "code",
   "execution_count": 34,
   "id": "bde93200-380e-448a-a00a-ab4c93e9e24f",
   "metadata": {},
   "outputs": [],
   "source": [
    "#pascal case\n",
    "LastName = 'Rossum'"
   ]
  },
  {
   "cell_type": "code",
   "execution_count": 35,
   "id": "245b1545-f893-4a5e-9858-9a92db8e08e9",
   "metadata": {},
   "outputs": [],
   "source": [
    "#flat case\n",
    "heightofperson = 5.2"
   ]
  },
  {
   "cell_type": "code",
   "execution_count": 36,
   "id": "b4727f9d-7333-4995-8ffb-f7c984d03f0a",
   "metadata": {},
   "outputs": [],
   "source": [
    "#upper flat case\n",
    "WEIGHTOFPERSON = 50"
   ]
  },
  {
   "cell_type": "code",
   "execution_count": 37,
   "id": "4a900d93-a113-4e7f-977f-02e0d800ee57",
   "metadata": {},
   "outputs": [
    {
     "ename": "SyntaxError",
     "evalue": "cannot assign to expression here. Maybe you meant '==' instead of '='? (3178268963.py, line 1)",
     "output_type": "error",
     "traceback": [
      "\u001b[1;36m  Cell \u001b[1;32mIn[37], line 1\u001b[1;36m\u001b[0m\n\u001b[1;33m    kebab-case = 50\u001b[0m\n\u001b[1;37m    ^\u001b[0m\n\u001b[1;31mSyntaxError\u001b[0m\u001b[1;31m:\u001b[0m cannot assign to expression here. Maybe you meant '==' instead of '='?\n"
     ]
    }
   ],
   "source": [
    "kebab-case = 50"
   ]
  },
  {
   "cell_type": "markdown",
   "id": "92ab0ddf-ca07-44ab-8194-00af54ee27d8",
   "metadata": {},
   "source": [
    "### 4. Multiple Assignment of the Values to Variable"
   ]
  },
  {
   "cell_type": "code",
   "execution_count": 45,
   "id": "552bb423-8b88-49fe-b70e-25b343291924",
   "metadata": {},
   "outputs": [],
   "source": [
    "#Traditional Way of Assigning\n",
    "x = 100\n",
    "y = 100\n",
    "z = 100"
   ]
  },
  {
   "cell_type": "code",
   "execution_count": 46,
   "id": "e6864daf-b31d-46df-a16f-3c347b777448",
   "metadata": {},
   "outputs": [],
   "source": [
    "#pythonic way of assignment\n",
    "x = y = z = 100"
   ]
  },
  {
   "cell_type": "code",
   "execution_count": 47,
   "id": "9c758c78-09ba-46d9-8d4c-0e8c470642e6",
   "metadata": {},
   "outputs": [
    {
     "data": {
      "text/plain": [
       "100"
      ]
     },
     "execution_count": 47,
     "metadata": {},
     "output_type": "execute_result"
    }
   ],
   "source": [
    "x"
   ]
  },
  {
   "cell_type": "code",
   "execution_count": 48,
   "id": "b2ff79ca-239d-4fe4-a2f5-d5b0555a93c4",
   "metadata": {},
   "outputs": [
    {
     "data": {
      "text/plain": [
       "100"
      ]
     },
     "execution_count": 48,
     "metadata": {},
     "output_type": "execute_result"
    }
   ],
   "source": [
    "y"
   ]
  },
  {
   "cell_type": "code",
   "execution_count": 49,
   "id": "4083e61d-365c-4430-9e8c-6b03f1e45e80",
   "metadata": {},
   "outputs": [
    {
     "data": {
      "text/plain": [
       "100"
      ]
     },
     "execution_count": 49,
     "metadata": {},
     "output_type": "execute_result"
    }
   ],
   "source": [
    "z"
   ]
  },
  {
   "cell_type": "markdown",
   "id": "8e077e5a-a4e5-481a-b57d-f73c08542e66",
   "metadata": {},
   "source": [
    "### 5. Assignment of Multiple Values to Multiple Variables"
   ]
  },
  {
   "cell_type": "code",
   "execution_count": 50,
   "id": "16f9706e-90f4-4e61-a498-baac9f02e88e",
   "metadata": {},
   "outputs": [],
   "source": [
    "#Traditional Way of Assigning\n",
    "x = 120\n",
    "y = 150\n",
    "z = 100"
   ]
  },
  {
   "cell_type": "code",
   "execution_count": 51,
   "id": "a1606bef-3029-40d3-a150-c1a87c5e392d",
   "metadata": {},
   "outputs": [],
   "source": [
    "#pythonic way\n",
    "x, y, z = 120, 150, 100"
   ]
  },
  {
   "cell_type": "code",
   "execution_count": 52,
   "id": "f756487b-4706-4e2f-973f-a11315c52513",
   "metadata": {},
   "outputs": [
    {
     "data": {
      "text/plain": [
       "120"
      ]
     },
     "execution_count": 52,
     "metadata": {},
     "output_type": "execute_result"
    }
   ],
   "source": [
    "x"
   ]
  },
  {
   "cell_type": "code",
   "execution_count": 53,
   "id": "2b86c820-c912-4c42-87e6-e3aa7bc44525",
   "metadata": {},
   "outputs": [
    {
     "data": {
      "text/plain": [
       "150"
      ]
     },
     "execution_count": 53,
     "metadata": {},
     "output_type": "execute_result"
    }
   ],
   "source": [
    "y"
   ]
  },
  {
   "cell_type": "code",
   "execution_count": 54,
   "id": "474b416c-da6b-407e-87aa-fecfdf3dcd27",
   "metadata": {},
   "outputs": [
    {
     "data": {
      "text/plain": [
       "100"
      ]
     },
     "execution_count": 54,
     "metadata": {},
     "output_type": "execute_result"
    }
   ],
   "source": [
    "z"
   ]
  },
  {
   "cell_type": "markdown",
   "id": "3fd38b29-4cf6-4d1e-aba2-d1277277836d",
   "metadata": {},
   "source": [
    "### 6. Type Checking of Variables"
   ]
  },
  {
   "cell_type": "code",
   "execution_count": 57,
   "id": "ba832fef-bd1e-4c9f-877d-40a4a1fbdad0",
   "metadata": {},
   "outputs": [],
   "source": [
    "firstName = 'Sony'"
   ]
  },
  {
   "cell_type": "code",
   "execution_count": 58,
   "id": "23cc3498-27e1-47e6-8bf4-cdf81aed6e29",
   "metadata": {},
   "outputs": [],
   "source": [
    "LastName = \"D\""
   ]
  },
  {
   "cell_type": "code",
   "execution_count": 59,
   "id": "8485c37c-0924-4ac4-9c10-bcc214108cdb",
   "metadata": {},
   "outputs": [],
   "source": [
    "Height = 5.5"
   ]
  },
  {
   "cell_type": "code",
   "execution_count": 60,
   "id": "5fa9bb8a-4cee-4640-bfb3-116f756438d2",
   "metadata": {},
   "outputs": [],
   "source": [
    "weight = 50"
   ]
  },
  {
   "cell_type": "code",
   "execution_count": 61,
   "id": "d77d5755-49ee-4ed5-a6c6-5ac463a6ab8f",
   "metadata": {},
   "outputs": [
    {
     "data": {
      "text/plain": [
       "str"
      ]
     },
     "execution_count": 61,
     "metadata": {},
     "output_type": "execute_result"
    }
   ],
   "source": [
    "type(firstName)"
   ]
  },
  {
   "cell_type": "code",
   "execution_count": 62,
   "id": "288703f1-39c6-4ade-91fa-4ecb093109f3",
   "metadata": {},
   "outputs": [
    {
     "data": {
      "text/plain": [
       "str"
      ]
     },
     "execution_count": 62,
     "metadata": {},
     "output_type": "execute_result"
    }
   ],
   "source": [
    "type(LastName)"
   ]
  },
  {
   "cell_type": "code",
   "execution_count": 63,
   "id": "2eaf1cde-6849-47f8-8bab-e3dd2729927f",
   "metadata": {},
   "outputs": [
    {
     "data": {
      "text/plain": [
       "float"
      ]
     },
     "execution_count": 63,
     "metadata": {},
     "output_type": "execute_result"
    }
   ],
   "source": [
    "type(Height)"
   ]
  },
  {
   "cell_type": "code",
   "execution_count": 64,
   "id": "0625d887-509b-44f6-a4b8-4211ba0df9f4",
   "metadata": {},
   "outputs": [
    {
     "data": {
      "text/plain": [
       "int"
      ]
     },
     "execution_count": 64,
     "metadata": {},
     "output_type": "execute_result"
    }
   ],
   "source": [
    "type(weight)"
   ]
  },
  {
   "cell_type": "markdown",
   "id": "dc2cc02e-4b49-47e3-bb58-560a3488d250",
   "metadata": {},
   "source": [
    "### 7. Magic Command to Display all the variables currently stored in Memory of the python interpreter"
   ]
  },
  {
   "cell_type": "code",
   "execution_count": 66,
   "id": "97d4f72d-e84d-4442-b02c-3d930ff9484d",
   "metadata": {},
   "outputs": [
    {
     "name": "stdout",
     "output_type": "stream",
     "text": [
      "AB\t Ab\t Height\t LastName\t MILE_CONVERSION_CONSTANT\t NamespaceMagics\t PI\t WEIGHTOFPERSON\t a\t \n",
      "aB\t ab\t assert_\t firstName\t firstname\t get_ipython\t heightofperson\t json\t keyword\t \n",
      "lastname\t middle_name\t sys\t weight\t x\t y\t z\t \n"
     ]
    }
   ],
   "source": [
    "%who"
   ]
  },
  {
   "cell_type": "code",
   "execution_count": 68,
   "id": "379205a7-78ef-49f4-af97-4eda0714ccc7",
   "metadata": {},
   "outputs": [
    {
     "name": "stdout",
     "output_type": "stream",
     "text": [
      "Variable                   Type             Data/Info\n",
      "-----------------------------------------------------\n",
      "AB                         int              10\n",
      "Ab                         int              15\n",
      "Height                     float            5.5\n",
      "LastName                   str              D\n",
      "MILE_CONVERSION_CONSTANT   float            0.621371\n",
      "NamespaceMagics            MetaHasTraits    <class 'IPython.core.magi<...>mespace.NamespaceMagics'>\n",
      "PI                         float            3.14\n",
      "WEIGHTOFPERSON             int              50\n",
      "a                          int              3\n",
      "aB                         int              100\n",
      "ab                         int              50\n",
      "assert_                    int              850\n",
      "firstName                  str              Sony\n",
      "firstname                  str              Vinay\n",
      "get_ipython                function         <function get_ipython at 0x000001D00DCC8180>\n",
      "heightofperson             float            5.2\n",
      "json                       module           <module 'json' from 'C:\\\\<...>\\Lib\\\\json\\\\__init__.py'>\n",
      "keyword                    module           <module 'keyword' from 'C<...>conda3\\\\Lib\\\\keyword.py'>\n",
      "lastname                   str              Manohar\n",
      "middle_name                str              Von\n",
      "sys                        module           <module 'sys' (built-in)>\n",
      "weight                     int              50\n",
      "x                          int              120\n",
      "y                          int              150\n",
      "z                          int              100\n"
     ]
    }
   ],
   "source": [
    "%whos"
   ]
  },
  {
   "cell_type": "markdown",
   "id": "30e2b211-288c-476c-9fc4-4eb9933b3d4b",
   "metadata": {},
   "source": [
    "### 8. Type Conversion - Interchange of Variable Type (INT -> FLOAT, FLOAT ->INT)"
   ]
  },
  {
   "cell_type": "code",
   "execution_count": 69,
   "id": "93c017e4-b80e-4772-b22d-ac70f67246dc",
   "metadata": {},
   "outputs": [
    {
     "data": {
      "text/plain": [
       "5.5"
      ]
     },
     "execution_count": 69,
     "metadata": {},
     "output_type": "execute_result"
    }
   ],
   "source": [
    "Height"
   ]
  },
  {
   "cell_type": "code",
   "execution_count": 70,
   "id": "4aebfc46-c4ab-460e-b09e-63b9319e71d5",
   "metadata": {},
   "outputs": [],
   "source": [
    "Height = int(Height)"
   ]
  },
  {
   "cell_type": "code",
   "execution_count": 72,
   "id": "a8ee4d0c-8f85-48b3-ab4f-edd9b1e1a4e4",
   "metadata": {},
   "outputs": [
    {
     "data": {
      "text/plain": [
       "5"
      ]
     },
     "execution_count": 72,
     "metadata": {},
     "output_type": "execute_result"
    }
   ],
   "source": [
    "Height"
   ]
  },
  {
   "cell_type": "code",
   "execution_count": 73,
   "id": "a8281545-815c-4241-bb1d-91924911b0f0",
   "metadata": {},
   "outputs": [
    {
     "data": {
      "text/plain": [
       "50"
      ]
     },
     "execution_count": 73,
     "metadata": {},
     "output_type": "execute_result"
    }
   ],
   "source": [
    "weight"
   ]
  },
  {
   "cell_type": "code",
   "execution_count": 74,
   "id": "a7a34704-2433-44c9-aeb9-db01862bc855",
   "metadata": {},
   "outputs": [],
   "source": [
    "weight = float(weight)"
   ]
  },
  {
   "cell_type": "code",
   "execution_count": 75,
   "id": "0513f7fa-c01e-4bcf-acb6-f2ed69b46f3f",
   "metadata": {},
   "outputs": [
    {
     "data": {
      "text/plain": [
       "50.0"
      ]
     },
     "execution_count": 75,
     "metadata": {},
     "output_type": "execute_result"
    }
   ],
   "source": [
    "weight"
   ]
  },
  {
   "cell_type": "markdown",
   "id": "01427ba4-398c-4d5d-beab-2ec08c384697",
   "metadata": {},
   "source": [
    "### 9. Memory Management"
   ]
  },
  {
   "cell_type": "code",
   "execution_count": 76,
   "id": "6ed3f731-c55b-40e9-a84e-ba065b0be8b3",
   "metadata": {},
   "outputs": [
    {
     "name": "stdout",
     "output_type": "stream",
     "text": [
      "Variable                   Type             Data/Info\n",
      "-----------------------------------------------------\n",
      "AB                         int              10\n",
      "Ab                         int              15\n",
      "Height                     int              5\n",
      "LastName                   str              D\n",
      "MILE_CONVERSION_CONSTANT   float            0.621371\n",
      "NamespaceMagics            MetaHasTraits    <class 'IPython.core.magi<...>mespace.NamespaceMagics'>\n",
      "PI                         float            3.14\n",
      "WEIGHTOFPERSON             int              50\n",
      "a                          int              3\n",
      "aB                         int              100\n",
      "ab                         int              50\n",
      "assert_                    int              850\n",
      "firstName                  str              Sony\n",
      "firstname                  str              Vinay\n",
      "get_ipython                function         <function get_ipython at 0x000001D00DCC8180>\n",
      "heightofperson             float            5.2\n",
      "json                       module           <module 'json' from 'C:\\\\<...>\\Lib\\\\json\\\\__init__.py'>\n",
      "keyword                    module           <module 'keyword' from 'C<...>conda3\\\\Lib\\\\keyword.py'>\n",
      "lastname                   str              Manohar\n",
      "middle_name                str              Von\n",
      "sys                        module           <module 'sys' (built-in)>\n",
      "weight                     float            50.0\n",
      "x                          int              120\n",
      "y                          int              150\n",
      "z                          int              100\n"
     ]
    }
   ],
   "source": [
    "%whos"
   ]
  },
  {
   "cell_type": "code",
   "execution_count": 78,
   "id": "111817d3-0017-49b9-a4b6-50336019aa65",
   "metadata": {},
   "outputs": [
    {
     "data": {
      "text/plain": [
       "10"
      ]
     },
     "execution_count": 78,
     "metadata": {},
     "output_type": "execute_result"
    }
   ],
   "source": [
    "#Calling variable\n",
    "AB"
   ]
  },
  {
   "cell_type": "code",
   "execution_count": 79,
   "id": "f6066764-3ec0-4389-9be9-8e022ccad27c",
   "metadata": {},
   "outputs": [],
   "source": [
    "# deleting variable\n",
    "del AB"
   ]
  },
  {
   "cell_type": "code",
   "execution_count": 80,
   "id": "24f46a7b-67cb-489f-ad06-1e2ff831bd06",
   "metadata": {},
   "outputs": [
    {
     "ename": "NameError",
     "evalue": "name 'AB' is not defined",
     "output_type": "error",
     "traceback": [
      "\u001b[1;31m---------------------------------------------------------------------------\u001b[0m",
      "\u001b[1;31mNameError\u001b[0m                                 Traceback (most recent call last)",
      "Cell \u001b[1;32mIn[80], line 1\u001b[0m\n\u001b[1;32m----> 1\u001b[0m AB\n",
      "\u001b[1;31mNameError\u001b[0m: name 'AB' is not defined"
     ]
    }
   ],
   "source": [
    "AB"
   ]
  },
  {
   "cell_type": "code",
   "execution_count": 81,
   "id": "6ead666d-5e31-4d40-9f5d-410794f052e6",
   "metadata": {},
   "outputs": [],
   "source": [
    "AB = 10"
   ]
  },
  {
   "cell_type": "code",
   "execution_count": 82,
   "id": "55ab73a0-3b89-4c06-84af-69d87d677534",
   "metadata": {},
   "outputs": [
    {
     "data": {
      "text/plain": [
       "10"
      ]
     },
     "execution_count": 82,
     "metadata": {},
     "output_type": "execute_result"
    }
   ],
   "source": [
    "AB"
   ]
  },
  {
   "cell_type": "markdown",
   "id": "6a88da89-cb71-4b40-be3c-375aea5dfba7",
   "metadata": {},
   "source": [
    "### 10. Checking the Memory Location"
   ]
  },
  {
   "cell_type": "code",
   "execution_count": 83,
   "id": "8f1f325a-1c49-465d-9250-8333cc49baf9",
   "metadata": {},
   "outputs": [
    {
     "data": {
      "text/plain": [
       "140720359684824"
      ]
     },
     "execution_count": 83,
     "metadata": {},
     "output_type": "execute_result"
    }
   ],
   "source": [
    "id(AB)"
   ]
  },
  {
   "cell_type": "code",
   "execution_count": 84,
   "id": "5bd31603-927e-4002-ba92-4dd47ebf1320",
   "metadata": {},
   "outputs": [
    {
     "data": {
      "text/plain": [
       "'0x7ffc030d3ad8'"
      ]
     },
     "execution_count": 84,
     "metadata": {},
     "output_type": "execute_result"
    }
   ],
   "source": [
    "hex(id(AB))"
   ]
  },
  {
   "cell_type": "markdown",
   "id": "c8799b0e-fdf2-40c2-b563-5ccfccf05e69",
   "metadata": {},
   "source": [
    "***"
   ]
  },
  {
   "cell_type": "code",
   "execution_count": null,
   "id": "dd703f09-ec40-4de0-9a84-1a8659b6150c",
   "metadata": {},
   "outputs": [],
   "source": []
  }
 ],
 "metadata": {
  "kernelspec": {
   "display_name": "Python 3 (ipykernel)",
   "language": "python",
   "name": "python3"
  },
  "language_info": {
   "codemirror_mode": {
    "name": "ipython",
    "version": 3
   },
   "file_extension": ".py",
   "mimetype": "text/x-python",
   "name": "python",
   "nbconvert_exporter": "python",
   "pygments_lexer": "ipython3",
   "version": "3.12.4"
  }
 },
 "nbformat": 4,
 "nbformat_minor": 5
}
