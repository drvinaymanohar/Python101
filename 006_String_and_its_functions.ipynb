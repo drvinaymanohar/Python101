{
 "cells": [
  {
   "cell_type": "markdown",
   "id": "32fd15ae-d57a-4c2d-b11b-ca0cdf0bba17",
   "metadata": {},
   "source": [
    "## Strings - Sequential Data Type (Data Structure)"
   ]
  },
  {
   "cell_type": "code",
   "execution_count": 1,
   "id": "302207cf-ee62-4581-8614-d94c720becd1",
   "metadata": {},
   "outputs": [],
   "source": [
    "### Create a string\n",
    "\n",
    "msg1 = \"Hello Python\"\n",
    "msg2 = 'Hello Guido Von Rossum'\n",
    "msg3 = '9060486010'"
   ]
  },
  {
   "cell_type": "code",
   "execution_count": 2,
   "id": "d8f8dabd-555c-432d-a2d6-232f0052ed62",
   "metadata": {},
   "outputs": [
    {
     "data": {
      "text/plain": [
       "str"
      ]
     },
     "execution_count": 2,
     "metadata": {},
     "output_type": "execute_result"
    }
   ],
   "source": [
    "# Type checking\n",
    "type(msg1)"
   ]
  },
  {
   "cell_type": "code",
   "execution_count": 3,
   "id": "98b86825-217c-407b-b0c0-f86afd604195",
   "metadata": {},
   "outputs": [
    {
     "data": {
      "text/plain": [
       "str"
      ]
     },
     "execution_count": 3,
     "metadata": {},
     "output_type": "execute_result"
    }
   ],
   "source": [
    "type(msg2)"
   ]
  },
  {
   "cell_type": "code",
   "execution_count": 4,
   "id": "c60e168a-12cf-4639-9457-36b4e05f6bca",
   "metadata": {},
   "outputs": [
    {
     "data": {
      "text/plain": [
       "str"
      ]
     },
     "execution_count": 4,
     "metadata": {},
     "output_type": "execute_result"
    }
   ],
   "source": [
    "type(msg3)"
   ]
  },
  {
   "cell_type": "markdown",
   "id": "4c8027d5-4786-468a-813d-191900a13b28",
   "metadata": {},
   "source": [
    "### String Indexing"
   ]
  },
  {
   "cell_type": "code",
   "execution_count": 5,
   "id": "6bf96784-b8cb-46cd-b654-388cebff6830",
   "metadata": {},
   "outputs": [
    {
     "data": {
      "text/plain": [
       "'H'"
      ]
     },
     "execution_count": 5,
     "metadata": {},
     "output_type": "execute_result"
    }
   ],
   "source": [
    "msg2[0]"
   ]
  },
  {
   "cell_type": "code",
   "execution_count": 6,
   "id": "fd0fa3b5-1803-40ff-b14e-2980d93802d0",
   "metadata": {},
   "outputs": [
    {
     "data": {
      "text/plain": [
       "'u'"
      ]
     },
     "execution_count": 6,
     "metadata": {},
     "output_type": "execute_result"
    }
   ],
   "source": [
    "msg2[7]"
   ]
  },
  {
   "cell_type": "code",
   "execution_count": 7,
   "id": "b189faa1-f2bd-45fd-b359-f4ab8e5065c3",
   "metadata": {},
   "outputs": [
    {
     "data": {
      "text/plain": [
       "'n'"
      ]
     },
     "execution_count": 7,
     "metadata": {},
     "output_type": "execute_result"
    }
   ],
   "source": [
    "msg1[-1] # Backward Indexing"
   ]
  },
  {
   "cell_type": "code",
   "execution_count": 8,
   "id": "f31dce93-1c2d-4e54-8b7b-4fe973968ab8",
   "metadata": {},
   "outputs": [
    {
     "data": {
      "text/plain": [
       "'o'"
      ]
     },
     "execution_count": 8,
     "metadata": {},
     "output_type": "execute_result"
    }
   ],
   "source": [
    "msg1[-2]"
   ]
  },
  {
   "cell_type": "code",
   "execution_count": 9,
   "id": "56fd9040-60a6-44c6-976d-e468ae6a2259",
   "metadata": {},
   "outputs": [
    {
     "data": {
      "text/plain": [
       "' '"
      ]
     },
     "execution_count": 9,
     "metadata": {},
     "output_type": "execute_result"
    }
   ],
   "source": [
    "msg1[5]"
   ]
  },
  {
   "cell_type": "markdown",
   "id": "f401475e-98ef-4c80-88a7-25e25372a3f9",
   "metadata": {},
   "source": [
    "### String Slicing"
   ]
  },
  {
   "cell_type": "code",
   "execution_count": 10,
   "id": "13e90654-80cb-4951-b29b-00754c865b45",
   "metadata": {},
   "outputs": [],
   "source": [
    "# Hint:: variablename[Start:Stop:Step], default Step=1"
   ]
  },
  {
   "cell_type": "code",
   "execution_count": 11,
   "id": "7d9b5b2e-f140-47fe-abe9-f361585eea52",
   "metadata": {},
   "outputs": [
    {
     "data": {
      "text/plain": [
       "'Hello Guido Von Rossum'"
      ]
     },
     "execution_count": 11,
     "metadata": {},
     "output_type": "execute_result"
    }
   ],
   "source": [
    "msg2"
   ]
  },
  {
   "cell_type": "code",
   "execution_count": 12,
   "id": "8256d52c-e116-400f-89bd-ec8714b6087d",
   "metadata": {},
   "outputs": [
    {
     "data": {
      "text/plain": [
       "'Hello'"
      ]
     },
     "execution_count": 12,
     "metadata": {},
     "output_type": "execute_result"
    }
   ],
   "source": [
    "msg2[0:5] # Start to Some Index"
   ]
  },
  {
   "cell_type": "code",
   "execution_count": 13,
   "id": "d86233c4-1cfa-49db-84fd-0a265db14fe1",
   "metadata": {},
   "outputs": [
    {
     "data": {
      "text/plain": [
       "'Guido'"
      ]
     },
     "execution_count": 13,
     "metadata": {},
     "output_type": "execute_result"
    }
   ],
   "source": [
    "msg2[6:11] # Some Index to Some Index"
   ]
  },
  {
   "cell_type": "code",
   "execution_count": 14,
   "id": "6ec4cd09-33ea-4bb5-a879-494cc3eb8578",
   "metadata": {},
   "outputs": [
    {
     "data": {
      "text/plain": [
       "'Guido Von Rossum'"
      ]
     },
     "execution_count": 14,
     "metadata": {},
     "output_type": "execute_result"
    }
   ],
   "source": [
    "msg2[6:] # Some Index to End"
   ]
  },
  {
   "cell_type": "code",
   "execution_count": 15,
   "id": "d8dfd2b7-8245-4352-8cd6-9567128faf53",
   "metadata": {},
   "outputs": [
    {
     "data": {
      "text/plain": [
       "'Rossum'"
      ]
     },
     "execution_count": 15,
     "metadata": {},
     "output_type": "execute_result"
    }
   ],
   "source": [
    "msg2[-6:] # Some Index to End "
   ]
  },
  {
   "cell_type": "code",
   "execution_count": 16,
   "id": "ea6afa26-bb08-4b98-9958-f11e30afb8c0",
   "metadata": {},
   "outputs": [
    {
     "data": {
      "text/plain": [
       "'Hello Guido'"
      ]
     },
     "execution_count": 16,
     "metadata": {},
     "output_type": "execute_result"
    }
   ],
   "source": [
    "msg2[0:11] # Start to Some Index"
   ]
  },
  {
   "cell_type": "code",
   "execution_count": 17,
   "id": "11f86061-435f-4d5b-96c6-51947159fa03",
   "metadata": {},
   "outputs": [
    {
     "data": {
      "text/plain": [
       "'Hello Guido Von Rossum'"
      ]
     },
     "execution_count": 17,
     "metadata": {},
     "output_type": "execute_result"
    }
   ],
   "source": [
    "msg2[:] # Start to End"
   ]
  },
  {
   "cell_type": "markdown",
   "id": "3b139c63-4032-400b-af56-164aedb78f76",
   "metadata": {},
   "source": [
    "### String Stride or String Stepping"
   ]
  },
  {
   "cell_type": "code",
   "execution_count": 18,
   "id": "b48601ae-6bd4-4508-b942-2848f7848129",
   "metadata": {},
   "outputs": [
    {
     "data": {
      "text/plain": [
       "'Hello Guido Von Rossum'"
      ]
     },
     "execution_count": 18,
     "metadata": {},
     "output_type": "execute_result"
    }
   ],
   "source": [
    "msg2"
   ]
  },
  {
   "cell_type": "code",
   "execution_count": 19,
   "id": "d3343593-8fdd-4d05-8a4d-e8e32303f949",
   "metadata": {},
   "outputs": [
    {
     "data": {
      "text/plain": [
       "'Hello Guido Von Rossum'"
      ]
     },
     "execution_count": 19,
     "metadata": {},
     "output_type": "execute_result"
    }
   ],
   "source": [
    "msg2[::]"
   ]
  },
  {
   "cell_type": "code",
   "execution_count": 20,
   "id": "add549ea-7832-4dab-8c34-e0a4883f9f3f",
   "metadata": {},
   "outputs": [
    {
     "data": {
      "text/plain": [
       "'Hello Guido Von Rossum'"
      ]
     },
     "execution_count": 20,
     "metadata": {},
     "output_type": "execute_result"
    }
   ],
   "source": [
    "msg2[::1]"
   ]
  },
  {
   "cell_type": "markdown",
   "id": "979b895f-72ee-4eb3-b453-e012e40bfb43",
   "metadata": {},
   "source": [
    "### Updating and Delete String"
   ]
  },
  {
   "cell_type": "code",
   "execution_count": 27,
   "id": "4fc5954e-6745-4cd2-82ed-2d231245119c",
   "metadata": {},
   "outputs": [
    {
     "data": {
      "text/plain": [
       "'9060486010'"
      ]
     },
     "execution_count": 27,
     "metadata": {},
     "output_type": "execute_result"
    }
   ],
   "source": [
    "msg3"
   ]
  },
  {
   "cell_type": "code",
   "execution_count": 29,
   "id": "10e0126f-82be-4172-8d7d-1e1fd43dd278",
   "metadata": {},
   "outputs": [
    {
     "ename": "TypeError",
     "evalue": "'str' object does not support item assignment",
     "output_type": "error",
     "traceback": [
      "\u001b[1;31m---------------------------------------------------------------------------\u001b[0m",
      "\u001b[1;31mTypeError\u001b[0m                                 Traceback (most recent call last)",
      "Cell \u001b[1;32mIn[29], line 1\u001b[0m\n\u001b[1;32m----> 1\u001b[0m msg3[\u001b[38;5;241m-\u001b[39m\u001b[38;5;241m1\u001b[39m] \u001b[38;5;241m=\u001b[39m \u001b[38;5;124m'\u001b[39m\u001b[38;5;124m1\u001b[39m\u001b[38;5;124m'\u001b[39m\n",
      "\u001b[1;31mTypeError\u001b[0m: 'str' object does not support item assignment"
     ]
    }
   ],
   "source": [
    "msg3[-1] = '1'"
   ]
  },
  {
   "cell_type": "code",
   "execution_count": 30,
   "id": "5a0c526b-aedd-4ef7-80c6-d81f02d055ae",
   "metadata": {},
   "outputs": [],
   "source": [
    "# String replacing or partial modification is not allowed\n",
    "# Mutable and Immutable Data Structure\n",
    "# String Immutable"
   ]
  },
  {
   "cell_type": "code",
   "execution_count": 31,
   "id": "92e65975-ad9e-4035-a351-718821c9d05f",
   "metadata": {},
   "outputs": [
    {
     "data": {
      "text/plain": [
       "'9060486010'"
      ]
     },
     "execution_count": 31,
     "metadata": {},
     "output_type": "execute_result"
    }
   ],
   "source": [
    "msg3"
   ]
  },
  {
   "cell_type": "code",
   "execution_count": 32,
   "id": "1f1dc153-487e-4352-8475-da4332f067f6",
   "metadata": {},
   "outputs": [],
   "source": [
    "msg3 = '9060486011'"
   ]
  },
  {
   "cell_type": "code",
   "execution_count": 33,
   "id": "4adb8b58-d714-4c3e-ab97-873ba524f152",
   "metadata": {},
   "outputs": [
    {
     "data": {
      "text/plain": [
       "'9060486011'"
      ]
     },
     "execution_count": 33,
     "metadata": {},
     "output_type": "execute_result"
    }
   ],
   "source": [
    "msg3"
   ]
  },
  {
   "cell_type": "code",
   "execution_count": 34,
   "id": "ea09742e-ba41-4464-aa89-18066e3e054c",
   "metadata": {},
   "outputs": [
    {
     "ename": "TypeError",
     "evalue": "'str' object does not support item assignment",
     "output_type": "error",
     "traceback": [
      "\u001b[1;31m---------------------------------------------------------------------------\u001b[0m",
      "\u001b[1;31mTypeError\u001b[0m                                 Traceback (most recent call last)",
      "Cell \u001b[1;32mIn[34], line 1\u001b[0m\n\u001b[1;32m----> 1\u001b[0m msg3[\u001b[38;5;241m0\u001b[39m] \u001b[38;5;241m=\u001b[39m \u001b[38;5;124m'\u001b[39m\u001b[38;5;124m8\u001b[39m\u001b[38;5;124m'\u001b[39m\n",
      "\u001b[1;31mTypeError\u001b[0m: 'str' object does not support item assignment"
     ]
    }
   ],
   "source": [
    "msg3[0] = '8'"
   ]
  },
  {
   "cell_type": "code",
   "execution_count": 35,
   "id": "1665f689-aa64-47c3-bf2a-d95a5a719093",
   "metadata": {},
   "outputs": [
    {
     "data": {
      "text/plain": [
       "'Hello Python'"
      ]
     },
     "execution_count": 35,
     "metadata": {},
     "output_type": "execute_result"
    }
   ],
   "source": [
    "msg1"
   ]
  },
  {
   "cell_type": "code",
   "execution_count": 36,
   "id": "9031c977-b5c6-4305-8863-2bce40d3d12c",
   "metadata": {},
   "outputs": [],
   "source": [
    "del msg1"
   ]
  },
  {
   "cell_type": "code",
   "execution_count": 37,
   "id": "27c9d88a-feb8-488d-b07d-0472682b10f2",
   "metadata": {},
   "outputs": [
    {
     "ename": "NameError",
     "evalue": "name 'msg1' is not defined",
     "output_type": "error",
     "traceback": [
      "\u001b[1;31m---------------------------------------------------------------------------\u001b[0m",
      "\u001b[1;31mNameError\u001b[0m                                 Traceback (most recent call last)",
      "Cell \u001b[1;32mIn[37], line 1\u001b[0m\n\u001b[1;32m----> 1\u001b[0m msg1\n",
      "\u001b[1;31mNameError\u001b[0m: name 'msg1' is not defined"
     ]
    }
   ],
   "source": [
    "msg1"
   ]
  },
  {
   "cell_type": "code",
   "execution_count": 38,
   "id": "8ee7926a-eb26-4e13-af36-fac80c7d8eac",
   "metadata": {},
   "outputs": [],
   "source": [
    "msg1 = 'Hello Python'"
   ]
  },
  {
   "cell_type": "code",
   "execution_count": 39,
   "id": "22b12367-5fa8-4fdc-a35b-6236c06b4543",
   "metadata": {},
   "outputs": [
    {
     "data": {
      "text/plain": [
       "'Hello Python'"
      ]
     },
     "execution_count": 39,
     "metadata": {},
     "output_type": "execute_result"
    }
   ],
   "source": [
    "msg1"
   ]
  },
  {
   "cell_type": "code",
   "execution_count": 40,
   "id": "8ca0317b-0fb7-4da2-bf34-527c6ceb0ca5",
   "metadata": {},
   "outputs": [],
   "source": [
    "msg1 = ''"
   ]
  },
  {
   "cell_type": "code",
   "execution_count": 41,
   "id": "a9c7a6ca-0a7d-47c2-8265-38a89f07efbc",
   "metadata": {},
   "outputs": [
    {
     "data": {
      "text/plain": [
       "''"
      ]
     },
     "execution_count": 41,
     "metadata": {},
     "output_type": "execute_result"
    }
   ],
   "source": [
    "msg1"
   ]
  },
  {
   "cell_type": "code",
   "execution_count": 42,
   "id": "6989b4a7-4c8c-4175-b8c4-a034f35f4116",
   "metadata": {},
   "outputs": [],
   "source": [
    "msg1 = None"
   ]
  },
  {
   "cell_type": "code",
   "execution_count": 44,
   "id": "e833118b-2857-49b6-ba42-0cd121aac2ee",
   "metadata": {},
   "outputs": [
    {
     "name": "stdout",
     "output_type": "stream",
     "text": [
      "None\n"
     ]
    }
   ],
   "source": [
    "print(msg1)"
   ]
  },
  {
   "cell_type": "markdown",
   "id": "ea23f28b-7329-4c83-b561-da34804c0500",
   "metadata": {},
   "source": [
    "### Membership Operator"
   ]
  },
  {
   "cell_type": "code",
   "execution_count": 47,
   "id": "0c8d8f28-25ea-4ce3-9b2e-1c7a386a61cc",
   "metadata": {},
   "outputs": [],
   "source": [
    "poem = 'Twinkle Twinkle Little Star'"
   ]
  },
  {
   "cell_type": "code",
   "execution_count": 48,
   "id": "5910164f-28c6-487d-9abe-13f1bfd985ad",
   "metadata": {},
   "outputs": [],
   "source": [
    "searchWord = 'Star'"
   ]
  },
  {
   "cell_type": "code",
   "execution_count": 49,
   "id": "d5e8f042-4d67-4cc7-bb65-9092be005c73",
   "metadata": {},
   "outputs": [
    {
     "data": {
      "text/plain": [
       "True"
      ]
     },
     "execution_count": 49,
     "metadata": {},
     "output_type": "execute_result"
    }
   ],
   "source": [
    "searchWord in poem"
   ]
  },
  {
   "cell_type": "code",
   "execution_count": 50,
   "id": "ff9a0286-6e42-401c-9cc7-172eb2b23b88",
   "metadata": {},
   "outputs": [
    {
     "data": {
      "text/plain": [
       "True"
      ]
     },
     "execution_count": 50,
     "metadata": {},
     "output_type": "execute_result"
    }
   ],
   "source": [
    "'Star' in poem"
   ]
  },
  {
   "cell_type": "code",
   "execution_count": 51,
   "id": "81052277-4df2-481f-8bfb-0402ad3e0bf9",
   "metadata": {},
   "outputs": [
    {
     "data": {
      "text/plain": [
       "False"
      ]
     },
     "execution_count": 51,
     "metadata": {},
     "output_type": "execute_result"
    }
   ],
   "source": [
    "'star' in poem"
   ]
  },
  {
   "cell_type": "code",
   "execution_count": 52,
   "id": "c382150e-300e-4801-8181-fad22f9de236",
   "metadata": {},
   "outputs": [
    {
     "data": {
      "text/plain": [
       "True"
      ]
     },
     "execution_count": 52,
     "metadata": {},
     "output_type": "execute_result"
    }
   ],
   "source": [
    "' ' in poem"
   ]
  },
  {
   "cell_type": "code",
   "execution_count": 53,
   "id": "ca59e307-e907-4e84-8cf3-29843d6a369b",
   "metadata": {},
   "outputs": [
    {
     "data": {
      "text/plain": [
       "False"
      ]
     },
     "execution_count": 53,
     "metadata": {},
     "output_type": "execute_result"
    }
   ],
   "source": [
    "'Vinay' in poem"
   ]
  },
  {
   "cell_type": "code",
   "execution_count": 54,
   "id": "6f959735-e744-4d41-9ca1-03662dd27fc5",
   "metadata": {},
   "outputs": [
    {
     "data": {
      "text/plain": [
       "True"
      ]
     },
     "execution_count": 54,
     "metadata": {},
     "output_type": "execute_result"
    }
   ],
   "source": [
    "'Vinay' not in poem"
   ]
  },
  {
   "cell_type": "markdown",
   "id": "036e3d37-8730-4cb8-bc97-3519ab3353d1",
   "metadata": {},
   "source": [
    "### Comparision Operator"
   ]
  },
  {
   "cell_type": "code",
   "execution_count": 57,
   "id": "3a50c2b2-87b4-4e2d-9284-fab6800213ae",
   "metadata": {},
   "outputs": [],
   "source": [
    "text1 = \"Hello\"\n",
    "text2 = \"Hello\""
   ]
  },
  {
   "cell_type": "code",
   "execution_count": 58,
   "id": "d21adc27-d90d-48f7-ba8f-0d82c79cf02c",
   "metadata": {},
   "outputs": [
    {
     "data": {
      "text/plain": [
       "True"
      ]
     },
     "execution_count": 58,
     "metadata": {},
     "output_type": "execute_result"
    }
   ],
   "source": [
    "text1 == text2"
   ]
  },
  {
   "cell_type": "code",
   "execution_count": 59,
   "id": "cd384c1f-bafa-49e3-ad7d-28a340ea19d9",
   "metadata": {},
   "outputs": [
    {
     "data": {
      "text/plain": [
       "False"
      ]
     },
     "execution_count": 59,
     "metadata": {},
     "output_type": "execute_result"
    }
   ],
   "source": [
    "text1 != text2"
   ]
  },
  {
   "cell_type": "markdown",
   "id": "01e2692e-81a3-4e1d-848d-b23966bc84b7",
   "metadata": {},
   "source": [
    "### String Concatenation"
   ]
  },
  {
   "cell_type": "code",
   "execution_count": 60,
   "id": "1afb0839-9baf-40db-b28b-0d7a926d87ec",
   "metadata": {},
   "outputs": [],
   "source": [
    "# Joining two strings\n",
    "firstName = 'Vinay'\n",
    "lastName = 'Manohar'"
   ]
  },
  {
   "cell_type": "code",
   "execution_count": 71,
   "id": "b47cd425-09a4-4bb1-a528-b12bc2e2976b",
   "metadata": {},
   "outputs": [],
   "source": [
    "fullName = firstName +' '+ lastName"
   ]
  },
  {
   "cell_type": "code",
   "execution_count": 72,
   "id": "717d6134-1f70-43de-84ff-515f889764c3",
   "metadata": {},
   "outputs": [
    {
     "data": {
      "text/plain": [
       "'Vinay Manohar'"
      ]
     },
     "execution_count": 72,
     "metadata": {},
     "output_type": "execute_result"
    }
   ],
   "source": [
    "fullName"
   ]
  },
  {
   "cell_type": "code",
   "execution_count": 73,
   "id": "0496e2d4-524c-4646-bad4-7d3cef98c315",
   "metadata": {},
   "outputs": [
    {
     "data": {
      "text/plain": [
       "'Vinay'"
      ]
     },
     "execution_count": 73,
     "metadata": {},
     "output_type": "execute_result"
    }
   ],
   "source": [
    "firstName"
   ]
  },
  {
   "cell_type": "code",
   "execution_count": 74,
   "id": "a31e9cd7-3838-43c2-b48b-8951834ac889",
   "metadata": {},
   "outputs": [],
   "source": [
    "mobileNumber = 9060486010"
   ]
  },
  {
   "cell_type": "code",
   "execution_count": 75,
   "id": "d3c85d5b-dc9a-4033-9bdd-b19fb41847eb",
   "metadata": {},
   "outputs": [
    {
     "data": {
      "text/plain": [
       "str"
      ]
     },
     "execution_count": 75,
     "metadata": {},
     "output_type": "execute_result"
    }
   ],
   "source": [
    "type(firstName)"
   ]
  },
  {
   "cell_type": "code",
   "execution_count": 76,
   "id": "730a72f2-6154-41a0-862d-28404c06fe46",
   "metadata": {},
   "outputs": [
    {
     "data": {
      "text/plain": [
       "int"
      ]
     },
     "execution_count": 76,
     "metadata": {},
     "output_type": "execute_result"
    }
   ],
   "source": [
    "type(mobileNumber)"
   ]
  },
  {
   "cell_type": "code",
   "execution_count": 77,
   "id": "bebf731d-5e8c-432f-9de7-2ffadecb3c3f",
   "metadata": {},
   "outputs": [
    {
     "ename": "TypeError",
     "evalue": "can only concatenate str (not \"int\") to str",
     "output_type": "error",
     "traceback": [
      "\u001b[1;31m---------------------------------------------------------------------------\u001b[0m",
      "\u001b[1;31mTypeError\u001b[0m                                 Traceback (most recent call last)",
      "Cell \u001b[1;32mIn[77], line 1\u001b[0m\n\u001b[1;32m----> 1\u001b[0m firstName \u001b[38;5;241m+\u001b[39m mobileNumber\n",
      "\u001b[1;31mTypeError\u001b[0m: can only concatenate str (not \"int\") to str"
     ]
    }
   ],
   "source": [
    "firstName + mobileNumber"
   ]
  },
  {
   "cell_type": "code",
   "execution_count": 79,
   "id": "9178a676-4e6a-487c-8c66-b61ec81a7d0d",
   "metadata": {},
   "outputs": [
    {
     "data": {
      "text/plain": [
       "'Vinay 9060486010'"
      ]
     },
     "execution_count": 79,
     "metadata": {},
     "output_type": "execute_result"
    }
   ],
   "source": [
    "firstName +' '+ str(mobileNumber)"
   ]
  },
  {
   "cell_type": "markdown",
   "id": "2d79eb74-f69d-4f9c-a261-6f4b3f5d9572",
   "metadata": {},
   "source": [
    "### String Function "
   ]
  },
  {
   "cell_type": "code",
   "execution_count": 3,
   "id": "a6f9491e-edf2-44e9-9dd4-7b4633b38aee",
   "metadata": {},
   "outputs": [
    {
     "data": {
      "text/plain": [
       "12"
      ]
     },
     "execution_count": 3,
     "metadata": {},
     "output_type": "execute_result"
    }
   ],
   "source": [
    "len(msg1)"
   ]
  },
  {
   "cell_type": "code",
   "execution_count": null,
   "id": "662adf75-9294-4c17-8547-0649f5fe67e4",
   "metadata": {},
   "outputs": [],
   "source": []
  }
 ],
 "metadata": {
  "kernelspec": {
   "display_name": "Python 3 (ipykernel)",
   "language": "python",
   "name": "python3"
  },
  "language_info": {
   "codemirror_mode": {
    "name": "ipython",
    "version": 3
   },
   "file_extension": ".py",
   "mimetype": "text/x-python",
   "name": "python",
   "nbconvert_exporter": "python",
   "pygments_lexer": "ipython3",
   "version": "3.12.3"
  }
 },
 "nbformat": 4,
 "nbformat_minor": 5
}
