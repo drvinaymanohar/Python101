{
 "cells": [
  {
   "cell_type": "markdown",
   "id": "5cef72f4",
   "metadata": {},
   "source": [
    "#### `super()` function in Python Inheritance"
   ]
  },
  {
   "cell_type": "markdown",
   "id": "714f5db1",
   "metadata": {},
   "source": [
    "When working with inheritance in Python, the `super()` function is your go-to tool for referring to the parent class. It is most commonly used inside the child class’s `__init__` method to inherit the parent’s constructor.\n",
    "\n",
    "But `super()` isn’t just limited to constructors. You can use it to invoke any method from the parent class, allowing for smooth interaction between child and parent classes."
   ]
  },
  {
   "cell_type": "markdown",
   "id": "33aa1770",
   "metadata": {},
   "source": [
    "#### Example 1 : Inherit methods of parent class inside child class"
   ]
  },
  {
   "cell_type": "code",
   "execution_count": 1,
   "id": "c432fb03",
   "metadata": {},
   "outputs": [],
   "source": [
    "class Animal:\n",
    "    def sound(self):\n",
    "        print(\"All animals makes sound\")\n",
    "\n",
    "\n",
    "class Dog(Animal):\n",
    "    def sound(self):\n",
    "        print(\"Bark!\")\n",
    "        super().sound() # Inherit method"
   ]
  },
  {
   "cell_type": "code",
   "execution_count": 2,
   "id": "130a6dbd",
   "metadata": {},
   "outputs": [
    {
     "name": "stdout",
     "output_type": "stream",
     "text": [
      "Bark!\n",
      "All animals makes sound\n"
     ]
    }
   ],
   "source": [
    "# Creating an object of Dog class\n",
    "dog = Dog()\n",
    "\n",
    "dog.sound()"
   ]
  },
  {
   "cell_type": "markdown",
   "id": "4cb9f29b",
   "metadata": {},
   "source": [
    "#### Example 2: Inherit the instance attributes of parent class inside the child class"
   ]
  },
  {
   "cell_type": "code",
   "execution_count": 3,
   "id": "0b0bb041",
   "metadata": {},
   "outputs": [],
   "source": [
    "class ParentClass:\n",
    "    def __init__(self, fathername, mothername):\n",
    "        self.fathername = fathername\n",
    "        self.mothername = mothername\n",
    "\n",
    "    def get_parents(self):\n",
    "        print(f\"Father Name: {self.fathername} \\nMother Name: {self.mothername}\")\n",
    "\n",
    "class ChildClass(ParentClass):\n",
    "    def __init__(self, childname, childage, fathername, mothername):\n",
    "        self.childname = childname\n",
    "        self.childage = childage\n",
    "        super().__init__(fathername, mothername) # Inherit attribute\n",
    "        \n",
    "    def show_age(self):\n",
    "        print(f\"Age: {self.childage}\")"
   ]
  },
  {
   "cell_type": "code",
   "execution_count": 4,
   "id": "3578fa95",
   "metadata": {},
   "outputs": [],
   "source": [
    "# Creating an object of the ChildClass\n",
    "child = ChildClass(\"John\", 6, \"Jacobs\", \"Lily\")\n"
   ]
  },
  {
   "cell_type": "code",
   "execution_count": 5,
   "id": "fc602149",
   "metadata": {},
   "outputs": [
    {
     "data": {
      "text/plain": [
       "'John'"
      ]
     },
     "execution_count": 5,
     "metadata": {},
     "output_type": "execute_result"
    }
   ],
   "source": [
    "child.childname # Inherited instance attribute"
   ]
  },
  {
   "cell_type": "code",
   "execution_count": 6,
   "id": "e3d8d5e0",
   "metadata": {},
   "outputs": [
    {
     "data": {
      "text/plain": [
       "6"
      ]
     },
     "execution_count": 6,
     "metadata": {},
     "output_type": "execute_result"
    }
   ],
   "source": [
    "child.childage"
   ]
  },
  {
   "cell_type": "code",
   "execution_count": 7,
   "id": "c4626ec5",
   "metadata": {},
   "outputs": [
    {
     "data": {
      "text/plain": [
       "'Jacobs'"
      ]
     },
     "execution_count": 7,
     "metadata": {},
     "output_type": "execute_result"
    }
   ],
   "source": [
    "child.fathername"
   ]
  },
  {
   "cell_type": "code",
   "execution_count": 8,
   "id": "da6b8d69",
   "metadata": {},
   "outputs": [
    {
     "data": {
      "text/plain": [
       "'Lily'"
      ]
     },
     "execution_count": 8,
     "metadata": {},
     "output_type": "execute_result"
    }
   ],
   "source": [
    "child.mothername"
   ]
  },
  {
   "cell_type": "code",
   "execution_count": 9,
   "id": "6083b3bc",
   "metadata": {},
   "outputs": [
    {
     "name": "stdout",
     "output_type": "stream",
     "text": [
      "Father Name: Jacobs \n",
      "Mother Name: Lily\n"
     ]
    }
   ],
   "source": [
    "child.get_parents()"
   ]
  },
  {
   "cell_type": "code",
   "execution_count": 10,
   "id": "bb260f68",
   "metadata": {},
   "outputs": [
    {
     "name": "stdout",
     "output_type": "stream",
     "text": [
      "Age: 6\n"
     ]
    }
   ],
   "source": [
    "child.show_age()"
   ]
  },
  {
   "cell_type": "markdown",
   "id": "d0975144",
   "metadata": {},
   "source": [
    "#### Example 3: Inherit both methods and attributes from parent class to child class"
   ]
  },
  {
   "cell_type": "code",
   "execution_count": 11,
   "id": "53aad7c8",
   "metadata": {},
   "outputs": [],
   "source": [
    "#super class\n",
    "class ParentClass:\n",
    "    def __init__(self, name):\n",
    "        self.name = name\n",
    "\n",
    "    def get_parent_name(self):\n",
    "        print(f\"Parent Name: {self.name}\")\n",
    "\n",
    "\n",
    "#sub class \n",
    "\n",
    "class ChildClass(ParentClass):\n",
    "\n",
    "    # Child class inherits from ParentClass\n",
    "\n",
    "\n",
    "\n",
    "    def __init__(self, name, child_name, age):\n",
    "        super().__init__(name)  # Call the parent's __init__ method\n",
    "        self.child_name = child_name\n",
    "        self.age = age\n",
    "\n",
    "    def show_age(self):\n",
    "        print(f\"Age: {self.age}\")\n",
    "\n",
    "\n",
    "\n",
    "    def display_all(self):\n",
    "\n",
    "        \n",
    "        self.get_parent_name()  # Call the parent's display_name method\n",
    "\n",
    "        super().get_parent_name()\n",
    "\n",
    "\n",
    "        print(f\"Child Name: {self.child_name}\")\n",
    "\n",
    "        self.show_age()  # Call the child's show_age method\n",
    "\n",
    "        "
   ]
  },
  {
   "cell_type": "code",
   "execution_count": 12,
   "id": "2500f4d4",
   "metadata": {},
   "outputs": [],
   "source": [
    "# Instantiate the ChildClass object\n",
    "child1 = ChildClass(\"Manohar\", \"Vinay\", 32)"
   ]
  },
  {
   "cell_type": "code",
   "execution_count": 13,
   "id": "68118b6e",
   "metadata": {},
   "outputs": [
    {
     "name": "stdout",
     "output_type": "stream",
     "text": [
      "Parent Name: Manohar\n",
      "Parent Name: Manohar\n",
      "Child Name: Vinay\n",
      "Age: 32\n"
     ]
    }
   ],
   "source": [
    "# Display both the parent's name and the child's name and age\n",
    "child1.display_all()"
   ]
  },
  {
   "cell_type": "markdown",
   "id": "9d3bb6f5",
   "metadata": {},
   "source": [
    "#### Task "
   ]
  },
  {
   "cell_type": "code",
   "execution_count": 14,
   "id": "4e52ebfe",
   "metadata": {},
   "outputs": [],
   "source": [
    "class BankAccount:\n",
    "    def __init__(self, account_number, account_holder, balance=0):\n",
    "        self.account_number = account_number\n",
    "        self.account_holder = account_holder\n",
    "        self.balance = balance\n",
    "\n",
    "    def deposit(self, amount):\n",
    "        self.balance = self.balance + amount\n",
    "        print(f\"Deposited Rs. {amount}. New balance: Rs. {self.balance}\")\n",
    "\n",
    "    def withdraw(self, amount):\n",
    "            self.balance = self.balance - amount\n",
    "            print(f\"Withdrew Rs. {amount}. New balance: Rs. {self.balance}\")\n",
    "\n",
    "    def get_balance(self):\n",
    "        print(f\"Account Holder: {self.account_holder}, Balance: Rs. {self.balance}\")\n",
    "\n",
    "    def closing_balance(self):\n",
    "         print(f\"Closing Balance: Rs. {self.balance}\")\n"
   ]
  },
  {
   "cell_type": "code",
   "execution_count": 15,
   "id": "b2b479db",
   "metadata": {},
   "outputs": [],
   "source": [
    "class SavingsAccount(BankAccount):\n",
    "    def __init__(self, account_number, account_holder, balance=0, interest_rate=0.12, nominee=None):\n",
    "\n",
    "        super().__init__(account_number, account_holder, balance)\n",
    "\n",
    "        self.interest_rate = interest_rate\n",
    "        self.nominee = nominee\n",
    "\n",
    "    def add_interest(self):\n",
    "        interest = self.balance * self.interest_rate\n",
    "        self.deposit(interest)\n",
    "        print(f\"Added interest: Rs. {interest}. New balance: Rs. {self.balance}\")\n",
    "        super().closing_balance()"
   ]
  },
  {
   "cell_type": "code",
   "execution_count": 16,
   "id": "c6575b94",
   "metadata": {},
   "outputs": [],
   "source": [
    "acc = SavingsAccount(1326963172, 'Vinay', 5001, 0.12, \"Spouse\")"
   ]
  },
  {
   "cell_type": "code",
   "execution_count": 17,
   "id": "ac2892bb",
   "metadata": {},
   "outputs": [
    {
     "data": {
      "text/plain": [
       "1326963172"
      ]
     },
     "execution_count": 17,
     "metadata": {},
     "output_type": "execute_result"
    }
   ],
   "source": [
    "acc.account_number"
   ]
  },
  {
   "cell_type": "code",
   "execution_count": 18,
   "id": "079fb8f0",
   "metadata": {},
   "outputs": [
    {
     "data": {
      "text/plain": [
       "'Vinay'"
      ]
     },
     "execution_count": 18,
     "metadata": {},
     "output_type": "execute_result"
    }
   ],
   "source": [
    "acc.account_holder"
   ]
  },
  {
   "cell_type": "code",
   "execution_count": 19,
   "id": "cba5880e",
   "metadata": {},
   "outputs": [
    {
     "data": {
      "text/plain": [
       "5001"
      ]
     },
     "execution_count": 19,
     "metadata": {},
     "output_type": "execute_result"
    }
   ],
   "source": [
    "acc.balance"
   ]
  },
  {
   "cell_type": "code",
   "execution_count": 20,
   "id": "89685c37",
   "metadata": {},
   "outputs": [
    {
     "data": {
      "text/plain": [
       "0.12"
      ]
     },
     "execution_count": 20,
     "metadata": {},
     "output_type": "execute_result"
    }
   ],
   "source": [
    "acc.interest_rate"
   ]
  },
  {
   "cell_type": "code",
   "execution_count": 21,
   "id": "41e8a52b",
   "metadata": {},
   "outputs": [
    {
     "data": {
      "text/plain": [
       "'Spouse'"
      ]
     },
     "execution_count": 21,
     "metadata": {},
     "output_type": "execute_result"
    }
   ],
   "source": [
    "acc.nominee"
   ]
  },
  {
   "cell_type": "code",
   "execution_count": 22,
   "id": "881f3023",
   "metadata": {},
   "outputs": [
    {
     "name": "stdout",
     "output_type": "stream",
     "text": [
      "Deposited Rs. 500. New balance: Rs. 5501\n"
     ]
    }
   ],
   "source": [
    "acc.deposit(500)"
   ]
  },
  {
   "cell_type": "code",
   "execution_count": 23,
   "id": "af264f0d",
   "metadata": {},
   "outputs": [
    {
     "name": "stdout",
     "output_type": "stream",
     "text": [
      "Withdrew Rs. 200. New balance: Rs. 5301\n"
     ]
    }
   ],
   "source": [
    "acc.withdraw(200)"
   ]
  },
  {
   "cell_type": "code",
   "execution_count": 24,
   "id": "e5a883f3",
   "metadata": {},
   "outputs": [
    {
     "name": "stdout",
     "output_type": "stream",
     "text": [
      "Account Holder: Vinay, Balance: Rs. 5301\n"
     ]
    }
   ],
   "source": [
    "acc.get_balance()"
   ]
  },
  {
   "cell_type": "code",
   "execution_count": 25,
   "id": "5c8e0335",
   "metadata": {},
   "outputs": [
    {
     "name": "stdout",
     "output_type": "stream",
     "text": [
      "Deposited Rs. 636.12. New balance: Rs. 5937.12\n",
      "Added interest: Rs. 636.12. New balance: Rs. 5937.12\n",
      "Closing Balance: Rs. 5937.12\n"
     ]
    }
   ],
   "source": [
    "acc.add_interest()"
   ]
  },
  {
   "cell_type": "code",
   "execution_count": 26,
   "id": "9c4289ba",
   "metadata": {},
   "outputs": [
    {
     "name": "stdout",
     "output_type": "stream",
     "text": [
      "Account Holder: Vinay, Balance: Rs. 5937.12\n"
     ]
    }
   ],
   "source": [
    "acc.get_balance()"
   ]
  }
 ],
 "metadata": {
  "kernelspec": {
   "display_name": "base",
   "language": "python",
   "name": "python3"
  },
  "language_info": {
   "codemirror_mode": {
    "name": "ipython",
    "version": 3
   },
   "file_extension": ".py",
   "mimetype": "text/x-python",
   "name": "python",
   "nbconvert_exporter": "python",
   "pygments_lexer": "ipython3",
   "version": "3.12.4"
  }
 },
 "nbformat": 4,
 "nbformat_minor": 5
}
