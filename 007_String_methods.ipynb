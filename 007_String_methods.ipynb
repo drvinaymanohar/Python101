{
 "cells": [
  {
   "cell_type": "markdown",
   "id": "69c4f27e-fdac-4049-b611-38e957eccf3a",
   "metadata": {},
   "source": [
    "#### Strings Methods"
   ]
  },
  {
   "cell_type": "markdown",
   "id": "13705c79-31a3-4dee-8470-e58be3dea24d",
   "metadata": {},
   "source": [
    "##### General Purpose Methods"
   ]
  },
  {
   "cell_type": "code",
   "execution_count": 1,
   "id": "3eff333b-280b-4a33-8c62-5a7bd46a6a27",
   "metadata": {},
   "outputs": [],
   "source": [
    "msg = \"Hello Guido Von Rossum\""
   ]
  },
  {
   "cell_type": "code",
   "execution_count": 2,
   "id": "d2ee7e38-5e33-41b9-937d-8fa3daae735e",
   "metadata": {},
   "outputs": [
    {
     "data": {
      "text/plain": [
       "str"
      ]
     },
     "execution_count": 2,
     "metadata": {},
     "output_type": "execute_result"
    }
   ],
   "source": [
    "type(msg)"
   ]
  },
  {
   "cell_type": "code",
   "execution_count": 3,
   "id": "7507692f-988b-4fc2-ae02-29803f73328c",
   "metadata": {},
   "outputs": [
    {
     "data": {
      "text/plain": [
       "22"
      ]
     },
     "execution_count": 3,
     "metadata": {},
     "output_type": "execute_result"
    }
   ],
   "source": [
    "# Finding the length of the string\n",
    "len(msg)"
   ]
  },
  {
   "cell_type": "code",
   "execution_count": 4,
   "id": "9161bd46-84fc-4664-9497-fa5720f423e4",
   "metadata": {},
   "outputs": [
    {
     "name": "stdout",
     "output_type": "stream",
     "text": [
      "22\n"
     ]
    }
   ],
   "source": [
    "length = len(msg)\n",
    "print(length)"
   ]
  },
  {
   "cell_type": "code",
   "execution_count": 7,
   "id": "e178571e-a204-47f7-a11b-b04243471f9e",
   "metadata": {},
   "outputs": [],
   "source": [
    "# Repetation \n",
    "wishes = \"Namaste\\n\""
   ]
  },
  {
   "cell_type": "code",
   "execution_count": 12,
   "id": "618386e0-52a6-4b52-a870-f43edc7fe640",
   "metadata": {},
   "outputs": [
    {
     "name": "stdout",
     "output_type": "stream",
     "text": [
      "Namaste\n",
      "Namaste\n",
      "Namaste\n",
      "Namaste\n",
      "Namaste\n",
      "Namaste\n",
      "Namaste\n",
      "Namaste\n",
      "Namaste\n",
      "Namaste\n",
      "\n"
     ]
    }
   ],
   "source": [
    "print(wishes * 10)"
   ]
  },
  {
   "cell_type": "markdown",
   "id": "ed98989f-1380-42ce-9d68-e9bfcbd30c0d",
   "metadata": {},
   "source": [
    "#### Case Conversion"
   ]
  },
  {
   "cell_type": "code",
   "execution_count": 14,
   "id": "3766b45c-ab10-4fab-abd1-8997085acb84",
   "metadata": {},
   "outputs": [],
   "source": [
    "# declare a string\n",
    "\n",
    "poem = \"twinkle twinkle little STAR\""
   ]
  },
  {
   "cell_type": "code",
   "execution_count": 15,
   "id": "0e3e3072-1189-4246-a1e3-148b8ba653dd",
   "metadata": {},
   "outputs": [
    {
     "data": {
      "text/plain": [
       "str"
      ]
     },
     "execution_count": 15,
     "metadata": {},
     "output_type": "execute_result"
    }
   ],
   "source": [
    "type(poem)"
   ]
  },
  {
   "cell_type": "code",
   "execution_count": 16,
   "id": "26146dee-e1ed-40ae-803f-51354e2ad837",
   "metadata": {},
   "outputs": [],
   "source": [
    "mob = 9060486010"
   ]
  },
  {
   "cell_type": "code",
   "execution_count": 17,
   "id": "5b059de9-4035-49ea-ac6a-4a79a366d5bb",
   "metadata": {},
   "outputs": [
    {
     "data": {
      "text/plain": [
       "int"
      ]
     },
     "execution_count": 17,
     "metadata": {},
     "output_type": "execute_result"
    }
   ],
   "source": [
    "type(mob)"
   ]
  },
  {
   "cell_type": "code",
   "execution_count": 18,
   "id": "f3828133-7740-4e6b-9778-c5c437b7d615",
   "metadata": {},
   "outputs": [],
   "source": [
    "# Python detects the Type of Variable and displays functions applicable for respective data type"
   ]
  },
  {
   "cell_type": "code",
   "execution_count": 19,
   "id": "0e6e53c9-ce17-4fc7-894c-3147fa19393d",
   "metadata": {},
   "outputs": [],
   "source": [
    "# calling a function/methods associated with string"
   ]
  },
  {
   "cell_type": "code",
   "execution_count": 20,
   "id": "7154e0f1-e340-4bf3-bb39-2b9c3efea90b",
   "metadata": {},
   "outputs": [
    {
     "data": {
      "text/plain": [
       "'twinkle twinkle little STAR'"
      ]
     },
     "execution_count": 20,
     "metadata": {},
     "output_type": "execute_result"
    }
   ],
   "source": [
    "poem"
   ]
  },
  {
   "cell_type": "code",
   "execution_count": 21,
   "id": "cd3a89df-23e3-4c72-aaab-0765872e34ad",
   "metadata": {},
   "outputs": [
    {
     "name": "stdout",
     "output_type": "stream",
     "text": [
      "twinkle twinkle little STAR\n"
     ]
    }
   ],
   "source": [
    "print(poem)"
   ]
  },
  {
   "cell_type": "code",
   "execution_count": 25,
   "id": "e634b3ea-579c-413d-bd0f-6497323b5ffe",
   "metadata": {},
   "outputs": [],
   "source": [
    "# convert everything to lower\n",
    "poem = poem.lower()"
   ]
  },
  {
   "cell_type": "code",
   "execution_count": 26,
   "id": "825a15b1-74b5-487e-bcd2-e871a55b5558",
   "metadata": {},
   "outputs": [
    {
     "data": {
      "text/plain": [
       "'twinkle twinkle little star'"
      ]
     },
     "execution_count": 26,
     "metadata": {},
     "output_type": "execute_result"
    }
   ],
   "source": [
    "poem"
   ]
  },
  {
   "cell_type": "code",
   "execution_count": 27,
   "id": "f6324949-2c2d-414e-93be-79d0ad22b64f",
   "metadata": {},
   "outputs": [
    {
     "name": "stdout",
     "output_type": "stream",
     "text": [
      "twinkle twinkle little star\n"
     ]
    }
   ],
   "source": [
    "print(poem)"
   ]
  },
  {
   "cell_type": "code",
   "execution_count": 28,
   "id": "7d8b75e5-8a00-4366-9fa3-f09568542f5e",
   "metadata": {},
   "outputs": [
    {
     "name": "stdout",
     "output_type": "stream",
     "text": [
      "TWINKLE TWINKLE LITTLE STAR\n"
     ]
    }
   ],
   "source": [
    "# Convert everything to upper\n",
    "poem = poem.upper()\n",
    "print(poem)"
   ]
  },
  {
   "cell_type": "code",
   "execution_count": 29,
   "id": "8cb3bf58-8846-47a9-a73b-f8c310b0a446",
   "metadata": {},
   "outputs": [
    {
     "name": "stdout",
     "output_type": "stream",
     "text": [
      "Twinkle twinkle little star\n"
     ]
    }
   ],
   "source": [
    "# Capitalize the string\n",
    "poem = poem.capitalize()\n",
    "print(poem)"
   ]
  },
  {
   "cell_type": "code",
   "execution_count": 30,
   "id": "e31e1f76-7f3b-4047-8d8e-72207bf4c6c3",
   "metadata": {},
   "outputs": [
    {
     "name": "stdout",
     "output_type": "stream",
     "text": [
      "Twinkle Twinkle Little Star\n"
     ]
    }
   ],
   "source": [
    "# Capitalize every word in string\n",
    "poem = poem.title()\n",
    "print(poem)"
   ]
  },
  {
   "cell_type": "code",
   "execution_count": 31,
   "id": "3806c7c2-241b-48e4-9362-1a790cdfdfd7",
   "metadata": {},
   "outputs": [
    {
     "name": "stdout",
     "output_type": "stream",
     "text": [
      "tWINKLE tWINKLE lITTLE sTAR\n"
     ]
    }
   ],
   "source": [
    "# Swap Case\n",
    "poem = poem.swapcase()\n",
    "print(poem)"
   ]
  },
  {
   "cell_type": "markdown",
   "id": "d601642f-3823-4dd0-abba-b96ac9716a79",
   "metadata": {},
   "source": [
    "#### Whitespace handing"
   ]
  },
  {
   "cell_type": "code",
   "execution_count": 36,
   "id": "47a0e988-9c3c-48c9-8d9e-04a827de0883",
   "metadata": {},
   "outputs": [],
   "source": [
    "# declare string with whitespace\n",
    "\n",
    "mailid = '  vinaymanohar.gis@gmail.com       '"
   ]
  },
  {
   "cell_type": "code",
   "execution_count": 37,
   "id": "c19d3b40-95e9-4431-98d4-d33de371579c",
   "metadata": {},
   "outputs": [],
   "source": [
    "# Stripping"
   ]
  },
  {
   "cell_type": "code",
   "execution_count": 41,
   "id": "d9423379-2370-45e5-8234-89feb2f446ea",
   "metadata": {},
   "outputs": [
    {
     "data": {
      "text/plain": [
       "'vinaymanohar.gis@gmail.com'"
      ]
     },
     "execution_count": 41,
     "metadata": {},
     "output_type": "execute_result"
    }
   ],
   "source": [
    "# full strip\n",
    "mailid.strip()"
   ]
  },
  {
   "cell_type": "code",
   "execution_count": 42,
   "id": "150b6155-f159-4f3f-91c7-9108930574dd",
   "metadata": {},
   "outputs": [
    {
     "data": {
      "text/plain": [
       "'vinaymanohar.gis@gmail.com       '"
      ]
     },
     "execution_count": 42,
     "metadata": {},
     "output_type": "execute_result"
    }
   ],
   "source": [
    "# left strip\n",
    "mailid.lstrip()"
   ]
  },
  {
   "cell_type": "code",
   "execution_count": 43,
   "id": "16d74f70-e775-4314-a1b7-fda3574ef94d",
   "metadata": {},
   "outputs": [
    {
     "data": {
      "text/plain": [
       "'  vinaymanohar.gis@gmail.com'"
      ]
     },
     "execution_count": 43,
     "metadata": {},
     "output_type": "execute_result"
    }
   ],
   "source": [
    "# right strip\n",
    "mailid.rstrip()"
   ]
  },
  {
   "cell_type": "code",
   "execution_count": 44,
   "id": "6b672051-983f-4a6c-bc17-d36345d2c168",
   "metadata": {},
   "outputs": [],
   "source": [
    "#### Searching and Counting"
   ]
  },
  {
   "cell_type": "code",
   "execution_count": 45,
   "id": "90b5aaf8-e9f6-4f77-989c-85e50afbf842",
   "metadata": {},
   "outputs": [
    {
     "name": "stdout",
     "output_type": "stream",
     "text": [
      "vinaymanohar.gis@gmail.com\n"
     ]
    }
   ],
   "source": [
    "cleaned_mailid = mailid.strip()\n",
    "print(cleaned_mailid)"
   ]
  },
  {
   "cell_type": "code",
   "execution_count": 47,
   "id": "2a2824c2-57cc-4a4b-812b-351871e7b13c",
   "metadata": {},
   "outputs": [
    {
     "data": {
      "text/plain": [
       "16"
      ]
     },
     "execution_count": 47,
     "metadata": {},
     "output_type": "execute_result"
    }
   ],
   "source": [
    "cleaned_mailid.find('@')"
   ]
  },
  {
   "cell_type": "code",
   "execution_count": 48,
   "id": "c4893ae8-d721-4f57-873a-755511f23c4e",
   "metadata": {},
   "outputs": [
    {
     "data": {
      "text/plain": [
       "2"
      ]
     },
     "execution_count": 48,
     "metadata": {},
     "output_type": "execute_result"
    }
   ],
   "source": [
    "cleaned_mailid.count('.')"
   ]
  },
  {
   "cell_type": "code",
   "execution_count": 49,
   "id": "e376f8f4-79d4-4465-b6ec-a1b4add9445e",
   "metadata": {},
   "outputs": [],
   "source": [
    "newmsg = \"Hello Python\""
   ]
  },
  {
   "cell_type": "code",
   "execution_count": 50,
   "id": "e83485e6-1074-4170-930b-b89eff761696",
   "metadata": {},
   "outputs": [
    {
     "data": {
      "text/plain": [
       "True"
      ]
     },
     "execution_count": 50,
     "metadata": {},
     "output_type": "execute_result"
    }
   ],
   "source": [
    "newmsg.startswith(\"Hello\")"
   ]
  },
  {
   "cell_type": "code",
   "execution_count": 51,
   "id": "29f66ac1-49d6-42a0-b416-7722c631878c",
   "metadata": {},
   "outputs": [
    {
     "data": {
      "text/plain": [
       "False"
      ]
     },
     "execution_count": 51,
     "metadata": {},
     "output_type": "execute_result"
    }
   ],
   "source": [
    "newmsg.startswith(\"hello\")"
   ]
  },
  {
   "cell_type": "code",
   "execution_count": 53,
   "id": "4b758fea-e23b-4190-ad53-0741c0343a13",
   "metadata": {},
   "outputs": [
    {
     "data": {
      "text/plain": [
       "False"
      ]
     },
     "execution_count": 53,
     "metadata": {},
     "output_type": "execute_result"
    }
   ],
   "source": [
    "newmsg.startswith(\"hello\")"
   ]
  },
  {
   "cell_type": "code",
   "execution_count": 54,
   "id": "df6cb474-31be-470c-a2d5-adfaea11fc5a",
   "metadata": {},
   "outputs": [
    {
     "data": {
      "text/plain": [
       "True"
      ]
     },
     "execution_count": 54,
     "metadata": {},
     "output_type": "execute_result"
    }
   ],
   "source": [
    "newmsg = newmsg.lower()\n",
    "newmsg.startswith(\"hello\")"
   ]
  },
  {
   "cell_type": "code",
   "execution_count": 55,
   "id": "5a3a2ee0-05f0-4cac-a6eb-7b83d7a589f1",
   "metadata": {},
   "outputs": [
    {
     "data": {
      "text/plain": [
       "'hello python'"
      ]
     },
     "execution_count": 55,
     "metadata": {},
     "output_type": "execute_result"
    }
   ],
   "source": [
    "newmsg"
   ]
  },
  {
   "cell_type": "code",
   "execution_count": 56,
   "id": "635f11aa-50e3-4520-add8-a310055f5e39",
   "metadata": {},
   "outputs": [
    {
     "data": {
      "text/plain": [
       "'namaste python'"
      ]
     },
     "execution_count": 56,
     "metadata": {},
     "output_type": "execute_result"
    }
   ],
   "source": [
    "newmsg.replace('hello', 'namaste')"
   ]
  },
  {
   "cell_type": "markdown",
   "id": "63ef194b-0934-4a79-9e2c-9f66ee6c82d3",
   "metadata": {},
   "source": [
    "#### Method Chaining"
   ]
  },
  {
   "cell_type": "code",
   "execution_count": 57,
   "id": "9cd98efd-b603-4cdd-814a-efd0f4090d34",
   "metadata": {},
   "outputs": [],
   "source": [
    "# traditional Method\n",
    "msg = 'I love Python'"
   ]
  },
  {
   "cell_type": "code",
   "execution_count": 58,
   "id": "571dce48-ba4c-4580-bfa2-c2abc1ad88a8",
   "metadata": {},
   "outputs": [],
   "source": [
    "#step1: convert to lower\n",
    "#step2: replace python as myself\n",
    "#step3: convert to title"
   ]
  },
  {
   "cell_type": "code",
   "execution_count": 60,
   "id": "ad36596b-2230-46e3-ad9a-a4ae79c01fd4",
   "metadata": {},
   "outputs": [
    {
     "data": {
      "text/plain": [
       "'i love python'"
      ]
     },
     "execution_count": 60,
     "metadata": {},
     "output_type": "execute_result"
    }
   ],
   "source": [
    "msg = msg.lower()\n",
    "msg"
   ]
  },
  {
   "cell_type": "code",
   "execution_count": 61,
   "id": "61d93b5b-3d5c-4f73-b868-801014c950d1",
   "metadata": {},
   "outputs": [
    {
     "data": {
      "text/plain": [
       "'i love myself'"
      ]
     },
     "execution_count": 61,
     "metadata": {},
     "output_type": "execute_result"
    }
   ],
   "source": [
    "msg = msg.replace('python', 'myself')\n",
    "msg"
   ]
  },
  {
   "cell_type": "code",
   "execution_count": 62,
   "id": "15624bf5-079a-4024-9b9e-abe25f3e4f5e",
   "metadata": {},
   "outputs": [
    {
     "data": {
      "text/plain": [
       "'I LOVE MYSELF'"
      ]
     },
     "execution_count": 62,
     "metadata": {},
     "output_type": "execute_result"
    }
   ],
   "source": [
    "msg = msg.upper()\n",
    "msg"
   ]
  },
  {
   "cell_type": "code",
   "execution_count": 63,
   "id": "eed08961-7e84-4828-9b57-0cf441e0a890",
   "metadata": {},
   "outputs": [],
   "source": [
    "# Chaining Method\n",
    "msg = 'I love Python'"
   ]
  },
  {
   "cell_type": "code",
   "execution_count": 64,
   "id": "c7affad3-d8d5-40f7-a595-f83e828804bb",
   "metadata": {},
   "outputs": [
    {
     "data": {
      "text/plain": [
       "'I LOVE MYSELF'"
      ]
     },
     "execution_count": 64,
     "metadata": {},
     "output_type": "execute_result"
    }
   ],
   "source": [
    "msg = msg.lower().replace('python','myself').upper()\n",
    "msg"
   ]
  },
  {
   "cell_type": "code",
   "execution_count": null,
   "id": "b5c646b8-224a-4526-8cb7-a9ce014e1ecf",
   "metadata": {},
   "outputs": [],
   "source": []
  }
 ],
 "metadata": {
  "kernelspec": {
   "display_name": "Python 3 (ipykernel)",
   "language": "python",
   "name": "python3"
  },
  "language_info": {
   "codemirror_mode": {
    "name": "ipython",
    "version": 3
   },
   "file_extension": ".py",
   "mimetype": "text/x-python",
   "name": "python",
   "nbconvert_exporter": "python",
   "pygments_lexer": "ipython3",
   "version": "3.12.3"
  }
 },
 "nbformat": 4,
 "nbformat_minor": 5
}
