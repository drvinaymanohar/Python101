{
 "cells": [
  {
   "cell_type": "markdown",
   "id": "e445cd1b-fe20-4f94-8584-2f94e5468738",
   "metadata": {},
   "source": [
    "#### Understanding Polymorphism in Python"
   ]
  },
  {
   "cell_type": "markdown",
   "id": "b7eeef47-8ccf-4099-973d-6c99f35bd9b1",
   "metadata": {},
   "source": [
    "Polymorphism, a key concept in object-oriented programming (OOP), allows objects of different classes to be treated as objects of a common superclass.\n",
    "\n",
    "This means that different classes can define methods with the same name,\n",
    "and\n",
    "Python will determine which method to execute based on the object instance.\n",
    "\n",
    "The word “polymorphism” itself means “many forms”, which reflects how an object can exhibit different behavior based on the class that implements it."
   ]
  },
  {
   "cell_type": "markdown",
   "id": "507f49df",
   "metadata": {},
   "source": [
    "#### Example 1: Polymorphism with Distinct Class"
   ]
  },
  {
   "cell_type": "code",
   "execution_count": 1,
   "id": "9af5f71b-411c-4346-ae82-3c41eb4d4cfc",
   "metadata": {},
   "outputs": [],
   "source": [
    "# Distinct Class, it is not depending on any other class\n",
    "class Bird:\n",
    "    def fly(self):\n",
    "        print(\"The bird is flying\")\n",
    "\n",
    "# Distinct Class, it is not depending on any other class\n",
    "class Airplane:\n",
    "    def fly(self):\n",
    "        print(\"The airplane is flying\")\n",
    "\n",
    "class Bike:\n",
    "    def ride(self):\n",
    "        print(\"Riding the Bike\")\n",
    "\n",
    "class Car:\n",
    "    def drive(self):\n",
    "        print(\"Driving a Car\")\n",
    "\n",
    "class Truck:\n",
    "    def drive(self):\n",
    "        print(\"Driving the truck\")"
   ]
  },
  {
   "cell_type": "code",
   "execution_count": 2,
   "id": "eb2bb65b-e31f-4488-8afd-8f9f81daf60b",
   "metadata": {},
   "outputs": [],
   "source": [
    "bird = Bird()\n",
    "\n",
    "airplane = Airplane()"
   ]
  },
  {
   "cell_type": "code",
   "execution_count": 3,
   "id": "708d624b",
   "metadata": {},
   "outputs": [
    {
     "name": "stdout",
     "output_type": "stream",
     "text": [
      "The bird is flying\n"
     ]
    }
   ],
   "source": [
    "bird.fly()"
   ]
  },
  {
   "cell_type": "code",
   "execution_count": 4,
   "id": "0c1ae9e6",
   "metadata": {},
   "outputs": [
    {
     "name": "stdout",
     "output_type": "stream",
     "text": [
      "The airplane is flying\n"
     ]
    }
   ],
   "source": [
    "airplane.fly()"
   ]
  },
  {
   "cell_type": "code",
   "execution_count": 5,
   "id": "5d7c45fb",
   "metadata": {},
   "outputs": [],
   "source": [
    "# Using Polymorphism\n",
    "# By treating different objects through a UNIFIED INTERFACE to Instantiate and Call the Common Methods, you can achieve polymorphism.\n",
    "\n",
    "# Polymorphism in action through functions\n",
    "\n",
    "def makeitfly(x):\n",
    "    x.fly()"
   ]
  },
  {
   "cell_type": "code",
   "execution_count": 6,
   "id": "f2f48c6e",
   "metadata": {},
   "outputs": [
    {
     "name": "stdout",
     "output_type": "stream",
     "text": [
      "The bird is flying\n"
     ]
    }
   ],
   "source": [
    "makeitfly(bird)"
   ]
  },
  {
   "cell_type": "code",
   "execution_count": 7,
   "id": "0560e878",
   "metadata": {},
   "outputs": [
    {
     "name": "stdout",
     "output_type": "stream",
     "text": [
      "The airplane is flying\n"
     ]
    }
   ],
   "source": [
    "makeitfly(airplane)"
   ]
  },
  {
   "cell_type": "code",
   "execution_count": 8,
   "id": "2f822624",
   "metadata": {},
   "outputs": [
    {
     "name": "stdout",
     "output_type": "stream",
     "text": [
      "The bird is flying\n"
     ]
    }
   ],
   "source": [
    "makeitfly(Bird())"
   ]
  },
  {
   "cell_type": "code",
   "execution_count": 9,
   "id": "708f77c4",
   "metadata": {},
   "outputs": [
    {
     "name": "stdout",
     "output_type": "stream",
     "text": [
      "The airplane is flying\n"
     ]
    }
   ],
   "source": [
    "makeitfly(Airplane())"
   ]
  },
  {
   "cell_type": "code",
   "execution_count": 10,
   "id": "96c5a460",
   "metadata": {},
   "outputs": [],
   "source": [
    "# lets start CAR and TRUCK together\n",
    "# COMMON UNIFIED INTERFACE\n",
    "# FUNCTION"
   ]
  },
  {
   "cell_type": "code",
   "execution_count": 11,
   "id": "cf106aaa",
   "metadata": {},
   "outputs": [],
   "source": [
    "def makeitdrive(x):\n",
    "    x.drive()"
   ]
  },
  {
   "cell_type": "code",
   "execution_count": 12,
   "id": "5fe7c79c",
   "metadata": {},
   "outputs": [
    {
     "name": "stdout",
     "output_type": "stream",
     "text": [
      "Driving a Car\n"
     ]
    }
   ],
   "source": [
    "makeitdrive(Car())"
   ]
  },
  {
   "cell_type": "code",
   "execution_count": 13,
   "id": "a843b9f9",
   "metadata": {},
   "outputs": [
    {
     "name": "stdout",
     "output_type": "stream",
     "text": [
      "Driving the truck\n"
     ]
    }
   ],
   "source": [
    "makeitdrive(Truck())"
   ]
  },
  {
   "cell_type": "markdown",
   "id": "e76b7b0e",
   "metadata": {},
   "source": [
    "#### Example 2: Polymorphism with Inheritance"
   ]
  },
  {
   "cell_type": "code",
   "execution_count": 14,
   "id": "afcd1a1a",
   "metadata": {},
   "outputs": [],
   "source": [
    "# Dog Inheriting the Animal\n",
    "# Cat Inheriting the Animal\n",
    "# Hierarchical Inheritance\n",
    "\n",
    "# Base Class\n",
    "class Animal:\n",
    "    def __init__(self, name):\n",
    "        self.name = name # Instance Attribute\n",
    "\n",
    "# Derived Class / Sub - Class \n",
    "class Dog(Animal):\n",
    "    def speak(self):\n",
    "        return f\"{self.name} says Woof!\"\n",
    "\n",
    "# Derived Class / Sub - Class \n",
    "class Cat(Animal):\n",
    "    def speak(self):\n",
    "        return f\"{self.name} says Meow!\""
   ]
  },
  {
   "cell_type": "code",
   "execution_count": 15,
   "id": "343150a1",
   "metadata": {},
   "outputs": [
    {
     "name": "stdout",
     "output_type": "stream",
     "text": [
      "Buddy says Woof!\n",
      "Whiskers says Meow!\n"
     ]
    }
   ],
   "source": [
    "# Polymorphism in action through list iterations\n",
    "\n",
    "# Create a list of animals\n",
    "\n",
    "animals = [Dog(\"Buddy\"), Cat(\"Whiskers\")]\n",
    "\n",
    "for i in animals:\n",
    "    print(i.speak())"
   ]
  },
  {
   "cell_type": "markdown",
   "id": "a6334a3a",
   "metadata": {},
   "source": [
    "##### Example"
   ]
  },
  {
   "cell_type": "code",
   "execution_count": 16,
   "id": "d4e9e557",
   "metadata": {},
   "outputs": [],
   "source": [
    "class Fish:\n",
    "    def swim(self):\n",
    "        return \"Fish is Swimming\"\n",
    "    \n",
    "class Person:\n",
    "    def swim(self):\n",
    "        return \"Person is Swimming\"\n",
    "    \n",
    "class Tortoise:\n",
    "    def swim(self):\n",
    "        return \"Tortoise is Swimming\"\n",
    "    \n",
    "class Frog:\n",
    "    def swim(self):\n",
    "        return \"Frog is Swimming\"\n",
    "\n",
    "class Dog:\n",
    "    def swim(self):\n",
    "        return \"Dog is Swimming\"\n",
    "    \n",
    "class Swan:\n",
    "    def swim(self):\n",
    "        return \"Swan is Swimming\""
   ]
  },
  {
   "cell_type": "code",
   "execution_count": 17,
   "id": "afbb1e8a",
   "metadata": {},
   "outputs": [
    {
     "data": {
      "text/plain": [
       "'Fish is Swimming'"
      ]
     },
     "execution_count": 17,
     "metadata": {},
     "output_type": "execute_result"
    }
   ],
   "source": [
    "f = Fish()\n",
    "f.swim()"
   ]
  },
  {
   "cell_type": "code",
   "execution_count": 18,
   "id": "d714809a",
   "metadata": {},
   "outputs": [
    {
     "data": {
      "text/plain": [
       "'Person is Swimming'"
      ]
     },
     "execution_count": 18,
     "metadata": {},
     "output_type": "execute_result"
    }
   ],
   "source": [
    "p = Person()\n",
    "p.swim()"
   ]
  },
  {
   "cell_type": "code",
   "execution_count": 19,
   "id": "5c988d07",
   "metadata": {},
   "outputs": [
    {
     "data": {
      "text/plain": [
       "'Tortoise is Swimming'"
      ]
     },
     "execution_count": 19,
     "metadata": {},
     "output_type": "execute_result"
    }
   ],
   "source": [
    "t = Tortoise()\n",
    "t.swim()"
   ]
  },
  {
   "cell_type": "code",
   "execution_count": null,
   "id": "e2d1895f",
   "metadata": {},
   "outputs": [],
   "source": []
  },
  {
   "cell_type": "code",
   "execution_count": 20,
   "id": "5f6fb650",
   "metadata": {},
   "outputs": [],
   "source": [
    "swimmable = [Fish(), Person(), Tortoise(), Frog(), Dog(), Swan()]"
   ]
  },
  {
   "cell_type": "code",
   "execution_count": 21,
   "id": "1e2ab303",
   "metadata": {},
   "outputs": [
    {
     "name": "stdout",
     "output_type": "stream",
     "text": [
      "Fish is Swimming\n",
      "Person is Swimming\n",
      "Tortoise is Swimming\n",
      "Frog is Swimming\n",
      "Dog is Swimming\n",
      "Swan is Swimming\n"
     ]
    }
   ],
   "source": [
    "# Unified Common Interface\n",
    "\n",
    "for i in swimmable:\n",
    "    print(i.swim())"
   ]
  },
  {
   "cell_type": "markdown",
   "id": "e83a8c08-e3f4-40c8-8556-e29b286b2da7",
   "metadata": {},
   "source": [
    "***"
   ]
  },
  {
   "cell_type": "markdown",
   "id": "413bfcf2-b24f-4cc3-a713-069c55b4b1d1",
   "metadata": {},
   "source": [
    "Method Overriding in Polymorphism"
   ]
  },
  {
   "cell_type": "markdown",
   "id": "8e750ab3",
   "metadata": {},
   "source": [
    "This occurs when a subclass provides a specific implementation of a method that is already defined in its superclass."
   ]
  },
  {
   "cell_type": "code",
   "execution_count": 22,
   "id": "e9ebd341-48f9-49f3-9f8b-3a8a535419b3",
   "metadata": {},
   "outputs": [],
   "source": [
    "class Animal:\n",
    "    def sound(self):\n",
    "        return \"Animal Sounds\"\n",
    "\n",
    "class Dog(Animal):\n",
    "    #pass\n",
    "    def sound(self):\n",
    "        return \"Barks\"\n",
    "    \n",
    "class Lion(Animal):\n",
    "    def sound(self):\n",
    "       return \"Roars\""
   ]
  },
  {
   "cell_type": "code",
   "execution_count": 23,
   "id": "cc574646",
   "metadata": {},
   "outputs": [
    {
     "name": "stdout",
     "output_type": "stream",
     "text": [
      "Barks\n",
      "Roars\n"
     ]
    }
   ],
   "source": [
    "obj = [Dog(), Lion()]\n",
    "for animals in obj:\n",
    "    print(animals.sound())"
   ]
  },
  {
   "cell_type": "markdown",
   "id": "ef182509",
   "metadata": {},
   "source": [
    "Task : demonstrate how different types of vehicles (e.g., cars, trucks, motorcycles) can be managed through a common interface"
   ]
  },
  {
   "cell_type": "markdown",
   "id": "7b00939c",
   "metadata": {},
   "source": [
    "1. Define the Abstract Base Class"
   ]
  },
  {
   "cell_type": "code",
   "execution_count": 24,
   "id": "0a52f91d",
   "metadata": {},
   "outputs": [],
   "source": [
    "from abc import ABC, abstractmethod\n",
    "\n",
    "class Vehicle(ABC):\n",
    "    def __init__(self, make, model, year):\n",
    "        self.make = make\n",
    "        self.model = model\n",
    "        self.year = year\n",
    "\n",
    "    @abstractmethod\n",
    "    def start_engine(self):\n",
    "        pass\n",
    "\n",
    "    @abstractmethod\n",
    "    def stop_engine(self):\n",
    "        pass\n",
    "    \n",
    "    @abstractmethod    \n",
    "    def display_info(self):\n",
    "        pass"
   ]
  },
  {
   "cell_type": "markdown",
   "id": "5a6af1e2",
   "metadata": {},
   "source": [
    "2. Define Derived Classes"
   ]
  },
  {
   "cell_type": "code",
   "execution_count": 25,
   "id": "4c34e489",
   "metadata": {},
   "outputs": [],
   "source": [
    "class Car(Vehicle):\n",
    "    def start_engine(self):\n",
    "        return f\"{self.year} {self.make} {self.model} car engine starts!\"\n",
    "\n",
    "    def stop_engine(self):\n",
    "        return f\"{self.year} {self.make} {self.model} car engine stops.\"\n",
    "\n",
    "    def display_info(self):\n",
    "        return f\"Car - Make: {self.make}, Model: {self.model}, Year: {self.year}\"\n",
    "\n",
    "\n",
    "class Truck(Vehicle):\n",
    "    def start_engine(self):\n",
    "        return f\"{self.year} {self.make} {self.model} truck engine starts\"\n",
    "\n",
    "    def stop_engine(self):\n",
    "        return f\"{self.year} {self.make} {self.model} truck engine stops\"\n",
    "\n",
    "    def display_info(self):\n",
    "        return f\"Truck - Make: {self.make}, Model: {self.model}, Year: {self.year}\"\n",
    "\n",
    "\n",
    "class Motorcycle(Vehicle):\n",
    "    def start_engine(self):\n",
    "        return f\"{self.year} {self.make} {self.model} motorcycle engine starts\"\n",
    "\n",
    "    def stop_engine(self):\n",
    "        return f\"{self.year} {self.make} {self.model} motorcycle engine stops\"\n",
    "\n",
    "    def display_info(self):\n",
    "        return f\"Motorcycle - Make: {self.make}, Model: {self.model}, Year: {self.year}\""
   ]
  },
  {
   "cell_type": "code",
   "execution_count": 26,
   "id": "3955c6cc",
   "metadata": {},
   "outputs": [],
   "source": [
    "# create unified interface to start the engine of vehicles through Function"
   ]
  },
  {
   "cell_type": "code",
   "execution_count": 27,
   "id": "e5d6e1f2",
   "metadata": {},
   "outputs": [],
   "source": [
    "def ignite(vehi):\n",
    "    print(vehi.start_engine())"
   ]
  },
  {
   "cell_type": "code",
   "execution_count": 28,
   "id": "ef341b4f",
   "metadata": {},
   "outputs": [
    {
     "name": "stdout",
     "output_type": "stream",
     "text": [
      "2024 Maruthi Swift car engine starts!\n"
     ]
    }
   ],
   "source": [
    "ignite(Car(\"Maruthi\", \"Swift\", 2024))"
   ]
  },
  {
   "cell_type": "code",
   "execution_count": 29,
   "id": "b92b6f4d",
   "metadata": {},
   "outputs": [
    {
     "name": "stdout",
     "output_type": "stream",
     "text": [
      "2024 Swaraj Mazda truck engine starts\n"
     ]
    }
   ],
   "source": [
    "ignite(Truck(\"Swaraj\", \"Mazda\", 2024))"
   ]
  },
  {
   "cell_type": "code",
   "execution_count": 30,
   "id": "fe676c01",
   "metadata": {},
   "outputs": [
    {
     "name": "stdout",
     "output_type": "stream",
     "text": [
      "2000 Honda Shine motorcycle engine starts\n"
     ]
    }
   ],
   "source": [
    "ignite(Motorcycle(\"Honda\", \"Shine\", 2000))"
   ]
  },
  {
   "cell_type": "code",
   "execution_count": 31,
   "id": "4972642f",
   "metadata": {},
   "outputs": [],
   "source": [
    "# create unified interface to start the engine of vehicles through List and Iteration"
   ]
  },
  {
   "cell_type": "markdown",
   "id": "3d8c02cd",
   "metadata": {},
   "source": [
    "Function to manage the vehicles and display their information using polymorphism."
   ]
  },
  {
   "cell_type": "code",
   "execution_count": 32,
   "id": "3a2c62ce",
   "metadata": {},
   "outputs": [],
   "source": [
    "garage = [Car(\"Maruthi\", \"Swift\", 2024), Truck(\"Swaraj\", \"Mazda\", 2024), Motorcycle(\"Honda\", \"Shine\", 2000)]"
   ]
  },
  {
   "cell_type": "code",
   "execution_count": 33,
   "id": "e5c0ae95",
   "metadata": {},
   "outputs": [
    {
     "name": "stdout",
     "output_type": "stream",
     "text": [
      "2024 Maruthi Swift car engine starts!\n",
      "2024 Swaraj Mazda truck engine starts\n",
      "2000 Honda Shine motorcycle engine starts\n"
     ]
    }
   ],
   "source": [
    "for vehicle in garage:\n",
    "    print(vehicle.start_engine())"
   ]
  },
  {
   "cell_type": "code",
   "execution_count": 34,
   "id": "6632c134",
   "metadata": {},
   "outputs": [
    {
     "name": "stdout",
     "output_type": "stream",
     "text": [
      "2024 Maruthi Swift car engine starts!\n",
      "2024 Maruthi Swift car engine stops.\n",
      "----------------------\n",
      "2024 Swaraj Mazda truck engine starts\n",
      "2024 Swaraj Mazda truck engine stops\n",
      "----------------------\n",
      "2000 Honda Shine motorcycle engine starts\n",
      "2000 Honda Shine motorcycle engine stops\n",
      "----------------------\n"
     ]
    }
   ],
   "source": [
    "for vehicle in garage:\n",
    "    print(vehicle.start_engine())\n",
    "    print(vehicle.stop_engine())\n",
    "    print('----------------------')"
   ]
  },
  {
   "cell_type": "code",
   "execution_count": 35,
   "id": "2afdd621",
   "metadata": {},
   "outputs": [
    {
     "name": "stdout",
     "output_type": "stream",
     "text": [
      "Car - Make: Maruthi, Model: Swift, Year: 2024\n",
      "Truck - Make: Swaraj, Model: Mazda, Year: 2024\n",
      "Motorcycle - Make: Honda, Model: Shine, Year: 2000\n"
     ]
    }
   ],
   "source": [
    "for vehicle in garage:\n",
    "    print(vehicle.display_info())"
   ]
  }
 ],
 "metadata": {
  "kernelspec": {
   "display_name": "base",
   "language": "python",
   "name": "python3"
  },
  "language_info": {
   "codemirror_mode": {
    "name": "ipython",
    "version": 3
   },
   "file_extension": ".py",
   "mimetype": "text/x-python",
   "name": "python",
   "nbconvert_exporter": "python",
   "pygments_lexer": "ipython3",
   "version": "3.12.4"
  }
 },
 "nbformat": 4,
 "nbformat_minor": 5
}
