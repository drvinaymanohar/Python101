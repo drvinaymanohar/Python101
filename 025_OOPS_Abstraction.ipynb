{
 "cells": [
  {
   "cell_type": "markdown",
   "id": "6273eeda",
   "metadata": {},
   "source": [
    "# OOPS\n",
    "1. Encapsulation \n",
    "2. Inheritance\n",
    "3. Abstraction"
   ]
  },
  {
   "cell_type": "markdown",
   "id": "fa77806b",
   "metadata": {},
   "source": [
    "#### Abstraction"
   ]
  },
  {
   "cell_type": "markdown",
   "id": "00f5f4e6",
   "metadata": {},
   "source": [
    "Abstraction in Python is a fundamental concept in object-oriented programming. Creating abstract classes is beneficial when you want to define a common structure and behavior across multiple related classes while ensuring that certain methods are implemented by all subclasses. Abstract classes act as a contract/standards that enforces specific functionality across different objects. \n",
    "\n",
    "When to Use Abstract Classes\n",
    "- Use abstract classes when you have a common interface or blueprint that multiple classes should follow.\n",
    "- When designing a framework where you want to define specific methods that derived classes must implement.\n",
    "- When you want to provide a common, reusable set of behaviors or properties that subclasses can inherit."
   ]
  },
  {
   "cell_type": "markdown",
   "id": "5f063dab",
   "metadata": {},
   "source": [
    "##### Abstract Classes"
   ]
  },
  {
   "cell_type": "markdown",
   "id": "5255a15f",
   "metadata": {},
   "source": [
    "Python provides the abc (Abstract Base Class) module, which enables the creation of abstract classes and abstract methods. Abstract classes serve as blueprints for other classes, enforcing certain methods without providing their implementation. Abstract methods are defined in the abstract class but must be implemented in subclasses."
   ]
  },
  {
   "cell_type": "code",
   "execution_count": 28,
   "id": "95430ed1",
   "metadata": {},
   "outputs": [],
   "source": [
    "# importing\n",
    "# 1. ABC Abstract Base Class\n",
    "# 2. abstractmethod\n",
    "\n",
    "\n",
    "from abc import ABC, abstractmethod\n",
    "\n",
    "\n",
    "# ABC is for creating blueprint for class\n",
    "# abstractmethod is a decorator for enforcing the method presence"
   ]
  },
  {
   "cell_type": "markdown",
   "id": "c0cb434a",
   "metadata": {},
   "source": [
    "#### Example 1"
   ]
  },
  {
   "cell_type": "code",
   "execution_count": 55,
   "id": "d6e7570c",
   "metadata": {},
   "outputs": [],
   "source": [
    "# Abstract Class with the abc Module\n",
    "# Assume we are creating a BIS standard for manufacturing cars!\n",
    "# Blueprint\n",
    "\n",
    "from abc import ABC, abstractmethod\n",
    "\n",
    "\n",
    "\n",
    "class Vehicle(ABC): # Abstract class\n",
    "\n",
    "    @abstractmethod\n",
    "    def start_engine(self): # Abstract Method, this is compulsary when you develop any vehicle\n",
    "        pass\n",
    "\n",
    "    @abstractmethod\n",
    "    def stop_engine(self): # Abstract class, this is compulsary when you develop any vehicle\n",
    "        pass\n",
    "    \n",
    "    @abstractmethod\n",
    "    def airbags(self):\n",
    "        pass\n",
    " \n",
    "    def sunroof(self):\n",
    "        pass\n",
    "  \n",
    "    def fuel_level(self):\n",
    "        return \"Fuel level is 50%\""
   ]
  },
  {
   "cell_type": "code",
   "execution_count": 56,
   "id": "43fd7cfb",
   "metadata": {},
   "outputs": [],
   "source": [
    "# lets assume we are manufacturing car\n",
    "\n",
    "class Car(Vehicle):\n",
    "    def start_engine(self):\n",
    "        return \"Engine has started\"\n",
    "    \n",
    "    def stop_engine(self):\n",
    "        return \"Engine has stopped\"\n",
    "    \n",
    "    def airbags(self):\n",
    "        return \"Airbag are fitted\""
   ]
  },
  {
   "cell_type": "code",
   "execution_count": 57,
   "id": "66a29a43",
   "metadata": {},
   "outputs": [],
   "source": [
    "swift = Car()"
   ]
  },
  {
   "cell_type": "code",
   "execution_count": 58,
   "id": "7ea430e5",
   "metadata": {},
   "outputs": [],
   "source": [
    "# lets build the blue print for heavy vehicle\n",
    "\n",
    "class HeavyVehicle(ABC):\n",
    "    @abstractmethod\n",
    "    def start_engine(self):\n",
    "        return \"Engine Started\"\n",
    "    \n",
    "    @abstractmethod\n",
    "    def stop_engine(self):\n",
    "        return \"Engine Stopped\"\n",
    "    \n",
    "    def hydraulic(self):\n",
    "        return \"Hydraulic Facility\"\n",
    "    \n",
    "    @abstractmethod\n",
    "    def fuel_gauge(self):\n",
    "        return \"Hydraulic Facility\"\n",
    "    \n",
    "    @abstractmethod\n",
    "    def speed_governer(self):\n",
    "        return \"Speed Governer Impliment\""
   ]
  },
  {
   "cell_type": "code",
   "execution_count": 59,
   "id": "bd467bad",
   "metadata": {},
   "outputs": [],
   "source": [
    "# Lets a trunk (Swaraj Mazda)\n",
    "\n",
    "class swaraj(HeavyVehicle):\n",
    "    def hydraulic(self):\n",
    "        return \"Hydraulic Facility\""
   ]
  },
  {
   "cell_type": "code",
   "execution_count": 60,
   "id": "d9593b63",
   "metadata": {},
   "outputs": [
    {
     "ename": "TypeError",
     "evalue": "Can't instantiate abstract class swaraj without an implementation for abstract methods 'fuel_gauge', 'speed_governer', 'start_engine', 'stop_engine'",
     "output_type": "error",
     "traceback": [
      "\u001b[1;31m---------------------------------------------------------------------------\u001b[0m",
      "\u001b[1;31mTypeError\u001b[0m                                 Traceback (most recent call last)",
      "Cell \u001b[1;32mIn[60], line 1\u001b[0m\n\u001b[1;32m----> 1\u001b[0m truck1 \u001b[38;5;241m=\u001b[39m swaraj()\n",
      "\u001b[1;31mTypeError\u001b[0m: Can't instantiate abstract class swaraj without an implementation for abstract methods 'fuel_gauge', 'speed_governer', 'start_engine', 'stop_engine'"
     ]
    }
   ],
   "source": [
    "truck1 = swaraj()"
   ]
  },
  {
   "cell_type": "code",
   "execution_count": 2,
   "id": "5af12b5b",
   "metadata": {},
   "outputs": [],
   "source": [
    "# Subclass an Abstract Class\n",
    "\n",
    "class Car(Vehicle):\n",
    "    def start_engine(self):\n",
    "        return \"Car engine started\"\n",
    "\n",
    "    def stop_engine(self):\n",
    "        return \"Car engine stopped\""
   ]
  },
  {
   "cell_type": "code",
   "execution_count": 3,
   "id": "d78c24c5",
   "metadata": {},
   "outputs": [],
   "source": [
    "car = Car()"
   ]
  },
  {
   "cell_type": "code",
   "execution_count": 4,
   "id": "adb2df8c",
   "metadata": {},
   "outputs": [
    {
     "data": {
      "text/plain": [
       "'Car engine started'"
      ]
     },
     "execution_count": 4,
     "metadata": {},
     "output_type": "execute_result"
    }
   ],
   "source": [
    "car.start_engine()"
   ]
  },
  {
   "cell_type": "code",
   "execution_count": 5,
   "id": "8e67b88a",
   "metadata": {},
   "outputs": [
    {
     "data": {
      "text/plain": [
       "'Car engine stopped'"
      ]
     },
     "execution_count": 5,
     "metadata": {},
     "output_type": "execute_result"
    }
   ],
   "source": [
    "car.stop_engine()"
   ]
  },
  {
   "cell_type": "markdown",
   "id": "640662f3",
   "metadata": {},
   "source": [
    "***"
   ]
  },
  {
   "cell_type": "markdown",
   "id": "da34dcc7",
   "metadata": {},
   "source": [
    "If you fail to implement any abstract method, Python will raise an error."
   ]
  },
  {
   "cell_type": "code",
   "execution_count": 6,
   "id": "cd3fa225",
   "metadata": {},
   "outputs": [],
   "source": [
    "# Subclassing an Abstract Class\n",
    "\n",
    "class Car(Vehicle):\n",
    "    def start_engine(self):\n",
    "        return \"Car engine started\""
   ]
  },
  {
   "cell_type": "code",
   "execution_count": 7,
   "id": "07ecd125",
   "metadata": {},
   "outputs": [
    {
     "ename": "TypeError",
     "evalue": "Can't instantiate abstract class Car without an implementation for abstract method 'stop_engine'",
     "output_type": "error",
     "traceback": [
      "\u001b[1;31m---------------------------------------------------------------------------\u001b[0m",
      "\u001b[1;31mTypeError\u001b[0m                                 Traceback (most recent call last)",
      "Cell \u001b[1;32mIn[7], line 1\u001b[0m\n\u001b[1;32m----> 1\u001b[0m car \u001b[38;5;241m=\u001b[39m Car()\n",
      "\u001b[1;31mTypeError\u001b[0m: Can't instantiate abstract class Car without an implementation for abstract method 'stop_engine'"
     ]
    }
   ],
   "source": [
    "car = Car()"
   ]
  },
  {
   "cell_type": "markdown",
   "id": "f83027a9",
   "metadata": {},
   "source": [
    "#### Example 2"
   ]
  },
  {
   "cell_type": "markdown",
   "id": "3f7023a2",
   "metadata": {},
   "source": [
    "Using Abstract Classes to Enforce Method Presence"
   ]
  },
  {
   "cell_type": "markdown",
   "id": "a24efc2d",
   "metadata": {},
   "source": [
    "Abstract classes are especially useful for enforcing method presence across different subclasses. This is helpful in scenarios where you have different types of objects that should all support a certain interface but may have varying implementations.\n",
    "\n",
    "For example, if you’re building a media player with classes like `AudioPlayer`, `VideoPlayer`, and `StreamPlayer`, each player type should have methods like play, pause, and stop. By defining an abstract MediaPlayer class with these abstract methods, you ensure that each subclass will implement them."
   ]
  },
  {
   "cell_type": "code",
   "execution_count": 61,
   "id": "8ab04cb5",
   "metadata": {},
   "outputs": [],
   "source": [
    "# media player is a blueprint\n",
    "# Google Play Store\n",
    "# Google has created a abstract, if you want to develop any media player, then you should impliment following abstractmethod\n",
    "\n",
    "from abc import ABC, abstractmethod\n",
    "\n",
    "class MediaPlayer(ABC):\n",
    "    @abstractmethod\n",
    "    def play(self):\n",
    "        pass\n",
    "\n",
    "    @abstractmethod\n",
    "    def pause(self):\n",
    "        pass\n",
    "\n",
    "    @abstractmethod\n",
    "    def stop(self):\n",
    "        pass"
   ]
  },
  {
   "cell_type": "code",
   "execution_count": 67,
   "id": "bddc3250",
   "metadata": {},
   "outputs": [],
   "source": [
    "# developer - sanjay (trying to build Audio player)\n",
    "# according to term and condition by google, we have to follow blueprint Mediaplayer\n",
    "\n",
    "\n",
    "class AudioPlayer(MediaPlayer):\n",
    "\n",
    "    def play(self):\n",
    "        return \"Playing audio\"\n",
    "\n",
    "    def pause(self):\n",
    "        return \"Pausing audio\"\n",
    "\n",
    "    def stop(self):\n",
    "        return \"Stopping audio\"\n",
    "    \n",
    "    def fm(self):\n",
    "        return \"FM Playing\"\n",
    "    \n",
    "    def karoake(self):\n",
    "        return \"Plug the mic\"\n",
    "    \n",
    "    def increase_speed(self):\n",
    "        return \"Track rate is increased\""
   ]
  },
  {
   "cell_type": "code",
   "execution_count": 68,
   "id": "55b93da0",
   "metadata": {},
   "outputs": [],
   "source": [
    "winamp = AudioPlayer()"
   ]
  },
  {
   "cell_type": "code",
   "execution_count": 69,
   "id": "aa832a2c",
   "metadata": {},
   "outputs": [],
   "source": [
    "#developer2 - sruthi, video player\n",
    "\n",
    "class VideoPlayer(MediaPlayer):\n",
    "    def play(self):\n",
    "        return \"Playing video\"\n",
    "\n",
    "    def pause(self):\n",
    "        return \"Pausing video\"\n",
    "\n",
    "    def stop(self):\n",
    "        return \"Stopping video\"\n",
    "    \n",
    "    def change_aspect(self):\n",
    "        return \"Select Aspect\"\n",
    "    \n",
    "    def increase_speed(self):\n",
    "        return \"Video playing 2x speed\""
   ]
  },
  {
   "cell_type": "code",
   "execution_count": 70,
   "id": "3659378e",
   "metadata": {},
   "outputs": [],
   "source": [
    "vlc = VideoPlayer()"
   ]
  },
  {
   "cell_type": "code",
   "execution_count": 10,
   "id": "60b31b22",
   "metadata": {},
   "outputs": [],
   "source": [
    "audio = AudioPlayer()"
   ]
  },
  {
   "cell_type": "code",
   "execution_count": 11,
   "id": "30177919",
   "metadata": {},
   "outputs": [],
   "source": [
    "video = VideoPlayer()"
   ]
  },
  {
   "cell_type": "markdown",
   "id": "63aecf9f",
   "metadata": {},
   "source": [
    "#### Abstract Classes with Default Methods"
   ]
  },
  {
   "cell_type": "markdown",
   "id": "2d8e9df6",
   "metadata": {},
   "source": [
    "Abstract classes can contain concrete(default) methods that provide default behavior, while allowing subclasses to override these methods if needed.\n"
   ]
  },
  {
   "cell_type": "code",
   "execution_count": 112,
   "id": "2d5c9e4d",
   "metadata": {},
   "outputs": [],
   "source": [
    "from abc import ABC, abstractmethod\n",
    "\n",
    "class PaymentProcessor(ABC):\n",
    "\n",
    "    @abstractmethod\n",
    "    def process_payment(self, amount):\n",
    "        pass\n",
    "    \n",
    "    def transaction_fee(self):\n",
    "        return \"Standard transaction fee applied\"\n",
    "\n",
    "\n",
    "class CreditCardProcessor(PaymentProcessor):\n",
    "    def process_payment(self, amount):\n",
    "        return f\"Processing credit card payment of {amount}\"\n",
    "\n",
    "\n",
    "class PayPalProcessor(PaymentProcessor):\n",
    "    def process_payment(self, amount):\n",
    "        return f\"Processing PayPal payment of {amount}\"\n",
    "    \n",
    "\n",
    "class BitCoinProcessor(PaymentProcessor):\n",
    "    def process_payment(self, amount):\n",
    "        return f\"Processing Bitcoin payment of {amount}\"\n",
    "    \n",
    "class RuPay(PaymentProcessor):\n",
    "    def process_payment(self, amount):\n",
    "        return f\"Processing Rupay payment of {amount}\"\n",
    "    \n",
    "    def transaction_fee(self):\n",
    "        return \"Standard transaction fee is levied\""
   ]
  },
  {
   "cell_type": "code",
   "execution_count": 113,
   "id": "79140c96",
   "metadata": {},
   "outputs": [],
   "source": [
    "cc = CreditCardProcessor()"
   ]
  },
  {
   "cell_type": "code",
   "execution_count": 114,
   "id": "fc174385",
   "metadata": {},
   "outputs": [
    {
     "data": {
      "text/plain": [
       "'Standard transaction fee applied'"
      ]
     },
     "execution_count": 114,
     "metadata": {},
     "output_type": "execute_result"
    }
   ],
   "source": [
    "cc.transaction_fee()"
   ]
  },
  {
   "cell_type": "code",
   "execution_count": 115,
   "id": "901b6ac8",
   "metadata": {},
   "outputs": [],
   "source": [
    "pp = PayPalProcessor()"
   ]
  },
  {
   "cell_type": "code",
   "execution_count": 116,
   "id": "e80e34f4",
   "metadata": {},
   "outputs": [
    {
     "data": {
      "text/plain": [
       "'Standard transaction fee applied'"
      ]
     },
     "execution_count": 116,
     "metadata": {},
     "output_type": "execute_result"
    }
   ],
   "source": [
    "pp.transaction_fee()"
   ]
  },
  {
   "cell_type": "code",
   "execution_count": 117,
   "id": "47022929",
   "metadata": {},
   "outputs": [],
   "source": [
    "btc = BitCoinProcessor()"
   ]
  },
  {
   "cell_type": "code",
   "execution_count": 118,
   "id": "99f86a83",
   "metadata": {},
   "outputs": [
    {
     "data": {
      "text/plain": [
       "'Standard transaction fee applied'"
      ]
     },
     "execution_count": 118,
     "metadata": {},
     "output_type": "execute_result"
    }
   ],
   "source": [
    "btc.transaction_fee()"
   ]
  },
  {
   "cell_type": "code",
   "execution_count": 119,
   "id": "028b6fe1",
   "metadata": {},
   "outputs": [],
   "source": [
    "rp = RuPay()"
   ]
  },
  {
   "cell_type": "code",
   "execution_count": 120,
   "id": "ce252386",
   "metadata": {},
   "outputs": [
    {
     "data": {
      "text/plain": [
       "'Standard transaction fee is levied'"
      ]
     },
     "execution_count": 120,
     "metadata": {},
     "output_type": "execute_result"
    }
   ],
   "source": [
    "rp.transaction_fee()"
   ]
  },
  {
   "cell_type": "markdown",
   "id": "df32bbcd",
   "metadata": {},
   "source": [
    "#### Example"
   ]
  },
  {
   "cell_type": "code",
   "execution_count": 121,
   "id": "2f896708",
   "metadata": {},
   "outputs": [],
   "source": [
    "from abc import ABC, abstractmethod\n",
    "\n",
    "class Transaction(ABC):\n",
    "    @abstractmethod\n",
    "    def process_payment(self):\n",
    "        pass\n",
    "\n",
    "    @abstractmethod\n",
    "    def verify_credentials(self):\n",
    "        pass\n",
    "       \n",
    "    def processing_fee(self):\n",
    "        return \"Processing fee is applicable\"\n",
    "\n",
    "class Neft(Transaction):\n",
    "    def process_payment(self):\n",
    "        return \"Payment Processed through neft\"\n",
    "    \n",
    "    def verify_credentials(self):\n",
    "        return \"Credential Verified for neft\"\n",
    "    \n",
    "class Rtgs(Transaction):\n",
    "    def process_payment(self):\n",
    "        return \"Payment Processed through rtgs\"\n",
    "    \n",
    "    def verify_credentials(self):\n",
    "        return \"Credential Verified for rtgs\"\n",
    "    \n",
    "class Imps(Transaction):\n",
    "    def process_payment(self):\n",
    "        return \"Payment Processed through imps\"\n",
    "    \n",
    "    def verify_credentials(self):\n",
    "        return \"Credential Verified for imps\""
   ]
  },
  {
   "cell_type": "code",
   "execution_count": 122,
   "id": "c50e12f6",
   "metadata": {},
   "outputs": [],
   "source": [
    "neft = Neft()"
   ]
  },
  {
   "cell_type": "code",
   "execution_count": 123,
   "id": "56117577",
   "metadata": {},
   "outputs": [
    {
     "data": {
      "text/plain": [
       "'Credential Verified for neft'"
      ]
     },
     "execution_count": 123,
     "metadata": {},
     "output_type": "execute_result"
    }
   ],
   "source": [
    "neft.verify_credentials()"
   ]
  },
  {
   "cell_type": "code",
   "execution_count": 124,
   "id": "069a5dde",
   "metadata": {},
   "outputs": [
    {
     "data": {
      "text/plain": [
       "'Payment Processed through neft'"
      ]
     },
     "execution_count": 124,
     "metadata": {},
     "output_type": "execute_result"
    }
   ],
   "source": [
    "neft.process_payment()"
   ]
  },
  {
   "cell_type": "code",
   "execution_count": 125,
   "id": "323c8320",
   "metadata": {},
   "outputs": [
    {
     "data": {
      "text/plain": [
       "'Processing fee is applicable'"
      ]
     },
     "execution_count": 125,
     "metadata": {},
     "output_type": "execute_result"
    }
   ],
   "source": [
    "neft.processing_fee()"
   ]
  },
  {
   "cell_type": "code",
   "execution_count": null,
   "id": "f8a9a662",
   "metadata": {},
   "outputs": [],
   "source": [
    "# If you try to Instantiate ABC"
   ]
  },
  {
   "cell_type": "code",
   "execution_count": 126,
   "id": "5dcb8206",
   "metadata": {},
   "outputs": [
    {
     "ename": "TypeError",
     "evalue": "Can't instantiate abstract class Transaction without an implementation for abstract methods 'process_payment', 'verify_credentials'",
     "output_type": "error",
     "traceback": [
      "\u001b[1;31m---------------------------------------------------------------------------\u001b[0m",
      "\u001b[1;31mTypeError\u001b[0m                                 Traceback (most recent call last)",
      "Cell \u001b[1;32mIn[126], line 1\u001b[0m\n\u001b[1;32m----> 1\u001b[0m trans \u001b[38;5;241m=\u001b[39m Transaction()\n",
      "\u001b[1;31mTypeError\u001b[0m: Can't instantiate abstract class Transaction without an implementation for abstract methods 'process_payment', 'verify_credentials'"
     ]
    }
   ],
   "source": [
    "trans = Transaction()"
   ]
  },
  {
   "cell_type": "markdown",
   "id": "020af35c",
   "metadata": {},
   "source": [
    "#### Project :: Amazon Warehouse Management System"
   ]
  },
  {
   "cell_type": "markdown",
   "id": "f290a284",
   "metadata": {},
   "source": [
    "1. Import Abstract Base Class (ABC)"
   ]
  },
  {
   "cell_type": "code",
   "execution_count": 127,
   "id": "082fa7da",
   "metadata": {},
   "outputs": [],
   "source": [
    "# Abstraction Concept from OOPS\n",
    "\n",
    "from abc import ABC, abstractmethod"
   ]
  },
  {
   "cell_type": "markdown",
   "id": "0eef890b",
   "metadata": {},
   "source": [
    "2. Define the Abstract Base Class"
   ]
  },
  {
   "cell_type": "code",
   "execution_count": 157,
   "id": "29531c2b",
   "metadata": {},
   "outputs": [],
   "source": [
    "class Product(ABC):\n",
    "\n",
    "    # collecting the attributes\n",
    "    def __init__(self, name, price, quantity):\n",
    "        self.name = name # Instance Attributes\n",
    "        self.price = price # Instance Attributes # Encapsulation\n",
    "        self.quantity = quantity # Instance Attributes\n",
    "\n",
    "    # enforcing the method for all products\n",
    "    @abstractmethod\n",
    "    def get_total_price(self):\n",
    "        pass\n",
    "\n",
    "    # enforcing the method for all products    \n",
    "    @abstractmethod\n",
    "    def display_info(self):\n",
    "        pass"
   ]
  },
  {
   "cell_type": "markdown",
   "id": "1677ac38",
   "metadata": {},
   "source": [
    "3. Define Derived Classes"
   ]
  },
  {
   "cell_type": "code",
   "execution_count": 158,
   "id": "cd526f0f",
   "metadata": {},
   "outputs": [],
   "source": [
    "class Electronics(Product):\n",
    "    def __init__(self, name, price, quantity, brand): #4 \n",
    "        super().__init__(name, price, quantity) # Instance Attribute Inheritance from Super Class\n",
    "        self.brand = brand\n",
    "    \n",
    "    def get_total_price(self):\n",
    "        return self.price * self.quantity\n",
    "\n",
    "    def display_info(self):\n",
    "        return f\"Electronics - Name: {self.name}, Brand: {self.brand}, Price: {self.price}, Quantity: {self.quantity}, Total Price: {self.get_total_price()}\""
   ]
  },
  {
   "cell_type": "code",
   "execution_count": 159,
   "id": "d9c7034b",
   "metadata": {},
   "outputs": [],
   "source": [
    "prod1 = Electronics('Inspiron', 56000, 4, 'Dell')"
   ]
  },
  {
   "cell_type": "code",
   "execution_count": 160,
   "id": "af0c9e5d",
   "metadata": {},
   "outputs": [
    {
     "data": {
      "text/plain": [
       "'Inspiron'"
      ]
     },
     "execution_count": 160,
     "metadata": {},
     "output_type": "execute_result"
    }
   ],
   "source": [
    "prod1.name"
   ]
  },
  {
   "cell_type": "code",
   "execution_count": 162,
   "id": "c03293fa",
   "metadata": {},
   "outputs": [
    {
     "data": {
      "text/plain": [
       "56000"
      ]
     },
     "execution_count": 162,
     "metadata": {},
     "output_type": "execute_result"
    }
   ],
   "source": [
    "prod1.price"
   ]
  },
  {
   "cell_type": "code",
   "execution_count": 163,
   "id": "e9bad559",
   "metadata": {},
   "outputs": [
    {
     "data": {
      "text/plain": [
       "224000"
      ]
     },
     "execution_count": 163,
     "metadata": {},
     "output_type": "execute_result"
    }
   ],
   "source": [
    "prod1.get_total_price()"
   ]
  },
  {
   "cell_type": "code",
   "execution_count": 164,
   "id": "5f72ddeb",
   "metadata": {},
   "outputs": [
    {
     "data": {
      "text/plain": [
       "'Electronics - Name: Inspiron, Brand: Dell, Price: 56000, Quantity: 4, Total Price: 224000'"
      ]
     },
     "execution_count": 164,
     "metadata": {},
     "output_type": "execute_result"
    }
   ],
   "source": [
    "prod1.display_info()"
   ]
  }
 ],
 "metadata": {
  "kernelspec": {
   "display_name": "base",
   "language": "python",
   "name": "python3"
  },
  "language_info": {
   "codemirror_mode": {
    "name": "ipython",
    "version": 3
   },
   "file_extension": ".py",
   "mimetype": "text/x-python",
   "name": "python",
   "nbconvert_exporter": "python",
   "pygments_lexer": "ipython3",
   "version": "3.12.4"
  }
 },
 "nbformat": 4,
 "nbformat_minor": 5
}
