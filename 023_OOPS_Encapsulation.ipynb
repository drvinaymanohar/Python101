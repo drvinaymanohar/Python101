{
 "cells": [
  {
   "cell_type": "markdown",
   "id": "a0e6f890",
   "metadata": {},
   "source": [
    "#### Pillars of OOPS"
   ]
  },
  {
   "cell_type": "markdown",
   "id": "92998d1f",
   "metadata": {},
   "source": [
    "#### `Four pillars` of `Object-Oriented Programming (OOP)` are:\n",
    "\n",
    "- `Encapsulation:` This principle involves bundling the data (attributes) and the methods (functions) that operate on the data into a single unit, known as a class. Encapsulation restricts direct access to some of the object’s components, which helps to protect the data and maintain control over how it's modified.\n",
    "\n",
    "- `Inheritance:` This allows one class to inherit the attributes and methods of another class. It promotes code reusability by enabling the creation of new classes based on existing ones, allowing for hierarchical relationships.\n",
    "\n",
    "\n",
    "- `Polymorphism:` Polymorphism allows objects of different classes to be treated as objects of a common super class. It enables the same function to be used in different ways, either by method overriding or method overloading.\n",
    "  \n",
    "- `Abstraction:` Abstraction simplifies complex reality by modeling classes based on the essential features while hiding unnecessary details. It allows users to interact with an object without knowing its internal workings."
   ]
  },
  {
   "cell_type": "markdown",
   "id": "860cda93",
   "metadata": {},
   "source": [
    "#### Quick Recap\n",
    "\n",
    "- `Class`\tA blueprint for creating objects. Defines the properties (attributes) and behaviors (methods).\n",
    "- `Object`\tAn instance of a class, containing data and methods that operate on that data.\n",
    "- `Method`\tFunctions defined within a class that represent the behavior of the objects created by that class.\n",
    "- `Attribute`\tVariables that hold data for the object, like name, age, or in our case, make, model, year.\n",
    "- `Inheritance`\tOne class can inherit attributes and methods from another class, promoting code reuse.\n",
    "- `Encapsulation`\tBundling of data (attributes) and methods that operate on the data into one unit (class).\n",
    "- `Polymorphism`\tThe ability of different classes to be treated as instances of the same class through inheritance.\n",
    "- `Abstraction` Abstraction involves hiding complex implementation details and exposing only the essential features of an object. It focuses on what an object does rather than how it does it."
   ]
  },
  {
   "cell_type": "markdown",
   "id": "89216cc1",
   "metadata": {},
   "source": [
    "#### Encapsulation"
   ]
  },
  {
   "cell_type": "markdown",
   "id": "fbc3fe42-6150-498a-9b1a-56029afc2678",
   "metadata": {},
   "source": [
    "`Encapsulation in Python` is all about protecting data and organizing code in a way that’s secure and easy to maintain. It’s a key principle of Object-Oriented Programming (OOP) and ensures that an object’s internal state (data) is hidden from the outside world. This is important because it prevents accidental modification and keeps the code structured and predictable."
   ]
  },
  {
   "cell_type": "markdown",
   "id": "2d295f54-3f50-47a1-96bb-0740b2601ed3",
   "metadata": {},
   "source": [
    "`Step involved in Encapsulation`\n",
    "\n",
    "`Define a class:` Encapsulation begins with creating a class to group related data and methods.\n",
    "\n",
    "`Use private variables:` Make certain attributes private by adding double underscores `(__)` before the attribute name. This will restrict access from outside the class.\n",
    "\n",
    "`Access control:` Provide getter and setter methods to control how attributes are accessed or modified."
   ]
  },
  {
   "cell_type": "markdown",
   "id": "f1816dd5",
   "metadata": {},
   "source": [
    "### Access Control and Data Hiding in Python"
   ]
  },
  {
   "cell_type": "markdown",
   "id": "daf148e8",
   "metadata": {},
   "source": [
    "`Access control` is an essential part of `encapsulation`. It’s what allows you to hide specific data or methods from other parts of the program. This way, you prevent unauthorized changes and keep the integrity of your objects intact.\n",
    "\n",
    "In `Python`, there are `three` levels of `access control`:\n",
    "\n",
    "- `Public`: Attributes and methods accessible from anywhere.\n",
    "- `Protected`: Indicated by a single underscore `(_)`, they are meant to be used within the class and subclasses.\n",
    "- `Private`: Denoted by double underscores `(__)`, accessible only within the class."
   ]
  },
  {
   "cell_type": "markdown",
   "id": "d3bcdffd",
   "metadata": {},
   "source": [
    "`Public` -----> `self.attribute` ----> Accessible From Anywhere\n",
    "\n",
    "`Protected` --> `self._attribute` ---> Within class and subclasses\n",
    "<br>\n",
    "Protected Attributes: Allow access within the class and its subclasses, using a single underscore to indicate that they are intended for internal use only.\n",
    "\n",
    "`Private` ----> `self.__attribute` -->\tOnly within the class itself\n",
    "<br>\n",
    "Private Attributes: Encapsulate data and restrict access to within the class only, using double underscores.\n"
   ]
  },
  {
   "cell_type": "markdown",
   "id": "d4ca410b",
   "metadata": {},
   "source": [
    "#### Example 1\n",
    "#### Public Attribute (Unprotected Data)"
   ]
  },
  {
   "cell_type": "code",
   "execution_count": 13,
   "id": "20e61a5e",
   "metadata": {},
   "outputs": [],
   "source": [
    "class Employee:\n",
    "    def __init__(self, name, salary):\n",
    "        self.name = name #Instance Public Attribute \n",
    "        self.salary = salary #Instance Public Attribute"
   ]
  },
  {
   "cell_type": "code",
   "execution_count": 14,
   "id": "3ff62a3a",
   "metadata": {},
   "outputs": [],
   "source": [
    "# Instantiated the object (emp) based on class (Employee) with two Instance Attribute (name and salary)\n",
    "emp = Employee(\"Vinay\", 50000)"
   ]
  },
  {
   "cell_type": "code",
   "execution_count": 15,
   "id": "6bd9d8a4",
   "metadata": {},
   "outputs": [
    {
     "data": {
      "text/plain": [
       "'Vinay'"
      ]
     },
     "execution_count": 15,
     "metadata": {},
     "output_type": "execute_result"
    }
   ],
   "source": [
    "# name is exposed\n",
    "emp.name"
   ]
  },
  {
   "cell_type": "code",
   "execution_count": 16,
   "id": "1f02d325",
   "metadata": {},
   "outputs": [
    {
     "data": {
      "text/plain": [
       "50000"
      ]
     },
     "execution_count": 16,
     "metadata": {},
     "output_type": "execute_result"
    }
   ],
   "source": [
    "# salary also exposed\n",
    "emp.salary"
   ]
  },
  {
   "cell_type": "code",
   "execution_count": 17,
   "id": "7247bf82",
   "metadata": {},
   "outputs": [],
   "source": [
    "# name can be directly modifiable \n",
    "emp.name = 'Manohar'"
   ]
  },
  {
   "cell_type": "code",
   "execution_count": 18,
   "id": "8658da48",
   "metadata": {},
   "outputs": [
    {
     "data": {
      "text/plain": [
       "'Manohar'"
      ]
     },
     "execution_count": 18,
     "metadata": {},
     "output_type": "execute_result"
    }
   ],
   "source": [
    "# modified name\n",
    "emp.name"
   ]
  },
  {
   "cell_type": "code",
   "execution_count": 19,
   "id": "e17fad7e",
   "metadata": {},
   "outputs": [],
   "source": [
    "# salary is exposed directly when you call\n",
    "emp.salary = 4500"
   ]
  },
  {
   "cell_type": "code",
   "execution_count": 20,
   "id": "cfc2f2c0",
   "metadata": {},
   "outputs": [
    {
     "data": {
      "text/plain": [
       "4500"
      ]
     },
     "execution_count": 20,
     "metadata": {},
     "output_type": "execute_result"
    }
   ],
   "source": [
    "emp.salary"
   ]
  },
  {
   "cell_type": "code",
   "execution_count": null,
   "id": "c8deb1bc",
   "metadata": {},
   "outputs": [],
   "source": [
    "# Conclusion:: The state of the data is directly callable (easily access) and modifiable within the object"
   ]
  },
  {
   "cell_type": "code",
   "execution_count": null,
   "id": "22fcde4f",
   "metadata": {},
   "outputs": [],
   "source": [
    "# Conclusion: It is easy to breach data from object and alter it.\n",
    "# This is not goal of OOPS\n",
    "# OOPS is for giving you additional wings for data protection\n",
    "# Now Encapsulation of OOPS comes into picture\n",
    "# It’s like having a secure and controlled way to interact with the data and functionality encapsulated within an object."
   ]
  },
  {
   "cell_type": "markdown",
   "id": "94a6ee68",
   "metadata": {},
   "source": [
    "Analogy of Encapsulation: Think of a capsule (medicinal pills). The capsule is the outer shell that contains medicine inside. You don’t need to know how the medicine works; you just need to follow the instructions on when and how to take it. The capsule encapsulates the medicine, protecting it and controlling how it is used."
   ]
  },
  {
   "cell_type": "markdown",
   "id": "aed2b0de",
   "metadata": {},
   "source": [
    "#### Private Data (Encapsulated Data)"
   ]
  },
  {
   "cell_type": "code",
   "execution_count": 21,
   "id": "186d7245",
   "metadata": {},
   "outputs": [],
   "source": [
    "class Employee:\n",
    "    def __init__(self, name, salary):\n",
    "        self.name = name # public instance attribute\n",
    "        self.__salary = salary  # Private instance attribute"
   ]
  },
  {
   "cell_type": "code",
   "execution_count": 22,
   "id": "1ebe4d47",
   "metadata": {},
   "outputs": [],
   "source": [
    "# Instantiating object (emp1) based on the class Employee, (name as public, salary as private)\n",
    "emp1 = Employee(\"Sruti\", 50000)"
   ]
  },
  {
   "cell_type": "code",
   "execution_count": 23,
   "id": "c8196c33",
   "metadata": {},
   "outputs": [
    {
     "data": {
      "text/plain": [
       "'Sruti'"
      ]
     },
     "execution_count": 23,
     "metadata": {},
     "output_type": "execute_result"
    }
   ],
   "source": [
    "# try to call name attribute\n",
    "emp1.name"
   ]
  },
  {
   "cell_type": "code",
   "execution_count": 25,
   "id": "63e331dd",
   "metadata": {},
   "outputs": [
    {
     "ename": "AttributeError",
     "evalue": "'Employee' object has no attribute 'salary'",
     "output_type": "error",
     "traceback": [
      "\u001b[1;31m---------------------------------------------------------------------------\u001b[0m",
      "\u001b[1;31mAttributeError\u001b[0m                            Traceback (most recent call last)",
      "Cell \u001b[1;32mIn[25], line 1\u001b[0m\n\u001b[1;32m----> 1\u001b[0m emp1\u001b[38;5;241m.\u001b[39msalary\n",
      "\u001b[1;31mAttributeError\u001b[0m: 'Employee' object has no attribute 'salary'"
     ]
    }
   ],
   "source": [
    "emp1.salary"
   ]
  },
  {
   "cell_type": "code",
   "execution_count": 26,
   "id": "004f78d7",
   "metadata": {},
   "outputs": [
    {
     "ename": "AttributeError",
     "evalue": "'Employee' object has no attribute '__salary'",
     "output_type": "error",
     "traceback": [
      "\u001b[1;31m---------------------------------------------------------------------------\u001b[0m",
      "\u001b[1;31mAttributeError\u001b[0m                            Traceback (most recent call last)",
      "Cell \u001b[1;32mIn[26], line 1\u001b[0m\n\u001b[1;32m----> 1\u001b[0m emp1\u001b[38;5;241m.\u001b[39m__salary\n",
      "\u001b[1;31mAttributeError\u001b[0m: 'Employee' object has no attribute '__salary'"
     ]
    }
   ],
   "source": [
    "emp1.__salary"
   ]
  },
  {
   "cell_type": "code",
   "execution_count": 27,
   "id": "c1763ffe",
   "metadata": {},
   "outputs": [],
   "source": [
    "# Conlusion is, if you add dunder (__) before the variable name, then it will become \"PRIVATE INSTANCE ATTRIBUTE\"\n",
    "# You cannot able to access PRIVATE ATTRIBUTE directly like a PUBLIC ATTRIBUTE\n",
    "# __salary is highly encapsulated (protected againt data breach directly from the object)"
   ]
  },
  {
   "cell_type": "code",
   "execution_count": null,
   "id": "1ddf1885",
   "metadata": {},
   "outputs": [],
   "source": [
    "# To see PRIVATE ATTRIBUTE, you need to define method within class called GETTERS\n",
    "# GETTER METHOD will get the data from PRIVATE ATTRIBUTE\n",
    "\n",
    "\n",
    "# To modify PRIVATE ATTRIBUTE, you need to define method within class called SETTERS\n",
    "# SETTER METHOD will allow you to modify the data from PRIVATE ATTRIBUTE\n",
    "\n",
    "\n",
    "# Still we can able to see or modify the PRIVATE ATTRIBUTE but not directly\n",
    "# But through the GETTERS and SETTERS method written inside the class"
   ]
  },
  {
   "cell_type": "markdown",
   "id": "4dcbbd66",
   "metadata": {},
   "source": [
    "#### Accessing Encapsulated Data using Getters"
   ]
  },
  {
   "cell_type": "code",
   "execution_count": 28,
   "id": "dd9766e3",
   "metadata": {},
   "outputs": [],
   "source": [
    "class Employee:\n",
    "    def __init__(self, name, salary):\n",
    "        self.name = name # Public attribute\n",
    "        self.__salary = salary  # Private attribute\n",
    "\n",
    "    # Getter\n",
    "    def get_salary(self):\n",
    "        return self.__salary"
   ]
  },
  {
   "cell_type": "code",
   "execution_count": 29,
   "id": "939b49b9",
   "metadata": {},
   "outputs": [],
   "source": [
    "# instantiating the object (emp3) based on class (Employee) with Arun as Public and 75000 as private\n",
    "emp3= Employee(\"Arun\", 75000)"
   ]
  },
  {
   "cell_type": "code",
   "execution_count": 31,
   "id": "902b964b",
   "metadata": {},
   "outputs": [
    {
     "data": {
      "text/plain": [
       "'Arun'"
      ]
     },
     "execution_count": 31,
     "metadata": {},
     "output_type": "execute_result"
    }
   ],
   "source": [
    "# Calling a name attribute\n",
    "# we will get the output, because it is a public attribute\n",
    "emp3.name"
   ]
  },
  {
   "cell_type": "code",
   "execution_count": 33,
   "id": "2698c1a3",
   "metadata": {},
   "outputs": [
    {
     "ename": "AttributeError",
     "evalue": "'Employee' object has no attribute 'salary'",
     "output_type": "error",
     "traceback": [
      "\u001b[1;31m---------------------------------------------------------------------------\u001b[0m",
      "\u001b[1;31mAttributeError\u001b[0m                            Traceback (most recent call last)",
      "Cell \u001b[1;32mIn[33], line 3\u001b[0m\n\u001b[0;32m      1\u001b[0m \u001b[38;5;66;03m# calling a salary attribute\u001b[39;00m\n\u001b[0;32m      2\u001b[0m \u001b[38;5;66;03m# it throws an error, because it is private attribute\u001b[39;00m\n\u001b[1;32m----> 3\u001b[0m emp3\u001b[38;5;241m.\u001b[39msalary\n",
      "\u001b[1;31mAttributeError\u001b[0m: 'Employee' object has no attribute 'salary'"
     ]
    }
   ],
   "source": [
    "# calling a salary attribute\n",
    "# it throws an error, because it is private attribute\n",
    "emp3.salary"
   ]
  },
  {
   "cell_type": "code",
   "execution_count": 36,
   "id": "6a62d7da",
   "metadata": {},
   "outputs": [
    {
     "data": {
      "text/plain": [
       "75000"
      ]
     },
     "execution_count": 36,
     "metadata": {},
     "output_type": "execute_result"
    }
   ],
   "source": [
    "# to get the private data, call the getter method implimented inside class (Employee) , get_salary returns the data stored inside self.__salary()\n",
    "\n",
    "emp3.get_salary()"
   ]
  },
  {
   "cell_type": "markdown",
   "id": "27293783",
   "metadata": {},
   "source": [
    "#### Modifying Encapsulated Data using Setters"
   ]
  },
  {
   "cell_type": "code",
   "execution_count": 66,
   "id": "0f582e3e",
   "metadata": {},
   "outputs": [],
   "source": [
    "class Employee:\n",
    "    def __init__(self, name, salary):\n",
    "        self.__name = name # Private attribute\n",
    "        self.__salary = salary  # Private attribute\n",
    "\n",
    "    # getter for salary\n",
    "    def get_salary(self):\n",
    "        return self.__salary\n",
    "\n",
    "    # getter for name\n",
    "    def get_name(self):\n",
    "        return self.__name\n",
    "    \n",
    "    # Setter, remove old value, and set new value\n",
    "    def new_salary(self, newsalary):\n",
    "        self.__salary = newsalary\n",
    "        return self.__salary\n",
    "    \n",
    "    # Setter, to add extra salary for base salary\n",
    "    def increment_salary(self, incrementedSalary):\n",
    "        self.__salary = self.__salary + incrementedSalary\n",
    "        return self.__salary\n",
    "    \n",
    "    # Setter, to decrement the salary\n",
    "    def decrement_salary(self, decrementSalary):\n",
    "        self.__salary = self.__salary - decrementSalary\n",
    "        return self.__salary\n",
    "    \n",
    "    # Setter, add a bonus to base salary\n",
    "    def add_bonus(self, bonusAmount):\n",
    "        self.__salary = self.__salary + bonusAmount\n",
    "        return self.__salary"
   ]
  },
  {
   "cell_type": "code",
   "execution_count": 67,
   "id": "ce7e869f",
   "metadata": {},
   "outputs": [],
   "source": [
    "# instantiating object called obj based on class Employee, both Abdul and 50000 are private attribute\n",
    "obj = Employee(\"Abdul\", 50000)"
   ]
  },
  {
   "cell_type": "code",
   "execution_count": 68,
   "id": "10b53407",
   "metadata": {},
   "outputs": [
    {
     "ename": "AttributeError",
     "evalue": "'Employee' object has no attribute '__name'",
     "output_type": "error",
     "traceback": [
      "\u001b[1;31m---------------------------------------------------------------------------\u001b[0m",
      "\u001b[1;31mAttributeError\u001b[0m                            Traceback (most recent call last)",
      "Cell \u001b[1;32mIn[68], line 1\u001b[0m\n\u001b[1;32m----> 1\u001b[0m obj\u001b[38;5;241m.\u001b[39m__name\n",
      "\u001b[1;31mAttributeError\u001b[0m: 'Employee' object has no attribute '__name'"
     ]
    }
   ],
   "source": [
    "obj.__name"
   ]
  },
  {
   "cell_type": "code",
   "execution_count": 69,
   "id": "a6c86cc9",
   "metadata": {},
   "outputs": [
    {
     "ename": "AttributeError",
     "evalue": "'Employee' object has no attribute '__salary'",
     "output_type": "error",
     "traceback": [
      "\u001b[1;31m---------------------------------------------------------------------------\u001b[0m",
      "\u001b[1;31mAttributeError\u001b[0m                            Traceback (most recent call last)",
      "Cell \u001b[1;32mIn[69], line 2\u001b[0m\n\u001b[0;32m      1\u001b[0m \u001b[38;5;66;03m# this throws error, because of private attribute\u001b[39;00m\n\u001b[1;32m----> 2\u001b[0m obj\u001b[38;5;241m.\u001b[39m__salary\n",
      "\u001b[1;31mAttributeError\u001b[0m: 'Employee' object has no attribute '__salary'"
     ]
    }
   ],
   "source": [
    "# this throws error, because of private attribute\n",
    "obj.__salary"
   ]
  },
  {
   "cell_type": "code",
   "execution_count": 70,
   "id": "6a316bf5",
   "metadata": {},
   "outputs": [
    {
     "data": {
      "text/plain": [
       "'Abdul'"
      ]
     },
     "execution_count": 70,
     "metadata": {},
     "output_type": "execute_result"
    }
   ],
   "source": [
    "# getting the name through getter \n",
    "obj.get_name()"
   ]
  },
  {
   "cell_type": "code",
   "execution_count": 71,
   "id": "bab594a8",
   "metadata": {},
   "outputs": [
    {
     "data": {
      "text/plain": [
       "50000"
      ]
     },
     "execution_count": 71,
     "metadata": {},
     "output_type": "execute_result"
    }
   ],
   "source": [
    "# getting a salary through getter\n",
    "obj.get_salary()"
   ]
  },
  {
   "cell_type": "code",
   "execution_count": 72,
   "id": "cc153b7d",
   "metadata": {},
   "outputs": [
    {
     "data": {
      "text/plain": [
       "55000"
      ]
     },
     "execution_count": 72,
     "metadata": {},
     "output_type": "execute_result"
    }
   ],
   "source": [
    "# Altering salary with new value based on setter\n",
    "\n",
    "obj.new_salary(55000)"
   ]
  },
  {
   "cell_type": "code",
   "execution_count": 73,
   "id": "bbcde619",
   "metadata": {},
   "outputs": [
    {
     "data": {
      "text/plain": [
       "55000"
      ]
     },
     "execution_count": 73,
     "metadata": {},
     "output_type": "execute_result"
    }
   ],
   "source": [
    "obj.get_salary()"
   ]
  },
  {
   "cell_type": "code",
   "execution_count": 74,
   "id": "641148a8",
   "metadata": {},
   "outputs": [
    {
     "data": {
      "text/plain": [
       "100000"
      ]
     },
     "execution_count": 74,
     "metadata": {},
     "output_type": "execute_result"
    }
   ],
   "source": [
    "obj.new_salary(100000)"
   ]
  },
  {
   "cell_type": "code",
   "execution_count": 75,
   "id": "d2d22b16",
   "metadata": {},
   "outputs": [
    {
     "data": {
      "text/plain": [
       "100000"
      ]
     },
     "execution_count": 75,
     "metadata": {},
     "output_type": "execute_result"
    }
   ],
   "source": [
    "obj.get_salary()"
   ]
  },
  {
   "cell_type": "code",
   "execution_count": 76,
   "id": "f479fa55",
   "metadata": {},
   "outputs": [
    {
     "data": {
      "text/plain": [
       "103000"
      ]
     },
     "execution_count": 76,
     "metadata": {},
     "output_type": "execute_result"
    }
   ],
   "source": [
    "# Incrementing base salary with additional amount\n",
    "\n",
    "obj.increment_salary(3000)"
   ]
  },
  {
   "cell_type": "code",
   "execution_count": 77,
   "id": "e0fa11c7",
   "metadata": {},
   "outputs": [
    {
     "data": {
      "text/plain": [
       "103000"
      ]
     },
     "execution_count": 77,
     "metadata": {},
     "output_type": "execute_result"
    }
   ],
   "source": [
    "obj.get_salary()"
   ]
  },
  {
   "cell_type": "code",
   "execution_count": 78,
   "id": "0b0ebf7c",
   "metadata": {},
   "outputs": [
    {
     "data": {
      "text/plain": [
       "73000"
      ]
     },
     "execution_count": 78,
     "metadata": {},
     "output_type": "execute_result"
    }
   ],
   "source": [
    "# decrement the salary\n",
    "\n",
    "obj.decrement_salary(30000)"
   ]
  },
  {
   "cell_type": "code",
   "execution_count": 79,
   "id": "47632ca3",
   "metadata": {},
   "outputs": [
    {
     "data": {
      "text/plain": [
       "73000"
      ]
     },
     "execution_count": 79,
     "metadata": {},
     "output_type": "execute_result"
    }
   ],
   "source": [
    "obj.get_salary()"
   ]
  },
  {
   "cell_type": "code",
   "execution_count": 80,
   "id": "c78c2105",
   "metadata": {},
   "outputs": [
    {
     "data": {
      "text/plain": [
       "73500"
      ]
     },
     "execution_count": 80,
     "metadata": {},
     "output_type": "execute_result"
    }
   ],
   "source": [
    "obj.add_bonus(500)"
   ]
  },
  {
   "cell_type": "markdown",
   "id": "dd8023c0",
   "metadata": {},
   "source": [
    "***"
   ]
  },
  {
   "cell_type": "markdown",
   "id": "46144e4a",
   "metadata": {},
   "source": [
    "#### Example of Protected Attribute"
   ]
  },
  {
   "cell_type": "code",
   "execution_count": null,
   "id": "095dd04a",
   "metadata": {},
   "outputs": [],
   "source": [
    "# Protected Attibutes are not recommended to use"
   ]
  },
  {
   "cell_type": "code",
   "execution_count": 81,
   "id": "a5302877-30da-45bd-a7ef-13ac28ab78f1",
   "metadata": {},
   "outputs": [],
   "source": [
    "class Employee:\n",
    "    def __init__(self, name, salary):\n",
    "        self.name = name  # Public attribute\n",
    "        self.__salary = salary  # Private attribute\n",
    "        self._department = \"IT\"  # Protected attribute\n",
    "\n",
    "    def get_salary(self):  # Getter method\n",
    "        return self.__salary\n",
    "\n",
    "    def set_salary(self, amount):  # Setter method\n",
    "        self.__salary = amount\n",
    "        return self.__salary\n",
    "\n",
    "    def get_department(self):  # Getter for protected attribute\n",
    "        return self._department"
   ]
  },
  {
   "cell_type": "code",
   "execution_count": 82,
   "id": "830aaf81-0379-485a-be12-3cc458c34b7a",
   "metadata": {},
   "outputs": [],
   "source": [
    "# Create an instance of Employee\n",
    "emp = Employee(\"Vinay\", 50000)"
   ]
  },
  {
   "cell_type": "code",
   "execution_count": 83,
   "id": "eddd666a-5069-4628-b95c-ef8c037e5a4d",
   "metadata": {},
   "outputs": [
    {
     "data": {
      "text/plain": [
       "'Vinay'"
      ]
     },
     "execution_count": 83,
     "metadata": {},
     "output_type": "execute_result"
    }
   ],
   "source": [
    "# Accessing public attribute\n",
    "emp.name"
   ]
  },
  {
   "cell_type": "code",
   "execution_count": 84,
   "id": "7bc4b6e4-c509-44ca-8bce-96fd53a025f3",
   "metadata": {},
   "outputs": [
    {
     "ename": "AttributeError",
     "evalue": "'Employee' object has no attribute '__salary'",
     "output_type": "error",
     "traceback": [
      "\u001b[1;31m---------------------------------------------------------------------------\u001b[0m",
      "\u001b[1;31mAttributeError\u001b[0m                            Traceback (most recent call last)",
      "Cell \u001b[1;32mIn[84], line 4\u001b[0m\n\u001b[0;32m      1\u001b[0m \u001b[38;5;66;03m# Trying to access private attribute (will cause an error)\u001b[39;00m\n\u001b[0;32m      2\u001b[0m \u001b[38;5;66;03m# Advantage of private attiribute (Strong Encapsulation)\u001b[39;00m\n\u001b[1;32m----> 4\u001b[0m emp\u001b[38;5;241m.\u001b[39m__salary\n",
      "\u001b[1;31mAttributeError\u001b[0m: 'Employee' object has no attribute '__salary'"
     ]
    }
   ],
   "source": [
    "# Trying to access private attribute (will cause an error)\n",
    "# Advantage of private attiribute (Strong Encapsulation)\n",
    "\n",
    "emp.__salary"
   ]
  },
  {
   "cell_type": "code",
   "execution_count": 85,
   "id": "0b288476-cff6-4ab8-bc87-bd3355ae7ade",
   "metadata": {},
   "outputs": [
    {
     "name": "stdout",
     "output_type": "stream",
     "text": [
      "50000\n"
     ]
    }
   ],
   "source": [
    "# Using getter to access private attribute\n",
    "print(emp.get_salary())"
   ]
  },
  {
   "cell_type": "code",
   "execution_count": 86,
   "id": "eb4195f5-6826-4f0d-b07b-e8bc4fda726a",
   "metadata": {},
   "outputs": [
    {
     "data": {
      "text/plain": [
       "'IT'"
      ]
     },
     "execution_count": 86,
     "metadata": {},
     "output_type": "execute_result"
    }
   ],
   "source": [
    "# Accessing protected attribute directly\n",
    "# Drawback of protected attribute (Weaker Encapsulation)\n",
    "\n",
    "emp._department"
   ]
  },
  {
   "cell_type": "code",
   "execution_count": 87,
   "id": "e8c71e12-2b99-4c70-bc66-824a18c8a471",
   "metadata": {},
   "outputs": [
    {
     "data": {
      "text/plain": [
       "'IT'"
      ]
     },
     "execution_count": 87,
     "metadata": {},
     "output_type": "execute_result"
    }
   ],
   "source": [
    "# Using method to access protected attribute\n",
    "emp.get_department()"
   ]
  },
  {
   "cell_type": "code",
   "execution_count": 88,
   "id": "ed6c438b-a55f-4d7a-8df1-ddfae1903382",
   "metadata": {},
   "outputs": [],
   "source": [
    "# Conlusion ::"
   ]
  },
  {
   "cell_type": "markdown",
   "id": "13eecf94-e574-484d-bc90-6baffb3e31a5",
   "metadata": {},
   "source": [
    "***"
   ]
  },
  {
   "cell_type": "markdown",
   "id": "975fbd3e",
   "metadata": {},
   "source": [
    "#### Task, Impliment Banking System with Password Protection"
   ]
  },
  {
   "cell_type": "code",
   "execution_count": 90,
   "id": "8ad1ba1d",
   "metadata": {},
   "outputs": [],
   "source": [
    "class Banking:\n",
    "    def __init__(self):\n",
    "        self.name = None           # Public Instance Attribute\n",
    "        self.username = None       # Public Instance Attribute\n",
    "        self.__password = None     # Private Instance Attribute\n",
    "        self.__balance = 0.0       # Private Instance Attribute\n",
    "\n",
    "    def OpenAccount(self, Name, username, password, money): #username = vinay, password = vinay@123\n",
    "        self.name = Name\n",
    "        self.username = username\n",
    "        self.__password = password\n",
    "        self.__balance = money\n",
    "\n",
    "    # Getter for self.__balance\n",
    "    def checkBalance(self):\n",
    "        return self.__balance\n",
    "    \n",
    "    # Setter for self.__balance (depositing)\n",
    "    def addMoney(self, increase):\n",
    "        self.__balance = self.__balance + increase\n",
    "        return self.__balance\n",
    "    \n",
    "    # Setter for self.__balance (withdawing)\n",
    "    def withdrawMoney(self, decrease):\n",
    "        self.__balance = self.__balance - decrease\n",
    "        return self.__balance\n",
    "    \n",
    "    # Getter for self.__password\n",
    "    def getPassword(self):\n",
    "        return self.__password\n",
    "    \n",
    "    # Setter for self.__password\n",
    "    def resetPassword(self, newpass):\n",
    "        self.__password = newpass\n",
    "\n",
    "\n",
    "    def login(self, loginusername, loginpassword):    #login('Vishnu', 'vinay@123')\n",
    "        if loginusername == self.username and loginpassword == self.__password:\n",
    "            print('Login Successfull.......!')\n",
    "            option = None\n",
    "            \n",
    "            while option != 5:\n",
    "                print(\"Options \\n 1. Check Balance \\n 2. Add Money \\n 3. Withdraw Money \\n 4. User Profile \\n 5. Exit\")\n",
    "                option = int(input(\"Enter Option: \"))\n",
    "                if option == 1:\n",
    "                    print(self.checkBalance())\n",
    "\n",
    "                elif option == 2:\n",
    "                    amount = float(input(\"Enter amount to add: \"))\n",
    "                    self.addMoney(amount)\n",
    "                    print(f'Deposited :: {amount}')\n",
    "                    print(f'Balance :: {self.checkBalance()}')\n",
    "\n",
    "                elif option == 3:\n",
    "                    amount = float(input(\"Enter amount to withdraw: \"))\n",
    "                    self.withdrawMoney(amount)\n",
    "                    print(f'Withdrawn :: {amount}')\n",
    "                    print(f'Balance :: {self.checkBalance()}')\n",
    "\n",
    "                elif option == 4:\n",
    "                    print(f\"User Profile: {self.name}, Username: {self.username}, Balance: {self.checkBalance()}\")\n",
    "\n",
    "                elif option == 5:\n",
    "                    print(\"Exiting...\")\n",
    "                    \n",
    "                else:\n",
    "                    print(\"Invalid option. Please choose again.\")\n",
    "        else:\n",
    "            print(\"Invalid Credentials\")\n"
   ]
  },
  {
   "cell_type": "code",
   "execution_count": 92,
   "id": "4fb5efac",
   "metadata": {},
   "outputs": [],
   "source": [
    "# instantiating\n",
    "banking = Banking()"
   ]
  },
  {
   "cell_type": "code",
   "execution_count": 93,
   "id": "dff9aa48",
   "metadata": {},
   "outputs": [],
   "source": [
    "banking.OpenAccount(\"Vinay\", \"vinay123\", \"hello@122\", 1001)"
   ]
  },
  {
   "cell_type": "code",
   "execution_count": 94,
   "id": "4840ac31",
   "metadata": {},
   "outputs": [
    {
     "data": {
      "text/plain": [
       "'Vinay'"
      ]
     },
     "execution_count": 94,
     "metadata": {},
     "output_type": "execute_result"
    }
   ],
   "source": [
    "banking.name"
   ]
  },
  {
   "cell_type": "code",
   "execution_count": 95,
   "id": "b30302e2",
   "metadata": {},
   "outputs": [
    {
     "data": {
      "text/plain": [
       "'vinay123'"
      ]
     },
     "execution_count": 95,
     "metadata": {},
     "output_type": "execute_result"
    }
   ],
   "source": [
    "banking.username"
   ]
  },
  {
   "cell_type": "code",
   "execution_count": 98,
   "id": "41d10b5a",
   "metadata": {},
   "outputs": [
    {
     "ename": "AttributeError",
     "evalue": "'Banking' object has no attribute '__password'",
     "output_type": "error",
     "traceback": [
      "\u001b[1;31m---------------------------------------------------------------------------\u001b[0m",
      "\u001b[1;31mAttributeError\u001b[0m                            Traceback (most recent call last)",
      "Cell \u001b[1;32mIn[98], line 1\u001b[0m\n\u001b[1;32m----> 1\u001b[0m banking\u001b[38;5;241m.\u001b[39m__password\n",
      "\u001b[1;31mAttributeError\u001b[0m: 'Banking' object has no attribute '__password'"
     ]
    }
   ],
   "source": [
    "banking.__password"
   ]
  },
  {
   "cell_type": "code",
   "execution_count": 99,
   "id": "456ed78c",
   "metadata": {},
   "outputs": [
    {
     "ename": "AttributeError",
     "evalue": "'Banking' object has no attribute '__balance'",
     "output_type": "error",
     "traceback": [
      "\u001b[1;31m---------------------------------------------------------------------------\u001b[0m",
      "\u001b[1;31mAttributeError\u001b[0m                            Traceback (most recent call last)",
      "Cell \u001b[1;32mIn[99], line 1\u001b[0m\n\u001b[1;32m----> 1\u001b[0m banking\u001b[38;5;241m.\u001b[39m__balance\n",
      "\u001b[1;31mAttributeError\u001b[0m: 'Banking' object has no attribute '__balance'"
     ]
    }
   ],
   "source": [
    "banking.__balance"
   ]
  },
  {
   "cell_type": "code",
   "execution_count": 100,
   "id": "8acae00d",
   "metadata": {},
   "outputs": [
    {
     "data": {
      "text/plain": [
       "'hello@122'"
      ]
     },
     "execution_count": 100,
     "metadata": {},
     "output_type": "execute_result"
    }
   ],
   "source": [
    "banking.getPassword()"
   ]
  },
  {
   "cell_type": "code",
   "execution_count": 101,
   "id": "1bb1e317",
   "metadata": {},
   "outputs": [],
   "source": [
    "banking.resetPassword('vmlabs')"
   ]
  },
  {
   "cell_type": "code",
   "execution_count": 102,
   "id": "8333ea76",
   "metadata": {},
   "outputs": [
    {
     "data": {
      "text/plain": [
       "'vmlabs'"
      ]
     },
     "execution_count": 102,
     "metadata": {},
     "output_type": "execute_result"
    }
   ],
   "source": [
    "banking.getPassword()"
   ]
  },
  {
   "cell_type": "code",
   "execution_count": 103,
   "id": "b1d7bfd9",
   "metadata": {},
   "outputs": [
    {
     "name": "stdout",
     "output_type": "stream",
     "text": [
      "Invalid Credentials\n"
     ]
    }
   ],
   "source": [
    "banking.login('vinay123',\"hello@122\")"
   ]
  },
  {
   "cell_type": "code",
   "execution_count": 105,
   "id": "ebd884fd",
   "metadata": {},
   "outputs": [
    {
     "name": "stdout",
     "output_type": "stream",
     "text": [
      "Login Successfull.......!\n",
      "Options \n",
      " 1. Check Balance \n",
      " 2. Add Money \n",
      " 3. Withdraw Money \n",
      " 4. User Profile \n",
      " 5. Exit\n",
      "1001\n",
      "Options \n",
      " 1. Check Balance \n",
      " 2. Add Money \n",
      " 3. Withdraw Money \n",
      " 4. User Profile \n",
      " 5. Exit\n",
      "Deposited :: 300.0\n",
      "Balance :: 1301.0\n",
      "Options \n",
      " 1. Check Balance \n",
      " 2. Add Money \n",
      " 3. Withdraw Money \n",
      " 4. User Profile \n",
      " 5. Exit\n",
      "Withdrawn :: 400.0\n",
      "Balance :: 901.0\n",
      "Options \n",
      " 1. Check Balance \n",
      " 2. Add Money \n",
      " 3. Withdraw Money \n",
      " 4. User Profile \n",
      " 5. Exit\n",
      "Withdrawn :: 900.0\n",
      "Balance :: 1.0\n",
      "Options \n",
      " 1. Check Balance \n",
      " 2. Add Money \n",
      " 3. Withdraw Money \n",
      " 4. User Profile \n",
      " 5. Exit\n",
      "Withdrawn :: 1.0\n",
      "Balance :: 0.0\n",
      "Options \n",
      " 1. Check Balance \n",
      " 2. Add Money \n",
      " 3. Withdraw Money \n",
      " 4. User Profile \n",
      " 5. Exit\n",
      "Deposited :: 45000.0\n",
      "Balance :: 45000.0\n",
      "Options \n",
      " 1. Check Balance \n",
      " 2. Add Money \n",
      " 3. Withdraw Money \n",
      " 4. User Profile \n",
      " 5. Exit\n",
      "User Profile: Vinay, Username: vinay123, Balance: 45000.0\n",
      "Options \n",
      " 1. Check Balance \n",
      " 2. Add Money \n",
      " 3. Withdraw Money \n",
      " 4. User Profile \n",
      " 5. Exit\n",
      "Exiting...\n"
     ]
    }
   ],
   "source": [
    "banking.login(\"vinay123\", \"vmlabs\")"
   ]
  },
  {
   "cell_type": "code",
   "execution_count": null,
   "id": "2c4cc022",
   "metadata": {},
   "outputs": [],
   "source": []
  }
 ],
 "metadata": {
  "kernelspec": {
   "display_name": "base",
   "language": "python",
   "name": "python3"
  },
  "language_info": {
   "codemirror_mode": {
    "name": "ipython",
    "version": 3
   },
   "file_extension": ".py",
   "mimetype": "text/x-python",
   "name": "python",
   "nbconvert_exporter": "python",
   "pygments_lexer": "ipython3",
   "version": "3.12.4"
  }
 },
 "nbformat": 4,
 "nbformat_minor": 5
}
