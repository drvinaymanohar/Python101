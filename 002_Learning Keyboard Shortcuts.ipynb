{
 "cells": [
  {
   "cell_type": "markdown",
   "id": "dcad1b46-53c7-49e4-a687-6f8febf9a012",
   "metadata": {},
   "source": [
    "##### This is my first notebook on learning the keyboard shortcuts of Jupyter Lab"
   ]
  },
  {
   "cell_type": "markdown",
   "id": "e06a83b6-4190-4926-81d0-43bb8d7363f3",
   "metadata": {},
   "source": [
    "##### Learning Markdown language"
   ]
  },
  {
   "cell_type": "markdown",
   "id": "596aa715-b57a-4631-b449-92e58eef008c",
   "metadata": {},
   "source": [
    "# Introduction to Python"
   ]
  },
  {
   "cell_type": "markdown",
   "id": "112f1f96-2bee-429d-af60-6fbb620b17fb",
   "metadata": {},
   "source": [
    "## Introduction to Python"
   ]
  },
  {
   "cell_type": "markdown",
   "id": "b0ee56ec-56fc-4b2a-b4b1-d8773afee5f1",
   "metadata": {},
   "source": [
    "### Introduction to Python"
   ]
  },
  {
   "cell_type": "markdown",
   "id": "aa5e7f68-1a0e-4437-9ddf-f53f892e4a6a",
   "metadata": {},
   "source": [
    "#### Introduction to Python"
   ]
  },
  {
   "cell_type": "markdown",
   "id": "c10e0d97-4338-4f05-b3d2-6bb1fe08dad7",
   "metadata": {},
   "source": [
    "**Project Jupyter** is a project to develop *open-source software*, open standards, and services for interactive computing across multiple <u>programming languages</u>."
   ]
  },
  {
   "cell_type": "markdown",
   "id": "916c8504-99bb-4b64-9f5f-c268be1f8eed",
   "metadata": {},
   "source": [
    "***Vinay***"
   ]
  },
  {
   "cell_type": "markdown",
   "id": "93e61759-cb4c-435d-9b5f-dcc6cc20e526",
   "metadata": {},
   "source": [
    "~~Python is very easy to learn~~"
   ]
  },
  {
   "cell_type": "markdown",
   "id": "150ff4e0-3fe5-4144-bee8-6227767b4ef7",
   "metadata": {},
   "source": [
    "**Project Jupyter** is a project to develop *open-source software*, <br> open standards, and services for interactive computing across multiple <u>programming languages</u>."
   ]
  },
  {
   "cell_type": "markdown",
   "id": "7e6f1f2b-7f3c-411f-b005-48c15c5ee210",
   "metadata": {},
   "source": [
    "***Routine of a Developer***\n",
    "\n",
    "- [x] Code\n",
    "- [x] Eat\n",
    "- [ ] Sleep "
   ]
  },
  {
   "cell_type": "markdown",
   "id": "770f94be-30b1-4e9e-a6e1-029e13e21720",
   "metadata": {},
   "source": [
    "#### Python is a popular programming language with many advantages, including:\n",
    "\n",
    "* Simplicity\n",
    "* Flexibility\n",
    "* Large Ecosystem\n",
    "* Security\n",
    "* Popularity"
   ]
  },
  {
   "cell_type": "markdown",
   "id": "f7c22885-f727-4c54-abf7-be9b25bc28bd",
   "metadata": {},
   "source": [
    "***Mom told to buy some groceries***\n",
    "\n",
    "1. Milk\n",
    "2. Egg\n",
    "3. Bread\n",
    "4. Chillies\n",
    "5. Onion\n",
    "6. Tomoto"
   ]
  },
  {
   "cell_type": "markdown",
   "id": "74eb911a-623a-4986-960b-e7b01a7a8d8e",
   "metadata": {},
   "source": [
    "***Python Syllabus***\n",
    "1. Introduction to Python\n",
    "    * Introduction\n",
    "    * Installing Python Interpretor\n",
    "    * IDE's\n",
    "        * Jupyter Notebook\n",
    "        * Jupyter Lab\n",
    "        * Jupyter Lab Desktop\n",
    "        * Spyder\n",
    "        * VS Code\n",
    "    * Anaconda\n",
    "        * Anaconda Prompt\n",
    "        * Anaconda Navigator\n",
    "2. MS DOS"
   ]
  },
  {
   "cell_type": "markdown",
   "id": "9f5d46b7-9fc6-4f04-9ebb-9446b1fb13c5",
   "metadata": {},
   "source": [
    "##### Mathematical Equations\n",
    "\n",
    "$a^2 + b^2 + 2ab$"
   ]
  },
  {
   "cell_type": "markdown",
   "id": "015e141b-b3b6-496a-ae5c-88ff93e0a0b2",
   "metadata": {},
   "source": [
    "***"
   ]
  },
  {
   "cell_type": "markdown",
   "id": "1fe0fd6c-b7a7-4189-b54d-d80f0e944b95",
   "metadata": {},
   "source": [
    "##### End of the Introduction"
   ]
  },
  {
   "cell_type": "code",
   "execution_count": 7,
   "id": "c7f2ec41-83d7-4b88-82c3-2add73df8f66",
   "metadata": {},
   "outputs": [],
   "source": [
    "import pandas as pd"
   ]
  },
  {
   "cell_type": "markdown",
   "id": "3291c0e4-687a-456d-a08e-d2a645d78e94",
   "metadata": {},
   "source": [
    "#### Jupyter Magic Functions"
   ]
  },
  {
   "cell_type": "code",
   "execution_count": 8,
   "id": "f314375d-2597-458c-a464-81709640461d",
   "metadata": {},
   "outputs": [
    {
     "name": "stdout",
     "output_type": "stream",
     "text": [
      "^C\n",
      "\n",
      "Note: you may need to restart the kernel to use updated packages.\n"
     ]
    }
   ],
   "source": [
    "%conda install utm"
   ]
  },
  {
   "cell_type": "code",
   "execution_count": 9,
   "id": "513d4f19-5cdd-46d3-bd24-96e974a7fe10",
   "metadata": {},
   "outputs": [],
   "source": [
    "%mkdir VINAY"
   ]
  },
  {
   "cell_type": "code",
   "execution_count": 10,
   "id": "97160c82-b1a5-4a48-b14f-5ec9330204f8",
   "metadata": {},
   "outputs": [],
   "source": [
    "%rmdir VINAY"
   ]
  },
  {
   "cell_type": "code",
   "execution_count": 11,
   "id": "7778aeb9-15f1-4d3b-9312-f9014aab3e19",
   "metadata": {},
   "outputs": [
    {
     "name": "stdout",
     "output_type": "stream",
     "text": [
      " Volume in drive C has no label.\n",
      " Volume Serial Number is 6EA4-B016\n",
      "\n",
      " Directory of C:\\Users\\Admin\\Documents\\GeoPython-LabExercises\n",
      "\n",
      "20-09-2024  20:35    <DIR>          .\n",
      "20-09-2024  20:35    <DIR>          ..\n",
      "20-09-2024  19:53    <DIR>          .ipynb_checkpoints\n",
      "20-09-2024  19:24             1,534 000_Getting_Started_with_Jupyter_Notebook.ipynb\n",
      "20-09-2024  19:36               617 001_Getting_Started_with_JupyterLab.ipynb\n",
      "20-09-2024  20:35             5,551 002_Learning Keyboard Shortcuts.ipynb\n",
      "               3 File(s)          7,702 bytes\n",
      "               3 Dir(s)  292,810,833,920 bytes free\n"
     ]
    }
   ],
   "source": [
    "%ls"
   ]
  },
  {
   "cell_type": "code",
   "execution_count": 12,
   "id": "664b1d44-a988-42dc-ba7d-a8e5122e31da",
   "metadata": {},
   "outputs": [
    {
     "name": "stdout",
     "output_type": "stream",
     "text": [
      "Writing trainees.txt\n"
     ]
    }
   ],
   "source": [
    "%%writefile trainees.txt\n",
    "Arun\n",
    "Sruthi\n",
    "Vinay\n",
    "Anithabha\n",
    "Abdul\n",
    "X\n",
    "Y\n",
    "Z"
   ]
  },
  {
   "cell_type": "code",
   "execution_count": 17,
   "id": "1e5dceaf-6f95-4685-9a5c-07660714c589",
   "metadata": {},
   "outputs": [],
   "source": [
    "# %load trainees.txt\n",
    "Arun\n",
    "Sruthi\n",
    "Vinay\n",
    "Anithabha\n",
    "Abdul\n",
    "X\n",
    "Y\n",
    "Z\n"
   ]
  },
  {
   "cell_type": "code",
   "execution_count": 18,
   "id": "f0639a20-d07a-45b5-a0bc-262a69c0a4c5",
   "metadata": {},
   "outputs": [
    {
     "name": "stdout",
     "output_type": "stream",
     "text": [
      "Writing sayhello.py\n"
     ]
    }
   ],
   "source": [
    "%%writefile sayhello.py\n",
    "print(\"Hello Vinay\")"
   ]
  },
  {
   "cell_type": "code",
   "execution_count": 21,
   "id": "5af7a5d6-4bb8-4eb6-a9af-da5d8089ec29",
   "metadata": {},
   "outputs": [
    {
     "name": "stdout",
     "output_type": "stream",
     "text": [
      "Hello Vinay\n"
     ]
    }
   ],
   "source": [
    "%run sayhello.py"
   ]
  },
  {
   "cell_type": "code",
   "execution_count": 23,
   "id": "74feb9fd-dd4b-498a-ad9b-cab634376e0a",
   "metadata": {},
   "outputs": [],
   "source": [
    "# %load http://matplotlib.org/mpl_examples/showcase/integral_demo.py"
   ]
  },
  {
   "cell_type": "code",
   "execution_count": 25,
   "id": "4c9afe86-f926-4920-a514-c4c02ec78314",
   "metadata": {},
   "outputs": [
    {
     "name": "stdout",
     "output_type": "stream",
     "text": [
      "Python 3.10.9\n"
     ]
    }
   ],
   "source": [
    "!python --version"
   ]
  },
  {
   "cell_type": "code",
   "execution_count": 26,
   "id": "5b6a429b-23fe-4465-ba79-44be5e7aaf84",
   "metadata": {},
   "outputs": [
    {
     "name": "stdout",
     "output_type": "stream",
     "text": [
      "Python 3.10.9\n"
     ]
    }
   ],
   "source": [
    "!python --version"
   ]
  },
  {
   "cell_type": "code",
   "execution_count": 27,
   "id": "b8f09754-73cc-4ef2-9634-302dcc712c7f",
   "metadata": {},
   "outputs": [
    {
     "name": "stdout",
     "output_type": "stream",
     "text": [
      "Writing stockdata.csv\n"
     ]
    }
   ],
   "source": [
    "%%writefile stockdata.csv\n",
    "opening,closing\n",
    "30,32\n",
    "32,36\n",
    "36,40\n",
    "40,30"
   ]
  },
  {
   "cell_type": "code",
   "execution_count": 28,
   "id": "535572ab-1bd8-4c10-8ee2-551f20c30725",
   "metadata": {},
   "outputs": [
    {
     "data": {
      "text/html": [
       "<img src=\"http://python.org/images/python-logo.gif\"/>"
      ],
      "text/plain": [
       "<IPython.core.display.Image object>"
      ]
     },
     "execution_count": 28,
     "metadata": {},
     "output_type": "execute_result"
    }
   ],
   "source": [
    "from IPython.display import Image\n",
    "Image(url='http://python.org/images/python-logo.gif')"
   ]
  },
  {
   "cell_type": "code",
   "execution_count": 29,
   "id": "550ec5fa-5a59-4c0b-90b7-1961db35fb20",
   "metadata": {},
   "outputs": [
    {
     "data": {
      "image/jpeg": "[encoded data removed]",
      "text/html": [
       "\n",
       "        <iframe\n",
       "            width=\"400\"\n",
       "            height=\"300\"\n",
       "            src=\"https://www.youtube.com/embed/plalHGHwSj8\"\n",
       "            frameborder=\"0\"\n",
       "            allowfullscreen\n",
       "            \n",
       "        ></iframe>\n",
       "        "
      ],
      "text/plain": [
       "<IPython.lib.display.YouTubeVideo at 0x2a1d8dbf610>"
      ]
     },
     "execution_count": 29,
     "metadata": {},
     "output_type": "execute_result"
    }
   ],
   "source": [
    "from IPython.display import YouTubeVideo\n",
    "YouTubeVideo('plalHGHwSj8')"
   ]
  },
  {
   "cell_type": "markdown",
   "id": "a34c8c13-92aa-4714-b4bf-1b270cad7dfd",
   "metadata": {},
   "source": [
    "[Official Link of Python] (http://python.org/)"
   ]
  },
  {
   "cell_type": "code",
   "execution_count": 1,
   "id": "d1152be6-e530-4d5d-b8c1-4edb9dccfbe4",
   "metadata": {},
   "outputs": [],
   "source": [
    "a=3"
   ]
  },
  {
   "cell_type": "code",
   "execution_count": 9,
   "id": "db8d072e-f232-45e2-bb6d-6f8aef6e808c",
   "metadata": {},
   "outputs": [
    {
     "name": "stdout",
     "output_type": "stream",
     "text": [
      "Variable          Type             Data/Info\n",
      "--------------------------------------------\n",
      "Image             type             <class 'IPython.core.display.Image'>\n",
      "NamespaceMagics   MetaHasTraits    <class 'IPython.core.magi<...>mespace.NamespaceMagics'>\n",
      "a                 int              3\n",
      "get_ipython       function         <function get_ipython at 0x0000024157B34180>\n",
      "json              module           <module 'json' from 'C:\\\\<...>\\Lib\\\\json\\\\__init__.py'>\n",
      "name              str              Vinay\n",
      "sys               module           <module 'sys' (built-in)>\n"
     ]
    }
   ],
   "source": [
    "%whos"
   ]
  },
  {
   "cell_type": "code",
   "execution_count": null,
   "id": "bed796b1-7956-4994-9c27-bf4baef8d100",
   "metadata": {},
   "outputs": [],
   "source": []
  }
 ],
 "metadata": {
  "kernelspec": {
   "display_name": "Python 3 (ipykernel)",
   "language": "python",
   "name": "python3"
  },
  "language_info": {
   "codemirror_mode": {
    "name": "ipython",
    "version": 3
   },
   "file_extension": ".py",
   "mimetype": "text/x-python",
   "name": "python",
   "nbconvert_exporter": "python",
   "pygments_lexer": "ipython3",
   "version": "3.12.4"
  }
 },
 "nbformat": 4,
 "nbformat_minor": 5
}
