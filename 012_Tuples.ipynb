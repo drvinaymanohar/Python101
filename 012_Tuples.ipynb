{
 "cells": [
  {
   "cell_type": "markdown",
   "id": "692fca57-d182-4cac-80bd-fe2c12415fa3",
   "metadata": {},
   "source": [
    "#### Creating and Initializing Tuples in Python"
   ]
  },
  {
   "cell_type": "code",
   "execution_count": 1,
   "id": "7e39d5b3-a527-4818-8124-1831648944f4",
   "metadata": {},
   "outputs": [],
   "source": [
    "# Mutability and Immutability"
   ]
  },
  {
   "cell_type": "code",
   "execution_count": 14,
   "id": "5ad4b14d-5264-4642-b3c6-a12b7ad7a47a",
   "metadata": {},
   "outputs": [],
   "source": [
    "# List is Mutable\n",
    "# Tuple is Immutable\n",
    "\n",
    "# In list, the data can be altered at any time\n",
    "# In tuple, you cannot able to alter the data\n",
    "\n",
    "# Tuple mainly used when you to protect the data \n",
    "# \n",
    "\n",
    "\n",
    "TajMahal_coor_list = [78.04220106152272, 27.175093579652096]\n",
    "\n",
    "TajMahal_coor_tuple = (78.04220106152272, 27.175093579652096)"
   ]
  },
  {
   "cell_type": "code",
   "execution_count": 15,
   "id": "713d9ce5-55e9-42a7-9490-1b8d5f1cd27f",
   "metadata": {},
   "outputs": [
    {
     "data": {
      "text/plain": [
       "list"
      ]
     },
     "execution_count": 15,
     "metadata": {},
     "output_type": "execute_result"
    }
   ],
   "source": [
    "type(TajMahal_coor_list)"
   ]
  },
  {
   "cell_type": "code",
   "execution_count": 16,
   "id": "a75899be-face-4c30-a152-1bb29bb60e25",
   "metadata": {},
   "outputs": [
    {
     "data": {
      "text/plain": [
       "tuple"
      ]
     },
     "execution_count": 16,
     "metadata": {},
     "output_type": "execute_result"
    }
   ],
   "source": [
    "type(TajMahal_coor_tuple)"
   ]
  },
  {
   "cell_type": "code",
   "execution_count": 17,
   "id": "5d69f725-db1d-45b8-b876-f4db952bace1",
   "metadata": {},
   "outputs": [],
   "source": [
    "# Modify the values\n",
    "TajMahal_coor_list[0] = 78"
   ]
  },
  {
   "cell_type": "code",
   "execution_count": 18,
   "id": "e2c2e2c2-2768-4645-a6c8-858fc6d0a8ca",
   "metadata": {},
   "outputs": [
    {
     "data": {
      "text/plain": [
       "[78, 27.175093579652096]"
      ]
     },
     "execution_count": 18,
     "metadata": {},
     "output_type": "execute_result"
    }
   ],
   "source": [
    "TajMahal_coor_list"
   ]
  },
  {
   "cell_type": "code",
   "execution_count": 19,
   "id": "b259e24e-8953-4b29-b086-a9fbd5919a24",
   "metadata": {},
   "outputs": [
    {
     "data": {
      "text/plain": [
       "78.04220106152272"
      ]
     },
     "execution_count": 19,
     "metadata": {},
     "output_type": "execute_result"
    }
   ],
   "source": [
    "TajMahal_coor_tuple[0]"
   ]
  },
  {
   "cell_type": "code",
   "execution_count": 21,
   "id": "a95932f1-f619-43bd-bfe8-c04a38cb612f",
   "metadata": {},
   "outputs": [],
   "source": [
    "#TajMahal_coor_tuple[0] = 78"
   ]
  },
  {
   "cell_type": "code",
   "execution_count": null,
   "id": "76a29395-9fa7-42b6-9aec-db4c181daa83",
   "metadata": {},
   "outputs": [],
   "source": []
  },
  {
   "cell_type": "code",
   "execution_count": 22,
   "id": "61b03e7c-a3fc-4572-af2c-4017c3e2df55",
   "metadata": {},
   "outputs": [],
   "source": [
    "# creating empty tuple\n",
    "wondersofworld = ()"
   ]
  },
  {
   "cell_type": "code",
   "execution_count": 23,
   "id": "987bb03f-35fa-41b8-af5d-26e85ef9bc95",
   "metadata": {},
   "outputs": [
    {
     "data": {
      "text/plain": [
       "tuple"
      ]
     },
     "execution_count": 23,
     "metadata": {},
     "output_type": "execute_result"
    }
   ],
   "source": [
    "type(wondersofworld)"
   ]
  },
  {
   "cell_type": "code",
   "execution_count": 24,
   "id": "ab2a9aa8-29e7-4b29-a494-16cfa8b45758",
   "metadata": {},
   "outputs": [
    {
     "name": "stdout",
     "output_type": "stream",
     "text": [
      "(1, 2.23, True, 'apple', 'banana')\n"
     ]
    }
   ],
   "source": [
    "# Using Parentheses ()\n",
    "my_tuple = (1, 2.23, True, 'apple', 'banana')\n",
    "print(my_tuple)"
   ]
  },
  {
   "cell_type": "code",
   "execution_count": 25,
   "id": "f3133d44-6895-48e7-aa93-989db74a32f9",
   "metadata": {},
   "outputs": [
    {
     "name": "stdout",
     "output_type": "stream",
     "text": [
      "(1, 2, 3, 'apple', 'banana')\n"
     ]
    }
   ],
   "source": [
    "# Without Parentheses\n",
    "\n",
    "\n",
    "my_tuple = 1, 2, 3, 'apple', 'banana'\n",
    "print(my_tuple)"
   ]
  },
  {
   "cell_type": "code",
   "execution_count": 26,
   "id": "66fe80e9-e8c8-4397-aa74-baa85a944295",
   "metadata": {},
   "outputs": [],
   "source": [
    "tajmahal = 78.04220106152272, 27.175093579652096"
   ]
  },
  {
   "cell_type": "code",
   "execution_count": 27,
   "id": "c9ec52a5-b65d-4a29-a772-d9b20af2cc76",
   "metadata": {},
   "outputs": [
    {
     "data": {
      "text/plain": [
       "(78.04220106152272, 27.175093579652096)"
      ]
     },
     "execution_count": 27,
     "metadata": {},
     "output_type": "execute_result"
    }
   ],
   "source": [
    "tajmahal"
   ]
  },
  {
   "cell_type": "code",
   "execution_count": 28,
   "id": "e0dea240-0cfd-4ba0-a515-cbbb8f16be93",
   "metadata": {},
   "outputs": [
    {
     "name": "stdout",
     "output_type": "stream",
     "text": [
      "(1, 2, 3, 'apple', 'banana')\n"
     ]
    }
   ],
   "source": [
    "# From Existing Iterables\n",
    "my_list = [1, 2, 3, 'apple', 'banana']\n",
    "\n",
    "my_tuple = tuple(my_list)\n",
    "\n",
    "print(my_tuple)"
   ]
  },
  {
   "cell_type": "code",
   "execution_count": 29,
   "id": "92696915-54a1-4ae9-bf01-1ac4cd14e3d0",
   "metadata": {},
   "outputs": [],
   "source": [
    "name = ['Sony', 24, 'Bangalore']"
   ]
  },
  {
   "cell_type": "code",
   "execution_count": 31,
   "id": "c2132e06-6fe0-4cc8-a33b-aa08707db9e8",
   "metadata": {},
   "outputs": [],
   "source": [
    "name_tup = tuple(name)"
   ]
  },
  {
   "cell_type": "code",
   "execution_count": 32,
   "id": "7f2dd13c-2b2d-4961-be7d-6a83684b90f9",
   "metadata": {},
   "outputs": [
    {
     "data": {
      "text/plain": [
       "('Sony', 24, 'Bangalore')"
      ]
     },
     "execution_count": 32,
     "metadata": {},
     "output_type": "execute_result"
    }
   ],
   "source": [
    "name_tup"
   ]
  },
  {
   "cell_type": "code",
   "execution_count": 35,
   "id": "c91883a0-7a07-46ed-961d-082f323c4971",
   "metadata": {},
   "outputs": [],
   "source": [
    "# Single-Element Tuples\n",
    "my_tuple = (1)"
   ]
  },
  {
   "cell_type": "code",
   "execution_count": 36,
   "id": "2f74451e-ab32-463f-b7f0-8af93922faa9",
   "metadata": {},
   "outputs": [
    {
     "data": {
      "text/plain": [
       "int"
      ]
     },
     "execution_count": 36,
     "metadata": {},
     "output_type": "execute_result"
    }
   ],
   "source": [
    "type(my_tuple)"
   ]
  },
  {
   "cell_type": "markdown",
   "id": "443b4bf3-8354-499e-8422-f4f0e2d584f5",
   "metadata": {},
   "source": [
    "Conclusion: Python doesn’t recognize single_element as a tuple here; instead, it’s treated as an integer. This is because the parentheses are also used in Python for grouping expressions, so (5) is interpreted as just the number 5"
   ]
  },
  {
   "cell_type": "code",
   "execution_count": 39,
   "id": "1d3ca090-2829-462e-9f79-8151b1d27c46",
   "metadata": {},
   "outputs": [
    {
     "data": {
      "text/plain": [
       "tuple"
      ]
     },
     "execution_count": 39,
     "metadata": {},
     "output_type": "execute_result"
    }
   ],
   "source": [
    "# The Correct Syntax for Single-Element Tuples\n",
    "my_tuple = (1,)\n",
    "type(my_tuple)"
   ]
  },
  {
   "cell_type": "code",
   "execution_count": 40,
   "id": "1fa2ecf2-5463-49aa-b10d-e3de22ec873c",
   "metadata": {},
   "outputs": [
    {
     "ename": "TypeError",
     "evalue": "'tuple' object does not support item assignment",
     "output_type": "error",
     "traceback": [
      "\u001b[1;31m---------------------------------------------------------------------------\u001b[0m",
      "\u001b[1;31mTypeError\u001b[0m                                 Traceback (most recent call last)",
      "Cell \u001b[1;32mIn[40], line 3\u001b[0m\n\u001b[0;32m      1\u001b[0m \u001b[38;5;66;03m# Assigning Values\u001b[39;00m\n\u001b[0;32m      2\u001b[0m fruits \u001b[38;5;241m=\u001b[39m (\u001b[38;5;124m'\u001b[39m\u001b[38;5;124mapple\u001b[39m\u001b[38;5;124m'\u001b[39m, \u001b[38;5;124m'\u001b[39m\u001b[38;5;124mbanana\u001b[39m\u001b[38;5;124m'\u001b[39m, \u001b[38;5;124m'\u001b[39m\u001b[38;5;124mcherry\u001b[39m\u001b[38;5;124m'\u001b[39m, \u001b[38;5;124m'\u001b[39m\u001b[38;5;124mdate\u001b[39m\u001b[38;5;124m'\u001b[39m)\n\u001b[1;32m----> 3\u001b[0m fruits[\u001b[38;5;241m0\u001b[39m] \u001b[38;5;241m=\u001b[39m \u001b[38;5;124m'\u001b[39m\u001b[38;5;124mStrawberry\u001b[39m\u001b[38;5;124m'\u001b[39m\n",
      "\u001b[1;31mTypeError\u001b[0m: 'tuple' object does not support item assignment"
     ]
    }
   ],
   "source": [
    "# Assigning Values\n",
    "fruits = ('apple', 'banana', 'cherry', 'date')\n",
    "fruits[0] = 'Strawberry'"
   ]
  },
  {
   "cell_type": "code",
   "execution_count": 41,
   "id": "545b0660-e6bc-4b33-a8e2-a4dca62372a6",
   "metadata": {},
   "outputs": [],
   "source": [
    "# Accessing Python tuples Elements\n",
    "\n",
    "fruits = ('apple', 'banana', 'cherry', 'date')"
   ]
  },
  {
   "cell_type": "code",
   "execution_count": 42,
   "id": "18af7c58-1cf3-4652-aae2-a2d836d60b7d",
   "metadata": {},
   "outputs": [
    {
     "data": {
      "text/plain": [
       "'apple'"
      ]
     },
     "execution_count": 42,
     "metadata": {},
     "output_type": "execute_result"
    }
   ],
   "source": [
    "fruits[0]"
   ]
  },
  {
   "cell_type": "code",
   "execution_count": 43,
   "id": "ca99bea5-af1e-4dd9-9477-2aa408b6340a",
   "metadata": {},
   "outputs": [
    {
     "data": {
      "text/plain": [
       "'banana'"
      ]
     },
     "execution_count": 43,
     "metadata": {},
     "output_type": "execute_result"
    }
   ],
   "source": [
    "fruits[1]"
   ]
  },
  {
   "cell_type": "code",
   "execution_count": 44,
   "id": "cdfed363-87f4-45f4-8d6b-812f8ff1959f",
   "metadata": {},
   "outputs": [
    {
     "data": {
      "text/plain": [
       "'date'"
      ]
     },
     "execution_count": 44,
     "metadata": {},
     "output_type": "execute_result"
    }
   ],
   "source": [
    "fruits[-1]"
   ]
  },
  {
   "cell_type": "code",
   "execution_count": 46,
   "id": "4036462c-d0bd-41ea-b67c-b86de718a111",
   "metadata": {},
   "outputs": [],
   "source": [
    "# Slicing Tuples\n",
    "numbers = (10, 20, 30, 40, 50, 60, 70, 80, 90, 100)"
   ]
  },
  {
   "cell_type": "code",
   "execution_count": 49,
   "id": "0b8645ee-a97a-40f1-aaff-26ab443daf19",
   "metadata": {},
   "outputs": [
    {
     "name": "stdout",
     "output_type": "stream",
     "text": [
      "(0, 10)\n",
      "(1, 20)\n",
      "(2, 30)\n",
      "(3, 40)\n",
      "(4, 50)\n",
      "(5, 60)\n",
      "(6, 70)\n",
      "(7, 80)\n",
      "(8, 90)\n",
      "(9, 100)\n"
     ]
    }
   ],
   "source": [
    "for i in enumerate(numbers):\n",
    "    print(i)"
   ]
  },
  {
   "cell_type": "code",
   "execution_count": 50,
   "id": "d7d932a5-8dae-45e8-9d08-2f6dcbaac324",
   "metadata": {},
   "outputs": [
    {
     "data": {
      "text/plain": [
       "(20, 30, 40)"
      ]
     },
     "execution_count": 50,
     "metadata": {},
     "output_type": "execute_result"
    }
   ],
   "source": [
    "numbers[1:4]"
   ]
  },
  {
   "cell_type": "code",
   "execution_count": 51,
   "id": "54a62296-8802-4d74-8590-531c33320cd5",
   "metadata": {},
   "outputs": [
    {
     "data": {
      "text/plain": [
       "(50, 60, 70, 80, 90, 100)"
      ]
     },
     "execution_count": 51,
     "metadata": {},
     "output_type": "execute_result"
    }
   ],
   "source": [
    "numbers[4:]"
   ]
  },
  {
   "cell_type": "code",
   "execution_count": 52,
   "id": "16e285e1-737a-4448-94f2-e0d19f672f49",
   "metadata": {},
   "outputs": [
    {
     "data": {
      "text/plain": [
       "(50, 60, 70, 80, 90, 100)"
      ]
     },
     "execution_count": 52,
     "metadata": {},
     "output_type": "execute_result"
    }
   ],
   "source": [
    "subset_tuple = numbers[4:]\n",
    "subset_tuple"
   ]
  },
  {
   "cell_type": "code",
   "execution_count": 53,
   "id": "6b9fb9da-5df2-4457-8a98-91ce355c6c23",
   "metadata": {},
   "outputs": [
    {
     "name": "stdout",
     "output_type": "stream",
     "text": [
      "apple\n",
      "banana\n",
      "cherry\n",
      "date\n"
     ]
    }
   ],
   "source": [
    "# Iterating Through Python tuples: Accessing Elements with Loops\n",
    "fruits = ('apple', 'banana', 'cherry', 'date')\n",
    "\n",
    "for fruit in fruits:\n",
    "    print(fruit)"
   ]
  },
  {
   "cell_type": "code",
   "execution_count": 55,
   "id": "c413e447-9d00-466d-b16d-6c8843a31e48",
   "metadata": {},
   "outputs": [
    {
     "data": {
      "text/plain": [
       "('APPLE', 'BANANA', 'CHERRY', 'DATE')"
      ]
     },
     "execution_count": 55,
     "metadata": {},
     "output_type": "execute_result"
    }
   ],
   "source": [
    "fruits_uCase = []\n",
    "\n",
    "for fruit in fruits:\n",
    "    temp = fruit.upper()\n",
    "    fruits_uCase.append(temp)\n",
    "    \n",
    "newfruits = tuple(fruits_uCase)\n",
    "newfruits"
   ]
  },
  {
   "cell_type": "code",
   "execution_count": 56,
   "id": "9b9faaa8-9fd1-4b07-aef2-7c921b774c60",
   "metadata": {},
   "outputs": [
    {
     "name": "stdout",
     "output_type": "stream",
     "text": [
      "apple\n",
      "banana\n",
      "cherry\n",
      "date\n"
     ]
    }
   ],
   "source": [
    "# tuple with all small\n",
    "fruits = ('apple', 'banana', 'cherry', 'date')\n",
    "\n",
    "# task is to convert to TITLE\n",
    "\n",
    "# Iterate through tuple\n",
    "for i in fruits:\n",
    "    print(i)\n"
   ]
  },
  {
   "cell_type": "code",
   "execution_count": 57,
   "id": "53bc71e8-fc40-451a-8271-587b251c08b0",
   "metadata": {},
   "outputs": [],
   "source": [
    "# since we are working with tuple, i cannot able to modify directly"
   ]
  },
  {
   "cell_type": "code",
   "execution_count": 58,
   "id": "e1337977-281c-4d1d-a884-28a9e7918b98",
   "metadata": {},
   "outputs": [],
   "source": [
    "# Trick: Take a value from tuple, push it to list\n",
    "# perform cleaning, then push back to new tuple"
   ]
  },
  {
   "cell_type": "code",
   "execution_count": 60,
   "id": "34c6357d-16b2-4a6f-9406-f2bb9a4fa2e7",
   "metadata": {},
   "outputs": [
    {
     "name": "stdout",
     "output_type": "stream",
     "text": [
      "['Apple', 'Banana', 'Cherry', 'Dates']\n",
      "('Apple', 'Banana', 'Cherry', 'Dates')\n"
     ]
    }
   ],
   "source": [
    "fruits = ('apple', 'banana', 'cherry', 'dates')\n",
    "fruits_list = []\n",
    "\n",
    "for i in fruits:\n",
    "    temp = i.title()\n",
    "    fruits_list.append(temp)\n",
    "\n",
    "print(fruits_list)\n",
    "\n",
    "fruits_tuple = tuple(fruits_list)\n",
    "print(fruits_tuple)"
   ]
  },
  {
   "cell_type": "code",
   "execution_count": 65,
   "id": "f2e2fea0-3d54-44a5-ac8f-aae1f1b26265",
   "metadata": {},
   "outputs": [
    {
     "name": "stdout",
     "output_type": "stream",
     "text": [
      "(0, 'apple')\n",
      "(1, 'banana')\n",
      "(2, 'cherry')\n",
      "(3, 'dates')\n"
     ]
    }
   ],
   "source": [
    "# Enumerate\n",
    "\n",
    "fruits = ('apple', 'banana', 'cherry', 'dates')\n",
    "\n",
    "for i in enumerate(fruits):\n",
    "    print(i)"
   ]
  },
  {
   "cell_type": "code",
   "execution_count": 66,
   "id": "a3a65346-efbd-4f51-8f47-4c3b5b165b63",
   "metadata": {},
   "outputs": [
    {
     "name": "stdout",
     "output_type": "stream",
     "text": [
      "0 apple\n",
      "1 banana\n",
      "2 cherry\n",
      "3 dates\n"
     ]
    }
   ],
   "source": [
    "for ind, itm in enumerate(fruits):\n",
    "    print(ind, itm)"
   ]
  },
  {
   "cell_type": "code",
   "execution_count": 70,
   "id": "fec4f4de-708d-450e-a6ae-fbc4c49ed159",
   "metadata": {},
   "outputs": [
    {
     "name": "stdout",
     "output_type": "stream",
     "text": [
      "Variable              Type             Data/Info\n",
      "------------------------------------------------\n",
      "NamespaceMagics       MetaHasTraits    <class 'IPython.core.magi<...>mespace.NamespaceMagics'>\n",
      "TajMahal_coor_list    list             n=2\n",
      "TajMahal_coor_tuple   tuple            n=2\n",
      "fruit                 str              date\n",
      "fruits                tuple            n=4\n",
      "fruits_list           list             n=4\n",
      "fruits_tuple          tuple            n=4\n",
      "fruits_uCase          list             n=4\n",
      "get_ipython           function         <function get_ipython at 0x0000029CC7ECC180>\n",
      "i                     tuple            n=2\n",
      "ind                   int              3\n",
      "index                 int              3\n",
      "itm                   str              dates\n",
      "json                  module           <module 'json' from 'C:\\\\<...>\\Lib\\\\json\\\\__init__.py'>\n",
      "my_list               list             n=5\n",
      "my_tuple              tuple            n=1\n",
      "name                  list             n=3\n",
      "name_tup              tuple            n=3\n",
      "newfruits             tuple            n=4\n",
      "numbers               tuple            n=10\n",
      "subset_tuple          tuple            n=6\n",
      "sys                   module           <module 'sys' (built-in)>\n",
      "tajmahal              tuple            n=2\n",
      "temp                  str              Dates\n",
      "wondersofworld        tuple            n=0\n"
     ]
    }
   ],
   "source": [
    "# check all variables\n",
    "\n",
    "%whos"
   ]
  },
  {
   "cell_type": "code",
   "execution_count": 71,
   "id": "1c192d1a-181a-4558-91da-f9d682abb83b",
   "metadata": {},
   "outputs": [],
   "source": [
    "tup = tuple()"
   ]
  },
  {
   "cell_type": "code",
   "execution_count": 72,
   "id": "a42bf873-52ab-4830-b7e4-ba66a7c4426c",
   "metadata": {},
   "outputs": [
    {
     "data": {
      "text/plain": [
       "tuple"
      ]
     },
     "execution_count": 72,
     "metadata": {},
     "output_type": "execute_result"
    }
   ],
   "source": [
    "type(tup)"
   ]
  },
  {
   "cell_type": "code",
   "execution_count": 74,
   "id": "6fa44f7a-ffb3-4194-8394-b66d60ce8a1d",
   "metadata": {},
   "outputs": [],
   "source": [
    "li = list()"
   ]
  },
  {
   "cell_type": "code",
   "execution_count": 75,
   "id": "e47ce88b-9624-4b8f-a384-247150eb7be5",
   "metadata": {},
   "outputs": [
    {
     "data": {
      "text/plain": [
       "['__add__',\n",
       " '__class__',\n",
       " '__class_getitem__',\n",
       " '__contains__',\n",
       " '__delattr__',\n",
       " '__delitem__',\n",
       " '__dir__',\n",
       " '__doc__',\n",
       " '__eq__',\n",
       " '__format__',\n",
       " '__ge__',\n",
       " '__getattribute__',\n",
       " '__getitem__',\n",
       " '__getstate__',\n",
       " '__gt__',\n",
       " '__hash__',\n",
       " '__iadd__',\n",
       " '__imul__',\n",
       " '__init__',\n",
       " '__init_subclass__',\n",
       " '__iter__',\n",
       " '__le__',\n",
       " '__len__',\n",
       " '__lt__',\n",
       " '__mul__',\n",
       " '__ne__',\n",
       " '__new__',\n",
       " '__reduce__',\n",
       " '__reduce_ex__',\n",
       " '__repr__',\n",
       " '__reversed__',\n",
       " '__rmul__',\n",
       " '__setattr__',\n",
       " '__setitem__',\n",
       " '__sizeof__',\n",
       " '__str__',\n",
       " '__subclasshook__',\n",
       " 'append',\n",
       " 'clear',\n",
       " 'copy',\n",
       " 'count',\n",
       " 'extend',\n",
       " 'index',\n",
       " 'insert',\n",
       " 'pop',\n",
       " 'remove',\n",
       " 'reverse',\n",
       " 'sort']"
      ]
     },
     "execution_count": 75,
     "metadata": {},
     "output_type": "execute_result"
    }
   ],
   "source": [
    "dir(li)"
   ]
  },
  {
   "cell_type": "code",
   "execution_count": 73,
   "id": "e88b58d5-3e3d-4d4b-8c92-bdb44a41b9ce",
   "metadata": {},
   "outputs": [
    {
     "data": {
      "text/plain": [
       "['__add__',\n",
       " '__class__',\n",
       " '__class_getitem__',\n",
       " '__contains__',\n",
       " '__delattr__',\n",
       " '__dir__',\n",
       " '__doc__',\n",
       " '__eq__',\n",
       " '__format__',\n",
       " '__ge__',\n",
       " '__getattribute__',\n",
       " '__getitem__',\n",
       " '__getnewargs__',\n",
       " '__getstate__',\n",
       " '__gt__',\n",
       " '__hash__',\n",
       " '__init__',\n",
       " '__init_subclass__',\n",
       " '__iter__',\n",
       " '__le__',\n",
       " '__len__',\n",
       " '__lt__',\n",
       " '__mul__',\n",
       " '__ne__',\n",
       " '__new__',\n",
       " '__reduce__',\n",
       " '__reduce_ex__',\n",
       " '__repr__',\n",
       " '__rmul__',\n",
       " '__setattr__',\n",
       " '__sizeof__',\n",
       " '__str__',\n",
       " '__subclasshook__',\n",
       " 'count',\n",
       " 'index']"
      ]
     },
     "execution_count": 73,
     "metadata": {},
     "output_type": "execute_result"
    }
   ],
   "source": [
    "# Python tuples: Methods and Operations\n",
    "dir(tup)"
   ]
  },
  {
   "cell_type": "code",
   "execution_count": null,
   "id": "1d1cc7ce-af62-45d2-9ab6-8b218cdc20ac",
   "metadata": {},
   "outputs": [],
   "source": [
    "# Built-in Tuple Methods: count() and index()"
   ]
  },
  {
   "cell_type": "markdown",
   "id": "4e99b703-8f97-4da0-9ee4-8bd302f59df6",
   "metadata": {},
   "source": [
    "The count() method is used to determine how many times a specific value appears in a tuple. This can be handy when you need to find the frequency of certain items without manually iterating through the tuple."
   ]
  },
  {
   "cell_type": "code",
   "execution_count": 76,
   "id": "a9b09108-c42f-48e3-8ebe-939e2c982a23",
   "metadata": {},
   "outputs": [],
   "source": [
    "fruits = ('apple', 'banana', 'cherry', 'apple', 'banana', 'apple')"
   ]
  },
  {
   "cell_type": "code",
   "execution_count": 79,
   "id": "becbbf7b-5185-4581-b6ac-17e78edc864b",
   "metadata": {},
   "outputs": [
    {
     "data": {
      "text/plain": [
       "3"
      ]
     },
     "execution_count": 79,
     "metadata": {},
     "output_type": "execute_result"
    }
   ],
   "source": [
    "fruits.count('apple')"
   ]
  },
  {
   "cell_type": "markdown",
   "id": "a51ca613-cee6-4db9-a5c6-c8cc5599b2f2",
   "metadata": {},
   "source": [
    "The index() method is used to find the first occurrence of a specified value in a tuple. If the value is found, the method returns its index position."
   ]
  },
  {
   "cell_type": "code",
   "execution_count": 80,
   "id": "12577ed4-5cef-442f-ac3a-05ad685130aa",
   "metadata": {},
   "outputs": [
    {
     "data": {
      "text/plain": [
       "0"
      ]
     },
     "execution_count": 80,
     "metadata": {},
     "output_type": "execute_result"
    }
   ],
   "source": [
    "fruits.index('apple')"
   ]
  },
  {
   "cell_type": "code",
   "execution_count": null,
   "id": "a7d43467-1150-4d86-abbc-f8edce1c9862",
   "metadata": {},
   "outputs": [],
   "source": [
    "# Python tuples Operations:\n",
    "# Concatenation"
   ]
  },
  {
   "cell_type": "code",
   "execution_count": 81,
   "id": "a0568a27-e1d1-4303-b161-f2bedc2d6cdb",
   "metadata": {},
   "outputs": [
    {
     "data": {
      "text/plain": [
       "('apple', 'banana', 'cherry', 'mango', 'sapota', 'strawberry')"
      ]
     },
     "execution_count": 81,
     "metadata": {},
     "output_type": "execute_result"
    }
   ],
   "source": [
    "basket1 = ('apple', 'banana', 'cherry')\n",
    "basket2 = ('mango', 'sapota', 'strawberry')\n",
    "\n",
    "basket1 + basket2"
   ]
  },
  {
   "cell_type": "code",
   "execution_count": 82,
   "id": "41bdbac5-c746-40b2-9938-a4b207d6edbb",
   "metadata": {},
   "outputs": [
    {
     "data": {
      "text/plain": [
       "('apple', 'banana', 'cherry', 'mango', 'sapota', 'strawberry')"
      ]
     },
     "execution_count": 82,
     "metadata": {},
     "output_type": "execute_result"
    }
   ],
   "source": [
    "total = basket1 + basket2\n",
    "total"
   ]
  },
  {
   "cell_type": "code",
   "execution_count": 84,
   "id": "fb99c5c2-fb97-4b0b-b745-c5679562530b",
   "metadata": {},
   "outputs": [
    {
     "data": {
      "text/plain": [
       "(1, 2, 3, 1, 2, 3, 1, 2, 3)"
      ]
     },
     "execution_count": 84,
     "metadata": {},
     "output_type": "execute_result"
    }
   ],
   "source": [
    "# Repetition or replication of items\n",
    "numbers = (1, 2, 3)\n",
    "\n",
    "numbers * 3"
   ]
  },
  {
   "cell_type": "code",
   "execution_count": 85,
   "id": "278dc660-0e20-4b92-9a3f-674b48e03a70",
   "metadata": {},
   "outputs": [
    {
     "data": {
      "text/plain": [
       "True"
      ]
     },
     "execution_count": 85,
     "metadata": {},
     "output_type": "execute_result"
    }
   ],
   "source": [
    "# Membership Testing\n",
    "\n",
    "fruits = ('apple', 'banana', 'cherry')\n",
    "\n",
    "# Testing membership\n",
    "'apple' in fruits"
   ]
  },
  {
   "cell_type": "code",
   "execution_count": 88,
   "id": "71c95acf-5ab1-4023-a262-90bfb8e465f5",
   "metadata": {},
   "outputs": [
    {
     "data": {
      "text/plain": [
       "True"
      ]
     },
     "execution_count": 88,
     "metadata": {},
     "output_type": "execute_result"
    }
   ],
   "source": [
    "'orange' not in fruits"
   ]
  },
  {
   "cell_type": "code",
   "execution_count": 96,
   "id": "c6d8a657-4ab4-4463-a8e0-54afa8a06f00",
   "metadata": {},
   "outputs": [],
   "source": [
    "# Nested Tuples\n",
    "# Tuple inside the tuple\n",
    "student_scores = (('Rama', (90, 85, 88)),('Seetha', (78, 82, 91)),('Krishna', (92, 89, 84)))"
   ]
  },
  {
   "cell_type": "code",
   "execution_count": 92,
   "id": "297dc280-93de-4a32-90bf-db3f4f05db4b",
   "metadata": {},
   "outputs": [
    {
     "name": "stdout",
     "output_type": "stream",
     "text": [
      "(0, ('Rama', (90, 85, 88)))\n",
      "(1, ('Seetha', (78, 82, 91)))\n",
      "(2, ('Krishna', (92, 89, 84)))\n"
     ]
    }
   ],
   "source": [
    "for i in enumerate(student_scores):\n",
    "    print(i)"
   ]
  },
  {
   "cell_type": "code",
   "execution_count": 93,
   "id": "ff96c728-120d-4e6e-b1e6-9bb8426ada5a",
   "metadata": {},
   "outputs": [
    {
     "data": {
      "text/plain": [
       "('Krishna', (92, 89, 84))"
      ]
     },
     "execution_count": 93,
     "metadata": {},
     "output_type": "execute_result"
    }
   ],
   "source": [
    "# accessing from nested list\n",
    "\n",
    "student_scores[2]"
   ]
  },
  {
   "cell_type": "code",
   "execution_count": 94,
   "id": "aab02628-de37-4569-8676-f52277f2e2e7",
   "metadata": {},
   "outputs": [
    {
     "data": {
      "text/plain": [
       "(92, 89, 84)"
      ]
     },
     "execution_count": 94,
     "metadata": {},
     "output_type": "execute_result"
    }
   ],
   "source": [
    "student_scores[2][1]"
   ]
  },
  {
   "cell_type": "code",
   "execution_count": 95,
   "id": "97895165-8909-44b1-ac0b-c4922a4ed535",
   "metadata": {},
   "outputs": [
    {
     "data": {
      "text/plain": [
       "84"
      ]
     },
     "execution_count": 95,
     "metadata": {},
     "output_type": "execute_result"
    }
   ],
   "source": [
    "student_scores[2][1][2]"
   ]
  },
  {
   "cell_type": "code",
   "execution_count": 98,
   "id": "4543094f-fc82-48e1-9293-dcd7d4161a64",
   "metadata": {},
   "outputs": [],
   "source": [
    "# List inside tuple\n",
    "\n",
    "emp = (['Vinay', 20000, 'Male'],\n",
    "       ['Kumar', 26000, 'Male'])"
   ]
  },
  {
   "cell_type": "code",
   "execution_count": 99,
   "id": "a1b8b5c6-163b-4b5d-b7c4-1507779cf2b7",
   "metadata": {},
   "outputs": [],
   "source": [
    "# Python allows you to modify values of list stored inside the tuple"
   ]
  },
  {
   "cell_type": "code",
   "execution_count": 100,
   "id": "0bdf3238-2f63-4d8a-9cb0-36cc7187b218",
   "metadata": {},
   "outputs": [
    {
     "data": {
      "text/plain": [
       "['Vinay', 20000, 'Male']"
      ]
     },
     "execution_count": 100,
     "metadata": {},
     "output_type": "execute_result"
    }
   ],
   "source": [
    "emp[0]"
   ]
  },
  {
   "cell_type": "code",
   "execution_count": 101,
   "id": "37dd6888-e75b-46b0-8c8a-05fd26d0651d",
   "metadata": {},
   "outputs": [
    {
     "data": {
      "text/plain": [
       "'Vinay'"
      ]
     },
     "execution_count": 101,
     "metadata": {},
     "output_type": "execute_result"
    }
   ],
   "source": [
    "emp[0][0]"
   ]
  },
  {
   "cell_type": "code",
   "execution_count": 102,
   "id": "fe1aa05a-c359-4ed8-896e-07c7d8666204",
   "metadata": {},
   "outputs": [],
   "source": [
    "emp[0][0] = 'Vishnu'"
   ]
  },
  {
   "cell_type": "code",
   "execution_count": 103,
   "id": "25b0bd46-bbd9-40ec-973c-634f94264313",
   "metadata": {},
   "outputs": [
    {
     "data": {
      "text/plain": [
       "(['Vishnu', 20000, 'Male'], ['Kumar', 26000, 'Male'])"
      ]
     },
     "execution_count": 103,
     "metadata": {},
     "output_type": "execute_result"
    }
   ],
   "source": [
    "emp"
   ]
  },
  {
   "cell_type": "code",
   "execution_count": null,
   "id": "f8f5c87d-0861-4717-bad8-36618dd16ca4",
   "metadata": {},
   "outputs": [],
   "source": [
    "# Python tuples Comprehensions"
   ]
  },
  {
   "cell_type": "code",
   "execution_count": 104,
   "id": "23cd6100-4083-4c22-a990-8f82085fc350",
   "metadata": {},
   "outputs": [
    {
     "name": "stdout",
     "output_type": "stream",
     "text": [
      "(1, 4, 9, 16, 25)\n"
     ]
    }
   ],
   "source": [
    "# Creating a tuple of squares\n",
    "numbers = (1, 2, 3, 4, 5)\n",
    "\n",
    "numberssquared = tuple(i**2 for i in numbers)\n",
    "\n",
    "print(numberssquared)"
   ]
  },
  {
   "cell_type": "markdown",
   "id": "57148ac8-40bb-457f-b74a-61c9f5b6f832",
   "metadata": {},
   "source": [
    "Unpacking Multiple Values\n",
    "\n",
    "Consider this scenario: you have a tuple representing the coordinates of a point, and you want to assign these values to individual variables."
   ]
  },
  {
   "cell_type": "code",
   "execution_count": 105,
   "id": "3fe5468e-f507-4069-bcc4-9ef89412a9c9",
   "metadata": {},
   "outputs": [],
   "source": [
    "LongLat = (72.325566, 12.325565)"
   ]
  },
  {
   "cell_type": "code",
   "execution_count": 106,
   "id": "94116782-c135-4592-819f-1c2539cd3bb8",
   "metadata": {},
   "outputs": [
    {
     "data": {
      "text/plain": [
       "tuple"
      ]
     },
     "execution_count": 106,
     "metadata": {},
     "output_type": "execute_result"
    }
   ],
   "source": [
    "type(LongLat)"
   ]
  },
  {
   "cell_type": "code",
   "execution_count": 107,
   "id": "f46024c7-891f-4aa9-8a11-f877da6558f8",
   "metadata": {},
   "outputs": [],
   "source": [
    "# extract values from tuple and store to new variable"
   ]
  },
  {
   "cell_type": "code",
   "execution_count": 113,
   "id": "752e4a42-da00-4a3c-a1a8-2567b1233bcc",
   "metadata": {},
   "outputs": [
    {
     "data": {
      "text/plain": [
       "72.325566"
      ]
     },
     "execution_count": 113,
     "metadata": {},
     "output_type": "execute_result"
    }
   ],
   "source": [
    "a = LongLat[0]\n",
    "a"
   ]
  },
  {
   "cell_type": "code",
   "execution_count": 115,
   "id": "29e38d3d-ed37-407e-a38f-dfd92ab8bd6b",
   "metadata": {},
   "outputs": [
    {
     "data": {
      "text/plain": [
       "12.325565"
      ]
     },
     "execution_count": 115,
     "metadata": {},
     "output_type": "execute_result"
    }
   ],
   "source": [
    "b = LongLat[1]\n",
    "b"
   ]
  },
  {
   "cell_type": "code",
   "execution_count": 116,
   "id": "67b5a13f-97a2-4d09-a2b1-d2e6067ee712",
   "metadata": {},
   "outputs": [
    {
     "data": {
      "text/plain": [
       "float"
      ]
     },
     "execution_count": 116,
     "metadata": {},
     "output_type": "execute_result"
    }
   ],
   "source": [
    "type(a)"
   ]
  },
  {
   "cell_type": "code",
   "execution_count": 117,
   "id": "9dc46848-ea97-4203-b2d8-98c49a2d2355",
   "metadata": {},
   "outputs": [
    {
     "data": {
      "text/plain": [
       "float"
      ]
     },
     "execution_count": 117,
     "metadata": {},
     "output_type": "execute_result"
    }
   ],
   "source": [
    "type(b)"
   ]
  },
  {
   "cell_type": "code",
   "execution_count": 118,
   "id": "676a1d2c-007c-4bf4-959a-1f4b6c592d8f",
   "metadata": {},
   "outputs": [],
   "source": [
    "# method 2"
   ]
  },
  {
   "cell_type": "code",
   "execution_count": 119,
   "id": "17265d4d-91ef-42f8-a5b3-37dcf6d1cc19",
   "metadata": {},
   "outputs": [
    {
     "data": {
      "text/plain": [
       "(72.325566, 12.325565)"
      ]
     },
     "execution_count": 119,
     "metadata": {},
     "output_type": "execute_result"
    }
   ],
   "source": [
    "LongLat"
   ]
  },
  {
   "cell_type": "code",
   "execution_count": 120,
   "id": "aa3024f4-5ef4-4092-8f28-dcd9994e9a98",
   "metadata": {},
   "outputs": [],
   "source": [
    "x, y = LongLat"
   ]
  },
  {
   "cell_type": "code",
   "execution_count": 121,
   "id": "5d16eb2c-0d4a-4d84-9c34-4e4a65eae885",
   "metadata": {},
   "outputs": [
    {
     "data": {
      "text/plain": [
       "72.325566"
      ]
     },
     "execution_count": 121,
     "metadata": {},
     "output_type": "execute_result"
    }
   ],
   "source": [
    "x"
   ]
  },
  {
   "cell_type": "code",
   "execution_count": 122,
   "id": "3ca33cf7-efb1-467e-902d-8630f62fc15c",
   "metadata": {},
   "outputs": [
    {
     "data": {
      "text/plain": [
       "12.325565"
      ]
     },
     "execution_count": 122,
     "metadata": {},
     "output_type": "execute_result"
    }
   ],
   "source": [
    "y"
   ]
  },
  {
   "cell_type": "code",
   "execution_count": 123,
   "id": "dc3e1cf8-f6a7-437f-a633-b15c1587a05b",
   "metadata": {},
   "outputs": [
    {
     "data": {
      "text/plain": [
       "(72.325566, 12.325565)"
      ]
     },
     "execution_count": 123,
     "metadata": {},
     "output_type": "execute_result"
    }
   ],
   "source": [
    "LongLat"
   ]
  },
  {
   "cell_type": "code",
   "execution_count": 124,
   "id": "6012bc98-8bc3-4e1a-8b10-6f7311bf50f8",
   "metadata": {},
   "outputs": [
    {
     "ename": "ValueError",
     "evalue": "not enough values to unpack (expected 3, got 2)",
     "output_type": "error",
     "traceback": [
      "\u001b[1;31m---------------------------------------------------------------------------\u001b[0m",
      "\u001b[1;31mValueError\u001b[0m                                Traceback (most recent call last)",
      "Cell \u001b[1;32mIn[124], line 1\u001b[0m\n\u001b[1;32m----> 1\u001b[0m x, y, z \u001b[38;5;241m=\u001b[39m LongLat\n",
      "\u001b[1;31mValueError\u001b[0m: not enough values to unpack (expected 3, got 2)"
     ]
    }
   ],
   "source": [
    "x, y, z = LongLat"
   ]
  },
  {
   "cell_type": "code",
   "execution_count": 125,
   "id": "19aff86c-ec49-4d5d-8680-fcc7f35847cf",
   "metadata": {},
   "outputs": [],
   "source": [
    "# Pluck a few elements\n",
    "\n",
    "tup = 1,2,3,4,5\n"
   ]
  },
  {
   "cell_type": "code",
   "execution_count": 126,
   "id": "2082388c-c72e-4190-8072-581dff424141",
   "metadata": {},
   "outputs": [],
   "source": [
    "a, b, *others = tup"
   ]
  },
  {
   "cell_type": "code",
   "execution_count": 127,
   "id": "39be2837-0a9f-4383-981a-790023736412",
   "metadata": {},
   "outputs": [
    {
     "data": {
      "text/plain": [
       "1"
      ]
     },
     "execution_count": 127,
     "metadata": {},
     "output_type": "execute_result"
    }
   ],
   "source": [
    "a"
   ]
  },
  {
   "cell_type": "code",
   "execution_count": 128,
   "id": "0f53ad3f-67fa-4bf8-813f-fdc8b0b43a8f",
   "metadata": {},
   "outputs": [
    {
     "data": {
      "text/plain": [
       "2"
      ]
     },
     "execution_count": 128,
     "metadata": {},
     "output_type": "execute_result"
    }
   ],
   "source": [
    "b"
   ]
  },
  {
   "cell_type": "code",
   "execution_count": 129,
   "id": "b59ac946-420a-45a9-a2e7-2aae45c2ff89",
   "metadata": {},
   "outputs": [
    {
     "data": {
      "text/plain": [
       "[3, 4, 5]"
      ]
     },
     "execution_count": 129,
     "metadata": {},
     "output_type": "execute_result"
    }
   ],
   "source": [
    "others"
   ]
  },
  {
   "cell_type": "code",
   "execution_count": 130,
   "id": "74a879d1-baa7-45bd-b2a7-efcfd2cae200",
   "metadata": {},
   "outputs": [],
   "source": [
    "x, y, *z = LongLat"
   ]
  },
  {
   "cell_type": "code",
   "execution_count": 131,
   "id": "87d0dadf-5000-4e8f-9101-1ab44375a970",
   "metadata": {},
   "outputs": [
    {
     "data": {
      "text/plain": [
       "72.325566"
      ]
     },
     "execution_count": 131,
     "metadata": {},
     "output_type": "execute_result"
    }
   ],
   "source": [
    "x"
   ]
  },
  {
   "cell_type": "code",
   "execution_count": 132,
   "id": "c3df1c61-a9d5-459f-824c-9db799fd20cf",
   "metadata": {},
   "outputs": [
    {
     "data": {
      "text/plain": [
       "12.325565"
      ]
     },
     "execution_count": 132,
     "metadata": {},
     "output_type": "execute_result"
    }
   ],
   "source": [
    "y"
   ]
  },
  {
   "cell_type": "code",
   "execution_count": 133,
   "id": "ee5ac4b8-0399-4cdc-b9eb-efba5a103f59",
   "metadata": {},
   "outputs": [
    {
     "data": {
      "text/plain": [
       "[]"
      ]
     },
     "execution_count": 133,
     "metadata": {},
     "output_type": "execute_result"
    }
   ],
   "source": [
    "z"
   ]
  },
  {
   "cell_type": "code",
   "execution_count": null,
   "id": "48f61b70-0a9e-4c60-aa3c-e7d8d127c136",
   "metadata": {},
   "outputs": [],
   "source": [
    "# If we don't care about others, then we can also use an _ to ignore the trailing values\n",
    "\n",
    "a, b, *_ = tup\n",
    "\n",
    "print(a)\n",
    "print(b)"
   ]
  },
  {
   "cell_type": "code",
   "execution_count": null,
   "id": "46feef53-e9a5-484d-8497-24114b9e55d9",
   "metadata": {},
   "outputs": [],
   "source": []
  },
  {
   "cell_type": "code",
   "execution_count": 135,
   "id": "a4491f28-969d-47b1-8c0e-9d540af3553a",
   "metadata": {},
   "outputs": [],
   "source": [
    "# Sorting\n",
    "\n",
    "Ratings = (0, 9, 6, 5, 10, 8, 9, 6, 2)"
   ]
  },
  {
   "cell_type": "code",
   "execution_count": 136,
   "id": "12d8bf8d-b0de-4f08-88b2-264ef59fcaf2",
   "metadata": {},
   "outputs": [],
   "source": [
    "# Sort the tuple\n",
    "\n",
    "RatingsSorted = sorted(Ratings)"
   ]
  },
  {
   "cell_type": "code",
   "execution_count": 137,
   "id": "35f3a2ab-a6df-4d54-aade-17f5d78463ef",
   "metadata": {},
   "outputs": [
    {
     "data": {
      "text/plain": [
       "[0, 2, 5, 6, 6, 8, 9, 9, 10]"
      ]
     },
     "execution_count": 137,
     "metadata": {},
     "output_type": "execute_result"
    }
   ],
   "source": [
    "RatingsSorted"
   ]
  },
  {
   "cell_type": "code",
   "execution_count": 138,
   "id": "9a47308b-a107-4653-86cf-de73c139aa2b",
   "metadata": {},
   "outputs": [
    {
     "data": {
      "text/plain": [
       "(0, 2, 5, 6, 6, 8, 9, 9, 10)"
      ]
     },
     "execution_count": 138,
     "metadata": {},
     "output_type": "execute_result"
    }
   ],
   "source": [
    "RatingsSorted = tuple(RatingsSorted)\n",
    "RatingsSorted"
   ]
  },
  {
   "cell_type": "code",
   "execution_count": 139,
   "id": "73caa3c1-73df-4004-a769-6cb01537059c",
   "metadata": {},
   "outputs": [],
   "source": [
    "#reverse sort\n",
    "\n",
    "Ratings = (0, 9, 6, 5, 10, 8, 9, 6, 2)"
   ]
  },
  {
   "cell_type": "code",
   "execution_count": 140,
   "id": "45c42d7f-cd30-42a5-92cd-cdaedb213a5f",
   "metadata": {},
   "outputs": [
    {
     "data": {
      "text/plain": [
       "[10, 9, 9, 8, 6, 6, 5, 2, 0]"
      ]
     },
     "execution_count": 140,
     "metadata": {},
     "output_type": "execute_result"
    }
   ],
   "source": [
    "reverse_sort = sorted(Ratings, reverse = True)\n",
    "reverse_sort"
   ]
  },
  {
   "cell_type": "code",
   "execution_count": 141,
   "id": "d1f90518-4104-4b4b-88c3-9fe7d440b38b",
   "metadata": {},
   "outputs": [
    {
     "data": {
      "text/plain": [
       "(10, 9, 9, 8, 6, 6, 5, 2, 0)"
      ]
     },
     "execution_count": 141,
     "metadata": {},
     "output_type": "execute_result"
    }
   ],
   "source": [
    "reverse_sort = tuple(reverse_sort)\n",
    "reverse_sort"
   ]
  }
 ],
 "metadata": {
  "kernelspec": {
   "display_name": "Python 3 (ipykernel)",
   "language": "python",
   "name": "python3"
  },
  "language_info": {
   "codemirror_mode": {
    "name": "ipython",
    "version": 3
   },
   "file_extension": ".py",
   "mimetype": "text/x-python",
   "name": "python",
   "nbconvert_exporter": "python",
   "pygments_lexer": "ipython3",
   "version": "3.12.4"
  }
 },
 "nbformat": 4,
 "nbformat_minor": 5
}
