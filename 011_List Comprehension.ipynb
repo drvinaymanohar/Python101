{
 "cells": [
  {
   "cell_type": "markdown",
   "id": "d78fc375-c89a-4f51-b699-f496ebea3ce8",
   "metadata": {},
   "source": [
    "#### List Comprehension with for loops"
   ]
  },
  {
   "cell_type": "code",
   "execution_count": 1,
   "id": "8c08b732-c0b8-4c0a-9c21-c9c46c7669da",
   "metadata": {},
   "outputs": [
    {
     "name": "stdout",
     "output_type": "stream",
     "text": [
      "[25, 36, 64, 100]\n"
     ]
    }
   ],
   "source": [
    "# traditional method\n",
    "\n",
    "values = [5, 6, 8, 10]\n",
    "\n",
    "# we want a squared list\n",
    "\n",
    "squared_values = []\n",
    "\n",
    "\n",
    "for i in values:\n",
    "    squared = i**2\n",
    "    squared_values.append(squared)\n",
    "\n",
    "\n",
    "print(squared_values)"
   ]
  },
  {
   "cell_type": "code",
   "execution_count": 9,
   "id": "2ad3f11d-a570-4e84-a820-142908e54ad3",
   "metadata": {},
   "outputs": [
    {
     "name": "stdout",
     "output_type": "stream",
     "text": [
      "[2.0, 4.0, 4.5, 2.0, 0.5]\n"
     ]
    }
   ],
   "source": [
    "valuez = [4, 8, 9, 4, 1]\n",
    "\n",
    "value_divided = []\n",
    "\n",
    "\n",
    "for i in valuez:\n",
    "    divi = i / 2.0\n",
    "    value_divided.append(divi)\n",
    "\n",
    "\n",
    "print(value_divided)"
   ]
  },
  {
   "cell_type": "code",
   "execution_count": 10,
   "id": "f36b8785-ce98-444c-8ab2-870fd28e5f5f",
   "metadata": {},
   "outputs": [
    {
     "data": {
      "text/plain": [
       "[125, 216, 512, 1000]"
      ]
     },
     "execution_count": 10,
     "metadata": {},
     "output_type": "execute_result"
    }
   ],
   "source": [
    "# Elegant way through List comprehension\n",
    "\n",
    "# cube every value\n",
    "\n",
    "# [dosomethingonitem for item in list]\n",
    "values = [5, 6, 8, 10]\n",
    "\n",
    "cubed_values = [i**3 for i in values]\n",
    "\n",
    "cubed_values"
   ]
  },
  {
   "cell_type": "code",
   "execution_count": 11,
   "id": "c1c105b2-e2bc-4095-af43-c2bb05bc4c83",
   "metadata": {},
   "outputs": [
    {
     "data": {
      "text/plain": [
       "[2.0, 4.0, 4.5, 2.0, 0.5]"
      ]
     },
     "execution_count": 11,
     "metadata": {},
     "output_type": "execute_result"
    }
   ],
   "source": [
    "valuez = [4, 8, 9, 4, 1]\n",
    "\n",
    "dividedvalue = [i / 2.0 for i in valuez]\n",
    "\n",
    "dividedvalue"
   ]
  },
  {
   "cell_type": "code",
   "execution_count": 12,
   "id": "c4794b22-0b00-443f-a59f-46e0ab237aaf",
   "metadata": {},
   "outputs": [
    {
     "name": "stdout",
     "output_type": "stream",
     "text": [
      "[0, 1, 4, 9, 16, 25, 36, 49, 64, 81]\n"
     ]
    }
   ],
   "source": [
    "# Creating a list of squares\n",
    "\n",
    "# i dont have any existing list\n",
    "\n",
    "# i want to create new list from (0 to 10) - > Squares \n",
    "\n",
    "squares = [x**2 for x in range(10)]\n",
    "\n",
    "print(squares)"
   ]
  },
  {
   "cell_type": "code",
   "execution_count": 13,
   "id": "a9479eb3-fa5d-45a7-8993-288f6dd20606",
   "metadata": {},
   "outputs": [
    {
     "data": {
      "text/plain": [
       "[0.0,\n",
       " 1.0,\n",
       " 1.4142135623730951,\n",
       " 1.7320508075688772,\n",
       " 2.0,\n",
       " 2.23606797749979,\n",
       " 2.449489742783178,\n",
       " 2.6457513110645907,\n",
       " 2.8284271247461903,\n",
       " 3.0]"
      ]
     },
     "execution_count": 13,
     "metadata": {},
     "output_type": "execute_result"
    }
   ],
   "source": [
    "# square root\n",
    "squareroot = [x**0.5 for x in range(10)]\n",
    "squareroot"
   ]
  },
  {
   "cell_type": "code",
   "execution_count": 15,
   "id": "7a602c50-ebdf-425f-b6f9-d935467e8b22",
   "metadata": {},
   "outputs": [
    {
     "data": {
      "text/plain": [
       "[0.0, 1.0, 1.41, 1.73, 2.0, 2.24, 2.45, 2.65, 2.83, 3.0]"
      ]
     },
     "execution_count": 15,
     "metadata": {},
     "output_type": "execute_result"
    }
   ],
   "source": [
    "squareroot = [round(x**0.5,2) for x in range(10)]\n",
    "squareroot"
   ]
  },
  {
   "cell_type": "code",
   "execution_count": 16,
   "id": "051bc7d5-e377-4cef-b27e-69738bed8855",
   "metadata": {},
   "outputs": [
    {
     "data": {
      "text/plain": [
       "[0, 2, 4, 6, 8]"
      ]
     },
     "execution_count": 16,
     "metadata": {},
     "output_type": "execute_result"
    }
   ],
   "source": [
    "# List Comprehension with Conditional Statements\n",
    "evenNums = [x for x in range(10) if x % 2 == 0]\n",
    "evenNums"
   ]
  },
  {
   "cell_type": "code",
   "execution_count": 17,
   "id": "87ff3ae5-f90c-4cb0-bc59-ee85aa650b28",
   "metadata": {},
   "outputs": [
    {
     "data": {
      "text/plain": [
       "[1,\n",
       " 3,\n",
       " 5,\n",
       " 7,\n",
       " 9,\n",
       " 11,\n",
       " 13,\n",
       " 15,\n",
       " 17,\n",
       " 19,\n",
       " 21,\n",
       " 23,\n",
       " 25,\n",
       " 27,\n",
       " 29,\n",
       " 31,\n",
       " 33,\n",
       " 35,\n",
       " 37,\n",
       " 39,\n",
       " 41,\n",
       " 43,\n",
       " 45,\n",
       " 47,\n",
       " 49]"
      ]
     },
     "execution_count": 17,
     "metadata": {},
     "output_type": "execute_result"
    }
   ],
   "source": [
    "oddNums = [i for i in range(51) if i % 2 != 0]\n",
    "oddNums"
   ]
  },
  {
   "cell_type": "code",
   "execution_count": 18,
   "id": "a542f55b-a293-4220-afdf-28cc098b3552",
   "metadata": {},
   "outputs": [
    {
     "data": {
      "text/plain": [
       "[0, 15, 30, 45, 60, 75, 90, 105, 120, 135, 150, 165, 180, 195]"
      ]
     },
     "execution_count": 18,
     "metadata": {},
     "output_type": "execute_result"
    }
   ],
   "source": [
    "# List Comprehension with Multiple Conditions\n",
    "divisible_by3_5 = [num for num in range(200) if num % 3 == 0 and num % 5 == 0]\n",
    "divisible_by3_5"
   ]
  },
  {
   "cell_type": "code",
   "execution_count": 19,
   "id": "9c388211-9678-481f-b4b2-4bc4f23afb60",
   "metadata": {},
   "outputs": [
    {
     "data": {
      "text/plain": [
       "[0, 8, 16, 24, 32, 40, 48, 56, 64, 72, 80, 88, 96]"
      ]
     },
     "execution_count": 19,
     "metadata": {},
     "output_type": "execute_result"
    }
   ],
   "source": [
    "# \n",
    "diviby8 = [i for i in range(100) if i % 8 == 0]\n",
    "diviby8"
   ]
  },
  {
   "cell_type": "code",
   "execution_count": 20,
   "id": "c4337ef7-c0b3-4b95-8019-e505c3b90bfb",
   "metadata": {},
   "outputs": [
    {
     "data": {
      "text/plain": [
       "[0, 64, 256, 576, 1024, 1600, 2304, 3136, 4096, 5184, 6400, 7744, 9216]"
      ]
     },
     "execution_count": 20,
     "metadata": {},
     "output_type": "execute_result"
    }
   ],
   "source": [
    "squared_divi = [i**2 for i in diviby8]\n",
    "squared_divi"
   ]
  },
  {
   "cell_type": "code",
   "execution_count": 21,
   "id": "373efd97-964f-40a0-9894-37ef41a0a4ec",
   "metadata": {},
   "outputs": [
    {
     "data": {
      "text/plain": [
       "[0.0,\n",
       " 20.371832715762604,\n",
       " 81.48733086305042,\n",
       " 183.34649444186343,\n",
       " 325.94932345220167,\n",
       " 509.29581789406507,\n",
       " 733.3859777674537,\n",
       " 998.2198030723675,\n",
       " 1303.7972938088067,\n",
       " 1650.118449976771,\n",
       " 2037.1832715762603,\n",
       " 2464.991758607275,\n",
       " 2933.543911069815]"
      ]
     },
     "execution_count": 21,
     "metadata": {},
     "output_type": "execute_result"
    }
   ],
   "source": [
    "from math import pi\n",
    "\n",
    "divbypi = [i / pi for i in squared_divi]\n",
    "divbypi"
   ]
  },
  {
   "cell_type": "code",
   "execution_count": 22,
   "id": "82ca42a1-fcca-4deb-b93f-510edd991646",
   "metadata": {},
   "outputs": [
    {
     "data": {
      "text/plain": [
       "['VINAY', 'MANOHAR', 'GUIDO', 'VON']"
      ]
     },
     "execution_count": 22,
     "metadata": {},
     "output_type": "execute_result"
    }
   ],
   "source": [
    "# List Comprehension with strings\n",
    "words = [\"Vinay\", \"Manohar\", \"Guido\", 'Von']\n",
    "\n",
    "uWords = [word.upper() for word in words]\n",
    "uWords"
   ]
  },
  {
   "cell_type": "code",
   "execution_count": 23,
   "id": "2015bac2-511d-4120-9cb7-f49fcf41eb3f",
   "metadata": {},
   "outputs": [],
   "source": [
    "words = [\"   Vinay\", \"Manohar   \", \"Guido  \", '   Von']"
   ]
  },
  {
   "cell_type": "code",
   "execution_count": 24,
   "id": "cd615f37-94e8-4358-8f30-ba06f8e0fed9",
   "metadata": {},
   "outputs": [
    {
     "data": {
      "text/plain": [
       "['Vinay', 'Manohar', 'Guido', 'Von']"
      ]
     },
     "execution_count": 24,
     "metadata": {},
     "output_type": "execute_result"
    }
   ],
   "source": [
    "stripedWords = [i.strip() for i in words]\n",
    "stripedWords"
   ]
  },
  {
   "cell_type": "code",
   "execution_count": 25,
   "id": "ccccad2f-82fc-4b55-be64-b5dffea71b10",
   "metadata": {},
   "outputs": [
    {
     "data": {
      "text/plain": [
       "['vinay', 'manohar', 'guido', 'von']"
      ]
     },
     "execution_count": 25,
     "metadata": {},
     "output_type": "execute_result"
    }
   ],
   "source": [
    "words = [\"   Vinay\", \"Manohar   \", \"Guido  \", '   Von']\n",
    "\n",
    "\n",
    "striped_lowerd_Words = [i.strip().lower() for i in words]\n",
    "striped_lowerd_Words"
   ]
  },
  {
   "cell_type": "code",
   "execution_count": 28,
   "id": "a3957aaa-b528-4b4e-b676-d0e74874608f",
   "metadata": {},
   "outputs": [
    {
     "data": {
      "text/plain": [
       "[2.3, 56.8, 43.6, 3.8]"
      ]
     },
     "execution_count": 28,
     "metadata": {},
     "output_type": "execute_result"
    }
   ],
   "source": [
    "# List Comprehension with numbers\n",
    "fracNum = [2.3455, 56.7865, 43.5673, 3.7789999]\n",
    "\n",
    "rWords = [round(num, 1) for num in fracNum]\n",
    "rWords"
   ]
  },
  {
   "cell_type": "code",
   "execution_count": 29,
   "id": "c58f2e44-8f89-4c3f-bfbc-d51da009b984",
   "metadata": {},
   "outputs": [
    {
     "data": {
      "text/plain": [
       "['Low', 'High', 'High', 'Low', 'Low']"
      ]
     },
     "execution_count": 29,
     "metadata": {},
     "output_type": "execute_result"
    }
   ],
   "source": [
    "# Classify values in List Comprehension\n",
    "# if-else is supported\n",
    "# Doesnt support the if-elif-else structure directly\n",
    "\n",
    "\n",
    "\n",
    "value = [34, 56, 78, 20, 0]\n",
    "\n",
    "classified = [\"Low\" if x < 50 else \"High\" for x in value]\n",
    "\n",
    "classified"
   ]
  },
  {
   "cell_type": "code",
   "execution_count": null,
   "id": "8a8fd4fd-8d87-4631-baca-a0d56b7e1f75",
   "metadata": {},
   "outputs": [],
   "source": []
  }
 ],
 "metadata": {
  "kernelspec": {
   "display_name": "Python 3 (ipykernel)",
   "language": "python",
   "name": "python3"
  },
  "language_info": {
   "codemirror_mode": {
    "name": "ipython",
    "version": 3
   },
   "file_extension": ".py",
   "mimetype": "text/x-python",
   "name": "python",
   "nbconvert_exporter": "python",
   "pygments_lexer": "ipython3",
   "version": "3.12.4"
  }
 },
 "nbformat": 4,
 "nbformat_minor": 5
}
