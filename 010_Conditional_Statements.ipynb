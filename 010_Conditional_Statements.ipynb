{
 "cells": [
  {
   "cell_type": "markdown",
   "id": "171a84c4-a565-487a-963c-d1b814c5df31",
   "metadata": {},
   "source": [
    "#### Conditional statements:\n",
    "\n",
    "Conditional statements in programming allow the execution of different pieces of code based on whether certain conditions are true or false"
   ]
  },
  {
   "cell_type": "markdown",
   "id": "254bfac9-76ec-427f-a592-e4cacc99eba7",
   "metadata": {},
   "source": [
    "- `If Statement:` The if statement allows your program to test a specific condition. If the condition is true, the block of code under the if statement will execute. If not, it will skip to the next part of the code.\n",
    "  \n",
    "- `If-else Statement:` The elif (short for ‘else if’) conditional statements comes into play when you have multiple conditions to check. If the if statement’s condition is false, the program moves on to check the condition specified in the elif statement. You can have as many elif statements as you need, making your program more flexible and adaptable.\n",
    "  \n",
    "- `if-elif-Else Statement:` Finally, the else conditional statements is your safety net. If none of the if or elif conditions are true, the else statement will execute. It’s like the program saying, “Well, none of these conditions were met, so let’s do this instead.”"
   ]
  },
  {
   "cell_type": "code",
   "execution_count": 31,
   "id": "198aacb4-48f3-4669-991e-9d8b6475aa38",
   "metadata": {},
   "outputs": [],
   "source": [
    "# Simple If conditional statements in Python"
   ]
  },
  {
   "cell_type": "code",
   "execution_count": 33,
   "id": "cad54da6-5b02-418e-9f56-7816cfb76d29",
   "metadata": {},
   "outputs": [],
   "source": [
    "# conditions with numbers\n",
    "temp = 12\n",
    "\n",
    "if temp > 30:\n",
    "    print('It very hot')"
   ]
  },
  {
   "cell_type": "code",
   "execution_count": 47,
   "id": "d38f4e1a-af4f-437b-b695-e1023673b54d",
   "metadata": {},
   "outputs": [
    {
     "name": "stdout",
     "output_type": "stream",
     "text": [
      "Not thirty degree\n"
     ]
    }
   ],
   "source": [
    "# >, <, >=, <=, !=, ==\n",
    "\n",
    "temp = 31\n",
    "\n",
    "if temp != 30:\n",
    "    print('Not thirty degree')"
   ]
  },
  {
   "cell_type": "code",
   "execution_count": null,
   "id": "38d4dbac-5029-43a5-987d-8588391f5a81",
   "metadata": {},
   "outputs": [],
   "source": []
  },
  {
   "cell_type": "code",
   "execution_count": 37,
   "id": "7b0ea1b9-c23d-4815-aeb4-fabdf87f917c",
   "metadata": {},
   "outputs": [
    {
     "name": "stdout",
     "output_type": "stream",
     "text": [
      "Low Temperature\n"
     ]
    }
   ],
   "source": [
    "# Common Mistakes to Avoid (Use Proper Indendations)\n",
    "\n",
    "temperature = 9\n",
    "\n",
    "if temperature < 25:\n",
    "    print(\"Low Temperature\")"
   ]
  },
  {
   "cell_type": "code",
   "execution_count": 55,
   "id": "985bc01d-98b1-4732-851a-771dccdad9ea",
   "metadata": {},
   "outputs": [
    {
     "name": "stdout",
     "output_type": "stream",
     "text": [
      "Welcome Vinay\n"
     ]
    }
   ],
   "source": [
    "# conditions with strings\n",
    "\n",
    "username = \"ViNaY\"\n",
    "\n",
    "if username.lower() == \"vinay\":\n",
    "    print(\"Welcome Vinay\")"
   ]
  },
  {
   "cell_type": "code",
   "execution_count": 59,
   "id": "e78fecc4-aa16-4ff4-ba50-672a54841a64",
   "metadata": {},
   "outputs": [],
   "source": [
    "# conditions with booleans\n",
    "isMale = False\n",
    "\n",
    "if isMale:\n",
    "    print(\"You are Male\")"
   ]
  },
  {
   "cell_type": "code",
   "execution_count": 64,
   "id": "3c23ffaa-766c-4dd0-ae44-bb1c71454a1a",
   "metadata": {},
   "outputs": [
    {
     "name": "stdout",
     "output_type": "stream",
     "text": [
      "You are Teen\n"
     ]
    }
   ],
   "source": [
    "# conditions with logical operators, AND OR NOT\n",
    "\n",
    "age = 1\n",
    "\n",
    "if age >= 13 and age <= 19:\n",
    "    print(\"You are Teen\")"
   ]
  },
  {
   "cell_type": "code",
   "execution_count": 69,
   "id": "de30043b-676c-402a-80cd-c81d8ddb0b8b",
   "metadata": {},
   "outputs": [
    {
     "name": "stdout",
     "output_type": "stream",
     "text": [
      "i is present in Guido\n"
     ]
    }
   ],
   "source": [
    "# conditions with memberships operators\n",
    "name = 'Guido'\n",
    "search = 'i'\n",
    "if search in name:\n",
    "    print(f\"{search} is present in {name}\")"
   ]
  },
  {
   "cell_type": "code",
   "execution_count": 72,
   "id": "ec2493b7-fbce-4299-a4da-83d7fdaa27ab",
   "metadata": {},
   "outputs": [
    {
     "name": "stdout",
     "output_type": "stream",
     "text": [
      "z is absent\n"
     ]
    }
   ],
   "source": [
    "if 'z' not in 'python':\n",
    "    print(\"z is absent\")"
   ]
  },
  {
   "cell_type": "code",
   "execution_count": null,
   "id": "187394df-98d2-48ae-adaa-2782baaae662",
   "metadata": {},
   "outputs": [],
   "source": [
    "# working with two outcomes"
   ]
  },
  {
   "cell_type": "code",
   "execution_count": 75,
   "id": "b2a54f6d-67d4-4f78-bc75-497b607ae7a0",
   "metadata": {},
   "outputs": [
    {
     "name": "stdin",
     "output_type": "stream",
     "text": [
      "Enter a number for valuation:  -9\n"
     ]
    },
    {
     "name": "stdout",
     "output_type": "stream",
     "text": [
      "Less than ten\n"
     ]
    }
   ],
   "source": [
    "# Check the number greater or lesser\n",
    "checknumber = int(input('Enter a number for valuation: '))\n",
    "\n",
    "if checknumber <= 10:\n",
    "    print('Less than ten')\n",
    "else:\n",
    "    print('Greater than ten')"
   ]
  },
  {
   "cell_type": "code",
   "execution_count": 82,
   "id": "1cb44c63-4cbf-4d05-8ca0-8e0d37b9601b",
   "metadata": {},
   "outputs": [
    {
     "name": "stdout",
     "output_type": "stream",
     "text": [
      "It is Even\n"
     ]
    }
   ],
   "source": [
    "# Check odd or even\n",
    "number = 2\n",
    "if number % 2 == 0:\n",
    "    print('It is Even')\n",
    "else:\n",
    "    print('It is Odd')"
   ]
  },
  {
   "cell_type": "code",
   "execution_count": 84,
   "id": "6b7dbb8d-6757-4efe-bb61-9ad92418e9d0",
   "metadata": {},
   "outputs": [
    {
     "name": "stdout",
     "output_type": "stream",
     "text": [
      "You are Safe\n"
     ]
    }
   ],
   "source": [
    "# Booleans\n",
    "isCOVID = False\n",
    "\n",
    "if isCOVID:\n",
    "    print(\"You are infected\")\n",
    "else:\n",
    "    print(\"You are Safe\")"
   ]
  },
  {
   "cell_type": "code",
   "execution_count": 86,
   "id": "41db74c4-05cd-47dc-b419-d45e4ce0bcba",
   "metadata": {},
   "outputs": [
    {
     "name": "stdout",
     "output_type": "stream",
     "text": [
      "Good Morning\n"
     ]
    }
   ],
   "source": [
    "day_night = 'Morning'\n",
    "\n",
    "if day_night == 'Morning':\n",
    "    print('Good Morning')\n",
    "else:\n",
    "    print('Good Night')"
   ]
  },
  {
   "cell_type": "markdown",
   "id": "87fc2787-8973-4360-b39a-b43d2a107ea2",
   "metadata": {},
   "source": [
    "The elif statement, short for “else if,” comes into play when you have more than two possible outcomes to consider. With elif, you can chain together multiple conditions, and Python will check each one in the order you’ve written them. The moment a true condition is found, Python executes the corresponding block of code and skips the rest. If none of the conditions are true, the program will move on to the optional else statement, if you’ve included one."
   ]
  },
  {
   "cell_type": "code",
   "execution_count": 87,
   "id": "524e1fe4-d523-4bc2-a841-d868b70ad7c0",
   "metadata": {},
   "outputs": [
    {
     "name": "stdout",
     "output_type": "stream",
     "text": [
      "Warm\n"
     ]
    }
   ],
   "source": [
    "# with greater and lesser numbers\n",
    "\n",
    "temperature = 15\n",
    "\n",
    "if temperature >= 25:\n",
    "    print(\"Hot\")\n",
    "elif temperature >= 15:\n",
    "    print(\"Warm\")\n",
    "elif temperature >= 5:\n",
    "    print(\"Cool\")\n",
    "else:\n",
    "    print(\"Chilling\")"
   ]
  },
  {
   "cell_type": "code",
   "execution_count": 90,
   "id": "3a26fbf6-c9cb-4b35-9bf9-33a6f74deb3f",
   "metadata": {},
   "outputs": [
    {
     "name": "stdout",
     "output_type": "stream",
     "text": [
      "Zero\n"
     ]
    }
   ],
   "source": [
    "# Negative, Zero and Positive\n",
    "num = 0\n",
    "\n",
    "if num < 0:\n",
    "    print(\"Negative\")\n",
    "elif num == 0:\n",
    "    print('Zero')\n",
    "else:\n",
    "    print('Positive')"
   ]
  },
  {
   "cell_type": "code",
   "execution_count": 97,
   "id": "009bdfcb-0d3d-48df-b3d2-ca73a3c71ad6",
   "metadata": {},
   "outputs": [
    {
     "name": "stdout",
     "output_type": "stream",
     "text": [
      "You are short Female\n"
     ]
    }
   ],
   "source": [
    "# Multiple Conditions with Booleans, logical operators\n",
    "\n",
    "isMale = False\n",
    "isTall = False\n",
    "\n",
    "if isMale and isTall:\n",
    "    print(\"You are Tall Male\")\n",
    "    \n",
    "elif isMale and not(isTall):\n",
    "    print(\"You are short Male\")\n",
    "    \n",
    "elif not(isMale) and isTall:\n",
    "    print(\"You are Tall Female\")\n",
    "    \n",
    "else:\n",
    "    print(\"You are short Female\")"
   ]
  },
  {
   "cell_type": "code",
   "execution_count": 98,
   "id": "a861ed11-084c-4ceb-a495-0d72157c199f",
   "metadata": {},
   "outputs": [
    {
     "name": "stdout",
     "output_type": "stream",
     "text": [
      "The student's grade is: B\n"
     ]
    }
   ],
   "source": [
    "# Create a ranking of Student based on percentage\n",
    "score = 85\n",
    "\n",
    "if score >= 90:\n",
    "    grade = \"A\"\n",
    "\n",
    "elif score >= 80:\n",
    "    grade = \"B\"\n",
    "    \n",
    "elif score >= 70:\n",
    "    grade = \"C\"\n",
    "    \n",
    "elif score >= 60:\n",
    "    grade = \"D\"\n",
    "    \n",
    "else:\n",
    "    grade = \"F\"\n",
    "\n",
    "print(f\"The student's grade is: {grade}\")"
   ]
  },
  {
   "cell_type": "code",
   "execution_count": 101,
   "id": "3d646e0b-33ba-49c4-acbf-e463b0da2d25",
   "metadata": {},
   "outputs": [
    {
     "name": "stdout",
     "output_type": "stream",
     "text": [
      "Smitha scored 54 and her ranking is Second class\n"
     ]
    }
   ],
   "source": [
    "score = 54\n",
    "studentName = 'Smitha'\n",
    "\n",
    "# Condition Check Starts\n",
    "if score >= 85 and score <=100:\n",
    "    rank = 'Distinction'\n",
    "elif score >=60 and score <85:\n",
    "    rank = 'first class'\n",
    "elif score >=45 and score <60:\n",
    "    rank = 'Second class'\n",
    "else:\n",
    "    rank = 'Failed'\n",
    "# Condition check stops\n",
    "\n",
    "\n",
    "print(f'{studentName} scored {score} and her ranking is {rank}')"
   ]
  },
  {
   "cell_type": "code",
   "execution_count": 107,
   "id": "0a65e612-6097-490b-88ac-1a4f91e556b0",
   "metadata": {},
   "outputs": [
    {
     "name": "stdout",
     "output_type": "stream",
     "text": [
      "The user is classified as: senior\n"
     ]
    }
   ],
   "source": [
    "# Create a program for classifying age groups\n",
    "age = 80\n",
    "\n",
    "if age <= 13:\n",
    "    category = \"child\"\n",
    "elif age < 20:\n",
    "    category = \"teenager\"\n",
    "elif age < 60:\n",
    "    category = \"adult\"\n",
    "else:\n",
    "    category = \"senior\"\n",
    "\n",
    "print(f\"The user is classified as: {category}\")"
   ]
  },
  {
   "cell_type": "code",
   "execution_count": 108,
   "id": "d33adf3c-f042-4796-a777-84f6b3f2da1f",
   "metadata": {},
   "outputs": [],
   "source": [
    "# Nested if condition"
   ]
  },
  {
   "cell_type": "raw",
   "id": "2065a29f-0670-4b14-9541-c6724205dd47",
   "metadata": {},
   "source": [
    "if condition1:\n",
    "    if condition2:\n",
    "        if condition3:\n",
    "            # Action for all conditions met\n",
    "        else:\n",
    "            # Action if condition3 is not met\n",
    "    else:\n",
    "        # Action if condition2 is not met\n",
    "else:\n",
    "    # Action if condition1 is not met"
   ]
  },
  {
   "cell_type": "code",
   "execution_count": 112,
   "id": "86317123-e2c9-4cda-9dc5-993c26407084",
   "metadata": {},
   "outputs": [
    {
     "name": "stdout",
     "output_type": "stream",
     "text": [
      "You both can enter the event.\n"
     ]
    }
   ],
   "source": [
    "age = 56\n",
    "isCouple = True\n",
    "\n",
    "if age >= 18:\n",
    "    if isCouple:\n",
    "        print(\"You both can enter the event.\")\n",
    "    else:\n",
    "        print(\"You both should be married couple to enter event.\")\n",
    "else:\n",
    "    print(\"You both are not old enough to enter event\")"
   ]
  },
  {
   "cell_type": "code",
   "execution_count": 116,
   "id": "9999d6b6-d7b3-4b35-a8d4-9c348e37da39",
   "metadata": {},
   "outputs": [
    {
     "name": "stdin",
     "output_type": "stream",
     "text": [
      "Enter your username:  Vinaymanohar\n",
      "Enter your password:  Welcome@123\n"
     ]
    },
    {
     "name": "stdout",
     "output_type": "stream",
     "text": [
      "Login successful! Welcome!\n"
     ]
    }
   ],
   "source": [
    "# Simple Login System\n",
    "\n",
    "# Predefined username and password\n",
    "actual_username = \"Vinaymanohar\"\n",
    "actual_password = \"Welcome@123\"\n",
    "\n",
    "\n",
    "# Prompt the user to enter their username and password\n",
    "entered_username = input(\"Enter your username: \")\n",
    "\n",
    "# Validate the login credentials\n",
    "if entered_username == actual_username:\n",
    "    entered_password = input(\"Enter your password: \")\n",
    "    if entered_password == actual_password:\n",
    "        print(\"Login successful! Welcome!\")\n",
    "    else:\n",
    "        print(\"Incorrect password! Please try again.\")\n",
    "else:\n",
    "    print(\"Username not found! Please check your username.\")"
   ]
  },
  {
   "cell_type": "code",
   "execution_count": 132,
   "id": "bde390d6-2dfa-435a-8478-8235396b9e8a",
   "metadata": {},
   "outputs": [
    {
     "name": "stdout",
     "output_type": "stream",
     "text": [
      "5\n"
     ]
    }
   ],
   "source": [
    "# Random Value\n",
    "import random\n",
    "a = random.randint(1,5)\n",
    "print(a)"
   ]
  },
  {
   "cell_type": "code",
   "execution_count": 29,
   "id": "1ea22e9c-3e9a-4c20-968a-f773cdea4037",
   "metadata": {},
   "outputs": [],
   "source": [
    "# Impliment Number Guessing Game"
   ]
  },
  {
   "cell_type": "code",
   "execution_count": 142,
   "id": "fab0f973-a56f-439c-b50f-5c2a8af28518",
   "metadata": {},
   "outputs": [
    {
     "name": "stdout",
     "output_type": "stream",
     "text": [
      "Welcome to the Number Guessing Game\n",
      "\n",
      "\n",
      "\n"
     ]
    },
    {
     "name": "stdin",
     "output_type": "stream",
     "text": [
      "Enter value between 1 to 9 5\n"
     ]
    },
    {
     "name": "stdout",
     "output_type": "stream",
     "text": [
      "You are looser, your value 5 and system value is 9\n"
     ]
    }
   ],
   "source": [
    "print('Welcome to the Number Guessing Game')\n",
    "print('\\n\\n')\n",
    "user_value = int(input('Enter value between 1 to 9'))\n",
    "system_value = random.randint(1,9)\n",
    "\n",
    "if user_value == system_value:\n",
    "    print(f'You are winner, your value {user_value} and system value is {system_value}')\n",
    "else:\n",
    "    print(f'You are looser, your value {user_value} and system value is {system_value}')"
   ]
  },
  {
   "cell_type": "code",
   "execution_count": null,
   "id": "9f4d5ec0-5660-42e6-bfde-52c0140f61fb",
   "metadata": {},
   "outputs": [],
   "source": []
  },
  {
   "cell_type": "raw",
   "id": "eb0864bd-1ab5-4a3b-8fdc-b7c027575fbc",
   "metadata": {},
   "source": [
    "# Random Choice\n",
    "sys_action = ['Rock', 'Paper', 'Scissor']\n",
    "sys_selected = random.choice(sys_action)\n",
    "print(sys_selected)\n",
    "\n",
    "user_selected = input('Enter Rock, Paper or Scissor: ')\n",
    "\n",
    "if user_selected == sys_selected:\n",
    "    print('Tie')\n",
    "elif user_selected is 'Rock' and sys_selected is 'Paper':\n",
    "    print('Bot won')\n"
   ]
  },
  {
   "cell_type": "code",
   "execution_count": 149,
   "id": "fbb34e32-7148-4f2d-8200-e35d3649364a",
   "metadata": {},
   "outputs": [],
   "source": [
    "# impliment ROCK, PAPER, SCISSOR game"
   ]
  },
  {
   "cell_type": "code",
   "execution_count": null,
   "id": "b0fdd01c-4001-4a9c-9cc9-70c4594304e7",
   "metadata": {},
   "outputs": [],
   "source": []
  },
  {
   "cell_type": "markdown",
   "id": "d865789a-1e9a-4078-aabb-b9ae5bb0cbae",
   "metadata": {},
   "source": [
    "#### Using Ternary Conditional Operators"
   ]
  },
  {
   "cell_type": "markdown",
   "id": "ef489f8b-dbb4-490d-b54e-4d7e19d2f313",
   "metadata": {},
   "source": [
    "“Ternary” means “composed of three items.” The ternary operator fits that definition, as it is composed of a conditional, a value if true, and a value if false\n",
    "\n",
    "Syntax to write Concise Conditional Expressions with Ternary Operators\n",
    "\n",
    "`value_if_true if condition else value_if_false`"
   ]
  },
  {
   "cell_type": "code",
   "execution_count": null,
   "id": "17279ff1-8844-4bfb-a653-d9e4f2053f63",
   "metadata": {},
   "outputs": [],
   "source": [
    "# Traditional Method\n",
    "number = 10\n",
    "\n",
    "if number > 0:\n",
    "    result = \"Positive\"\n",
    "else:\n",
    "    result = \"Negative\"\n",
    "\n",
    "print(result)"
   ]
  },
  {
   "cell_type": "code",
   "execution_count": 156,
   "id": "0b1e6f84-d502-47db-97e3-8d514fa53188",
   "metadata": {},
   "outputs": [
    {
     "name": "stdout",
     "output_type": "stream",
     "text": [
      "Negative\n"
     ]
    }
   ],
   "source": [
    "# Using Ternary Conditional Operator\n",
    "\n",
    "number = -8\n",
    "result = \"Positive\" if number > 0 else \"Negative\"\n",
    "print(result)"
   ]
  },
  {
   "cell_type": "code",
   "execution_count": null,
   "id": "e4a77c34-4cfb-49ab-8127-8de328807f33",
   "metadata": {},
   "outputs": [],
   "source": [
    "isCovid = False\n",
    "result = \"Positive\" if isCovid else \"Negative\"\n",
    "print(result)"
   ]
  },
  {
   "cell_type": "code",
   "execution_count": null,
   "id": "9cdaf3e1-2518-403a-a5aa-5a0fa62c8a0e",
   "metadata": {},
   "outputs": [],
   "source": [
    "# Check Multiple Conditions using Nested ternary\n",
    "# value_if_true if condition else value_if_true if condition else value_if_false"
   ]
  },
  {
   "cell_type": "code",
   "execution_count": null,
   "id": "ae94f012-2545-42b1-8043-9e94b6ae2c74",
   "metadata": {},
   "outputs": [],
   "source": [
    "x = 15\n",
    "\n",
    "result = (\"Greater than 20\" if x > 20 else\n",
    "    \"Greater than 10 but less than or equal to 20\" if x > 10 else\n",
    "    \"Greater than 5 but less than or equal to 10\" if x > 5 else\n",
    "    \"5 or less\")\n",
    "\n",
    "print(result)"
   ]
  },
  {
   "cell_type": "raw",
   "id": "6cedc598-9a43-4456-b8ef-eb2ef034c545",
   "metadata": {},
   "source": [
    "Simple Voting Eligibility\n",
    "Write a program that checks if a person is eligible to vote.\n",
    "A person is eligible if they are 18 years or older.\n",
    "If eligible, \n",
    "print \"You can vote,\" \n",
    "otherwise print \"You cannot vote.\""
   ]
  },
  {
   "cell_type": "raw",
   "id": "641120fa-1aed-4cc7-bfb5-4602d360c46d",
   "metadata": {},
   "source": [
    "Create a program that takes the current hour as input and prints whether it's morning, afternoon, evening, or night:\n",
    "24 hours format to implement\n",
    "\n",
    "Morning: 5 AM to 11 AM\n",
    "Afternoon: 12 PM to 4 PM\n",
    "Evening: 4 PM to 7 PM\n",
    "Night: 7 PM to 12 AM"
   ]
  },
  {
   "cell_type": "raw",
   "id": "ce49a8c2-7098-408b-a402-ce958cb07e81",
   "metadata": {},
   "source": [
    "Character Type Checker\n",
    "Write a program that checks if a character entered by the user is a vowel\n",
    "\n",
    "vowellist = ['a','e','i','o','u']\n",
    "if user_value in vowellist:\n",
    "    print()"
   ]
  },
  {
   "cell_type": "raw",
   "id": "da6af41f-df30-4492-9437-a3e891102286",
   "metadata": {},
   "source": [
    "Speed Limit Checker"
   ]
  }
 ],
 "metadata": {
  "kernelspec": {
   "display_name": "Python 3 (ipykernel)",
   "language": "python",
   "name": "python3"
  },
  "language_info": {
   "codemirror_mode": {
    "name": "ipython",
    "version": 3
   },
   "file_extension": ".py",
   "mimetype": "text/x-python",
   "name": "python",
   "nbconvert_exporter": "python",
   "pygments_lexer": "ipython3",
   "version": "3.12.4"
  }
 },
 "nbformat": 4,
 "nbformat_minor": 5
}
