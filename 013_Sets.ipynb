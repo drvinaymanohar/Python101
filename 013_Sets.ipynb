{
 "cells": [
  {
   "cell_type": "code",
   "execution_count": 1,
   "id": "75038f5c-48d0-46cd-8f41-beec473de192",
   "metadata": {},
   "outputs": [],
   "source": [
    "# Strings\n",
    "# List - []\n",
    "# Tuples - ()\n",
    "\n",
    "# Sets - {}"
   ]
  },
  {
   "cell_type": "markdown",
   "id": "449d24dd-ff39-4d67-b104-283ed479e958",
   "metadata": {},
   "source": [
    "What Are Python Sets?\n",
    "\n",
    "Sets in Python are unordered collections of elements where each item is unique. When you create a set, it automatically removes any duplicate items. So if you add the same element more than once, the set will keep only one instance of that element. "
   ]
  },
  {
   "cell_type": "code",
   "execution_count": null,
   "id": "cd6062ab-aba0-429a-829e-16bb7fc7de67",
   "metadata": {},
   "outputs": [],
   "source": []
  },
  {
   "cell_type": "code",
   "execution_count": null,
   "id": "d840f1bd-703e-4918-82d7-d18863d790bf",
   "metadata": {},
   "outputs": [],
   "source": []
  },
  {
   "cell_type": "markdown",
   "id": "9c2a7e84-c40c-4ad9-a1a5-17777a68b7af",
   "metadata": {},
   "source": [
    "`Set Operations`\n",
    "\n",
    "- **Union**: All elements from both sets combined\n",
    "\n",
    "- **Intersection**: Elements common to both sets\n",
    "\n",
    "- **Difference**: Elements in one set but not in the other"
   ]
  },
  {
   "cell_type": "code",
   "execution_count": null,
   "id": "81b63765-d4b5-4963-9b56-2367cb06c886",
   "metadata": {},
   "outputs": [],
   "source": [
    "# creating a Python set\n",
    "# Using Curly Braces {} to Create Sets"
   ]
  },
  {
   "cell_type": "code",
   "execution_count": 2,
   "id": "0209c611-309e-4b1b-b828-9d941488a209",
   "metadata": {},
   "outputs": [],
   "source": [
    "null_set = {}"
   ]
  },
  {
   "cell_type": "code",
   "execution_count": 3,
   "id": "d8549906-c561-414e-aecf-b3ff68591b96",
   "metadata": {},
   "outputs": [
    {
     "data": {
      "text/plain": [
       "dict"
      ]
     },
     "execution_count": 3,
     "metadata": {},
     "output_type": "execute_result"
    }
   ],
   "source": [
    "type(null_set)"
   ]
  },
  {
   "cell_type": "code",
   "execution_count": 4,
   "id": "725b37f5-e748-4ede-8086-cf4ba953ad2d",
   "metadata": {},
   "outputs": [],
   "source": [
    "# Using the set() Constructor to Create Sets\n",
    "\n",
    "null_set = set()"
   ]
  },
  {
   "cell_type": "code",
   "execution_count": 5,
   "id": "ac078875-d81f-4641-adf4-649835b5a557",
   "metadata": {},
   "outputs": [
    {
     "data": {
      "text/plain": [
       "set"
      ]
     },
     "execution_count": 5,
     "metadata": {},
     "output_type": "execute_result"
    }
   ],
   "source": [
    "type(null_set)"
   ]
  },
  {
   "cell_type": "code",
   "execution_count": 17,
   "id": "d0c78cdf-e998-4d43-a791-2cc4f66b2f0a",
   "metadata": {},
   "outputs": [],
   "source": [
    "some_ele = {30}"
   ]
  },
  {
   "cell_type": "code",
   "execution_count": 18,
   "id": "af1ad7bc-25e1-45be-b2b0-62f9b82a2a2f",
   "metadata": {},
   "outputs": [
    {
     "data": {
      "text/plain": [
       "set"
      ]
     },
     "execution_count": 18,
     "metadata": {},
     "output_type": "execute_result"
    }
   ],
   "source": [
    "type(some_ele)"
   ]
  },
  {
   "cell_type": "code",
   "execution_count": 20,
   "id": "a88dca25-28d1-4c42-9d57-d9d5af4c31ee",
   "metadata": {},
   "outputs": [
    {
     "name": "stdout",
     "output_type": "stream",
     "text": [
      "5\n",
      "{1, 2, 3, 4, 5}\n"
     ]
    }
   ],
   "source": [
    "# Creating a simple set\n",
    "my_set = {1, 2, 3, 4, 5}\n",
    "\n",
    "print(len(my_set))\n",
    "\n",
    "print(my_set)"
   ]
  },
  {
   "cell_type": "code",
   "execution_count": 21,
   "id": "5ed863ce-fd0f-4896-aad5-af204f3d3279",
   "metadata": {},
   "outputs": [
    {
     "name": "stdout",
     "output_type": "stream",
     "text": [
      "{0, 1, 2, 3, 4, 5}\n"
     ]
    }
   ],
   "source": [
    "# try to add duplicate values\n",
    "\n",
    "my_set = {1, 2, 2, 3, 4, 5, 5, 1, 0}\n",
    "\n",
    "print(my_set)"
   ]
  },
  {
   "cell_type": "code",
   "execution_count": 22,
   "id": "136e8e4b-90b0-4ef0-a7d3-13fa785e4f0c",
   "metadata": {},
   "outputs": [
    {
     "name": "stdout",
     "output_type": "stream",
     "text": [
      "{1, 2, 3}\n"
     ]
    }
   ],
   "source": [
    "# Order is not guaranteed\n",
    "my_set = {3, 1, 2}\n",
    "\n",
    "print(my_set)"
   ]
  },
  {
   "cell_type": "code",
   "execution_count": 26,
   "id": "b8e107cc-33be-4528-9fd8-51997f169c46",
   "metadata": {},
   "outputs": [],
   "source": [
    "names = {'Kumar', 'Raj', 'Amithab', 'Rahul'}"
   ]
  },
  {
   "cell_type": "code",
   "execution_count": 27,
   "id": "c6da926f-65da-46df-8c9a-7c6e172853e3",
   "metadata": {},
   "outputs": [
    {
     "data": {
      "text/plain": [
       "{'Amithab', 'Kumar', 'Rahul', 'Raj'}"
      ]
     },
     "execution_count": 27,
     "metadata": {},
     "output_type": "execute_result"
    }
   ],
   "source": [
    "names"
   ]
  },
  {
   "cell_type": "markdown",
   "id": "5324eb9e-0963-4f62-b62e-6b338e3fd182",
   "metadata": {},
   "source": [
    "#### Characteristics of Python Sets\n",
    "\n",
    "**Unordered Structure**: Unlike lists or tuples, sets do not maintain the order in which you insert elements. So when you print a set, the items may appear in any random order. This can be a bit confusing at first, but it’s perfect when order doesn’t matter.\n",
    "\n",
    "**Mutable Data Types**: Sets are mutable, meaning you can add or remove items after the set is created. This makes them flexible for cases where you might need to change the collection during runtime.\n",
    "\n",
    "**No Duplicate Elements**: As we saw earlier, a set automatically eliminates duplicates. This is helpful when you’re working with a collection of items where each value must be unique, such as in filtering out repeated data."
   ]
  },
  {
   "cell_type": "code",
   "execution_count": 28,
   "id": "8addb847-ba6a-4d72-803c-b42399e60744",
   "metadata": {},
   "outputs": [],
   "source": [
    "# Creating a set from a list\n",
    "numbers_list = [1, 2, 2, 3, 4, 4]"
   ]
  },
  {
   "cell_type": "code",
   "execution_count": 29,
   "id": "91f66bda-2cea-4abb-aa91-fdc2879f7950",
   "metadata": {},
   "outputs": [
    {
     "data": {
      "text/plain": [
       "{1, 2, 3, 4}"
      ]
     },
     "execution_count": 29,
     "metadata": {},
     "output_type": "execute_result"
    }
   ],
   "source": [
    "list2set = set(numbers_list)\n",
    "list2set"
   ]
  },
  {
   "cell_type": "code",
   "execution_count": 31,
   "id": "fa775a11-c944-4ae2-bb09-5069f4d496da",
   "metadata": {},
   "outputs": [
    {
     "ename": "TypeError",
     "evalue": "'set' object is not subscriptable",
     "output_type": "error",
     "traceback": [
      "\u001b[1;31m---------------------------------------------------------------------------\u001b[0m",
      "\u001b[1;31mTypeError\u001b[0m                                 Traceback (most recent call last)",
      "Cell \u001b[1;32mIn[31], line 3\u001b[0m\n\u001b[0;32m      1\u001b[0m \u001b[38;5;66;03m# Indexing is not possible\u001b[39;00m\n\u001b[1;32m----> 3\u001b[0m list2set[\u001b[38;5;241m0\u001b[39m]\n",
      "\u001b[1;31mTypeError\u001b[0m: 'set' object is not subscriptable"
     ]
    }
   ],
   "source": [
    "# Indexing is not possible\n",
    "\n",
    "list2set[0]"
   ]
  },
  {
   "cell_type": "code",
   "execution_count": 32,
   "id": "4d1c4ffa-cb4e-4b3b-b5e0-50fdc3735bb3",
   "metadata": {},
   "outputs": [
    {
     "ename": "TypeError",
     "evalue": "'set' object is not subscriptable",
     "output_type": "error",
     "traceback": [
      "\u001b[1;31m---------------------------------------------------------------------------\u001b[0m",
      "\u001b[1;31mTypeError\u001b[0m                                 Traceback (most recent call last)",
      "Cell \u001b[1;32mIn[32], line 2\u001b[0m\n\u001b[0;32m      1\u001b[0m \u001b[38;5;66;03m# Slicing is not possible\u001b[39;00m\n\u001b[1;32m----> 2\u001b[0m list2set[\u001b[38;5;241m0\u001b[39m:\u001b[38;5;241m1\u001b[39m]\n",
      "\u001b[1;31mTypeError\u001b[0m: 'set' object is not subscriptable"
     ]
    }
   ],
   "source": [
    "# Slicing is not possible\n",
    "list2set[0:1]"
   ]
  },
  {
   "cell_type": "code",
   "execution_count": 33,
   "id": "68d878ce-fac1-43c4-950e-379ecf5c0279",
   "metadata": {},
   "outputs": [
    {
     "data": {
      "text/plain": [
       "{10, 20, 30, 40}"
      ]
     },
     "execution_count": 33,
     "metadata": {},
     "output_type": "execute_result"
    }
   ],
   "source": [
    "# Creating a set from a tuple\n",
    "\n",
    "numbers_tuple = (10, 20, 30, 40, 10, 20)\n",
    "unique_numbers = set(numbers_tuple)\n",
    "unique_numbers"
   ]
  },
  {
   "cell_type": "code",
   "execution_count": 34,
   "id": "d99db64e-9ce8-4e74-a0ab-a97e320067c0",
   "metadata": {},
   "outputs": [
    {
     "name": "stdout",
     "output_type": "stream",
     "text": [
      "{'h', 'l', 'e', 'o'}\n"
     ]
    }
   ],
   "source": [
    "# Creating a set from a string\n",
    "letters = set(\"hello\")\n",
    "print(letters)"
   ]
  },
  {
   "cell_type": "code",
   "execution_count": 35,
   "id": "94df8da5-9c18-4b81-bc55-de5bc0128742",
   "metadata": {},
   "outputs": [
    {
     "data": {
      "text/plain": [
       "True"
      ]
     },
     "execution_count": 35,
     "metadata": {},
     "output_type": "execute_result"
    }
   ],
   "source": [
    "#Membership Testing with Sets\n",
    "\n",
    "numbers = {1, 2, 3, 4, 5}\n",
    "3 in numbers"
   ]
  },
  {
   "cell_type": "code",
   "execution_count": 36,
   "id": "cd912727-73c4-4e7a-aabf-31818aca3602",
   "metadata": {},
   "outputs": [
    {
     "data": {
      "text/plain": [
       "False"
      ]
     },
     "execution_count": 36,
     "metadata": {},
     "output_type": "execute_result"
    }
   ],
   "source": [
    "8 in numbers"
   ]
  },
  {
   "cell_type": "code",
   "execution_count": 37,
   "id": "cba3549e-8a24-46dc-8470-4d3d006ab628",
   "metadata": {},
   "outputs": [
    {
     "data": {
      "text/plain": [
       "True"
      ]
     },
     "execution_count": 37,
     "metadata": {},
     "output_type": "execute_result"
    }
   ],
   "source": [
    "8 not in numbers"
   ]
  },
  {
   "cell_type": "code",
   "execution_count": 39,
   "id": "2634c708-06e0-41c7-9534-60d5817ba8a1",
   "metadata": {},
   "outputs": [
    {
     "data": {
      "text/plain": [
       "['__and__',\n",
       " '__class__',\n",
       " '__class_getitem__',\n",
       " '__contains__',\n",
       " '__delattr__',\n",
       " '__dir__',\n",
       " '__doc__',\n",
       " '__eq__',\n",
       " '__format__',\n",
       " '__ge__',\n",
       " '__getattribute__',\n",
       " '__getstate__',\n",
       " '__gt__',\n",
       " '__hash__',\n",
       " '__iand__',\n",
       " '__init__',\n",
       " '__init_subclass__',\n",
       " '__ior__',\n",
       " '__isub__',\n",
       " '__iter__',\n",
       " '__ixor__',\n",
       " '__le__',\n",
       " '__len__',\n",
       " '__lt__',\n",
       " '__ne__',\n",
       " '__new__',\n",
       " '__or__',\n",
       " '__rand__',\n",
       " '__reduce__',\n",
       " '__reduce_ex__',\n",
       " '__repr__',\n",
       " '__ror__',\n",
       " '__rsub__',\n",
       " '__rxor__',\n",
       " '__setattr__',\n",
       " '__sizeof__',\n",
       " '__str__',\n",
       " '__sub__',\n",
       " '__subclasshook__',\n",
       " '__xor__',\n",
       " 'add',\n",
       " 'clear',\n",
       " 'copy',\n",
       " 'difference',\n",
       " 'difference_update',\n",
       " 'discard',\n",
       " 'intersection',\n",
       " 'intersection_update',\n",
       " 'isdisjoint',\n",
       " 'issubset',\n",
       " 'issuperset',\n",
       " 'pop',\n",
       " 'remove',\n",
       " 'symmetric_difference',\n",
       " 'symmetric_difference_update',\n",
       " 'union',\n",
       " 'update']"
      ]
     },
     "execution_count": 39,
     "metadata": {},
     "output_type": "execute_result"
    }
   ],
   "source": [
    "# set method\n",
    "\n",
    "dir(null_set)"
   ]
  },
  {
   "cell_type": "markdown",
   "id": "a546eebc-cb52-4e20-8a1b-e2e9baacb508",
   "metadata": {},
   "source": [
    "#### set methods\n",
    "1. 'add',\n",
    "2. 'clear',\n",
    "3. 'copy',\n",
    "4. 'difference',\n",
    "5. 'difference_update',\n",
    "6. 'discard',\n",
    "7. 'intersection',\n",
    "8. 'intersection_update',\n",
    "9. 'isdisjoint',\n",
    "10. 'issubset',\n",
    "11. 'issuperset',\n",
    "12. 'pop',\n",
    "13. 'remove',\n",
    "14. 'symmetric_difference',\n",
    "15. 'symmetric_difference_update',\n",
    "16. 'union',\n",
    "17. 'update'"
   ]
  },
  {
   "cell_type": "code",
   "execution_count": 41,
   "id": "93d0daba-93e4-4158-9884-59f8e3b075da",
   "metadata": {},
   "outputs": [
    {
     "data": {
      "text/plain": [
       "{'apple', 'banana', 'cherry'}"
      ]
     },
     "execution_count": 41,
     "metadata": {},
     "output_type": "execute_result"
    }
   ],
   "source": [
    "# The add() method lets you add a single element,\n",
    "# while the update() method allows you to add multiple elements at once.\n",
    "\n",
    "fruits = {\"apple\", \"banana\", \"cherry\"}\n",
    "fruits"
   ]
  },
  {
   "cell_type": "code",
   "execution_count": 42,
   "id": "4002e16a-31bb-493e-b328-e9f27e20e934",
   "metadata": {},
   "outputs": [
    {
     "name": "stdout",
     "output_type": "stream",
     "text": [
      "{'cherry', 'orange', 'apple', 'banana'}\n"
     ]
    }
   ],
   "source": [
    "fruits.add(\"orange\")\n",
    "\n",
    "print(fruits)"
   ]
  },
  {
   "cell_type": "code",
   "execution_count": 43,
   "id": "ad8cf168-994f-4a3f-af94-a9b3534c5841",
   "metadata": {},
   "outputs": [],
   "source": [
    "fruits.add('jack fruit')"
   ]
  },
  {
   "cell_type": "code",
   "execution_count": 44,
   "id": "01ddd16a-ef3a-4dd6-b2fe-507b88dfa040",
   "metadata": {},
   "outputs": [
    {
     "data": {
      "text/plain": [
       "{'apple', 'banana', 'cherry', 'jack fruit', 'orange'}"
      ]
     },
     "execution_count": 44,
     "metadata": {},
     "output_type": "execute_result"
    }
   ],
   "source": [
    "fruits"
   ]
  },
  {
   "cell_type": "code",
   "execution_count": 45,
   "id": "4c10bb12-73ad-4b59-869d-aa0697aed764",
   "metadata": {},
   "outputs": [
    {
     "data": {
      "text/plain": [
       "{'apple', 'banana', 'cherry', 'jack fruit', 'orange'}"
      ]
     },
     "execution_count": 45,
     "metadata": {},
     "output_type": "execute_result"
    }
   ],
   "source": [
    "fruits.add('jack fruit')\n",
    "fruits.add('jack fruit')\n",
    "fruits.add('jack fruit')\n",
    "fruits.add('jack fruit')\n",
    "fruits.add('jack fruit')\n",
    "fruits"
   ]
  },
  {
   "cell_type": "code",
   "execution_count": 46,
   "id": "398445dc-2bf1-44d5-b86a-c4efb3c0facc",
   "metadata": {},
   "outputs": [
    {
     "data": {
      "text/plain": [
       "{'Blueberry',\n",
       " 'Cranberry',\n",
       " 'apple',\n",
       " 'banana',\n",
       " 'cherry',\n",
       " 'grape',\n",
       " 'jack fruit',\n",
       " 'kiwi',\n",
       " 'orange'}"
      ]
     },
     "execution_count": 46,
     "metadata": {},
     "output_type": "execute_result"
    }
   ],
   "source": [
    "# Adding multiple elements with update() method\n",
    "multiple_fruits = [\"kiwi\", \"grape\", \"Cranberry\", \"Blueberry\"]\n",
    "\n",
    "fruits.update(multiple_fruits)\n",
    "\n",
    "fruits"
   ]
  },
  {
   "cell_type": "markdown",
   "id": "3d6b4c4d-2e15-4883-b98b-1ca01ca60759",
   "metadata": {},
   "source": [
    "#### Removing Elements from a Set\n",
    "#### Discard(), remove(), pop()\n",
    "\n",
    "- discard(): Removes an element if it exists in the set but doesn’t raise an error if the element is not found.\n",
    "- remove(): Removes an element but raises a KeyError if the element is not in the set.\n",
    "- pop(): Removes a random element from the set, which can be useful when you want to reduce the set size without caring which element is removed."
   ]
  },
  {
   "cell_type": "code",
   "execution_count": 47,
   "id": "8c07145a-8c54-4266-8d00-01301da2daac",
   "metadata": {},
   "outputs": [
    {
     "data": {
      "text/plain": [
       "{'Blueberry',\n",
       " 'Cranberry',\n",
       " 'apple',\n",
       " 'banana',\n",
       " 'cherry',\n",
       " 'grape',\n",
       " 'jack fruit',\n",
       " 'kiwi',\n",
       " 'orange'}"
      ]
     },
     "execution_count": 47,
     "metadata": {},
     "output_type": "execute_result"
    }
   ],
   "source": [
    "fruits"
   ]
  },
  {
   "cell_type": "code",
   "execution_count": 48,
   "id": "4c85fda9-fd22-46ef-ab20-74181a746588",
   "metadata": {},
   "outputs": [
    {
     "name": "stdout",
     "output_type": "stream",
     "text": [
      "{'jack fruit', 'apple', 'Cranberry', 'orange', 'cherry', 'grape', 'kiwi', 'banana'}\n"
     ]
    }
   ],
   "source": [
    "# Using discard()\n",
    "fruits.discard(\"Blueberry\")\n",
    "print(fruits)"
   ]
  },
  {
   "cell_type": "code",
   "execution_count": 49,
   "id": "40fca807-8ff5-4243-af29-9797c6ba8db1",
   "metadata": {},
   "outputs": [
    {
     "name": "stdout",
     "output_type": "stream",
     "text": [
      "{'jack fruit', 'apple', 'Cranberry', 'orange', 'cherry', 'grape', 'kiwi', 'banana'}\n"
     ]
    }
   ],
   "source": [
    "fruits.discard(\"berry\")\n",
    "print(fruits)"
   ]
  },
  {
   "cell_type": "code",
   "execution_count": 50,
   "id": "4ebb510a-16ba-4b8e-990c-a5c2dddcd84f",
   "metadata": {},
   "outputs": [
    {
     "data": {
      "text/plain": [
       "{'Cranberry', 'banana', 'cherry', 'grape', 'jack fruit', 'kiwi', 'orange'}"
      ]
     },
     "execution_count": 50,
     "metadata": {},
     "output_type": "execute_result"
    }
   ],
   "source": [
    "# Using remove() (raises error if element not found)\n",
    "fruits.remove(\"apple\")\n",
    "fruits"
   ]
  },
  {
   "cell_type": "code",
   "execution_count": 51,
   "id": "4a33cdc9-0a8c-4fb0-b805-3ab8c51105ab",
   "metadata": {},
   "outputs": [
    {
     "ename": "KeyError",
     "evalue": "'berry'",
     "output_type": "error",
     "traceback": [
      "\u001b[1;31m---------------------------------------------------------------------------\u001b[0m",
      "\u001b[1;31mKeyError\u001b[0m                                  Traceback (most recent call last)",
      "Cell \u001b[1;32mIn[51], line 1\u001b[0m\n\u001b[1;32m----> 1\u001b[0m fruits\u001b[38;5;241m.\u001b[39mremove(\u001b[38;5;124m\"\u001b[39m\u001b[38;5;124mberry\u001b[39m\u001b[38;5;124m\"\u001b[39m)\n\u001b[0;32m      2\u001b[0m fruits\n",
      "\u001b[1;31mKeyError\u001b[0m: 'berry'"
     ]
    }
   ],
   "source": [
    "fruits.remove(\"berry\")\n",
    "fruits"
   ]
  },
  {
   "cell_type": "code",
   "execution_count": 52,
   "id": "7a389f13-fdf5-4a74-981f-28faee8b5de8",
   "metadata": {},
   "outputs": [
    {
     "data": {
      "text/plain": [
       "{'Cranberry', 'banana', 'cherry', 'grape', 'kiwi', 'orange'}"
      ]
     },
     "execution_count": 52,
     "metadata": {},
     "output_type": "execute_result"
    }
   ],
   "source": [
    "# Using pop() (removes random element)\n",
    "fruits.pop()\n",
    "fruits"
   ]
  },
  {
   "cell_type": "code",
   "execution_count": 53,
   "id": "56f4de2a-8617-47b2-bf62-a94ff3435fea",
   "metadata": {},
   "outputs": [
    {
     "data": {
      "text/plain": [
       "{'banana', 'cherry', 'grape', 'kiwi', 'orange'}"
      ]
     },
     "execution_count": 53,
     "metadata": {},
     "output_type": "execute_result"
    }
   ],
   "source": [
    "fruits.pop()\n",
    "fruits"
   ]
  },
  {
   "cell_type": "code",
   "execution_count": 54,
   "id": "e3c54984-7bfe-488e-a684-ca871a1b8c63",
   "metadata": {},
   "outputs": [
    {
     "data": {
      "text/plain": [
       "{'banana', 'cherry', 'grape', 'kiwi'}"
      ]
     },
     "execution_count": 54,
     "metadata": {},
     "output_type": "execute_result"
    }
   ],
   "source": [
    "fruits.pop()\n",
    "fruits"
   ]
  },
  {
   "cell_type": "markdown",
   "id": "ced10c2e-b1e9-4b51-8ddb-f88641af34aa",
   "metadata": {},
   "source": [
    "#### Set Operations: Union, Intersection, Difference, Symmetric Difference"
   ]
  },
  {
   "cell_type": "code",
   "execution_count": 56,
   "id": "01998001-957f-4b2d-9392-7b3e0d8af2f5",
   "metadata": {},
   "outputs": [],
   "source": [
    "A = {1, 2, 3, 4, 5}\n",
    "\n",
    "B = {4, 5, 6, 7, 8}\n",
    "\n",
    "C = {8, 9, 10}"
   ]
  },
  {
   "cell_type": "code",
   "execution_count": 57,
   "id": "48b926e1-d764-4884-a387-7b071d8a45df",
   "metadata": {},
   "outputs": [
    {
     "data": {
      "text/plain": [
       "{1, 2, 3, 4, 5, 6, 7, 8}"
      ]
     },
     "execution_count": 57,
     "metadata": {},
     "output_type": "execute_result"
    }
   ],
   "source": [
    "# Union (A ∪ B)\n",
    "# use of PIPE character\n",
    "A | B"
   ]
  },
  {
   "cell_type": "code",
   "execution_count": 62,
   "id": "fe2afd94-8764-4599-90d9-52eca11b6a18",
   "metadata": {},
   "outputs": [
    {
     "data": {
      "text/plain": [
       "{1, 2, 3, 4, 5, 6, 7, 8}"
      ]
     },
     "execution_count": 62,
     "metadata": {},
     "output_type": "execute_result"
    }
   ],
   "source": [
    "# use of union function\n",
    "AunionB = A.union(B)\n",
    "AunionB"
   ]
  },
  {
   "cell_type": "code",
   "execution_count": 63,
   "id": "c1192c74-1dae-4384-84b6-1cff877af482",
   "metadata": {},
   "outputs": [
    {
     "data": {
      "text/plain": [
       "{1, 2, 3, 4, 5, 6, 7, 8}"
      ]
     },
     "execution_count": 63,
     "metadata": {},
     "output_type": "execute_result"
    }
   ],
   "source": [
    "BunionA = B.union(A)\n",
    "BunionA"
   ]
  },
  {
   "cell_type": "code",
   "execution_count": 65,
   "id": "7323b135-4d73-44fa-95e6-f2a5ce93c3ab",
   "metadata": {},
   "outputs": [
    {
     "data": {
      "text/plain": [
       "{1, 2, 3, 4, 5, 6, 7, 8, 9, 10}"
      ]
     },
     "execution_count": 65,
     "metadata": {},
     "output_type": "execute_result"
    }
   ],
   "source": [
    "AunionBC = A.union(B, C)\n",
    "AunionBC"
   ]
  },
  {
   "cell_type": "code",
   "execution_count": 66,
   "id": "7b97bd07-9e71-454a-be7a-1aed500e03c8",
   "metadata": {},
   "outputs": [
    {
     "data": {
      "text/plain": [
       "{1, 2, 3, 4, 5, 6, 7, 8, 9, 10}"
      ]
     },
     "execution_count": 66,
     "metadata": {},
     "output_type": "execute_result"
    }
   ],
   "source": [
    "A | B | C"
   ]
  },
  {
   "cell_type": "code",
   "execution_count": 67,
   "id": "0d2eb3c2-c0ef-4f5c-b047-ad8c9b99c3a0",
   "metadata": {},
   "outputs": [
    {
     "data": {
      "text/plain": [
       "{4, 5}"
      ]
     },
     "execution_count": 67,
     "metadata": {},
     "output_type": "execute_result"
    }
   ],
   "source": [
    "# Intersection (A ∩ B):\n",
    "# identifies the common elements\n",
    "# ampersand character\n",
    "\n",
    "A & B"
   ]
  },
  {
   "cell_type": "code",
   "execution_count": 68,
   "id": "ab0ec3ae-42c6-44af-b381-9fbabd50128d",
   "metadata": {},
   "outputs": [
    {
     "data": {
      "text/plain": [
       "{4, 5}"
      ]
     },
     "execution_count": 68,
     "metadata": {},
     "output_type": "execute_result"
    }
   ],
   "source": [
    "A.intersection(B)"
   ]
  },
  {
   "cell_type": "code",
   "execution_count": 69,
   "id": "7ffb86eb-1c6e-4fc2-bd75-e418ea904e5c",
   "metadata": {},
   "outputs": [
    {
     "data": {
      "text/plain": [
       "{4, 5}"
      ]
     },
     "execution_count": 69,
     "metadata": {},
     "output_type": "execute_result"
    }
   ],
   "source": [
    "B.intersection(A)"
   ]
  },
  {
   "cell_type": "code",
   "execution_count": 70,
   "id": "7ff026cc-97e2-4d2c-836d-957ed4dc9004",
   "metadata": {},
   "outputs": [
    {
     "data": {
      "text/plain": [
       "{8}"
      ]
     },
     "execution_count": 70,
     "metadata": {},
     "output_type": "execute_result"
    }
   ],
   "source": [
    "B & C"
   ]
  },
  {
   "cell_type": "code",
   "execution_count": 73,
   "id": "fabaee5f-2ca6-446b-ac4e-39e72975fef6",
   "metadata": {},
   "outputs": [
    {
     "data": {
      "text/plain": [
       "set()"
      ]
     },
     "execution_count": 73,
     "metadata": {},
     "output_type": "execute_result"
    }
   ],
   "source": [
    "A & B & C"
   ]
  },
  {
   "cell_type": "code",
   "execution_count": 74,
   "id": "dea2b7a6-86b8-45b6-a071-def25825cb98",
   "metadata": {},
   "outputs": [
    {
     "data": {
      "text/plain": [
       "{1, 2, 3}"
      ]
     },
     "execution_count": 74,
     "metadata": {},
     "output_type": "execute_result"
    }
   ],
   "source": [
    "# Difference (A – B)\n",
    "\n",
    "A = {1,2,3,4,5}\n",
    "B = {4,5,6,7,8}\n",
    "\n",
    "# set of elements that are only in A but not in B\n",
    "A - B"
   ]
  },
  {
   "cell_type": "code",
   "execution_count": 75,
   "id": "bd070e16-9de8-434f-86a9-d323a955d4f0",
   "metadata": {},
   "outputs": [
    {
     "data": {
      "text/plain": [
       "{6, 7, 8}"
      ]
     },
     "execution_count": 75,
     "metadata": {},
     "output_type": "execute_result"
    }
   ],
   "source": [
    "# set of elements that are only in B but not in A\n",
    "B - A"
   ]
  },
  {
   "cell_type": "code",
   "execution_count": 76,
   "id": "e33197dc-e939-40e0-b016-41beef3f3e25",
   "metadata": {},
   "outputs": [
    {
     "data": {
      "text/plain": [
       "{1, 2, 3}"
      ]
     },
     "execution_count": 76,
     "metadata": {},
     "output_type": "execute_result"
    }
   ],
   "source": [
    "A.difference(B)"
   ]
  },
  {
   "cell_type": "code",
   "execution_count": 77,
   "id": "f620978e-fa09-479e-946d-6f8a42fcb6e0",
   "metadata": {},
   "outputs": [
    {
     "data": {
      "text/plain": [
       "{6, 7, 8}"
      ]
     },
     "execution_count": 77,
     "metadata": {},
     "output_type": "execute_result"
    }
   ],
   "source": [
    "# set of elements that are only in B but not in A\n",
    "B - A"
   ]
  },
  {
   "cell_type": "code",
   "execution_count": 78,
   "id": "47585f64-ebb9-404c-983f-43eae93a3f7b",
   "metadata": {},
   "outputs": [
    {
     "data": {
      "text/plain": [
       "{6, 7, 8}"
      ]
     },
     "execution_count": 78,
     "metadata": {},
     "output_type": "execute_result"
    }
   ],
   "source": [
    "B.difference(A)"
   ]
  },
  {
   "cell_type": "code",
   "execution_count": null,
   "id": "50c7c23f-ac1f-418b-9d06-c602f7879f59",
   "metadata": {},
   "outputs": [],
   "source": [
    "# Symmetrical Difference (A ∆ B)"
   ]
  },
  {
   "cell_type": "code",
   "execution_count": null,
   "id": "18ebf50c-6ebb-4b51-8d0f-3e41d60edbd2",
   "metadata": {},
   "outputs": [],
   "source": [
    "A = {1,2,3,4,5}\n",
    "B = {4,5,6,7,8}"
   ]
  },
  {
   "cell_type": "code",
   "execution_count": 79,
   "id": "9ce307b3-ba36-44db-8db4-fe49c6e11117",
   "metadata": {},
   "outputs": [
    {
     "data": {
      "text/plain": [
       "{1, 2, 3, 6, 7, 8}"
      ]
     },
     "execution_count": 79,
     "metadata": {},
     "output_type": "execute_result"
    }
   ],
   "source": [
    "# Excluding the common elements\n",
    "# use of cap character\n",
    "A ^ B"
   ]
  },
  {
   "cell_type": "code",
   "execution_count": 80,
   "id": "1b926686-53a7-4632-9ea1-249e858275ea",
   "metadata": {},
   "outputs": [
    {
     "data": {
      "text/plain": [
       "{1, 2, 3, 6, 7, 8}"
      ]
     },
     "execution_count": 80,
     "metadata": {},
     "output_type": "execute_result"
    }
   ],
   "source": [
    "A.symmetric_difference(B)"
   ]
  },
  {
   "cell_type": "markdown",
   "id": "5d000e87-994b-4bc7-890c-8583ec0acb54",
   "metadata": {},
   "source": [
    "#### Subset , Superset & Disjoint"
   ]
  },
  {
   "cell_type": "code",
   "execution_count": 86,
   "id": "2a968745-9ebf-4608-a5a0-94148790e7fb",
   "metadata": {},
   "outputs": [],
   "source": [
    "A = {1,2,3,4,5,6,7,8,9}\n",
    "\n",
    "B = {3,4,5,6,7,8}\n",
    "\n",
    "C = {10,20,30,40}"
   ]
  },
  {
   "cell_type": "code",
   "execution_count": 90,
   "id": "8ecf9aef-c07d-4c79-a620-f62d8827bbf0",
   "metadata": {},
   "outputs": [
    {
     "data": {
      "text/plain": [
       "True"
      ]
     },
     "execution_count": 90,
     "metadata": {},
     "output_type": "execute_result"
    }
   ],
   "source": [
    "B.issubset(A)"
   ]
  },
  {
   "cell_type": "code",
   "execution_count": 91,
   "id": "a66cd92c-a323-44a5-ba96-ef7b81ac68ba",
   "metadata": {},
   "outputs": [
    {
     "data": {
      "text/plain": [
       "False"
      ]
     },
     "execution_count": 91,
     "metadata": {},
     "output_type": "execute_result"
    }
   ],
   "source": [
    "A.issubset(B)"
   ]
  },
  {
   "cell_type": "code",
   "execution_count": 92,
   "id": "0ab3ab24-becc-40ac-85b7-2b5586672a43",
   "metadata": {},
   "outputs": [
    {
     "data": {
      "text/plain": [
       "True"
      ]
     },
     "execution_count": 92,
     "metadata": {},
     "output_type": "execute_result"
    }
   ],
   "source": [
    "A.issuperset(B)"
   ]
  },
  {
   "cell_type": "code",
   "execution_count": 93,
   "id": "397fa637-e983-45c8-b883-69aaab5858a1",
   "metadata": {},
   "outputs": [
    {
     "data": {
      "text/plain": [
       "False"
      ]
     },
     "execution_count": 93,
     "metadata": {},
     "output_type": "execute_result"
    }
   ],
   "source": [
    "B.issuperset(A)"
   ]
  },
  {
   "cell_type": "code",
   "execution_count": 94,
   "id": "41e91922-5ed0-4808-8a3f-22e8e6a10acd",
   "metadata": {},
   "outputs": [
    {
     "data": {
      "text/plain": [
       "False"
      ]
     },
     "execution_count": 94,
     "metadata": {},
     "output_type": "execute_result"
    }
   ],
   "source": [
    "A.issuperset(C)"
   ]
  },
  {
   "cell_type": "code",
   "execution_count": 95,
   "id": "36e394af-18bf-4455-9db5-abf9cb3076b6",
   "metadata": {},
   "outputs": [
    {
     "data": {
      "text/plain": [
       "True"
      ]
     },
     "execution_count": 95,
     "metadata": {},
     "output_type": "execute_result"
    }
   ],
   "source": [
    "C.isdisjoint(A)"
   ]
  },
  {
   "cell_type": "code",
   "execution_count": 96,
   "id": "b097c8f1-6fd8-4d31-8c28-ba4cf9d70ec2",
   "metadata": {},
   "outputs": [
    {
     "data": {
      "text/plain": [
       "False"
      ]
     },
     "execution_count": 96,
     "metadata": {},
     "output_type": "execute_result"
    }
   ],
   "source": [
    "B.isdisjoint(A)"
   ]
  },
  {
   "cell_type": "code",
   "execution_count": null,
   "id": "f32944ac-ad5c-4170-84fe-da3965578144",
   "metadata": {},
   "outputs": [],
   "source": [
    "# Frozen Sets: Immutable Sets in Python\n",
    "# A frozenset is just like a regular Python set, except it’s immutable.\n",
    "# This means once you create it, you can’t modify it—no adding or removing elements. \n"
   ]
  },
  {
   "cell_type": "code",
   "execution_count": 99,
   "id": "7a260be5-909d-4e30-8a07-2d4f28b9e590",
   "metadata": {},
   "outputs": [
    {
     "data": {
      "text/plain": [
       "frozenset"
      ]
     },
     "execution_count": 99,
     "metadata": {},
     "output_type": "execute_result"
    }
   ],
   "source": [
    "# Creating a frozenset()\n",
    "frozen_set = frozenset([\"banana\",\"apple\", \"cherry\"])\n",
    "type(frozen_set)"
   ]
  },
  {
   "cell_type": "code",
   "execution_count": 100,
   "id": "7c9f2b73-96a0-4af5-978b-1cc54faed7eb",
   "metadata": {},
   "outputs": [
    {
     "data": {
      "text/plain": [
       "frozenset({'apple', 'banana', 'cherry'})"
      ]
     },
     "execution_count": 100,
     "metadata": {},
     "output_type": "execute_result"
    }
   ],
   "source": [
    "frozen_set"
   ]
  },
  {
   "cell_type": "code",
   "execution_count": 102,
   "id": "0c3588bb-aeb1-41fe-a1b9-7c951dc2d30a",
   "metadata": {},
   "outputs": [
    {
     "ename": "AttributeError",
     "evalue": "'frozenset' object has no attribute 'add'",
     "output_type": "error",
     "traceback": [
      "\u001b[1;31m---------------------------------------------------------------------------\u001b[0m",
      "\u001b[1;31mAttributeError\u001b[0m                            Traceback (most recent call last)",
      "Cell \u001b[1;32mIn[102], line 2\u001b[0m\n\u001b[0;32m      1\u001b[0m \u001b[38;5;66;03m# Trying to add an element will raise an error\u001b[39;00m\n\u001b[1;32m----> 2\u001b[0m frozen_set\u001b[38;5;241m.\u001b[39madd(\u001b[38;5;124m\"\u001b[39m\u001b[38;5;124morange\u001b[39m\u001b[38;5;124m\"\u001b[39m)\n",
      "\u001b[1;31mAttributeError\u001b[0m: 'frozenset' object has no attribute 'add'"
     ]
    }
   ],
   "source": [
    "# Trying to add an element will raise an error\n",
    "frozen_set.add(\"orange\")"
   ]
  },
  {
   "cell_type": "code",
   "execution_count": 103,
   "id": "4e9f1f41-33bd-4517-95ed-d8ba341715a1",
   "metadata": {},
   "outputs": [
    {
     "data": {
      "text/plain": [
       "['__and__',\n",
       " '__class__',\n",
       " '__class_getitem__',\n",
       " '__contains__',\n",
       " '__delattr__',\n",
       " '__dir__',\n",
       " '__doc__',\n",
       " '__eq__',\n",
       " '__format__',\n",
       " '__ge__',\n",
       " '__getattribute__',\n",
       " '__getstate__',\n",
       " '__gt__',\n",
       " '__hash__',\n",
       " '__init__',\n",
       " '__init_subclass__',\n",
       " '__iter__',\n",
       " '__le__',\n",
       " '__len__',\n",
       " '__lt__',\n",
       " '__ne__',\n",
       " '__new__',\n",
       " '__or__',\n",
       " '__rand__',\n",
       " '__reduce__',\n",
       " '__reduce_ex__',\n",
       " '__repr__',\n",
       " '__ror__',\n",
       " '__rsub__',\n",
       " '__rxor__',\n",
       " '__setattr__',\n",
       " '__sizeof__',\n",
       " '__str__',\n",
       " '__sub__',\n",
       " '__subclasshook__',\n",
       " '__xor__',\n",
       " 'copy',\n",
       " 'difference',\n",
       " 'intersection',\n",
       " 'isdisjoint',\n",
       " 'issubset',\n",
       " 'issuperset',\n",
       " 'symmetric_difference',\n",
       " 'union']"
      ]
     },
     "execution_count": 103,
     "metadata": {},
     "output_type": "execute_result"
    }
   ],
   "source": [
    "dir(frozen_set)"
   ]
  },
  {
   "cell_type": "markdown",
   "id": "354494a0-c9cb-4289-8cb9-1ed08d1dfb2e",
   "metadata": {},
   "source": [
    "#### Frozen Set supported methods\n",
    "1. 'copy',\n",
    "2. 'difference',\n",
    "3. 'intersection',\n",
    "4. 'isdisjoint',\n",
    "5. 'issubset',\n",
    "6. 'issuperset',\n",
    "7. 'symmetric_difference',\n",
    "8. 'union'"
   ]
  },
  {
   "cell_type": "markdown",
   "id": "58172598-ae8b-4c13-9d35-54457000ec20",
   "metadata": {},
   "source": [
    "#### Python Set Comprehension"
   ]
  },
  {
   "cell_type": "code",
   "execution_count": 107,
   "id": "8dc08406-001a-4f94-b3a5-f6b4c01cf378",
   "metadata": {},
   "outputs": [
    {
     "name": "stdout",
     "output_type": "stream",
     "text": [
      "{0, 1, 64, 8, 27}\n"
     ]
    }
   ],
   "source": [
    "# Set comprehensions are especially useful when you’re filtering or transforming data.\n",
    "squared_set = {x**3 for x in range(5)}\n",
    "print(squared_set)"
   ]
  },
  {
   "cell_type": "code",
   "execution_count": 108,
   "id": "f244a548-acf9-4dad-9231-530cf7c086dc",
   "metadata": {},
   "outputs": [
    {
     "name": "stdout",
     "output_type": "stream",
     "text": [
      "{16, 4}\n"
     ]
    }
   ],
   "source": [
    "numbers = [1, 2, 2, 3, 4, 4, 5]\n",
    "\n",
    "unique_even_squares = {x**2 for x in numbers if x % 2 == 0}\n",
    "\n",
    "print(unique_even_squares)"
   ]
  },
  {
   "cell_type": "code",
   "execution_count": 109,
   "id": "ecb8c381-5894-4bb5-9bc7-73ce18d33985",
   "metadata": {},
   "outputs": [
    {
     "name": "stdout",
     "output_type": "stream",
     "text": [
      "{'charlie', 'david'}\n"
     ]
    }
   ],
   "source": [
    "# Applications\n",
    "all_users = {\"alice\", \"bob\", \"charlie\", \"david\"}\n",
    "active_users = {\"alice\", \"bob\"}\n",
    "\n",
    "inactive_users = all_users - active_users\n",
    "print(inactive_users)"
   ]
  }
 ],
 "metadata": {
  "kernelspec": {
   "display_name": "Python 3 (ipykernel)",
   "language": "python",
   "name": "python3"
  },
  "language_info": {
   "codemirror_mode": {
    "name": "ipython",
    "version": 3
   },
   "file_extension": ".py",
   "mimetype": "text/x-python",
   "name": "python",
   "nbconvert_exporter": "python",
   "pygments_lexer": "ipython3",
   "version": "3.12.4"
  }
 },
 "nbformat": 4,
 "nbformat_minor": 5
}
