{
 "cells": [
  {
   "cell_type": "markdown",
   "id": "c4974e49-96d7-4867-84a0-51183e005329",
   "metadata": {},
   "source": [
    "#### Introduction to OOP"
   ]
  },
  {
   "cell_type": "markdown",
   "id": "8c1e3a14",
   "metadata": {},
   "source": [
    "In Python, Functions and Object-Oriented Programming (OOP) are two approaches to organizing code, each suited to different situations. "
   ]
  },
  {
   "cell_type": "markdown",
   "id": "daf4f4a5",
   "metadata": {},
   "source": [
    "`Functions (Procedural Programming)`\n",
    "- `Definition:` A function is a block of code that performs a specific task and can be reused multiple times in a program.\n",
    "\n",
    "- `Focus:` Procedural programming focuses on writing functions (or procedures) to perform actions. It’s centered around procedures or routines that operate on data.\n",
    "\n",
    "- `Modularity:` Functions help break a program into smaller, manageable pieces of logic.\n",
    "\n",
    "- `Usage:` Use functions when tasks are simple and don’t require maintaining or modifying the state of data across multiple parts of the program."
   ]
  },
  {
   "cell_type": "markdown",
   "id": "15ac428a",
   "metadata": {},
   "source": [
    "`Object-Oriented Programming (OOP)`\n",
    "\n",
    "- `Definition:` OOP is a paradigm where code is organized into objects that represent both data (attributes) and behavior (methods).\n",
    "\n",
    "- `Focus:` It focuses on objects and classes. Objects are instances of classes that can hold data (attributes) and functions (methods) that operate on the data.\n",
    "\n",
    "- `Modularity:` OOP allows for modular code through classes, inheritance, polymorphism, encapsulation, and abstraction.\n",
    "\n",
    "- `Usage:` Use OOP when tasks require managing complex interactions between data and functionality, where state and behavior need to be organized together."
   ]
  },
  {
   "cell_type": "markdown",
   "id": "dfa6993a",
   "metadata": {},
   "source": [
    "`Summary:`\n",
    "\n",
    "`Functions:` Best for smaller, simpler tasks and when data management is not complex.\n",
    "\n",
    "`OOP:` Best for larger programs where managing data and functions together and maintaining state across a program is essential. It provides better structure, making code more scalable and maintainable."
   ]
  },
  {
   "cell_type": "markdown",
   "id": "2f3c48fc-b616-4324-a4e5-fa82a0f2b2b8",
   "metadata": {},
   "source": [
    "#### Important Terminologies in OOPS\n",
    "\n",
    "- `Class`\tA blueprint for creating objects. Defines the properties (attributes) (data) and behaviors (methods) (functions).\n",
    "\n",
    "- `Attribute`\tVariables that hold data for the object'\n",
    "\n",
    "- `Method`\tFunctions defined within a class that represent the behavior of the objects created by that class.\n",
    "\n",
    "- `Object`\tAn instance of a class, containing data and methods that operate on that data."
   ]
  },
  {
   "cell_type": "markdown",
   "id": "b4f11ad9",
   "metadata": {},
   "source": [
    "#### Real World Example \n",
    "\n",
    "`Intuition`\n",
    "\n",
    "***\n",
    "\n",
    "`Class:` \n",
    "\n",
    "`Example:` Think of a class as a recipe for a cake. The recipe defines the ingredients (attributes) and the steps (methods) to make the cake.\n",
    "\n",
    "`Example:` Think of a class as a blueprint for a building. It defines the overall structure and features the building will have, such as the number of floors, rooms, and layout. It doesn't represent any specific building but provides a template for creating them. (The blueprint for a skyscraper, which includes the specifications for elevators, stairs, emergency exits, etc.)\n",
    "\n",
    "`Example:` A class for a car would define attributes like color, brand, model, and year, and methods like start(), stop(), and accelerate().\n",
    "\n",
    "***\n",
    "\n",
    "`Object:`\n",
    "\n",
    "`Example:` An object is the actual cake you bake following the recipe. Each cake can have different flavors, sizes, or decorations based on the same recipe.\n",
    "\n",
    "`Example:` An object is the actual building constructed using the blueprint. Each building created from the blueprint can have different details but will follow the overall structure defined by the blueprint. (The Empire State Building in New York is an object created based on its architectural blueprint.)\n",
    "\n",
    "`Example:` A car object could be a red Toyota Corolla 2020. Another car object could be a blue Ford Mustang 2018.\n",
    "\n",
    "***\n",
    "\n",
    "`Method:` \n",
    "\n",
    "`Example:` A method is like a function that you can perform on an object. Think of it as actions you can do with your cake, such as slicing, serving, or eating.\n",
    "\n",
    "`Example:` A method in the building context could be any function or operation that the building can perform or any service it provides. (The method of locking doors, turning on lights, or activating elevators.)\n",
    "\n",
    "`Example:` For a car object, methods would be actions like start() to turn the car on, drive() to make it move, and honk() to use the horn.\n",
    "\n",
    "***\n",
    "\n",
    "`Attribute:`\n",
    "\n",
    "`Example:` An attribute is like the characteristics or properties of the object. For the cake, it could be its flavor, size, or shape.\n",
    "\n",
    "`Example:` Attributes are like the characteristics or properties of the building defined in the blueprint. These could include the number of floors, the type of materials used, the color of paint, etc. (The building having 50 floors, green roofing, or marble flooring.)\n",
    "\n",
    "`Example:` For a car object, attributes would be properties like color (red), brand (Toyota), model (Corolla), and year (2020).\n",
    "\n",
    "***"
   ]
  },
  {
   "cell_type": "markdown",
   "id": "1b052e63",
   "metadata": {},
   "source": [
    "#### Basic Structure of a Python Class\n",
    "\n",
    "A Python class typically starts with a class declaration followed by its attributes and methods."
   ]
  },
  {
   "cell_type": "code",
   "execution_count": null,
   "id": "444b7bb5",
   "metadata": {},
   "outputs": [],
   "source": [
    "class ClassName:\n",
    "    \n",
    "    def __init__(self, instance_attribute):\n",
    "        # Instance attributes\n",
    "        self.instance_attribute = instance_attribute\n",
    "\n",
    "    def method_name(self):\n",
    "        # Method logic\n",
    "        pass"
   ]
  },
  {
   "cell_type": "code",
   "execution_count": null,
   "id": "6bed3aa3",
   "metadata": {},
   "outputs": [],
   "source": []
  },
  {
   "cell_type": "markdown",
   "id": "0537a328",
   "metadata": {},
   "source": [
    "This structure contains several key parts:\n",
    "\n",
    "- `Class Declaration:` The keyword class is followed by the class name (which usually starts with an uppercase letter).\n",
    "- `Class Attributes:` These are defined within the class but outside any methods and can be accessed by all instances.\n",
    "- `Constructor (__init__ method):` This special method initializes instance attributes and is automatically called when a new object is created.\n",
    "- `Self` Keyword in Python:  It refers to the instance of the class itself. When you create an object, self allows you to access instance attributes and methods from within the class.This structure contains several key parts\n",
    "  \n",
    "- `Methods:` Functions defined within the class that represent the behaviors of the class."
   ]
  },
  {
   "cell_type": "markdown",
   "id": "da235384",
   "metadata": {},
   "source": [
    "#### Classes and Objects in OOPS"
   ]
  },
  {
   "cell_type": "markdown",
   "id": "edec57cc",
   "metadata": {},
   "source": [
    "- A class in Python is like a blueprint.\n",
    "- Think about designing a house. Before you start building, you create a blueprint that tells you how many rooms the house will have, where the doors and windows go, and so on.\n",
    "- It’s a template for creating objects, defining how they behave and what properties they have."
   ]
  },
  {
   "cell_type": "code",
   "execution_count": 10,
   "id": "2d46168e",
   "metadata": {},
   "outputs": [],
   "source": [
    "class Dog:\n",
    "    # initialised all possible attributes that defines the nature of class\n",
    "    def __init__(self, name, breed, age):\n",
    "        self.name = name\n",
    "        self.breed = breed\n",
    "        self.age = age\n",
    "\n",
    "    # Start defining the methods tha class can do\n",
    "    def bark(self):\n",
    "        return f'{self.name} says bow bow!'\n",
    "    \n",
    "    def eat(self):\n",
    "        return f'{self.name} is eating!'\n",
    "\n",
    "# defining a function\n",
    "# calling a function\n",
    "\n",
    "\n",
    "#oops\n",
    "# define a class\n",
    "# instantiating an object"
   ]
  },
  {
   "cell_type": "markdown",
   "id": "38744c1c",
   "metadata": {},
   "source": [
    "#### Understanding Objects in Python"
   ]
  },
  {
   "cell_type": "markdown",
   "id": "91721e95",
   "metadata": {},
   "source": [
    "- An object is like the actual house you build from that blueprint.\n",
    "- It’s a specific instance of a class with its own unique data."
   ]
  },
  {
   "cell_type": "code",
   "execution_count": 11,
   "id": "8e16ba95",
   "metadata": {},
   "outputs": [],
   "source": [
    "# single instance / instantiating single object\n",
    "# instance is a unique realization of the blueprint\n",
    "\n",
    "dog1 = Dog(\"Tommy\", \"Golden Retriever\", 7)"
   ]
  },
  {
   "cell_type": "code",
   "execution_count": 12,
   "id": "39f0f940",
   "metadata": {},
   "outputs": [
    {
     "data": {
      "text/plain": [
       "__main__.Dog"
      ]
     },
     "execution_count": 12,
     "metadata": {},
     "output_type": "execute_result"
    }
   ],
   "source": [
    "type(dog1)"
   ]
  },
  {
   "cell_type": "code",
   "execution_count": 13,
   "id": "d84ebced",
   "metadata": {},
   "outputs": [
    {
     "data": {
      "text/plain": [
       "'Tommy'"
      ]
     },
     "execution_count": 13,
     "metadata": {},
     "output_type": "execute_result"
    }
   ],
   "source": [
    "dog1.name"
   ]
  },
  {
   "cell_type": "code",
   "execution_count": 14,
   "id": "92b62440",
   "metadata": {},
   "outputs": [
    {
     "data": {
      "text/plain": [
       "'Golden Retriever'"
      ]
     },
     "execution_count": 14,
     "metadata": {},
     "output_type": "execute_result"
    }
   ],
   "source": [
    "dog1.breed"
   ]
  },
  {
   "cell_type": "code",
   "execution_count": 15,
   "id": "76c33333",
   "metadata": {},
   "outputs": [
    {
     "data": {
      "text/plain": [
       "7"
      ]
     },
     "execution_count": 15,
     "metadata": {},
     "output_type": "execute_result"
    }
   ],
   "source": [
    "dog1.age"
   ]
  },
  {
   "cell_type": "code",
   "execution_count": 16,
   "id": "d2f3b7a5",
   "metadata": {},
   "outputs": [
    {
     "data": {
      "text/plain": [
       "<bound method Dog.bark of <__main__.Dog object at 0x0000027CD8F23F80>>"
      ]
     },
     "execution_count": 16,
     "metadata": {},
     "output_type": "execute_result"
    }
   ],
   "source": [
    "dog1.bark"
   ]
  },
  {
   "cell_type": "code",
   "execution_count": 17,
   "id": "87a593a4",
   "metadata": {},
   "outputs": [
    {
     "data": {
      "text/plain": [
       "'Tommy says bow bow!'"
      ]
     },
     "execution_count": 17,
     "metadata": {},
     "output_type": "execute_result"
    }
   ],
   "source": [
    "#when you call a method, use parenthesis along with method \n",
    "\n",
    "dog1.bark()"
   ]
  },
  {
   "cell_type": "code",
   "execution_count": 18,
   "id": "2561c16e",
   "metadata": {},
   "outputs": [],
   "source": [
    "# multiple instance / instantiating multiple object\n",
    "\n",
    "my_dog1 = Dog(\"Tommy\", \"Golden Retriever\", 6)\n",
    "\n",
    "my_dog2 = Dog(\"Jimmy\", \"Pug\", 8)\n",
    "\n",
    "my_dog3 = Dog(\"Lilly\", \"Chow Chow\", 3)"
   ]
  },
  {
   "cell_type": "code",
   "execution_count": 19,
   "id": "37ab7174",
   "metadata": {},
   "outputs": [
    {
     "data": {
      "text/plain": [
       "'Tommy'"
      ]
     },
     "execution_count": 19,
     "metadata": {},
     "output_type": "execute_result"
    }
   ],
   "source": [
    "my_dog1.name"
   ]
  },
  {
   "cell_type": "code",
   "execution_count": 20,
   "id": "68db08c6",
   "metadata": {},
   "outputs": [
    {
     "data": {
      "text/plain": [
       "'Jimmy'"
      ]
     },
     "execution_count": 20,
     "metadata": {},
     "output_type": "execute_result"
    }
   ],
   "source": [
    "my_dog2.name"
   ]
  },
  {
   "cell_type": "code",
   "execution_count": 21,
   "id": "6bd411aa",
   "metadata": {},
   "outputs": [
    {
     "data": {
      "text/plain": [
       "'Lilly'"
      ]
     },
     "execution_count": 21,
     "metadata": {},
     "output_type": "execute_result"
    }
   ],
   "source": [
    "my_dog3.name"
   ]
  },
  {
   "cell_type": "code",
   "execution_count": 22,
   "id": "3614c0e5",
   "metadata": {},
   "outputs": [],
   "source": [
    "# Class for Car\n",
    "# Created a class\n",
    "class Car:\n",
    "    def __init__(self, name, brand, make, type):\n",
    "        self.name = name # Instance Attributes\n",
    "        self.brand = brand # Instance Attributes\n",
    "        self.make = make # Instance Attributes\n",
    "        self.type = type # Instance Attributes\n",
    "\n",
    "    def start(self):\n",
    "        return f'{self.name} car is Starting'\n",
    "    \n",
    "    def stop(self):\n",
    "        return f'{self.name} Car is Stopped'"
   ]
  },
  {
   "cell_type": "code",
   "execution_count": 23,
   "id": "7ace7b1c",
   "metadata": {},
   "outputs": [],
   "source": [
    "# instance created based on Class Car\n",
    "car1 = Car(\"Swift\", \"Maruthi\", 2024, \"Manual\")"
   ]
  },
  {
   "cell_type": "code",
   "execution_count": 24,
   "id": "dee9180c",
   "metadata": {},
   "outputs": [
    {
     "data": {
      "text/plain": [
       "'Swift car is Starting'"
      ]
     },
     "execution_count": 24,
     "metadata": {},
     "output_type": "execute_result"
    }
   ],
   "source": [
    "car1.start()"
   ]
  },
  {
   "cell_type": "code",
   "execution_count": null,
   "id": "96d2ae2e",
   "metadata": {},
   "outputs": [],
   "source": [
    "car1.stop()"
   ]
  },
  {
   "cell_type": "code",
   "execution_count": null,
   "id": "460d99a4",
   "metadata": {},
   "outputs": [],
   "source": [
    "car1.name"
   ]
  },
  {
   "cell_type": "code",
   "execution_count": null,
   "id": "4b454ffa",
   "metadata": {},
   "outputs": [],
   "source": [
    "car1.make"
   ]
  },
  {
   "cell_type": "code",
   "execution_count": null,
   "id": "b08fe136",
   "metadata": {},
   "outputs": [],
   "source": [
    "car1.brand"
   ]
  },
  {
   "cell_type": "markdown",
   "id": "81b866e1",
   "metadata": {},
   "source": [
    "#### Example 2"
   ]
  },
  {
   "cell_type": "code",
   "execution_count": null,
   "id": "c4a1a078",
   "metadata": {},
   "outputs": [],
   "source": [
    "class Cake:\n",
    "    # \n",
    "    def __init__(self, flavor, size, layers):\n",
    "        self.flavor = flavor  # Attribute for the cake flavor \"Chocolate\", \"Vanilla\",\n",
    "        self.size = size  # Attribute for the cake size #Small, Medium, Large\n",
    "        self.layers = layers  # Attribute for the number of layers, One, Two, Three\n",
    "\n",
    "    def bake(self):\n",
    "        return f\"Baking a {self.size} {self.flavor} cake with {self.layers} layers.\"\n",
    "\n",
    "    def slice(self):\n",
    "        return f\"Slicing the {self.flavor} cake.\"\n",
    "\n",
    "    def decorate(self, decoration):\n",
    "        return f\"Decorating the {self.flavor} cake with {decoration}.\""
   ]
  },
  {
   "cell_type": "code",
   "execution_count": null,
   "id": "b0a38d3a",
   "metadata": {},
   "outputs": [],
   "source": [
    "# Intantiating object\n",
    "order1 = Cake(\"Chocolate\", \"Large\", 3)"
   ]
  },
  {
   "cell_type": "code",
   "execution_count": null,
   "id": "95a805ed",
   "metadata": {},
   "outputs": [],
   "source": [
    "order1.flavor"
   ]
  },
  {
   "cell_type": "code",
   "execution_count": null,
   "id": "7ec68a4a",
   "metadata": {},
   "outputs": [],
   "source": [
    "order1.size"
   ]
  },
  {
   "cell_type": "code",
   "execution_count": null,
   "id": "c73331ff",
   "metadata": {},
   "outputs": [],
   "source": [
    "order1.layers"
   ]
  },
  {
   "cell_type": "code",
   "execution_count": null,
   "id": "c824fb28",
   "metadata": {},
   "outputs": [],
   "source": [
    "order1.bake()"
   ]
  },
  {
   "cell_type": "code",
   "execution_count": null,
   "id": "12d17427",
   "metadata": {},
   "outputs": [],
   "source": [
    "order1.slice()"
   ]
  },
  {
   "cell_type": "code",
   "execution_count": null,
   "id": "887012dd",
   "metadata": {},
   "outputs": [],
   "source": [
    "order1.decorate(\"Flower Petals\")"
   ]
  },
  {
   "cell_type": "code",
   "execution_count": null,
   "id": "803c8d65",
   "metadata": {},
   "outputs": [],
   "source": [
    "order2 = Cake(\"Vanilla\", \"Small\", 1)"
   ]
  },
  {
   "cell_type": "code",
   "execution_count": null,
   "id": "08fa621d",
   "metadata": {},
   "outputs": [],
   "source": [
    "order2.flavor"
   ]
  },
  {
   "cell_type": "markdown",
   "id": "9e9332a8",
   "metadata": {},
   "source": [
    "#### Example 3"
   ]
  },
  {
   "cell_type": "code",
   "execution_count": null,
   "id": "7e496836-fce3-4fdd-9568-bcf223be03d8",
   "metadata": {},
   "outputs": [],
   "source": [
    "class Classroom:\n",
    "    \n",
    "    # Constructor to initialize instance attributes\n",
    "    def __init__(self, section, students, teacher):\n",
    "        self.section = section  # Instance Attribute to store section\n",
    "        self.students = students  # Instance Attribute to store number of students\n",
    "        self.teacher = teacher  # Instance Attribute to store teacher's name\n",
    "    \n",
    "    # Method for teaching\n",
    "    def teach(self):\n",
    "        return f\"{self.teacher} is teaching\"  # Return a string indicating the teacher is teaching\n",
    "    \n",
    "    # Method for listening\n",
    "    def listen(self):\n",
    "        return f\"{self.students} students are listening {self.teacher}'s lecture\"  # Return a string indicating the students are listening"
   ]
  },
  {
   "cell_type": "code",
   "execution_count": null,
   "id": "0c4d521c-203a-4e31-8351-91cd8ed14872",
   "metadata": {},
   "outputs": [],
   "source": [
    "# Instantiate Object\n",
    "room1 = Classroom(\"A\", 30, \"Vinay\")"
   ]
  },
  {
   "cell_type": "code",
   "execution_count": null,
   "id": "432183a4",
   "metadata": {},
   "outputs": [],
   "source": [
    "room1.section"
   ]
  },
  {
   "cell_type": "code",
   "execution_count": null,
   "id": "66b6fcb6",
   "metadata": {},
   "outputs": [],
   "source": [
    "room1.students"
   ]
  },
  {
   "cell_type": "code",
   "execution_count": null,
   "id": "569ee30c",
   "metadata": {},
   "outputs": [],
   "source": [
    "room1.teacher"
   ]
  },
  {
   "cell_type": "code",
   "execution_count": null,
   "id": "3a72cc84",
   "metadata": {},
   "outputs": [],
   "source": [
    "room1.teach()"
   ]
  },
  {
   "cell_type": "code",
   "execution_count": null,
   "id": "0c899401",
   "metadata": {},
   "outputs": [],
   "source": [
    "room1.listen()"
   ]
  },
  {
   "cell_type": "markdown",
   "id": "8062cec7",
   "metadata": {},
   "source": [
    "#### Example 4"
   ]
  },
  {
   "cell_type": "code",
   "execution_count": null,
   "id": "eb4c6755-628e-4847-a175-ba9c9b58b861",
   "metadata": {},
   "outputs": [],
   "source": [
    "# User Management System\n",
    "\n",
    "class User:\n",
    "    def __init__(self, name, email, password):\n",
    "        self.name = name\n",
    "        self.email = email\n",
    "        self.password = password\n",
    "\n",
    "    def login(self):\n",
    "        return f\"Hello, {self.name}! Welcome back\"\n",
    "\n",
    "    def logout(self):\n",
    "        return f\"You are logged out\""
   ]
  },
  {
   "cell_type": "code",
   "execution_count": null,
   "id": "41c0cb5f-15e2-4773-a691-6cf7163ec997",
   "metadata": {},
   "outputs": [],
   "source": [
    "user1 = User(\"Vinay\", \"a@a.com\", \"admin123\")"
   ]
  },
  {
   "cell_type": "code",
   "execution_count": null,
   "id": "f67175ca-0507-4f47-a9c9-7ea9d623719a",
   "metadata": {},
   "outputs": [],
   "source": [
    "user1.name"
   ]
  },
  {
   "cell_type": "code",
   "execution_count": null,
   "id": "179ebd99-7563-4eb7-a277-37ec19dbd124",
   "metadata": {},
   "outputs": [],
   "source": [
    "user1.email"
   ]
  },
  {
   "cell_type": "code",
   "execution_count": null,
   "id": "72ec5e33-129e-42ee-b4d7-14226e4e57ec",
   "metadata": {},
   "outputs": [],
   "source": [
    "user1.password"
   ]
  },
  {
   "cell_type": "code",
   "execution_count": null,
   "id": "f0d5cd52-34d9-4104-beef-7105e1f855c8",
   "metadata": {},
   "outputs": [],
   "source": [
    "user1.login()"
   ]
  },
  {
   "cell_type": "code",
   "execution_count": null,
   "id": "931c342f-4b14-470a-bc94-96a65fcd2f3e",
   "metadata": {},
   "outputs": [],
   "source": [
    "user1.logout()"
   ]
  },
  {
   "cell_type": "code",
   "execution_count": null,
   "id": "b65c10a6",
   "metadata": {},
   "outputs": [],
   "source": [
    "# Class for Book\n",
    "\n",
    "class Book:\n",
    "    def __init__(self, name, author, publisher, year, genre):\n",
    "        self.name = name\n",
    "        self.author = author\n",
    "        self.publisher = publisher\n",
    "        self.year = year\n",
    "        self.genre = genre\n",
    "\n",
    "    def read(self, name):\n",
    "        return f\"{name} is reading {self.genre} book titled {self.name} written by {self.author} and publised by {self.publisher} in the year {self.year}\""
   ]
  },
  {
   "cell_type": "code",
   "execution_count": null,
   "id": "acd2ebf5",
   "metadata": {},
   "outputs": [],
   "source": [
    "# instantiating a book\n",
    "book1 = Book(\"Introduction to Python\", \"Guido Von Rossum\", \"Wiley\", 2023, \"Technology\")"
   ]
  },
  {
   "cell_type": "code",
   "execution_count": null,
   "id": "00391efc",
   "metadata": {},
   "outputs": [],
   "source": [
    "# Calling attributes from instantiated object (book1)\n",
    "\n",
    "print(book1.name)\n",
    "print(book1.author)\n",
    "print(book1.publisher)\n",
    "print(book1.year)\n",
    "print(book1.genre)"
   ]
  },
  {
   "cell_type": "code",
   "execution_count": null,
   "id": "394cd97c",
   "metadata": {},
   "outputs": [],
   "source": [
    "# Call the method from instantiated object (book1)\n",
    "\n",
    "book1.read(\"Vinay\")"
   ]
  },
  {
   "cell_type": "code",
   "execution_count": null,
   "id": "669dbd0e",
   "metadata": {},
   "outputs": [],
   "source": [
    "book2 = Book(\"Introduction to Java\", \"Vinay\", \"Springer\", 2022, \"Technology\")"
   ]
  },
  {
   "cell_type": "code",
   "execution_count": null,
   "id": "0a1924e7",
   "metadata": {},
   "outputs": [],
   "source": [
    "book2.read(\"Sanjay\")"
   ]
  },
  {
   "cell_type": "markdown",
   "id": "90a8e41d",
   "metadata": {},
   "source": [
    "#### Example 5"
   ]
  },
  {
   "cell_type": "code",
   "execution_count": null,
   "id": "6e6e35cc-d7b3-422d-9578-ca81e350c178",
   "metadata": {},
   "outputs": [],
   "source": [
    "# Simple Calculator \n",
    "class Calculator:\n",
    "    def __init__(self, a, b):\n",
    "        self.a = a\n",
    "        self.b = b\n",
    "\n",
    "    def add(self):\n",
    "        return self.a + self.b\n",
    "\n",
    "    def subtract(self):\n",
    "        return self.a - self.b\n",
    "\n",
    "    def multiply(self):\n",
    "        return self.a * self.b\n",
    "\n",
    "    def divide(self):\n",
    "        if self.b != 0:\n",
    "            return self.a / self.b\n",
    "        else:\n",
    "            return \"Error! Division by zero.\""
   ]
  },
  {
   "cell_type": "code",
   "execution_count": null,
   "id": "9473aa0e-db65-44c3-aa8b-1566832e36ea",
   "metadata": {},
   "outputs": [],
   "source": [
    "# \n",
    "calc = Calculator(10, 5)"
   ]
  },
  {
   "cell_type": "code",
   "execution_count": null,
   "id": "b1eab4ad-a22d-4993-bf15-8160f75180d6",
   "metadata": {},
   "outputs": [],
   "source": [
    "print(calc.add())\n",
    "print(calc.subtract())\n",
    "print(calc.multiply()) \n",
    "print(calc.divide())"
   ]
  },
  {
   "cell_type": "code",
   "execution_count": null,
   "id": "6f7f37b6",
   "metadata": {},
   "outputs": [],
   "source": [
    "# Class\n",
    "\n",
    "# Class is like a function\n",
    "# But it is not a function\n",
    "# but it is collection of function as methods\n",
    "# Class is like a body of program\n",
    "# Class is like a blue print of a program\n",
    "# Class is like a receipe\n",
    "# Class is where we allow both data and method"
   ]
  },
  {
   "cell_type": "code",
   "execution_count": null,
   "id": "0116954a",
   "metadata": {},
   "outputs": [],
   "source": [
    "# Attribute\n",
    "# Attributes are nothing but variables\n",
    "# Attributes are initiated during instantiation of objects\n",
    "# Example: radius ----> radius is attribute"
   ]
  },
  {
   "cell_type": "code",
   "execution_count": null,
   "id": "03e96ce8",
   "metadata": {},
   "outputs": [],
   "source": [
    "# Method\n",
    "# particular task, or particular algo, or formula or printing that we perform on \n",
    "# computing of area----> based on radius (Radius is an attribute)"
   ]
  },
  {
   "cell_type": "code",
   "execution_count": null,
   "id": "5eaeeaee",
   "metadata": {},
   "outputs": [],
   "source": [
    "# Object\n",
    "# actual execution of class in the form of objects\n",
    "\n",
    "# You can create single object using class\n",
    "\n",
    "# you can create multiple object using same class\n",
    "\n",
    "# class is just a bluprint for your task\n",
    "\n",
    "# actual Input and Output are stored inside the objects"
   ]
  },
  {
   "cell_type": "markdown",
   "id": "dc8b97cc-a974-4180-9f24-0a048c05fbae",
   "metadata": {},
   "source": [
    "#### Structure of Anatomy of a Python Class"
   ]
  },
  {
   "cell_type": "markdown",
   "id": "b23f2f02-16f2-4153-987f-bec7af937aba",
   "metadata": {},
   "source": [
    "When you think about a class, several essential parts come into play.\n",
    "\n",
    "These include: \n",
    "- Attributes (Class attributes and Instance attributes)\n",
    "- Methods (Class Methods and Instance Methods)\n",
    "- The constructor."
   ]
  },
  {
   "cell_type": "markdown",
   "id": "d53fe86a-66bf-4b18-880f-8f7c456461e2",
   "metadata": {},
   "source": [
    "#### Attributes"
   ]
  },
  {
   "cell_type": "markdown",
   "id": "c9d8c189-7248-4dc2-97f5-ee71f34bcff6",
   "metadata": {},
   "source": [
    "- `Attributes` are the data stored within a class.\n",
    "- There are two types\n",
    "    - Class Attributes\n",
    "    - Instance Attributes\n",
    "      \n",
    "- `Class Attributes`: These are shared across all instances of a class.\n",
    "    - They are defined within the class but outside of any methods.\n",
    "\n",
    "\n",
    "\n",
    "- `Instance Attributes`: These are specific to each instance (or object) of a class.\n",
    "    - They are usually defined within the `__init__` method, which is the constructor method that initializes the attributes of the object."
   ]
  },
  {
   "cell_type": "code",
   "execution_count": 34,
   "id": "6d8b7684-18b5-446b-ab7b-f0fcb1594ec5",
   "metadata": {},
   "outputs": [],
   "source": [
    "# a class with instance attribute\n",
    "class Car:\n",
    "    def __init__(self, make, model, color):\n",
    "        self.make = make  # Instance attribute, year\n",
    "        self.model = model  # Instance attribute, carname\n",
    "        self.color = color  # Instance attribute, color\n",
    "    def describe(self):\n",
    "        return f'The {self.model} car is {self.color} color and manufactured in the year {self.make}'"
   ]
  },
  {
   "cell_type": "code",
   "execution_count": 35,
   "id": "ca27a756",
   "metadata": {},
   "outputs": [],
   "source": [
    "# instantiated the object (car1) based on class (Car) with Instance Attributes (2023, Swift, Red)\n",
    "\n",
    "car1 = Car(2023, \"Swift\", \"Red\")"
   ]
  },
  {
   "cell_type": "code",
   "execution_count": 36,
   "id": "8d1c49eb",
   "metadata": {},
   "outputs": [
    {
     "data": {
      "text/plain": [
       "'The Swift car is Red color and manufactured in the year 2023'"
      ]
     },
     "execution_count": 36,
     "metadata": {},
     "output_type": "execute_result"
    }
   ],
   "source": [
    "car1.describe()"
   ]
  },
  {
   "cell_type": "code",
   "execution_count": null,
   "id": "5565b3de",
   "metadata": {},
   "outputs": [],
   "source": []
  },
  {
   "cell_type": "code",
   "execution_count": 37,
   "id": "7cbb3974",
   "metadata": {},
   "outputs": [],
   "source": [
    "# Class with Class Attribute and also Instance Attribute\n",
    "\n",
    "\n",
    "class Car:\n",
    "    wheels = 4 # Class attribute\n",
    "    seats = 5 # Class attribute\n",
    "    doors = 5 # Class attribute\n",
    "\n",
    "    # Initiate the Instance Attributes\n",
    "    def __init__(self, make, model, color):\n",
    "        self.make = make  # Instance attribute\n",
    "        self.model = model  # Instance attribute\n",
    "        self.color = color  # Instance attribute\n",
    "\n",
    "    def describe(self):\n",
    "        return f'The {self.model} car is {self.color} color and manufactured in the year {self.make} which has {Car.wheels} wheels, {Car.seats} seats and got {Car.doors} doors'"
   ]
  },
  {
   "cell_type": "code",
   "execution_count": 38,
   "id": "d9ea0377-fba6-4179-8009-23db64b62740",
   "metadata": {},
   "outputs": [],
   "source": [
    "# Creating instances of Car\n",
    "car1 = Car(2023, \"Swift\", \"Red\")"
   ]
  },
  {
   "cell_type": "code",
   "execution_count": 42,
   "id": "4979ccce-bfb8-4192-8538-b3c53b5c27b5",
   "metadata": {},
   "outputs": [
    {
     "data": {
      "text/plain": [
       "2023"
      ]
     },
     "execution_count": 42,
     "metadata": {},
     "output_type": "execute_result"
    }
   ],
   "source": [
    "# Calling Instance Attribute\n",
    "car1.make"
   ]
  },
  {
   "cell_type": "code",
   "execution_count": 43,
   "id": "5b3ee30c-c3ce-46e9-93de-717b45986ab1",
   "metadata": {},
   "outputs": [
    {
     "data": {
      "text/plain": [
       "'Swift'"
      ]
     },
     "execution_count": 43,
     "metadata": {},
     "output_type": "execute_result"
    }
   ],
   "source": [
    "# Calling Instance Attribute\n",
    "car1.model"
   ]
  },
  {
   "cell_type": "code",
   "execution_count": 44,
   "id": "4f2b2f35-66c6-413f-a9c7-d52cf1373635",
   "metadata": {},
   "outputs": [
    {
     "data": {
      "text/plain": [
       "'Red'"
      ]
     },
     "execution_count": 44,
     "metadata": {},
     "output_type": "execute_result"
    }
   ],
   "source": [
    "# Calling Instance Attribute\n",
    "car1.color"
   ]
  },
  {
   "cell_type": "code",
   "execution_count": 45,
   "id": "739635af",
   "metadata": {},
   "outputs": [
    {
     "data": {
      "text/plain": [
       "4"
      ]
     },
     "execution_count": 45,
     "metadata": {},
     "output_type": "execute_result"
    }
   ],
   "source": [
    "# Calling the Class Attribute\n",
    "Car.wheels"
   ]
  },
  {
   "cell_type": "code",
   "execution_count": 46,
   "id": "23e0e51f",
   "metadata": {},
   "outputs": [
    {
     "data": {
      "text/plain": [
       "5"
      ]
     },
     "execution_count": 46,
     "metadata": {},
     "output_type": "execute_result"
    }
   ],
   "source": [
    "# Calling the Class Attribute\n",
    "Car.doors"
   ]
  },
  {
   "cell_type": "code",
   "execution_count": 47,
   "id": "b50508a8",
   "metadata": {},
   "outputs": [
    {
     "data": {
      "text/plain": [
       "5"
      ]
     },
     "execution_count": 47,
     "metadata": {},
     "output_type": "execute_result"
    }
   ],
   "source": [
    "# Calling the Class Attribute\n",
    "Car.seats"
   ]
  },
  {
   "cell_type": "code",
   "execution_count": 48,
   "id": "7f651f25",
   "metadata": {},
   "outputs": [
    {
     "data": {
      "text/plain": [
       "'The Swift car is Red color and manufactured in the year 2023 which has 4 wheels, 5 seats and got 5 doors'"
      ]
     },
     "execution_count": 48,
     "metadata": {},
     "output_type": "execute_result"
    }
   ],
   "source": [
    "# Calling method\n",
    "\n",
    "car1.describe()"
   ]
  },
  {
   "cell_type": "markdown",
   "id": "0f538bf4",
   "metadata": {},
   "source": [
    "#### Example"
   ]
  },
  {
   "cell_type": "code",
   "execution_count": 49,
   "id": "5e4cb636",
   "metadata": {},
   "outputs": [],
   "source": [
    "# Use of Class Attribute and Instance Attribute Together\n",
    "\n",
    "class MathOps:\n",
    "    pi = 3.14159  # Class attribute for pi\n",
    "\n",
    "    # First Block of function (Normally used for collecting the Instance Attributes)\n",
    "    # __init__\n",
    "    # starts (self)\n",
    "\n",
    "    def __init__(self, value1, value2):\n",
    "        self.value1 = value1 # Instance Attribute\n",
    "        self.value2 = value2 # Instance Attribute\n",
    "\n",
    "    # Second Block (Method 1) to perform something on attributes (both Instance and Class Attribute)\n",
    "    def add(self):\n",
    "        return self.value1 + self.value2\n",
    "\n",
    "    # Third Block (Method 2)\n",
    "    def subtract(self):\n",
    "        return self.value1 - self.value2\n",
    "\n",
    "    # Fourth Block (Method 3)\n",
    "    def multiply(self):\n",
    "        return self.value1 * self.value2\n",
    "\n",
    "    # Fifth Block (Method 4)\n",
    "    def divide(self):\n",
    "        if self.value2 == 0:\n",
    "            return \"Error! Division by zero.\"\n",
    "        return self.value1 / self.value2\n",
    "\n",
    "    # Sixth Block with extra parameter\n",
    "    def circle_area(self, radius):\n",
    "        return MathOps.pi * radius ** 2  # Using class attribute pi\n",
    "    \n",
    "    # Seventh Block with extra parameter\n",
    "    def circle_circumference(self, radius):\n",
    "        return 2 * MathOps.pi * radius  # Using class attribute pi\n",
    "    "
   ]
  },
  {
   "cell_type": "code",
   "execution_count": 50,
   "id": "951f3778",
   "metadata": {},
   "outputs": [],
   "source": [
    "# instantiating the object based on class\n",
    "\n",
    "mycalc = MathOps(3,2)"
   ]
  },
  {
   "cell_type": "code",
   "execution_count": 55,
   "id": "8b5f48d0",
   "metadata": {},
   "outputs": [
    {
     "data": {
      "text/plain": [
       "3"
      ]
     },
     "execution_count": 55,
     "metadata": {},
     "output_type": "execute_result"
    }
   ],
   "source": [
    "# reading value1 (Instance Attribute)\n",
    "mycalc.value1"
   ]
  },
  {
   "cell_type": "code",
   "execution_count": 56,
   "id": "1dc2fae0",
   "metadata": {},
   "outputs": [
    {
     "data": {
      "text/plain": [
       "2"
      ]
     },
     "execution_count": 56,
     "metadata": {},
     "output_type": "execute_result"
    }
   ],
   "source": [
    "mycalc.value2"
   ]
  },
  {
   "cell_type": "code",
   "execution_count": 57,
   "id": "18f750af",
   "metadata": {},
   "outputs": [
    {
     "data": {
      "text/plain": [
       "3.14159"
      ]
     },
     "execution_count": 57,
     "metadata": {},
     "output_type": "execute_result"
    }
   ],
   "source": [
    "# Class Attribute\n",
    "MathOps.pi"
   ]
  },
  {
   "cell_type": "code",
   "execution_count": null,
   "id": "e7c0436f",
   "metadata": {},
   "outputs": [
    {
     "data": {
      "text/plain": [
       "5"
      ]
     },
     "execution_count": 58,
     "metadata": {},
     "output_type": "execute_result"
    }
   ],
   "source": [
    "# calling method 1\n",
    "mycalc.add()"
   ]
  },
  {
   "cell_type": "code",
   "execution_count": 60,
   "id": "095b1ddf",
   "metadata": {},
   "outputs": [
    {
     "name": "stdout",
     "output_type": "stream",
     "text": [
      "The subtraction of 3 and 2 is 1\n"
     ]
    }
   ],
   "source": [
    "# method 2\n",
    "mycalc.subtract()\n",
    "\n",
    "print(f'The subtraction of {mycalc.value1} and {mycalc.value2} is {mycalc.subtract()}')"
   ]
  },
  {
   "cell_type": "code",
   "execution_count": 61,
   "id": "04634337",
   "metadata": {},
   "outputs": [
    {
     "name": "stdout",
     "output_type": "stream",
     "text": [
      "Addition: 15\n",
      "Subtraction: 5\n",
      "Multiplication: 50\n",
      "Division: 2.0\n"
     ]
    }
   ],
   "source": [
    "# Instantiate\n",
    "obj = MathOps(10, 5)\n",
    "print(f\"Addition: {obj.add()}\")\n",
    "print(f\"Subtraction: {obj.subtract()}\")\n",
    "print(f\"Multiplication: {obj.multiply()}\")\n",
    "print(f\"Division: {obj.divide()}\")"
   ]
  },
  {
   "cell_type": "code",
   "execution_count": 63,
   "id": "5585e45e",
   "metadata": {},
   "outputs": [
    {
     "data": {
      "text/plain": [
       "3.14159"
      ]
     },
     "execution_count": 63,
     "metadata": {},
     "output_type": "execute_result"
    }
   ],
   "source": [
    "obj.circle_area(1)"
   ]
  },
  {
   "cell_type": "code",
   "execution_count": 64,
   "id": "2110830a",
   "metadata": {},
   "outputs": [
    {
     "data": {
      "text/plain": [
       "12.56636"
      ]
     },
     "execution_count": 64,
     "metadata": {},
     "output_type": "execute_result"
    }
   ],
   "source": [
    "obj.circle_area(2)"
   ]
  },
  {
   "cell_type": "code",
   "execution_count": 65,
   "id": "e1216776",
   "metadata": {},
   "outputs": [
    {
     "data": {
      "text/plain": [
       "6.28318"
      ]
     },
     "execution_count": 65,
     "metadata": {},
     "output_type": "execute_result"
    }
   ],
   "source": [
    "obj.circle_circumference(1)"
   ]
  },
  {
   "cell_type": "markdown",
   "id": "5a34fc51-3c3b-4582-a534-393ce100aa02",
   "metadata": {},
   "source": [
    "#### Methods in OOPS"
   ]
  },
  {
   "cell_type": "markdown",
   "id": "3366783e-8a34-46b4-8880-d19956857da4",
   "metadata": {},
   "source": [
    "Methods are functions defined within a class that describe the behaviors of the objects.\n",
    "There are two main types:\n",
    "- class methods\n",
    "- instance methods."
   ]
  },
  {
   "cell_type": "markdown",
   "id": "bf562797-680f-4af2-8603-bc84d5fe8ff9",
   "metadata": {},
   "source": [
    "`Instance Methods:`\n",
    "These are the most common type of methods and can access and modify instance attributes. They require an instance of the class to be called. For example, a method that starts the car engine can only work on a specific car instance.\n",
    "\n",
    "`Class Methods:`\n",
    "These are defined with a decorator `@classmethod` and can access class attributes but not instance attributes. They are called on the class itself rather than on instances. Class methods can be useful for factory methods that create instances of the class."
   ]
  },
  {
   "cell_type": "code",
   "execution_count": 75,
   "id": "c2a0ef45-acdc-414d-8146-2e94b35da28c",
   "metadata": {},
   "outputs": [],
   "source": [
    "class Car:\n",
    "    wheels = 4  # Class attribute\n",
    "    seats = 5 # Class Attribute\n",
    "\n",
    "\n",
    "    def __init__(self, make, model, color):\n",
    "        self.make = make # Instance attribute\n",
    "        self.model = model # Instance attribute\n",
    "        self.color = color # Instance attribute\n",
    "        \n",
    "    def start_engine(self):  # Instance method\n",
    "        return f\"The {self.color} color {self.model} car engine has started since {self.make}\"\n",
    "\n",
    "    @classmethod\n",
    "    def total_wheels(cls):  # Class method\n",
    "        return f\"All cars have {cls.wheels} wheels.\"\n",
    "    \n",
    "    @classmethod\n",
    "    def total_seats(cls):\n",
    "        return f\"All cars have {cls.seats} seats.\"\n",
    "    \n",
    "    def stop_engine(self):\n",
    "        return f\"The {self.model} car engine has stopped.\""
   ]
  },
  {
   "cell_type": "code",
   "execution_count": 76,
   "id": "1aa9693a-6fb2-4395-a288-b8ebb86ab94f",
   "metadata": {},
   "outputs": [],
   "source": [
    "# Creating an instance\n",
    "my_car = Car(2020, \"Swift\", \"Blue\")"
   ]
  },
  {
   "cell_type": "code",
   "execution_count": 77,
   "id": "471474e1-a51d-4225-829e-76b0443cd99d",
   "metadata": {},
   "outputs": [
    {
     "data": {
      "text/plain": [
       "'The Blue color Swift car engine has started since 2020'"
      ]
     },
     "execution_count": 77,
     "metadata": {},
     "output_type": "execute_result"
    }
   ],
   "source": [
    "my_car.start_engine()"
   ]
  },
  {
   "cell_type": "code",
   "execution_count": 78,
   "id": "e769327f",
   "metadata": {},
   "outputs": [
    {
     "data": {
      "text/plain": [
       "'The Swift car engine has stopped.'"
      ]
     },
     "execution_count": 78,
     "metadata": {},
     "output_type": "execute_result"
    }
   ],
   "source": [
    "my_car.stop_engine()"
   ]
  },
  {
   "cell_type": "code",
   "execution_count": 79,
   "id": "b7de8a00",
   "metadata": {},
   "outputs": [
    {
     "data": {
      "text/plain": [
       "'All cars have 5 seats.'"
      ]
     },
     "execution_count": 79,
     "metadata": {},
     "output_type": "execute_result"
    }
   ],
   "source": [
    "my_car.total_seats()"
   ]
  },
  {
   "cell_type": "code",
   "execution_count": 80,
   "id": "299c4697",
   "metadata": {},
   "outputs": [
    {
     "data": {
      "text/plain": [
       "'All cars have 4 wheels.'"
      ]
     },
     "execution_count": 80,
     "metadata": {},
     "output_type": "execute_result"
    }
   ],
   "source": [
    "Car.total_wheels()"
   ]
  },
  {
   "cell_type": "code",
   "execution_count": 81,
   "id": "5f36cd62-805a-4660-8798-41ae6f2a2fc7",
   "metadata": {},
   "outputs": [
    {
     "data": {
      "text/plain": [
       "'All cars have 5 seats.'"
      ]
     },
     "execution_count": 81,
     "metadata": {},
     "output_type": "execute_result"
    }
   ],
   "source": [
    "Car.total_seats()"
   ]
  },
  {
   "cell_type": "code",
   "execution_count": 82,
   "id": "a3a3f4cc",
   "metadata": {},
   "outputs": [
    {
     "ename": "TypeError",
     "evalue": "Car.start_engine() missing 1 required positional argument: 'self'",
     "output_type": "error",
     "traceback": [
      "\u001b[1;31m---------------------------------------------------------------------------\u001b[0m",
      "\u001b[1;31mTypeError\u001b[0m                                 Traceback (most recent call last)",
      "Cell \u001b[1;32mIn[82], line 1\u001b[0m\n\u001b[1;32m----> 1\u001b[0m Car\u001b[38;5;241m.\u001b[39mstart_engine()\n",
      "\u001b[1;31mTypeError\u001b[0m: Car.start_engine() missing 1 required positional argument: 'self'"
     ]
    }
   ],
   "source": [
    "Car.start_engine()"
   ]
  },
  {
   "cell_type": "code",
   "execution_count": null,
   "id": "1aaf6ceb",
   "metadata": {},
   "outputs": [],
   "source": [
    "# Error: start_engine class is associated with object, but not with the class\n",
    "\n"
   ]
  },
  {
   "cell_type": "markdown",
   "id": "da7f48fb",
   "metadata": {},
   "source": [
    "#### Task 1"
   ]
  },
  {
   "cell_type": "markdown",
   "id": "74c80591",
   "metadata": {},
   "source": [
    "#### Prepare a Class for printing of total ingredients required for preparation of tea based on number of persons"
   ]
  },
  {
   "cell_type": "code",
   "execution_count": 83,
   "id": "0175b498",
   "metadata": {},
   "outputs": [],
   "source": [
    "class TeaRecipe:\n",
    "\n",
    "    def __init__(self, servings = 1):\n",
    "\n",
    "        # Base quantities per serving\n",
    "\n",
    "        self.servings = servings\n",
    "\n",
    "        self.water_per_serving = 1       # in cups\n",
    "\n",
    "        self.milk_per_serving = 0.5      # in cups\n",
    "\n",
    "        self.tea_leaves_per_serving = 1  # in teaspoons\n",
    "\n",
    "        self.sugar_per_serving = 1       # in teaspoons (or to taste)\n",
    "\n",
    "\n",
    "\n",
    "\n",
    "\n",
    "    def display_ingredients(self):\n",
    "\n",
    "\n",
    "        # Calculate total quantities based on number of servings\n",
    "\n",
    "        water = self.water_per_serving * self.servings\n",
    "\n",
    "        milk = self.milk_per_serving * self.servings\n",
    "\n",
    "        tea_leaves = self.tea_leaves_per_serving * self.servings\n",
    "        \n",
    "        sugar = self.sugar_per_serving * self.servings\n",
    "\n",
    "        # Display ingredients\n",
    "        print(f\"Ingredients required for preparing tea for {self.servings} serving(s):\")\n",
    "        print(f\"Water: {water} cup\")\n",
    "        print(f\"Milk: {milk} cup\")\n",
    "        print(f\"Tea leaves: {tea_leaves} tsp\")\n",
    "        print(f\"Sugar: {sugar} tsp\")"
   ]
  },
  {
   "cell_type": "code",
   "execution_count": 84,
   "id": "77bd1e30",
   "metadata": {},
   "outputs": [],
   "source": [
    "# instantiate objects\n",
    "order1 = TeaRecipe(servings=10)"
   ]
  },
  {
   "cell_type": "code",
   "execution_count": 85,
   "id": "d2a5c346",
   "metadata": {},
   "outputs": [
    {
     "name": "stdout",
     "output_type": "stream",
     "text": [
      "Ingredients required for preparing tea for 10 serving(s):\n",
      "Water: 10 cup\n",
      "Milk: 5.0 cup\n",
      "Tea leaves: 10 tsp\n",
      "Sugar: 10 tsp\n"
     ]
    }
   ],
   "source": [
    "# Display the ingredients based on calling the display_ingredients method\n",
    "\n",
    "order1.display_ingredients()\n"
   ]
  },
  {
   "cell_type": "code",
   "execution_count": 86,
   "id": "fbeba2fa",
   "metadata": {},
   "outputs": [],
   "source": [
    "order2 = TeaRecipe(servings=2.5)"
   ]
  },
  {
   "cell_type": "code",
   "execution_count": 87,
   "id": "cfc4a451",
   "metadata": {},
   "outputs": [
    {
     "name": "stdout",
     "output_type": "stream",
     "text": [
      "Ingredients required for preparing tea for 2.5 serving(s):\n",
      "Water: 2.5 cup\n",
      "Milk: 1.25 cup\n",
      "Tea leaves: 2.5 tsp\n",
      "Sugar: 2.5 tsp\n"
     ]
    }
   ],
   "source": [
    "order2.display_ingredients()"
   ]
  },
  {
   "cell_type": "markdown",
   "id": "2bdaba68",
   "metadata": {},
   "source": [
    "#### Task 2"
   ]
  },
  {
   "cell_type": "code",
   "execution_count": null,
   "id": "cde59eb2",
   "metadata": {},
   "outputs": [],
   "source": [
    "# Write a class for generating the marks sheet of the student"
   ]
  },
  {
   "cell_type": "code",
   "execution_count": null,
   "id": "515190ee",
   "metadata": {},
   "outputs": [],
   "source": [
    "# Requirements\n",
    "\n",
    "# Student name\n",
    "# Student roll number\n",
    "\n",
    "\n",
    "# Language1 = Hindi or Kannada\n",
    "# Language2 = English\n",
    "# Core1 = Science\n",
    "# Core2 = Mathematics\n",
    "# Core3 = Social_Science"
   ]
  },
  {
   "cell_type": "code",
   "execution_count": null,
   "id": "159968c9",
   "metadata": {},
   "outputs": [],
   "source": [
    "# how many methods regquired\n",
    "\n",
    "# initiation of basic info, student roll number\n",
    "# add_marks\n",
    "# get_total\n",
    "# get_average, get_percentage\n",
    "# grade announcement\n",
    "# generation of marks sheet"
   ]
  },
  {
   "cell_type": "code",
   "execution_count": null,
   "id": "6fe7369b",
   "metadata": {},
   "outputs": [],
   "source": [
    "class MarksSheet:\n",
    "    def __init__(self, name, rollno):\n",
    "        self.name = name # Instance Attribute\n",
    "        self.rollno = rollno # Instance Attribute\n",
    "        self.lang1 = None # Instance Attribute\n",
    "        self.lang2 = None # Instance Attribute\n",
    "        self.science = None # Instance Attribute\n",
    "        self.mathematics = None # Instance Attribute\n",
    "        self.social = None # Instance Attribute\n",
    "\n",
    "    def addMarks(self, lang1, lang2, science, mathematics, social):\n",
    "        self.lang1 = lang1 \n",
    "        self.lang2 = lang2\n",
    "        self.science = science\n",
    "        self.mathematics = mathematics\n",
    "        self.social = social"
   ]
  },
  {
   "cell_type": "code",
   "execution_count": null,
   "id": "c1280281",
   "metadata": {},
   "outputs": [],
   "source": [
    "#testing the code\n",
    "# while instantiating, name and roll num are enough and all subjects marks kept null\n",
    "stu1 = MarksSheet(\"Vinay\", \"GIS00123\")"
   ]
  },
  {
   "cell_type": "code",
   "execution_count": 3,
   "id": "0763a6fd",
   "metadata": {},
   "outputs": [
    {
     "data": {
      "text/plain": [
       "'Vinay'"
      ]
     },
     "execution_count": 3,
     "metadata": {},
     "output_type": "execute_result"
    }
   ],
   "source": [
    "stu1.name"
   ]
  },
  {
   "cell_type": "code",
   "execution_count": 4,
   "id": "35c55c34",
   "metadata": {},
   "outputs": [
    {
     "data": {
      "text/plain": [
       "'GIS00123'"
      ]
     },
     "execution_count": 4,
     "metadata": {},
     "output_type": "execute_result"
    }
   ],
   "source": [
    "stu1.rollno"
   ]
  },
  {
   "cell_type": "code",
   "execution_count": 6,
   "id": "0829858e",
   "metadata": {},
   "outputs": [
    {
     "name": "stdout",
     "output_type": "stream",
     "text": [
      "None\n"
     ]
    }
   ],
   "source": [
    "print(stu1.lang1)"
   ]
  },
  {
   "cell_type": "code",
   "execution_count": null,
   "id": "6100c565",
   "metadata": {},
   "outputs": [],
   "source": [
    "# we are passing the subject marks through method (addmarks)\n",
    "# None will be removed and newly instantiated value will be stored inside the instance attribute\n",
    "stu1.addMarks(45, 56, 67, 88, 76)"
   ]
  },
  {
   "cell_type": "code",
   "execution_count": 8,
   "id": "01846498",
   "metadata": {},
   "outputs": [
    {
     "data": {
      "text/plain": [
       "'Vinay'"
      ]
     },
     "execution_count": 8,
     "metadata": {},
     "output_type": "execute_result"
    }
   ],
   "source": [
    "stu1.name"
   ]
  },
  {
   "cell_type": "code",
   "execution_count": 9,
   "id": "a02baef7",
   "metadata": {},
   "outputs": [
    {
     "data": {
      "text/plain": [
       "'GIS00123'"
      ]
     },
     "execution_count": 9,
     "metadata": {},
     "output_type": "execute_result"
    }
   ],
   "source": [
    "stu1.rollno"
   ]
  },
  {
   "cell_type": "code",
   "execution_count": 10,
   "id": "da21d286",
   "metadata": {},
   "outputs": [
    {
     "data": {
      "text/plain": [
       "45"
      ]
     },
     "execution_count": 10,
     "metadata": {},
     "output_type": "execute_result"
    }
   ],
   "source": [
    "stu1.lang1"
   ]
  },
  {
   "cell_type": "code",
   "execution_count": 11,
   "id": "c2c6f2c9",
   "metadata": {},
   "outputs": [
    {
     "data": {
      "text/plain": [
       "56"
      ]
     },
     "execution_count": 11,
     "metadata": {},
     "output_type": "execute_result"
    }
   ],
   "source": [
    "stu1.lang2"
   ]
  },
  {
   "cell_type": "code",
   "execution_count": 166,
   "id": "9177fa31",
   "metadata": {},
   "outputs": [],
   "source": [
    "class MarksSheet:\n",
    "    def __init__(self, name, rollno):\n",
    "        self.name = name # Instance Attribute\n",
    "        self.rollno = rollno # Instance Attribute\n",
    "        self.lang1 = None # Instance Attribute\n",
    "        self.lang2 = None # Instance Attribute\n",
    "        self.science = None # Instance Attribute\n",
    "        self.mathematics = None # Instance Attribute\n",
    "        self.social = None # Instance Attribute\n",
    "\n",
    "    def addMarks(self, lang1, lang2, science, mathematics, social):\n",
    "        self.lang1 = lang1 \n",
    "        self.lang2 = lang2\n",
    "        self.science = science\n",
    "        self.mathematics = mathematics\n",
    "        self.social = social\n",
    "\n",
    "    def totalMarks(self):\n",
    "        total = self.lang1 + self.lang2 + self.science + self.mathematics + self.social\n",
    "        return total\n",
    "    \n",
    "    def computePercentage(self):\n",
    "        #implimentation 1\n",
    "        #total = self.lang1 + self.lang2 + self.science + self.mathematics + self.social\n",
    "        #per = (total / 500) * 100\n",
    "\n",
    "        #implimentation 2\n",
    "        per = (self.totalMarks() / 500) * 100\n",
    "        return per\n",
    "    \n",
    "    def computeGrade(self):\n",
    "        #implimentation 1\n",
    "        #total = self.lang1 + self.lang2 + self.science + self.mathematics + self.social\n",
    "        #per = (total / 500) * 100\n",
    "\n",
    "        #implimentation 2\n",
    "        per = self.computePercentage()\n",
    "\n",
    "        if per >= 75:\n",
    "            grade = 'Distinction'\n",
    "        elif per > 60:\n",
    "            grade = 'First Class'\n",
    "        elif per > 50:\n",
    "            grade = 'Second Class'\n",
    "        elif per > 40:\n",
    "            grade = 'Third Class'\n",
    "        else:\n",
    "            grade = 'Failed'\n",
    "        \n",
    "        return grade\n",
    "    \n",
    "    def generateMarksSheet(self):\n",
    "        print(f'**********University of Mysore*************')\n",
    "        print(f'************Marks Sheet***************')\n",
    "        print(f'Student Name :: {self.name}\\n')\n",
    "        print(f'Student Roll Number :: {self.rollno}\\n')\n",
    "        print(f'Language 1 Marks :: {self.lang1}\\n')\n",
    "        print(f'Language 2 Marks :: {self.lang2}\\n')\n",
    "        print(f'Science Marks :: {self.science}\\n')\n",
    "        print(f'Mathematics Marks :: {self.mathematics}\\n')\n",
    "        print(f'Social Marks :: {self.social}\\n')\n",
    "        print(f'************************************')\n",
    "        print(f'Total Marks :: {self.totalMarks()} out of 500')\n",
    "        print(f'Percentage :: {self.computePercentage()} %')\n",
    "        print(f'Grade:: {self.computeGrade()}')\n"
   ]
  },
  {
   "cell_type": "code",
   "execution_count": 167,
   "id": "da2a0211",
   "metadata": {},
   "outputs": [],
   "source": [
    "# step1: instantiate the object\n",
    "\n",
    "stu2 = MarksSheet(\"Vinay\", \"GIS00363\")"
   ]
  },
  {
   "cell_type": "code",
   "execution_count": 168,
   "id": "e6792455",
   "metadata": {},
   "outputs": [
    {
     "data": {
      "text/plain": [
       "'Vinay'"
      ]
     },
     "execution_count": 168,
     "metadata": {},
     "output_type": "execute_result"
    }
   ],
   "source": [
    "stu2.name"
   ]
  },
  {
   "cell_type": "code",
   "execution_count": 169,
   "id": "416fcabb",
   "metadata": {},
   "outputs": [
    {
     "data": {
      "text/plain": [
       "'GIS00363'"
      ]
     },
     "execution_count": 169,
     "metadata": {},
     "output_type": "execute_result"
    }
   ],
   "source": [
    "stu2.rollno"
   ]
  },
  {
   "cell_type": "code",
   "execution_count": 170,
   "id": "1cb24f20",
   "metadata": {},
   "outputs": [
    {
     "name": "stdout",
     "output_type": "stream",
     "text": [
      "None\n"
     ]
    }
   ],
   "source": [
    "print(stu2.lang1)"
   ]
  },
  {
   "cell_type": "code",
   "execution_count": 171,
   "id": "13bae7b7",
   "metadata": {},
   "outputs": [],
   "source": [
    "stu2.addMarks(79, 67, 99, 91, 56)"
   ]
  },
  {
   "cell_type": "code",
   "execution_count": 172,
   "id": "8bcfae21",
   "metadata": {},
   "outputs": [
    {
     "data": {
      "text/plain": [
       "79"
      ]
     },
     "execution_count": 172,
     "metadata": {},
     "output_type": "execute_result"
    }
   ],
   "source": [
    "stu2.lang1"
   ]
  },
  {
   "cell_type": "code",
   "execution_count": 173,
   "id": "a025defd",
   "metadata": {},
   "outputs": [
    {
     "data": {
      "text/plain": [
       "392"
      ]
     },
     "execution_count": 173,
     "metadata": {},
     "output_type": "execute_result"
    }
   ],
   "source": [
    "stu2.totalMarks()"
   ]
  },
  {
   "cell_type": "code",
   "execution_count": 174,
   "id": "b0f90671",
   "metadata": {},
   "outputs": [
    {
     "data": {
      "text/plain": [
       "78.4"
      ]
     },
     "execution_count": 174,
     "metadata": {},
     "output_type": "execute_result"
    }
   ],
   "source": [
    "stu2.computePercentage()"
   ]
  },
  {
   "cell_type": "code",
   "execution_count": 175,
   "id": "43c65646",
   "metadata": {},
   "outputs": [
    {
     "data": {
      "text/plain": [
       "'Distinction'"
      ]
     },
     "execution_count": 175,
     "metadata": {},
     "output_type": "execute_result"
    }
   ],
   "source": [
    "stu2.computeGrade()"
   ]
  },
  {
   "cell_type": "code",
   "execution_count": 176,
   "id": "436db142",
   "metadata": {},
   "outputs": [
    {
     "name": "stdout",
     "output_type": "stream",
     "text": [
      "**********University of Mysore*************\n",
      "************Marks Sheet***************\n",
      "Student Name :: Vinay\n",
      "\n",
      "Student Roll Number :: GIS00363\n",
      "\n",
      "Language 1 Marks :: 79\n",
      "\n",
      "Language 2 Marks :: 67\n",
      "\n",
      "Science Marks :: 99\n",
      "\n",
      "Mathematics Marks :: 91\n",
      "\n",
      "Social Marks :: 56\n",
      "\n",
      "************************************\n",
      "Total Marks :: 392 out of 500\n",
      "Percentage :: 78.4 %\n",
      "Grade:: Distinction\n"
     ]
    }
   ],
   "source": [
    "stu2.generateMarksSheet()"
   ]
  },
  {
   "cell_type": "markdown",
   "id": "19f16758",
   "metadata": {},
   "source": [
    "#### Task 3"
   ]
  },
  {
   "cell_type": "code",
   "execution_count": null,
   "id": "ba5e64cd",
   "metadata": {},
   "outputs": [],
   "source": [
    "# Write a class for generating salary "
   ]
  },
  {
   "cell_type": "code",
   "execution_count": 88,
   "id": "3c2134f2",
   "metadata": {},
   "outputs": [],
   "source": [
    "class CTC_Calculator:\n",
    "    def __init__(self, basic_salary):\n",
    "\n",
    "        self.basic_salary = basic_salary  # Initialize basic salary\n",
    "\n",
    "        self.hra = 0  # Initialize HRA\n",
    "\n",
    "        self.pf = 0  # Initialize PF\n",
    "\n",
    "        self.other_allowances = 0  # Initialize other allowances\n",
    "\n",
    "        self.ctc = 0  # Initialize CTC\n",
    "\n",
    "    def compute(self):\n",
    "        \n",
    "        self.hra = self.basic_salary * 0.20  # Assuming HRA is 20% of basic salary\n",
    "\n",
    "        self.pf = self.basic_salary * 0.12  # Assuming PF is 12% of basic salary\n",
    "\n",
    "        self.other_allowances = self.basic_salary * 0.10  # Assuming other allowances are 10% of basic salary\n",
    "\n",
    "        self.ctc = self.basic_salary + self.hra + self.pf + self.other_allowances\n",
    "\n",
    "    def generate_ctc_sheet(self):\n",
    "        return (\n",
    "            f\"CTC Calculation:\\n\"\n",
    "            f\"Basic Salary: {self.basic_salary}\\n\"\n",
    "            f\"HRA: {self.hra}\\n\"\n",
    "            f\"PF: {self.pf}\\n\"\n",
    "            f\"Other Allowances: {self.other_allowances}\\n\"\n",
    "            f\"Total CTC: {self.ctc}\\n\"\n",
    "        )"
   ]
  },
  {
   "cell_type": "code",
   "execution_count": 89,
   "id": "cb6cb99f",
   "metadata": {},
   "outputs": [],
   "source": [
    "# Instantiate \n",
    "emp1 = CTC_Calculator(basic_salary = 50000)"
   ]
  },
  {
   "cell_type": "code",
   "execution_count": 90,
   "id": "a7f2988a",
   "metadata": {},
   "outputs": [],
   "source": [
    "# Compute\n",
    "emp1.compute()"
   ]
  },
  {
   "cell_type": "code",
   "execution_count": 92,
   "id": "b04f3a55",
   "metadata": {},
   "outputs": [
    {
     "name": "stdout",
     "output_type": "stream",
     "text": [
      "CTC Calculation:\n",
      "Basic Salary: 50000\n",
      "HRA: 10000.0\n",
      "PF: 6000.0\n",
      "Other Allowances: 5000.0\n",
      "Total CTC: 71000.0\n",
      "\n"
     ]
    }
   ],
   "source": [
    "# Print\n",
    "print(emp1.generate_ctc_sheet())"
   ]
  }
 ],
 "metadata": {
  "kernelspec": {
   "display_name": "base",
   "language": "python",
   "name": "python3"
  },
  "language_info": {
   "codemirror_mode": {
    "name": "ipython",
    "version": 3
   },
   "file_extension": ".py",
   "mimetype": "text/x-python",
   "name": "python",
   "nbconvert_exporter": "python",
   "pygments_lexer": "ipython3",
   "version": "3.12.4"
  }
 },
 "nbformat": 4,
 "nbformat_minor": 5
}
