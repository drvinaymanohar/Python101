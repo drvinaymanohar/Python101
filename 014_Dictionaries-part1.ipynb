{
 "cells": [
  {
   "cell_type": "code",
   "execution_count": null,
   "id": "c33c2f7d-43a5-4564-82b8-c6bf8989a3a7",
   "metadata": {},
   "outputs": [],
   "source": [
    "# Dictionary"
   ]
  },
  {
   "cell_type": "markdown",
   "id": "dab37ecb-da4a-430c-b028-d916ad8cb1b1",
   "metadata": {},
   "source": [
    "Python dictionaries are one of the most powerful and `flexible data structures` in the language. \n",
    "\n",
    "Think of a dictionary as a real-world dictionary where words are associated with definitions.\n",
    "\n",
    "In Python, dictionaries allow you to store data in a similar way, but instead of words and definitions, you use key-value pairs. Each key is a unique identifier, and each value is the data associated with that key."
   ]
  },
  {
   "cell_type": "raw",
   "id": "1de5371c-d047-4e8b-b8b9-e2d53ba10747",
   "metadata": {},
   "source": [
    "# Syntax for Creating Dictionaries\n",
    "\n",
    "syntax = \n",
    "{\n",
    "    \"key1\": value1,\n",
    "    \"key2\": value2,\n",
    "    \"key3\": value3\n",
    "}\n",
    "\n",
    "Int, String"
   ]
  },
  {
   "cell_type": "code",
   "execution_count": 1,
   "id": "cc959f28-c389-42d0-a577-996ecf5c14d1",
   "metadata": {},
   "outputs": [],
   "source": [
    "emp_details = {\n",
    "    100001 : 'Vinay',\n",
    "    100002 : 'Rajesh',\n",
    "    100003 : 'Smitha',\n",
    "    100004 : 'Jonny'\n",
    "}"
   ]
  },
  {
   "cell_type": "code",
   "execution_count": 2,
   "id": "51ed0910-008f-4f16-b086-004a67040fa6",
   "metadata": {},
   "outputs": [],
   "source": [
    "individual = {\n",
    "    'Name' : 'Vinay',\n",
    "    'Mob' : 9060486010\n",
    "}"
   ]
  },
  {
   "cell_type": "markdown",
   "id": "c3aa2b37-56f7-4fae-ba08-08513f747a39",
   "metadata": {},
   "source": [
    "Key-Value Pair Structure\n",
    "\n",
    "- The key-value pair structure of a dictionary is what makes it so useful.<br>\n",
    "- Each key in a dictionary must be unique, which helps to avoid confusion when retrieving values.<br>\n",
    "- The value associated with a key can be of any data type: string, integer, list, or even another dictionary."
   ]
  },
  {
   "cell_type": "code",
   "execution_count": 14,
   "id": "8d488f59-f311-4130-818d-17ecabe57848",
   "metadata": {},
   "outputs": [],
   "source": [
    "# A dictionary is created using curly braces {}, and the key-value pairs are separated by commas.\n",
    "\n",
    "student = {\n",
    "    \"name\": \"Vinay\",\n",
    "    \"Mob\" : \"\"\n",
    "}"
   ]
  },
  {
   "cell_type": "code",
   "execution_count": 17,
   "id": "58dc4279-4e16-45a2-83f7-03e5c46f6e28",
   "metadata": {},
   "outputs": [],
   "source": [
    "item = {\n",
    "    'Brand' : 'Apple',\n",
    "    'Product' : 'Mobile',\n",
    "    'Model' : 'Apple iPhone 15',\n",
    "    'RAM' : [64, 128, 256],\n",
    "    'Camera' : '12MP',\n",
    "    'Available' : True,\n",
    "    'Price' : 57999\n",
    "}"
   ]
  },
  {
   "cell_type": "code",
   "execution_count": 18,
   "id": "8882f347-adb2-4567-a45a-1a5e203b90be",
   "metadata": {},
   "outputs": [
    {
     "data": {
      "text/plain": [
       "{'name': 'Rama', 'age': 30, 'occupation': 'Engineer'}"
      ]
     },
     "execution_count": 18,
     "metadata": {},
     "output_type": "execute_result"
    }
   ],
   "source": [
    "# Creating Dictionaries with the dict() Constructor\n",
    "person = dict(name=\"Rama\", age=30, occupation=\"Engineer\")\n",
    "person"
   ]
  },
  {
   "cell_type": "code",
   "execution_count": 20,
   "id": "dd496c85-2a82-4ea7-a032-d26661e44b02",
   "metadata": {},
   "outputs": [
    {
     "data": {
      "text/plain": [
       "{'a', 'b', 'c', 'd'}"
      ]
     },
     "execution_count": 20,
     "metadata": {},
     "output_type": "execute_result"
    }
   ],
   "source": [
    "# Create a dictionary from a set sequence of keys\n",
    "keys = {'a' , 'b' , 'c' , 'd'}\n",
    "keys"
   ]
  },
  {
   "cell_type": "code",
   "execution_count": 21,
   "id": "f4fc6cda-e114-4b21-8b38-6200979fd60b",
   "metadata": {},
   "outputs": [
    {
     "data": {
      "text/plain": [
       "{'b': None, 'c': None, 'a': None, 'd': None}"
      ]
     },
     "execution_count": 21,
     "metadata": {},
     "output_type": "execute_result"
    }
   ],
   "source": [
    "dict.fromkeys(keys)"
   ]
  },
  {
   "cell_type": "code",
   "execution_count": null,
   "id": "96aec19d-4af8-45f8-8869-61f4ff2e7ebc",
   "metadata": {},
   "outputs": [],
   "source": [
    "newdict = dict.fromkeys(keys) \n",
    "newdict"
   ]
  },
  {
   "cell_type": "code",
   "execution_count": 22,
   "id": "fdd8fbad-d1c7-4573-a2cd-dc85d2927775",
   "metadata": {},
   "outputs": [
    {
     "data": {
      "text/plain": [
       "{'b': 10, 'c': 10, 'a': 10, 'd': 10}"
      ]
     },
     "execution_count": 22,
     "metadata": {},
     "output_type": "execute_result"
    }
   ],
   "source": [
    "# Create a dictionary from a sequence of keys with contant values\n",
    "keys = {'a' , 'b' , 'c' , 'd'}\n",
    "value = 10\n",
    "newdict = dict.fromkeys(keys, 10) \n",
    "newdict"
   ]
  },
  {
   "cell_type": "code",
   "execution_count": 25,
   "id": "99ae1697-3926-4fbb-9d82-e8bc5b429d5a",
   "metadata": {},
   "outputs": [
    {
     "name": "stdout",
     "output_type": "stream",
     "text": [
      "{'mango': 100, 'strawberry': 100, 'banana': 100}\n"
     ]
    }
   ],
   "source": [
    "fruits = {'mango', 'banana', 'strawberry'}\n",
    "\n",
    "fruitsnos = dict.fromkeys(fruits, 100)\n",
    "print(fruitsnos)"
   ]
  },
  {
   "cell_type": "code",
   "execution_count": 26,
   "id": "c0310afb-5ddd-4c7c-9281-87d01dc03bdc",
   "metadata": {},
   "outputs": [
    {
     "data": {
      "text/plain": [
       "{'Dog': 13, 'Elephant': 60, 'Tiger': 15}"
      ]
     },
     "execution_count": 26,
     "metadata": {},
     "output_type": "execute_result"
    }
   ],
   "source": [
    "# zipping key value pairs from list\n",
    "# Animals acting as keys\n",
    "keys = ['Dog', 'Elephant', 'Tiger']\n",
    "\n",
    "# lifespan acting as values\n",
    "values = [13, 60, 15]\n",
    "\n",
    "# Zipping the lists into a dictionary\n",
    "zipped = zip(keys, values)\n",
    "\n",
    "lifespan_data = dict(zipped)\n",
    "lifespan_data"
   ]
  },
  {
   "cell_type": "code",
   "execution_count": 28,
   "id": "f36ad095-68d2-4d2d-8010-233a4e0ef628",
   "metadata": {},
   "outputs": [
    {
     "data": {
      "text/plain": [
       "{'Apple': 30, 'Pineapple': 15, 'Kiwi': 20}"
      ]
     },
     "execution_count": 28,
     "metadata": {},
     "output_type": "execute_result"
    }
   ],
   "source": [
    "# Using a List of Tuples\n",
    "pairs = [('Apple', 30),\n",
    "         ('Pineapple', 15),\n",
    "         ('Kiwi', 20)]\n",
    "\n",
    "my_dict = dict(pairs)\n",
    "my_dict"
   ]
  },
  {
   "cell_type": "code",
   "execution_count": null,
   "id": "0a71d22d-4836-4691-a591-fcb829f47c53",
   "metadata": {},
   "outputs": [],
   "source": [
    "# access the value associated with a key"
   ]
  },
  {
   "cell_type": "code",
   "execution_count": 29,
   "id": "e0383920-1cfd-4fb0-845f-c5cdf21a452c",
   "metadata": {},
   "outputs": [
    {
     "data": {
      "text/plain": [
       "{'Brand': 'Apple',\n",
       " 'Product': 'Mobile',\n",
       " 'Model': 'Apple iPhone 15',\n",
       " 'RAM': [64, 128, 256],\n",
       " 'Camera': '12MP',\n",
       " 'Available': True,\n",
       " 'Price': 57999}"
      ]
     },
     "execution_count": 29,
     "metadata": {},
     "output_type": "execute_result"
    }
   ],
   "source": [
    "item"
   ]
  },
  {
   "cell_type": "code",
   "execution_count": 32,
   "id": "01c13157-e4d1-494f-b573-b09c50937949",
   "metadata": {},
   "outputs": [
    {
     "data": {
      "text/plain": [
       "'Apple'"
      ]
     },
     "execution_count": 32,
     "metadata": {},
     "output_type": "execute_result"
    }
   ],
   "source": [
    "item['Brand']"
   ]
  },
  {
   "cell_type": "code",
   "execution_count": 33,
   "id": "e8622e05-c0b3-4bcb-84f1-0a6bd6ffaa2f",
   "metadata": {},
   "outputs": [
    {
     "data": {
      "text/plain": [
       "True"
      ]
     },
     "execution_count": 33,
     "metadata": {},
     "output_type": "execute_result"
    }
   ],
   "source": [
    "item['Available']"
   ]
  },
  {
   "cell_type": "markdown",
   "id": "be83d4e4-1c3d-4ee7-af54-7d9b3ff0ff0f",
   "metadata": {},
   "source": [
    "Why Use Python Dictionaries?\n",
    "Dictionaries are incredibly useful because they provide a way to store and manage data efficiently. Here are a few reasons why you might use a dictionary in your Python programs:\n",
    "\n",
    "- Fast Lookups: Dictionaries allow for quick retrieval of data. When you need to access a value, you provide the key, and Python does the rest.\n",
    "- Flexible Data Management: You can store various data types in a dictionary, which makes it easy to manage complex data structures.\n",
    "- Dynamic Data Handling: You can easily add, update, or remove key-value pairs, which is particularly useful for applications where data changes frequently.\n",
    "Advantages of Using Dictionaries\n",
    "\n",
    "\n",
    "Dictionaries offer several advantages:\n",
    "\n",
    "- Efficiency: The underlying implementation of dictionaries is designed for speed, which means accessing data is very fast.\n",
    "- Readability: Using descriptive keys makes your code more readable and understandable. Instead of using a list where you have to remember the index positions, you can use meaningful keys.\n",
    "- Versatility: Dictionaries can be nested, meaning you can have dictionaries within dictionaries. This flexibility allows for sophisticated data structures."
   ]
  },
  {
   "cell_type": "code",
   "execution_count": 34,
   "id": "64a90991-193d-4d93-86da-0029822d91ec",
   "metadata": {},
   "outputs": [],
   "source": [
    "# Example of Book\n",
    "# https://www.amazon.in/Introduction-Python-Guido-Van-Rossum/dp/1906966133\n",
    "book = {\n",
    "    \"title\": \"An Introduction to Python\",\n",
    "    \"author1\": \"Guido Von Rossum\",\n",
    "    \"author2\": \"Fred L Drake Jr\",\n",
    "    \"year\": 2011,\n",
    "    \"genre\": \"Technology\"\n",
    "}"
   ]
  },
  {
   "cell_type": "code",
   "execution_count": 35,
   "id": "422f70b1-79e5-4ae5-9244-72db0ae14e6f",
   "metadata": {},
   "outputs": [
    {
     "data": {
      "text/plain": [
       "2011"
      ]
     },
     "execution_count": 35,
     "metadata": {},
     "output_type": "execute_result"
    }
   ],
   "source": [
    "book['year']"
   ]
  },
  {
   "cell_type": "code",
   "execution_count": 36,
   "id": "f12665f6-710e-4332-92fe-190f47e98077",
   "metadata": {},
   "outputs": [
    {
     "data": {
      "text/plain": [
       "'An Introduction to Python'"
      ]
     },
     "execution_count": 36,
     "metadata": {},
     "output_type": "execute_result"
    }
   ],
   "source": [
    "# To access a value, you use the key inside square brackets\n",
    "\n",
    "book[\"title\"]"
   ]
  },
  {
   "cell_type": "code",
   "execution_count": 37,
   "id": "028ef328-4405-4e25-b932-8cdee530bc0d",
   "metadata": {},
   "outputs": [
    {
     "data": {
      "text/plain": [
       "'An Introduction to Python'"
      ]
     },
     "execution_count": 37,
     "metadata": {},
     "output_type": "execute_result"
    }
   ],
   "source": [
    "# You can also use the get() method to access values,\n",
    "# which is helpful if you’re not sure whether the key exists.\n",
    "# The get() method returns None if the key isn’t found\n",
    "\n",
    "book.get(\"title\")"
   ]
  },
  {
   "cell_type": "code",
   "execution_count": 38,
   "id": "cd87f1cc-f7be-4a5e-8fbe-dfe81b989b91",
   "metadata": {},
   "outputs": [
    {
     "data": {
      "text/plain": [
       "'Guido Von Rossum'"
      ]
     },
     "execution_count": 38,
     "metadata": {},
     "output_type": "execute_result"
    }
   ],
   "source": [
    "book.get('author1')"
   ]
  },
  {
   "cell_type": "code",
   "execution_count": 42,
   "id": "3315167b-634b-4bf4-adc8-71bc5a0e9977",
   "metadata": {},
   "outputs": [],
   "source": [
    "book.get('author3')"
   ]
  },
  {
   "cell_type": "code",
   "execution_count": 44,
   "id": "d7e1fa44-e2f0-4b4f-8c0e-f12b4e27ea44",
   "metadata": {},
   "outputs": [],
   "source": [
    "book.get(\"publisher\")"
   ]
  },
  {
   "cell_type": "code",
   "execution_count": 45,
   "id": "7432f9b0-c8d8-473c-8d90-ae898287d9a1",
   "metadata": {},
   "outputs": [
    {
     "name": "stdout",
     "output_type": "stream",
     "text": [
      "None\n"
     ]
    }
   ],
   "source": [
    "print(book.get(\"publisher\"))"
   ]
  },
  {
   "cell_type": "code",
   "execution_count": 46,
   "id": "007907d5-3e9f-4f64-9868-68d18340d296",
   "metadata": {},
   "outputs": [
    {
     "data": {
      "text/plain": [
       "{'title': 'An Introduction to Python',\n",
       " 'author1': 'Guido Von Rossum',\n",
       " 'author2': 'Fred L Drake Jr',\n",
       " 'year': 2011,\n",
       " 'genre': 'Technology'}"
      ]
     },
     "execution_count": 46,
     "metadata": {},
     "output_type": "execute_result"
    }
   ],
   "source": [
    "book"
   ]
  },
  {
   "cell_type": "code",
   "execution_count": 47,
   "id": "8f60e6e5-4ed0-42ef-b11b-ced42427bd79",
   "metadata": {},
   "outputs": [],
   "source": [
    "# Adding new Key-Value Pairs in Python Dictionaries\n",
    "\n",
    "book[\"publisher\"] = \"Network Theory Ltd\""
   ]
  },
  {
   "cell_type": "code",
   "execution_count": 48,
   "id": "f30e2cff-8822-4a8d-a380-6c22e95ffc02",
   "metadata": {},
   "outputs": [
    {
     "data": {
      "text/plain": [
       "{'title': 'An Introduction to Python',\n",
       " 'author1': 'Guido Von Rossum',\n",
       " 'author2': 'Fred L Drake Jr',\n",
       " 'year': 2011,\n",
       " 'genre': 'Technology',\n",
       " 'publisher': 'Network Theory Ltd'}"
      ]
     },
     "execution_count": 48,
     "metadata": {},
     "output_type": "execute_result"
    }
   ],
   "source": [
    "book"
   ]
  },
  {
   "cell_type": "code",
   "execution_count": 49,
   "id": "d45b0474-ed41-4194-b978-2d017f3d6150",
   "metadata": {},
   "outputs": [],
   "source": [
    "book[\"Platform\"] = \"Amazon\""
   ]
  },
  {
   "cell_type": "code",
   "execution_count": 50,
   "id": "81b45771-9b09-4fb0-b8bf-9574e23f0ced",
   "metadata": {},
   "outputs": [
    {
     "data": {
      "text/plain": [
       "{'title': 'An Introduction to Python',\n",
       " 'author1': 'Guido Von Rossum',\n",
       " 'author2': 'Fred L Drake Jr',\n",
       " 'year': 2011,\n",
       " 'genre': 'Technology',\n",
       " 'publisher': 'Network Theory Ltd',\n",
       " 'Platform': 'Amazon'}"
      ]
     },
     "execution_count": 50,
     "metadata": {},
     "output_type": "execute_result"
    }
   ],
   "source": [
    "book"
   ]
  },
  {
   "cell_type": "code",
   "execution_count": 51,
   "id": "aa765996-5ca7-4499-9246-416bc0a41b56",
   "metadata": {},
   "outputs": [
    {
     "data": {
      "text/plain": [
       "{'title': 'An Introduction to Python',\n",
       " 'author1': 'Guido Von Rossum',\n",
       " 'author2': 'Fred L Drake Jr',\n",
       " 'year': 2011,\n",
       " 'genre': 'Technology',\n",
       " 'publisher': 'Network Theory Ltd',\n",
       " 'Platform': 'Amazon',\n",
       " 'Price': 499}"
      ]
     },
     "execution_count": 51,
     "metadata": {},
     "output_type": "execute_result"
    }
   ],
   "source": [
    "book[\"Price\"] = 499\n",
    "book"
   ]
  },
  {
   "cell_type": "code",
   "execution_count": 54,
   "id": "bbc0ed61-f420-4686-997c-c0e0e0ab0742",
   "metadata": {},
   "outputs": [],
   "source": [
    "# Updating an existing value\n",
    "\n",
    "book['Price'] = 799"
   ]
  },
  {
   "cell_type": "code",
   "execution_count": 53,
   "id": "7aaf5c1e-4abc-4f05-9cd8-b945ac5f383e",
   "metadata": {},
   "outputs": [
    {
     "data": {
      "text/plain": [
       "{'title': 'An Introduction to Python',\n",
       " 'author1': 'Guido Von Rossum',\n",
       " 'author2': 'Fred L Drake Jr',\n",
       " 'year': 2011,\n",
       " 'genre': 'Technology',\n",
       " 'publisher': 'Network Theory Ltd',\n",
       " 'Platform': 'Amazon',\n",
       " 'Price': 799}"
      ]
     },
     "execution_count": 53,
     "metadata": {},
     "output_type": "execute_result"
    }
   ],
   "source": [
    "book"
   ]
  },
  {
   "cell_type": "code",
   "execution_count": 55,
   "id": "87a36631-6e28-4103-8d12-f59790e95251",
   "metadata": {},
   "outputs": [],
   "source": [
    "book['price'] = 799"
   ]
  },
  {
   "cell_type": "code",
   "execution_count": 56,
   "id": "235f9a79-bfe4-45b3-a32e-9a7bdef28528",
   "metadata": {},
   "outputs": [
    {
     "data": {
      "text/plain": [
       "{'title': 'An Introduction to Python',\n",
       " 'author1': 'Guido Von Rossum',\n",
       " 'author2': 'Fred L Drake Jr',\n",
       " 'year': 2011,\n",
       " 'genre': 'Technology',\n",
       " 'publisher': 'Network Theory Ltd',\n",
       " 'Platform': 'Amazon',\n",
       " 'Price': 799,\n",
       " 'price': 799}"
      ]
     },
     "execution_count": 56,
     "metadata": {},
     "output_type": "execute_result"
    }
   ],
   "source": [
    "book"
   ]
  },
  {
   "cell_type": "code",
   "execution_count": 57,
   "id": "090a0cdd-60b0-4217-95c9-c9fc4bb1744c",
   "metadata": {},
   "outputs": [
    {
     "data": {
      "text/plain": [
       "{'title': 'An Introduction to Python',\n",
       " 'author1': 'Guido Von Rossum',\n",
       " 'author2': 'Fred L Drake Jr',\n",
       " 'year': 2011,\n",
       " 'genre': 'Technology',\n",
       " 'publisher': 'Network Theory Ltd',\n",
       " 'Platform': 'Amazon',\n",
       " 'price': 799}"
      ]
     },
     "execution_count": 57,
     "metadata": {},
     "output_type": "execute_result"
    }
   ],
   "source": [
    "# Removing Key-Value Pairs using pop()\n",
    "book.pop(\"Price\")\n",
    "book"
   ]
  },
  {
   "cell_type": "code",
   "execution_count": 58,
   "id": "bc2b36af-c3c0-4b00-bc06-3c50605b7e88",
   "metadata": {},
   "outputs": [],
   "source": [
    "# Removing Key-Value Pairs using del\n",
    "del book[\"Platform\"]"
   ]
  },
  {
   "cell_type": "code",
   "execution_count": 59,
   "id": "478f2307-99f9-4f16-add1-ec6ade1b5c44",
   "metadata": {},
   "outputs": [
    {
     "data": {
      "text/plain": [
       "{'title': 'An Introduction to Python',\n",
       " 'author1': 'Guido Von Rossum',\n",
       " 'author2': 'Fred L Drake Jr',\n",
       " 'year': 2011,\n",
       " 'genre': 'Technology',\n",
       " 'publisher': 'Network Theory Ltd',\n",
       " 'price': 799}"
      ]
     },
     "execution_count": 59,
     "metadata": {},
     "output_type": "execute_result"
    }
   ],
   "source": [
    "book"
   ]
  },
  {
   "cell_type": "code",
   "execution_count": 60,
   "id": "120f9026-686c-487b-a442-f5e8c3643aa6",
   "metadata": {},
   "outputs": [
    {
     "data": {
      "text/plain": [
       "True"
      ]
     },
     "execution_count": 60,
     "metadata": {},
     "output_type": "execute_result"
    }
   ],
   "source": [
    "# Dictionary Membership : Membership test can be only done for keys\n",
    "'title' in book"
   ]
  },
  {
   "cell_type": "code",
   "execution_count": 61,
   "id": "6490f607-9f3e-4d31-9468-5f4faddeeb11",
   "metadata": {},
   "outputs": [
    {
     "data": {
      "text/plain": [
       "True"
      ]
     },
     "execution_count": 61,
     "metadata": {},
     "output_type": "execute_result"
    }
   ],
   "source": [
    "'price' in book"
   ]
  },
  {
   "cell_type": "code",
   "execution_count": 62,
   "id": "bc99d37d-a9e5-41af-8a4c-8c7745e5e5ec",
   "metadata": {},
   "outputs": [
    {
     "data": {
      "text/plain": [
       "False"
      ]
     },
     "execution_count": 62,
     "metadata": {},
     "output_type": "execute_result"
    }
   ],
   "source": [
    "'platform' in book"
   ]
  },
  {
   "cell_type": "code",
   "execution_count": 63,
   "id": "5b9f6b46-ad74-45e7-8665-a5304dc99737",
   "metadata": {},
   "outputs": [
    {
     "data": {
      "text/plain": [
       "True"
      ]
     },
     "execution_count": 63,
     "metadata": {},
     "output_type": "execute_result"
    }
   ],
   "source": [
    "'platform' not in book"
   ]
  },
  {
   "cell_type": "code",
   "execution_count": 65,
   "id": "e8d1de6a-a6a5-4c03-901a-6b36ba1f07ce",
   "metadata": {},
   "outputs": [],
   "source": [
    "# Nested Dictionary\n",
    "# GeoJSON\n",
    "\n",
    "bangalore_poi = {\n",
    "  \"type\": \"FeatureCollection\",\n",
    "  \"features\": [\n",
    "    {\n",
    "      \"type\": \"Feature\",\n",
    "      \"properties\": {},\n",
    "      \"geometry\": {\n",
    "        \"coordinates\": [\n",
    "          77.59165145318934,\n",
    "          12.9715936848865\n",
    "        ],\n",
    "        \"type\": \"Point\"\n",
    "      }\n",
    "    }\n",
    "  ]\n",
    "}"
   ]
  },
  {
   "cell_type": "code",
   "execution_count": 67,
   "id": "1688b83b-c5ed-4817-b18c-a897ee466dfe",
   "metadata": {},
   "outputs": [
    {
     "data": {
      "text/plain": [
       "dict"
      ]
     },
     "execution_count": 67,
     "metadata": {},
     "output_type": "execute_result"
    }
   ],
   "source": [
    "type(bangalore_poi)"
   ]
  },
  {
   "cell_type": "code",
   "execution_count": 70,
   "id": "9a57a2d5-ec62-4634-916f-d2e4ac2d965f",
   "metadata": {},
   "outputs": [
    {
     "data": {
      "text/plain": [
       "[{'type': 'Feature',\n",
       "  'properties': {},\n",
       "  'geometry': {'coordinates': [77.59165145318934, 12.9715936848865],\n",
       "   'type': 'Point'}}]"
      ]
     },
     "execution_count": 70,
     "metadata": {},
     "output_type": "execute_result"
    }
   ],
   "source": [
    "bangalore_poi[\"features\"]"
   ]
  },
  {
   "cell_type": "code",
   "execution_count": 71,
   "id": "ecf9af19-0c30-4aa0-9f98-5d036a6f7b75",
   "metadata": {},
   "outputs": [
    {
     "data": {
      "text/plain": [
       "{'type': 'Feature',\n",
       " 'properties': {},\n",
       " 'geometry': {'coordinates': [77.59165145318934, 12.9715936848865],\n",
       "  'type': 'Point'}}"
      ]
     },
     "execution_count": 71,
     "metadata": {},
     "output_type": "execute_result"
    }
   ],
   "source": [
    "bangalore_poi[\"features\"][0]"
   ]
  },
  {
   "cell_type": "code",
   "execution_count": 72,
   "id": "09f739cb-51a1-4b3c-966e-44103bcba114",
   "metadata": {},
   "outputs": [
    {
     "data": {
      "text/plain": [
       "{'coordinates': [77.59165145318934, 12.9715936848865], 'type': 'Point'}"
      ]
     },
     "execution_count": 72,
     "metadata": {},
     "output_type": "execute_result"
    }
   ],
   "source": [
    "bangalore_poi[\"features\"][0]['geometry']"
   ]
  },
  {
   "cell_type": "code",
   "execution_count": 73,
   "id": "feb8f953-cc20-4b9a-bc86-855531e8d4d5",
   "metadata": {},
   "outputs": [
    {
     "data": {
      "text/plain": [
       "[77.59165145318934, 12.9715936848865]"
      ]
     },
     "execution_count": 73,
     "metadata": {},
     "output_type": "execute_result"
    }
   ],
   "source": [
    "bangalore_poi[\"features\"][0]['geometry']['coordinates']"
   ]
  },
  {
   "cell_type": "code",
   "execution_count": 74,
   "id": "baaead71-3882-4d96-89ab-4b38100c5ad4",
   "metadata": {},
   "outputs": [],
   "source": [
    "long = bangalore_poi[\"features\"][0]['geometry']['coordinates'][0]\n",
    "lat = bangalore_poi[\"features\"][0]['geometry']['coordinates'][1]"
   ]
  },
  {
   "cell_type": "code",
   "execution_count": 75,
   "id": "27f29375-0817-4908-9d8d-e6eb0c0c45cc",
   "metadata": {},
   "outputs": [
    {
     "data": {
      "text/plain": [
       "77.59165145318934"
      ]
     },
     "execution_count": 75,
     "metadata": {},
     "output_type": "execute_result"
    }
   ],
   "source": [
    "long"
   ]
  },
  {
   "cell_type": "code",
   "execution_count": 76,
   "id": "fc57e5d3-f467-479e-8927-5894ee1cfb57",
   "metadata": {},
   "outputs": [
    {
     "data": {
      "text/plain": [
       "12.9715936848865"
      ]
     },
     "execution_count": 76,
     "metadata": {},
     "output_type": "execute_result"
    }
   ],
   "source": [
    "lat"
   ]
  },
  {
   "cell_type": "code",
   "execution_count": 77,
   "id": "92d36eb6-77fa-421e-ae04-53bbf6493570",
   "metadata": {},
   "outputs": [],
   "source": [
    "# Assignment\n",
    "\n",
    "blr2kolkata = {\n",
    "  \"type\": \"FeatureCollection\",\n",
    "  \"features\": [\n",
    "    {\n",
    "      \"type\": \"Feature\",\n",
    "      \"properties\": {},\n",
    "      \"geometry\": {\n",
    "        \"coordinates\": [\n",
    "          [\n",
    "            77.55623889816843,\n",
    "            13.09275274160997\n",
    "          ],\n",
    "          [\n",
    "            88.24399047430285,\n",
    "            22.57331202459227\n",
    "          ]\n",
    "        ],\n",
    "        \"type\": \"LineString\"\n",
    "      }\n",
    "    }\n",
    "  ]\n",
    "}"
   ]
  },
  {
   "cell_type": "code",
   "execution_count": 78,
   "id": "e255eb04-4c24-4894-bbb3-f5e27e674ade",
   "metadata": {},
   "outputs": [
    {
     "data": {
      "text/plain": [
       "2"
      ]
     },
     "execution_count": 78,
     "metadata": {},
     "output_type": "execute_result"
    }
   ],
   "source": [
    "len(blr2kolkata)"
   ]
  },
  {
   "cell_type": "code",
   "execution_count": 86,
   "id": "404a25c7-1bcb-4056-8f1c-7d3888088b48",
   "metadata": {},
   "outputs": [
    {
     "data": {
      "text/plain": [
       "77.55623889816843"
      ]
     },
     "execution_count": 86,
     "metadata": {},
     "output_type": "execute_result"
    }
   ],
   "source": [
    "blr2kolkata['features'][0]['geometry']['coordinates'][0][0]\n"
   ]
  },
  {
   "cell_type": "code",
   "execution_count": 87,
   "id": "a8aa8c9e-31f6-407b-8c1e-7a24668799ef",
   "metadata": {},
   "outputs": [
    {
     "data": {
      "text/plain": [
       "13.09275274160997"
      ]
     },
     "execution_count": 87,
     "metadata": {},
     "output_type": "execute_result"
    }
   ],
   "source": [
    "blr2kolkata['features'][0]['geometry']['coordinates'][0][1]\n"
   ]
  },
  {
   "cell_type": "code",
   "execution_count": 88,
   "id": "d41c6182-9f3d-44f4-bb95-00b46b435ba3",
   "metadata": {},
   "outputs": [
    {
     "data": {
      "text/plain": [
       "88.24399047430285"
      ]
     },
     "execution_count": 88,
     "metadata": {},
     "output_type": "execute_result"
    }
   ],
   "source": [
    "blr2kolkata['features'][0]['geometry']['coordinates'][1][0]\n"
   ]
  },
  {
   "cell_type": "code",
   "execution_count": 89,
   "id": "24781b48-9f3c-4892-a187-5dd17040a925",
   "metadata": {},
   "outputs": [
    {
     "data": {
      "text/plain": [
       "22.57331202459227"
      ]
     },
     "execution_count": 89,
     "metadata": {},
     "output_type": "execute_result"
    }
   ],
   "source": [
    "blr2kolkata['features'][0]['geometry']['coordinates'][1][1]"
   ]
  },
  {
   "cell_type": "code",
   "execution_count": 90,
   "id": "2cbbb0ba-7bcb-44ee-bebf-5eebd91ed462",
   "metadata": {},
   "outputs": [
    {
     "data": {
      "text/plain": [
       "['__class__',\n",
       " '__class_getitem__',\n",
       " '__contains__',\n",
       " '__delattr__',\n",
       " '__delitem__',\n",
       " '__dir__',\n",
       " '__doc__',\n",
       " '__eq__',\n",
       " '__format__',\n",
       " '__ge__',\n",
       " '__getattribute__',\n",
       " '__getitem__',\n",
       " '__getstate__',\n",
       " '__gt__',\n",
       " '__hash__',\n",
       " '__init__',\n",
       " '__init_subclass__',\n",
       " '__ior__',\n",
       " '__iter__',\n",
       " '__le__',\n",
       " '__len__',\n",
       " '__lt__',\n",
       " '__ne__',\n",
       " '__new__',\n",
       " '__or__',\n",
       " '__reduce__',\n",
       " '__reduce_ex__',\n",
       " '__repr__',\n",
       " '__reversed__',\n",
       " '__ror__',\n",
       " '__setattr__',\n",
       " '__setitem__',\n",
       " '__sizeof__',\n",
       " '__str__',\n",
       " '__subclasshook__',\n",
       " 'clear',\n",
       " 'copy',\n",
       " 'fromkeys',\n",
       " 'get',\n",
       " 'items',\n",
       " 'keys',\n",
       " 'pop',\n",
       " 'popitem',\n",
       " 'setdefault',\n",
       " 'update',\n",
       " 'values']"
      ]
     },
     "execution_count": 90,
     "metadata": {},
     "output_type": "execute_result"
    }
   ],
   "source": [
    "dir(book)"
   ]
  },
  {
   "cell_type": "code",
   "execution_count": 91,
   "id": "9c731bfc-ba45-4188-a042-73ebb72ec70d",
   "metadata": {},
   "outputs": [
    {
     "data": {
      "text/plain": [
       "['clear',\n",
       " 'copy',\n",
       " 'fromkeys',\n",
       " 'get',\n",
       " 'items',\n",
       " 'keys',\n",
       " 'pop',\n",
       " 'popitem',\n",
       " 'setdefault',\n",
       " 'update',\n",
       " 'values']"
      ]
     },
     "execution_count": 91,
     "metadata": {},
     "output_type": "execute_result"
    }
   ],
   "source": [
    "# Dictionary methods\n",
    "\n",
    "r = [x for x in dir(book) if not x.startswith('__')]\n",
    "r"
   ]
  },
  {
   "cell_type": "markdown",
   "id": "29988c8a-4663-494f-9658-080c09b37592",
   "metadata": {},
   "source": [
    "#### List of Methods applicable on Dictionaries\n",
    "1. 'clear'\n",
    "2. 'copy'\n",
    "3. 'fromkeys'\n",
    "4. 'get'\n",
    "5. 'items'\n",
    "6. 'keys'\n",
    "7. 'pop'\n",
    "8. 'popitem'\n",
    "9. 'setdefault'\n",
    "10. 'update'\n",
    "11. 'values'"
   ]
  },
  {
   "cell_type": "code",
   "execution_count": 92,
   "id": "ae18a2b1-532a-46a8-b777-dd44a14758b3",
   "metadata": {},
   "outputs": [
    {
     "data": {
      "text/plain": [
       "{'title': 'An Introduction to Python',\n",
       " 'author1': 'Guido Von Rossum',\n",
       " 'author2': 'Fred L Drake Jr',\n",
       " 'year': 2011,\n",
       " 'genre': 'Technology',\n",
       " 'publisher': 'Network Theory Ltd',\n",
       " 'price': 799}"
      ]
     },
     "execution_count": 92,
     "metadata": {},
     "output_type": "execute_result"
    }
   ],
   "source": [
    "book"
   ]
  },
  {
   "cell_type": "code",
   "execution_count": 95,
   "id": "c0e0efae-e22f-4355-9827-3dd9fc111bf1",
   "metadata": {},
   "outputs": [
    {
     "data": {
      "text/plain": [
       "dict_items([('title', 'An Introduction to Python'), ('author1', 'Guido Von Rossum'), ('author2', 'Fred L Drake Jr'), ('year', 2011), ('genre', 'Technology'), ('publisher', 'Network Theory Ltd'), ('price', 799)])"
      ]
     },
     "execution_count": 95,
     "metadata": {},
     "output_type": "execute_result"
    }
   ],
   "source": [
    "book.items()"
   ]
  },
  {
   "cell_type": "code",
   "execution_count": 96,
   "id": "0d1c1990-f7c9-42e5-a405-a754c02d790d",
   "metadata": {},
   "outputs": [
    {
     "data": {
      "text/plain": [
       "dict_keys(['title', 'author1', 'author2', 'year', 'genre', 'publisher', 'price'])"
      ]
     },
     "execution_count": 96,
     "metadata": {},
     "output_type": "execute_result"
    }
   ],
   "source": [
    "# displays all keys in dict\n",
    "book.keys()"
   ]
  },
  {
   "cell_type": "code",
   "execution_count": 97,
   "id": "8212f7ed-1fb6-413f-9d38-5da25666373f",
   "metadata": {},
   "outputs": [
    {
     "data": {
      "text/plain": [
       "dict_values(['An Introduction to Python', 'Guido Von Rossum', 'Fred L Drake Jr', 2011, 'Technology', 'Network Theory Ltd', 799])"
      ]
     },
     "execution_count": 97,
     "metadata": {},
     "output_type": "execute_result"
    }
   ],
   "source": [
    "# displays all keys in dict\n",
    "book.values()"
   ]
  },
  {
   "cell_type": "code",
   "execution_count": 98,
   "id": "646c0312-14ad-4a49-a7c7-0e1bf6c2f400",
   "metadata": {},
   "outputs": [
    {
     "data": {
      "text/plain": [
       "'Technology'"
      ]
     },
     "execution_count": 98,
     "metadata": {},
     "output_type": "execute_result"
    }
   ],
   "source": [
    "# Handling Key Errors with .get()\n",
    "default_value = 'Key Not Found'\n",
    "\n",
    "book.get('genre', default_value)"
   ]
  },
  {
   "cell_type": "code",
   "execution_count": 99,
   "id": "a97181e2-279e-4163-a03f-181568775dd3",
   "metadata": {},
   "outputs": [
    {
     "data": {
      "text/plain": [
       "'Network Theory Ltd'"
      ]
     },
     "execution_count": 99,
     "metadata": {},
     "output_type": "execute_result"
    }
   ],
   "source": [
    "default_value = 'Not Found'\n",
    "\n",
    "book.get('publisher', default_value)"
   ]
  },
  {
   "cell_type": "code",
   "execution_count": 100,
   "id": "bbd2e1c3-7c99-4cf5-8bc9-3c74fde832f6",
   "metadata": {},
   "outputs": [
    {
     "data": {
      "text/plain": [
       "'Not Found'"
      ]
     },
     "execution_count": 100,
     "metadata": {},
     "output_type": "execute_result"
    }
   ],
   "source": [
    "default_value = 'Not Found'\n",
    "\n",
    "book.get('author3', default_value)"
   ]
  },
  {
   "cell_type": "code",
   "execution_count": null,
   "id": "8ebdb50e-cb36-410a-ae97-486359786a5e",
   "metadata": {},
   "outputs": [],
   "source": [
    "#.update() Method\n",
    "# The .update() method allows you to merge two dictionaries or update the values of existing keys.\n",
    "# This is helpful when you want to add new key-value pairs or modify the current ones without replacing the entire dictionary."
   ]
  },
  {
   "cell_type": "code",
   "execution_count": 101,
   "id": "743d7ed7-d19f-4a6f-818e-58753c1292e8",
   "metadata": {},
   "outputs": [],
   "source": [
    "emp_primary_info = {\"name\": \"Vinay\", \"age\": 32}\n",
    "\n",
    "emp_secondary_info = {\"department\": \"IT\", \"location\": \"Bangalore\"}\n"
   ]
  },
  {
   "cell_type": "code",
   "execution_count": 102,
   "id": "32ac9e94-ec79-41c5-a556-4cbe7b98dc3b",
   "metadata": {},
   "outputs": [
    {
     "data": {
      "text/plain": [
       "{'name': 'Vinay', 'age': 32}"
      ]
     },
     "execution_count": 102,
     "metadata": {},
     "output_type": "execute_result"
    }
   ],
   "source": [
    "emp_primary_info"
   ]
  },
  {
   "cell_type": "code",
   "execution_count": 103,
   "id": "f9d260d5-2510-4d7e-94f2-4880a673cc29",
   "metadata": {},
   "outputs": [
    {
     "data": {
      "text/plain": [
       "{'department': 'IT', 'location': 'Bangalore'}"
      ]
     },
     "execution_count": 103,
     "metadata": {},
     "output_type": "execute_result"
    }
   ],
   "source": [
    "emp_secondary_info"
   ]
  },
  {
   "cell_type": "code",
   "execution_count": 104,
   "id": "c61be98e-6db3-4e4a-baa6-797ef44f27de",
   "metadata": {},
   "outputs": [
    {
     "data": {
      "text/plain": [
       "{'name': 'Vinay', 'age': 32, 'department': 'IT', 'location': 'Bangalore'}"
      ]
     },
     "execution_count": 104,
     "metadata": {},
     "output_type": "execute_result"
    }
   ],
   "source": [
    "emp_primary_info.update(emp_secondary_info)\n",
    "emp_primary_info"
   ]
  },
  {
   "cell_type": "code",
   "execution_count": 105,
   "id": "99b005b2-9f4a-4012-be1b-4ef8707ab367",
   "metadata": {},
   "outputs": [],
   "source": [
    "# Clearing Dictionary\n",
    "emp_secondary_info.clear()"
   ]
  },
  {
   "cell_type": "code",
   "execution_count": 106,
   "id": "c11bda1c-cec5-40d3-bceb-1f957501895f",
   "metadata": {},
   "outputs": [
    {
     "data": {
      "text/plain": [
       "{}"
      ]
     },
     "execution_count": 106,
     "metadata": {},
     "output_type": "execute_result"
    }
   ],
   "source": [
    "emp_secondary_info"
   ]
  }
 ],
 "metadata": {
  "kernelspec": {
   "display_name": "Python 3 (ipykernel)",
   "language": "python",
   "name": "python3"
  },
  "language_info": {
   "codemirror_mode": {
    "name": "ipython",
    "version": 3
   },
   "file_extension": ".py",
   "mimetype": "text/x-python",
   "name": "python",
   "nbconvert_exporter": "python",
   "pygments_lexer": "ipython3",
   "version": "3.12.4"
  }
 },
 "nbformat": 4,
 "nbformat_minor": 5
}
